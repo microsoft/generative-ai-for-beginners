{
  "cells": [
    {
      "attachments": {},
      "cell_type": "markdown",
      "metadata": {
        "nteract": {
          "transient": {
            "deleting": false
          }
        }
      },
      "source": [
        "# Chapter 7: Building Chat Applications\n",
        "## Azure OpenAI API Quickstart"
      ]
    },
    {
      "attachments": {},
      "cell_type": "markdown",
      "metadata": {
        "nteract": {
          "transient": {
            "deleting": false
          }
        }
      },
      "source": [
        "## Overview\n",
        "This notebook is adapted from the [Azure OpenAI Samples Repository](https://github.com/Azure/azure-openai-samples?WT.mc_id=academic-105485-koreyst) that includes notebooks that also access the [OpenAI](notebook-openai.ipynb) service.\n",
        "\n",
        "The Python OpenAI API works with Azure OpenAI as well, with a few modifications. Learn more about the differences here: [How to switch between OpenAI and Azure OpenAI endpoints with Python](https://learn.microsoft.com/azure/ai-services/openai/how-to/switching-endpoints?WT.mc_id=academic-109527-jasmineg)\n",
        "\n",
        "For more quickstart examples please refer to the official [Azure OpenAI Quickstart Documentation](https://learn.microsoft.com/azure/cognitive-services/openai/quickstart?pivots=programming-language-studio&WT.mc_id=academic-105485-koreyst)"
      ]
    },
    {
      "attachments": {},
      "cell_type": "markdown",
      "metadata": {
        "nteract": {
          "transient": {
            "deleting": false
          }
        }
      },
      "source": [
        "## Table of Contents  \n",
        "\n",
        "[Overview](#overview)  \n",
        "[Getting started with Azure OpenAI Service](#getting-started-with-azure-openai-service)  \n",
        "[Build your first prompt](#build-your-first-prompt)  \n",
        "\n",
        "[Use Cases](#use-cases)    \n",
        "[1. Summarize Text](#summarize-text)  \n",
        "[2. Classify Text](#classify-text)  \n",
        "[3. Generate New Product Names](#generate-new-product-names)  \n",
        "[4. Fine Tune a Classifier](#fine-tune-a-classifier)  \n",
        "[5. Embeddings](#embeddings)\n",
        "\n",
        "[References](#references)"
      ]
    },
    {
      "attachments": {},
      "cell_type": "markdown",
      "metadata": {
        "nteract": {
          "transient": {
            "deleting": false
          }
        }
      },
      "source": [
        "### Getting started with Azure OpenAI Service\n",
        "\n",
        "New customers will need to [apply for access](https://aka.ms/oai/access?WT.mc_id=academic-105485-koreyst) to Azure OpenAI Service.  \n",
        "After approval is complete, customers can log into the Azure portal, create an Azure OpenAI Service resource, and start experimenting with models via the studio  \n",
        "\n",
        "[Great resource for getting started quickly](https://techcommunity.microsoft.com/blog/educatordeveloperblog/azure-openai-service-is-now-generally-available/3719177?WT.mc_id=academic-105485-koreyst)"
      ]
    },
    {
      "attachments": {},
      "cell_type": "markdown",
      "metadata": {
        "nteract": {
          "transient": {
            "deleting": false
          }
        }
      },
      "source": [
        "### Build your first prompt  \n",
        "This short exercise will provide a basic introduction for submitting prompts to an OpenAI model for a simple task \"summarization\".\n",
        "\n",
        "\n",
        "**Steps**:  \n",
        "1. Install OpenAI library in your python environment  \n",
        "2. Load standard helper libraries and set your typical OpenAI security credentials for the OpenAI Service that you've created  \n",
        "3. Choose a model for your task  \n",
        "4. Create a simple prompt for the model  \n",
        "5. Submit your request to the model API!"
      ]
    },
    {
      "attachments": {},
      "cell_type": "markdown",
      "metadata": {
        "nteract": {
          "transient": {
            "deleting": false
          }
        }
      },
      "source": [
        "### 1. Install OpenAI"
      ]
    },
    {
      "cell_type": "markdown",
      "metadata": {},
      "source": [
        "  > [!NOTE] This step is not necessary if run this notebook on Codespaces or within a Devcontainer"
      ]
    },
    {
      "cell_type": "code",
      "execution_count": 7,
      "metadata": {
        "gather": {
          "logged": 1674254990318
        },
        "jupyter": {
          "outputs_hidden": true,
          "source_hidden": false
        },
        "nteract": {
          "transient": {
            "deleting": false
          }
        }
      },
      "outputs": [
        {
          "name": "stdout",
          "output_type": "stream",
          "text": [
            "Collecting openai==1.2.0\n",
            "  Downloading openai-1.2.0-py3-none-any.whl.metadata (16 kB)\n",
            "Requirement already satisfied: python-dotenv in /usr/local/python/3.10.13/lib/python3.10/site-packages (1.0.0)\n",
            "Collecting anyio<4,>=3.5.0 (from openai==1.2.0)\n",
            "  Downloading anyio-3.7.1-py3-none-any.whl.metadata (4.7 kB)\n",
            "Requirement already satisfied: distro<2,>=1.7.0 in /usr/local/python/3.10.13/lib/python3.10/site-packages (from openai==1.2.0) (1.9.0)\n",
            "Requirement already satisfied: httpx<1,>=0.23.0 in /home/codespace/.local/lib/python3.10/site-packages (from openai==1.2.0) (0.27.0)\n",
            "Requirement already satisfied: pydantic<3,>=1.9.0 in /usr/local/python/3.10.13/lib/python3.10/site-packages (from openai==1.2.0) (2.7.2)\n",
            "Requirement already satisfied: tqdm>4 in /usr/local/python/3.10.13/lib/python3.10/site-packages (from openai==1.2.0) (4.64.0)\n",
            "Requirement already satisfied: typing-extensions<5,>=4.5 in /home/codespace/.local/lib/python3.10/site-packages (from openai==1.2.0) (4.11.0)\n",
            "Requirement already satisfied: idna>=2.8 in /home/codespace/.local/lib/python3.10/site-packages (from anyio<4,>=3.5.0->openai==1.2.0) (3.7)\n",
            "Requirement already satisfied: sniffio>=1.1 in /home/codespace/.local/lib/python3.10/site-packages (from anyio<4,>=3.5.0->openai==1.2.0) (1.3.1)\n",
            "Requirement already satisfied: exceptiongroup in /home/codespace/.local/lib/python3.10/site-packages (from anyio<4,>=3.5.0->openai==1.2.0) (1.2.1)\n",
            "Requirement already satisfied: certifi in /home/codespace/.local/lib/python3.10/site-packages (from httpx<1,>=0.23.0->openai==1.2.0) (2024.2.2)\n",
            "Requirement already satisfied: httpcore==1.* in /home/codespace/.local/lib/python3.10/site-packages (from httpx<1,>=0.23.0->openai==1.2.0) (1.0.5)\n",
            "Requirement already satisfied: h11<0.15,>=0.13 in /home/codespace/.local/lib/python3.10/site-packages (from httpcore==1.*->httpx<1,>=0.23.0->openai==1.2.0) (0.14.0)\n",
            "Requirement already satisfied: annotated-types>=0.4.0 in /usr/local/python/3.10.13/lib/python3.10/site-packages (from pydantic<3,>=1.9.0->openai==1.2.0) (0.7.0)\n",
            "Requirement already satisfied: pydantic-core==2.18.3 in /usr/local/python/3.10.13/lib/python3.10/site-packages (from pydantic<3,>=1.9.0->openai==1.2.0) (2.18.3)\n",
            "Downloading openai-1.2.0-py3-none-any.whl (219 kB)\n",
            "\u001b[2K   \u001b[90m━━━━━━━━━━━━━━━━━━━━━━━━━━━━━━━━━━━━━━━━\u001b[0m \u001b[32m219.9/219.9 kB\u001b[0m \u001b[31m1.3 MB/s\u001b[0m eta \u001b[36m0:00:00\u001b[0m00:01\u001b[0m00:01\u001b[0mm\n",
            "\u001b[?25hDownloading anyio-3.7.1-py3-none-any.whl (80 kB)\n",
            "\u001b[2K   \u001b[90m━━━━━━━━━━━━━━━━━━━━━━━━━━━━━━━━━━━━━━━━\u001b[0m \u001b[32m80.9/80.9 kB\u001b[0m \u001b[31m1.9 MB/s\u001b[0m eta \u001b[36m0:00:00\u001b[0mta \u001b[36m0:00:01\u001b[0m\n",
            "\u001b[?25hInstalling collected packages: anyio, openai\n",
            "  Attempting uninstall: anyio\n",
            "    Found existing installation: anyio 4.3.0\n",
            "    Uninstalling anyio-4.3.0:\n",
            "      Successfully uninstalled anyio-4.3.0\n",
            "  Attempting uninstall: openai\n",
            "    Found existing installation: openai 0.28.1\n",
            "    Uninstalling openai-0.28.1:\n",
            "      Successfully uninstalled openai-0.28.1\n",
            "Successfully installed anyio-3.7.1 openai-1.2.0\n",
            "Note: you may need to restart the kernel to use updated packages.\n"
          ]
        }
      ],
      "source": [
        "%pip install openai==1.2.0 python-dotenv"
      ]
    },
    {
      "cell_type": "code",
      "execution_count": 1,
      "metadata": {},
      "outputs": [
        {
          "name": "stdout",
          "output_type": "stream",
          "text": [
            "1.2.0\n"
          ]
        }
      ],
      "source": [
        "import openai\n",
        "print(openai.VERSION)\n"
      ]
    },
    {
      "attachments": {},
      "cell_type": "markdown",
      "metadata": {
        "nteract": {
          "transient": {
            "deleting": false
          }
        }
      },
      "source": [
        "### 2. Import helper libraries and instantiate credentials"
      ]
    },
    {
      "cell_type": "code",
      "execution_count": 2,
      "metadata": {
        "gather": {
          "logged": 1674829434433
        },
        "jupyter": {
          "outputs_hidden": false,
          "source_hidden": false
        },
        "nteract": {
          "transient": {
            "deleting": false
          }
        }
      },
      "outputs": [],
      "source": [
        "import os\n",
        "from openai import AzureOpenAI\n",
        "\n",
        "import numpy as np\n",
        "from dotenv import load_dotenv\n",
        "load_dotenv()\n",
        "\n",
        "#validate data inside .env file\n",
        "\n",
        "client = AzureOpenAI(\n",
<<<<<<< HEAD
        "  api_key=os.environ['AZURE_OPENAI_API_KEY'],  # this is also the default, it can be omitted\n",
        "  api_version = \"2023-05-15\"\n",
=======
        "  api_key=os.environ['AZURE_OPENAI_KEY'],  # this is also the default, it can be omitted\n",
        "  api_version = \"2023-05-15\",\n",
        "  azure_endpoint=\"https://nsf-openai-dev.openai.azure.com/\"\n",
>>>>>>> main
        "  )"
      ]
    },
    {
      "attachments": {},
      "cell_type": "markdown",
      "metadata": {
        "nteract": {
          "transient": {
            "deleting": false
          }
        }
      },
      "source": [
        "### 3. Finding the right model  \n",
        "The GPT-3.5-turbo or GPT-4 models can understand and generate natural language. The service offers four model capabilities, each with different levels of power and speed suitable for different tasks. \n",
        "\n",
        "[Azure OpenAI models](https://learn.microsoft.com/azure/cognitive-services/openai/concepts/models?WT.mc_id=academic-105485-koreyst)\n"
      ]
    },
    {
      "cell_type": "code",
      "execution_count": 3,
      "metadata": {
        "gather": {
          "logged": 1674742720788
        },
        "jupyter": {
          "outputs_hidden": true,
          "source_hidden": false
        },
        "nteract": {
          "transient": {
            "deleting": false
          }
        }
      },
      "outputs": [
        {
          "data": {
            "text/plain": [
              "'nsf-gpt3turbo-model'"
            ]
          },
          "execution_count": 3,
          "metadata": {},
          "output_type": "execute_result"
        }
      ],
      "source": [
        "# Select the General Purpose curie model for text\n",
        "model = os.environ['AZURE_OPENAI_DEPLOYMENT']\n",
        "model"
      ]
    },
    {
      "attachments": {},
      "cell_type": "markdown",
      "metadata": {
        "nteract": {
          "transient": {
            "deleting": false
          }
        }
      },
      "source": [
        "## 4. Prompt Design  \n",
        "\n",
        "\"The magic of large language models is that by being trained to minimize this prediction error over vast quantities of text, the models end up learning concepts useful for these predictions. For example, they learn concepts like\"(1):\n",
        "\n",
        "* how to spell\n",
        "* how grammar works\n",
        "* how to paraphrase\n",
        "* how to answer questions\n",
        "* how to hold a conversation\n",
        "* how to write in many languages\n",
        "* how to code\n",
        "* etc.\n",
        "\n",
        "#### How to control a large language model  \n",
        "\"Of all the inputs to a large language model, by far the most influential is the text prompt(1).\n",
        "\n",
        "Large language models can be prompted to produce output in a few ways:\n",
        "\n",
        "- Instruction: Tell the model what you want\n",
        "- Completion: Induce the model to complete the beginning of what you want\n",
        "- Demonstration: Show the model what you want, with either:\n",
        "- A few examples in the prompt\n",
        "- Many hundreds or thousands of examples in a fine-tuning training dataset\n",
        "\n",
        "\n",
        "\n",
        "#### There are three basic guidelines to creating prompts:\n",
        "\n",
        "**Show and tell**. Make it clear what you want either through instructions, examples, or a combination of the two. If you want the model to rank a list of items in alphabetical order or to classify a paragraph by sentiment, show it that's what you want.\n",
        "\n",
        "**Provide quality data**. If you're trying to build a classifier or get the model to follow a pattern, make sure that there are enough examples. Be sure to proofread your examples — the model is usually smart enough to see through basic spelling mistakes and give you a response, but it also might assume this is intentional and it can affect the response.\n",
        "\n",
        "**Check your settings.** The temperature and top_p settings control how deterministic the model is in generating a response. If you're asking it for a response where there's only one right answer, then you'd want to set these lower. If you're looking for more diverse responses, then you might want to set them higher. The number one mistake people make with these settings is assuming that they're \"cleverness\" or \"creativity\" controls.\n",
        "\n",
        "\n",
        "Source: https://learn.microsoft.com/azure/ai-services/openai/overview"
      ]
    },
    {
      "attachments": {},
      "cell_type": "markdown",
      "metadata": {
        "nteract": {
          "transient": {
            "deleting": false
          }
        }
      },
      "source": [
        "image is creating your first text prompt!"
      ]
    },
    {
      "attachments": {},
      "cell_type": "markdown",
      "metadata": {
        "nteract": {
          "transient": {
            "deleting": false
          }
        }
      },
      "source": [
        "### 5. Submit!"
      ]
    },
    {
      "cell_type": "code",
      "execution_count": 4,
      "metadata": {
        "gather": {
          "logged": 1674494935186
        },
        "jupyter": {
          "outputs_hidden": false,
          "source_hidden": false
        },
        "nteract": {
          "transient": {
            "deleting": false
          }
        }
      },
      "outputs": [
        {
          "data": {
            "text/plain": [
              "'\\nAs an AI language model, I cannot have personal preferences but I can provide an objective response to your query. The decision to use an Oxford comma (also known as a serial comma) is often a matter of style. Some writing styles require its use, while others discourage it. The Oxford comma is the final comma in a list of three or more items before the conjunction and (or nor). Using the Oxford comma helps to clarify the meaning of a sentence by preventing ambiguity. In general, it is a good practice to use the Oxford comma to avoid confusion and ensure clarity in writing, particularly for formal writing or when listing complex items. However, the most important thing is to be consistent in your usage throughout your writing.\\n\\n'"
            ]
          },
          "execution_count": 4,
          "metadata": {},
          "output_type": "execute_result"
        }
      ],
      "source": [
        "# Create your first prompt\n",
        "text_prompt = \"Should oxford commas always be used?\"\n",
        "\n",
        "response = client.chat.completions.create(\n",
        "  model=model,\n",
        "  messages = [{\"role\":\"system\", \"content\":\"You are a helpful assistant.\"},\n",
        "               {\"role\":\"user\",\"content\":text_prompt},])\n",
        "f\"\"\"\n",
        "{response.choices[0].message.content}\n",
        "\n",
        "\"\"\""
      ]
    },
    {
      "attachments": {},
      "cell_type": "markdown",
      "metadata": {
        "nteract": {
          "transient": {
            "deleting": false
          }
        }
      },
      "source": [
        "### Repeat the same call, how do the results compare?"
      ]
    },
    {
      "cell_type": "code",
      "execution_count": 5,
      "metadata": {
        "gather": {
          "logged": 1674494940872
        },
        "jupyter": {
          "outputs_hidden": false,
          "source_hidden": false
        },
        "nteract": {
          "transient": {
            "deleting": false
          }
        }
      },
      "outputs": [
        {
          "data": {
            "text/plain": [
              "'Although the use of Oxford commas is a matter of preference in some cases, it is generally recommended to use them for clarity and to avoid confusion in a sentence. The Oxford comma is the comma used after the penultimate item in a list of three or more items: for example, \"I like apples, oranges, and bananas.\" Using the Oxford comma helps to make the relationship between the items in the list clear and can prevent misinterpretation.'"
            ]
          },
          "execution_count": 5,
          "metadata": {},
          "output_type": "execute_result"
        }
      ],
      "source": [
        "\n",
        "response = client.chat.completions.create(\n",
        "  model=model,\n",
        "  messages = [{\"role\":\"system\", \"content\":\"You are a helpful assistant.\"},\n",
        "               {\"role\":\"user\",\"content\":text_prompt},])\n",
        "\n",
        "response.choices[0].message.content"
      ]
    },
    {
      "attachments": {},
      "cell_type": "markdown",
      "metadata": {
        "nteract": {
          "transient": {
            "deleting": false
          }
        }
      },
      "source": [
        "## Summarize Text  \n",
        "#### Challenge  \n",
        "Summarize text by adding a 'tl;dr:' to the end of a text passage. Notice how the model understands how to perform a number of tasks with no additional instructions. You can experiment with more descriptive prompts than tl;dr to modify the model’s behavior and customize the summarization you receive(3).  \n",
        "\n",
        "Recent work has demonstrated substantial gains on many NLP tasks and benchmarks by pre-training on a large corpus of text followed by fine-tuning on a specific task. While typically task-agnostic in architecture, this method still requires task-specific fine-tuning datasets of thousands or tens of thousands of examples. By contrast, humans can generally perform a new language task from only a few examples or from simple instructions - something that current NLP systems still largely struggle to do. Here we show that scaling up language models greatly improves task-agnostic, few-shot performance, sometimes even reaching competitiveness with prior state-of-the-art fine-tuning approaches. \n",
        "\n",
        "\n",
        "\n",
        "Tl;dr"
      ]
    },
    {
      "attachments": {},
      "cell_type": "markdown",
      "metadata": {
        "nteract": {
          "transient": {
            "deleting": false
          }
        }
      },
      "source": [
        "# Exercises for several use cases  \n",
        "1. Summarize Text  \n",
        "2. Classify Text  \n",
        "3. Generate New Product Names\n",
        "4. Embeddings\n",
        "5. Fine tune a classifier"
      ]
    },
    {
      "cell_type": "code",
      "execution_count": 6,
      "metadata": {
        "gather": {
          "logged": 1674495198534
        },
        "jupyter": {
          "outputs_hidden": false,
          "source_hidden": false
        },
        "nteract": {
          "transient": {
            "deleting": false
          }
        }
      },
      "outputs": [],
      "source": [
        "prompt = \"Recent work has demonstrated substantial gains on many NLP tasks and benchmarks by pre-training on a large corpus of text followed by fine-tuning on a specific task. While typically task-agnostic in architecture, this method still requires task-specific fine-tuning datasets of thousands or tens of thousands of examples. By contrast, humans can generally perform a new language task from only a few examples or from simple instructions - something that current NLP systems still largely struggle to do. Here we show that scaling up language models greatly improves task-agnostic, few-shot performance, sometimes even reaching competitiveness with prior state-of-the-art fine-tuning approaches.\\n\\ntl;dr\"\n"
      ]
    },
    {
      "cell_type": "code",
      "execution_count": 7,
      "metadata": {
        "gather": {
          "logged": 1674495201868
        },
        "jupyter": {
          "outputs_hidden": false,
          "source_hidden": false
        },
        "nteract": {
          "transient": {
            "deleting": false
          }
        }
      },
      "outputs": [
        {
          "data": {
            "text/plain": [
              "'By pre-training language models on large amounts of text and then fine-tuning them on specific tasks, NLP systems can achieve impressive results. However, they still require task-specific datasets with thousands of examples. Humans can perform a new language task with just a few examples or instructions, whereas NLP systems struggle with this. Scaling up language models can greatly improve their ability to perform few-shot tasks without fine-tuning, sometimes even reaching state-of-the-art levels.'"
            ]
          },
          "execution_count": 7,
          "metadata": {},
          "output_type": "execute_result"
        }
      ],
      "source": [
        "#Setting a few additional, typical parameters during API Call\n",
        "\n",
        "response = client.chat.completions.create(\n",
        "  model=model,\n",
        "  messages = [{\"role\":\"system\", \"content\":\"You are a helpful assistant.\"},\n",
        "               {\"role\":\"user\",\"content\":prompt},])\n",
        "\n",
        "response.choices[0].message.content"
      ]
    },
    {
      "attachments": {},
      "cell_type": "markdown",
      "metadata": {
        "nteract": {
          "transient": {
            "deleting": false
          }
        }
      },
      "source": [
        "## Classify Text  \n",
        "#### Challenge  \n",
        "Classify items into categories provided at inference time. In the following example, we provide both the categories and the text to classify in the prompt(*playground_reference). \n",
        "\n",
        "Customer Inquiry: Hello, one of the keys on my laptop keyboard broke recently and I'll need a replacement:\n",
        "\n",
        "Classified category:\n"
      ]
    },
    {
      "cell_type": "code",
      "execution_count": 8,
      "metadata": {
        "gather": {
          "logged": 1674499424645
        },
        "jupyter": {
          "outputs_hidden": false,
          "source_hidden": false
        },
        "nteract": {
          "transient": {
            "deleting": false
          }
        }
      },
      "outputs": [
        {
          "name": "stdout",
          "output_type": "stream",
          "text": [
            "Classify the following inquiry into one of the following: categories: [Pricing, Hardware Support, Software Support]\n",
            "\n",
            "inquiry: Hello, one of the keys on my laptop keyboard broke recently and I'll need a replacement:\n",
            "\n",
            "Classified category:\n"
          ]
        }
      ],
      "source": [
        "prompt = \"Classify the following inquiry into one of the following: categories: [Pricing, Hardware Support, Software Support]\\n\\ninquiry: Hello, one of the keys on my laptop keyboard broke recently and I'll need a replacement:\\n\\nClassified category:\"\n",
        "print(prompt)"
      ]
    },
    {
      "cell_type": "code",
      "execution_count": 9,
      "metadata": {
        "gather": {
          "logged": 1674499378518
        },
        "jupyter": {
          "outputs_hidden": false,
          "source_hidden": false
        },
        "nteract": {
          "transient": {
            "deleting": false
          }
        }
      },
      "outputs": [
        {
          "data": {
            "text/plain": [
              "'Hardware Support.'"
            ]
          },
          "execution_count": 9,
          "metadata": {},
          "output_type": "execute_result"
        }
      ],
      "source": [
        "#Setting a few additional, typical parameters during API Call\n",
        "\n",
        "response = client.chat.completions.create(\n",
        "  model=model,\n",
        "  messages = [{\"role\":\"system\", \"content\":\"You are a helpful assistant.\"},\n",
        "               {\"role\":\"user\",\"content\":prompt},])\n",
        "\n",
        "response.choices[0].message.content"
      ]
    },
    {
      "attachments": {},
      "cell_type": "markdown",
      "metadata": {
        "nteract": {
          "transient": {
            "deleting": false
          }
        }
      },
      "source": [
        "## Generate New Product Names\n",
        "#### Challenge\n",
        "Create product names from examples words. Here we include in the prompt information about the product we are going to generate names for. We also provide a similar example to show the pattern we wish to receive. We have also set the temperature value high to increase randomness and more innovative responses.\n",
        "\n",
        "Product description: A home milkshake maker\n",
        "Seed words: fast, healthy, compact.\n",
        "Product names: HomeShaker, Fit Shaker, QuickShake, Shake Maker\n",
        "\n",
        "Product description: A pair of shoes that can fit any foot size.\n",
        "Seed words: adaptable, fit, omni-fit."
      ]
    },
    {
      "cell_type": "code",
      "execution_count": 10,
      "metadata": {
        "gather": {
          "logged": 1674257087279
        },
        "jupyter": {
          "outputs_hidden": false,
          "source_hidden": false
        },
        "nteract": {
          "transient": {
            "deleting": false
          }
        }
      },
      "outputs": [
        {
          "name": "stdout",
          "output_type": "stream",
          "text": [
            "Product description: A home milkshake maker\n",
            "Seed words: fast, healthy, compact.\n",
            "Product names: HomeShaker, Fit Shaker, QuickShake, Shake Maker\n",
            "\n",
            "Product description: A pair of shoes that can fit any foot size.\n",
            "Seed words: adaptable, fit, omni-fit.\n"
          ]
        }
      ],
      "source": [
        "prompt = \"Product description: A home milkshake maker\\nSeed words: fast, healthy, compact.\\nProduct names: HomeShaker, Fit Shaker, QuickShake, Shake Maker\\n\\nProduct description: A pair of shoes that can fit any foot size.\\nSeed words: adaptable, fit, omni-fit.\"\n",
        "\n",
        "print(prompt)"
      ]
    },
    {
      "cell_type": "code",
      "execution_count": 11,
      "metadata": {
        "jupyter": {
          "outputs_hidden": false,
          "source_hidden": false
        },
        "nteract": {
          "transient": {
            "deleting": false
          }
        }
      },
      "outputs": [
        {
          "data": {
            "text/plain": [
              "'Product names: FlexFit Shoes, OmniShoes, Adapt-a-Fit, All-Fit Footwear'"
            ]
          },
          "execution_count": 11,
          "metadata": {},
          "output_type": "execute_result"
        }
      ],
      "source": [
        "#Setting a few additional, typical parameters during API Call\n",
        "\n",
        "response = client.chat.completions.create(\n",
        "  model=model,\n",
        "  messages = [{\"role\":\"system\", \"content\":\"You are a helpful assistant.\"},\n",
        "               {\"role\":\"user\",\"content\":prompt}])\n",
        "\n",
        "response.choices[0].message.content"
      ]
    },
    {
      "attachments": {},
      "cell_type": "markdown",
      "metadata": {
        "nteract": {
          "transient": {
            "deleting": false
          }
        }
      },
      "source": [
        "## Embeddings\n",
        "This section will show how to retrieve embeddings, and find similarities between words, sentences, and documents. In order to run the following noteboooks you need to deploy a model that uses `text-embedding-ada-002` as base model and set his deployment name inside .env file, using the `AZURE_OPENAI_EMBEDDINGS_DEPLOYMENT` variable."
      ]
    },
    {
      "attachments": {},
      "cell_type": "markdown",
      "metadata": {
        "nteract": {
          "transient": {
            "deleting": false
          }
        }
      },
      "source": [
        "### Model Taxonomy - Choosing an embedding model\n",
        "\n",
        "**Model taxonomy**: {family} - {capability} - {input-type} - {identifier}  \n",
        "\n",
        "{family}     --> text-embedding  (embeddings family)  \n",
        "{capability} --> ada             (all the other embedding models will be retired in 2024)  \n",
        "{input-type} --> n/a             (only specified for search models)  \n",
        "{identifier} --> 002             (version 002)  \n",
        "\n",
        "model = 'text-embedding-ada-002'"
      ]
    },
    {
      "cell_type": "markdown",
      "metadata": {},
      "source": [
        "  > [!NOTE] The following step is not necessary if run this notebook on Codespaces or within a Devcontainer"
      ]
    },
    {
      "cell_type": "code",
      "execution_count": 15,
      "metadata": {},
      "outputs": [
        {
          "name": "stdout",
          "output_type": "stream",
          "text": [
            "Requirement already satisfied: matplotlib in /usr/local/python/3.10.13/lib/python3.10/site-packages (3.7.0)\n",
            "Requirement already satisfied: plotly in /home/codespace/.local/lib/python3.10/site-packages (5.22.0)\n",
            "Requirement already satisfied: scikit-learn in /home/codespace/.local/lib/python3.10/site-packages (1.4.2)\n",
            "Requirement already satisfied: pandas in /usr/local/python/3.10.13/lib/python3.10/site-packages (1.5.3)\n",
            "Requirement already satisfied: contourpy>=1.0.1 in /home/codespace/.local/lib/python3.10/site-packages (from matplotlib) (1.2.1)\n",
            "Requirement already satisfied: cycler>=0.10 in /home/codespace/.local/lib/python3.10/site-packages (from matplotlib) (0.12.1)\n",
            "Requirement already satisfied: fonttools>=4.22.0 in /home/codespace/.local/lib/python3.10/site-packages (from matplotlib) (4.51.0)\n",
            "Requirement already satisfied: kiwisolver>=1.0.1 in /home/codespace/.local/lib/python3.10/site-packages (from matplotlib) (1.4.5)\n",
            "Requirement already satisfied: numpy>=1.20 in /usr/local/python/3.10.13/lib/python3.10/site-packages (from matplotlib) (1.24.2)\n",
            "Requirement already satisfied: packaging>=20.0 in /home/codespace/.local/lib/python3.10/site-packages (from matplotlib) (24.0)\n",
            "Requirement already satisfied: pillow>=6.2.0 in /home/codespace/.local/lib/python3.10/site-packages (from matplotlib) (10.3.0)\n",
            "Requirement already satisfied: pyparsing>=2.3.1 in /home/codespace/.local/lib/python3.10/site-packages (from matplotlib) (3.1.2)\n",
            "Requirement already satisfied: python-dateutil>=2.7 in /home/codespace/.local/lib/python3.10/site-packages (from matplotlib) (2.9.0.post0)\n",
            "Requirement already satisfied: tenacity>=6.2.0 in /home/codespace/.local/lib/python3.10/site-packages (from plotly) (8.3.0)\n",
            "Requirement already satisfied: scipy>=1.6.0 in /home/codespace/.local/lib/python3.10/site-packages (from scikit-learn) (1.13.0)\n",
            "Requirement already satisfied: joblib>=1.2.0 in /home/codespace/.local/lib/python3.10/site-packages (from scikit-learn) (1.4.2)\n",
            "Requirement already satisfied: threadpoolctl>=2.0.0 in /home/codespace/.local/lib/python3.10/site-packages (from scikit-learn) (3.5.0)\n",
            "Requirement already satisfied: pytz>=2020.1 in /home/codespace/.local/lib/python3.10/site-packages (from pandas) (2024.1)\n",
            "Requirement already satisfied: six>=1.5 in /home/codespace/.local/lib/python3.10/site-packages (from python-dateutil>=2.7->matplotlib) (1.16.0)\n",
            "Note: you may need to restart the kernel to use updated packages.\n"
          ]
        }
      ],
      "source": [
        "# Dependencies for embeddings_utils\n",
        "%pip install matplotlib plotly scikit-learn pandas"
      ]
    },
    {
      "cell_type": "code",
      "execution_count": 12,
      "metadata": {
        "gather": {
          "logged": 1674829364153
        },
        "jupyter": {
          "outputs_hidden": false,
          "source_hidden": false
        },
        "nteract": {
          "transient": {
            "deleting": false
          }
        }
      },
      "outputs": [],
      "source": [
        "def cosine_similarity(a, b):\n",
        "    return np.dot(a, b) / (np.linalg.norm(a) * np.linalg.norm(b))"
      ]
    },
    {
      "cell_type": "code",
      "execution_count": 13,
      "metadata": {
        "gather": {
          "logged": 1674829424097
        },
        "jupyter": {
          "outputs_hidden": false,
          "source_hidden": false
        },
        "nteract": {
          "transient": {
            "deleting": false
          }
        }
      },
      "outputs": [
        {
          "data": {
            "text/plain": [
              "[-0.01813471131026745,\n",
              " -0.006933653727173805,\n",
              " 0.012844252400100231,\n",
              " -0.013523953035473824,\n",
              " -0.002865956863388419,\n",
              " 0.020433081313967705,\n",
              " -0.022479193285107613,\n",
              " -0.024104870855808258,\n",
              " -0.012374768033623695,\n",
              " -0.015009486116468906,\n",
              " -0.01082616951316595,\n",
              " 0.043388765305280685,\n",
              " -0.006047239061444998,\n",
              " -0.00970501359552145,\n",
              " 0.0015871375799179077,\n",
              " 0.008037292398512363,\n",
              " 0.03408316522836685,\n",
              " -0.0019918051548302174,\n",
              " 0.015990497544407845,\n",
              " -0.028561469167470932,\n",
              " -0.011884261853992939,\n",
              " 0.004989147651940584,\n",
              " 0.005223889835178852,\n",
              " 0.00925655011087656,\n",
              " -0.013404830358922482,\n",
              " -0.01261301338672638,\n",
              " 0.016452975571155548,\n",
              " -0.027440311387181282,\n",
              " -0.017784349620342255,\n",
              " -0.003997624386101961,\n",
              " 0.024511288851499557,\n",
              " -0.030131088569760323,\n",
              " -0.014701168052852154,\n",
              " -0.010321649722754955,\n",
              " -0.024343116208910942,\n",
              " -0.0019777906127274036,\n",
              " -0.005185349844396114,\n",
              " -0.012521919794380665,\n",
              " 0.030579550191760063,\n",
              " -0.008569842204451561,\n",
              " 0.01246586162596941,\n",
              " 0.008815094828605652,\n",
              " 0.018611202016472816,\n",
              " -0.016172686591744423,\n",
              " -0.013250671327114105,\n",
              " -0.018386971205472946,\n",
              " 0.0026434774044901133,\n",
              " -0.005553229711949825,\n",
              " -0.0010931278811767697,\n",
              " 0.004277913831174374,\n",
              " 0.014210661873221397,\n",
              " 0.01280220877379179,\n",
              " -0.02179248444736004,\n",
              " -0.006040231790393591,\n",
              " -0.013005418702960014,\n",
              " 0.0029885834082961082,\n",
              " -0.019536156207323074,\n",
              " 0.01768624782562256,\n",
              " 0.002820410067215562,\n",
              " 0.0039485739544034,\n",
              " -0.012577977031469345,\n",
              " -0.006460665725171566,\n",
              " -0.008955239318311214,\n",
              " -0.008268531411886215,\n",
              " -0.008590864017605782,\n",
              " -0.010111432522535324,\n",
              " -0.012648049741983414,\n",
              " 0.01608859933912754,\n",
              " -0.0023158893454819918,\n",
              " 0.009375673718750477,\n",
              " 0.004933089483529329,\n",
              " 0.02742629684507847,\n",
              " 0.006099793594330549,\n",
              " -0.000942472368478775,\n",
              " 0.03705422952771187,\n",
              " 0.006702415179461241,\n",
              " -0.0017404207028448582,\n",
              " 0.011744117364287376,\n",
              " 0.00110539048910141,\n",
              " 0.0022650870960205793,\n",
              " 0.020391037687659264,\n",
              " -0.01768624782562256,\n",
              " -0.0003599964256864041,\n",
              " 0.021974671632051468,\n",
              " -0.00072787597309798,\n",
              " -0.006117311306297779,\n",
              " 0.004544188268482685,\n",
              " 0.012143529020249844,\n",
              " -0.01364307664334774,\n",
              " -0.03186888247728348,\n",
              " -0.013551982119679451,\n",
              " 0.014259712770581245,\n",
              " -0.0031550051644444466,\n",
              " 0.029346277937293053,\n",
              " -0.019213823601603508,\n",
              " 0.031028013676404953,\n",
              " 0.004337475169450045,\n",
              " 0.022927654907107353,\n",
              " -0.0019935567397624254,\n",
              " -0.024833621457219124,\n",
              " 0.009550853632390499,\n",
              " 0.02488967962563038,\n",
              " -0.014785254374146461,\n",
              " -0.008590864017605782,\n",
              " -0.029794741421937943,\n",
              " -0.00029080003150738776,\n",
              " 0.02668352983891964,\n",
              " -0.014315770007669926,\n",
              " 0.014827298000454903,\n",
              " 0.007420656271278858,\n",
              " -0.02858949638903141,\n",
              " 0.02168036811053753,\n",
              " -0.0014846568228676915,\n",
              " -0.01642494648694992,\n",
              " -0.005998188629746437,\n",
              " -0.0007226205780170858,\n",
              " 0.0140354810282588,\n",
              " -0.007637880276888609,\n",
              " -0.015261746011674404,\n",
              " -0.010524858720600605,\n",
              " 0.01564013585448265,\n",
              " 0.019718345254659653,\n",
              " 0.027594471350312233,\n",
              " 0.0002916759403888136,\n",
              " 0.025240041315555573,\n",
              " 0.008373639546334743,\n",
              " -0.0033827400766313076,\n",
              " -0.014091539196670055,\n",
              " 0.007196424994617701,\n",
              " -0.006281981244683266,\n",
              " 0.036185335367918015,\n",
              " 0.012984396889805794,\n",
              " 0.018765361979603767,\n",
              " 0.011751124635338783,\n",
              " 0.009354651905596256,\n",
              " 0.014967442490160465,\n",
              " -0.009992309845983982,\n",
              " 0.01362205483019352,\n",
              " -0.04546290636062622,\n",
              " -0.02089555934071541,\n",
              " 0.022367076948285103,\n",
              " 0.027496369555592537,\n",
              " -0.016845380887389183,\n",
              " 0.002501581097021699,\n",
              " 0.00015623932995367795,\n",
              " 0.015205688774585724,\n",
              " -0.009796107187867165,\n",
              " 0.008871152997016907,\n",
              " 0.0067164297215640545,\n",
              " -0.00802327785640955,\n",
              " 0.02194664254784584,\n",
              " -0.011786160059273243,\n",
              " 0.00988720078021288,\n",
              " -0.004456598311662674,\n",
              " 0.0010712302755564451,\n",
              " 0.023712465539574623,\n",
              " -0.012830237857997417,\n",
              " 0.0047719236463308334,\n",
              " 0.013951394706964493,\n",
              " -0.031112099066376686,\n",
              " -0.00044802474440075457,\n",
              " 0.019269881770014763,\n",
              " 0.03388696163892746,\n",
              " -0.0022142846137285233,\n",
              " 0.016887424513697624,\n",
              " 0.03346652910113335,\n",
              " 0.011246603913605213,\n",
              " 0.020671328529715538,\n",
              " 0.002461289521306753,\n",
              " -0.005297465715557337,\n",
              " -0.022871598601341248,\n",
              " 0.03453162685036659,\n",
              " -0.024427203461527824,\n",
              " 0.0008938597165979445,\n",
              " -0.02605287916958332,\n",
              " 0.01041274331510067,\n",
              " 0.01451897993683815,\n",
              " 0.028841758146882057,\n",
              " -0.006937157362699509,\n",
              " -0.012844252400100231,\n",
              " -0.03896019607782364,\n",
              " 0.01210849266499281,\n",
              " 0.005872058682143688,\n",
              " 0.008906189352273941,\n",
              " -0.01824682578444481,\n",
              " -0.004575720988214016,\n",
              " 0.013629062101244926,\n",
              " -0.001046704943291843,\n",
              " -0.0013664098223671317,\n",
              " -0.02858949638903141,\n",
              " 0.016228744760155678,\n",
              " 0.039324574172496796,\n",
              " 0.00020682276226580143,\n",
              " -0.016929466277360916,\n",
              " -0.6906325817108154,\n",
              " -0.014869341626763344,\n",
              " 0.007728974334895611,\n",
              " -0.026641488075256348,\n",
              " 0.04319256544113159,\n",
              " 0.02403479814529419,\n",
              " 0.021372050046920776,\n",
              " 0.0035509136505424976,\n",
              " -0.014813283458352089,\n",
              " 0.011723095551133156,\n",
              " -0.0073225549422204494,\n",
              " -0.008478747680783272,\n",
              " -5.2472107199719176e-05,\n",
              " -0.004565210081636906,\n",
              " 0.010489823296666145,\n",
              " -0.0030884365551173687,\n",
              " -0.0019777906127274036,\n",
              " -0.013608040288090706,\n",
              " -0.0019935567397624254,\n",
              " 0.01039172150194645,\n",
              " -0.026375211775302887,\n",
              " 0.02425902895629406,\n",
              " -0.01125361118465662,\n",
              " 0.02466544881463051,\n",
              " 0.020657313987612724,\n",
              " 0.02008271962404251,\n",
              " 0.004046675283461809,\n",
              " -0.005462135653942823,\n",
              " -0.019788416102528572,\n",
              " 0.02399275451898575,\n",
              " -0.0357648991048336,\n",
              " -0.002913255710154772,\n",
              " -0.001423343550413847,\n",
              " -0.0027871255297213793,\n",
              " 0.052273932844400406,\n",
              " 0.013734170235693455,\n",
              " -0.01907368004322052,\n",
              " 0.003177778562530875,\n",
              " 0.001949761644937098,\n",
              " 0.004225359298288822,\n",
              " -0.025212012231349945,\n",
              " -0.012921331450343132,\n",
              " 0.012921331450343132,\n",
              " -0.021358035504817963,\n",
              " 0.00545863201841712,\n",
              " 0.004870024509727955,\n",
              " 0.004074703902006149,\n",
              " -0.026865718886256218,\n",
              " -0.0008286049123853445,\n",
              " -0.020208850502967834,\n",
              " -0.0037278463132679462,\n",
              " -0.008093350566923618,\n",
              " -0.005283451173454523,\n",
              " 0.012143529020249844,\n",
              " -0.007862111553549767,\n",
              " 0.01043376512825489,\n",
              " 0.04652800410985947,\n",
              " -0.02549230121076107,\n",
              " -0.0046563041396439075,\n",
              " 0.00942472368478775,\n",
              " -0.001559108612127602,\n",
              " 0.0046808295883238316,\n",
              " -0.020405052229762077,\n",
              " -0.028113005682826042,\n",
              " -0.008198458701372147,\n",
              " 0.00651321979239583,\n",
              " -0.020671328529715538,\n",
              " 0.019213823601603508,\n",
              " 0.02086753025650978,\n",
              " -0.022787511348724365,\n",
              " 0.011078430339694023,\n",
              " 0.009838150814175606,\n",
              " -0.02104971744120121,\n",
              " 0.0010151724563911557,\n",
              " 0.00239296886138618,\n",
              " 0.002890482312068343,\n",
              " 0.02620703913271427,\n",
              " -0.012458854354918003,\n",
              " -0.0014934157952666283,\n",
              " 0.027776658535003662,\n",
              " 0.011807181872427464,\n",
              " -0.003994120750576258,\n",
              " -0.028729641810059547,\n",
              " -0.004750901833176613,\n",
              " 0.04052981734275818,\n",
              " -0.012290680781006813,\n",
              " -0.022226933389902115,\n",
              " 0.018162738531827927,\n",
              " 0.01746201701462269,\n",
              " 0.008226487785577774,\n",
              " -0.007101827301084995,\n",
              " 0.011512878350913525,\n",
              " 0.003860983531922102,\n",
              " -0.011127481237053871,\n",
              " -0.001988301519304514,\n",
              " 0.011842218227684498,\n",
              " 0.005844029597938061,\n",
              " 0.007749996148049831,\n",
              " 0.018092667683959007,\n",
              " -9.968879021471366e-05,\n",
              " 0.003014860674738884,\n",
              " 0.002345670247450471,\n",
              " -0.008310574106872082,\n",
              " 0.011071423068642616,\n",
              " -0.00043773287325166166,\n",
              " 0.013201620429754257,\n",
              " 0.005623301956802607,\n",
              " 0.00578446825966239,\n",
              " 0.05101263150572777,\n",
              " -0.025464272126555443,\n",
              " 0.007056280504912138,\n",
              " -0.015850353986024857,\n",
              " -0.01147784199565649,\n",
              " -0.019620243459939957,\n",
              " -0.017532087862491608,\n",
              " -0.025282084941864014,\n",
              " 0.017938507720828056,\n",
              " 0.020797457545995712,\n",
              " -0.010006324388086796,\n",
              " 0.001709764008410275,\n",
              " 0.014617080800235271,\n",
              " 0.015065544284880161,\n",
              " -0.014168618246912956,\n",
              " 0.003437046194449067,\n",
              " 0.014042488299310207,\n",
              " 0.00838064681738615,\n",
              " -0.009186478331685066,\n",
              " -0.023320060223340988,\n",
              " -0.014147596433758736,\n",
              " -0.005787971895188093,\n",
              " 0.0009591145790182054,\n",
              " 0.0037033208645880222,\n",
              " 0.02587069198489189,\n",
              " -0.007721967063844204,\n",
              " 0.02762250043451786,\n",
              " -0.0028992414008826017,\n",
              " 0.026557400822639465,\n",
              " -0.008037292398512363,\n",
              " 0.029009930789470673,\n",
              " -0.012192579917609692,\n",
              " -0.035456582903862,\n",
              " -0.0016291808569803834,\n",
              " 0.007273504510521889,\n",
              " -0.008513784036040306,\n",
              " 0.006758472882211208,\n",
              " -0.025548359379172325,\n",
              " -0.021778469905257225,\n",
              " -0.01089624222368002,\n",
              " -0.018204782158136368,\n",
              " 0.0009214507299475372,\n",
              " -0.01997060514986515,\n",
              " -0.009186478331685066,\n",
              " -0.026627473533153534,\n",
              " 0.0126340351998806,\n",
              " 0.007336569484323263,\n",
              " -0.018765361979603767,\n",
              " -0.008829109370708466,\n",
              " -0.017083626240491867,\n",
              " -0.0008763416553847492,\n",
              " -0.024160927161574364,\n",
              " 0.012893302366137505,\n",
              " 0.004856009967625141,\n",
              " 0.004397036507725716,\n",
              " 0.017868435010313988,\n",
              " -0.01862521655857563,\n",
              " -0.023376118391752243,\n",
              " -0.007357591297477484,\n",
              " 0.013292714953422546,\n",
              " -0.0003599964256864041,\n",
              " -0.024609390646219254,\n",
              " 0.013558989390730858,\n",
              " -0.01160397194325924,\n",
              " 0.004670318681746721,\n",
              " -0.017419973388314247,\n",
              " -0.01334176491945982,\n",
              " 0.014322777278721333,\n",
              " -0.015331818722188473,\n",
              " -0.006457162089645863,\n",
              " 0.01997060514986515,\n",
              " -0.007735981605947018,\n",
              " -0.0029798243194818497,\n",
              " 0.008836116641759872,\n",
              " -0.00888516753911972,\n",
              " 0.0129914041608572,\n",
              " 0.021694382652640343,\n",
              " 0.00035780665348283947,\n",
              " 0.004221856128424406,\n",
              " 0.033606674522161484,\n",
              " -0.007728974334895611,\n",
              " -0.009655962698161602,\n",
              " -0.0029325257055461407,\n",
              " -0.00614884402602911,\n",
              " 0.0030131088569760323,\n",
              " 0.022717438638210297,\n",
              " 0.014175625517964363,\n",
              " 0.013902343809604645,\n",
              " -0.018597187474370003,\n",
              " 0.03537249565124512,\n",
              " 0.011435799300670624,\n",
              " 0.012683086097240448,\n",
              " 0.03287792205810547,\n",
              " -0.010384714230895042,\n",
              " 0.02571653388440609,\n",
              " -0.01451897993683815,\n",
              " 0.0022265473380684853,\n",
              " -0.03489600494503975,\n",
              " -0.001383927883580327,\n",
              " -0.016845380887389183,\n",
              " 0.0073225549422204494,\n",
              " 0.02250722236931324,\n",
              " 0.0038049258291721344,\n",
              " -0.02746834047138691,\n",
              " 0.0004458350013010204,\n",
              " 0.01502350065857172,\n",
              " 0.011204560287296772,\n",
              " 0.012606006115674973,\n",
              " -0.007834082469344139,\n",
              " -0.005003162194043398,\n",
              " -0.006747962441295385,\n",
              " -0.02250722236931324,\n",
              " 0.00988720078021288,\n",
              " -0.012003384530544281,\n",
              " 0.009116405621170998,\n",
              " -0.03940866142511368,\n",
              " -0.024104870855808258,\n",
              " 0.00867495033890009,\n",
              " 0.02497376687824726,\n",
              " 0.018653245642781258,\n",
              " -0.014028473757207394,\n",
              " -0.008850131183862686,\n",
              " 0.007049273233860731,\n",
              " -0.017027568072080612,\n",
              " 0.011968348175287247,\n",
              " -0.000539556669536978,\n",
              " 0.0008176561095751822,\n",
              " 0.0038574798963963985,\n",
              " 0.030243203043937683,\n",
              " -0.012367760762572289,\n",
              " 0.03579292818903923,\n",
              " 0.006684897001832724,\n",
              " -0.02257729321718216,\n",
              " 0.0301591157913208,\n",
              " 0.025744561105966568,\n",
              " -0.02268940955400467,\n",
              " 0.01099434308707714,\n",
              " 0.004859513603150845,\n",
              " 0.030243203043937683,\n",
              " -0.002228299155831337,\n",
              " 0.00044364522909745574,\n",
              " 0.00026671268278732896,\n",
              " 0.004701850935816765,\n",
              " 0.0021547230426222086,\n",
              " -0.02645929902791977,\n",
              " 0.010440772399306297,\n",
              " 0.02470749244093895,\n",
              " -0.00018853828078135848,\n",
              " 0.014406864531338215,\n",
              " 0.005409581121057272,\n",
              " 0.00462827505543828,\n",
              " 0.031364358961582184,\n",
              " 0.026977835223078728,\n",
              " -0.010573909617960453,\n",
              " 0.007038762327283621,\n",
              " 0.007700945250689983,\n",
              " 0.02075541391968727,\n",
              " -0.009431730955839157,\n",
              " -0.00039087203913368285,\n",
              " -0.006457162089645863,\n",
              " -0.013082497753202915,\n",
              " 0.0011544410372152925,\n",
              " 0.003980106674134731,\n",
              " -0.013320744037628174,\n",
              " 0.023334074765443802,\n",
              " -0.011169523932039738,\n",
              " 0.026333170011639595,\n",
              " -0.004393532872200012,\n",
              " 0.014939413405954838,\n",
              " 0.008639913983643055,\n",
              " 0.018457043915987015,\n",
              " 0.005805489607155323,\n",
              " -0.00425338838249445,\n",
              " -0.02926219068467617,\n",
              " 0.03299003839492798,\n",
              " 0.005868555046617985,\n",
              " -0.026305140927433968,\n",
              " -0.012269658967852592,\n",
              " -0.02809899114072323,\n",
              " 0.019830459728837013,\n",
              " 0.006390593480318785,\n",
              " -0.005830015055835247,\n",
              " 0.010216540656983852,\n",
              " 0.0010510844876989722,\n",
              " -0.0036472631618380547,\n",
              " -0.001201739883981645,\n",
              " 0.009747056290507317,\n",
              " 0.012514912523329258,\n",
              " 0.024399174377322197,\n",
              " 0.0036858029197901487,\n",
              " -0.008660935796797276,\n",
              " -0.005598776508122683,\n",
              " -0.004673822317272425,\n",
              " 0.01468715351074934,\n",
              " -0.003307412378489971,\n",
              " -0.011365726590156555,\n",
              " 0.028491396456956863,\n",
              " -0.013860300183296204,\n",
              " 0.0022020218893885612,\n",
              " 0.009410709142684937,\n",
              " -0.0031690197065472603,\n",
              " -0.013047461397945881,\n",
              " 0.008948232047259808,\n",
              " -0.012767172418534756,\n",
              " -0.006418622564524412,\n",
              " -0.005241408012807369,\n",
              " 0.02531011402606964,\n",
              " 0.004400540143251419,\n",
              " -0.0015170652186498046,\n",
              " 0.010517851449549198,\n",
              " 0.027496369555592537,\n",
              " 0.007567808032035828,\n",
              " 0.010489823296666145,\n",
              " -0.028056947514414787,\n",
              " -0.0029868315905332565,\n",
              " 0.024693477898836136,\n",
              " 0.05179744213819504,\n",
              " 0.02385260909795761,\n",
              " -0.0025436244904994965,\n",
              " -0.007427663542330265,\n",
              " 0.003710328135639429,\n",
              " 0.008219480514526367,\n",
              " -0.018751347437500954,\n",
              " -0.03537249565124512,\n",
              " -0.013516945764422417,\n",
              " -0.0037418606225401163,\n",
              " -0.003832954680547118,\n",
              " -0.005738920997828245,\n",
              " 0.004351489711552858,\n",
              " -0.010195518843829632,\n",
              " 0.017630189657211304,\n",
              " 0.0057739573530852795,\n",
              " -0.014392849989235401,\n",
              " 0.0037068245001137257,\n",
              " -0.012683086097240448,\n",
              " -0.030915897339582443,\n",
              " 0.00934764463454485,\n",
              " -0.0017299097962677479,\n",
              " 0.023264002054929733,\n",
              " 0.014659124426543713,\n",
              " 0.01009741798043251,\n",
              " -0.02533814311027527,\n",
              " 0.011302661150693893,\n",
              " 0.019171779975295067,\n",
              " 0.017630189657211304,\n",
              " -0.023908667266368866,\n",
              " -0.011365726590156555,\n",
              " 0.007350584026426077,\n",
              " 0.018050624057650566,\n",
              " 0.013685119338333607,\n",
              " -0.015219703316688538,\n",
              " 0.010854198597371578,\n",
              " 0.005223889835178852,\n",
              " -0.002110928064212203,\n",
              " 0.020096734166145325,\n",
              " -0.02587069198489189,\n",
              " 0.018316898494958878,\n",
              " 0.019241852685809135,\n",
              " 0.007056280504912138,\n",
              " 0.00940370187163353,\n",
              " -0.001332249492406845,\n",
              " -0.021133804693818092,\n",
              " 0.004144776146858931,\n",
              " 0.03139238804578781,\n",
              " -0.014476936310529709,\n",
              " -0.014168618246912956,\n",
              " 0.01821879670023918,\n",
              " -0.0010344423353672028,\n",
              " -0.015163645148277283,\n",
              " -0.022142846137285233,\n",
              " 0.003477337770164013,\n",
              " 0.006278477609157562,\n",
              " -0.018204782158136368,\n",
              " 0.006555263418704271,\n",
              " -0.02892584353685379,\n",
              " -0.03929654508829117,\n",
              " 0.0029080002568662167,\n",
              " -0.04083813354372978,\n",
              " 0.0021214387379586697,\n",
              " -0.01847105659544468,\n",
              " -0.01041274331510067,\n",
              " -0.015177659690380096,\n",
              " -0.00012689655704889446,\n",
              " 0.00562680559232831,\n",
              " -0.018541129305958748,\n",
              " -0.003962588496506214,\n",
              " -0.002957050921395421,\n",
              " -0.0034931038971990347,\n",
              " -0.0045371814630925655,\n",
              " 0.013776213862001896,\n",
              " 0.038651879876852036,\n",
              " 0.0012700604274868965,\n",
              " -0.010230555199086666,\n",
              " -0.009999317117035389,\n",
              " -0.0016721001593396068,\n",
              " 0.011001350358128548,\n",
              " -0.012059442698955536,\n",
              " -0.013243664056062698,\n",
              " 0.006877596024423838,\n",
              " -0.014799268916249275,\n",
              " -0.00349835935048759,\n",
              " 0.009978295303881168,\n",
              " 0.002456034068018198,\n",
              " 0.0034177761990576982,\n",
              " 0.009648955427110195,\n",
              " 0.020811472088098526,\n",
              " 0.013951394706964493,\n",
              " -0.009242535568773746,\n",
              " -0.000253355159657076,\n",
              " -0.019311925396323204,\n",
              " 0.016621148213744164,\n",
              " -0.009193485602736473,\n",
              " 0.021414093673229218,\n",
              " -0.01821879670023918,\n",
              " 0.00297632091678679,\n",
              " -0.018863461911678314,\n",
              " -0.03492403402924538,\n",
              " -0.013769206590950489,\n",
              " 0.0002756906906142831,\n",
              " 0.004383021965622902,\n",
              " 0.013054468668997288,\n",
              " -0.02437114529311657,\n",
              " -0.00833860319107771,\n",
              " 0.03570884093642235,\n",
              " -0.009796107187867165,\n",
              " -0.012549947947263718,\n",
              " 0.007890140637755394,\n",
              " 0.007000222336500883,\n",
              " -0.0030761738307774067,\n",
              " 0.011702073737978935,\n",
              " -0.013208627700805664,\n",
              " 0.009018304757773876,\n",
              " 0.0036963135935366154,\n",
              " 0.02284356951713562,\n",
              " 0.01125361118465662,\n",
              " -0.024104870855808258,\n",
              " 0.01615867204964161,\n",
              " -0.03744663670659065,\n",
              " 0.009557860903441906,\n",
              " 0.021918615326285362,\n",
              " -0.0039030269253998995,\n",
              " 0.0005561988800764084,\n",
              " -0.011716088280081749,\n",
              " -0.028127020224928856,\n",
              " -0.0007121097296476364,\n",
              " -0.003899523289874196,\n",
              " 0.001235024188645184,\n",
              " -0.0004497765621636063,\n",
              " -0.007157885003834963,\n",
              " 0.014631095342338085,\n",
              " -0.028014903888106346,\n",
              " -0.028687598183751106,\n",
              " 6.684240361209959e-05,\n",
              " 0.01125361118465662,\n",
              " -0.022899625822901726,\n",
              " -0.009690999053418636,\n",
              " -0.014631095342338085,\n",
              " 0.014953427948057652,\n",
              " -0.0006288988515734673,\n",
              " -0.005104766692966223,\n",
              " 0.0021845039445906878,\n",
              " -0.03500812128186226,\n",
              " 0.008107365109026432,\n",
              " 0.0039415666833519936,\n",
              " 0.012339731678366661,\n",
              " 0.03593307361006737,\n",
              " 0.006940660998225212,\n",
              " 0.00838064681738615,\n",
              " -0.014133581891655922,\n",
              " -0.015009486116468906,\n",
              " -0.01627078652381897,\n",
              " -0.04019346833229065,\n",
              " -0.010006324388086796,\n",
              " -0.004933089483529329,\n",
              " 0.023165902122855186,\n",
              " 0.004456598311662674,\n",
              " 0.023600349202752113,\n",
              " 0.0010537122143432498,\n",
              " 0.002872964134439826,\n",
              " 0.004579224623739719,\n",
              " -0.009452752768993378,\n",
              " 0.02212883159518242,\n",
              " -0.0017754568252712488,\n",
              " -0.014785254374146461,\n",
              " -0.02134402096271515,\n",
              " 0.0280709620565176,\n",
              " 0.008906189352273941,\n",
              " -0.0031217208597809076,\n",
              " 0.0037453642580658197,\n",
              " -0.02001264877617359,\n",
              " -0.012641042470932007,\n",
              " 0.016074584797024727,\n",
              " -0.0030043497681617737,\n",
              " -0.0007020368357189,\n",
              " 0.012045428156852722,\n",
              " -0.02392268180847168,\n",
              " -0.015219703316688538,\n",
              " 0.0026136967353522778,\n",
              " -0.01723778434097767,\n",
              " -0.0050592198967933655,\n",
              " -0.025029825046658516,\n",
              " -0.012977389618754387,\n",
              " 0.04397737234830856,\n",
              " -0.0025593906175345182,\n",
              " 0.006078771781176329,\n",
              " 0.007588829845190048,\n",
              " 0.020433081313967705,\n",
              " -0.012395788915455341,\n",
              " 0.0036227377131581306,\n",
              " -0.012437832541763783,\n",
              " -0.01347490306943655,\n",
              " -0.019732357934117317,\n",
              " -0.015429919585585594,\n",
              " -0.012171558104455471,\n",
              " -0.004120251163840294,\n",
              " 0.030999984592199326,\n",
              " 0.019241852685809135,\n",
              " 0.006187384016811848,\n",
              " -0.00944574549794197,\n",
              " 0.003130479948595166,\n",
              " -0.00833860319107771,\n",
              " 0.008373639546334743,\n",
              " -0.012066449970006943,\n",
              " -0.008639913983643055,\n",
              " 0.002422749763354659,\n",
              " -0.0068250419571995735,\n",
              " -0.02776264399290085,\n",
              " -0.010735075920820236,\n",
              " -0.02176445536315441,\n",
              " -0.028785699978470802,\n",
              " -0.0036227377131581306,\n",
              " 0.024609390646219254,\n",
              " -0.020222865045070648,\n",
              " 0.011884261853992939,\n",
              " -0.013573003932833672,\n",
              " -0.0153598478063941,\n",
              " -0.012066449970006943,\n",
              " 0.007217446807771921,\n",
              " 0.018415000289678574,\n",
              " 0.0019182291580364108,\n",
              " 0.02004067786037922,\n",
              " 0.011358719319105148,\n",
              " 0.0010554640321061015,\n",
              " -0.014589052647352219,\n",
              " -0.003885508980602026,\n",
              " -0.017139684408903122,\n",
              " -0.015121601521968842,\n",
              " 0.01900360733270645,\n",
              " 0.008002256043255329,\n",
              " -0.005336005240678787,\n",
              " 0.009543847292661667,\n",
              " 0.006054246332496405,\n",
              " 0.01813471131026745,\n",
              " -0.001761442399583757,\n",
              " -0.039688948541879654,\n",
              " 0.004947104025632143,\n",
              " 0.014504965394735336,\n",
              " -0.0013996941270306706,\n",
              " -0.0129914041608572,\n",
              " -0.006152347661554813,\n",
              " -0.040922220796346664,\n",
              " 0.029738683253526688,\n",
              " -0.0034458052832633257,\n",
              " -0.004316453356295824,\n",
              " 0.003994120750576258,\n",
              " 0.006551759783178568,\n",
              " -0.028981901705265045,\n",
              " 0.02172241173684597,\n",
              " -0.018162738531827927,\n",
              " 0.004827981349080801,\n",
              " 0.004449591040611267,\n",
              " -0.010622960515320301,\n",
              " -0.012795201502740383,\n",
              " 0.010812155902385712,\n",
              " -0.0170135535299778,\n",
              " 0.015093572437763214,\n",
              " -0.00796722061932087,\n",
              " 0.04787339270114899,\n",
              " -0.02011074870824814,\n",
              " 0.005868555046617985,\n",
              " -0.004694844130426645,\n",
              " 0.010910256765782833,\n",
              " -0.015387876890599728,\n",
              " -0.004239373840391636,\n",
              " -0.010643982328474522,\n",
              " 0.022941669449210167,\n",
              " -0.03189690783619881,\n",
              " -0.015836339443922043,\n",
              " 0.001007289276458323,\n",
              " 0.0005040825926698744,\n",
              " 0.001436482067219913,\n",
              " -0.0033459521364420652,\n",
              " -0.018709303811192513,\n",
              " -0.008303566835820675,\n",
              " -0.026375211775302887,\n",
              " -0.017041582614183426,\n",
              " 0.00877305120229721,\n",
              " 0.0059421309269964695,\n",
              " -0.0031882894691079855,\n",
              " -0.010707046836614609,\n",
              " -0.0178824495524168,\n",
              " -0.024609390646219254,\n",
              " -0.007252482697367668,\n",
              " -0.005080241709947586,\n",
              " -0.021708397194743156,\n",
              " -0.019998634234070778,\n",
              " -0.028645554557442665,\n",
              " 0.001468890579417348,\n",
              " 0.0013655339134857059,\n",
              " 0.018008580431342125,\n",
              " 0.01058091688901186,\n",
              " -0.017335886135697365,\n",
              " 0.023095829412341118,\n",
              " 0.043612997978925705,\n",
              " -0.02161029726266861,\n",
              " 0.010819162242114544,\n",
              " -0.031672678887844086,\n",
              " 0.009144434705376625,\n",
              " -0.015668164938688278,\n",
              " 0.02993488498032093,\n",
              " -0.00664285384118557,\n",
              " -0.019171779975295067,\n",
              " 0.025240041315555573,\n",
              " -0.015429919585585594,\n",
              " -0.01416161097586155,\n",
              " -0.007497735787183046,\n",
              " -0.010707046836614609,\n",
              " 0.011891269125044346,\n",
              " 0.01519167423248291,\n",
              " -0.0004651048802770674,\n",
              " -0.00111765309702605,\n",
              " 0.017377929762005806,\n",
              " -0.004211345221847296,\n",
              " -0.0012183820363134146,\n",
              " -0.008352617733180523,\n",
              " 0.026515357196331024,\n",
              " 0.0020776435267180204,\n",
              " 0.004439080134034157,\n",
              " 0.016593119129538536,\n",
              " -0.024623405188322067,\n",
              " 0.014322777278721333,\n",
              " 0.012921331450343132,\n",
              " 0.012963375076651573,\n",
              " 0.015570064075291157,\n",
              " -0.023376118391752243,\n",
              " -0.025968793779611588,\n",
              " -0.01642494648694992,\n",
              " 0.004544188268482685,\n",
              " -0.017588146030902863,\n",
              " -0.015345833264291286,\n",
              " -0.006898617837578058,\n",
              " 0.00010176905925618485,\n",
              " -0.0006205777754075825,\n",
              " 0.022633351385593414,\n",
              " 0.004256892018020153,\n",
              " 0.005591769237071276,\n",
              " -0.0102655915543437,\n",
              " 0.0015424664597958326,\n",
              " -0.015962468460202217,\n",
              " 0.007820067927241325,\n",
              " -0.015373862348496914,\n",
              " 0.0038504726253449917,\n",
              " 0.004172805231064558,\n",
              " -0.0020583737641572952,\n",
              " -0.029570508748292923,\n",
              " -0.03119618631899357,\n",
              " -0.017826393246650696,\n",
              " 0.031476475298404694,\n",
              " 0.00019762577721849084,\n",
              " -0.012437832541763783,\n",
              " -0.01977440156042576,\n",
              " 0.010615953244268894,\n",
              " -0.048602145165205,\n",
              " -0.0032741280738264322,\n",
              " 0.00734357675537467,\n",
              " -0.0014434893382713199,\n",
              " 0.020587241277098656,\n",
              " 0.007869118824601173,\n",
              " -0.013776213862001896,\n",
              " 0.03161662071943283,\n",
              " -0.004144776146858931,\n",
              " 0.007700945250689983,\n",
              " -0.006341543048620224,\n",
              " -0.010440772399306297,\n",
              " -0.009459760040044785,\n",
              " -0.018989592790603638,\n",
              " 0.0035561691038310528,\n",
              " 0.022451164200901985,\n",
              " -0.020334981381893158,\n",
              " -0.005759942810982466,\n",
              " 0.015738237649202347,\n",
              " 0.00940370187163353,\n",
              " -0.0031672678887844086,\n",
              " 0.009319615550339222,\n",
              " -0.017448002472519875,\n",
              " 0.004894549958407879,\n",
              " -0.016817351803183556,\n",
              " 0.024875665083527565,\n",
              " -0.014322777278721333,\n",
              " 0.01840098574757576,\n",
              " 0.0068600778467953205,\n",
              " -0.02104971744120121,\n",
              " -0.012851259671151638,\n",
              " 0.0038294510450214148,\n",
              " -0.000734007335267961,\n",
              " -0.014532994478940964,\n",
              " 0.0028081473428756,\n",
              " 0.00028970514540560544,\n",
              " 0.01862521655857563,\n",
              " 0.020124763250350952,\n",
              " -0.020391037687659264,\n",
              " -0.015261746011674404,\n",
              " -0.012430825270712376,\n",
              " -0.0030726701952517033,\n",
              " 0.014617080800235271,\n",
              " -0.009494796395301819,\n",
              " -0.01779836416244507,\n",
              " 0.030187144875526428,\n",
              " 0.001072106184437871,\n",
              " 0.0026469810400158167,\n",
              " -0.006972193717956543,\n",
              " 0.014063510112464428,\n",
              " -0.017377929762005806,\n",
              " -0.00959289725869894,\n",
              " 0.006611321121454239,\n",
              " -0.01936798356473446,\n",
              " -0.017083626240491867,\n",
              " -0.004670318681746721,\n",
              " 0.007806053850799799,\n",
              " -0.01723778434097767,\n",
              " 0.01060193870216608,\n",
              " 0.01215053629130125,\n",
              " -0.013278700411319733,\n",
              " 0.012479876168072224,\n",
              " 0.005101263057440519,\n",
              " 0.022703424096107483,\n",
              " -0.014953427948057652,\n",
              " -0.02564646117389202,\n",
              " -0.007224453613162041,\n",
              " -0.000552257290109992,\n",
              " -0.012227616272866726,\n",
              " 0.012066449970006943,\n",
              " 0.0028747159522026777,\n",
              " -0.009361659176647663,\n",
              " -0.008808087557554245,\n",
              " 0.020461110398173332,\n",
              " -0.016775308176875114,\n",
              " 0.003846969222649932,\n",
              " 0.016368888318538666,\n",
              " 0.007483721245080233,\n",
              " -0.03307412564754486,\n",
              " 0.027440311387181282,\n",
              " 0.24284255504608154,\n",
              " -0.015233716927468777,\n",
              " -0.0022020218893885612,\n",
              " 0.029009930789470673,\n",
              " -0.009859172627329826,\n",
              " -0.0027906291652470827,\n",
              " 0.012886295095086098,\n",
              " -0.0009888953063637018,\n",
              " -0.00717540318146348,\n",
              " -0.011330690234899521,\n",
              " -0.00204260740429163,\n",
              " -0.0071718995459377766,\n",
              " 0.013054468668997288,\n",
              " -0.0035701836459338665,\n",
              " 0.01427372731268406,\n",
              " -0.010966314934194088,\n",
              " -0.004495137836784124,\n",
              " -0.01900360733270645,\n",
              " -0.0028501907363533974,\n",
              " -0.02190460078418255,\n",
              " -0.009046333841979504,\n",
              " -0.005816000513732433,\n",
              " -0.03287792205810547,\n",
              " -0.011260618455708027,\n",
              " 0.03806327283382416,\n",
              " -0.003139238804578781,\n",
              " -0.0064886948093771935,\n",
              " 0.018947549164295197,\n",
              " 0.019900532439351082,\n",
              " 0.0009013049420900643,\n",
              " -0.012683086097240448,\n",
              " -0.021133804693818092,\n",
              " 0.019171779975295067,\n",
              " 0.013895336538553238,\n",
              " -0.0198164451867342,\n",
              " 0.004887542687356472,\n",
              " -0.009866178967058659,\n",
              " 0.0009713772451505065,\n",
              " 0.014434893615543842,\n",
              " 0.017027568072080612,\n",
              " 0.022591307759284973,\n",
              " 0.009676984511315823,\n",
              " 0.0019655278883874416,\n",
              " -0.025464272126555443,\n",
              " -0.000402915698941797,\n",
              " 0.006874092388898134,\n",
              " ...]"
            ]
          },
          "execution_count": 13,
          "metadata": {},
          "output_type": "execute_result"
        }
      ],
      "source": [
        "text = 'the quick brown fox jumped over the lazy dog'\n",
        "model= os.environ['AZURE_OPENAI_EMBEDDINGS_DEPLOYMENT']\n",
        "client.embeddings.create(input='[text]', model=model).data[0].embedding"
      ]
    },
    {
      "cell_type": "code",
      "execution_count": 14,
      "metadata": {
        "gather": {
          "logged": 1674829555255
        },
        "jupyter": {
          "outputs_hidden": false,
          "source_hidden": false
        },
        "nteract": {
          "transient": {
            "deleting": false
          }
        }
      },
      "outputs": [
        {
          "name": "stdout",
          "output_type": "stream",
          "text": [
            "0.9156742457275728\n",
            "0.8328772905605673\n",
            "0.7819139454359365\n"
          ]
        }
      ],
      "source": [
        "\n",
        "# compare several words\n",
        "automobile_embedding  = client.embeddings.create(input='automobile', model=model).data[0].embedding\n",
        "vehicle_embedding     = client.embeddings.create(input='vehicle', model=model).data[0].embedding\n",
        "dinosaur_embedding    = client.embeddings.create(input='dinosaur', model=model).data[0].embedding\n",
        "stick_embedding       = client.embeddings.create(input='stick', model=model).data[0].embedding\n",
        "\n",
        "print(cosine_similarity(automobile_embedding, vehicle_embedding))\n",
        "print(cosine_similarity(automobile_embedding, dinosaur_embedding))\n",
        "print(cosine_similarity(automobile_embedding, stick_embedding))"
      ]
    },
    {
      "attachments": {},
      "cell_type": "markdown",
      "metadata": {
        "nteract": {
          "transient": {
            "deleting": false
          }
        }
      },
      "source": [
        "## Comparing article from cnn daily news dataset\n",
        "source: https://huggingface.co/datasets/cnn_dailymail\n"
      ]
    },
    {
      "cell_type": "code",
      "execution_count": 15,
      "metadata": {
        "gather": {
          "logged": 1674831122093
        },
        "jupyter": {
          "outputs_hidden": false,
          "source_hidden": false
        },
        "nteract": {
          "transient": {
            "deleting": false
          }
        }
      },
      "outputs": [
        {
          "data": {
            "text/html": [
              "<div>\n",
              "<style scoped>\n",
              "    .dataframe tbody tr th:only-of-type {\n",
              "        vertical-align: middle;\n",
              "    }\n",
              "\n",
              "    .dataframe tbody tr th {\n",
              "        vertical-align: top;\n",
              "    }\n",
              "\n",
              "    .dataframe thead th {\n",
              "        text-align: right;\n",
              "    }\n",
              "</style>\n",
              "<table border=\"1\" class=\"dataframe\">\n",
              "  <thead>\n",
              "    <tr style=\"text-align: right;\">\n",
              "      <th></th>\n",
              "      <th>articles</th>\n",
              "      <th>highligths</th>\n",
              "    </tr>\n",
              "  </thead>\n",
              "  <tbody>\n",
              "    <tr>\n",
              "      <th>0</th>\n",
              "      <td>BREMEN, Germany -- Carlos Alberto, who scored ...</td>\n",
              "      <td>Werder Bremen pay a club record $10.7 million ...</td>\n",
              "    </tr>\n",
              "    <tr>\n",
              "      <th>1</th>\n",
              "      <td>(CNN) -- Football superstar, celebrity, fashio...</td>\n",
              "      <td>Beckham has agreed to a five-year contract wit...</td>\n",
              "    </tr>\n",
              "    <tr>\n",
              "      <th>2</th>\n",
              "      <td>LOS ANGELES, California (CNN) -- Youssif, the ...</td>\n",
              "      <td>Boy on meeting Spider-Man: \"It was my favorite...</td>\n",
              "    </tr>\n",
              "  </tbody>\n",
              "</table>\n",
              "</div>"
            ],
            "text/plain": [
              "                                            articles  \\\n",
              "0  BREMEN, Germany -- Carlos Alberto, who scored ...   \n",
              "1  (CNN) -- Football superstar, celebrity, fashio...   \n",
              "2  LOS ANGELES, California (CNN) -- Youssif, the ...   \n",
              "\n",
              "                                          highligths  \n",
              "0  Werder Bremen pay a club record $10.7 million ...  \n",
              "1  Beckham has agreed to a five-year contract wit...  \n",
              "2  Boy on meeting Spider-Man: \"It was my favorite...  "
            ]
          },
          "execution_count": 15,
          "metadata": {},
          "output_type": "execute_result"
        }
      ],
      "source": [
        "import pandas as pd\n",
        "cnn_daily_articles = ['BREMEN, Germany -- Carlos Alberto, who scored in FC Porto\\'s Champions League final victory against Monaco in 2004, has joined Bundesliga club Werder Bremen for a club record fee of 7.8 million euros ($10.7 million). Carlos Alberto enjoyed success at FC Porto under Jose Mourinho. \"I\\'m here to win titles with Werder,\" the 22-year-old said after his first training session with his new club. \"I like Bremen and would only have wanted to come here.\" Carlos Alberto started his career with Fluminense, and helped them to lift the Campeonato Carioca in 2002. In January 2004 he moved on to FC Porto, who were coached by José Mourinho, and the club won the Portuguese title as well as the Champions League. Early in 2005, he moved to Corinthians, where he impressed as they won the Brasileirão,but in 2006 Corinthians had a poor season and Carlos Alberto found himself at odds with manager, Emerson Leão. Their poor relationship came to a climax at a Copa Sul-Americana game against Club Atlético Lanús, and Carlos Alberto declared that he would not play for Corinthians again while Leão remained as manager. Since January this year he has been on loan with his first club Fluminense. Bundesliga champions VfB Stuttgart said on Sunday that they would sign a loan agreement with Real Zaragoza on Monday for Ewerthon, the third top Brazilian player to join the German league in three days. A VfB spokesman said Ewerthon, who played in the Bundesliga for Borussia Dortmund from 2001 to 2005, was expected to join the club for their pre-season training in Austria on Monday. On Friday, Ailton returned to Germany where he was the league\\'s top scorer in 2004, signing a one-year deal with Duisburg on a transfer from Red Star Belgrade. E-mail to a friend .',\n",
        "                        '(CNN) -- Football superstar, celebrity, fashion icon, multimillion-dollar heartthrob. Now, David Beckham is headed for the Hollywood Hills as he takes his game to U.S. Major League Soccer. CNN looks at how Bekham fulfilled his dream of playing for Manchester United, and his time playing for England. The world\\'s famous footballer has begun a five-year contract with the Los Angeles Galaxy team, and on Friday Beckham will meet the press and reveal his new shirt number. This week, we take an in depth look at the life and times of Beckham, as CNN\\'s very own \"Becks,\" Becky Anderson, sets out to examine what makes the man tick -- as footballer, fashion icon and global phenomenon. It\\'s a long way from the streets of east London to the Hollywood Hills and Becky charts Beckham\\'s incredible rise to football stardom, a journey that has seen his skills grace the greatest stages in world soccer. She goes in pursuit of the current hottest property on the sports/celebrity circuit in the U.S. and along the way explores exactly what\\'s behind the man with the golden boot. CNN will look back at the life of Beckham, the wonderfully talented youngster who fulfilled his dream of playing for Manchester United, his marriage to pop star Victoria, and the trials and tribulations of playing for England. We\\'ll look at the highs (scoring against Greece), the lows (being sent off during the World Cup), the Man. U departure for the Galacticos of Madrid -- and now the Home Depot stadium in L.A. We\\'ll ask how Beckham and his family will adapt to life in Los Angeles -- the people, the places to see and be seen and the celebrity endorsement. Beckham is no stranger to exposure. He has teamed with Reggie Bush in an Adidas commercial, is the face of Motorola, is the face on a PlayStation game and doesn\\'t need fashion tips as he has his own international clothing line. But what does the star couple need to do to become an accepted part of Tinseltown\\'s glitterati? The road to major league football in the U.S.A. is a well-worn route for some of the world\\'s greatest players. We talk to some of the former greats who came before him and examine what impact these overseas stars had on U.S. soccer and look at what is different now. We also get a rare glimpse inside the David Beckham academy in L.A, find out what drives the kids and who are their heroes. The perception that in the U.S.A. soccer is a \"game for girls\" after the teenage years is changing. More and more young kids are choosing the European game over the traditional U.S. sports. E-mail to a friend .',\n",
        "                        'LOS ANGELES, California (CNN) -- Youssif, the 5-year-old burned Iraqi boy, rounded the corner at Universal Studios when suddenly the little boy hero met his favorite superhero. Youssif has always been a huge Spider-Man fan. Meeting him was \"my favorite thing,\" he said. Spider-Man was right smack dab in front of him, riding a four-wheeler amid a convoy of other superheroes. The legendary climber of buildings and fighter of evil dismounted, walked over to Youssif and introduced himself. Spidey then gave the boy from a far-away land a gentle hug, embracing him in his iconic blue and red tights. He showed Youssif a few tricks, like how to shoot a web from his wrist. Only this time, no web was spun. \"All right Youssif!\" Spider-Man said after the boy mimicked his wrist movement. Other superheroes crowded around to get a closer look. Even the Green Goblin stopped his villainous ways to tell the boy hi. Youssif remained unfazed. He didn\\'t take a liking to Spider-Man\\'s nemesis. Spidey was just too cool. \"It was my favorite thing,\" the boy said later. \"I want to see him again.\" He then felt compelled to add: \"I know it\\'s not the real Spider-Man.\" This was the day of dreams when the boy\\'s nightmares were, at least temporarily, forgotten. He met SpongeBob, Lassie and a 3-year-old orangutan named Archie. The hairy, brownish-red primate took to the boy, grabbing his hand and holding it. Even when Youssif pulled away, Archie would inch his hand back toward the boy\\'s and then snatch it. See Youssif enjoy being a boy again » . The boy giggled inside a play area where sponge-like balls shot out of toy guns. It was a far different artillery than what he was used to seeing in central Baghdad, as recently as a week ago. He squealed with delight and raced around the room collecting as many balls as he could. He rode a tram through the back stages at Universal Studios. At one point, the car shook. Fire and smoke filled the air, debris cascaded down and a big rig skidded toward the vehicle. The boy and his family survived the pretend earthquake unscathed. \"Even I was scared,\" the dad said. \"Well, I wasn\\'t,\" Youssif replied. The father and mother grinned from ear to ear throughout the day. Youssif pushed his 14-month-old sister, Ayaa, in a stroller. \"Did you even need to ask us if we were interested in coming here?\" Youssif\\'s father said in amazement. \"Other than my wedding day, this is the happiest day of my life,\" he said. Just a day earlier, the mother and father talked about their journey out of Iraq and to the United States. They also discussed that day nine months ago when masked men grabbed their son outside the family home, doused him in gas and set him on fire. His mother heard her boy screaming from inside. The father sought help for his boy across Baghdad, but no one listened. He remembers his son\\'s two months of hospitalization. The doctors didn\\'t use anesthetics. He could hear his boy\\'s piercing screams from the other side of the hospital. Watch Youssif meet his doctor and play with his little sister » . The father knew that speaking to CNN would put his family\\'s lives in jeopardy. The possibility of being killed was better than seeing his son suffer, he said. \"Anything for Youssif,\" he said. \"We had to do it.\" They described a life of utter chaos in Baghdad. Neighbors had recently given birth to a baby girl. Shortly afterward, the father was kidnapped and killed. Then, there was the time when some girls wore tanktops and jeans. They were snatched off the street by gunmen. The stories can be even more gruesome. The couple said they had heard reports that a young girl was kidnapped and beheaded --and her killers sewed a dog\\'s head on the corpse and delivered it to her family\\'s doorstep. \"These are just some of the stories,\" said Youssif\\'s mother, Zainab. Under Saddam Hussein, there was more security and stability, they said. There was running water and electricity most of the time. But still life was tough under the dictator, like the time when Zainab\\'s uncle disappeared and was never heard from again after he read a \"religious book,\" she said. Sitting in the parking lot of a Target in suburban Los Angeles, Youssif\\'s father watched as husbands and wives, boyfriends and girlfriends, parents and their children, came and went. Some held hands. Others smiled and laughed. \"Iraq finished,\" he said in what few English words he knows. He elaborated in Arabic: His homeland won\\'t be enjoying such freedoms anytime soon. It\\'s just not possible. Too much violence. Too many killings. His two children have only seen war. But this week, the family has seen a much different side of America -- an outpouring of generosity and a peaceful nation at home. \"It\\'s been a dream,\" the father said. He used to do a lot of volunteer work back in Baghdad. \"Maybe that\\'s why I\\'m being helped now,\" the father said. At Universal Studios, he looked out across the valley below. The sun glistened off treetops and buildings. It was a picturesque sight fit for a Hollywood movie. \"Good America, good America,\" he said in English. E-mail to a friend . CNN\\'s Arwa Damon contributed to this report.'\n",
        "]\n",
        "\n",
        "cnn_daily_article_highlights = ['Werder Bremen pay a club record $10.7 million for Carlos Alberto .\\nThe Brazilian midfielder won the Champions League with FC Porto in 2004 .\\nSince January he has been on loan with his first club, Fluminense .',\n",
        "                                'Beckham has agreed to a five-year contract with Los Angeles Galaxy .\\nNew contract took effect July 1, 2007 .\\nFormer English captain to meet press, unveil new shirt number Friday .\\nCNN to look at Beckham as footballer, fashion icon and global phenomenon .',\n",
        "                                'Boy on meeting Spider-Man: \"It was my favorite thing\"\\nYoussif also met SpongeBob, Lassie and an orangutan at Universal Studios .\\nDad: \"Other than my wedding day, this is the happiest day of my life\"'\n",
        "]\n",
        "\n",
        "cnn_df = pd.DataFrame({\"articles\":cnn_daily_articles, \"highligths\":cnn_daily_article_highlights})\n",
        "\n",
        "cnn_df.head()"
      ]
    },
    {
      "cell_type": "code",
      "execution_count": 16,
      "metadata": {
        "gather": {
          "logged": 1674831294043
        },
        "jupyter": {
          "outputs_hidden": false,
          "source_hidden": false
        },
        "nteract": {
          "transient": {
            "deleting": false
          }
        }
      },
      "outputs": [
        {
          "name": "stdout",
          "output_type": "stream",
          "text": [
            "0.7615834020351547\n",
            "0.7095630400274567\n"
          ]
        }
      ],
      "source": [
        "article1_embedding    = client.embeddings.create(input=cnn_df.articles.iloc[0], model=model).data[0].embedding\n",
        "article2_embedding    = client.embeddings.create(input=cnn_df.articles.iloc[1], model=model).data[0].embedding\n",
        "article3_embedding    = client.embeddings.create(input=cnn_df.articles.iloc[2], model=model).data[0].embedding\n",
        "\n",
        "print(cosine_similarity(article1_embedding, article2_embedding))\n",
        "print(cosine_similarity(article1_embedding, article3_embedding))"
      ]
    },
    {
      "attachments": {},
      "cell_type": "markdown",
      "metadata": {
        "nteract": {
          "transient": {
            "deleting": false
          }
        }
      },
      "source": [
        "# References  \n",
        "- [Azure Documentation - Azure OpenAI Models](https://learn.microsoft.com/azure/cognitive-services/openai/concepts/models?WT.mc_id=academic-105485-koreyst)  \n",
        "- [OpenAI Studio Examples](https://oai.azure.com/portal?WT.mc_id=academic-105485-koreyst)  "
      ]
    },
    {
      "attachments": {},
      "cell_type": "markdown",
      "metadata": {
        "nteract": {
          "transient": {
            "deleting": false
          }
        }
      },
      "source": [
        "# For More Help  \n",
        "[OpenAI Commercialization Team](AzureOpenAITeam@microsoft.com)"
      ]
    },
    {
      "attachments": {},
      "cell_type": "markdown",
      "metadata": {
        "nteract": {
          "transient": {
            "deleting": false
          }
        }
      },
      "source": [
        "# Contributors\n",
        "* Louis Li  \n"
      ]
    }
  ],
  "metadata": {
    "kernel_info": {
      "name": "python310-sdkv2"
    },
    "kernelspec": {
      "display_name": "base",
      "language": "python",
      "name": "python3"
    },
    "language_info": {
      "codemirror_mode": {
        "name": "ipython",
        "version": 3
      },
      "file_extension": ".py",
      "mimetype": "text/x-python",
      "name": "python",
      "nbconvert_exporter": "python",
      "pygments_lexer": "ipython3",
      "version": "3.10.13"
    },
    "microsoft": {
      "host": {
        "AzureML": {
          "notebookHasBeenCompleted": true
        }
      }
    },
    "nteract": {
      "version": "nteract-front-end@1.0.0"
    }
  },
  "nbformat": 4,
  "nbformat_minor": 2
}
