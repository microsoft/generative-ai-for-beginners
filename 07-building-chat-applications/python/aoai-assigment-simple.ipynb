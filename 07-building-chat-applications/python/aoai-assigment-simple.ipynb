{
 "cells": [
  {
   "cell_type": "code",
   "execution_count": 10,
   "metadata": {},
   "outputs": [],
   "source": [
    "import os\n",
    "import openai\n",
    "\n",
    "openai.api_type = \"azure\"\n",
    "openai.api_version = os.getenv(\"AZURE_OPENAI_API_VERSION\",\"\").strip()\n",
    "\n",
    "API_KEY = os.getenv(\"AZURE_OPENAI_API_KEY\",\"\").strip()\n",
    "assert API_KEY, \"ERROR: Azure OpenAI Key is missing\"\n",
    "openai.api_key = API_KEY\n",
    "\n",
    "RESOURCE_ENDPOINT = os.getenv(\"AZURE_OPENAI_ENDPOINT\",\"\").strip()\n",
    "assert RESOURCE_ENDPOINT, \"ERROR: Azure OpenAI Endpoint is missing\"\n",
    "assert \"openai.azure.com\" in RESOURCE_ENDPOINT.lower(), \"ERROR: Azure OpenAI Endpoint should be in the form: \\n\\n\\t<your unique endpoint identifier>.openai.azure.com\"\n",
    "openai.api_base = RESOURCE_ENDPOINT\n",
    "deployment = os.getenv(\"AZURE_OPENAI_DEPLOYMENT\",\"\").strip() # replace with your deployment name"
   ]
  },
  {
   "cell_type": "code",
   "execution_count": 13,
   "metadata": {},
   "outputs": [
    {
     "name": "stdout",
     "output_type": "stream",
     "text": [
      "I'm sorry to hear you're having stomach pain. As a surgeon, you know that \"stomach pain\" is a broad complaint with a wide differential diagnosis, ranging from benign to life-threatening conditions. Without a physical examination, history, or further diagnostics, it's impossible to make a definitive diagnosis, but I can help outline a general approach and possible causes:\n",
      "\n",
      "### Key Aspects to Assess:\n",
      "- **Location** (epigastric, periumbilical, lower quadrants, generalized?)\n",
      "- **Onset & Duration**\n",
      "- **Character** (sharp, dull, crampy, constant, intermittent?)\n",
      "- **Associated symptoms** (nausea, vomiting, fever, diarrhea, obstipation, weight loss, GI bleeding)\n",
      "- **Aggravating/relieving factors**\n",
      "- **Past medical/surgical history** (especially prior abdominal operations)\n",
      "- **Medications**, alcohol/drug use\n",
      "\n",
      "### Differential Diagnosis Highlights\n",
      "- **Acute abdomen** (appendicitis, cholecystitis, perforated ulcer, bowel obstruction, mesenteric ischemia, diverticulitis, pancreatitis)\n",
      "- **Non-surgical** causes: gastroenteritis, gastritis, peptic ulcer disease, IBS, urinary tract infection, gynecologic pathology (in females), constipation\n",
      "\n",
      "### Surgical Red Flags\n",
      "Immediate evaluation is needed if:  \n",
      "- Severe, sudden-onset (\"worst ever\") pain  \n",
      "- Signs of peritonitis (rigidity, rebound, involuntary guarding)  \n",
      "- Hemodynamic instability (shock)  \n",
      "- GI bleeding (hematemesis, melena, hematochezia)  \n",
      "- Persistent vomiting, high fever  \n",
      "\n",
      "### What to do?\n",
      "If you are the patient:\n",
      "- Monitor for severe symptoms/red flags as above  \n",
      "- If pain is mild, keep NPO and observe, with symptom logging  \n",
      "- If moderate/severe, especially with red flag signs, **seek urgent clinical evaluation**  \n",
      "- Laboratory and imaging as appropriate (CBC, BMP, LFTs, lipase/amylase, urinalysis, pregnancy test if female, abdominal X-ray/CT/US as indicated)\n",
      "\n",
      "---\n",
      "\n",
      "**This does not replace a formal medical evaluation.** If there's any *concern for a surgical emergency,* seek immediate medical/surgical consultation.\n",
      "\n",
      "If you want to clarify your symptoms, I can help narrow the differential or discuss workup algorithms. Let me know more details if you'd like to continue!\n"
     ]
    }
   ],
   "source": [
    "# Create your first prompt\n",
    "text_prompt = \" My stomach hurts, what can be wrong?\"\n",
    "from openai import AzureOpenAI\n",
    "\n",
    "client = AzureOpenAI(\n",
    "    api_key=os.environ[\"AZURE_OPENAI_API_KEY\"],\n",
    "    azure_endpoint=os.environ[\"AZURE_OPENAI_ENDPOINT\"],\n",
    "    api_version=\"2023-05-15\"\n",
    ")\n",
    "response = client.chat.completions.create(\n",
    "    model=os.environ[\"AZURE_OPENAI_DEPLOYMENT\"],\n",
    "    messages=[\n",
    "        {\"role\": \"system\", \"content\": \"I'm a doctor, specialist on surgery\"},\n",
    "        {\"role\": \"user\", \"content\": text_prompt},\n",
    "    ]\n",
    ")\n",
    "print(response.choices[0].message.content)"
   ]
  }
 ],
 "metadata": {
  "kernelspec": {
   "display_name": ".conda",
   "language": "python",
   "name": "python3"
  },
  "language_info": {
   "codemirror_mode": {
    "name": "ipython",
    "version": 3
   },
   "file_extension": ".py",
   "mimetype": "text/x-python",
   "name": "python",
   "nbconvert_exporter": "python",
   "pygments_lexer": "ipython3",
   "version": "3.11.11"
  },
  "orig_nbformat": 4
 },
 "nbformat": 4,
 "nbformat_minor": 2
}
