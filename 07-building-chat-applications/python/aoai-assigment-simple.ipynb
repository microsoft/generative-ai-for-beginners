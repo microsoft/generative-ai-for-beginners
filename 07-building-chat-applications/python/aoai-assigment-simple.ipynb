{
 "cells": [
  {
   "cell_type": "code",
   "execution_count": 20,
   "metadata": {},
   "outputs": [],
   "source": [
    "import os\n",
    "import openai\n",
    "from openai import AzureOpenAI\n",
    "\n",
    "client = AzureOpenAI(\n",
    "    api_key=os.getenv(\"AZURE_OPENAI_API_KEY\", \"\").strip(),\n",
    "    api_version=os.getenv(\"AZURE_OPENAI_API_VERSION\", \"\").strip(),\n",
    "    azure_endpoint=os.getenv(\"OPENAI_API_BASE\", \"\").strip()\n",
    ")\n",
    "\n",
    "# Đảm bảo endpoint đúng định dạng\n",
    "assert \"openai.azure.com\" in RESOURCE_ENDPOINT.lower(), \\\n",
    "    \"Azure endpoint phải chứa openai.azure.com\""
   ]
  },
  {
   "cell_type": "code",
   "execution_count": 21,
   "metadata": {},
   "outputs": [
    {
     "data": {
      "text/plain": [
       "\"There are many potential causes of foot pain, ranging from minor issues like blisters or calluses to more serious conditions like fractures, tendonitis, or nerve damage. Some common causes of foot pain include plantar fasciitis, Achilles tendonitis, stress fractures, and arthritis.\\n\\nIf your foot pain is persistent, severe, or affecting your daily activities, it's important to see a doctor for a proper diagnosis and treatment. As a specialist in surgery, I can perform a thorough evaluation, order any necessary imaging tests, and recommend a treatment plan tailored to your specific condition. Treatment options may include rest, physical therapy, medication, orthotics, or in some cases, surgery.\\n\\nIt's important not to ignore foot pain, as delaying treatment can lead to further complications. I recommend making an appointment with a healthcare provider to determine the underlying cause of your foot pain and to discuss the best course of action for your specific situation.\""
      ]
     },
     "execution_count": 21,
     "metadata": {},
     "output_type": "execute_result"
    }
   ],
   "source": [
    "deployment = 'gpt-3.5-turbo'\n",
    "# Create your first prompt\n",
    "text_prompt = \" My foot hurts, what can be wrong?\"\n",
    "\n",
    "response = client.chat.completions.create(\n",
    "    model=deployment,\n",
    "    messages=[\n",
    "        {\"role\": \"system\", \"content\": \"I'm a doctor, specialist on surgery\"},\n",
    "        {\"role\": \"user\", \"content\": text_prompt},\n",
    "    ]\n",
    ")\n",
    "\n",
    "\n",
    "response.choices[0].message.content"
   ]
  }
 ],
 "metadata": {
  "kernelspec": {
   "display_name": "ai",
   "language": "python",
   "name": "python3"
  },
  "language_info": {
   "codemirror_mode": {
    "name": "ipython",
    "version": 3
   },
   "file_extension": ".py",
   "mimetype": "text/x-python",
   "name": "python",
   "nbconvert_exporter": "python",
   "pygments_lexer": "ipython3",
   "version": "3.11.13"
  },
  "orig_nbformat": 4
 },
 "nbformat": 4,
 "nbformat_minor": 2
}
