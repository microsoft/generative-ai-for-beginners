{
 "cells": [
  {
   "cell_type": "markdown",
   "id": "b0575282",
   "metadata": {},
   "source": [
    "Phần Backend"
   ]
  },
  {
   "cell_type": "code",
   "execution_count": 260,
   "id": "90890fcd",
   "metadata": {},
   "outputs": [],
   "source": [
    "import os\n",
    "import pandas as pd\n",
    "import numpy as np\n",
    "import openai\n",
    "from dotenv import load_dotenv\n",
    "from openai import AzureOpenAI\n",
    "from sklearn.neighbors import NearestNeighbors\n",
    "import json\n"
   ]
  },
  {
   "cell_type": "code",
   "execution_count": 261,
   "id": "b3a6e79c",
   "metadata": {},
   "outputs": [],
   "source": [
    "def split_text(text, max_length=1000,min_length=100):\n",
    "    \"\"\"Split text into chunks of max_length.\"\"\"\n",
    "    words = text.split()\n",
    "    chunks = []\n",
    "    current_chunk = []\n",
    "\n",
    "    for word in words:\n",
    "        current_chunk.append(word)\n",
    "        if len(' '.join(current_chunk)) < max_length and len(' '.join(current_chunk)) > min_length:\n",
    "            chunks.append(' '.join(current_chunk))\n",
    "            current_chunk = []\n",
    "\n",
    "        # If the last chunk didn't reach the minimum length, add it anyway\n",
    "        if current_chunk:\n",
    "            chunks.append(' '.join(current_chunk))\n",
    "\n",
    "        return chunks\n",
    "\n",
    "\n",
    "    if current_chunk:\n",
    "        chunks.append(' '.join(current_chunk))\n",
    "\n",
    "    return chunks"
   ]
  },
  {
   "cell_type": "code",
   "execution_count": 262,
   "id": "752415b4",
   "metadata": {},
   "outputs": [],
   "source": [
    "def create_embeddings(client,text, model=os.getenv('AZURE_OPENAI_EMBEDDINGS_DEPLOYMENT')):\n",
    "    \"\"\"Create embeddings for the given text using OpenAI API.\"\"\"\n",
    "    embeddings = client.embeddings.create(input = text, model=model).data[0].embedding\n",
    "    return embeddings"
   ]
  },
  {
   "cell_type": "code",
   "execution_count": 263,
   "id": "60239493",
   "metadata": {},
   "outputs": [],
   "source": [
    "def chatbot(client,user_input,flattened_df):\n",
    "    # Convert the question to a query vector\n",
    "    query_vector = create_embeddings(client, user_input)\n",
    "\n",
    "    # Fit NearestNeighbors on the embeddings if not already fitted\n",
    "    embeddings_matrix = np.array(flattened_df['embeddings'].tolist())\n",
    "    nbrs = NearestNeighbors(n_neighbors=3, metric='cosine').fit(embeddings_matrix)\n",
    "\n",
    "    # Find the most similar documents\n",
    "    distances, indices = nbrs.kneighbors([query_vector])\n",
    "\n",
    "    # add documents to query to provide context\n",
    "    history = []\n",
    "    for index in indices[0]:\n",
    "        history.append(flattened_df['chunks'].iloc[index])\n",
    "\n",
    "    # combine the history and the user input\n",
    "    history.append(user_input)\n",
    "\n",
    "    # create a message object\n",
    "    messages = [\n",
    "        {\"role\": \"system\", \"content\": \"You are an AI assistant that helps with AI questions.\"},\n",
    "        {\"role\": \"user\", \"content\": history[-1]}\n",
    "    ]\n",
    "\n",
    "    # use chat completion to generate a response\n",
    "    response = client.chat.completions.create(\n",
    "        model=os.getenv(\"AZURE_OPENAI_DEPLOYMENT\"),\n",
    "        temperature=0.7,\n",
    "        max_tokens=800,\n",
    "        messages=messages\n",
    "    )\n",
    "\n",
    "    return response.choices[0].message.content.strip()"
   ]
  },
  {
   "cell_type": "code",
   "execution_count": 264,
   "id": "b9201017",
   "metadata": {},
   "outputs": [],
   "source": [
    "def summarize_for_chart(client,answer):\n",
    "    \"\"\"Extract a concise description to use for image generation.\"\"\"\n",
    "    prompt = f\"Please describe an illustration for the following content in a clear, concise, and unambiguous way, under 200 words:\\n\\n{answer}\"\n",
    "\n",
    "    messages = [\n",
    "        {\"role\": \"system\", \"content\": \"You are an assistant specialized in crafting prompts for image generation.\"},\n",
    "        {\"role\": \"user\", \"content\": prompt}\n",
    "    ]\n",
    "\n",
    "    response = client.chat.completions.create(\n",
    "        model=os.getenv(\"AZURE_OPENAI_DEPLOYMENT\"),\n",
    "        temperature=0.5,\n",
    "        max_tokens=200,\n",
    "        messages=messages\n",
    "    )\n",
    "\n",
    "    return response.choices[0].message.content.strip()\n",
    "\n"
   ]
  },
  {
   "cell_type": "code",
   "execution_count": 265,
   "id": "e3ee7b3a",
   "metadata": {},
   "outputs": [],
   "source": [
    "def draw(prompt):\n",
    "    drawbot = AzureOpenAI(\n",
    "        api_key=os.environ['AZURE_OPENAI_API_DALLE_KEY'],  # this is also the default, it can be omitted\n",
    "        api_version = os.environ['AZURE_OPENAI_API_DALLE_VERSION'],  # e.g. \"2023-06-01-preview\"\n",
    "        azure_endpoint= os.environ['AZURE_OPENAI_DALLE_ENDPOINT']\n",
    "    )\n",
    "\n",
    "    model = \"dall-e-3\"\n",
    "    response = drawbot.images.generate(\n",
    "        model=model,\n",
    "        prompt=prompt,\n",
    "        size=\"1024x1024\",\n",
    "        n=1\n",
    "    )\n",
    "    generation_response = json.loads(response.model_dump_json())\n",
    "    # Set the directory for the stored image\n",
    "    image_dir = os.path.join(os.curdir, 'images')\n",
    "\n",
    "    # If the directory doesn't exist, create it\n",
    "    if not os.path.isdir(image_dir):\n",
    "        os.mkdir(image_dir)\n",
    "\n",
    "    # Initialize the image path (note the filetype should be png)\n",
    "    image_url = os.path.join(image_dir, 'generated-image.png')\n",
    "\n",
    "    # Retrieve the generated image\n",
    "    image_url = generation_response[\"data\"][0][\"url\"] \n",
    "    return image_url"
   ]
  },
  {
   "cell_type": "code",
   "execution_count": 266,
   "id": "8ea4222c",
   "metadata": {},
   "outputs": [
    {
     "name": "stdout",
     "output_type": "stream",
     "text": [
      "                    path                                               text\n",
      "0     data/frameworks.md  # Neural Network Frameworks\\n\\nAs we have lear...\n",
      "1  data/own_framework.md  # Introduction to Neural Networks. Multi-Layer...\n",
      "2     data/perceptron.md  # Introduction to Neural Networks: Perceptron\\...\n"
     ]
    }
   ],
   "source": [
    "# List to store data before creating DataFrame\n",
    "data = []\n",
    "\n",
    "# Your file paths\n",
    "data_paths = [\n",
    "    \"data/frameworks.md\",# ?WT.mc_id=academic-105485-koreyst\n",
    "    \"data/own_framework.md\",#?WT.mc_id=academic-105485-koreyst\n",
    "    \"data/perceptron.md\"#?WT.mc_id=academic-105485-koreyst\n",
    "]\n",
    "\n",
    "# Read each file and collect content\n",
    "for path in data_paths:\n",
    "    with open(path, 'r', encoding='utf-8') as file:\n",
    "        file_content = file.read()\n",
    "        data.append({'path': path, 'text': file_content})\n",
    "\n",
    "# Create DataFrame from the list\n",
    "df = pd.DataFrame(data)\n",
    "\n",
    "# Display first few rows\n",
    "print(df.head())\n"
   ]
  },
  {
   "cell_type": "code",
   "execution_count": 267,
   "id": "e3f1a3c0",
   "metadata": {},
   "outputs": [
    {
     "data": {
      "text/plain": [
       "True"
      ]
     },
     "execution_count": 267,
     "metadata": {},
     "output_type": "execute_result"
    }
   ],
   "source": [
    "load_dotenv()  # Load environment variables from .env file"
   ]
  },
  {
   "cell_type": "code",
   "execution_count": 268,
   "id": "a1905a15",
   "metadata": {},
   "outputs": [
    {
     "data": {
      "text/html": [
       "<div>\n",
       "<style scoped>\n",
       "    .dataframe tbody tr th:only-of-type {\n",
       "        vertical-align: middle;\n",
       "    }\n",
       "\n",
       "    .dataframe tbody tr th {\n",
       "        vertical-align: top;\n",
       "    }\n",
       "\n",
       "    .dataframe thead th {\n",
       "        text-align: right;\n",
       "    }\n",
       "</style>\n",
       "<table border=\"1\" class=\"dataframe\">\n",
       "  <thead>\n",
       "    <tr style=\"text-align: right;\">\n",
       "      <th></th>\n",
       "      <th>path</th>\n",
       "      <th>text</th>\n",
       "      <th>chunks</th>\n",
       "    </tr>\n",
       "  </thead>\n",
       "  <tbody>\n",
       "    <tr>\n",
       "      <th>0</th>\n",
       "      <td>data/frameworks.md</td>\n",
       "      <td># Neural Network Frameworks\\n\\nAs we have lear...</td>\n",
       "      <td>[#]</td>\n",
       "    </tr>\n",
       "    <tr>\n",
       "      <th>1</th>\n",
       "      <td>data/own_framework.md</td>\n",
       "      <td># Introduction to Neural Networks. Multi-Layer...</td>\n",
       "      <td>[#]</td>\n",
       "    </tr>\n",
       "    <tr>\n",
       "      <th>2</th>\n",
       "      <td>data/perceptron.md</td>\n",
       "      <td># Introduction to Neural Networks: Perceptron\\...</td>\n",
       "      <td>[#]</td>\n",
       "    </tr>\n",
       "  </tbody>\n",
       "</table>\n",
       "</div>"
      ],
      "text/plain": [
       "                    path                                               text  \\\n",
       "0     data/frameworks.md  # Neural Network Frameworks\\n\\nAs we have lear...   \n",
       "1  data/own_framework.md  # Introduction to Neural Networks. Multi-Layer...   \n",
       "2     data/perceptron.md  # Introduction to Neural Networks: Perceptron\\...   \n",
       "\n",
       "  chunks  \n",
       "0    [#]  \n",
       "1    [#]  \n",
       "2    [#]  "
      ]
     },
     "execution_count": 268,
     "metadata": {},
     "output_type": "execute_result"
    }
   ],
   "source": [
    "splitted_df = df.copy()\n",
    "splitted_df['chunks'] = splitted_df['text'].apply(lambda x: split_text(x, 400, 300))\n",
    "splitted_df"
   ]
  },
  {
   "cell_type": "code",
   "execution_count": 269,
   "id": "248658d6",
   "metadata": {},
   "outputs": [
    {
     "data": {
      "text/html": [
       "<div>\n",
       "<style scoped>\n",
       "    .dataframe tbody tr th:only-of-type {\n",
       "        vertical-align: middle;\n",
       "    }\n",
       "\n",
       "    .dataframe tbody tr th {\n",
       "        vertical-align: top;\n",
       "    }\n",
       "\n",
       "    .dataframe thead th {\n",
       "        text-align: right;\n",
       "    }\n",
       "</style>\n",
       "<table border=\"1\" class=\"dataframe\">\n",
       "  <thead>\n",
       "    <tr style=\"text-align: right;\">\n",
       "      <th></th>\n",
       "      <th>path</th>\n",
       "      <th>text</th>\n",
       "      <th>chunks</th>\n",
       "    </tr>\n",
       "  </thead>\n",
       "  <tbody>\n",
       "    <tr>\n",
       "      <th>0</th>\n",
       "      <td>data/frameworks.md</td>\n",
       "      <td># Neural Network Frameworks\\n\\nAs we have lear...</td>\n",
       "      <td>#</td>\n",
       "    </tr>\n",
       "    <tr>\n",
       "      <th>1</th>\n",
       "      <td>data/own_framework.md</td>\n",
       "      <td># Introduction to Neural Networks. Multi-Layer...</td>\n",
       "      <td>#</td>\n",
       "    </tr>\n",
       "    <tr>\n",
       "      <th>2</th>\n",
       "      <td>data/perceptron.md</td>\n",
       "      <td># Introduction to Neural Networks: Perceptron\\...</td>\n",
       "      <td>#</td>\n",
       "    </tr>\n",
       "  </tbody>\n",
       "</table>\n",
       "</div>"
      ],
      "text/plain": [
       "                    path                                               text  \\\n",
       "0     data/frameworks.md  # Neural Network Frameworks\\n\\nAs we have lear...   \n",
       "1  data/own_framework.md  # Introduction to Neural Networks. Multi-Layer...   \n",
       "2     data/perceptron.md  # Introduction to Neural Networks: Perceptron\\...   \n",
       "\n",
       "  chunks  \n",
       "0      #  \n",
       "1      #  \n",
       "2      #  "
      ]
     },
     "execution_count": 269,
     "metadata": {},
     "output_type": "execute_result"
    }
   ],
   "source": [
    "flattened_df = splitted_df.explode('chunks')\n",
    "flattened_df.head()"
   ]
  },
  {
   "cell_type": "code",
   "execution_count": 270,
   "id": "c9352322",
   "metadata": {},
   "outputs": [],
   "source": [
    "client = AzureOpenAI(\n",
    "    api_key = os.getenv(\"AZURE_OPENAI_API_KEY\"),  \n",
    "    api_version = os.getenv(\"AZURE_OPENAI_API_VERSION\"),\n",
    "    azure_endpoint = os.getenv(\"AZURE_OPENAI_ENDPOINT\")\n",
    "  )"
   ]
  },
  {
   "cell_type": "code",
   "execution_count": 271,
   "id": "2f179cfa",
   "metadata": {},
   "outputs": [
    {
     "data": {
      "text/html": [
       "<div>\n",
       "<style scoped>\n",
       "    .dataframe tbody tr th:only-of-type {\n",
       "        vertical-align: middle;\n",
       "    }\n",
       "\n",
       "    .dataframe tbody tr th {\n",
       "        vertical-align: top;\n",
       "    }\n",
       "\n",
       "    .dataframe thead th {\n",
       "        text-align: right;\n",
       "    }\n",
       "</style>\n",
       "<table border=\"1\" class=\"dataframe\">\n",
       "  <thead>\n",
       "    <tr style=\"text-align: right;\">\n",
       "      <th></th>\n",
       "      <th>path</th>\n",
       "      <th>text</th>\n",
       "      <th>chunks</th>\n",
       "      <th>embeddings</th>\n",
       "    </tr>\n",
       "  </thead>\n",
       "  <tbody>\n",
       "    <tr>\n",
       "      <th>0</th>\n",
       "      <td>data/frameworks.md</td>\n",
       "      <td># Neural Network Frameworks\\n\\nAs we have lear...</td>\n",
       "      <td>#</td>\n",
       "      <td>[0.0079061733558774, -0.0016227177111431956, 0...</td>\n",
       "    </tr>\n",
       "    <tr>\n",
       "      <th>1</th>\n",
       "      <td>data/own_framework.md</td>\n",
       "      <td># Introduction to Neural Networks. Multi-Layer...</td>\n",
       "      <td>#</td>\n",
       "      <td>[0.0079061733558774, -0.0016227177111431956, 0...</td>\n",
       "    </tr>\n",
       "    <tr>\n",
       "      <th>2</th>\n",
       "      <td>data/perceptron.md</td>\n",
       "      <td># Introduction to Neural Networks: Perceptron\\...</td>\n",
       "      <td>#</td>\n",
       "      <td>[0.008603407070040703, -0.002345751039683819, ...</td>\n",
       "    </tr>\n",
       "  </tbody>\n",
       "</table>\n",
       "</div>"
      ],
      "text/plain": [
       "                    path                                               text  \\\n",
       "0     data/frameworks.md  # Neural Network Frameworks\\n\\nAs we have lear...   \n",
       "1  data/own_framework.md  # Introduction to Neural Networks. Multi-Layer...   \n",
       "2     data/perceptron.md  # Introduction to Neural Networks: Perceptron\\...   \n",
       "\n",
       "  chunks                                         embeddings  \n",
       "0      #  [0.0079061733558774, -0.0016227177111431956, 0...  \n",
       "1      #  [0.0079061733558774, -0.0016227177111431956, 0...  \n",
       "2      #  [0.008603407070040703, -0.002345751039683819, ...  "
      ]
     },
     "execution_count": 271,
     "metadata": {},
     "output_type": "execute_result"
    }
   ],
   "source": [
    "embeddings = []\n",
    "for chunk in flattened_df['chunks']:\n",
    "    embeddings.append(create_embeddings(client,chunk))\n",
    "\n",
    "# store the embeddings in the dataframe\n",
    "flattened_df['embeddings'] = embeddings\n",
    "\n",
    "flattened_df.head()"
   ]
  },
  {
   "cell_type": "markdown",
   "id": "3d85ad8d",
   "metadata": {},
   "source": [
    "Phần UI"
   ]
  },
  {
   "cell_type": "code",
   "execution_count": 272,
   "id": "f80e62f5",
   "metadata": {},
   "outputs": [],
   "source": [
    "def chatbot_with_image(user_input, history=[]):\n",
    "    # Sinh câu trả lời văn bản\n",
    "    answer = chatbot(client, user_input, flattened_df)\n",
    "\n",
    "    # Tóm tắt nội dung để tạo prompt ảnh\n",
    "    description = summarize_for_chart(client,answer)\n",
    "\n",
    "    # Sinh ảnh minh họa\n",
    "    try:\n",
    "        image_url = draw(description)\n",
    "    except openai.BadRequestError as e:\n",
    "        print(\"⚠️ Prompt bị chặn:\", e)\n",
    "        image_url = None\n",
    "\n",
    "\n",
    "    # Trả về dạng message (text + image)\n",
    "    bot_message = f\"{answer}\\n\\n![Minh họa]({image_url})\"#\n",
    "    \n",
    "    # Gradio Chatbot expects history = [(user, bot), ...]\n",
    "    history.append((user_input, bot_message))\n",
    "    return history, history\n"
   ]
  },
  {
   "cell_type": "code",
   "execution_count": 273,
   "id": "409275bb",
   "metadata": {},
   "outputs": [
    {
     "name": "stderr",
     "output_type": "stream",
     "text": [
      "C:\\Users\\Danh BH\\AppData\\Local\\Temp\\ipykernel_29832\\826140326.py:4: UserWarning: You have not specified a value for the `type` parameter. Defaulting to the 'tuples' format for chatbot messages, but this is deprecated and will be removed in a future version of Gradio. Please set type='messages' instead, which uses openai-style dictionaries with 'role' and 'content' keys.\n",
      "  chatbot_ui = gr.Chatbot()\n"
     ]
    },
    {
     "name": "stdout",
     "output_type": "stream",
     "text": [
      "* Running on local URL:  http://127.0.0.1:7884\n",
      "* To create a public link, set `share=True` in `launch()`.\n"
     ]
    },
    {
     "data": {
      "text/html": [
       "<div><iframe src=\"http://127.0.0.1:7884/\" width=\"100%\" height=\"500\" allow=\"autoplay; camera; microphone; clipboard-read; clipboard-write;\" frameborder=\"0\" allowfullscreen></iframe></div>"
      ],
      "text/plain": [
       "<IPython.core.display.HTML object>"
      ]
     },
     "metadata": {},
     "output_type": "display_data"
    },
    {
     "data": {
      "text/plain": []
     },
     "execution_count": 273,
     "metadata": {},
     "output_type": "execute_result"
    }
   ],
   "source": [
    "import gradio as gr\n",
    "\n",
    "with gr.Blocks() as demo:\n",
    "    chatbot_ui = gr.Chatbot()\n",
    "    user_input = gr.Textbox(show_label=False, placeholder=\"Nhập câu hỏi...\")\n",
    "    state = gr.State([])\n",
    "\n",
    "    def respond(user_message, chat_history):\n",
    "        return chatbot_with_image(user_message, chat_history)\n",
    "\n",
    "    user_input.submit(respond, [user_input, state], [chatbot_ui, state])\n",
    "\n",
    "demo.launch()"
   ]
  }
 ],
 "metadata": {
  "kernelspec": {
   "display_name": ".conda",
   "language": "python",
   "name": "python3"
  },
  "language_info": {
   "codemirror_mode": {
    "name": "ipython",
    "version": 3
   },
   "file_extension": ".py",
   "mimetype": "text/x-python",
   "name": "python",
   "nbconvert_exporter": "python",
   "pygments_lexer": "ipython3",
   "version": "3.11.11"
  }
 },
 "nbformat": 4,
 "nbformat_minor": 5
}
