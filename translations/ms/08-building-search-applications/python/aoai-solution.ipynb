{
 "cells": [
  {
   "cell_type": "markdown",
   "metadata": {},
   "source": [
    "Untuk menjalankan noteboooks berikut, jika anda belum melakukannya, anda perlu melaksanakan model yang menggunakan `text-embedding-ada-002` sebagai model asas dan tetapkan nama pelaksanaan di dalam fail .env sebagai `AZURE_OPENAI_EMBEDDINGS_ENDPOINT`\n"
   ]
  },
  {
   "cell_type": "code",
   "execution_count": null,
   "metadata": {},
   "outputs": [],
   "source": [
    "import os\n",
    "import pandas as pd\n",
    "import numpy as np\n",
    "from openai import AzureOpenAI\n",
    "from dotenv import load_dotenv\n",
    "\n",
    "load_dotenv()\n",
    "\n",
    "client = AzureOpenAI(\n",
    "  api_key=os.environ['AZURE_OPENAI_API_KEY'],  # this is also the default, it can be omitted\n",
    "  api_version = \"2023-05-15\"\n",
    "  )\n",
    "\n",
    "model = os.environ['AZURE_OPENAI_EMBEDDINGS_DEPLOYMENT']\n",
    "\n",
    "SIMILARITIES_RESULTS_THRESHOLD = 0.75\n",
    "DATASET_NAME = \"../embedding_index_3m.json\""
   ]
  },
  {
   "cell_type": "markdown",
   "metadata": {},
   "source": [
    "Seterusnya, kita akan memuatkan Indeks Pengekalan ke dalam Dataframe Pandas. Indeks Pengekalan disimpan dalam fail JSON yang dipanggil `embedding_index_3m.json`. Indeks Pengekalan mengandungi Pengekalan untuk setiap transkrip YouTube sehingga lewat Okt 2023.\n"
   ]
  },
  {
   "cell_type": "code",
   "execution_count": null,
   "metadata": {},
   "outputs": [],
   "source": [
    "def load_dataset(source: str) -> pd.core.frame.DataFrame:\n",
    "    # Load the video session index\n",
    "    pd_vectors = pd.read_json(source)\n",
    "    return pd_vectors.drop(columns=[\"text\"], errors=\"ignore\").fillna(\"\")"
   ]
  },
  {
   "cell_type": "markdown",
   "metadata": {},
   "source": [
    "Seterusnya, kita akan mencipta satu fungsi yang dipanggil `get_videos` yang akan mencari Indeks Embedding untuk pertanyaan yang diberikan. Fungsi ini akan memulangkan 5 video teratas yang paling serupa dengan pertanyaan tersebut. Fungsi ini berfungsi seperti berikut:\n",
    "\n",
    "1. Mula-mula, satu salinan Indeks Embedding akan dibuat.\n",
    "2. Seterusnya, Embedding untuk pertanyaan dikira menggunakan OpenAI Embedding API.\n",
    "3. Kemudian, satu lajur baru dicipta dalam Indeks Embedding yang dinamakan `similarity`. Lajur `similarity` ini mengandungi nilai keserupaan kosinus antara Embedding pertanyaan dan Embedding untuk setiap segmen video.\n",
    "4. Selepas itu, Indeks Embedding ditapis menggunakan lajur `similarity`. Indeks Embedding hanya akan mengekalkan video yang mempunyai nilai keserupaan kosinus lebih besar atau sama dengan 0.75.\n",
    "5. Akhir sekali, Indeks Embedding disusun mengikut lajur `similarity` dan 5 video teratas akan dipulangkan.\n"
   ]
  },
  {
   "cell_type": "code",
   "execution_count": null,
   "metadata": {},
   "outputs": [],
   "source": [
    "def cosine_similarity(a, b):\n",
    "    if len(a) > len(b):\n",
    "        b = np.pad(b, (0, len(a) - len(b)), 'constant')\n",
    "    elif len(b) > len(a):\n",
    "        a = np.pad(a, (0, len(b) - len(a)), 'constant')\n",
    "    return np.dot(a, b) / (np.linalg.norm(a) * np.linalg.norm(b))\n",
    "\n",
    "def get_videos(\n",
    "    query: str, dataset: pd.core.frame.DataFrame, rows: int\n",
    ") -> pd.core.frame.DataFrame:\n",
    "    # create a copy of the dataset\n",
    "    video_vectors = dataset.copy()\n",
    "\n",
    "    # get the embeddings for the query    \n",
    "    query_embeddings = client.embeddings.create(input=query, model=model).data[0].embedding\n",
    "\n",
    "    # create a new column with the calculated similarity for each row\n",
    "    video_vectors[\"similarity\"] = video_vectors[\"ada_v2\"].apply(\n",
    "        lambda x: cosine_similarity(np.array(query_embeddings), np.array(x))\n",
    "    )\n",
    "\n",
    "    # filter the videos by similarity\n",
    "    mask = video_vectors[\"similarity\"] >= SIMILARITIES_RESULTS_THRESHOLD\n",
    "    video_vectors = video_vectors[mask].copy()\n",
    "\n",
    "    # sort the videos by similarity\n",
    "    video_vectors = video_vectors.sort_values(by=\"similarity\", ascending=False).head(\n",
    "        rows\n",
    "    )\n",
    "\n",
    "    # return the top rows\n",
    "    return video_vectors.head(rows)"
   ]
  },
  {
   "cell_type": "markdown",
   "metadata": {},
   "source": [
    "Fungsi ini sangat mudah, ia hanya mencetak hasil carian.\n"
   ]
  },
  {
   "cell_type": "code",
   "execution_count": null,
   "metadata": {},
   "outputs": [],
   "source": [
    "def display_results(videos: pd.core.frame.DataFrame, query: str):\n",
    "    def _gen_yt_url(video_id: str, seconds: int) -> str:\n",
    "        \"\"\"convert time in format 00:00:00 to seconds\"\"\"\n",
    "        return f\"https://youtu.be/{video_id}?t={seconds}\"\n",
    "\n",
    "    print(f\"\\nVideos similar to '{query}':\")\n",
    "    for _, row in videos.iterrows():\n",
    "        youtube_url = _gen_yt_url(row[\"videoId\"], row[\"seconds\"])\n",
    "        print(f\" - {row['title']}\")\n",
    "        print(f\"   Summary: {' '.join(row['summary'].split()[:15])}...\")\n",
    "        print(f\"   YouTube: {youtube_url}\")\n",
    "        print(f\"   Similarity: {row['similarity']}\")\n",
    "        print(f\"   Speakers: {row['speaker']}\")"
   ]
  },
  {
   "cell_type": "markdown",
   "metadata": {},
   "source": [
    "1. Pertama, Indeks Embedding dimuat ke dalam Dataframe Pandas.\n",
    "2. Seterusnya, pengguna diminta untuk memasukkan pertanyaan.\n",
    "3. Kemudian fungsi `get_videos` dipanggil untuk mencari Indeks Embedding berdasarkan pertanyaan tersebut.\n",
    "4. Akhir sekali, fungsi `display_results` dipanggil untuk memaparkan hasil kepada pengguna.\n",
    "5. Pengguna kemudian akan diminta untuk memasukkan pertanyaan lain. Proses ini akan berterusan sehingga pengguna memasukkan `exit`.\n",
    "\n",
    "![](../../../../translated_images/notebook-search.1e320b9c7fcbb0bc1436d98ea6ee73b4b54ca47990a1c952b340a2cadf8ac1ca.ms.png)\n",
    "\n",
    "Anda akan diminta untuk memasukkan pertanyaan. Masukkan pertanyaan dan tekan enter. Aplikasi akan memaparkan senarai video yang berkaitan dengan pertanyaan anda. Aplikasi juga akan memberikan pautan ke bahagian dalam video di mana jawapan kepada soalan tersebut berada.\n",
    "\n",
    "Berikut adalah beberapa contoh pertanyaan yang boleh anda cuba:\n",
    "\n",
    "- Apakah itu Azure Machine Learning?\n",
    "- Bagaimana rangkaian neural konvolusi berfungsi?\n",
    "- Apakah itu rangkaian neural?\n",
    "- Bolehkah saya menggunakan Jupyter Notebooks dengan Azure Machine Learning?\n",
    "- Apakah itu ONNX?\n"
   ]
  },
  {
   "cell_type": "code",
   "execution_count": null,
   "metadata": {},
   "outputs": [],
   "source": [
    "pd_vectors = load_dataset(DATASET_NAME)\n",
    "\n",
    "# get user query from imput\n",
    "while True:\n",
    "    query = input(\"Enter a query: \")\n",
    "    if query == \"exit\":\n",
    "        break\n",
    "    videos = get_videos(query, pd_vectors, 5)\n",
    "    display_results(videos, query)"
   ]
  },
  {
   "cell_type": "markdown",
   "metadata": {},
   "source": []
  },
  {
   "cell_type": "markdown",
   "metadata": {},
   "source": [
    "\n---\n\n**Penafian**:  \nDokumen ini telah diterjemahkan menggunakan perkhidmatan terjemahan AI [Co-op Translator](https://github.com/Azure/co-op-translator). Walaupun kami berusaha untuk memastikan ketepatan, sila maklum bahawa terjemahan automatik mungkin mengandungi kesilapan atau ketidaktepatan. Dokumen asal dalam bahasa asalnya harus dianggap sebagai sumber yang sah. Untuk maklumat penting, terjemahan manusia profesional adalah disyorkan. Kami tidak bertanggungjawab atas sebarang salah faham atau salah tafsir yang timbul daripada penggunaan terjemahan ini.\n"
   ]
  }
 ],
 "metadata": {
  "kernelspec": {
   "display_name": "venv",
   "language": "python",
   "name": "python3"
  },
  "language_info": {
   "codemirror_mode": {
    "name": "ipython",
    "version": 3
   },
   "file_extension": ".py",
   "mimetype": "text/x-python",
   "name": "python",
   "nbconvert_exporter": "python",
   "pygments_lexer": "ipython3",
   "version": "3.10.13"
  },
  "coopTranslator": {
   "original_hash": "32c6b8e9e87156b9c63ee62a6fd7f526",
   "translation_date": "2025-08-25T18:46:30+00:00",
   "source_file": "08-building-search-applications/python/aoai-solution.ipynb",
   "language_code": "ms"
  }
 },
 "nbformat": 4,
 "nbformat_minor": 2
}