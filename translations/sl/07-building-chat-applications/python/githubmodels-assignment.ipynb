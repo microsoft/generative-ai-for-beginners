{
 "cells": [
  {
   "attachments": {},
   "cell_type": "markdown",
   "metadata": {
    "nteract": {
     "transient": {
      "deleting": false
     }
    }
   },
   "source": [
    "# Poglavje 7: Izdelava klepetalnih aplikacij\n",
    "## Hitri začetek z Github Models API\n",
    "\n",
    "Ta zvezek je prilagojen iz [Azure OpenAI Samples Repository](https://github.com/Azure/azure-openai-samples?WT.mc_id=academic-105485-koreyst), ki vključuje zvezke za dostop do storitev [Azure OpenAI](notebook-azure-openai.ipynb).\n"
   ]
  },
  {
   "attachments": {},
   "cell_type": "markdown",
   "metadata": {
    "nteract": {
     "transient": {
      "deleting": false
     }
    }
   },
   "source": [
    "# Pregled  \n",
    "\"Veliki jezikovni modeli so funkcije, ki preslikajo besedilo v besedilo. Glede na vhodni niz besedila velik jezikovni model poskuša napovedati, katero besedilo bo sledilo\" (1). Ta \"hitri začetek\" zvezek bo uporabnikom predstavil osnovne koncepte LLM, ključne zahteve paketov za začetek z AML, kratek uvod v oblikovanje pozivov ter nekaj kratkih primerov različnih uporabnih primerov.\n"
   ]
  },
  {
   "attachments": {},
   "cell_type": "markdown",
   "metadata": {
    "nteract": {
     "transient": {
      "deleting": false
     }
    }
   },
   "source": [
    "## Kazalo  \n",
    "\n",
    "[Pregled](../../../../07-building-chat-applications/python)  \n",
    "[Kako uporabljati OpenAI storitev](../../../../07-building-chat-applications/python)  \n",
    "[1. Ustvarjanje vaše OpenAI storitve](../../../../07-building-chat-applications/python)  \n",
    "[2. Namestitev](../../../../07-building-chat-applications/python)    \n",
    "[3. Poverilnice](../../../../07-building-chat-applications/python)  \n",
    "\n",
    "[Primeri uporabe](../../../../07-building-chat-applications/python)    \n",
    "[1. Povzemanje besedila](../../../../07-building-chat-applications/python)  \n",
    "[2. Razvrščanje besedila](../../../../07-building-chat-applications/python)  \n",
    "[3. Generiranje novih imen izdelkov](../../../../07-building-chat-applications/python)  \n",
    "[4. Fino prilagajanje klasifikatorja](../../../../07-building-chat-applications/python)  \n",
    "\n",
    "[Reference](../../../../07-building-chat-applications/python)\n"
   ]
  },
  {
   "attachments": {},
   "cell_type": "markdown",
   "metadata": {
    "nteract": {
     "transient": {
      "deleting": false
     }
    }
   },
   "source": [
    "### Sestavite svoj prvi poziv  \n",
    "Ta kratka vaja vam bo dala osnovni uvod v pošiljanje pozivov modelu v Github Models za preprosto nalogo \"povzemanje\".\n",
    "\n",
    "\n",
    "**Koraki**:  \n",
    "1. Namestite knjižnico `azure-ai-inference` v svoje python okolje, če je še nimate.  \n",
    "2. Naložite standardne pomožne knjižnice in nastavite Github Models poverilnice.  \n",
    "3. Izberite model za svojo nalogo  \n",
    "4. Pripravite preprost poziv za model  \n",
    "5. Pošljite svojo zahtevo API-ju modela!\n"
   ]
  },
  {
   "attachments": {},
   "cell_type": "markdown",
   "metadata": {
    "nteract": {
     "transient": {
      "deleting": false
     }
    }
   },
   "source": [
    "### 1. Namestite `azure-ai-inference`\n"
   ]
  },
  {
   "cell_type": "code",
   "execution_count": null,
   "metadata": {
    "gather": {
     "logged": 1674254990318
    },
    "jupyter": {
     "outputs_hidden": true,
     "source_hidden": false
    },
    "nteract": {
     "transient": {
      "deleting": false
     }
    }
   },
   "outputs": [],
   "source": [
    "%pip install azure-ai-inference"
   ]
  },
  {
   "attachments": {},
   "cell_type": "markdown",
   "metadata": {
    "nteract": {
     "transient": {
      "deleting": false
     }
    }
   },
   "source": [
    "### 2. Uvoz pomožnih knjižnic in ustvarjanje poverilnic\n"
   ]
  },
  {
   "cell_type": "code",
   "execution_count": null,
   "metadata": {
    "gather": {
     "logged": 1674829434433
    },
    "jupyter": {
     "outputs_hidden": false,
     "source_hidden": false
    },
    "nteract": {
     "transient": {
      "deleting": false
     }
    }
   },
   "outputs": [],
   "source": [
    "import os\n",
    "from azure.ai.inference import ChatCompletionsClient\n",
    "from azure.ai.inference.models import SystemMessage, UserMessage\n",
    "from azure.core.credentials import AzureKeyCredential\n",
    "\n",
    "token = os.environ[\"GITHUB_TOKEN\"]\n",
    "endpoint = \"https://models.inference.ai.azure.com\"\n",
    "\n",
    "client = ChatCompletionsClient(\n",
    "    endpoint=endpoint,\n",
    "    credential=AzureKeyCredential(token),\n",
    ")"
   ]
  },
  {
   "attachments": {},
   "cell_type": "markdown",
   "metadata": {
    "nteract": {
     "transient": {
      "deleting": false
     }
    }
   },
   "source": [
    "### 3. Iskanje pravega modela  \n",
    "Modeli GPT-3.5-turbo ali GPT-4 lahko razumejo in generirajo naravni jezik.\n"
   ]
  },
  {
   "cell_type": "code",
   "execution_count": null,
   "metadata": {
    "gather": {
     "logged": 1674742720788
    },
    "jupyter": {
     "outputs_hidden": true,
     "source_hidden": false
    },
    "nteract": {
     "transient": {
      "deleting": false
     }
    }
   },
   "outputs": [],
   "source": [
    "# Select the General Purpose curie model for text\n",
    "model_name = \"gpt-4o\""
   ]
  },
  {
   "attachments": {},
   "cell_type": "markdown",
   "metadata": {
    "nteract": {
     "transient": {
      "deleting": false
     }
    }
   },
   "source": [
    "## 4. Oblikovanje pozivov  \n",
    "\n",
    "\"Čarobnost velikih jezikovnih modelov je v tem, da se z učenjem na ogromnih količinah besedil, kjer poskušajo čim bolj zmanjšati napako pri napovedovanju naslednje besede, naučijo tudi številnih konceptov, ki so uporabni za te napovedi. Na primer, naučijo se konceptov, kot so\"(1):\n",
    "\n",
    "* kako črkovati\n",
    "* kako deluje slovnica\n",
    "* kako preoblikovati povedi\n",
    "* kako odgovarjati na vprašanja\n",
    "* kako voditi pogovor\n",
    "* kako pisati v različnih jezikih\n",
    "* kako programirati\n",
    "* itd.\n",
    "\n",
    "#### Kako nadzorovati velik jezikovni model  \n",
    "\"Med vsemi vhodnimi podatki v velik jezikovni model je daleč najbolj vpliven besedilni poziv(1).\n",
    "\n",
    "Velike jezikovne modele lahko spodbudimo k ustvarjanju izhoda na več načinov:\n",
    "\n",
    "Navodilo: Modelu poveste, kaj želite\n",
    "Dopolnjevanje: Model spodbudite, da dokonča začetek tistega, kar želite\n",
    "Demonstracija: Modelu pokažete, kaj želite, in sicer z:\n",
    "Nekaj primeri v pozivu\n",
    "Več sto ali tisoč primeri v učnem naboru za fino prilagajanje\"\n",
    "\n",
    "\n",
    "\n",
    "#### Obstajajo tri osnovna pravila za ustvarjanje pozivov:\n",
    "\n",
    "**Pokažite in povejte.** Jasno izrazite, kaj želite, bodisi z navodili, primeri ali kombinacijo obojega. Če želite, da model razvrsti seznam predmetov po abecedi ali razvrsti odstavek glede na čustveni ton, mu to pokažite.\n",
    "\n",
    "**Zagotovite kakovostne podatke.** Če želite ustvariti klasifikator ali modelu pokazati določen vzorec, poskrbite, da bo dovolj primerov. Preverite svoje primere — model je običajno dovolj pameten, da spregleda osnovne črkovalne napake in vam vseeno odgovori, vendar lahko domneva, da so napake namerne, kar lahko vpliva na odgovor.\n",
    "\n",
    "**Preverite nastavitve.** Nastavitvi temperature in top_p določata, kako deterministično bo model ustvaril odgovor. Če želite odgovor, kjer obstaja le en pravilen rezultat, nastavite ti vrednosti nižje. Če želite bolj raznolike odgovore, ju nastavite višje. Najpogostejša napaka pri teh nastavitvah je, da ljudje mislijo, da gre za nadzor \"pametnosti\" ali \"ustvarjalnosti\" modela.\n",
    "\n",
    "\n",
    "Vir: https://learn.microsoft.com/azure/ai-services/openai/overview\n"
   ]
  },
  {
   "attachments": {},
   "cell_type": "markdown",
   "metadata": {
    "nteract": {
     "transient": {
      "deleting": false
     }
    }
   },
   "source": []
  },
  {
   "cell_type": "code",
   "execution_count": null,
   "metadata": {
    "gather": {
     "logged": 1674494935186
    },
    "jupyter": {
     "outputs_hidden": false,
     "source_hidden": false
    },
    "nteract": {
     "transient": {
      "deleting": false
     }
    }
   },
   "outputs": [],
   "source": [
    "# Create your first prompt\n",
    "text_prompt = \"Should oxford commas always be used?\"\n",
    "\n",
    "response = client.complete(\n",
    "  model=model_name,\n",
    "  messages = [{\"role\":\"system\", \"content\":\"You are a helpful assistant.\"},\n",
    "               {\"role\":\"user\",\"content\":text_prompt},])\n",
    "\n",
    "response.choices[0].message.content"
   ]
  },
  {
   "attachments": {},
   "cell_type": "markdown",
   "metadata": {
    "nteract": {
     "transient": {
      "deleting": false
     }
    }
   },
   "source": []
  },
  {
   "cell_type": "code",
   "execution_count": null,
   "metadata": {
    "gather": {
     "logged": 1674494940872
    },
    "jupyter": {
     "outputs_hidden": false,
     "source_hidden": false
    },
    "nteract": {
     "transient": {
      "deleting": false
     }
    }
   },
   "outputs": [],
   "source": [
    "\n",
    "response = client.complete(\n",
    "  model=model_name,\n",
    "  messages = [{\"role\":\"system\", \"content\":\"You are a helpful assistant.\"},\n",
    "               {\"role\":\"user\",\"content\":text_prompt},])\n",
    "\n",
    "response.choices[0].message.content"
   ]
  },
  {
   "attachments": {},
   "cell_type": "markdown",
   "metadata": {
    "nteract": {
     "transient": {
      "deleting": false
     }
    }
   },
   "source": [
    "## Povzemi besedilo  \n",
    "#### Izziv  \n",
    "Povzemi besedilo tako, da na konec odstavka dodaš 'tl;dr:'. Opazuj, kako model razume in izvaja različne naloge brez dodatnih navodil. Lahko preizkusiš tudi bolj opisna navodila kot tl;dr, da spremeniš vedenje modela in prilagodiš povzetek, ki ga prejmeš(3).\n",
    "\n",
    "Nedavne raziskave so pokazale velike napredke pri številnih NLP nalogah in merilih z učenjem na velikih zbirkah besedil, ki mu sledi prilagajanje na določeno nalogo. Čeprav je arhitektura običajno neodvisna od naloge, ta metoda še vedno zahteva posebne zbirke podatkov za prilagajanje z več tisoč ali celo deset tisoč primeri. Ljudje pa lahko novo jezikovno nalogo običajno opravijo že z nekaj primeri ali preprostimi navodili – kar je za trenutne NLP sisteme še vedno velik izziv. Tukaj pokažemo, da povečanje jezikovnih modelov močno izboljša splošno, na nalogo neodvisno delovanje z malo primeri, včasih celo doseže raven najboljših dosedanjih pristopov s prilagajanjem.\n",
    "\n",
    "Tl;dr\n"
   ]
  },
  {
   "attachments": {},
   "cell_type": "markdown",
   "metadata": {
    "nteract": {
     "transient": {
      "deleting": false
     }
    }
   },
   "source": [
    "# Vaje za različne primere uporabe  \n",
    "1. Povzemi besedilo  \n",
    "2. Razvrsti besedilo  \n",
    "3. Ustvari nova imena izdelkov\n"
   ]
  },
  {
   "cell_type": "code",
   "execution_count": null,
   "metadata": {
    "gather": {
     "logged": 1674495198534
    },
    "jupyter": {
     "outputs_hidden": false,
     "source_hidden": false
    },
    "nteract": {
     "transient": {
      "deleting": false
     }
    }
   },
   "outputs": [],
   "source": [
    "prompt = \"Recent work has demonstrated substantial gains on many NLP tasks and benchmarks by pre-training on a large corpus of text followed by fine-tuning on a specific task. While typically task-agnostic in architecture, this method still requires task-specific fine-tuning datasets of thousands or tens of thousands of examples. By contrast, humans can generally perform a new language task from only a few examples or from simple instructions - something that current NLP systems still largely struggle to do. Here we show that scaling up language models greatly improves task-agnostic, few-shot performance, sometimes even reaching competitiveness with prior state-of-the-art fine-tuning approaches.\\n\\nTl;dr\"\n"
   ]
  },
  {
   "cell_type": "code",
   "execution_count": null,
   "metadata": {
    "gather": {
     "logged": 1674495201868
    },
    "jupyter": {
     "outputs_hidden": false,
     "source_hidden": false
    },
    "nteract": {
     "transient": {
      "deleting": false
     }
    }
   },
   "outputs": [],
   "source": [
    "#Setting a few additional, typical parameters during API Call\n",
    "\n",
    "response = client.complete(\n",
    "  model=model_name,\n",
    "  messages = [{\"role\":\"system\", \"content\":\"You are a helpful assistant.\"},\n",
    "               {\"role\":\"user\",\"content\":prompt},])\n",
    "\n",
    "response.choices[0].message.content"
   ]
  },
  {
   "attachments": {},
   "cell_type": "markdown",
   "metadata": {
    "nteract": {
     "transient": {
      "deleting": false
     }
    }
   },
   "source": [
    "## Razvrsti besedilo  \n",
    "#### Izziv  \n",
    "Razvrsti elemente v kategorije, ki jih določiš ob času sklepanja. V naslednjem primeru v pozivu navedemo tako kategorije kot tudi besedilo, ki ga je treba razvrstiti (*playground_reference).\n",
    "\n",
    "Povpraševanje stranke: Pozdravljeni, ena izmed tipk na moji tipkovnici za prenosnik se je pred kratkim zlomila in potrebujem zamenjavo:\n",
    "\n",
    "Razvrščena kategorija:\n"
   ]
  },
  {
   "cell_type": "code",
   "execution_count": null,
   "metadata": {
    "gather": {
     "logged": 1674499424645
    },
    "jupyter": {
     "outputs_hidden": false,
     "source_hidden": false
    },
    "nteract": {
     "transient": {
      "deleting": false
     }
    }
   },
   "outputs": [],
   "source": [
    "prompt = \"Classify the following inquiry into one of the following: categories: [Pricing, Hardware Support, Software Support]\\n\\ninquiry: Hello, one of the keys on my laptop keyboard broke recently and I'll need a replacement:\\n\\nClassified category:\"\n",
    "print(prompt)"
   ]
  },
  {
   "cell_type": "code",
   "execution_count": null,
   "metadata": {
    "gather": {
     "logged": 1674499378518
    },
    "jupyter": {
     "outputs_hidden": false,
     "source_hidden": false
    },
    "nteract": {
     "transient": {
      "deleting": false
     }
    }
   },
   "outputs": [],
   "source": [
    "#Setting a few additional, typical parameters during API Call\n",
    "\n",
    "response = client.complete(\n",
    "  model=model_name,\n",
    "  messages = [{\"role\":\"system\", \"content\":\"You are a helpful assistant.\"},\n",
    "               {\"role\":\"user\",\"content\":prompt},])\n",
    "\n",
    "response.choices[0].message.content"
   ]
  },
  {
   "attachments": {},
   "cell_type": "markdown",
   "metadata": {
    "nteract": {
     "transient": {
      "deleting": false
     }
    }
   },
   "source": [
    "## Ustvari nova imena izdelkov\n",
    "#### Izziv\n",
    "Ustvari imena izdelkov iz primerov besed. V navodilih vključimo informacije o izdelku, za katerega bomo ustvarjali imena. Prav tako podamo podoben primer, da pokažemo želeni vzorec. Nastavili smo tudi višjo vrednost temperature, da spodbudimo večjo naključnost in inovativne odgovore.\n",
    "\n",
    "Opis izdelka: Domači aparat za pripravo mlečnih napitkov\n",
    "Izbrane besede: hitro, zdravo, kompaktno.\n",
    "Imena izdelkov: HomeShaker, Fit Shaker, QuickShake, Shake Maker\n",
    "\n",
    "Opis izdelka: Par čevljev, ki se prilega vsaki velikosti stopala.\n",
    "Izbrane besede: prilagodljiv, prileganje, omni-fit.\n"
   ]
  },
  {
   "cell_type": "code",
   "execution_count": null,
   "metadata": {
    "gather": {
     "logged": 1674257087279
    },
    "jupyter": {
     "outputs_hidden": false,
     "source_hidden": false
    },
    "nteract": {
     "transient": {
      "deleting": false
     }
    }
   },
   "outputs": [],
   "source": [
    "prompt = \"Product description: A home milkshake maker\\nSeed words: fast, healthy, compact.\\nProduct names: HomeShaker, Fit Shaker, QuickShake, Shake Maker\\n\\nProduct description: A pair of shoes that can fit any foot size.\\nSeed words: adaptable, fit, omni-fit.\"\n",
    "\n",
    "print(prompt)"
   ]
  },
  {
   "cell_type": "code",
   "execution_count": null,
   "metadata": {
    "jupyter": {
     "outputs_hidden": false,
     "source_hidden": false
    },
    "nteract": {
     "transient": {
      "deleting": false
     }
    }
   },
   "outputs": [],
   "source": [
    "#Setting a few additional, typical parameters during API Call\n",
    "\n",
    "response = client.complete(\n",
    "  model=model_name,\n",
    "  messages = [{\"role\":\"system\", \"content\":\"You are a helpful assistant.\"},\n",
    "               {\"role\":\"user\",\"content\":prompt}])\n",
    "\n",
    "response.choices[0].message.content"
   ]
  },
  {
   "attachments": {},
   "cell_type": "markdown",
   "metadata": {
    "nteract": {
     "transient": {
      "deleting": false
     }
    }
   },
   "source": [
    "# Reference  \n",
    "- [Openai Cookbook](https://github.com/openai/openai-cookbook?WT.mc_id=academic-105485-koreyst)  \n",
    "- [OpenAI Studio Examples](https://oai.azure.com/portal?WT.mc_id=academic-105485-koreyst)  \n",
    "- [Najboljše prakse za fino nastavljanje GPT-3 za razvrščanje besedil](https://docs.google.com/document/d/1rqj7dkuvl7Byd5KQPUJRxc19BJt8wo0yHNwK84KfU3Q/edit#?WT.mc_id=academic-105485-koreyst)\n"
   ]
  },
  {
   "attachments": {},
   "cell_type": "markdown",
   "metadata": {
    "nteract": {
     "transient": {
      "deleting": false
     }
    }
   },
   "source": [
    "# Za dodatno pomoč  \n",
    "[OpenAI Komercialna ekipa](AzureOpenAITeam@microsoft.com)\n"
   ]
  },
  {
   "attachments": {},
   "cell_type": "markdown",
   "metadata": {
    "nteract": {
     "transient": {
      "deleting": false
     }
    }
   },
   "source": [
    "# Sodelavci\n",
    "* [Chew-Yean Yam](https://www.linkedin.com/in/cyyam/)\n"
   ]
  },
  {
   "cell_type": "markdown",
   "metadata": {},
   "source": []
  },
  {
   "cell_type": "markdown",
   "metadata": {},
   "source": [
    "\n---\n\n**Omejitev odgovornosti**:  \nTa dokument je bil preveden z uporabo storitve za strojno prevajanje [Co-op Translator](https://github.com/Azure/co-op-translator). Čeprav si prizadevamo za natančnost, vas prosimo, da se zavedate, da lahko samodejni prevodi vsebujejo napake ali netočnosti. Izvirni dokument v svojem maternem jeziku naj velja za avtoritativni vir. Za ključne informacije priporočamo strokoven človeški prevod. Ne prevzemamo odgovornosti za morebitna nesporazume ali napačne razlage, ki bi nastale zaradi uporabe tega prevoda.\n"
   ]
  }
 ],
 "metadata": {
  "kernel_info": {
   "name": "python310-sdkv2"
  },
  "kernelspec": {
   "display_name": "base",
   "language": "python",
   "name": "python3"
  },
  "language_info": {
   "codemirror_mode": {
    "name": "ipython",
    "version": 3
   },
   "file_extension": ".py",
   "mimetype": "text/x-python",
   "name": "python",
   "nbconvert_exporter": "python",
   "pygments_lexer": "ipython3",
   "version": "3.12.4"
  },
  "microsoft": {
   "host": {
    "AzureML": {
     "notebookHasBeenCompleted": true
    }
   }
  },
  "nteract": {
   "version": "nteract-front-end@1.0.0"
  },
  "coopTranslator": {
   "original_hash": "3eeb8e5cad61b52a8366f6259a53ed49",
   "translation_date": "2025-08-25T17:52:48+00:00",
   "source_file": "07-building-chat-applications/python/githubmodels-assignment.ipynb",
   "language_code": "sl"
  }
 },
 "nbformat": 4,
 "nbformat_minor": 2
}