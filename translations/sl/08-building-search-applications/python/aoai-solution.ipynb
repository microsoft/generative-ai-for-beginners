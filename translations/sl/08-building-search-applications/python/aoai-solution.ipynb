{
 "cells": [
  {
   "cell_type": "markdown",
   "metadata": {},
   "source": [
    "Za zagon naslednjih zvezkov, če tega še niste storili, morate uvesti model, ki uporablja `text-embedding-ada-002` kot osnovni model, in nastaviti ime uvajanja v datoteki .env kot `AZURE_OPENAI_EMBEDDINGS_ENDPOINT`.\n"
   ]
  },
  {
   "cell_type": "code",
   "execution_count": null,
   "metadata": {},
   "outputs": [],
   "source": [
    "import os\n",
    "import pandas as pd\n",
    "import numpy as np\n",
    "from openai import AzureOpenAI\n",
    "from dotenv import load_dotenv\n",
    "\n",
    "load_dotenv()\n",
    "\n",
    "client = AzureOpenAI(\n",
    "  api_key=os.environ['AZURE_OPENAI_API_KEY'],  # this is also the default, it can be omitted\n",
    "  api_version = \"2023-05-15\"\n",
    "  )\n",
    "\n",
    "model = os.environ['AZURE_OPENAI_EMBEDDINGS_DEPLOYMENT']\n",
    "\n",
    "SIMILARITIES_RESULTS_THRESHOLD = 0.75\n",
    "DATASET_NAME = \"../embedding_index_3m.json\""
   ]
  },
  {
   "cell_type": "markdown",
   "metadata": {},
   "source": [
    "Nato bomo naložili indeks vdelav v podatkovni okvir Pandas. Indeks vdelav je shranjen v JSON datoteki z imenom `embedding_index_3m.json`. Indeks vdelav vsebuje vdelave za vsak YouTube prepis do poznega oktobra 2023.\n"
   ]
  },
  {
   "cell_type": "code",
   "execution_count": null,
   "metadata": {},
   "outputs": [],
   "source": [
    "def load_dataset(source: str) -> pd.core.frame.DataFrame:\n",
    "    # Load the video session index\n",
    "    pd_vectors = pd.read_json(source)\n",
    "    return pd_vectors.drop(columns=[\"text\"], errors=\"ignore\").fillna(\"\")"
   ]
  },
  {
   "cell_type": "markdown",
   "metadata": {},
   "source": [
    "Naslednji korak je ustvariti funkcijo z imenom `get_videos`, ki bo poiskala po indeksu vdelav za dano poizvedbo. Funkcija bo vrnila 5 videoposnetkov, ki so najbolj podobni poizvedbi. Funkcija deluje tako:\n",
    "\n",
    "1. Najprej se ustvari kopija indeksa vdelav.\n",
    "2. Nato se za poizvedbo izračuna vdelava z uporabo OpenAI Embedding API.\n",
    "3. Nato se v indeksu vdelav ustvari nov stolpec z imenom `similarity`. Stolpec `similarity` vsebuje kosinusno podobnost med vdelavo poizvedbe in vdelavo za vsak segment videoposnetka.\n",
    "4. Nato se indeks vdelav filtrira po stolpcu `similarity`. Indeks vdelav se filtrira tako, da vključuje le videoposnetke, ki imajo kosinusno podobnost večjo ali enako 0,75.\n",
    "5. Na koncu se indeks vdelav razvrsti po stolpcu `similarity` in vrne se najboljših 5 videoposnetkov.\n"
   ]
  },
  {
   "cell_type": "code",
   "execution_count": null,
   "metadata": {},
   "outputs": [],
   "source": [
    "def cosine_similarity(a, b):\n",
    "    if len(a) > len(b):\n",
    "        b = np.pad(b, (0, len(a) - len(b)), 'constant')\n",
    "    elif len(b) > len(a):\n",
    "        a = np.pad(a, (0, len(b) - len(a)), 'constant')\n",
    "    return np.dot(a, b) / (np.linalg.norm(a) * np.linalg.norm(b))\n",
    "\n",
    "def get_videos(\n",
    "    query: str, dataset: pd.core.frame.DataFrame, rows: int\n",
    ") -> pd.core.frame.DataFrame:\n",
    "    # create a copy of the dataset\n",
    "    video_vectors = dataset.copy()\n",
    "\n",
    "    # get the embeddings for the query    \n",
    "    query_embeddings = client.embeddings.create(input=query, model=model).data[0].embedding\n",
    "\n",
    "    # create a new column with the calculated similarity for each row\n",
    "    video_vectors[\"similarity\"] = video_vectors[\"ada_v2\"].apply(\n",
    "        lambda x: cosine_similarity(np.array(query_embeddings), np.array(x))\n",
    "    )\n",
    "\n",
    "    # filter the videos by similarity\n",
    "    mask = video_vectors[\"similarity\"] >= SIMILARITIES_RESULTS_THRESHOLD\n",
    "    video_vectors = video_vectors[mask].copy()\n",
    "\n",
    "    # sort the videos by similarity\n",
    "    video_vectors = video_vectors.sort_values(by=\"similarity\", ascending=False).head(\n",
    "        rows\n",
    "    )\n",
    "\n",
    "    # return the top rows\n",
    "    return video_vectors.head(rows)"
   ]
  },
  {
   "cell_type": "markdown",
   "metadata": {},
   "source": [
    "Ta funkcija je zelo preprosta, saj samo izpiše rezultate iskalne poizvedbe.\n"
   ]
  },
  {
   "cell_type": "code",
   "execution_count": null,
   "metadata": {},
   "outputs": [],
   "source": [
    "def display_results(videos: pd.core.frame.DataFrame, query: str):\n",
    "    def _gen_yt_url(video_id: str, seconds: int) -> str:\n",
    "        \"\"\"convert time in format 00:00:00 to seconds\"\"\"\n",
    "        return f\"https://youtu.be/{video_id}?t={seconds}\"\n",
    "\n",
    "    print(f\"\\nVideos similar to '{query}':\")\n",
    "    for _, row in videos.iterrows():\n",
    "        youtube_url = _gen_yt_url(row[\"videoId\"], row[\"seconds\"])\n",
    "        print(f\" - {row['title']}\")\n",
    "        print(f\"   Summary: {' '.join(row['summary'].split()[:15])}...\")\n",
    "        print(f\"   YouTube: {youtube_url}\")\n",
    "        print(f\"   Similarity: {row['similarity']}\")\n",
    "        print(f\"   Speakers: {row['speaker']}\")"
   ]
  },
  {
   "cell_type": "markdown",
   "metadata": {},
   "source": [
    "1. Najprej se Embedding Index naloži v Pandas Dataframe.\n",
    "2. Nato se uporabnika pozove, da vnese poizvedbo.\n",
    "3. Nato se pokliče funkcija `get_videos`, ki v Embedding Index poišče rezultate za poizvedbo.\n",
    "4. Na koncu se pokliče funkcija `display_results`, ki uporabniku prikaže rezultate.\n",
    "5. Uporabnika se nato znova pozove, da vnese novo poizvedbo. Ta postopek se ponavlja, dokler uporabnik ne vnese `exit`.\n",
    "\n",
    "![](../../../../translated_images/notebook-search.1e320b9c7fcbb0bc1436d98ea6ee73b4b54ca47990a1c952b340a2cadf8ac1ca.sl.png)\n",
    "\n",
    "Pozvani boste, da vnesete poizvedbo. Vnesite poizvedbo in pritisnite enter. Aplikacija vam bo vrnila seznam videoposnetkov, ki so povezani z vašo poizvedbo. Prav tako boste prejeli povezavo do mesta v videoposnetku, kjer se nahaja odgovor na vaše vprašanje.\n",
    "\n",
    "Tukaj je nekaj primerov poizvedb, ki jih lahko preizkusite:\n",
    "\n",
    "- Kaj je Azure Machine Learning?\n",
    "- Kako delujejo konvolucijske nevronske mreže?\n",
    "- Kaj je nevronska mreža?\n",
    "- Ali lahko uporabljam Jupyter Notebooks z Azure Machine Learning?\n",
    "- Kaj je ONNX?\n"
   ]
  },
  {
   "cell_type": "code",
   "execution_count": null,
   "metadata": {},
   "outputs": [],
   "source": [
    "pd_vectors = load_dataset(DATASET_NAME)\n",
    "\n",
    "# get user query from imput\n",
    "while True:\n",
    "    query = input(\"Enter a query: \")\n",
    "    if query == \"exit\":\n",
    "        break\n",
    "    videos = get_videos(query, pd_vectors, 5)\n",
    "    display_results(videos, query)"
   ]
  },
  {
   "cell_type": "markdown",
   "metadata": {},
   "source": []
  },
  {
   "cell_type": "markdown",
   "metadata": {},
   "source": [
    "\n---\n\n**Omejitev odgovornosti**:  \nTa dokument je bil preveden z uporabo storitve AI prevajanja [Co-op Translator](https://github.com/Azure/co-op-translator). Čeprav si prizadevamo za natančnost, vas prosimo, da se zavedate, da lahko avtomatski prevodi vsebujejo napake ali netočnosti. Izvirni dokument v svojem maternem jeziku naj velja za avtoritativni vir. Za ključne informacije priporočamo strokovni človeški prevod. Ne prevzemamo odgovornosti za morebitna nesporazume ali napačne razlage, ki bi nastale zaradi uporabe tega prevoda.\n"
   ]
  }
 ],
 "metadata": {
  "kernelspec": {
   "display_name": "venv",
   "language": "python",
   "name": "python3"
  },
  "language_info": {
   "codemirror_mode": {
    "name": "ipython",
    "version": 3
   },
   "file_extension": ".py",
   "mimetype": "text/x-python",
   "name": "python",
   "nbconvert_exporter": "python",
   "pygments_lexer": "ipython3",
   "version": "3.10.13"
  },
  "coopTranslator": {
   "original_hash": "32c6b8e9e87156b9c63ee62a6fd7f526",
   "translation_date": "2025-08-25T18:49:14+00:00",
   "source_file": "08-building-search-applications/python/aoai-solution.ipynb",
   "language_code": "sl"
  }
 },
 "nbformat": 4,
 "nbformat_minor": 2
}