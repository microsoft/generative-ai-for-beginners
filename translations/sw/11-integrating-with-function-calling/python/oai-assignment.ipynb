{
 "cells": [
  {
   "cell_type": "markdown",
   "metadata": {},
   "source": [
    "## Utangulizi\n",
    "\n",
    "Somo hili litashughulikia:\n",
    "- Nini maana ya kuita kazi (function calling) na matumizi yake\n",
    "- Jinsi ya kuunda mwito wa kazi kwa kutumia OpenAI\n",
    "- Jinsi ya kuunganisha mwito wa kazi kwenye programu\n",
    "\n",
    "## Malengo ya Kujifunza\n",
    "\n",
    "Baada ya kukamilisha somo hili utaweza na utaelewa:\n",
    "\n",
    "- Lengo la kutumia mwito wa kazi\n",
    "- Kuweka mwito wa kazi kwa kutumia Huduma ya OpenAI\n",
    "- Kubuni miito ya kazi yenye ufanisi kwa matumizi ya programu zako\n"
   ]
  },
  {
   "cell_type": "markdown",
   "metadata": {},
   "source": [
    "## Kuelewa Utekelezaji wa Kazi (Function Calls)\n",
    "\n",
    "Kwa somo hili, tunataka kujenga kipengele kwa ajili ya kampuni yetu ya elimu ambacho kitawawezesha watumiaji kutumia chatbot kutafuta kozi za kiteknolojia. Tutapendekeza kozi zinazolingana na kiwango chao cha ujuzi, nafasi yao ya sasa na teknolojia wanayopendelea.\n",
    "\n",
    "Ili kukamilisha hili tutatumia mchanganyiko wa:\n",
    " - `OpenAI` kuunda uzoefu wa gumzo kwa mtumiaji\n",
    " - `Microsoft Learn Catalog API` kusaidia watumiaji kupata kozi kulingana na ombi lao\n",
    " - `Function Calling` kuchukua swali la mtumiaji na kulipeleka kwenye kazi ili kufanya ombi la API.\n",
    "\n",
    "Ili kuanza, hebu tuangalie kwa nini tungependa kutumia utekelezaji wa kazi (function calling) kwanza:\n",
    "\n",
    "print(\"Ujumbe kwenye ombi linalofuata:\")\n",
    "print(messages)\n",
    "print()\n",
    "\n",
    "second_response = client.chat.completions.create(\n",
    "    messages=messages,\n",
    "    model=deployment,\n",
    "    function_call=\"auto\",\n",
    "    functions=functions,\n",
    "    temperature=0\n",
    "        )  # pata majibu mapya kutoka kwa GPT ambapo inaweza kuona majibu ya kazi\n",
    "\n",
    "\n",
    "print(second_response.choices[0].message)\n"
   ]
  },
  {
   "cell_type": "markdown",
   "metadata": {},
   "source": [
    "### Kwa Nini Kutumia Function Calling\n",
    "\n",
    "Kama umeshawahi kukamilisha somo lolote katika kozi hii, pengine unaelewa nguvu ya kutumia Large Language Models (LLMs). Tunatumaini pia unaweza kuona baadhi ya mipaka yao.\n",
    "\n",
    "Function Calling ni kipengele cha OpenAI Service kilichoundwa kushughulikia changamoto zifuatazo:\n",
    "\n",
    "Muundo Usio Thabiti wa Majibu:\n",
    "- Kabla ya function calling, majibu kutoka kwa large language model hayakuwa na muundo maalum na yalikuwa hayalingani. Watengenezaji walilazimika kuandika msimbo mgumu wa kuhakiki ili kushughulikia kila tofauti katika matokeo.\n",
    "\n",
    "Ushirikiano Mdogo na Data za Nje:\n",
    "- Kabla ya kipengele hiki, ilikuwa vigumu kuingiza data kutoka sehemu nyingine za programu kwenye muktadha wa mazungumzo.\n",
    "\n",
    "Kwa kuweka viwango vya muundo wa majibu na kuwezesha muunganiko rahisi na data za nje, function calling inarahisisha utengenezaji na inapunguza uhitaji wa mantiki ya ziada ya kuhakiki.\n",
    "\n",
    "Watumiaji hawakuweza kupata majibu kama vile \"Hali ya hewa ya sasa huko Stockholm ikoje?\". Hii ni kwa sababu mifano ilikuwa imewekewa mipaka na muda ambao data ilifundishwa.\n",
    "\n",
    "Hebu tuangalie mfano hapa chini unaoonyesha tatizo hili:\n",
    "\n",
    "Tuseme tunataka kuunda hifadhidata ya taarifa za wanafunzi ili tuweze kupendekeza kozi sahihi kwao. Hapa chini tuna maelezo mawili ya wanafunzi ambayo yanafanana sana kwenye data wanayotoa.\n"
   ]
  },
  {
   "cell_type": "code",
   "execution_count": null,
   "metadata": {},
   "outputs": [],
   "source": [
    "student_1_description=\"Emily Johnson is a sophomore majoring in computer science at Duke University. She has a 3.7 GPA. Emily is an active member of the university's Chess Club and Debate Team. She hopes to pursue a career in software engineering after graduating.\"\n",
    " \n",
    "student_2_description = \"Michael Lee is a sophomore majoring in computer science at Stanford University. He has a 3.8 GPA. Michael is known for his programming skills and is an active member of the university's Robotics Club. He hopes to pursue a career in artificial intelligence after finshing his studies.\""
   ]
  },
  {
   "cell_type": "markdown",
   "metadata": {},
   "source": [
    "Tunataka kutuma hii kwa LLM ili kuchambua data. Hii inaweza kutumika baadaye katika programu yetu kutuma hii kwa API au kuhifadhi kwenye hifadhidata.\n",
    "\n",
    "Hebu tuunde maelekezo mawili yanayofanana kabisa ambayo tutaiagiza LLM kuhusu taarifa tunazozihitaji:\n"
   ]
  },
  {
   "cell_type": "markdown",
   "metadata": {},
   "source": [
    "Tunataka kutuma hii kwa LLM ili kuchambua sehemu ambazo ni muhimu kwa bidhaa yetu. Hivyo tunaweza kuunda vidokezo viwili vinavyofanana ili kuelekeza LLM:\n"
   ]
  },
  {
   "cell_type": "code",
   "execution_count": null,
   "metadata": {},
   "outputs": [],
   "source": [
    "prompt1 = f'''\n",
    "Please extract the following information from the given text and return it as a JSON object:\n",
    "\n",
    "name\n",
    "major\n",
    "school\n",
    "grades\n",
    "club\n",
    "\n",
    "This is the body of text to extract the information from:\n",
    "{student_1_description}\n",
    "'''\n",
    "\n",
    "\n",
    "prompt2 = f'''\n",
    "Please extract the following information from the given text and return it as a JSON object:\n",
    "\n",
    "name\n",
    "major\n",
    "school\n",
    "grades\n",
    "club\n",
    "\n",
    "This is the body of text to extract the information from:\n",
    "{student_2_description}\n",
    "'''\n"
   ]
  },
  {
   "cell_type": "markdown",
   "metadata": {},
   "source": [
    "Baada ya kuunda vidokezo hivi viwili, tutavituma kwa LLM kwa kutumia `openai.ChatCompletion`. Tunahifadhi dokezo hilo kwenye kigezo cha `messages` na kuipa jukumu la `user`. Hii ni kuiga ujumbe kutoka kwa mtumiaji unaoandikwa kwa roboti ya mazungumzo.\n"
   ]
  },
  {
   "cell_type": "code",
   "execution_count": null,
   "metadata": {},
   "outputs": [
    {
     "ename": "",
     "evalue": "",
     "output_type": "error",
     "traceback": [
      "\u001b[1;31mRunning cells with '/opt/homebrew/bin/python3' requires the ipykernel package.\n",
      "\u001b[1;31mRun the following command to install 'ipykernel' into the Python environment. \n",
      "\u001b[1;31mCommand: '/opt/homebrew/bin/python3 -m pip install ipykernel -U --user --force-reinstall'"
     ]
    }
   ],
   "source": [
    "import os\n",
    "import json\n",
    "from openai import OpenAI\n",
    "from dotenv import load_dotenv\n",
    "load_dotenv()\n",
    "\n",
    "client = OpenAI()\n",
    "\n",
    "deployment=\"gpt-3.5-turbo\""
   ]
  },
  {
   "cell_type": "markdown",
   "metadata": {},
   "source": []
  },
  {
   "cell_type": "code",
   "execution_count": null,
   "metadata": {},
   "outputs": [],
   "source": [
    "openai_response1 = client.chat.completions.create(\n",
    " model=deployment,    \n",
    " messages = [{'role': 'user', 'content': prompt1}]\n",
    ")\n",
    "openai_response1.choices[0].message.content "
   ]
  },
  {
   "cell_type": "code",
   "execution_count": null,
   "metadata": {},
   "outputs": [],
   "source": [
    "openai_response2 = client.chat.completions.create(\n",
    " model=deployment,    \n",
    " messages = [{'role': 'user', 'content': prompt2}]\n",
    ")\n",
    "openai_response2.choices[0].message.content"
   ]
  },
  {
   "cell_type": "code",
   "execution_count": null,
   "metadata": {},
   "outputs": [],
   "source": [
    "# Loading the response as a JSON object\n",
    "json_response1 = json.loads(openai_response1.choices[0].message.content)\n",
    "json_response1"
   ]
  },
  {
   "cell_type": "code",
   "execution_count": null,
   "metadata": {},
   "outputs": [],
   "source": [
    "# Loading the response as a JSON object\n",
    "json_response2 = json.loads(openai_response2.choices[0].message.content )\n",
    "json_response2"
   ]
  },
  {
   "cell_type": "markdown",
   "metadata": {},
   "source": [
    "Ingawa vidokezo ni sawa na maelezo yanafanana, tunaweza kupata miundo tofauti ya kipengele cha `Grades`.\n",
    "\n",
    "Ukikimbiza seli hapo juu mara kadhaa, muundo unaweza kuwa `3.7` au `3.7 GPA`.\n",
    "\n",
    "Hii ni kwa sababu LLM inachukua data isiyo na muundo kupitia vidokezo vilivyoandikwa na pia inarudisha data isiyo na muundo. Tunahitaji kuwa na muundo maalum ili tujue nini cha kutarajia tunapohifadhi au kutumia data hii.\n",
    "\n",
    "Kwa kutumia functional calling, tunaweza kuhakikisha tunapokea data yenye muundo. Unapotumia function calling, LLM haiiti wala kuendesha kazi zozote halisi. Badala yake, tunaunda muundo ambao LLM inafuata katika majibu yake. Kisha tunatumia majibu hayo yenye muundo kujua ni kazi gani ya kuendesha kwenye programu zetu.\n"
   ]
  },
  {
   "cell_type": "markdown",
   "metadata": {},
   "source": [
    "![Mchoro wa Mtiririko wa Kuita Kazi](../../../../translated_images/Function-Flow.083875364af4f4bb69bd6f6ed94096a836453183a71cf22388f50310ad6404de.sw.png)\n"
   ]
  },
  {
   "cell_type": "markdown",
   "metadata": {},
   "source": []
  },
  {
   "cell_type": "markdown",
   "metadata": {},
   "source": [
    "### Matumizi ya function calls\n",
    "\n",
    "**Kutumia Zana za Nje**\n",
    "Chatbots ni bora katika kutoa majibu kwa maswali ya watumiaji. Kwa kutumia function calling, chatbots zinaweza kutumia ujumbe kutoka kwa watumiaji kutekeleza majukumu fulani. Kwa mfano, mwanafunzi anaweza kuomba chatbot \"Tuma barua pepe kwa mwalimu wangu ukisema nahitaji msaada zaidi kwenye somo hili\". Hii inaweza kufanya function call kwa `send_email(to: string, body: string)`\n",
    "\n",
    "**Kuunda API au Maswali ya Database**\n",
    "Watumiaji wanaweza kupata taarifa kwa kutumia lugha ya kawaida ambayo inabadilishwa kuwa query au ombi la API lililopangwa. Mfano wa hili ni mwalimu anayeuliza \"Ni akina nani wanafunzi waliomaliza kazi ya mwisho\" ambayo inaweza kuita function inayoitwa `get_completed(student_name: string, assignment: int, current_status: string)`\n",
    "\n",
    "**Kuunda Data Iliyopangwa**\n",
    "Watumiaji wanaweza kuchukua kipande cha maandishi au CSV na kutumia LLM kuchambua taarifa muhimu kutoka humo. Kwa mfano, mwanafunzi anaweza kubadilisha makala ya Wikipedia kuhusu makubaliano ya amani ili kutengeneza flash cards za AI. Hii inaweza kufanyika kwa kutumia function inayoitwa `get_important_facts(agreement_name: string, date_signed: string, parties_involved: list)`\n"
   ]
  },
  {
   "cell_type": "markdown",
   "metadata": {},
   "source": [
    "## 2. Kuunda Mwito Wako wa Kwanza wa Kazi\n",
    "\n",
    "Mchakato wa kuunda mwito wa kazi unajumuisha hatua kuu 3:\n",
    "1. Kuita Chat Completions API na orodha ya kazi zako pamoja na ujumbe wa mtumiaji\n",
    "2. Kusoma jibu la modeli ili kuchukua hatua, yaani kutekeleza kazi au mwito wa API\n",
    "3. Kufanya mwito mwingine kwa Chat Completions API na jibu kutoka kwenye kazi yako ili kutumia taarifa hiyo kuunda jibu kwa mtumiaji.\n"
   ]
  },
  {
   "cell_type": "markdown",
   "metadata": {},
   "source": [
    "![Mtiririko wa Mwito wa Kazi](../../../../translated_images/LLM-Flow.3285ed8caf4796d7343c02927f52c9d32df59e790f6e440568e2e951f6ffa5fd.sw.png)\n"
   ]
  },
  {
   "cell_type": "markdown",
   "metadata": {},
   "source": [
    "### Vipengele vya mwito wa kazi\n",
    "\n",
    "#### Uingizaji wa Mtumiaji\n",
    "\n",
    "Hatua ya kwanza ni kuunda ujumbe wa mtumiaji. Hii inaweza kutolewa kwa njia ya nguvu kwa kuchukua thamani kutoka kwenye uingizaji wa maandishi au unaweza kuweka thamani hapa. Ikiwa hii ni mara yako ya kwanza kufanya kazi na Chat Completions API, tunahitaji kufafanua `role` na `content` ya ujumbe.\n",
    "\n",
    "`role` inaweza kuwa `system` (kuweka sheria), `assistant` (mfano) au `user` (mtumiaji wa mwisho). Kwa ajili ya kuita kazi, tutaweka hii kama `user` na swali la mfano.\n"
   ]
  },
  {
   "cell_type": "code",
   "execution_count": null,
   "metadata": {},
   "outputs": [],
   "source": [
    "messages= [ {\"role\": \"user\", \"content\": \"Find me a good course for a beginner student to learn Azure.\"} ]"
   ]
  },
  {
   "cell_type": "markdown",
   "metadata": {},
   "source": [
    "### Kuunda kazi.\n",
    "\n",
    "Sasa tutaweka kazi na vigezo vya kazi hiyo. Tutatumia kazi moja tu hapa inayoitwa `search_courses` lakini unaweza kuunda kazi nyingi zaidi.\n",
    "\n",
    "**Muhimu** : Kazi hujumuishwa kwenye ujumbe wa mfumo kwa LLM na zitahesabiwa kwenye idadi ya tokeni unazopatikana nazo.\n"
   ]
  },
  {
   "cell_type": "code",
   "execution_count": null,
   "metadata": {},
   "outputs": [],
   "source": [
    "functions = [\n",
    "   {\n",
    "      \"name\":\"search_courses\",\n",
    "      \"description\":\"Retrieves courses from the search index based on the parameters provided\",\n",
    "      \"parameters\":{\n",
    "         \"type\":\"object\",\n",
    "         \"properties\":{\n",
    "            \"role\":{\n",
    "               \"type\":\"string\",\n",
    "               \"description\":\"The role of the learner (i.e. developer, data scientist, student, etc.)\"\n",
    "            },\n",
    "            \"product\":{\n",
    "               \"type\":\"string\",\n",
    "               \"description\":\"The product that the lesson is covering (i.e. Azure, Power BI, etc.)\"\n",
    "            },\n",
    "            \"level\":{\n",
    "               \"type\":\"string\",\n",
    "               \"description\":\"The level of experience the learner has prior to taking the course (i.e. beginner, intermediate, advanced)\"\n",
    "            }\n",
    "         },\n",
    "         \"required\":[\n",
    "            \"role\"\n",
    "         ]\n",
    "      }\n",
    "   }\n",
    "]"
   ]
  },
  {
   "cell_type": "markdown",
   "metadata": {},
   "source": [
    "**Ufafanuzi**\n",
    "\n",
    "Muundo wa ufafanuzi wa kazi una ngazi nyingi, kila moja ikiwa na sifa zake. Hapa kuna muhtasari wa muundo huu ulio ndani ya mwingine:\n",
    "\n",
    "**Sifa za Kazi Kuu:**\n",
    "\n",
    "`name` -  Jina la kazi tunayotaka iitwe.\n",
    "\n",
    "`description` - Hii ni maelezo ya jinsi kazi inavyofanya kazi. Hapa ni muhimu kuwa mahususi na wazi\n",
    "\n",
    "`parameters` - Orodha ya thamani na muundo unaotaka mfano utoe katika majibu yake\n",
    "\n",
    "**Sifa za Kitu cha Parameters:**\n",
    "\n",
    "`type` -  Aina ya data ya kitu cha parameters (mara nyingi \"object\")\n",
    "\n",
    "`properties` - Orodha ya thamani mahususi ambazo mfano utatumia kwa majibu yake\n",
    "\n",
    "**Sifa za Kigezo Kimoja:**\n",
    "\n",
    "`name` - Hufafanuliwa moja kwa moja na ufunguo wa sifa (mfano, \"role\", \"product\", \"level\")\n",
    "\n",
    "`type` - Aina ya data ya kigezo hiki mahususi (mfano, \"string\", \"number\", \"boolean\")\n",
    "\n",
    "`description` - Maelezo ya kigezo hiki mahususi\n",
    "\n",
    "**Sifa za Hiari:**\n",
    "\n",
    "`required` - Orodha inayotaja ni vigezo vipi vinavyotakiwa ili kazi ikamilike\n"
   ]
  },
  {
   "cell_type": "markdown",
   "metadata": {},
   "source": [
    "### Kufanya mwito wa kazi  \n",
    "Baada ya kufafanua kazi, sasa tunahitaji kuijumuisha kwenye mwito wa Chat Completion API. Tunafanya hivi kwa kuongeza `functions` kwenye ombi. Katika mfano huu ni `functions=functions`.\n",
    "\n",
    "Kuna pia chaguo la kuweka `function_call` kuwa `auto`. Hii inamaanisha tutamruhusu LLM aamue ni kazi gani itaitwa kulingana na ujumbe wa mtumiaji badala ya sisi kuichagua wenyewe.\n"
   ]
  },
  {
   "cell_type": "code",
   "execution_count": null,
   "metadata": {},
   "outputs": [],
   "source": [
    "response = client.chat.completions.create(model=deployment, \n",
    "                                        messages=messages,\n",
    "                                        functions=functions, \n",
    "                                        function_call=\"auto\") \n",
    "\n",
    "print(response.choices[0].message)"
   ]
  },
  {
   "cell_type": "markdown",
   "metadata": {},
   "source": [
    "Sasa hebu tuangalie jibu na tuone jinsi lilivyoandikwa:\n",
    "\n",
    "{\n",
    "  \"role\": \"assistant\",\n",
    "  \"function_call\": {\n",
    "    \"name\": \"search_courses\",\n",
    "    \"arguments\": \"{\\n  \\\"role\\\": \\\"student\\\",\\n  \\\"product\\\": \\\"Azure\\\",\\n  \\\"level\\\": \\\"beginner\\\"\\n}\"\n",
    "  }\n",
    "}\n",
    "\n",
    "Unaweza kuona kwamba jina la kazi limeitwa na kutoka kwenye ujumbe wa mtumiaji, LLM iliweza kupata data inayofaa kuwekwa kwenye hoja za kazi.\n"
   ]
  },
  {
   "cell_type": "markdown",
   "metadata": {},
   "source": [
    "## 3. Kuunganisha Mialiko ya Kazi kwenye Programu.\n",
    "\n",
    "Baada ya kujaribu majibu yaliyopangwa kutoka kwa LLM, sasa tunaweza kuyaunganisha kwenye programu.\n",
    "\n",
    "### Kusimamia mtiririko\n",
    "\n",
    "Ili kuunganisha hii kwenye programu yetu, hebu tufuate hatua zifuatazo:\n",
    "\n",
    "Kwanza, tuitie huduma za OpenAI na kuhifadhi ujumbe kwenye kigezo kinachoitwa `response_message`.\n"
   ]
  },
  {
   "cell_type": "code",
   "execution_count": null,
   "metadata": {},
   "outputs": [],
   "source": [
    "response_message = response.choices[0].message"
   ]
  },
  {
   "cell_type": "markdown",
   "metadata": {},
   "source": [
    "Sasa tutaelezea kazi ambayo itaita API ya Microsoft Learn kupata orodha ya kozi:\n"
   ]
  },
  {
   "cell_type": "code",
   "execution_count": null,
   "metadata": {},
   "outputs": [],
   "source": [
    "import requests\n",
    "\n",
    "def search_courses(role, product, level):\n",
    "    url = \"https://learn.microsoft.com/api/catalog/\"\n",
    "    params = {\n",
    "        \"role\": role,\n",
    "        \"product\": product,\n",
    "        \"level\": level\n",
    "    }\n",
    "    response = requests.get(url, params=params)\n",
    "    modules = response.json()[\"modules\"]\n",
    "    results = []\n",
    "    for module in modules[:5]:\n",
    "        title = module[\"title\"]\n",
    "        url = module[\"url\"]\n",
    "        results.append({\"title\": title, \"url\": url})\n",
    "    return str(results)\n",
    "\n"
   ]
  },
  {
   "cell_type": "markdown",
   "metadata": {},
   "source": [
    "Kama utaratibu bora, tutaangalia kama mfano unataka kuita kazi fulani. Baada ya hapo, tutaunda moja ya kazi zinazopatikana na kuilinganisha na kazi inayotakiwa kuitwa. \n",
    "Kisha, tutachukua hoja za kazi hiyo na kuzipanga kulingana na hoja kutoka kwa LLM.\n",
    "\n",
    "Mwishowe, tutaongeza ujumbe wa mwito wa kazi na thamani zilizorejeshwa na ujumbe wa `search_courses`. Hii inampa LLM taarifa zote inazohitaji\n",
    "kujibu mtumiaji kwa kutumia lugha ya kawaida.\n"
   ]
  },
  {
   "cell_type": "code",
   "execution_count": null,
   "metadata": {},
   "outputs": [],
   "source": [
    "# Check if the model wants to call a function\n",
    "if response_message.function_call.name:\n",
    "    print(\"Recommended Function call:\")\n",
    "    print(response_message.function_call.name)\n",
    "    print()\n",
    "\n",
    "    # Call the function. \n",
    "    function_name = response_message.function_call.name\n",
    "\n",
    "    available_functions = {\n",
    "            \"search_courses\": search_courses,\n",
    "    }\n",
    "    function_to_call = available_functions[function_name] \n",
    "\n",
    "    function_args = json.loads(response_message.function_call.arguments)\n",
    "    function_response = function_to_call(**function_args)\n",
    "\n",
    "    print(\"Output of function call:\")\n",
    "    print(function_response)\n",
    "    print(type(function_response))\n",
    "\n",
    "\n",
    "    # Add the assistant response and function response to the messages\n",
    "    messages.append( # adding assistant response to messages\n",
    "        {\n",
    "            \"role\": response_message.role,\n",
    "            \"function_call\": {\n",
    "                \"name\": function_name,\n",
    "                \"arguments\": response_message.function_call.arguments,\n",
    "            },\n",
    "            \"content\": None\n",
    "        }\n",
    "    )\n",
    "    messages.append( # adding function response to messages\n",
    "        {\n",
    "            \"role\": \"function\",\n",
    "            \"name\": function_name,\n",
    "            \"content\":function_response,\n",
    "        }\n",
    "    )\n",
    "\n"
   ]
  },
  {
   "cell_type": "markdown",
   "metadata": {},
   "source": []
  },
  {
   "cell_type": "code",
   "execution_count": null,
   "metadata": {},
   "outputs": [],
   "source": [
    "print(\"Messages in next request:\")\n",
    "print(messages)\n",
    "print()\n",
    "\n",
    "second_response = client.chat.completions.create(\n",
    "    messages=messages,\n",
    "    model=deployment,\n",
    "    function_call=\"auto\",\n",
    "    functions=functions,\n",
    "    temperature=0\n",
    "        )  # get a new response from GPT where it can see the function response\n",
    "\n",
    "\n",
    "print(second_response.choices[0].message)"
   ]
  },
  {
   "cell_type": "markdown",
   "metadata": {},
   "source": [
    "## Changamoto ya Msimbo\n",
    "\n",
    "Kazi nzuri! Ili kuendelea kujifunza kuhusu OpenAI Function Calling unaweza kujenga: https://learn.microsoft.com/training/support/catalog-api-developer-reference?WT.mc_id=academic-105485-koreyst\n",
    " - Ongeza vigezo zaidi kwenye kazi ya function ambavyo vinaweza kusaidia wanaojifunza kupata kozi zaidi. Unaweza kupata vigezo vinavyopatikana vya API hapa:\n",
    " - Tengeneza mwito mwingine wa function ambao unachukua taarifa zaidi kutoka kwa mwanafunzi kama vile lugha yao ya asili\n",
    " - Tengeneza utaratibu wa kushughulikia makosa pale ambapo mwito wa function na/au mwito wa API haurudishi kozi zinazofaa\n"
   ]
  },
  {
   "cell_type": "markdown",
   "metadata": {},
   "source": [
    "\n---\n\n**Kanusho**:  \nHati hii imetafsiriwa kwa kutumia huduma ya kutafsiri ya AI [Co-op Translator](https://github.com/Azure/co-op-translator). Ingawa tunajitahidi kwa usahihi, tafadhali fahamu kwamba tafsiri za kiotomatiki zinaweza kuwa na makosa au kutokuwa sahihi. Hati asili katika lugha yake ya asili inapaswa kuchukuliwa kama chanzo cha mamlaka. Kwa taarifa muhimu, inashauriwa kutumia mtafsiri wa kibinadamu mwenye taaluma. Hatutawajibika kwa kutoelewana au tafsiri zisizo sahihi zitokanazo na matumizi ya tafsiri hii.\n"
   ]
  }
 ],
 "metadata": {
  "kernelspec": {
   "display_name": "Python 3",
   "language": "python",
   "name": "python3"
  },
  "language_info": {
   "codemirror_mode": {
    "name": "ipython",
    "version": 3
   },
   "file_extension": ".py",
   "mimetype": "text/x-python",
   "name": "python",
   "nbconvert_exporter": "python",
   "pygments_lexer": "ipython3",
   "version": "3.12.2"
  },
  "orig_nbformat": 4,
  "coopTranslator": {
   "original_hash": "09e1959b012099c552c48fe94d66a64b",
   "translation_date": "2025-08-25T21:15:40+00:00",
   "source_file": "11-integrating-with-function-calling/python/oai-assignment.ipynb",
   "language_code": "sw"
  }
 },
 "nbformat": 4,
 "nbformat_minor": 2
}