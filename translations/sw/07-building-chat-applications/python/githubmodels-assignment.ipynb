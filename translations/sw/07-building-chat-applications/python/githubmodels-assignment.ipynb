{
 "cells": [
  {
   "attachments": {},
   "cell_type": "markdown",
   "metadata": {
    "nteract": {
     "transient": {
      "deleting": false
     }
    }
   },
   "source": [
    "# Sura ya 7: Kujenga Programu za Mazungumzo\n",
    "## Utangulizi wa Haraka wa Github Models API\n",
    "\n",
    "Daftari hili limechukuliwa kutoka kwenye [Hazina ya Sampuli za Azure OpenAI](https://github.com/Azure/azure-openai-samples?WT.mc_id=academic-105485-koreyst) ambayo inajumuisha daftari zinazopata huduma za [Azure OpenAI](notebook-azure-openai.ipynb).\n"
   ]
  },
  {
   "attachments": {},
   "cell_type": "markdown",
   "metadata": {
    "nteract": {
     "transient": {
      "deleting": false
     }
    }
   },
   "source": [
    "# Muhtasari  \n",
    "\"Miundo mikubwa ya lugha ni kazi zinazobadilisha maandishi kuwa maandishi. Ukitoa mfuatano wa maandishi, muundo mkubwa wa lugha unajaribu kutabiri maandishi yatakayofuata\"(1). Daftari hili la 'kuanza haraka' litawatambulisha watumiaji kwenye dhana kuu za LLM, mahitaji muhimu ya kifurushi ili kuanza kutumia AML, utangulizi rahisi wa kubuni vidokezo, na mifano mifupi kadhaa ya matumizi mbalimbali.\n"
   ]
  },
  {
   "attachments": {},
   "cell_type": "markdown",
   "metadata": {
    "nteract": {
     "transient": {
      "deleting": false
     }
    }
   },
   "source": [
    "## Jedwali la Yaliyomo  \n",
    "\n",
    "[Muhtasari](../../../../07-building-chat-applications/python)  \n",
    "[Jinsi ya kutumia Huduma ya OpenAI](../../../../07-building-chat-applications/python)  \n",
    "[1. Kuunda Huduma yako ya OpenAI](../../../../07-building-chat-applications/python)  \n",
    "[2. Usakinishaji](../../../../07-building-chat-applications/python)    \n",
    "[3. Vitambulisho](../../../../07-building-chat-applications/python)  \n",
    "\n",
    "[Matumizi](../../../../07-building-chat-applications/python)    \n",
    "[1. Kufupisha Maandishi](../../../../07-building-chat-applications/python)  \n",
    "[2. Kuweka Maandishi katika Makundi](../../../../07-building-chat-applications/python)  \n",
    "[3. Kutengeneza Majina Mapya ya Bidhaa](../../../../07-building-chat-applications/python)  \n",
    "[4. Kuboresha Kifasili kwa Kina](../../../../07-building-chat-applications/python)  \n",
    "\n",
    "[Marejeleo](../../../../07-building-chat-applications/python)\n"
   ]
  },
  {
   "attachments": {},
   "cell_type": "markdown",
   "metadata": {
    "nteract": {
     "transient": {
      "deleting": false
     }
    }
   },
   "source": [
    "### Tengeneza ombi lako la kwanza  \n",
    "Zoezi hili fupi litakupa utangulizi wa msingi kuhusu jinsi ya kutuma maombi (prompts) kwa mfano katika Github Models kwa kazi rahisi ya \"muhtasari\".\n",
    "\n",
    "\n",
    "**Hatua**:  \n",
    "1. Sakinisha maktaba ya `azure-ai-inference` kwenye mazingira yako ya python, kama bado hujafanya hivyo.  \n",
    "2. Pakia maktaba za kawaida za msaada na weka mazingira ya kitambulisho cha Github Models.  \n",
    "3. Chagua mfano (model) kwa kazi yako  \n",
    "4. Tengeneza ombi rahisi kwa mfano  \n",
    "5. Tuma ombi lako kwenye API ya mfano!\n"
   ]
  },
  {
   "attachments": {},
   "cell_type": "markdown",
   "metadata": {
    "nteract": {
     "transient": {
      "deleting": false
     }
    }
   },
   "source": [
    "### 1. Sakinisha `azure-ai-inference`\n"
   ]
  },
  {
   "cell_type": "code",
   "execution_count": null,
   "metadata": {
    "gather": {
     "logged": 1674254990318
    },
    "jupyter": {
     "outputs_hidden": true,
     "source_hidden": false
    },
    "nteract": {
     "transient": {
      "deleting": false
     }
    }
   },
   "outputs": [],
   "source": [
    "%pip install azure-ai-inference"
   ]
  },
  {
   "attachments": {},
   "cell_type": "markdown",
   "metadata": {
    "nteract": {
     "transient": {
      "deleting": false
     }
    }
   },
   "source": []
  },
  {
   "cell_type": "code",
   "execution_count": null,
   "metadata": {
    "gather": {
     "logged": 1674829434433
    },
    "jupyter": {
     "outputs_hidden": false,
     "source_hidden": false
    },
    "nteract": {
     "transient": {
      "deleting": false
     }
    }
   },
   "outputs": [],
   "source": [
    "import os\n",
    "from azure.ai.inference import ChatCompletionsClient\n",
    "from azure.ai.inference.models import SystemMessage, UserMessage\n",
    "from azure.core.credentials import AzureKeyCredential\n",
    "\n",
    "token = os.environ[\"GITHUB_TOKEN\"]\n",
    "endpoint = \"https://models.inference.ai.azure.com\"\n",
    "\n",
    "client = ChatCompletionsClient(\n",
    "    endpoint=endpoint,\n",
    "    credential=AzureKeyCredential(token),\n",
    ")"
   ]
  },
  {
   "attachments": {},
   "cell_type": "markdown",
   "metadata": {
    "nteract": {
     "transient": {
      "deleting": false
     }
    }
   },
   "source": [
    "### 3. Kupata modeli sahihi  \n",
    "Modeli za GPT-3.5-turbo au GPT-4 zinaweza kuelewa na kutoa lugha ya kawaida.\n"
   ]
  },
  {
   "cell_type": "code",
   "execution_count": null,
   "metadata": {
    "gather": {
     "logged": 1674742720788
    },
    "jupyter": {
     "outputs_hidden": true,
     "source_hidden": false
    },
    "nteract": {
     "transient": {
      "deleting": false
     }
    }
   },
   "outputs": [],
   "source": [
    "# Select the General Purpose curie model for text\n",
    "model_name = \"gpt-4o\""
   ]
  },
  {
   "attachments": {},
   "cell_type": "markdown",
   "metadata": {
    "nteract": {
     "transient": {
      "deleting": false
     }
    }
   },
   "source": [
    "## 4. Ubunifu wa Maagizo  \n",
    "\n",
    "\"Ujanja wa miundo mikubwa ya lugha ni kwamba kwa kufundishwa kupunguza makosa ya utabiri kupitia maandishi mengi sana, miundo hii huishia kujifunza dhana muhimu kwa utabiri huo. Kwa mfano, hujifunza dhana kama\"(1):\n",
    "\n",
    "* jinsi ya kuandika maneno kwa usahihi\n",
    "* jinsi sarufi inavyofanya kazi\n",
    "* jinsi ya kusema kitu kwa maneno mengine\n",
    "* jinsi ya kujibu maswali\n",
    "* jinsi ya kufanya mazungumzo\n",
    "* jinsi ya kuandika kwa lugha nyingi\n",
    "* jinsi ya kuandika msimbo\n",
    "* na kadhalika\n",
    "\n",
    "#### Jinsi ya kudhibiti muundo mkubwa wa lugha  \n",
    "\"Kati ya vitu vyote vinavyoingizwa kwenye muundo mkubwa wa lugha, chenye ushawishi mkubwa zaidi ni maandishi ya agizo (prompt)(1).\n",
    "\n",
    "Miundo mikubwa ya lugha inaweza kupewa maagizo ili kutoa majibu kwa njia kadhaa:\n",
    "\n",
    "Maelekezo: Mwambie muundo unachotaka\n",
    "Ukamalishaji: Fanya muundo ukamilishe mwanzo wa unachotaka\n",
    "Onyesho: Onyesha muundo unachotaka, kwa kutumia:\n",
    "Mifano michache kwenye agizo\n",
    "Mamia au maelfu ya mifano kwenye seti ya mafunzo ya kurekebisha zaidi (fine-tuning)\"\n",
    "\n",
    "#### Kuna miongozo mitatu ya msingi ya kuunda maagizo:\n",
    "\n",
    "**Onyesha na eleza**. Fanya iwe wazi unachotaka kupitia maelekezo, mifano, au mchanganyiko wa vyote viwili. Ikiwa unataka muundo upange orodha ya vitu kwa mpangilio wa alfabeti au uainishe aya kulingana na hisia, onyesha kwamba hicho ndicho unachotaka.\n",
    "\n",
    "**Toa data bora**. Ikiwa unajaribu kutengeneza kigeuzi au kupata muundo ufuate mtindo fulani, hakikisha kuna mifano ya kutosha. Hakikisha umepitia mifano yako — muundo mara nyingi ni mwerevu kiasi cha kuona makosa madogo ya tahajia na kukupa jibu, lakini pia unaweza kudhani ni makusudi na hilo linaweza kuathiri jibu.\n",
    "\n",
    "**Kagua mipangilio yako.** Mipangilio ya temperature na top_p inadhibiti jinsi muundo unavyotoa majibu kwa uhakika. Ikiwa unauliza jibu ambalo lina jibu moja sahihi tu, utataka kuweka haya chini. Ikiwa unatafuta majibu yenye utofauti zaidi, unaweza kuweka haya juu. Kosa kubwa ambalo watu hufanya na mipangilio hii ni kudhani kwamba ni vidhibiti vya \"werevu\" au \"ubunifu\".\n",
    "\n",
    "Chanzo: https://learn.microsoft.com/azure/ai-services/openai/overview\n"
   ]
  },
  {
   "attachments": {},
   "cell_type": "markdown",
   "metadata": {
    "nteract": {
     "transient": {
      "deleting": false
     }
    }
   },
   "source": []
  },
  {
   "cell_type": "code",
   "execution_count": null,
   "metadata": {
    "gather": {
     "logged": 1674494935186
    },
    "jupyter": {
     "outputs_hidden": false,
     "source_hidden": false
    },
    "nteract": {
     "transient": {
      "deleting": false
     }
    }
   },
   "outputs": [],
   "source": [
    "# Create your first prompt\n",
    "text_prompt = \"Should oxford commas always be used?\"\n",
    "\n",
    "response = client.complete(\n",
    "  model=model_name,\n",
    "  messages = [{\"role\":\"system\", \"content\":\"You are a helpful assistant.\"},\n",
    "               {\"role\":\"user\",\"content\":text_prompt},])\n",
    "\n",
    "response.choices[0].message.content"
   ]
  },
  {
   "attachments": {},
   "cell_type": "markdown",
   "metadata": {
    "nteract": {
     "transient": {
      "deleting": false
     }
    }
   },
   "source": []
  },
  {
   "cell_type": "code",
   "execution_count": null,
   "metadata": {
    "gather": {
     "logged": 1674494940872
    },
    "jupyter": {
     "outputs_hidden": false,
     "source_hidden": false
    },
    "nteract": {
     "transient": {
      "deleting": false
     }
    }
   },
   "outputs": [],
   "source": [
    "\n",
    "response = client.complete(\n",
    "  model=model_name,\n",
    "  messages = [{\"role\":\"system\", \"content\":\"You are a helpful assistant.\"},\n",
    "               {\"role\":\"user\",\"content\":text_prompt},])\n",
    "\n",
    "response.choices[0].message.content"
   ]
  },
  {
   "attachments": {},
   "cell_type": "markdown",
   "metadata": {
    "nteract": {
     "transient": {
      "deleting": false
     }
    }
   },
   "source": [
    "## Fupisha Maandishi  \n",
    "#### Changamoto  \n",
    "Fupisha maandishi kwa kuongeza 'tl;dr:' mwishoni mwa kifungu cha maandishi. Angalia jinsi mfano unavyoelewa kufanya kazi kadhaa bila maagizo ya ziada. Unaweza kujaribu kutumia maelekezo yenye maelezo zaidi kuliko tl;dr ili kubadilisha tabia ya mfano na kubinafsisha muhtasari unaopata(3).  \n",
    "\n",
    "Utafiti wa hivi karibuni umeonyesha mafanikio makubwa kwenye kazi nyingi za NLP na viwango vya utendaji kwa kufundisha awali kwenye mkusanyiko mkubwa wa maandishi na kisha kuboresha kwa kazi maalum. Ingawa kwa kawaida usanifu wake haujalishi kazi, mbinu hii bado inahitaji seti za data za kuboresha kazi maalum zenye maelfu au makumi ya maelfu ya mifano. Tofauti na hivyo, binadamu kwa kawaida wanaweza kufanya kazi mpya ya lugha kwa mifano michache tu au kwa maagizo rahisi - jambo ambalo mifumo ya sasa ya NLP bado inapata ugumu. Hapa tunaonyesha kwamba kuongeza ukubwa wa mifano ya lugha kunaboresha sana utendaji wa kazi bila kujali kazi, hata wakati mwingine kufikia ushindani na mbinu bora za awali za kuboresha. \n",
    "\n",
    "\n",
    "\n",
    "Tl;dr\n"
   ]
  },
  {
   "attachments": {},
   "cell_type": "markdown",
   "metadata": {
    "nteract": {
     "transient": {
      "deleting": false
     }
    }
   },
   "source": [
    "# Mazoezi kwa Matumizi Mbalimbali  \n",
    "1. Fupisha Maandishi  \n",
    "2. Panga Maandishi kwa Makundi  \n",
    "3. Buni Majina Mapya ya Bidhaa\n"
   ]
  },
  {
   "cell_type": "code",
   "execution_count": null,
   "metadata": {
    "gather": {
     "logged": 1674495198534
    },
    "jupyter": {
     "outputs_hidden": false,
     "source_hidden": false
    },
    "nteract": {
     "transient": {
      "deleting": false
     }
    }
   },
   "outputs": [],
   "source": [
    "prompt = \"Recent work has demonstrated substantial gains on many NLP tasks and benchmarks by pre-training on a large corpus of text followed by fine-tuning on a specific task. While typically task-agnostic in architecture, this method still requires task-specific fine-tuning datasets of thousands or tens of thousands of examples. By contrast, humans can generally perform a new language task from only a few examples or from simple instructions - something that current NLP systems still largely struggle to do. Here we show that scaling up language models greatly improves task-agnostic, few-shot performance, sometimes even reaching competitiveness with prior state-of-the-art fine-tuning approaches.\\n\\nTl;dr\"\n"
   ]
  },
  {
   "cell_type": "code",
   "execution_count": null,
   "metadata": {
    "gather": {
     "logged": 1674495201868
    },
    "jupyter": {
     "outputs_hidden": false,
     "source_hidden": false
    },
    "nteract": {
     "transient": {
      "deleting": false
     }
    }
   },
   "outputs": [],
   "source": [
    "#Setting a few additional, typical parameters during API Call\n",
    "\n",
    "response = client.complete(\n",
    "  model=model_name,\n",
    "  messages = [{\"role\":\"system\", \"content\":\"You are a helpful assistant.\"},\n",
    "               {\"role\":\"user\",\"content\":prompt},])\n",
    "\n",
    "response.choices[0].message.content"
   ]
  },
  {
   "attachments": {},
   "cell_type": "markdown",
   "metadata": {
    "nteract": {
     "transient": {
      "deleting": false
     }
    }
   },
   "source": [
    "## Tambua Maandishi  \n",
    "#### Changamoto  \n",
    "Panga vitu katika makundi yanayotolewa wakati wa uchanganuzi. Katika mfano ufuatao, tunatoa makundi pamoja na maandishi yanayotakiwa kupangwa kwenye dokezo (*playground_reference).\n",
    "\n",
    "Uchunguzi wa Mteja: Habari, moja ya vitufe kwenye kibodi ya kompyuta yangu ndogo kimevunjika hivi karibuni na nitahitaji kipya:\n",
    "\n",
    "Kundi lililotambuliwa:\n"
   ]
  },
  {
   "cell_type": "code",
   "execution_count": null,
   "metadata": {
    "gather": {
     "logged": 1674499424645
    },
    "jupyter": {
     "outputs_hidden": false,
     "source_hidden": false
    },
    "nteract": {
     "transient": {
      "deleting": false
     }
    }
   },
   "outputs": [],
   "source": [
    "prompt = \"Classify the following inquiry into one of the following: categories: [Pricing, Hardware Support, Software Support]\\n\\ninquiry: Hello, one of the keys on my laptop keyboard broke recently and I'll need a replacement:\\n\\nClassified category:\"\n",
    "print(prompt)"
   ]
  },
  {
   "cell_type": "code",
   "execution_count": null,
   "metadata": {
    "gather": {
     "logged": 1674499378518
    },
    "jupyter": {
     "outputs_hidden": false,
     "source_hidden": false
    },
    "nteract": {
     "transient": {
      "deleting": false
     }
    }
   },
   "outputs": [],
   "source": [
    "#Setting a few additional, typical parameters during API Call\n",
    "\n",
    "response = client.complete(\n",
    "  model=model_name,\n",
    "  messages = [{\"role\":\"system\", \"content\":\"You are a helpful assistant.\"},\n",
    "               {\"role\":\"user\",\"content\":prompt},])\n",
    "\n",
    "response.choices[0].message.content"
   ]
  },
  {
   "attachments": {},
   "cell_type": "markdown",
   "metadata": {
    "nteract": {
     "transient": {
      "deleting": false
     }
    }
   },
   "source": [
    "## Tengeneza Majina Mapya ya Bidhaa\n",
    "#### Changamoto\n",
    "Tengeneza majina ya bidhaa kutokana na maneno ya mfano. Hapa tunajumuisha kwenye agizo taarifa kuhusu bidhaa tunayotaka kutengenezea majina. Pia tunatoa mfano unaofanana ili kuonyesha mtindo tunaotaka upokelewe. Tumeweka pia thamani ya joto juu ili kuongeza ubunifu na majibu ya kipekee.\n",
    "\n",
    "Maelezo ya bidhaa: Mashine ya kutengeneza milkshake nyumbani\n",
    "Maneno ya mwanzo: haraka, afya, ndogo.\n",
    "Majina ya bidhaa: HomeShaker, Fit Shaker, QuickShake, Shake Maker\n",
    "\n",
    "Maelezo ya bidhaa: Jozi ya viatu vinavyoweza kutoshea ukubwa wowote wa mguu.\n",
    "Maneno ya mwanzo: kubadilika, kutoshea, omni-fit.\n"
   ]
  },
  {
   "cell_type": "code",
   "execution_count": null,
   "metadata": {
    "gather": {
     "logged": 1674257087279
    },
    "jupyter": {
     "outputs_hidden": false,
     "source_hidden": false
    },
    "nteract": {
     "transient": {
      "deleting": false
     }
    }
   },
   "outputs": [],
   "source": [
    "prompt = \"Product description: A home milkshake maker\\nSeed words: fast, healthy, compact.\\nProduct names: HomeShaker, Fit Shaker, QuickShake, Shake Maker\\n\\nProduct description: A pair of shoes that can fit any foot size.\\nSeed words: adaptable, fit, omni-fit.\"\n",
    "\n",
    "print(prompt)"
   ]
  },
  {
   "cell_type": "code",
   "execution_count": null,
   "metadata": {
    "jupyter": {
     "outputs_hidden": false,
     "source_hidden": false
    },
    "nteract": {
     "transient": {
      "deleting": false
     }
    }
   },
   "outputs": [],
   "source": [
    "#Setting a few additional, typical parameters during API Call\n",
    "\n",
    "response = client.complete(\n",
    "  model=model_name,\n",
    "  messages = [{\"role\":\"system\", \"content\":\"You are a helpful assistant.\"},\n",
    "               {\"role\":\"user\",\"content\":prompt}])\n",
    "\n",
    "response.choices[0].message.content"
   ]
  },
  {
   "attachments": {},
   "cell_type": "markdown",
   "metadata": {
    "nteract": {
     "transient": {
      "deleting": false
     }
    }
   },
   "source": [
    "# Marejeleo  \n",
    "- [Openai Cookbook](https://github.com/openai/openai-cookbook?WT.mc_id=academic-105485-koreyst)  \n",
    "- [Mifano ya OpenAI Studio](https://oai.azure.com/portal?WT.mc_id=academic-105485-koreyst)  \n",
    "- [Mbinu bora za kuboresha GPT-3 ili kuainisha maandishi](https://docs.google.com/document/d/1rqj7dkuvl7Byd5KQPUJRxc19BJt8wo0yHNwK84KfU3Q/edit#?WT.mc_id=academic-105485-koreyst)\n"
   ]
  },
  {
   "attachments": {},
   "cell_type": "markdown",
   "metadata": {
    "nteract": {
     "transient": {
      "deleting": false
     }
    }
   },
   "source": [
    "# Kwa Msaada Zaidi  \n",
    "[OpenAI Commercialization Team](AzureOpenAITeam@microsoft.com)\n"
   ]
  },
  {
   "attachments": {},
   "cell_type": "markdown",
   "metadata": {
    "nteract": {
     "transient": {
      "deleting": false
     }
    }
   },
   "source": [
    "# Wachangiaji\n",
    "* [Chew-Yean Yam](https://www.linkedin.com/in/cyyam/)\n"
   ]
  },
  {
   "cell_type": "markdown",
   "metadata": {},
   "source": []
  },
  {
   "cell_type": "markdown",
   "metadata": {},
   "source": [
    "\n---\n\n**Kanusho**:  \nHati hii imetafsiriwa kwa kutumia huduma ya kutafsiri ya AI [Co-op Translator](https://github.com/Azure/co-op-translator). Ingawa tunajitahidi kwa usahihi, tafadhali fahamu kwamba tafsiri za kiotomatiki zinaweza kuwa na makosa au kutokuwa sahihi. Hati asili katika lugha yake ya asili inapaswa kuchukuliwa kama chanzo cha mamlaka. Kwa taarifa muhimu, inashauriwa kutumia mtafsiri wa kibinadamu mwenye ujuzi. Hatutawajibika kwa kutoelewana au tafsiri zisizo sahihi zitokanazo na matumizi ya tafsiri hii.\n"
   ]
  }
 ],
 "metadata": {
  "kernel_info": {
   "name": "python310-sdkv2"
  },
  "kernelspec": {
   "display_name": "base",
   "language": "python",
   "name": "python3"
  },
  "language_info": {
   "codemirror_mode": {
    "name": "ipython",
    "version": 3
   },
   "file_extension": ".py",
   "mimetype": "text/x-python",
   "name": "python",
   "nbconvert_exporter": "python",
   "pygments_lexer": "ipython3",
   "version": "3.12.4"
  },
  "microsoft": {
   "host": {
    "AzureML": {
     "notebookHasBeenCompleted": true
    }
   }
  },
  "nteract": {
   "version": "nteract-front-end@1.0.0"
  },
  "coopTranslator": {
   "original_hash": "3eeb8e5cad61b52a8366f6259a53ed49",
   "translation_date": "2025-08-25T17:46:31+00:00",
   "source_file": "07-building-chat-applications/python/githubmodels-assignment.ipynb",
   "language_code": "sw"
  }
 },
 "nbformat": 4,
 "nbformat_minor": 2
}