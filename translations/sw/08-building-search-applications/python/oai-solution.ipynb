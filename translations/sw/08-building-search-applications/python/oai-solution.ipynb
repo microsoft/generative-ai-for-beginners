{
 "cells": [
  {
   "cell_type": "markdown",
   "metadata": {},
   "source": [
    "Ili kuendesha daftari zifuatazo, kama bado hujafanya hivyo, unahitaji kuweka ufunguo wa openai ndani ya faili .env kama `OPENAI_API_KEY`\n"
   ]
  },
  {
   "cell_type": "code",
   "execution_count": null,
   "metadata": {},
   "outputs": [],
   "source": [
    "import os\n",
    "import pandas as pd\n",
    "import numpy as np\n",
    "from openai import OpenAI\n",
    "from dotenv import load_dotenv\n",
    "\n",
    "load_dotenv()\n",
    "\n",
    "API_KEY = os.getenv(\"OPENAI_API_KEY\",\"\")\n",
    "assert API_KEY, \"ERROR: OpenAI Key is missing\"\n",
    "\n",
    "client = OpenAI(\n",
    "    api_key=API_KEY\n",
    "    )\n",
    "\n",
    "model = 'text-embedding-ada-002'\n",
    "\n",
    "SIMILARITIES_RESULTS_THRESHOLD = 0.75\n",
    "DATASET_NAME = \"../embedding_index_3m.json\""
   ]
  },
  {
   "cell_type": "markdown",
   "metadata": {},
   "source": [
    "Ifuatayo, tutapakia Embedding Index kwenye Dataframe ya Pandas. Embedding Index imehifadhiwa kwenye faili la JSON linaloitwa `embedding_index_3m.json`. Embedding Index ina Embeddings za kila moja ya maandishi ya YouTube hadi mwishoni mwa Oktoba 2023.\n"
   ]
  },
  {
   "cell_type": "code",
   "execution_count": null,
   "metadata": {},
   "outputs": [],
   "source": [
    "def load_dataset(source: str) -> pd.core.frame.DataFrame:\n",
    "    # Load the video session index\n",
    "    pd_vectors = pd.read_json(source)\n",
    "    return pd_vectors.drop(columns=[\"text\"], errors=\"ignore\").fillna(\"\")"
   ]
  },
  {
   "cell_type": "markdown",
   "metadata": {},
   "source": [
    "Ifuatayo, tutaunda kazi inayoitwa `get_videos` ambayo itatafuta kwenye Embedding Index kwa kutumia swali ulilotoa. Kazi hii itarudisha video 5 ambazo zinafanana zaidi na swali lako. Kazi hii inafanya kazi kama ifuatavyo:\n",
    "\n",
    "1. Kwanza, nakala ya Embedding Index inaundwa.\n",
    "2. Halafu, Embedding ya swali lako inakokotolewa kwa kutumia OpenAI Embedding API.\n",
    "3. Kisha safu mpya inaundwa kwenye Embedding Index inayoitwa `similarity`. Safu ya `similarity` ina thamani ya cosine similarity kati ya Embedding ya swali lako na Embedding ya kila kipande cha video.\n",
    "4. Baadaye, Embedding Index inachujwa kwa kutumia safu ya `similarity`. Embedding Index inachujwa ili kujumuisha tu video ambazo zina cosine similarity kubwa au sawa na 0.75.\n",
    "5. Mwisho, Embedding Index inapangwa kulingana na safu ya `similarity` na video 5 za juu zinarejeshwa.\n"
   ]
  },
  {
   "cell_type": "code",
   "execution_count": null,
   "metadata": {},
   "outputs": [],
   "source": [
    "def cosine_similarity(a, b):\n",
    "    return np.dot(a, b) / (np.linalg.norm(a) * np.linalg.norm(b))\n",
    "\n",
    "def get_videos(\n",
    "    query: str, dataset: pd.core.frame.DataFrame, rows: int\n",
    ") -> pd.core.frame.DataFrame:\n",
    "    # create a copy of the dataset\n",
    "    video_vectors = dataset.copy()\n",
    "\n",
    "    # get the embeddings for the query    \n",
    "    query_embeddings = client.embeddings.create(input=query, model=model).data[0].embedding\n",
    "\n",
    "    # create a new column with the calculated similarity for each row\n",
    "    video_vectors[\"similarity\"] = video_vectors[\"ada_v2\"].apply(\n",
    "        lambda x: cosine_similarity(np.array(query_embeddings), np.array(x))\n",
    "    )\n",
    "\n",
    "    # filter the videos by similarity\n",
    "    mask = video_vectors[\"similarity\"] >= SIMILARITIES_RESULTS_THRESHOLD\n",
    "    video_vectors = video_vectors[mask].copy()\n",
    "\n",
    "    # sort the videos by similarity\n",
    "    video_vectors = video_vectors.sort_values(by=\"similarity\", ascending=False).head(\n",
    "        rows\n",
    "    )\n",
    "\n",
    "    # return the top rows\n",
    "    return video_vectors.head(rows)"
   ]
  },
  {
   "cell_type": "markdown",
   "metadata": {},
   "source": [
    "Kazi hii ni rahisi sana, inachapisha tu matokeo ya utafutaji.\n"
   ]
  },
  {
   "cell_type": "code",
   "execution_count": null,
   "metadata": {},
   "outputs": [],
   "source": [
    "def display_results(videos: pd.core.frame.DataFrame, query: str):\n",
    "    def _gen_yt_url(video_id: str, seconds: int) -> str:\n",
    "        \"\"\"convert time in format 00:00:00 to seconds\"\"\"\n",
    "        return f\"https://youtu.be/{video_id}?t={seconds}\"\n",
    "\n",
    "    print(f\"\\nVideos similar to '{query}':\")\n",
    "    for _, row in videos.iterrows():\n",
    "        youtube_url = _gen_yt_url(row[\"videoId\"], row[\"seconds\"])\n",
    "        print(f\" - {row['title']}\")\n",
    "        print(f\"   Summary: {' '.join(row['summary'].split()[:15])}...\")\n",
    "        print(f\"   YouTube: {youtube_url}\")\n",
    "        print(f\"   Similarity: {row['similarity']}\")\n",
    "        print(f\"   Speakers: {row['speaker']}\")"
   ]
  },
  {
   "cell_type": "markdown",
   "metadata": {},
   "source": [
    "1. Kwanza, Embedding Index inapakiwa kwenye Dataframe ya Pandas.\n",
    "2. Kisha, mtumiaji anaombwa aingize swali.\n",
    "3. Halafu, kazi ya `get_videos` inaitwa ili kutafuta Embedding Index kwa ajili ya swali hilo.\n",
    "4. Mwishowe, kazi ya `display_results` inaitwa ili kuonyesha matokeo kwa mtumiaji.\n",
    "5. Mtumiaji anaombwa tena aingize swali lingine. Mchakato huu unaendelea hadi mtumiaji aingize `exit`.\n",
    "\n",
    "![](../../../../translated_images/notebook-search.1e320b9c7fcbb0bc1436d98ea6ee73b4b54ca47990a1c952b340a2cadf8ac1ca.sw.png)\n",
    "\n",
    "Utaombwa uingize swali. Andika swali lako kisha bonyeza enter. Programu itakurudishia orodha ya video zinazohusiana na swali lako. Pia programu itakupa kiungo kinachoelekeza moja kwa moja kwenye sehemu ya video ambapo jibu la swali lako linapatikana.\n",
    "\n",
    "Hapa kuna baadhi ya maswali ya kujaribu:\n",
    "\n",
    "- Azure Machine Learning ni nini?\n",
    "- Mtandao wa neva wa convolutional unafanya kazi vipi?\n",
    "- Mtandao wa neva ni nini?\n",
    "- Naweza kutumia Jupyter Notebooks na Azure Machine Learning?\n",
    "- ONNX ni nini?\n"
   ]
  },
  {
   "cell_type": "code",
   "execution_count": null,
   "metadata": {},
   "outputs": [],
   "source": [
    "pd_vectors = load_dataset(DATASET_NAME)\n",
    "\n",
    "# get user query from imput\n",
    "while True:\n",
    "    query = input(\"Enter a query: \")\n",
    "    if query == \"exit\":\n",
    "        break\n",
    "    videos = get_videos(query, pd_vectors, 5)\n",
    "    display_results(videos, query)"
   ]
  },
  {
   "cell_type": "markdown",
   "metadata": {},
   "source": []
  },
  {
   "cell_type": "markdown",
   "metadata": {},
   "source": [
    "\n---\n\n**Kanusho**:  \nHati hii imetafsiriwa kwa kutumia huduma ya tafsiri ya AI [Co-op Translator](https://github.com/Azure/co-op-translator). Ingawa tunajitahidi kwa usahihi, tafadhali fahamu kwamba tafsiri za kiotomatiki zinaweza kuwa na makosa au kutokuwa sahihi. Hati asili katika lugha yake ya asili inapaswa kuchukuliwa kama chanzo cha mamlaka. Kwa taarifa muhimu, inashauriwa kutumia huduma ya mtaalamu wa tafsiri ya kibinadamu. Hatutawajibika kwa kutoelewana au tafsiri potofu zitakazotokana na matumizi ya tafsiri hii.\n"
   ]
  }
 ],
 "metadata": {
  "kernelspec": {
   "display_name": "venv",
   "language": "python",
   "name": "python3"
  },
  "language_info": {
   "codemirror_mode": {
    "name": "ipython",
    "version": 3
   },
   "file_extension": ".py",
   "mimetype": "text/x-python",
   "name": "python",
   "nbconvert_exporter": "python",
   "pygments_lexer": "ipython3",
   "version": "3.10.13"
  },
  "coopTranslator": {
   "original_hash": "2c0494ceb4f5fc618a6abda0b5c09c73",
   "translation_date": "2025-08-25T19:01:58+00:00",
   "source_file": "08-building-search-applications/python/oai-solution.ipynb",
   "language_code": "sw"
  }
 },
 "nbformat": 4,
 "nbformat_minor": 2
}