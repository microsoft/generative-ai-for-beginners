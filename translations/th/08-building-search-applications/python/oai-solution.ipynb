{
 "cells": [
  {
   "cell_type": "markdown",
   "metadata": {},
   "source": [
    "เพื่อที่จะรันโน้ตบุ๊กต่อไปนี้ หากคุณยังไม่ได้ทำ คุณจำเป็นต้องตั้งค่า openai key ในไฟล์ .env เป็น `OPENAI_API_KEY`\n"
   ]
  },
  {
   "cell_type": "code",
   "execution_count": null,
   "metadata": {},
   "outputs": [],
   "source": [
    "import os\n",
    "import pandas as pd\n",
    "import numpy as np\n",
    "from openai import OpenAI\n",
    "from dotenv import load_dotenv\n",
    "\n",
    "load_dotenv()\n",
    "\n",
    "API_KEY = os.getenv(\"OPENAI_API_KEY\",\"\")\n",
    "assert API_KEY, \"ERROR: OpenAI Key is missing\"\n",
    "\n",
    "client = OpenAI(\n",
    "    api_key=API_KEY\n",
    "    )\n",
    "\n",
    "model = 'text-embedding-ada-002'\n",
    "\n",
    "SIMILARITIES_RESULTS_THRESHOLD = 0.75\n",
    "DATASET_NAME = \"../embedding_index_3m.json\""
   ]
  },
  {
   "cell_type": "markdown",
   "metadata": {},
   "source": [
    "ต่อไป เราจะโหลด Embedding Index ลงใน Pandas Dataframe โดย Embedding Index จะถูกเก็บไว้ในไฟล์ JSON ชื่อว่า `embedding_index_3m.json` Embedding Index นี้ประกอบด้วย Embeddings สำหรับแต่ละไฟล์ถอดเสียงของ YouTube จนถึงปลายเดือนตุลาคม 2023\n"
   ]
  },
  {
   "cell_type": "code",
   "execution_count": null,
   "metadata": {},
   "outputs": [],
   "source": [
    "def load_dataset(source: str) -> pd.core.frame.DataFrame:\n",
    "    # Load the video session index\n",
    "    pd_vectors = pd.read_json(source)\n",
    "    return pd_vectors.drop(columns=[\"text\"], errors=\"ignore\").fillna(\"\")"
   ]
  },
  {
   "cell_type": "markdown",
   "metadata": {},
   "source": [
    "ต่อไป เราจะสร้างฟังก์ชันชื่อ `get_videos` ที่จะใช้ค้นหา Embedding Index ตามคำค้นหา ฟังก์ชันนี้จะคืนค่าวิดีโอ 5 อันดับแรกที่มีความคล้ายคลึงกับคำค้นหามากที่สุด วิธีการทำงานของฟังก์ชันนี้มีดังนี้:\n",
    "\n",
    "1. ขั้นแรก จะมีการสร้างสำเนาของ Embedding Index ขึ้นมา\n",
    "2. จากนั้นจะคำนวณ Embedding สำหรับคำค้นหาโดยใช้ OpenAI Embedding API\n",
    "3. ต่อไปจะมีการสร้างคอลัมน์ใหม่ใน Embedding Index ชื่อว่า `similarity` โดยคอลัมน์ `similarity` นี้จะเก็บค่าความคล้ายคลึงแบบ cosine ระหว่าง Embedding ของคำค้นหาและ Embedding ของแต่ละช่วงวิดีโอ\n",
    "4. หลังจากนั้น Embedding Index จะถูกกรองโดยใช้คอลัมน์ `similarity` โดยจะเลือกเฉพาะวิดีโอที่มีค่า cosine similarity มากกว่าหรือเท่ากับ 0.75 เท่านั้น\n",
    "5. สุดท้าย Embedding Index จะถูกจัดเรียงตามคอลัมน์ `similarity` และคืนค่าวิดีโอ 5 อันดับแรก\n"
   ]
  },
  {
   "cell_type": "code",
   "execution_count": null,
   "metadata": {},
   "outputs": [],
   "source": [
    "def cosine_similarity(a, b):\n",
    "    return np.dot(a, b) / (np.linalg.norm(a) * np.linalg.norm(b))\n",
    "\n",
    "def get_videos(\n",
    "    query: str, dataset: pd.core.frame.DataFrame, rows: int\n",
    ") -> pd.core.frame.DataFrame:\n",
    "    # create a copy of the dataset\n",
    "    video_vectors = dataset.copy()\n",
    "\n",
    "    # get the embeddings for the query    \n",
    "    query_embeddings = client.embeddings.create(input=query, model=model).data[0].embedding\n",
    "\n",
    "    # create a new column with the calculated similarity for each row\n",
    "    video_vectors[\"similarity\"] = video_vectors[\"ada_v2\"].apply(\n",
    "        lambda x: cosine_similarity(np.array(query_embeddings), np.array(x))\n",
    "    )\n",
    "\n",
    "    # filter the videos by similarity\n",
    "    mask = video_vectors[\"similarity\"] >= SIMILARITIES_RESULTS_THRESHOLD\n",
    "    video_vectors = video_vectors[mask].copy()\n",
    "\n",
    "    # sort the videos by similarity\n",
    "    video_vectors = video_vectors.sort_values(by=\"similarity\", ascending=False).head(\n",
    "        rows\n",
    "    )\n",
    "\n",
    "    # return the top rows\n",
    "    return video_vectors.head(rows)"
   ]
  },
  {
   "cell_type": "markdown",
   "metadata": {},
   "source": [
    "ฟังก์ชันนี้ง่ายมาก เพียงแค่แสดงผลลัพธ์ของการค้นหา\n"
   ]
  },
  {
   "cell_type": "code",
   "execution_count": null,
   "metadata": {},
   "outputs": [],
   "source": [
    "def display_results(videos: pd.core.frame.DataFrame, query: str):\n",
    "    def _gen_yt_url(video_id: str, seconds: int) -> str:\n",
    "        \"\"\"convert time in format 00:00:00 to seconds\"\"\"\n",
    "        return f\"https://youtu.be/{video_id}?t={seconds}\"\n",
    "\n",
    "    print(f\"\\nVideos similar to '{query}':\")\n",
    "    for _, row in videos.iterrows():\n",
    "        youtube_url = _gen_yt_url(row[\"videoId\"], row[\"seconds\"])\n",
    "        print(f\" - {row['title']}\")\n",
    "        print(f\"   Summary: {' '.join(row['summary'].split()[:15])}...\")\n",
    "        print(f\"   YouTube: {youtube_url}\")\n",
    "        print(f\"   Similarity: {row['similarity']}\")\n",
    "        print(f\"   Speakers: {row['speaker']}\")"
   ]
  },
  {
   "cell_type": "markdown",
   "metadata": {},
   "source": [
    "1. ขั้นแรก Embedding Index จะถูกโหลดเข้าไปใน Pandas Dataframe\n",
    "2. จากนั้นผู้ใช้จะถูกขอให้กรอกคำค้นหา\n",
    "3. ต่อไปจะมีการเรียกใช้ฟังก์ชัน `get_videos` เพื่อค้นหา Embedding Index ด้วยคำค้นหานั้น\n",
    "4. สุดท้ายจะมีการเรียกใช้ฟังก์ชัน `display_results` เพื่อแสดงผลลัพธ์ให้กับผู้ใช้\n",
    "5. จากนั้นผู้ใช้จะถูกขอให้กรอกคำค้นหาใหม่อีกครั้ง กระบวนการนี้จะดำเนินต่อไปจนกว่าผู้ใช้จะพิมพ์ `exit`\n",
    "\n",
    "![](../../../../translated_images/notebook-search.1e320b9c7fcbb0bc1436d98ea6ee73b4b54ca47990a1c952b340a2cadf8ac1ca.th.png)\n",
    "\n",
    "คุณจะถูกขอให้กรอกคำค้นหา ให้พิมพ์คำค้นหาของคุณแล้วกด Enter แอปพลิเคชันจะแสดงรายการวิดีโอที่เกี่ยวข้องกับคำค้นหานั้นให้คุณ พร้อมทั้งลิงก์ไปยังช่วงเวลาที่มีคำตอบในวิดีโอ\n",
    "\n",
    "ตัวอย่างคำค้นหาที่คุณสามารถลองได้:\n",
    "\n",
    "- Azure Machine Learning คืออะไร\n",
    "- convolutional neural networks ทำงานอย่างไร\n",
    "- neural network คืออะไร\n",
    "- ฉันสามารถใช้ Jupyter Notebooks กับ Azure Machine Learning ได้ไหม\n",
    "- ONNX คืออะไร\n"
   ]
  },
  {
   "cell_type": "code",
   "execution_count": null,
   "metadata": {},
   "outputs": [],
   "source": [
    "pd_vectors = load_dataset(DATASET_NAME)\n",
    "\n",
    "# get user query from imput\n",
    "while True:\n",
    "    query = input(\"Enter a query: \")\n",
    "    if query == \"exit\":\n",
    "        break\n",
    "    videos = get_videos(query, pd_vectors, 5)\n",
    "    display_results(videos, query)"
   ]
  },
  {
   "cell_type": "markdown",
   "metadata": {},
   "source": []
  },
  {
   "cell_type": "markdown",
   "metadata": {},
   "source": [
    "\n---\n\n**ข้อจำกัดความรับผิดชอบ**:  \nเอกสารฉบับนี้ได้รับการแปลโดยใช้บริการแปลภาษา AI [Co-op Translator](https://github.com/Azure/co-op-translator) แม้ว่าเราจะพยายามอย่างเต็มที่เพื่อความถูกต้อง แต่โปรดทราบว่าการแปลโดยระบบอัตโนมัติอาจมีข้อผิดพลาดหรือความไม่ถูกต้อง เอกสารต้นฉบับในภาษาต้นทางควรถือเป็นแหล่งข้อมูลที่เชื่อถือได้ สำหรับข้อมูลที่มีความสำคัญ แนะนำให้ใช้บริการแปลโดยนักแปลมืออาชีพ ทางเราจะไม่รับผิดชอบต่อความเข้าใจผิดหรือการตีความที่คลาดเคลื่อนซึ่งเกิดจากการใช้การแปลนี้\n"
   ]
  }
 ],
 "metadata": {
  "kernelspec": {
   "display_name": "venv",
   "language": "python",
   "name": "python3"
  },
  "language_info": {
   "codemirror_mode": {
    "name": "ipython",
    "version": 3
   },
   "file_extension": ".py",
   "mimetype": "text/x-python",
   "name": "python",
   "nbconvert_exporter": "python",
   "pygments_lexer": "ipython3",
   "version": "3.10.13"
  },
  "coopTranslator": {
   "original_hash": "2c0494ceb4f5fc618a6abda0b5c09c73",
   "translation_date": "2025-08-25T18:59:07+00:00",
   "source_file": "08-building-search-applications/python/oai-solution.ipynb",
   "language_code": "th"
  }
 },
 "nbformat": 4,
 "nbformat_minor": 2
}