{
 "cells": [
  {
   "cell_type": "markdown",
   "metadata": {},
   "source": [
    "สมุดบันทึกต่อไปนี้ถูกสร้างขึ้นโดยอัตโนมัติโดย GitHub Copilot Chat และมีไว้สำหรับการตั้งค่าเบื้องต้นเท่านั้น\n"
   ]
  },
  {
   "cell_type": "markdown",
   "metadata": {},
   "source": [
    "# แนะนำเกี่ยวกับการออกแบบพรอมต์\n",
    "\n",
    "การออกแบบพรอมต์คือกระบวนการสร้างและปรับแต่งพรอมต์สำหรับงานประมวลผลภาษาธรรมชาติ โดยจะต้องเลือกพรอมต์ที่เหมาะสม ปรับค่าต่าง ๆ และประเมินประสิทธิภาพของพรอมต์นั้น ๆ การออกแบบพรอมต์มีความสำคัญอย่างมากในการช่วยให้โมเดล NLP มีความแม่นยำและทำงานได้อย่างมีประสิทธิภาพ ในหัวข้อนี้ เราจะมาทำความเข้าใจพื้นฐานของการออกแบบพรอมต์โดยใช้โมเดลของ OpenAI เป็นตัวอย่างในการศึกษา\n"
   ]
  },
  {
   "cell_type": "markdown",
   "metadata": {},
   "source": [
    "### แบบฝึกหัดที่ 1: การแบ่งคำ (Tokenization)\n",
    "สำรวจการแบ่งคำโดยใช้ tiktoken ซึ่งเป็นตัวแบ่งคำที่รวดเร็วและเป็นโอเพ่นซอร์สจาก OpenAI  \n",
    "ดูตัวอย่างเพิ่มเติมได้ที่ [OpenAI Cookbook](https://github.com/openai/openai-cookbook/blob/main/examples/How_to_count_tokens_with_tiktoken.ipynb?WT.mc_id=academic-105485-koreyst)\n"
   ]
  },
  {
   "cell_type": "code",
   "execution_count": null,
   "metadata": {},
   "outputs": [],
   "source": [
    "# EXERCISE:\n",
    "# 1. Run the exercise as is first\n",
    "# 2. Change the text to any prompt input you want to use & re-run to see tokens\n",
    "\n",
    "import tiktoken\n",
    "\n",
    "# Define the prompt you want tokenized\n",
    "text = f\"\"\"\n",
    "Jupiter is the fifth planet from the Sun and the \\\n",
    "largest in the Solar System. It is a gas giant with \\\n",
    "a mass one-thousandth that of the Sun, but two-and-a-half \\\n",
    "times that of all the other planets in the Solar System combined. \\\n",
    "Jupiter is one of the brightest objects visible to the naked eye \\\n",
    "in the night sky, and has been known to ancient civilizations since \\\n",
    "before recorded history. It is named after the Roman god Jupiter.[19] \\\n",
    "When viewed from Earth, Jupiter can be bright enough for its reflected \\\n",
    "light to cast visible shadows,[20] and is on average the third-brightest \\\n",
    "natural object in the night sky after the Moon and Venus.\n",
    "\"\"\"\n",
    "\n",
    "# Set the model you want encoding for\n",
    "encoding = tiktoken.encoding_for_model(\"gpt-3.5-turbo\")\n",
    "\n",
    "# Encode the text - gives you the tokens in integer form\n",
    "tokens = encoding.encode(text)\n",
    "print(tokens);\n",
    "\n",
    "# Decode the integers to see what the text versions look like\n",
    "[encoding.decode_single_token_bytes(token) for token in tokens]"
   ]
  },
  {
   "cell_type": "markdown",
   "metadata": {},
   "source": [
    "### แบบฝึกหัดที่ 2: ตรวจสอบการตั้งค่า OpenAI API Key\n",
    "\n",
    "รันโค้ดด้านล่างเพื่อตรวจสอบว่า endpoint ของ OpenAI ของคุณตั้งค่าเรียบร้อยแล้วหรือไม่ โค้ดนี้จะทดสอบด้วย prompt ง่าย ๆ และตรวจสอบผลลัพธ์ที่ได้ โดยอินพุต `oh say can you see` ควรจะต่อเนื่องไปในแนวทางประมาณ `by the dawn's early light..`\n"
   ]
  },
  {
   "cell_type": "code",
   "execution_count": null,
   "metadata": {},
   "outputs": [],
   "source": [
    "# The OpenAI SDK was updated on Nov 8, 2023 with new guidance for migration\n",
    "# See: https://github.com/openai/openai-python/discussions/742\n",
    "\n",
    "## Updated\n",
    "import os\n",
    "from openai import OpenAI\n",
    "from dotenv import load_dotenv\n",
    "load_dotenv()\n",
    "\n",
    "client = OpenAI()\n",
    "\n",
    "deployment=\"gpt-3.5-turbo\"\n",
    "\n",
    "## Updated\n",
    "def get_completion(prompt):\n",
    "    messages = [{\"role\": \"user\", \"content\": prompt}]       \n",
    "    response = client.chat.completions.create(   \n",
    "        model=deployment,                                         \n",
    "        messages=messages,\n",
    "        temperature=0, # this is the degree of randomness of the model's output\n",
    "        max_tokens=1024\n",
    "    )\n",
    "    return response.choices[0].message.content\n",
    "\n",
    "## ---------- Call the helper method\n",
    "\n",
    "### 1. Set primary content or prompt text\n",
    "text = f\"\"\"\n",
    "oh say can you see\n",
    "\"\"\"\n",
    "\n",
    "### 2. Use that in the prompt template below\n",
    "prompt = f\"\"\"\n",
    "```{text}```\n",
    "\"\"\"\n",
    "\n",
    "## 3. Run the prompt\n",
    "response = get_completion(prompt)\n",
    "print(response)"
   ]
  },
  {
   "cell_type": "markdown",
   "metadata": {},
   "source": [
    "### แบบฝึกหัดที่ 3: การแต่งเรื่องขึ้นมา\n",
    "\n",
    "ลองสำรวจดูว่าเกิดอะไรขึ้นเมื่อคุณขอให้ LLM ตอบกลับเกี่ยวกับหัวข้อที่อาจไม่มีอยู่จริง หรือหัวข้อที่มันอาจไม่รู้จักเพราะอยู่นอกชุดข้อมูลที่ถูกฝึกมา (ข้อมูลใหม่กว่า) สังเกตดูว่าคำตอบจะเปลี่ยนไปอย่างไรถ้าคุณลองใช้ข้อความแจ้งที่ต่างออกไป หรือเปลี่ยนไปใช้โมเดลอื่น\n"
   ]
  },
  {
   "cell_type": "code",
   "execution_count": null,
   "metadata": {},
   "outputs": [],
   "source": [
    "\n",
    "## Set the text for simple prompt or primary content\n",
    "## Prompt shows a template format with text in it - add cues, commands etc if needed\n",
    "## Run the completion \n",
    "text = f\"\"\"\n",
    "generate a lesson plan on the Martian War of 2076.\n",
    "\"\"\"\n",
    "\n",
    "prompt = f\"\"\"\n",
    "```{text}```\n",
    "\"\"\"\n",
    "\n",
    "response = get_completion(prompt)\n",
    "print(response)"
   ]
  },
  {
   "cell_type": "markdown",
   "metadata": {},
   "source": [
    "### แบบฝึกหัดที่ 4: ตามคำสั่ง\n",
    "ใช้ตัวแปร \"text\" เพื่อกำหนดเนื้อหาหลัก\n",
    "และใช้ตัวแปร \"prompt\" เพื่อให้คำแนะนำที่เกี่ยวข้องกับเนื้อหาหลักนั้น\n",
    "\n",
    "ในที่นี้ เราขอให้โมเดลสรุปเนื้อหาให้กับนักเรียนชั้นประถมศึกษาปีที่ 2\n"
   ]
  },
  {
   "cell_type": "code",
   "execution_count": null,
   "metadata": {},
   "outputs": [],
   "source": [
    "# Test Example\n",
    "# https://platform.openai.com/playground/p/default-summarize\n",
    "\n",
    "## Example text\n",
    "text = f\"\"\"\n",
    "Jupiter is the fifth planet from the Sun and the \\\n",
    "largest in the Solar System. It is a gas giant with \\\n",
    "a mass one-thousandth that of the Sun, but two-and-a-half \\\n",
    "times that of all the other planets in the Solar System combined. \\\n",
    "Jupiter is one of the brightest objects visible to the naked eye \\\n",
    "in the night sky, and has been known to ancient civilizations since \\\n",
    "before recorded history. It is named after the Roman god Jupiter.[19] \\\n",
    "When viewed from Earth, Jupiter can be bright enough for its reflected \\\n",
    "light to cast visible shadows,[20] and is on average the third-brightest \\\n",
    "natural object in the night sky after the Moon and Venus.\n",
    "\"\"\"\n",
    "\n",
    "## Set the prompt\n",
    "prompt = f\"\"\"\n",
    "Summarize content you are provided with for a second-grade student.\n",
    "```{text}```\n",
    "\"\"\"\n",
    "\n",
    "## Run the prompt\n",
    "response = get_completion(prompt)\n",
    "print(response)"
   ]
  },
  {
   "cell_type": "markdown",
   "metadata": {},
   "source": [
    "### แบบฝึกหัดที่ 5: คำขอที่ซับซ้อน\n",
    "ลองส่งคำขอที่มีข้อความจากระบบ, ผู้ใช้ และผู้ช่วย\n",
    "ระบบจะตั้งค่าบริบทให้กับผู้ช่วย\n",
    "ข้อความจากผู้ใช้และผู้ช่วยจะสร้างบริบทการสนทนาแบบหลายรอบ\n",
    "\n",
    "สังเกตว่าบุคลิกของผู้ช่วยถูกตั้งค่าให้ \"ประชดประชัน\" ในบริบทของระบบ\n",
    "ลองใช้บริบทบุคลิกแบบอื่น หรือเปลี่ยนชุดข้อความระหว่างผู้ใช้และผู้ช่วยดู\n"
   ]
  },
  {
   "cell_type": "code",
   "execution_count": null,
   "metadata": {},
   "outputs": [],
   "source": [
    "response = client.chat.completions.create(\n",
    "    model=deployment,\n",
    "    messages=[\n",
    "        {\"role\": \"system\", \"content\": \"You are a sarcastic assistant.\"},\n",
    "        {\"role\": \"user\", \"content\": \"Who won the world series in 2020?\"},\n",
    "        {\"role\": \"assistant\", \"content\": \"Who do you think won? The Los Angeles Dodgers of course.\"},\n",
    "        {\"role\": \"user\", \"content\": \"Where was it played?\"}\n",
    "    ]\n",
    ")\n",
    "print(response.choices[0].message.content)"
   ]
  },
  {
   "cell_type": "markdown",
   "metadata": {},
   "source": [
    "### แบบฝึกหัด: สำรวจสัญชาตญาณของคุณ\n",
    "ตัวอย่างข้างบนนี้ให้รูปแบบที่คุณสามารถนำไปใช้สร้าง prompt ใหม่ ๆ ได้ (ทั้งแบบง่าย แบบซับซ้อน แบบคำสั่ง ฯลฯ) - ลองสร้างแบบฝึกหัดอื่น ๆ เพื่อสำรวจแนวคิดอื่น ๆ ที่เราได้พูดถึง เช่น ตัวอย่าง คำใบ้ และอื่น ๆ\n"
   ]
  },
  {
   "cell_type": "markdown",
   "metadata": {},
   "source": [
    "\n---\n\n**ข้อจำกัดความรับผิดชอบ**:  \nเอกสารฉบับนี้ได้รับการแปลโดยใช้บริการแปลภาษา AI [Co-op Translator](https://github.com/Azure/co-op-translator) แม้ว่าเราจะพยายามอย่างเต็มที่เพื่อความถูกต้อง แต่โปรดทราบว่าการแปลโดยระบบอัตโนมัติอาจมีข้อผิดพลาดหรือความไม่ถูกต้อง เอกสารต้นฉบับในภาษาต้นทางควรถือเป็นแหล่งข้อมูลที่เชื่อถือได้ สำหรับข้อมูลที่มีความสำคัญ แนะนำให้ใช้บริการแปลโดยนักแปลมืออาชีพ ทางเราจะไม่รับผิดชอบต่อความเข้าใจผิดหรือการตีความที่คลาดเคลื่อนซึ่งเกิดจากการใช้การแปลนี้\n"
   ]
  }
 ],
 "metadata": {
  "language_info": {
   "name": "python"
  },
  "coopTranslator": {
   "original_hash": "ec9eedd4f3981f097d4bd34c849cb8b6",
   "translation_date": "2025-08-25T13:43:38+00:00",
   "source_file": "04-prompt-engineering-fundamentals/python/oai-assignment.ipynb",
   "language_code": "th"
  }
 },
 "nbformat": 4,
 "nbformat_minor": 2
}