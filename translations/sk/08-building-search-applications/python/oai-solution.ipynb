{
 "cells": [
  {
   "cell_type": "markdown",
   "metadata": {},
   "source": [
    "Aby ste mohli spustiť nasledujúce poznámkové bloky, ak ste to ešte neurobili, musíte nastaviť openai kľúč v súbore .env ako `OPENAI_API_KEY`\n"
   ]
  },
  {
   "cell_type": "code",
   "execution_count": null,
   "metadata": {},
   "outputs": [],
   "source": [
    "import os\n",
    "import pandas as pd\n",
    "import numpy as np\n",
    "from openai import OpenAI\n",
    "from dotenv import load_dotenv\n",
    "\n",
    "load_dotenv()\n",
    "\n",
    "API_KEY = os.getenv(\"OPENAI_API_KEY\",\"\")\n",
    "assert API_KEY, \"ERROR: OpenAI Key is missing\"\n",
    "\n",
    "client = OpenAI(\n",
    "    api_key=API_KEY\n",
    "    )\n",
    "\n",
    "model = 'text-embedding-ada-002'\n",
    "\n",
    "SIMILARITIES_RESULTS_THRESHOLD = 0.75\n",
    "DATASET_NAME = \"../embedding_index_3m.json\""
   ]
  },
  {
   "cell_type": "markdown",
   "metadata": {},
   "source": [
    "Ďalej načítame index vektorových reprezentácií (Embedding Index) do Pandas DataFrame. Index vektorových reprezentácií je uložený v JSON súbore s názvom `embedding_index_3m.json`. Index vektorových reprezentácií obsahuje vektorové reprezentácie pre každý z prepisov z YouTube až do konca októbra 2023.\n"
   ]
  },
  {
   "cell_type": "code",
   "execution_count": null,
   "metadata": {},
   "outputs": [],
   "source": [
    "def load_dataset(source: str) -> pd.core.frame.DataFrame:\n",
    "    # Load the video session index\n",
    "    pd_vectors = pd.read_json(source)\n",
    "    return pd_vectors.drop(columns=[\"text\"], errors=\"ignore\").fillna(\"\")"
   ]
  },
  {
   "cell_type": "markdown",
   "metadata": {},
   "source": [
    "Ďalej vytvoríme funkciu s názvom `get_videos`, ktorá vyhľadá v Embedding Indexe podľa zadaného dopytu. Funkcia vráti 5 videí, ktoré sú najviac podobné zadanému dopytu. Funkcia funguje nasledovne:\n",
    "\n",
    "1. Najskôr sa vytvorí kópia Embedding Indexu.\n",
    "2. Potom sa pre dopyt vypočíta Embedding pomocou OpenAI Embedding API.\n",
    "3. Následne sa v Embedding Indexe vytvorí nový stĺpec s názvom `similarity`. Stĺpec `similarity` obsahuje kosínusovú podobnosť medzi Embeddingom dopytu a Embeddingom pre každý segment videa.\n",
    "4. Potom sa Embedding Index filtruje podľa stĺpca `similarity`. Do výsledku sa zahrnú len videá, ktoré majú kosínusovú podobnosť väčšiu alebo rovnú 0,75.\n",
    "5. Nakoniec sa Embedding Index zoradí podľa stĺpca `similarity` a vráti sa 5 najlepších videí.\n"
   ]
  },
  {
   "cell_type": "code",
   "execution_count": null,
   "metadata": {},
   "outputs": [],
   "source": [
    "def cosine_similarity(a, b):\n",
    "    return np.dot(a, b) / (np.linalg.norm(a) * np.linalg.norm(b))\n",
    "\n",
    "def get_videos(\n",
    "    query: str, dataset: pd.core.frame.DataFrame, rows: int\n",
    ") -> pd.core.frame.DataFrame:\n",
    "    # create a copy of the dataset\n",
    "    video_vectors = dataset.copy()\n",
    "\n",
    "    # get the embeddings for the query    \n",
    "    query_embeddings = client.embeddings.create(input=query, model=model).data[0].embedding\n",
    "\n",
    "    # create a new column with the calculated similarity for each row\n",
    "    video_vectors[\"similarity\"] = video_vectors[\"ada_v2\"].apply(\n",
    "        lambda x: cosine_similarity(np.array(query_embeddings), np.array(x))\n",
    "    )\n",
    "\n",
    "    # filter the videos by similarity\n",
    "    mask = video_vectors[\"similarity\"] >= SIMILARITIES_RESULTS_THRESHOLD\n",
    "    video_vectors = video_vectors[mask].copy()\n",
    "\n",
    "    # sort the videos by similarity\n",
    "    video_vectors = video_vectors.sort_values(by=\"similarity\", ascending=False).head(\n",
    "        rows\n",
    "    )\n",
    "\n",
    "    # return the top rows\n",
    "    return video_vectors.head(rows)"
   ]
  },
  {
   "cell_type": "markdown",
   "metadata": {},
   "source": [
    "Táto funkcia je veľmi jednoduchá, iba vypíše výsledky vyhľadávacieho dopytu.\n"
   ]
  },
  {
   "cell_type": "code",
   "execution_count": null,
   "metadata": {},
   "outputs": [],
   "source": [
    "def display_results(videos: pd.core.frame.DataFrame, query: str):\n",
    "    def _gen_yt_url(video_id: str, seconds: int) -> str:\n",
    "        \"\"\"convert time in format 00:00:00 to seconds\"\"\"\n",
    "        return f\"https://youtu.be/{video_id}?t={seconds}\"\n",
    "\n",
    "    print(f\"\\nVideos similar to '{query}':\")\n",
    "    for _, row in videos.iterrows():\n",
    "        youtube_url = _gen_yt_url(row[\"videoId\"], row[\"seconds\"])\n",
    "        print(f\" - {row['title']}\")\n",
    "        print(f\"   Summary: {' '.join(row['summary'].split()[:15])}...\")\n",
    "        print(f\"   YouTube: {youtube_url}\")\n",
    "        print(f\"   Similarity: {row['similarity']}\")\n",
    "        print(f\"   Speakers: {row['speaker']}\")"
   ]
  },
  {
   "cell_type": "markdown",
   "metadata": {},
   "source": [
    "1. Najprv sa Embedding Index načíta do Pandas Dataframe.\n",
    "2. Následne je používateľ vyzvaný, aby zadal dopyt.\n",
    "3. Potom sa zavolá funkcia `get_videos`, ktorá vyhľadá dopyt v Embedding Indexe.\n",
    "4. Nakoniec sa zavolá funkcia `display_results`, ktorá zobrazí výsledky používateľovi.\n",
    "5. Používateľ je potom opäť vyzvaný na zadanie ďalšieho dopytu. Tento proces sa opakuje, kým používateľ nezadá `exit`.\n",
    "\n",
    "![](../../../../translated_images/notebook-search.1e320b9c7fcbb0bc1436d98ea6ee73b4b54ca47990a1c952b340a2cadf8ac1ca.sk.png)\n",
    "\n",
    "Budete vyzvaní na zadanie dopytu. Zadajte dopyt a stlačte enter. Aplikácia vráti zoznam videí, ktoré sú relevantné k zadanému dopytu. Aplikácia tiež poskytne odkaz na miesto vo videu, kde sa nachádza odpoveď na vašu otázku.\n",
    "\n",
    "Tu je niekoľko príkladov dopytov, ktoré môžete vyskúšať:\n",
    "\n",
    "- Čo je Azure Machine Learning?\n",
    "- Ako fungujú konvolučné neurónové siete?\n",
    "- Čo je neurónová sieť?\n",
    "- Môžem používať Jupyter Notebooks s Azure Machine Learning?\n",
    "- Čo je ONNX?\n"
   ]
  },
  {
   "cell_type": "code",
   "execution_count": null,
   "metadata": {},
   "outputs": [],
   "source": [
    "pd_vectors = load_dataset(DATASET_NAME)\n",
    "\n",
    "# get user query from imput\n",
    "while True:\n",
    "    query = input(\"Enter a query: \")\n",
    "    if query == \"exit\":\n",
    "        break\n",
    "    videos = get_videos(query, pd_vectors, 5)\n",
    "    display_results(videos, query)"
   ]
  },
  {
   "cell_type": "markdown",
   "metadata": {},
   "source": []
  },
  {
   "cell_type": "markdown",
   "metadata": {},
   "source": [
    "\n---\n\n**Vyhlásenie o vylúčení zodpovednosti**:  \nTento dokument bol preložený pomocou AI prekladateľskej služby [Co-op Translator](https://github.com/Azure/co-op-translator). Hoci sa snažíme o presnosť, upozorňujeme, že automatizované preklady môžu obsahovať chyby alebo nepresnosti. Za autoritatívny zdroj sa považuje pôvodný dokument v jeho natívnom jazyku. Pre kritické informácie odporúčame profesionálny ľudský preklad. Nezodpovedáme za žiadne nedorozumenia alebo nesprávne interpretácie vyplývajúce z použitia tohto prekladu.\n"
   ]
  }
 ],
 "metadata": {
  "kernelspec": {
   "display_name": "venv",
   "language": "python",
   "name": "python3"
  },
  "language_info": {
   "codemirror_mode": {
    "name": "ipython",
    "version": 3
   },
   "file_extension": ".py",
   "mimetype": "text/x-python",
   "name": "python",
   "nbconvert_exporter": "python",
   "pygments_lexer": "ipython3",
   "version": "3.10.13"
  },
  "coopTranslator": {
   "original_hash": "2c0494ceb4f5fc618a6abda0b5c09c73",
   "translation_date": "2025-08-25T19:02:54+00:00",
   "source_file": "08-building-search-applications/python/oai-solution.ipynb",
   "language_code": "sk"
  }
 },
 "nbformat": 4,
 "nbformat_minor": 2
}