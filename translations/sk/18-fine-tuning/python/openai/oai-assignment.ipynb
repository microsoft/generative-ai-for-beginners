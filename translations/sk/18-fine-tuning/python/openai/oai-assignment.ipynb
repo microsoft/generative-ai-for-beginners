{
 "cells": [
  {
   "cell_type": "markdown",
   "metadata": {},
   "source": [
    "# Jemné doladenie modelov Open AI\n",
    "\n",
    "Tento notebook vychádza z aktuálnych odporúčaní uvedených v dokumentácii [Fine Tuning](https://platform.openai.com/docs/guides/fine-tuning?WT.mc_id=academic-105485-koreyst) od Open AI.\n",
    "\n",
    "Jemné doladenie zlepšuje výkon základných modelov pre vašu aplikáciu tým, že ich pretrénuje s ďalšími údajmi a kontextom, ktoré sú relevantné pre konkrétny prípad použitia alebo scenár. Upozorňujeme, že techniky navrhovania promptov ako _few shot learning_ a _retrieval augmented generation_ vám umožňujú rozšíriť predvolený prompt o relevantné údaje na zlepšenie kvality. Tieto prístupy sú však obmedzené maximálnou veľkosťou tokenového okna cieľového základného modelu.\n",
    "\n",
    "Pri jemnom doladení v podstate pretrénovávame samotný model s požadovanými údajmi (čo nám umožňuje použiť oveľa viac príkladov, než by sa zmestilo do maximálneho tokenového okna) – a nasadzujeme _vlastnú_ verziu modelu, ktorá už nepotrebuje mať príklady zadané pri inferencii. To nielenže zlepšuje efektivitu návrhu promptov (máme väčšiu flexibilitu pri využití tokenového okna na iné účely), ale potenciálne aj znižuje naše náklady (tým, že znižujeme počet tokenov, ktoré musíme modelu posielať pri inferencii).\n",
    "\n",
    "Jemné doladenie má 4 kroky:\n",
    "1. Pripravte trénovacie dáta a nahrajte ich.\n",
    "1. Spustite trénovaciu úlohu na získanie jemne doladeného modelu.\n",
    "1. Vyhodnoťte jemne doladený model a dolaďte ho pre lepšiu kvalitu.\n",
    "1. Nasadzujte jemne doladený model na inferenciu, keď ste spokojní.\n",
    "\n",
    "Upozorňujeme, že nie všetky základné modely podporujú jemné doladenie – [skontrolujte dokumentáciu OpenAI](https://platform.openai.com/docs/guides/fine-tuning/what-models-can-be-fine-tuned?WT.mc_id=academic-105485-koreyst) pre najnovšie informácie. Jemne doladiť môžete aj model, ktorý už bol predtým jemne doladený. V tomto návode použijeme ako cieľový základný model na jemné doladenie `gpt-35-turbo`.\n",
    "\n",
    "---\n"
   ]
  },
  {
   "cell_type": "markdown",
   "metadata": {},
   "source": [
    "### Krok 1.1: Pripravte si svoj dataset\n",
    "\n",
    "Poďme si vytvoriť chatbot, ktorý vám pomôže pochopiť periodickú tabuľku prvkov tým, že bude odpovedať na otázky o prvku v podobe limeriku. V _tomto_ jednoduchom návode si len vytvoríme dataset na trénovanie modelu s niekoľkými ukážkovými príkladmi odpovedí, ktoré ukazujú očakávaný formát dát. V reálnom použití by ste potrebovali dataset s oveľa väčším počtom príkladov. Môžete tiež využiť otvorený dataset (pre vašu aplikačnú oblasť), ak existuje, a upraviť ho na použitie pri doladení modelu.\n",
    "\n",
    "Keďže sa zameriavame na `gpt-35-turbo` a chceme jednorazovú odpoveď (chat completion), môžeme vytvoriť príklady podľa [tohto odporúčaného formátu](https://platform.openai.com/docs/guides/fine-tuning/preparing-your-dataset?WT.mc_id=academic-105485-koreyst), ktorý zodpovedá požiadavkám OpenAI na chat completion. Ak očakávate viacotáčkový konverzačný obsah, použili by ste [formát pre viacotáčkové príklady](https://platform.openai.com/docs/guides/fine-tuning/multi-turn-chat-examples?WT.mc_id=academic-105485-koreyst), ktorý obsahuje parameter `weight` na určenie, ktoré správy sa majú (alebo nemajú) použiť pri doladení.\n",
    "\n",
    "V tomto návode použijeme jednoduchší formát pre jednorazovú odpoveď. Dáta sú vo formáte [jsonl](https://jsonlines.org/?WT.mc_id=academic-105485-koreyst), kde je každý záznam na samostatnom riadku a predstavuje ho objekt vo formáte JSON. Nižšie je ukážka 2 záznamov – kompletnú vzorku (10 príkladov), ktorú použijeme v našom návode na doladenie, nájdete v súbore [training-data.jsonl](../../../../../18-fine-tuning/python/openai/training-data.jsonl). **Poznámka:** Každý záznam _musí_ byť definovaný v jednom riadku (nie rozdelený na viac riadkov ako je to bežné vo formátovanom JSON súbore)\n",
    "\n",
    "```json\n",
    "{ \"messages\": [{\"role\": \"system\", \"content\": \"Elle is a factual chatbot that answers questions about elements in the periodic table with a limerick\"}, {\"role\": \"user\", \"content\": \"Tell me about Gallium\"}, {\"role\": \"assistant\", \"content\": \"Gallium, oh gallium, so light - Melts in your hand, oh what a sight - At 86 degrees - Its liquid with ease - And in semiconductors, it's out of sight\"}]}\n",
    "{ \"messages\": [{\"role\": \"system\", \"content\": \"Elle is a factual chatbot that answers questions about elements in the periodic table with a limerick\"}, {\"role\": \"user\", \"content\": \"Tell me about Hydrogen\"}, {\"role\": \"assistant\", \"content\": \"Hydrogen, the first in the line - The lightest of all, so divine - It's in water, you see - And in stars, it's the key - The universe's most common sign\"}]}\n",
    "```\n",
    "\n",
    "V reálnom použití budete potrebovať oveľa väčšiu sadu príkladov pre dobré výsledky – je to kompromis medzi kvalitou odpovedí a časom/nákladmi na doladenie. My používame malú sadu, aby sme mohli proces doladenia rýchlo ukázať. Pozrite si [tento príklad z OpenAI Cookbook](https://github.com/openai/openai-cookbook/blob/main/examples/How_to_finetune_chat_models.ipynb?WT.mc_id=academic-105485-koreyst) pre zložitejší návod na doladenie.\n"
   ]
  },
  {
   "cell_type": "markdown",
   "metadata": {},
   "source": [
    "### Krok 1.2 Nahrajte svoj dataset\n",
    "\n",
    "Nahrajte dáta pomocou Files API [ako je popísané tu](https://platform.openai.com/docs/guides/fine-tuning/upload-a-training-file). Upozorňujeme, že na spustenie tohto kódu musíte najprv vykonať tieto kroky:\n",
    " - Nainštalovali ste Python balík `openai` (uistite sa, že používate verziu >=0.28.0 kvôli najnovším funkciám)\n",
    " - Nastavili ste premennú prostredia `OPENAI_API_KEY` na váš OpenAI API kľúč\n",
    "Viac informácií nájdete v [príručke na nastavenie](./../../../00-course-setup/02-setup-local.md?WT.mc_id=academic-105485-koreyst), ktorá je súčasťou kurzu.\n",
    "\n",
    "Teraz spustite kód na vytvorenie súboru na nahranie z vášho lokálneho JSONL súboru.\n"
   ]
  },
  {
   "cell_type": "code",
   "execution_count": 24,
   "metadata": {},
   "outputs": [
    {
     "name": "stdout",
     "output_type": "stream",
     "text": [
      "FileObject(id='file-JdAJcagdOTG6ACNlFWzuzmyV', bytes=4021, created_at=1715566183, filename='training-data.jsonl', object='file', purpose='fine-tune', status='processed', status_details=None)\n",
      "Training File ID: file-JdAJcagdOTG6ACNlFWzuzmyV\n"
     ]
    }
   ],
   "source": [
    "from openai import OpenAI\n",
    "client = OpenAI()\n",
    "\n",
    "ft_file = client.files.create(\n",
    "  file=open(\"./training-data.jsonl\", \"rb\"),\n",
    "  purpose=\"fine-tune\"\n",
    ")\n",
    "\n",
    "print(ft_file)\n",
    "print(\"Training File ID: \" + ft_file.id)"
   ]
  },
  {
   "cell_type": "markdown",
   "metadata": {},
   "source": [
    "### Krok 2.1: Vytvorenie úlohy na doladenie pomocou SDK\n"
   ]
  },
  {
   "cell_type": "code",
   "execution_count": 25,
   "metadata": {},
   "outputs": [
    {
     "name": "stdout",
     "output_type": "stream",
     "text": [
      "FineTuningJob(id='ftjob-Usfb9RjasncaZ5Cjbuh1XSCh', created_at=1715566184, error=Error(code=None, message=None, param=None), fine_tuned_model=None, finished_at=None, hyperparameters=Hyperparameters(n_epochs='auto', batch_size='auto', learning_rate_multiplier='auto'), model='gpt-3.5-turbo-0125', object='fine_tuning.job', organization_id='org-EZ6ag0n0S6Zm8eV9BSWKmE6l', result_files=[], seed=830529052, status='validating_files', trained_tokens=None, training_file='file-JdAJcagdOTG6ACNlFWzuzmyV', validation_file=None, estimated_finish=None, integrations=[], user_provided_suffix=None)\n",
      "Fine-tuning Job ID: ftjob-Usfb9RjasncaZ5Cjbuh1XSCh\n"
     ]
    }
   ],
   "source": [
    "from openai import OpenAI\n",
    "client = OpenAI()\n",
    "\n",
    "ft_filejob = client.fine_tuning.jobs.create(\n",
    "  training_file=ft_file.id, \n",
    "  model=\"gpt-3.5-turbo\"\n",
    ")\n",
    "\n",
    "print(ft_filejob)\n",
    "print(\"Fine-tuning Job ID: \" + ft_filejob.id)"
   ]
  },
  {
   "cell_type": "markdown",
   "metadata": {},
   "source": [
    "### Krok 2.2: Skontrolujte stav úlohy\n",
    "\n",
    "Tu je niekoľko vecí, ktoré môžete robiť pomocou API `client.fine_tuning.jobs`:\n",
    "- `client.fine_tuning.jobs.list(limit=<n>)` - Zobrazí posledných n úloh jemného doladenia\n",
    "- `client.fine_tuning.jobs.retrieve(<job_id>)` - Získajte podrobnosti o konkrétnej úlohe jemného doladenia\n",
    "- `client.fine_tuning.jobs.cancel(<job_id>)` - Zrušte úlohu jemného doladenia\n",
    "- `client.fine_tuning.jobs.list_events(fine_tuning_job_id=<job_id>, limit=<b>)` - Zobrazí až n udalostí z úlohy\n",
    "- `client.fine_tuning.jobs.create(model=\"gpt-35-turbo\", training_file=\"your-training-file.jsonl\", ...)`\n",
    "\n",
    "Prvým krokom tohto procesu je _overenie tréningového súboru_, aby ste sa uistili, že údaje majú správny formát.\n"
   ]
  },
  {
   "cell_type": "code",
   "execution_count": 26,
   "metadata": {},
   "outputs": [
    {
     "data": {
      "text/plain": [
       "SyncCursorPage[FineTuningJobEvent](data=[FineTuningJobEvent(id='ftevent-GkWiDgZmOsuv4q5cSTEGscY6', created_at=1715566184, level='info', message='Validating training file: file-JdAJcagdOTG6ACNlFWzuzmyV', object='fine_tuning.job.event', data={}, type='message'), FineTuningJobEvent(id='ftevent-3899xdVTO3LN7Q7LkKLMJUnb', created_at=1715566184, level='info', message='Created fine-tuning job: ftjob-Usfb9RjasncaZ5Cjbuh1XSCh', object='fine_tuning.job.event', data={}, type='message')], object='list', has_more=False)"
      ]
     },
     "execution_count": 26,
     "metadata": {},
     "output_type": "execute_result"
    }
   ],
   "source": [
    "from openai import OpenAI\n",
    "client = OpenAI()\n",
    "\n",
    "# List 10 fine-tuning jobs\n",
    "client.fine_tuning.jobs.list(limit=10)\n",
    "\n",
    "# Retrieve the state of a fine-tune\n",
    "client.fine_tuning.jobs.retrieve(ft_filejob.id)\n",
    "\n",
    "# List up to 10 events from a fine-tuning job\n",
    "client.fine_tuning.jobs.list_events(fine_tuning_job_id=ft_filejob.id, limit=10)"
   ]
  },
  {
   "cell_type": "code",
   "execution_count": 30,
   "metadata": {},
   "outputs": [
    {
     "name": "stdout",
     "output_type": "stream",
     "text": [
      "Job ID: ftjob-Usfb9RjasncaZ5Cjbuh1XSCh\n",
      "Status: running\n",
      "Trained Tokens: None\n"
     ]
    }
   ],
   "source": [
    "# Once the training data is validated\n",
    "# Track the job status to see if it is running and when it is complete\n",
    "from openai import OpenAI\n",
    "client = OpenAI()\n",
    "\n",
    "response = client.fine_tuning.jobs.retrieve(ft_filejob.id)\n",
    "\n",
    "print(\"Job ID:\", response.id)\n",
    "print(\"Status:\", response.status)\n",
    "print(\"Trained Tokens:\", response.trained_tokens)"
   ]
  },
  {
   "cell_type": "markdown",
   "metadata": {},
   "source": [
    "### Krok 2.3: Sledovanie udalostí na monitorovanie pokroku\n"
   ]
  },
  {
   "cell_type": "code",
   "execution_count": 44,
   "metadata": {},
   "outputs": [
    {
     "name": "stdout",
     "output_type": "stream",
     "text": [
      "Step 85/100: training loss=0.14\n",
      "Step 86/100: training loss=0.00\n",
      "Step 87/100: training loss=0.00\n",
      "Step 88/100: training loss=0.07\n",
      "Step 89/100: training loss=0.00\n",
      "Step 90/100: training loss=0.00\n",
      "Step 91/100: training loss=0.00\n",
      "Step 92/100: training loss=0.00\n",
      "Step 93/100: training loss=0.00\n",
      "Step 94/100: training loss=0.00\n",
      "Step 95/100: training loss=0.08\n",
      "Step 96/100: training loss=0.05\n",
      "Step 97/100: training loss=0.00\n",
      "Step 98/100: training loss=0.00\n",
      "Step 99/100: training loss=0.00\n",
      "Step 100/100: training loss=0.00\n",
      "Checkpoint created at step 80 with Snapshot ID: ft:gpt-3.5-turbo-0125:bitnbot::9OFWyyF2:ckpt-step-80\n",
      "Checkpoint created at step 90 with Snapshot ID: ft:gpt-3.5-turbo-0125:bitnbot::9OFWyzhK:ckpt-step-90\n",
      "New fine-tuned model created: ft:gpt-3.5-turbo-0125:bitnbot::9OFWzNjz\n",
      "The job has successfully completed\n"
     ]
    }
   ],
   "source": [
    "# You can also track progress in a more granular way by checking for events\n",
    "# Refresh this code till you get the `The job has successfully completed` message\n",
    "response = client.fine_tuning.jobs.list_events(ft_filejob.id)\n",
    "\n",
    "events = response.data\n",
    "events.reverse()\n",
    "\n",
    "for event in events:\n",
    "    print(event.message)"
   ]
  },
  {
   "cell_type": "markdown",
   "metadata": {},
   "source": [
    "### Krok 2.4: Zobraziť stav v OpenAI Dashboard\n"
   ]
  },
  {
   "cell_type": "markdown",
   "metadata": {},
   "source": [
    "Stav môžete tiež skontrolovať na webovej stránke OpenAI v sekcii _Fine-tuning_ na platforme. Tu uvidíte stav aktuálnej úlohy a môžete sledovať aj históriu predchádzajúcich spustení. Na tomto obrázku vidíte, že predchádzajúce spustenie zlyhalo a druhé bolo úspešné. Pre lepšie pochopenie: toto sa stalo, keď prvé spustenie použilo JSON súbor so zle naformátovanými záznamami – po oprave druhé spustenie prebehlo úspešne a model bol sprístupnený na použitie.\n",
    "\n",
    "![Stav úlohy fine-tuningu](../../../../../translated_images/fine-tuned-model-status.563271727bf7bfba7e3f73a201f8712fae3cea1c08f7c7f12ca469c06d234122.sk.png)\n"
   ]
  },
  {
   "cell_type": "markdown",
   "metadata": {},
   "source": [
    "Môžete si tiež pozrieť stavové správy a metriky posúvaním nižšie vo vizuálnom paneli, ako je znázornené:\n",
    "\n",
    "| Správy | Metriky |\n",
    "|:---|:---|\n",
    "| ![Správy](../../../../../translated_images/fine-tuned-messages-panel.4ed0c2da5ea1313b3a706a66f66bf5007c379cd9219cfb74cb30c0b04b90c4c8.sk.png) |  ![Metriky](../../../../../translated_images/fine-tuned-metrics-panel.700d7e4995a652299584ab181536a6cfb67691a897a518b6c7a2aa0a17f1a30d.sk.png)|\n"
   ]
  },
  {
   "cell_type": "markdown",
   "metadata": {},
   "source": [
    "### Krok 3.1: Získajte ID a otestujte jemne doladený model v kóde\n"
   ]
  },
  {
   "cell_type": "code",
   "execution_count": 46,
   "metadata": {},
   "outputs": [
    {
     "name": "stdout",
     "output_type": "stream",
     "text": [
      "Fine-tuned Model ID: ft:gpt-3.5-turbo-0125:bitnbot::9OFWzNjz\n"
     ]
    }
   ],
   "source": [
    "# Retrieve the identity of the fine-tuned model once ready\n",
    "response = client.fine_tuning.jobs.retrieve(ft_filejob.id)\n",
    "fine_tuned_model_id = response.fine_tuned_model\n",
    "print(\"Fine-tuned Model ID:\", fine_tuned_model_id)"
   ]
  },
  {
   "cell_type": "code",
   "execution_count": 47,
   "metadata": {},
   "outputs": [
    {
     "name": "stdout",
     "output_type": "stream",
     "text": [
      "ChatCompletionMessage(content=\"Strontium, a metal so bright - It's in fireworks, a dazzling sight - It's in bones, you see - And in tea, it's the key - It's the fortieth, so pure, that's the right\", role='assistant', function_call=None, tool_calls=None)\n"
     ]
    }
   ],
   "source": [
    "# You can then use that model to generate completions from the SDK as shown\n",
    "# Or you can load that model into the OpenAI Playground (in the UI) to validate it from there.\n",
    "from openai import OpenAI\n",
    "client = OpenAI()\n",
    "\n",
    "completion = client.chat.completions.create(\n",
    "  model=fine_tuned_model_id,\n",
    "  messages=[\n",
    "    {\"role\": \"system\", \"content\": \"You are Elle, a factual chatbot that answers questions about elements in the periodic table with a limerick\"},\n",
    "    {\"role\": \"user\", \"content\": \"Tell me about Strontium\"},\n",
    "  ]\n",
    ")\n",
    "print(completion.choices[0].message)"
   ]
  },
  {
   "cell_type": "markdown",
   "metadata": {},
   "source": [
    "### Krok 3.2: Načítanie a testovanie doladeného modelu v Playground\n",
    "\n",
    "Doladený model môžete teraz otestovať dvoma spôsobmi. Prvým je navštíviť Playground a v rozbaľovacom zozname Models vybrať svoj novo doladený model z ponúkaných možností. Druhou možnosťou je použiť možnosť „Playground“ zobrazenú v paneli Fine-tuning (pozri snímku obrazovky vyššie), ktorá spustí _porovnávací_ pohľad, kde sa vedľa seba zobrazujú základný a doladený model pre rýchle vyhodnotenie.\n",
    "\n",
    "![Fine-tuning job status](../../../../../translated_images/fine-tuned-playground-compare.56e06f0ad8922016497d39ced3d84ea296eec89073503f2bf346ec9718f913b5.sk.png)\n",
    "\n",
    "Stačí vyplniť systémový kontext použitý vo vašich tréningových dátach a zadať testovaciu otázku. Všimnete si, že na oboch stranách sa aktualizuje rovnaký kontext aj otázka. Spustite porovnanie a uvidíte rozdiel v odpovediach medzi modelmi. _Všimnite si, ako doladený model generuje odpoveď vo formáte, ktorý ste zadali vo svojich príkladoch, zatiaľ čo základný model len nasleduje systémový prompt_.\n",
    "\n",
    "![Fine-tuning job status](../../../../../translated_images/fine-tuned-playground-launch.5a26495c983c6350c227e05700a47a89002d132949a56fa4ff37f266ebe997b2.sk.png)\n",
    "\n",
    "Všimnete si tiež, že porovnanie zobrazuje počet tokenov pre každý model a čas potrebný na inferenciu. **Tento konkrétny príklad je jednoduchý a slúži len na ukážku postupu, nereprezentuje však reálnu dátovú sadu alebo situáciu**. Môžete si všimnúť, že oba príklady majú rovnaký počet tokenov (systémový kontext a používateľský prompt sú identické), pričom doladený model potrebuje na inferenciu viac času (vlastný model).\n",
    "\n",
    "V reálnych situáciách nebudete používať takýto jednoduchý príklad, ale doladíte model na reálnych dátach (napríklad produktový katalóg pre zákaznícky servis), kde bude kvalita odpovede oveľa zreteľnejšia. V _takom_ prípade bude na dosiahnutie rovnakej kvality odpovede so základným modelom potrebné viac prispôsobovať prompt, čo zvýši spotrebu tokenov a pravdepodobne aj čas spracovania na inferenciu. _Ak si to chcete vyskúšať, pozrite si príklady doladenia v OpenAI Cookbook._\n"
   ]
  },
  {
   "cell_type": "markdown",
   "metadata": {},
   "source": [
    "\n---\n\n**Vyhlásenie o vylúčení zodpovednosti**:  \nTento dokument bol preložený pomocou AI prekladateľskej služby [Co-op Translator](https://github.com/Azure/co-op-translator). Hoci sa snažíme o presnosť, upozorňujeme, že automatizované preklady môžu obsahovať chyby alebo nepresnosti. Za autoritatívny zdroj by sa mal považovať pôvodný dokument v jeho natívnom jazyku. Pre kritické informácie odporúčame profesionálny ľudský preklad. Nezodpovedáme za žiadne nedorozumenia alebo nesprávne interpretácie vyplývajúce z použitia tohto prekladu.\n"
   ]
  }
 ],
 "metadata": {
  "kernelspec": {
   "display_name": "Python 3",
   "language": "python",
   "name": "python3"
  },
  "language_info": {
   "codemirror_mode": {
    "name": "ipython",
    "version": 3
   },
   "file_extension": ".py",
   "mimetype": "text/x-python",
   "name": "python",
   "nbconvert_exporter": "python",
   "pygments_lexer": "ipython3",
   "version": "3.10.13"
  },
  "coopTranslator": {
   "original_hash": "69b527f1e605a10fb9c7e00ae841021d",
   "translation_date": "2025-08-25T21:54:29+00:00",
   "source_file": "18-fine-tuning/python/openai/oai-assignment.ipynb",
   "language_code": "sk"
  }
 },
 "nbformat": 4,
 "nbformat_minor": 2
}