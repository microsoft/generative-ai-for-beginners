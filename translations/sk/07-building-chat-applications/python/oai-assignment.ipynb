{
 "cells": [
  {
   "attachments": {},
   "cell_type": "markdown",
   "metadata": {
    "nteract": {
     "transient": {
      "deleting": false
     }
    }
   },
   "source": [
    "# Kapitola 7: Tvorba chatovacích aplikácií\n",
    "## Rýchly úvod do OpenAI API\n",
    "\n",
    "Tento notebook je upravený z [repozitára Azure OpenAI Samples](https://github.com/Azure/azure-openai-samples?WT.mc_id=academic-105485-koreyst), ktorý obsahuje notebooky využívajúce služby [Azure OpenAI](notebook-azure-openai.ipynb).\n",
    "\n",
    "Python OpenAI API funguje aj s modelmi Azure OpenAI, s niekoľkými úpravami. Viac o rozdieloch sa dozviete tu: [Ako prepínať medzi OpenAI a Azure OpenAI endpointmi v Pythone](https://learn.microsoft.com/azure/ai-services/openai/how-to/switching-endpoints?WT.mc_id=academic-109527-jasmineg)\n"
   ]
  },
  {
   "attachments": {},
   "cell_type": "markdown",
   "metadata": {
    "nteract": {
     "transient": {
      "deleting": false
     }
    }
   },
   "source": [
    "# Prehľad  \n",
    "„Veľké jazykové modely sú funkcie, ktoré mapujú text na text. Pri zadaní vstupného reťazca textu sa veľký jazykový model snaží predpovedať, aký text bude nasledovať“(1). Tento „rýchly štart“ notebook predstaví používateľom základné pojmy o LLM, kľúčové požiadavky balíkov na začatie práce s AML, jednoduchý úvod do tvorby promptov a niekoľko krátkych príkladov rôznych spôsobov využitia.\n"
   ]
  },
  {
   "attachments": {},
   "cell_type": "markdown",
   "metadata": {
    "nteract": {
     "transient": {
      "deleting": false
     }
    }
   },
   "source": [
    "## Obsah  \n",
    "\n",
    "[Prehľad](../../../../07-building-chat-applications/python)  \n",
    "[Ako používať OpenAI Service](../../../../07-building-chat-applications/python)  \n",
    "[1. Vytvorenie vášho OpenAI Service](../../../../07-building-chat-applications/python)  \n",
    "[2. Inštalácia](../../../../07-building-chat-applications/python)    \n",
    "[3. Prihlasovacie údaje](../../../../07-building-chat-applications/python)  \n",
    "\n",
    "[Príklady použitia](../../../../07-building-chat-applications/python)    \n",
    "[1. Zhrnutie textu](../../../../07-building-chat-applications/python)  \n",
    "[2. Klasifikácia textu](../../../../07-building-chat-applications/python)  \n",
    "[3. Generovanie nových názvov produktov](../../../../07-building-chat-applications/python)  \n",
    "[4. Doladenie klasifikátora](../../../../07-building-chat-applications/python)  \n",
    "\n",
    "[Referencie](../../../../07-building-chat-applications/python)\n"
   ]
  },
  {
   "attachments": {},
   "cell_type": "markdown",
   "metadata": {
    "nteract": {
     "transient": {
      "deleting": false
     }
    }
   },
   "source": [
    "### Vytvorte svoj prvý prompt  \n",
    "Toto krátke cvičenie vám poskytne základný úvod do zadávania promptov modelu OpenAI pre jednoduchú úlohu „zhrnutie“.\n",
    "\n",
    "\n",
    "**Kroky**:  \n",
    "1. Nainštalujte knižnicu OpenAI do svojho python prostredia  \n",
    "2. Načítajte štandardné pomocné knižnice a nastavte svoje bežné bezpečnostné údaje pre službu OpenAI, ktorú ste vytvorili  \n",
    "3. Vyberte model pre svoju úlohu  \n",
    "4. Vytvorte jednoduchý prompt pre model  \n",
    "5. Odošlite svoju požiadavku do modelového API!\n"
   ]
  },
  {
   "attachments": {},
   "cell_type": "markdown",
   "metadata": {
    "nteract": {
     "transient": {
      "deleting": false
     }
    }
   },
   "source": []
  },
  {
   "cell_type": "code",
   "execution_count": null,
   "metadata": {
    "gather": {
     "logged": 1674254990318
    },
    "jupyter": {
     "outputs_hidden": true,
     "source_hidden": false
    },
    "nteract": {
     "transient": {
      "deleting": false
     }
    }
   },
   "outputs": [],
   "source": [
    "%pip install openai python-dotenv"
   ]
  },
  {
   "attachments": {},
   "cell_type": "markdown",
   "metadata": {
    "nteract": {
     "transient": {
      "deleting": false
     }
    }
   },
   "source": []
  },
  {
   "cell_type": "code",
   "execution_count": null,
   "metadata": {
    "gather": {
     "logged": 1674829434433
    },
    "jupyter": {
     "outputs_hidden": false,
     "source_hidden": false
    },
    "nteract": {
     "transient": {
      "deleting": false
     }
    }
   },
   "outputs": [],
   "source": [
    "import os\n",
    "from openai import OpenAI\n",
    "from dotenv import load_dotenv\n",
    "\n",
    "load_dotenv()\n",
    "\n",
    "API_KEY = os.getenv(\"OPENAI_API_KEY\",\"\")\n",
    "assert API_KEY, \"ERROR: OpenAI Key is missing\"\n",
    "\n",
    "client = OpenAI(\n",
    "    api_key=API_KEY\n",
    "    )\n"
   ]
  },
  {
   "attachments": {},
   "cell_type": "markdown",
   "metadata": {
    "nteract": {
     "transient": {
      "deleting": false
     }
    }
   },
   "source": [
    "### 3. Výber správneho modelu  \n",
    "Modely GPT-3.5-turbo alebo GPT-4 dokážu rozumieť a generovať prirodzený jazyk.\n"
   ]
  },
  {
   "cell_type": "code",
   "execution_count": null,
   "metadata": {
    "gather": {
     "logged": 1674742720788
    },
    "jupyter": {
     "outputs_hidden": true,
     "source_hidden": false
    },
    "nteract": {
     "transient": {
      "deleting": false
     }
    }
   },
   "outputs": [],
   "source": [
    "# Select the General Purpose curie model for text\n",
    "model = \"gpt-3.5-turbo\""
   ]
  },
  {
   "attachments": {},
   "cell_type": "markdown",
   "metadata": {
    "nteract": {
     "transient": {
      "deleting": false
     }
    }
   },
   "source": [
    "## 4. Návrh promptov  \n",
    "\n",
    "„Kúzlo veľkých jazykových modelov spočíva v tom, že tým, že sa učia minimalizovať chybu predikcie na obrovskom množstve textu, modely sa nakoniec naučia koncepty užitočné pre tieto predikcie. Napríklad sa naučia koncepty ako“(1):\n",
    "\n",
    "* ako sa správne píše\n",
    "* ako funguje gramatika\n",
    "* ako parafrázovať\n",
    "* ako odpovedať na otázky\n",
    "* ako viesť konverzáciu\n",
    "* ako písať v rôznych jazykoch\n",
    "* ako programovať\n",
    "* atď.\n",
    "\n",
    "#### Ako ovládať veľký jazykový model  \n",
    "„Zo všetkých vstupov do veľkého jazykového modelu je jednoznačne najvplyvnejší textový prompt.“(1)\n",
    "\n",
    "Veľké jazykové modely môžu byť navádzané na generovanie výstupu niekoľkými spôsobmi:\n",
    "\n",
    "Inštrukcia: Povedzte modelu, čo chcete\n",
    "Doplnenie: Navádzajte model, aby doplnil začiatok toho, čo chcete\n",
    "Ukážka: Ukážte modelu, čo chcete, buď:\n",
    "Niekoľko príkladov priamo v promte\n",
    "Stovky alebo tisíce príkladov v trénovacej dátovej sade na doladenie\n",
    "\n",
    "\n",
    "\n",
    "#### Existujú tri základné odporúčania pre tvorbu promptov:\n",
    "\n",
    "**Ukážte a vysvetlite.** Jasne dajte najavo, čo chcete, buď prostredníctvom inštrukcií, príkladov alebo ich kombinácie. Ak chcete, aby model zoradil zoznam položiek podľa abecedy alebo aby klasifikoval odsek podľa sentimentu, ukážte mu, že toto je vaším cieľom.\n",
    "\n",
    "**Používajte kvalitné dáta.** Ak sa snažíte vytvoriť klasifikátor alebo chcete, aby model nasledoval určitý vzor, uistite sa, že máte dostatok príkladov. Dôkladne si skontrolujte svoje príklady — model je zvyčajne dosť inteligentný na to, aby prehliadol základné pravopisné chyby a odpovedal vám, ale môže si tiež myslieť, že to bolo zámerné, čo môže ovplyvniť odpoveď.\n",
    "\n",
    "**Skontrolujte svoje nastavenia.** Nastavenia temperature a top_p ovplyvňujú, nakoľko je model deterministický pri generovaní odpovede. Ak od neho očakávate odpoveď, kde je len jedna správna možnosť, nastavte tieto hodnoty nižšie. Ak chcete rozmanitejšie odpovede, nastavte ich vyššie. Najčastejšou chybou pri týchto nastaveniach je predpoklad, že ide o ovládanie „šikovnosti“ alebo „kreativity“ modelu.\n",
    "\n",
    "\n",
    "Zdroj: https://learn.microsoft.com/azure/ai-services/openai/overview\n"
   ]
  },
  {
   "attachments": {},
   "cell_type": "markdown",
   "metadata": {
    "nteract": {
     "transient": {
      "deleting": false
     }
    }
   },
   "source": []
  },
  {
   "cell_type": "code",
   "execution_count": null,
   "metadata": {
    "gather": {
     "logged": 1674494935186
    },
    "jupyter": {
     "outputs_hidden": false,
     "source_hidden": false
    },
    "nteract": {
     "transient": {
      "deleting": false
     }
    }
   },
   "outputs": [],
   "source": [
    "# Create your first prompt\n",
    "text_prompt = \"Should oxford commas always be used?\"\n",
    "\n",
    "response = client.chat.completions.create(\n",
    "  model=model,\n",
    "  messages = [{\"role\":\"system\", \"content\":\"You are a helpful assistant.\"},\n",
    "               {\"role\":\"user\",\"content\":text_prompt},])\n",
    "\n",
    "response.choices[0].message.content"
   ]
  },
  {
   "attachments": {},
   "cell_type": "markdown",
   "metadata": {
    "nteract": {
     "transient": {
      "deleting": false
     }
    }
   },
   "source": []
  },
  {
   "cell_type": "code",
   "execution_count": null,
   "metadata": {
    "gather": {
     "logged": 1674494940872
    },
    "jupyter": {
     "outputs_hidden": false,
     "source_hidden": false
    },
    "nteract": {
     "transient": {
      "deleting": false
     }
    }
   },
   "outputs": [],
   "source": [
    "\n",
    "response = client.chat.completions.create(\n",
    "  model=model,\n",
    "  messages = [{\"role\":\"system\", \"content\":\"You are a helpful assistant.\"},\n",
    "               {\"role\":\"user\",\"content\":text_prompt},])\n",
    "\n",
    "response.choices[0].message.content"
   ]
  },
  {
   "attachments": {},
   "cell_type": "markdown",
   "metadata": {
    "nteract": {
     "transient": {
      "deleting": false
     }
    }
   },
   "source": [
    "## Zhrnutie textu  \n",
    "#### Úloha  \n",
    "Zhrňte text pridaním 'tl;dr:' na koniec textového úseku. Všimnite si, ako model dokáže vykonávať množstvo úloh bez ďalších inštrukcií. Môžete experimentovať s opisnejšími promptmi ako tl;dr, aby ste upravili správanie modelu a prispôsobili si výsledné zhrnutie(3).  \n",
    "\n",
    "Nedávne výskumy ukázali výrazné zlepšenia v mnohých NLP úlohách a benchmarkoch vďaka predtrénovaniu na veľkom korpuse textov, po ktorom nasleduje doladenie na konkrétnu úlohu. Hoci je táto metóda zvyčajne architektonicky nezávislá od úlohy, stále vyžaduje špecifické datasety na doladenie s tisíckami alebo desaťtisícami príkladov. Naopak, ľudia dokážu zvládnuť novú jazykovú úlohu už po niekoľkých príkladoch alebo jednoduchých inštrukciách – čo je niečo, s čím majú súčasné NLP systémy stále problém. Tu ukazujeme, že zväčšenie jazykových modelov výrazne zlepšuje výkonnosť v úlohách s malým počtom príkladov bez ohľadu na úlohu, niekedy dokonca dosahuje úroveň konkurencie s predchádzajúcimi najlepšími prístupmi založenými na doladení. \n",
    "\n",
    "\n",
    "\n",
    "Tl;dr\n"
   ]
  },
  {
   "attachments": {},
   "cell_type": "markdown",
   "metadata": {
    "nteract": {
     "transient": {
      "deleting": false
     }
    }
   },
   "source": [
    "# Cvičenia pre rôzne použitia  \n",
    "1. Zhrnúť text  \n",
    "2. Klasifikovať text  \n",
    "3. Vytvoriť nové názvy produktov\n"
   ]
  },
  {
   "cell_type": "code",
   "execution_count": null,
   "metadata": {
    "gather": {
     "logged": 1674495198534
    },
    "jupyter": {
     "outputs_hidden": false,
     "source_hidden": false
    },
    "nteract": {
     "transient": {
      "deleting": false
     }
    }
   },
   "outputs": [],
   "source": [
    "prompt = \"Recent work has demonstrated substantial gains on many NLP tasks and benchmarks by pre-training on a large corpus of text followed by fine-tuning on a specific task. While typically task-agnostic in architecture, this method still requires task-specific fine-tuning datasets of thousands or tens of thousands of examples. By contrast, humans can generally perform a new language task from only a few examples or from simple instructions - something that current NLP systems still largely struggle to do. Here we show that scaling up language models greatly improves task-agnostic, few-shot performance, sometimes even reaching competitiveness with prior state-of-the-art fine-tuning approaches.\\n\\nTl;dr\"\n"
   ]
  },
  {
   "cell_type": "code",
   "execution_count": null,
   "metadata": {
    "gather": {
     "logged": 1674495201868
    },
    "jupyter": {
     "outputs_hidden": false,
     "source_hidden": false
    },
    "nteract": {
     "transient": {
      "deleting": false
     }
    }
   },
   "outputs": [],
   "source": [
    "#Setting a few additional, typical parameters during API Call\n",
    "\n",
    "response = client.chat.completions.create(\n",
    "  model=model,\n",
    "  messages = [{\"role\":\"system\", \"content\":\"You are a helpful assistant.\"},\n",
    "               {\"role\":\"user\",\"content\":prompt},])\n",
    "\n",
    "response.choices[0].message.content"
   ]
  },
  {
   "attachments": {},
   "cell_type": "markdown",
   "metadata": {
    "nteract": {
     "transient": {
      "deleting": false
     }
    }
   },
   "source": [
    "## Klasifikácia textu  \n",
    "#### Výzva  \n",
    "Zaradiť položky do kategórií, ktoré sú zadané počas inferencie. V nasledujúcom príklade zadávame v promptu (*playground_reference) kategórie aj text, ktorý treba klasifikovať.\n",
    "\n",
    "Dopyt zákazníka: Dobrý deň, na mojej klávesnici notebooku sa mi nedávno zlomil jeden kláves a budem potrebovať náhradný:\n",
    "\n",
    "Zaradená kategória:\n"
   ]
  },
  {
   "cell_type": "code",
   "execution_count": null,
   "metadata": {
    "gather": {
     "logged": 1674499424645
    },
    "jupyter": {
     "outputs_hidden": false,
     "source_hidden": false
    },
    "nteract": {
     "transient": {
      "deleting": false
     }
    }
   },
   "outputs": [],
   "source": [
    "prompt = \"Classify the following inquiry into one of the following: categories: [Pricing, Hardware Support, Software Support]\\n\\ninquiry: Hello, one of the keys on my laptop keyboard broke recently and I'll need a replacement:\\n\\nClassified category:\"\n",
    "print(prompt)"
   ]
  },
  {
   "cell_type": "code",
   "execution_count": null,
   "metadata": {
    "gather": {
     "logged": 1674499378518
    },
    "jupyter": {
     "outputs_hidden": false,
     "source_hidden": false
    },
    "nteract": {
     "transient": {
      "deleting": false
     }
    }
   },
   "outputs": [],
   "source": [
    "#Setting a few additional, typical parameters during API Call\n",
    "\n",
    "response = client.chat.completions.create(\n",
    "  model=model,\n",
    "  messages = [{\"role\":\"system\", \"content\":\"You are a helpful assistant.\"},\n",
    "               {\"role\":\"user\",\"content\":prompt},])\n",
    "\n",
    "response.choices[0].message.content"
   ]
  },
  {
   "attachments": {},
   "cell_type": "markdown",
   "metadata": {
    "nteract": {
     "transient": {
      "deleting": false
     }
    }
   },
   "source": [
    "## Generovanie nových názvov produktov\n",
    "#### Výzva\n",
    "Vytvorte názvy produktov na základe príkladových slov. V tomto zadaní uvádzame informácie o produkte, pre ktorý ideme generovať názvy. Tiež poskytujeme podobný príklad, aby sme ukázali vzor, aký chceme dostať. Nastavili sme aj vysokú hodnotu parametra temperature, aby boli odpovede náhodnejšie a inovatívnejšie.\n",
    "\n",
    "Popis produktu: Domáci mixér na milkshake\n",
    "Kľúčové slová: rýchly, zdravý, kompaktný.\n",
    "Názvy produktov: HomeShaker, Fit Shaker, QuickShake, Shake Maker\n",
    "\n",
    "Popis produktu: Pár topánok, ktoré sa prispôsobia akejkoľvek veľkosti nohy.\n",
    "Kľúčové slová: prispôsobivý, fit, omni-fit.\n"
   ]
  },
  {
   "cell_type": "code",
   "execution_count": null,
   "metadata": {
    "gather": {
     "logged": 1674257087279
    },
    "jupyter": {
     "outputs_hidden": false,
     "source_hidden": false
    },
    "nteract": {
     "transient": {
      "deleting": false
     }
    }
   },
   "outputs": [],
   "source": [
    "prompt = \"Product description: A home milkshake maker\\nSeed words: fast, healthy, compact.\\nProduct names: HomeShaker, Fit Shaker, QuickShake, Shake Maker\\n\\nProduct description: A pair of shoes that can fit any foot size.\\nSeed words: adaptable, fit, omni-fit.\"\n",
    "\n",
    "print(prompt)"
   ]
  },
  {
   "cell_type": "code",
   "execution_count": null,
   "metadata": {
    "jupyter": {
     "outputs_hidden": false,
     "source_hidden": false
    },
    "nteract": {
     "transient": {
      "deleting": false
     }
    }
   },
   "outputs": [],
   "source": [
    "#Setting a few additional, typical parameters during API Call\n",
    "\n",
    "response = client.chat.completions.create(\n",
    "  model=model,\n",
    "  messages = [{\"role\":\"system\", \"content\":\"You are a helpful assistant.\"},\n",
    "               {\"role\":\"user\",\"content\":prompt}])\n",
    "\n",
    "response.choices[0].message.content"
   ]
  },
  {
   "attachments": {},
   "cell_type": "markdown",
   "metadata": {
    "nteract": {
     "transient": {
      "deleting": false
     }
    }
   },
   "source": [
    "# Referencie  \n",
    "- [Openai Cookbook](https://github.com/openai/openai-cookbook?WT.mc_id=academic-105485-koreyst)  \n",
    "- [OpenAI Studio Príklady](https://oai.azure.com/portal?WT.mc_id=academic-105485-koreyst)  \n",
    "- [Najlepšie postupy pre doladenie GPT-3 na klasifikáciu textu](https://docs.google.com/document/d/1rqj7dkuvl7Byd5KQPUJRxc19BJt8wo0yHNwK84KfU3Q/edit#?WT.mc_id=academic-105485-koreyst)\n"
   ]
  },
  {
   "attachments": {},
   "cell_type": "markdown",
   "metadata": {
    "nteract": {
     "transient": {
      "deleting": false
     }
    }
   },
   "source": [
    "# Pre viac pomoci  \n",
    "[OpenAI Komerčný tím](AzureOpenAITeam@microsoft.com)\n"
   ]
  },
  {
   "attachments": {},
   "cell_type": "markdown",
   "metadata": {
    "nteract": {
     "transient": {
      "deleting": false
     }
    }
   },
   "source": [
    "# Prispievatelia\n",
    "* Louis Li\n"
   ]
  },
  {
   "cell_type": "markdown",
   "metadata": {},
   "source": [
    "\n---\n\n**Vyhlásenie o vylúčení zodpovednosti**:  \nTento dokument bol preložený pomocou AI prekladateľskej služby [Co-op Translator](https://github.com/Azure/co-op-translator). Hoci sa snažíme o presnosť, upozorňujeme, že automatizované preklady môžu obsahovať chyby alebo nepresnosti. Za autoritatívny zdroj by sa mal považovať pôvodný dokument v jeho natívnom jazyku. Pre kritické informácie odporúčame profesionálny ľudský preklad. Nezodpovedáme za žiadne nedorozumenia alebo nesprávne interpretácie vyplývajúce z použitia tohto prekladu.\n"
   ]
  }
 ],
 "metadata": {
  "kernel_info": {
   "name": "python310-sdkv2"
  },
  "kernelspec": {
   "display_name": "base",
   "language": "python",
   "name": "python3"
  },
  "language_info": {
   "codemirror_mode": {
    "name": "ipython",
    "version": 3
   },
   "file_extension": ".py",
   "mimetype": "text/x-python",
   "name": "python",
   "nbconvert_exporter": "python",
   "pygments_lexer": "ipython3",
   "version": "3.10.13"
  },
  "microsoft": {
   "host": {
    "AzureML": {
     "notebookHasBeenCompleted": true
    }
   }
  },
  "nteract": {
   "version": "nteract-front-end@1.0.0"
  },
  "coopTranslator": {
   "original_hash": "1854bdde1dd56b366f1f6c9122f7d304",
   "translation_date": "2025-08-25T18:28:11+00:00",
   "source_file": "07-building-chat-applications/python/oai-assignment.ipynb",
   "language_code": "sk"
  }
 },
 "nbformat": 4,
 "nbformat_minor": 2
}