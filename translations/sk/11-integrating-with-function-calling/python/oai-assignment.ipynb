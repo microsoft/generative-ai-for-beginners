{
 "cells": [
  {
   "cell_type": "markdown",
   "metadata": {},
   "source": [
    "## Úvod\n",
    "\n",
    "V tejto lekcii sa dozviete:\n",
    "- Čo je volanie funkcií a na čo sa používa\n",
    "- Ako vytvoriť volanie funkcie pomocou OpenAI\n",
    "- Ako integrovať volanie funkcie do aplikácie\n",
    "\n",
    "## Ciele učenia\n",
    "\n",
    "Po absolvovaní tejto lekcie budete vedieť a rozumieť:\n",
    "\n",
    "- Účelu používania volania funkcií\n",
    "- Nastaviť volanie funkcie pomocou služby OpenAI\n",
    "- Navrhnúť efektívne volania funkcií pre potreby vašej aplikácie\n"
   ]
  },
  {
   "cell_type": "markdown",
   "metadata": {},
   "source": [
    "## Pochopenie volania funkcií\n",
    "\n",
    "V tejto lekcii chceme vytvoriť funkciu pre náš vzdelávací startup, ktorá umožní používateľom vyhľadávať technické kurzy pomocou chatbota. Budeme odporúčať kurzy, ktoré zodpovedajú ich úrovni zručností, aktuálnej pracovnej pozícii a technológiám, o ktoré majú záujem.\n",
    "\n",
    "Na realizáciu tohto cieľa použijeme kombináciu:\n",
    " - `OpenAI` na vytvorenie chatovacieho zážitku pre používateľa\n",
    " - `Microsoft Learn Catalog API` na pomoc používateľom pri vyhľadávaní kurzov podľa ich požiadaviek\n",
    " - `Function Calling` na spracovanie používateľskej požiadavky a jej odoslanie do funkcie, ktorá vykoná API požiadavku\n",
    "\n",
    "Na začiatok sa pozrime, prečo by sme vlastne chceli použiť volanie funkcií:\n",
    "\n",
    "print(\"Správy v ďalšej požiadavke:\")\n",
    "print(messages)\n",
    "print()\n",
    "\n",
    "second_response = client.chat.completions.create(\n",
    "    messages=messages,\n",
    "    model=deployment,\n",
    "    function_call=\"auto\",\n",
    "    functions=functions,\n",
    "    temperature=0\n",
    "        )  # získajte novú odpoveď od GPT, kde už vidí odpoveď z funkcie\n",
    "\n",
    "\n",
    "print(second_response.choices[0].message)\n"
   ]
  },
  {
   "cell_type": "markdown",
   "metadata": {},
   "source": [
    "### Prečo používať Function Calling\n",
    "\n",
    "Ak ste už absolvovali niektorú inú lekciu v tomto kurze, pravdepodobne už chápete silu využívania veľkých jazykových modelov (LLM). Dúfame, že si zároveň uvedomujete aj niektoré ich obmedzenia.\n",
    "\n",
    "Function Calling je funkcia v službe OpenAI Service, ktorá bola navrhnutá na riešenie týchto problémov:\n",
    "\n",
    "Nekonzistentné formátovanie odpovedí:\n",
    "- Pred zavedením function calling boli odpovede z veľkého jazykového modelu neštruktúrované a nekonzistentné. Vývojári museli písať zložitý validačný kód, aby vedeli spracovať každú možnú variáciu výstupu.\n",
    "\n",
    "Obmedzená integrácia s externými dátami:\n",
    "- Pred touto funkciou bolo náročné zapojiť údaje z iných častí aplikácie do kontextu chatu.\n",
    "\n",
    "Štandardizovaním formátu odpovedí a umožnením plynulej integrácie s externými dátami function calling zjednodušuje vývoj a znižuje potrebu ďalšej validačnej logiky.\n",
    "\n",
    "Používatelia nemohli dostať odpovede ako „Aké je aktuálne počasie v Štokholme?“. Je to preto, že modely boli obmedzené na obdobie, kedy boli trénované na dostupných dátach.\n",
    "\n",
    "Pozrime sa na príklad nižšie, ktorý ilustruje tento problém:\n",
    "\n",
    "Povedzme, že chceme vytvoriť databázu údajov o študentoch, aby sme im vedeli odporučiť vhodný kurz. Nižšie máme dva popisy študentov, ktoré sú si veľmi podobné v údajoch, ktoré obsahujú.\n"
   ]
  },
  {
   "cell_type": "code",
   "execution_count": null,
   "metadata": {},
   "outputs": [],
   "source": [
    "student_1_description=\"Emily Johnson is a sophomore majoring in computer science at Duke University. She has a 3.7 GPA. Emily is an active member of the university's Chess Club and Debate Team. She hopes to pursue a career in software engineering after graduating.\"\n",
    " \n",
    "student_2_description = \"Michael Lee is a sophomore majoring in computer science at Stanford University. He has a 3.8 GPA. Michael is known for his programming skills and is an active member of the university's Robotics Club. He hopes to pursue a career in artificial intelligence after finshing his studies.\""
   ]
  },
  {
   "cell_type": "markdown",
   "metadata": {},
   "source": [
    "Chceme toto poslať LLM, aby sme spracovali údaje. Neskôr to môžeme použiť v našej aplikácii na odoslanie do API alebo uloženie do databázy.\n",
    "\n",
    "Vytvorme dva identické prompt-y, ktorými inštruujeme LLM, o aké informácie máme záujem:\n"
   ]
  },
  {
   "cell_type": "markdown",
   "metadata": {},
   "source": [
    "Chceme toto poslať LLM, aby analyzoval časti, ktoré sú dôležité pre náš produkt. Takže môžeme vytvoriť dva identické prompti na inštrukciu LLM:\n"
   ]
  },
  {
   "cell_type": "code",
   "execution_count": null,
   "metadata": {},
   "outputs": [],
   "source": [
    "prompt1 = f'''\n",
    "Please extract the following information from the given text and return it as a JSON object:\n",
    "\n",
    "name\n",
    "major\n",
    "school\n",
    "grades\n",
    "club\n",
    "\n",
    "This is the body of text to extract the information from:\n",
    "{student_1_description}\n",
    "'''\n",
    "\n",
    "\n",
    "prompt2 = f'''\n",
    "Please extract the following information from the given text and return it as a JSON object:\n",
    "\n",
    "name\n",
    "major\n",
    "school\n",
    "grades\n",
    "club\n",
    "\n",
    "This is the body of text to extract the information from:\n",
    "{student_2_description}\n",
    "'''\n"
   ]
  },
  {
   "cell_type": "markdown",
   "metadata": {},
   "source": [
    "Po vytvorení týchto dvoch výziev ich pošleme do LLM pomocou `openai.ChatCompletion`. Výzvu uložíme do premennej `messages` a priradíme rolu `user`. Toto slúži na napodobnenie správy od používateľa, ktorá je napísaná chatbotovi.\n"
   ]
  },
  {
   "cell_type": "code",
   "execution_count": null,
   "metadata": {},
   "outputs": [
    {
     "ename": "",
     "evalue": "",
     "output_type": "error",
     "traceback": [
      "\u001b[1;31mRunning cells with '/opt/homebrew/bin/python3' requires the ipykernel package.\n",
      "\u001b[1;31mRun the following command to install 'ipykernel' into the Python environment. \n",
      "\u001b[1;31mCommand: '/opt/homebrew/bin/python3 -m pip install ipykernel -U --user --force-reinstall'"
     ]
    }
   ],
   "source": [
    "import os\n",
    "import json\n",
    "from openai import OpenAI\n",
    "from dotenv import load_dotenv\n",
    "load_dotenv()\n",
    "\n",
    "client = OpenAI()\n",
    "\n",
    "deployment=\"gpt-3.5-turbo\""
   ]
  },
  {
   "cell_type": "markdown",
   "metadata": {},
   "source": []
  },
  {
   "cell_type": "code",
   "execution_count": null,
   "metadata": {},
   "outputs": [],
   "source": [
    "openai_response1 = client.chat.completions.create(\n",
    " model=deployment,    \n",
    " messages = [{'role': 'user', 'content': prompt1}]\n",
    ")\n",
    "openai_response1.choices[0].message.content "
   ]
  },
  {
   "cell_type": "code",
   "execution_count": null,
   "metadata": {},
   "outputs": [],
   "source": [
    "openai_response2 = client.chat.completions.create(\n",
    " model=deployment,    \n",
    " messages = [{'role': 'user', 'content': prompt2}]\n",
    ")\n",
    "openai_response2.choices[0].message.content"
   ]
  },
  {
   "cell_type": "code",
   "execution_count": null,
   "metadata": {},
   "outputs": [],
   "source": [
    "# Loading the response as a JSON object\n",
    "json_response1 = json.loads(openai_response1.choices[0].message.content)\n",
    "json_response1"
   ]
  },
  {
   "cell_type": "code",
   "execution_count": null,
   "metadata": {},
   "outputs": [],
   "source": [
    "# Loading the response as a JSON object\n",
    "json_response2 = json.loads(openai_response2.choices[0].message.content )\n",
    "json_response2"
   ]
  },
  {
   "cell_type": "markdown",
   "metadata": {},
   "source": [
    "Aj keď sú výzvy rovnaké a popisy podobné, môžeme dostať rôzne formáty vlastnosti `Grades`.\n",
    "\n",
    "Ak spustíte vyššie uvedenú bunku viackrát, formát môže byť `3.7` alebo `3.7 GPA`.\n",
    "\n",
    "Je to preto, že LLM prijíma neštruktúrované dáta vo forme napísanej výzvy a tiež vracia neštruktúrované dáta. Potrebujeme mať štruktúrovaný formát, aby sme vedeli, čo očakávať pri ukladaní alebo používaní týchto údajov.\n",
    "\n",
    "Použitím funkčného volania si môžeme byť istí, že dostaneme späť štruktúrované dáta. Pri použití funkčného volania LLM v skutočnosti nevolá ani nespúšťa žiadne funkcie. Namiesto toho vytvoríme štruktúru, ktorú má LLM pri svojich odpovediach dodržiavať. Potom tieto štruktúrované odpovede použijeme na to, aby sme vedeli, akú funkciu v našich aplikáciách spustiť.\n"
   ]
  },
  {
   "cell_type": "markdown",
   "metadata": {},
   "source": [
    "![Diagram toku volania funkcie](../../../../translated_images/Function-Flow.083875364af4f4bb69bd6f6ed94096a836453183a71cf22388f50310ad6404de.sk.png)\n"
   ]
  },
  {
   "cell_type": "markdown",
   "metadata": {},
   "source": []
  },
  {
   "cell_type": "markdown",
   "metadata": {},
   "source": [
    "### Príklady použitia volania funkcií\n",
    "\n",
    "**Volanie externých nástrojov**  \n",
    "Chatboti sú skvelí v poskytovaní odpovedí na otázky používateľov. Pomocou volania funkcií môžu chatboti využívať správy od používateľov na vykonanie určitých úloh. Napríklad študent môže požiadať chatbota: „Pošli e-mail môjmu vyučujúcemu, že potrebujem viac pomoci s touto témou.“ Toto môže vyvolať volanie funkcie `send_email(to: string, body: string)`\n",
    "\n",
    "**Tvorba API alebo databázových dopytov**  \n",
    "Používatelia môžu vyhľadávať informácie pomocou prirodzeného jazyka, ktorý sa následne premení na formátovaný dopyt alebo API požiadavku. Príkladom môže byť učiteľ, ktorý sa opýta: „Ktorí študenti dokončili poslednú úlohu?“, čo môže vyvolať funkciu s názvom `get_completed(student_name: string, assignment: int, current_status: string)`\n",
    "\n",
    "**Vytváranie štruktúrovaných údajov**  \n",
    "Používatelia môžu zobrať blok textu alebo CSV a pomocou LLM z neho vyťažiť dôležité informácie. Napríklad študent môže previesť článok z Wikipédie o mierových dohodách na tvorbu AI kartičiek. Toto sa dá dosiahnuť použitím funkcie `get_important_facts(agreement_name: string, date_signed: string, parties_involved: list)`\n"
   ]
  },
  {
   "cell_type": "markdown",
   "metadata": {},
   "source": [
    "## 2. Vytvorenie prvého volania funkcie\n",
    "\n",
    "Proces vytvorenia volania funkcie zahŕňa 3 hlavné kroky:\n",
    "1. Zavolanie Chat Completions API so zoznamom vašich funkcií a správou od používateľa\n",
    "2. Prečítanie odpovede modelu na vykonanie akcie, napríklad spustenie funkcie alebo API volania\n",
    "3. Opätovné zavolanie Chat Completions API s odpoveďou z vašej funkcie, aby ste tieto informácie použili na vytvorenie odpovede pre používateľa.\n"
   ]
  },
  {
   "cell_type": "markdown",
   "metadata": {},
   "source": [
    "![Tok volania funkcie](../../../../translated_images/LLM-Flow.3285ed8caf4796d7343c02927f52c9d32df59e790f6e440568e2e951f6ffa5fd.sk.png)\n"
   ]
  },
  {
   "cell_type": "markdown",
   "metadata": {},
   "source": [
    "### Prvky volania funkcie\n",
    "\n",
    "#### Vstup od používateľa\n",
    "\n",
    "Prvým krokom je vytvorenie správy od používateľa. Túto správu môžete dynamicky priradiť na základe hodnoty textového vstupu, alebo jej hodnotu môžete zadať priamo tu. Ak s Chat Completions API pracujete prvýkrát, musíme definovať `role` a `content` správy.\n",
    "\n",
    "`role` môže byť buď `system` (nastavovanie pravidiel), `assistant` (model) alebo `user` (koncový používateľ). Pri volaní funkcie nastavíme túto hodnotu na `user` a zadáme ukážkovú otázku.\n"
   ]
  },
  {
   "cell_type": "code",
   "execution_count": null,
   "metadata": {},
   "outputs": [],
   "source": [
    "messages= [ {\"role\": \"user\", \"content\": \"Find me a good course for a beginner student to learn Azure.\"} ]"
   ]
  },
  {
   "cell_type": "markdown",
   "metadata": {},
   "source": [
    "### Vytváranie funkcií.\n",
    "\n",
    "Ďalej si definujeme funkciu a jej parametre. V tomto prípade použijeme len jednu funkciu s názvom `search_courses`, ale môžete si vytvoriť aj viacero funkcií.\n",
    "\n",
    "**Dôležité** : Funkcie sú zahrnuté v systémovej správe pre LLM a budú započítané do počtu dostupných tokenov, ktoré máte k dispozícii.\n"
   ]
  },
  {
   "cell_type": "code",
   "execution_count": null,
   "metadata": {},
   "outputs": [],
   "source": [
    "functions = [\n",
    "   {\n",
    "      \"name\":\"search_courses\",\n",
    "      \"description\":\"Retrieves courses from the search index based on the parameters provided\",\n",
    "      \"parameters\":{\n",
    "         \"type\":\"object\",\n",
    "         \"properties\":{\n",
    "            \"role\":{\n",
    "               \"type\":\"string\",\n",
    "               \"description\":\"The role of the learner (i.e. developer, data scientist, student, etc.)\"\n",
    "            },\n",
    "            \"product\":{\n",
    "               \"type\":\"string\",\n",
    "               \"description\":\"The product that the lesson is covering (i.e. Azure, Power BI, etc.)\"\n",
    "            },\n",
    "            \"level\":{\n",
    "               \"type\":\"string\",\n",
    "               \"description\":\"The level of experience the learner has prior to taking the course (i.e. beginner, intermediate, advanced)\"\n",
    "            }\n",
    "         },\n",
    "         \"required\":[\n",
    "            \"role\"\n",
    "         ]\n",
    "      }\n",
    "   }\n",
    "]"
   ]
  },
  {
   "cell_type": "markdown",
   "metadata": {},
   "source": [
    "**Definície**\n",
    "\n",
    "Štruktúra definície funkcie má viacero úrovní, pričom každá má svoje vlastné vlastnosti. Tu je rozpis vnorených štruktúr:\n",
    "\n",
    "**Vlastnosti funkcie na najvyššej úrovni:**\n",
    "\n",
    "`name` - Názov funkcie, ktorú chceme zavolať.\n",
    "\n",
    "`description` - Popis toho, ako funkcia funguje. Tu je dôležité byť konkrétny a jasný.\n",
    "\n",
    "`parameters` - Zoznam hodnôt a formátu, ktoré má model vygenerovať vo svojej odpovedi.\n",
    "\n",
    "**Vlastnosti objektu Parameters:**\n",
    "\n",
    "`type` - Dátový typ objektu parameters (zvyčajne \"object\")\n",
    "\n",
    "`properties` - Zoznam konkrétnych hodnôt, ktoré model použije vo svojej odpovedi\n",
    "\n",
    "**Vlastnosti jednotlivých parametrov:**\n",
    "\n",
    "`name` - Implicitne definované kľúčom vlastnosti (napr. \"role\", \"product\", \"level\")\n",
    "\n",
    "`type` - Dátový typ tohto konkrétneho parametra (napr. \"string\", \"number\", \"boolean\")\n",
    "\n",
    "`description` - Popis konkrétneho parametra\n",
    "\n",
    "**Voliteľné vlastnosti:**\n",
    "\n",
    "`required` - Pole, ktoré uvádza, ktoré parametre sú povinné na dokončenie volania funkcie\n"
   ]
  },
  {
   "cell_type": "markdown",
   "metadata": {},
   "source": [
    "### Volanie funkcie\n",
    "Po definovaní funkcie ju teraz musíme zahrnúť do volania Chat Completion API. Urobíme to tak, že do požiadavky pridáme `functions`. V tomto prípade `functions=functions`.\n",
    "\n",
    "Je tu tiež možnosť nastaviť `function_call` na hodnotu `auto`. To znamená, že necháme LLM rozhodnúť, ktorú funkciu má zavolať na základe správy od používateľa, namiesto toho, aby sme to určovali my sami.\n"
   ]
  },
  {
   "cell_type": "code",
   "execution_count": null,
   "metadata": {},
   "outputs": [],
   "source": [
    "response = client.chat.completions.create(model=deployment, \n",
    "                                        messages=messages,\n",
    "                                        functions=functions, \n",
    "                                        function_call=\"auto\") \n",
    "\n",
    "print(response.choices[0].message)"
   ]
  },
  {
   "cell_type": "markdown",
   "metadata": {},
   "source": [
    "Teraz sa pozrime na odpoveď a uvidíme, ako je naformátovaná:\n",
    "\n",
    "{\n",
    "  \"role\": \"assistant\",\n",
    "  \"function_call\": {\n",
    "    \"name\": \"search_courses\",\n",
    "    \"arguments\": \"{\\n  \\\"role\\\": \\\"student\\\",\\n  \\\"product\\\": \\\"Azure\\\",\\n  \\\"level\\\": \\\"beginner\\\"\\n}\"\n",
    "  }\n",
    "}\n",
    "\n",
    "Vidíte, že názov funkcie je volaný a z používateľskej správy dokázal LLM nájsť údaje, ktoré zapadnú do argumentov funkcie.\n"
   ]
  },
  {
   "cell_type": "markdown",
   "metadata": {},
   "source": [
    "## 3. Integrácia volaní funkcií do aplikácie.\n",
    "\n",
    "Po otestovaní formátovanej odpovede z LLM ju môžeme integrovať do aplikácie.\n",
    "\n",
    "### Riadenie toku\n",
    "\n",
    "Aby sme to integrovali do našej aplikácie, postupujme podľa týchto krokov:\n",
    "\n",
    "Najprv zavoláme služby OpenAI a správu uložíme do premennej s názvom `response_message`.\n"
   ]
  },
  {
   "cell_type": "code",
   "execution_count": null,
   "metadata": {},
   "outputs": [],
   "source": [
    "response_message = response.choices[0].message"
   ]
  },
  {
   "cell_type": "markdown",
   "metadata": {},
   "source": [
    "Teraz definujeme funkciu, ktorá zavolá Microsoft Learn API na získanie zoznamu kurzov:\n"
   ]
  },
  {
   "cell_type": "code",
   "execution_count": null,
   "metadata": {},
   "outputs": [],
   "source": [
    "import requests\n",
    "\n",
    "def search_courses(role, product, level):\n",
    "    url = \"https://learn.microsoft.com/api/catalog/\"\n",
    "    params = {\n",
    "        \"role\": role,\n",
    "        \"product\": product,\n",
    "        \"level\": level\n",
    "    }\n",
    "    response = requests.get(url, params=params)\n",
    "    modules = response.json()[\"modules\"]\n",
    "    results = []\n",
    "    for module in modules[:5]:\n",
    "        title = module[\"title\"]\n",
    "        url = module[\"url\"]\n",
    "        results.append({\"title\": title, \"url\": url})\n",
    "    return str(results)\n",
    "\n"
   ]
  },
  {
   "cell_type": "markdown",
   "metadata": {},
   "source": [
    "Ako najlepšiu prax najskôr zistíme, či model chce zavolať nejakú funkciu. Potom vytvoríme jednu z dostupných funkcií a priradíme ju k tej, ktorú model požaduje.\n",
    "\n",
    "Následne vezmeme argumenty funkcie a priradíme ich k argumentom z LLM.\n",
    "\n",
    "Nakoniec pridáme správu o volaní funkcie a hodnoty, ktoré boli vrátené správou `search_courses`. Týmto spôsobom má LLM všetky potrebné informácie na to, aby mohol odpovedať používateľovi prirodzeným jazykom.\n"
   ]
  },
  {
   "cell_type": "code",
   "execution_count": null,
   "metadata": {},
   "outputs": [],
   "source": [
    "# Check if the model wants to call a function\n",
    "if response_message.function_call.name:\n",
    "    print(\"Recommended Function call:\")\n",
    "    print(response_message.function_call.name)\n",
    "    print()\n",
    "\n",
    "    # Call the function. \n",
    "    function_name = response_message.function_call.name\n",
    "\n",
    "    available_functions = {\n",
    "            \"search_courses\": search_courses,\n",
    "    }\n",
    "    function_to_call = available_functions[function_name] \n",
    "\n",
    "    function_args = json.loads(response_message.function_call.arguments)\n",
    "    function_response = function_to_call(**function_args)\n",
    "\n",
    "    print(\"Output of function call:\")\n",
    "    print(function_response)\n",
    "    print(type(function_response))\n",
    "\n",
    "\n",
    "    # Add the assistant response and function response to the messages\n",
    "    messages.append( # adding assistant response to messages\n",
    "        {\n",
    "            \"role\": response_message.role,\n",
    "            \"function_call\": {\n",
    "                \"name\": function_name,\n",
    "                \"arguments\": response_message.function_call.arguments,\n",
    "            },\n",
    "            \"content\": None\n",
    "        }\n",
    "    )\n",
    "    messages.append( # adding function response to messages\n",
    "        {\n",
    "            \"role\": \"function\",\n",
    "            \"name\": function_name,\n",
    "            \"content\":function_response,\n",
    "        }\n",
    "    )\n",
    "\n"
   ]
  },
  {
   "cell_type": "markdown",
   "metadata": {},
   "source": []
  },
  {
   "cell_type": "code",
   "execution_count": null,
   "metadata": {},
   "outputs": [],
   "source": [
    "print(\"Messages in next request:\")\n",
    "print(messages)\n",
    "print()\n",
    "\n",
    "second_response = client.chat.completions.create(\n",
    "    messages=messages,\n",
    "    model=deployment,\n",
    "    function_call=\"auto\",\n",
    "    functions=functions,\n",
    "    temperature=0\n",
    "        )  # get a new response from GPT where it can see the function response\n",
    "\n",
    "\n",
    "print(second_response.choices[0].message)"
   ]
  },
  {
   "cell_type": "markdown",
   "metadata": {},
   "source": [
    "## Výzva na programovanie\n",
    "\n",
    "Skvelá práca! Ak chcete pokračovať v učení o OpenAI Function Calling, môžete si vyskúšať: https://learn.microsoft.com/training/support/catalog-api-developer-reference?WT.mc_id=academic-105485-koreyst\n",
    " - Pridať ďalšie parametre funkcie, ktoré môžu pomôcť študentom nájsť viac kurzov. Dostupné parametre API nájdete tu:\n",
    " - Vytvoriť ďalšie volanie funkcie, ktoré zohľadní viac informácií od študenta, napríklad jeho rodný jazyk\n",
    " - Pridať spracovanie chýb, ak volanie funkcie alebo API nevráti žiadne vhodné kurzy\n"
   ]
  },
  {
   "cell_type": "markdown",
   "metadata": {},
   "source": [
    "\n---\n\n**Vyhlásenie o vylúčení zodpovednosti**:  \nTento dokument bol preložený pomocou AI prekladateľskej služby [Co-op Translator](https://github.com/Azure/co-op-translator). Hoci sa snažíme o presnosť, upozorňujeme, že automatizované preklady môžu obsahovať chyby alebo nepresnosti. Za autoritatívny zdroj sa považuje pôvodný dokument v jeho natívnom jazyku. Pre kritické informácie odporúčame profesionálny ľudský preklad. Nezodpovedáme za žiadne nedorozumenia alebo nesprávne interpretácie vyplývajúce z použitia tohto prekladu.\n"
   ]
  }
 ],
 "metadata": {
  "kernelspec": {
   "display_name": "Python 3",
   "language": "python",
   "name": "python3"
  },
  "language_info": {
   "codemirror_mode": {
    "name": "ipython",
    "version": 3
   },
   "file_extension": ".py",
   "mimetype": "text/x-python",
   "name": "python",
   "nbconvert_exporter": "python",
   "pygments_lexer": "ipython3",
   "version": "3.12.2"
  },
  "orig_nbformat": 4,
  "coopTranslator": {
   "original_hash": "09e1959b012099c552c48fe94d66a64b",
   "translation_date": "2025-08-25T21:18:48+00:00",
   "source_file": "11-integrating-with-function-calling/python/oai-assignment.ipynb",
   "language_code": "sk"
  }
 },
 "nbformat": 4,
 "nbformat_minor": 2
}