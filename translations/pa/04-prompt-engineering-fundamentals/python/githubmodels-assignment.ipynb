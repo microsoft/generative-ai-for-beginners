{
 "cells": [
  {
   "cell_type": "markdown",
   "metadata": {},
   "source": [
    "# ਪ੍ਰੌਂਪਟ ਇੰਜੀਨੀਅਰਿੰਗ ਦਾ ਪਰਚਿਆ\n",
    "ਪ੍ਰੌਂਪਟ ਇੰਜੀਨੀਅਰਿੰਗ ਕੁਦਰਤੀ ਭਾਸ਼ਾ ਪ੍ਰੋਸੈਸਿੰਗ ਟਾਸਕਾਂ ਲਈ ਪ੍ਰੌਂਪਟ ਬਣਾਉਣ ਅਤੇ ਉਨ੍ਹਾਂ ਨੂੰ ਵਧੀਆ ਬਣਾਉਣ ਦੀ ਪ੍ਰਕਿਰਿਆ ਹੈ। ਇਸ ਵਿੱਚ ਠੀਕ ਪ੍ਰੌਂਪਟ ਚੁਣਨਾ, ਉਨ੍ਹਾਂ ਦੇ ਪੈਰਾਮੀਟਰ ਸੈੱਟ ਕਰਨਾ ਅਤੇ ਉਨ੍ਹਾਂ ਦੀ ਕਾਰਗੁਜ਼ਾਰੀ ਦੀ ਜਾਂਚ ਕਰਨਾ ਸ਼ਾਮਲ ਹੁੰਦਾ ਹੈ। NLP ਮਾਡਲਾਂ ਵਿੱਚ ਉੱਚ ਸਹੀਤਾ ਅਤੇ ਪ੍ਰਭਾਵਸ਼ੀਲਤਾ ਹਾਸਲ ਕਰਨ ਲਈ ਪ੍ਰੌਂਪਟ ਇੰਜੀਨੀਅਰਿੰਗ ਬਹੁਤ ਜ਼ਰੂਰੀ ਹੈ। ਇਸ ਭਾਗ ਵਿੱਚ, ਅਸੀਂ OpenAI ਮਾਡਲਾਂ ਦੀ ਵਰਤੋਂ ਕਰਦੇ ਹੋਏ ਪ੍ਰੌਂਪਟ ਇੰਜੀਨੀਅਰਿੰਗ ਦੇ ਮੁਢਲੀਆਂ ਗੱਲਾਂ ਬਾਰੇ ਜਾਣੂ ਹੋਵਾਂਗੇ।\n"
   ]
  },
  {
   "cell_type": "markdown",
   "metadata": {},
   "source": [
    "### ਕਸਰਤ 1: ਟੋਕਨਾਈਜ਼ੇਸ਼ਨ  \n",
    "tiktoken ਦੀ ਵਰਤੋਂ ਕਰਕੇ ਟੋਕਨਾਈਜ਼ੇਸ਼ਨ ਦੀ ਜਾਂਚ ਕਰੋ, ਜੋ ਕਿ OpenAI ਵੱਲੋਂ ਇੱਕ ਤੇਜ਼ ਤੇ ਖੁੱਲ੍ਹਾ ਸਰੋਤ ਟੋਕਨਾਈਜ਼ਰ ਹੈ  \n",
    "ਹੋਰ ਉਦਾਹਰਣਾਂ ਲਈ [OpenAI Cookbook](https://github.com/openai/openai-cookbook/blob/main/examples/How_to_count_tokens_with_tiktoken.ipynb?WT.mc_id=academic-105485-koreyst) ਵੇਖੋ।\n"
   ]
  },
  {
   "cell_type": "code",
   "execution_count": null,
   "metadata": {},
   "outputs": [],
   "source": [
    "# EXERCISE:\n",
    "# 1. Run the exercise as is first\n",
    "# 2. Change the text to any prompt input you want to use & re-run to see tokens\n",
    "\n",
    "import tiktoken\n",
    "\n",
    "# Define the prompt you want tokenized\n",
    "text = f\"\"\"\n",
    "Jupiter is the fifth planet from the Sun and the \\\n",
    "largest in the Solar System. It is a gas giant with \\\n",
    "a mass one-thousandth that of the Sun, but two-and-a-half \\\n",
    "times that of all the other planets in the Solar System combined. \\\n",
    "Jupiter is one of the brightest objects visible to the naked eye \\\n",
    "in the night sky, and has been known to ancient civilizations since \\\n",
    "before recorded history. It is named after the Roman god Jupiter.[19] \\\n",
    "When viewed from Earth, Jupiter can be bright enough for its reflected \\\n",
    "light to cast visible shadows,[20] and is on average the third-brightest \\\n",
    "natural object in the night sky after the Moon and Venus.\n",
    "\"\"\"\n",
    "\n",
    "# Set the model you want encoding for\n",
    "encoding = tiktoken.encoding_for_model(\"gpt-3.5-turbo\")\n",
    "\n",
    "# Encode the text - gives you the tokens in integer form\n",
    "tokens = encoding.encode(text)\n",
    "print(tokens);\n",
    "\n",
    "# Decode the integers to see what the text versions look like\n",
    "[encoding.decode_single_token_bytes(token) for token in tokens]"
   ]
  },
  {
   "cell_type": "markdown",
   "metadata": {},
   "source": [
    "### ਅਭਿਆਸ 2: Github Models ਕੁੰਜੀ ਸੈਟਅੱਪ ਦੀ ਜਾਂਚ ਕਰੋ\n",
    "\n",
    "ਹੇਠਾਂ ਦਿੱਤਾ ਕੋਡ ਚਲਾਓ ਤਾਂ ਜੋ ਇਹ ਪੱਕਾ ਕੀਤਾ ਜਾ ਸਕੇ ਕਿ ਤੁਹਾਡਾ Github Models ਐਂਡਪੌਇੰਟ ਠੀਕ ਤਰੀਕੇ ਨਾਲ ਸੈਟਅੱਪ ਹੋਇਆ ਹੈ। ਇਹ ਕੋਡ ਸਿਰਫ ਇੱਕ ਆਮ ਪ੍ਰੌਂਪਟ ਦੀ ਕੋਸ਼ਿਸ਼ ਕਰਦਾ ਹੈ ਅਤੇ completion ਦੀ ਜਾਂਚ ਕਰਦਾ ਹੈ। ਇਨਪੁਟ `oh say can you see` ਦਾ completion ਕੁਝ ਇਸ ਤਰ੍ਹਾਂ ਹੋਣਾ ਚਾਹੀਦਾ ਹੈ: `by the dawn's early light..`\n"
   ]
  },
  {
   "cell_type": "code",
   "execution_count": 2,
   "metadata": {},
   "outputs": [
    {
     "name": "stdout",
     "output_type": "stream",
     "text": [
      "That line is the opening lyric of \"The Star-Spangled Banner,\" the national anthem of the United States, written by Francis Scott Key. If you'd like more information or analysis, feel free to ask!\n"
     ]
    }
   ],
   "source": [
    "import os\n",
    "from azure.ai.inference import ChatCompletionsClient\n",
    "from azure.ai.inference.models import SystemMessage, UserMessage\n",
    "from azure.core.credentials import AzureKeyCredential\n",
    "\n",
    "token = os.environ[\"GITHUB_TOKEN\"]\n",
    "endpoint = \"https://models.inference.ai.azure.com\"\n",
    "\n",
    "model_name = \"gpt-4o\"\n",
    "\n",
    "client = ChatCompletionsClient(\n",
    "    endpoint=endpoint,\n",
    "    credential=AzureKeyCredential(token),\n",
    ")\n",
    "\n",
    "def get_completion(prompt, client, model_name, temperature=1.0, max_tokens=1000, top_p=1.0):\n",
    "    response = client.complete(\n",
    "        messages=[\n",
    "            {\n",
    "                \"role\": \"system\",\n",
    "                \"content\": \"You are a helpful assistant.\",\n",
    "            },\n",
    "            {\n",
    "                \"role\": \"user\",\n",
    "                \"content\": prompt,\n",
    "            },\n",
    "        ],\n",
    "        model=model_name,\n",
    "        temperature=temperature,\n",
    "        max_tokens=max_tokens,\n",
    "        top_p=top_p\n",
    "    )\n",
    "    return response.choices[0].message.content\n",
    "\n",
    "## ---------- Call the helper method\n",
    "\n",
    "### 1. Set primary content or prompt text\n",
    "text = f\"\"\"\n",
    "oh say can you see\n",
    "\"\"\"\n",
    "\n",
    "### 2. Use that in the prompt template below\n",
    "prompt = f\"\"\"\n",
    "```{text}```\n",
    "\"\"\"\n",
    "\n",
    "## 3. Run the prompt\n",
    "response = get_completion(prompt, client, model_name)\n",
    "print(response)\n"
   ]
  },
  {
   "cell_type": "markdown",
   "metadata": {},
   "source": [
    "### ਕਸਰਤ 3: ਘੜਤੀਆਂ  \n",
    "ਇਹ ਵੇਖੋ ਕਿ ਕੀ ਹੁੰਦਾ ਹੈ ਜਦੋਂ ਤੁਸੀਂ LLM ਨੂੰ ਕਿਸੇ ਐਸੇ ਵਿਸ਼ੇ ਬਾਰੇ ਪ੍ਰੰਪਟ ਲਈ ਜਵਾਬ ਦੇਣ ਲਈ ਕਹਿੰਦੇ ਹੋ ਜੋ ਸ਼ਾਇਦ ਮੌਜੂਦ ਨਾ ਹੋਵੇ, ਜਾਂ ਉਹਨਾਂ ਵਿਸ਼ਿਆਂ ਬਾਰੇ ਜੋ ਇਹਦੇ ਪ੍ਰੀ-ਟ੍ਰੇਨਡ ਡੇਟਾਸੈੱਟ ਤੋਂ ਬਾਹਰ ਹੋਣ ਕਰਕੇ ਇਸਨੂੰ ਪਤਾ ਨਾ ਹੋਣ (ਹਾਲ ਹੀ ਦੇ)। ਵੇਖੋ ਕਿ ਜਵਾਬ ਕਿਵੇਂ ਬਦਲਦਾ ਹੈ ਜੇ ਤੁਸੀਂ ਵੱਖਰਾ ਪ੍ਰੰਪਟ ਜਾਂ ਵੱਖਰਾ ਮਾਡਲ ਵਰਤਦੇ ਹੋ।\n"
   ]
  },
  {
   "cell_type": "code",
   "execution_count": null,
   "metadata": {},
   "outputs": [],
   "source": [
    "\n",
    "## Set the text for simple prompt or primary content\n",
    "## Prompt shows a template format with text in it - add cues, commands etc if needed\n",
    "## Run the completion \n",
    "text = f\"\"\"\n",
    "generate a lesson plan on the Martian War of 2076.\n",
    "\"\"\"\n",
    "\n",
    "prompt = f\"\"\"\n",
    "```{text}```\n",
    "\"\"\"\n",
    "\n",
    "response = get_completion(prompt, client, model_name)\n",
    "print(response)"
   ]
  },
  {
   "cell_type": "markdown",
   "metadata": {},
   "source": [
    "### ਕਸਰਤ 4: ਹਦਾਇਤ ਅਧਾਰਤ  \n",
    "\"text\" ਵੇਰੀਏਬਲ ਨੂੰ ਮੁੱਖ ਸਮੱਗਰੀ ਵਜੋਂ ਵਰਤੋ  \n",
    "ਅਤੇ \"prompt\" ਵੇਰੀਏਬਲ ਨੂੰ ਉਸ ਮੁੱਖ ਸਮੱਗਰੀ ਨਾਲ ਸੰਬੰਧਤ ਇੱਕ ਹਦਾਇਤ ਦੇਣ ਲਈ ਵਰਤੋ।\n",
    "\n",
    "ਇੱਥੇ ਅਸੀਂ ਮਾਡਲ ਨੂੰ ਪੁੱਛਦੇ ਹਾਂ ਕਿ ਉਹ ਇਸ ਲਿਖਤ ਨੂੰ ਦੂਜੇ ਜਮਾਤ ਦੇ ਵਿਦਿਆਰਥੀ ਲਈ ਸੰਖੇਪ ਕਰੇ\n"
   ]
  },
  {
   "cell_type": "code",
   "execution_count": 4,
   "metadata": {},
   "outputs": [
    {
     "name": "stdout",
     "output_type": "stream",
     "text": [
      "Jupiter is the fifth planet from the Sun and the biggest one in our Solar System. It's made of gas and is much bigger than all the other planets put together! You can see Jupiter in the night sky because it's very bright. People have noticed it for a really long time and named it after a Roman god.\n"
     ]
    }
   ],
   "source": [
    "# Test Example\n",
    "# https://platform.openai.com/playground/p/default-summarize\n",
    "\n",
    "## Example text\n",
    "text = f\"\"\"\n",
    "Jupiter is the fifth planet from the Sun and the \\\n",
    "largest in the Solar System. It is a gas giant with \\\n",
    "a mass one-thousandth that of the Sun, but two-and-a-half \\\n",
    "times that of all the other planets in the Solar System combined. \\\n",
    "Jupiter is one of the brightest objects visible to the naked eye \\\n",
    "in the night sky, and has been known to ancient civilizations since \\\n",
    "before recorded history. It is named after the Roman god Jupiter.[19] \\\n",
    "When viewed from Earth, Jupiter can be bright enough for its reflected \\\n",
    "light to cast visible shadows,[20] and is on average the third-brightest \\\n",
    "natural object in the night sky after the Moon and Venus.\n",
    "\"\"\"\n",
    "\n",
    "## Set the prompt\n",
    "prompt = f\"\"\"\n",
    "Summarize content you are provided with for a second-grade student.\n",
    "```{text}```\n",
    "\"\"\"\n",
    "\n",
    "## Run the prompt\n",
    "response = get_completion(prompt, client, model_name)\n",
    "print(response)"
   ]
  },
  {
   "cell_type": "markdown",
   "metadata": {},
   "source": [
    "### ਕਸਰਤ 5: ਜਟਿਲ ਪ੍ਰੋੰਪਟ  \n",
    "ਇੱਕ ਅਜਿਹਾ ਬੇਨਤੀ ਕਰੋ ਜਿਸ ਵਿੱਚ system, user ਅਤੇ assistant ਦੇ ਸੁਨੇਹੇ ਹੋਣ  \n",
    "System assistant ਦਾ ਸੰਦਰਭ ਸੈੱਟ ਕਰਦਾ ਹੈ  \n",
    "User ਅਤੇ Assistant ਦੇ ਸੁਨੇਹੇ ਬਹੁ-ਵਾਰੀ ਗੱਲਬਾਤ ਦਾ ਸੰਦਰਭ ਦਿੰਦੇ ਹਨ  \n",
    "\n",
    "ਨੋਟ ਕਰੋ ਕਿ system ਸੰਦਰਭ ਵਿੱਚ assistant ਦੀ ਪਸੰਦ \"ਤਨਜ਼ੀਏ\" ਵਜੋਂ ਰੱਖੀ ਗਈ ਹੈ।  \n",
    "ਕੋਸ਼ਿਸ਼ ਕਰੋ ਕਿ ਵੱਖ-ਵੱਖ ਪਸੰਦਾਂ ਵਾਲਾ ਸੰਦਰਭ ਵਰਤੋ। ਜਾਂ ਵੱਖ-ਵੱਖ ਇਨਪੁੱਟ/ਆਉਟਪੁੱਟ ਸੁਨੇਹਿਆਂ ਦੀ ਲੜੀ ਅਜ਼ਮਾਓ\n"
   ]
  },
  {
   "cell_type": "code",
   "execution_count": 5,
   "metadata": {},
   "outputs": [
    {
     "name": "stdout",
     "output_type": "stream",
     "text": [
      "Oh, you mean the famous 2020 World Series that wasn’t in a regular location? That was the year they played in the glamorous Arlington, Texas, at Globe Life Field.\n"
     ]
    }
   ],
   "source": [
    "response = client.complete(\n",
    "    model=model_name,\n",
    "    messages=[\n",
    "        {\"role\": \"system\", \"content\": \"You are a sarcastic assistant.\"},\n",
    "        {\"role\": \"user\", \"content\": \"Who won the world series in 2020?\"},\n",
    "        {\"role\": \"assistant\", \"content\": \"Who do you think won? The Los Angeles Dodgers of course.\"},\n",
    "        {\"role\": \"user\", \"content\": \"Where was it played?\"}\n",
    "    ]\n",
    ")\n",
    "print(response.choices[0].message.content)"
   ]
  },
  {
   "cell_type": "markdown",
   "metadata": {},
   "source": [
    "### ਅਭਿਆਸ: ਆਪਣੀ ਸੋਚ ਨੂੰ ਖੋਜੋ\n",
    "ਉਪਰੋਕਤ ਉਦਾਹਰਨਾਂ ਤੁਹਾਨੂੰ ਕੁਝ ਪੈਟਰਨ ਦਿੰਦੀਆਂ ਹਨ ਜੋ ਤੁਸੀਂ ਨਵੇਂ ਪ੍ਰੋੰਪਟ (ਸਧਾਰਣ, ਜਟਿਲ, ਹਦਾਇਤ ਆਦਿ) ਬਣਾਉਣ ਲਈ ਵਰਤ ਸਕਦੇ ਹੋ - ਹੋਰ ਅਭਿਆਸ ਬਣਾਉਣ ਦੀ ਕੋਸ਼ਿਸ਼ ਕਰੋ ਤਾਂ ਜੋ ਅਸੀਂ ਗੱਲ ਕੀਤੀਆਂ ਹੋਰ ਵਿਚਾਰਾਂ ਜਿਵੇਂ ਕਿ ਉਦਾਹਰਨਾਂ, ਸੰਕੇਤ ਆਦਿ ਨੂੰ ਵੀ ਖੋਜ ਸਕੋ।\n"
   ]
  },
  {
   "cell_type": "markdown",
   "metadata": {},
   "source": [
    "\n---\n\n**ਅਸਵੀਕਰਨ**:  \nਇਹ ਦਸਤਾਵੇਜ਼ AI ਅਨੁਵਾਦ ਸੇਵਾ [Co-op Translator](https://github.com/Azure/co-op-translator) ਦੀ ਵਰਤੋਂ ਕਰਕੇ ਅਨੁਵਾਦ ਕੀਤਾ ਗਿਆ ਹੈ। ਅਸੀਂ ਯਥਾਸੰਭਵ ਸਹੀ ਅਨੁਵਾਦ ਕਰਨ ਦੀ ਕੋਸ਼ਿਸ਼ ਕਰਦੇ ਹਾਂ, ਪਰ ਕਿਰਪਾ ਕਰਕੇ ਧਿਆਨ ਵਿੱਚ ਰੱਖੋ ਕਿ ਆਟੋਮੈਟਿਕ ਅਨੁਵਾਦ ਵਿੱਚ ਗਲਤੀਆਂ ਜਾਂ ਅਣਪੂਰੀ ਜਾਣਕਾਰੀ ਹੋ ਸਕਦੀ ਹੈ। ਮੂਲ ਭਾਸ਼ਾ ਵਿੱਚ ਲਿਖਿਆ ਦਸਤਾਵੇਜ਼ ਹੀ ਅਧਿਕਾਰਤ ਸਰੋਤ ਮੰਨਿਆ ਜਾਣਾ ਚਾਹੀਦਾ ਹੈ। ਮਹੱਤਵਪੂਰਨ ਜਾਣਕਾਰੀ ਲਈ, ਪੇਸ਼ੇਵਰ ਮਨੁੱਖੀ ਅਨੁਵਾਦ ਦੀ ਸਿਫ਼ਾਰਸ਼ ਕੀਤੀ ਜਾਂਦੀ ਹੈ। ਇਸ ਅਨੁਵਾਦ ਦੀ ਵਰਤੋਂ ਕਰਕੇ ਹੋਣ ਵਾਲੀਆਂ ਕਿਸੇ ਵੀ ਗਲਤਫਹਿਮੀ ਜਾਂ ਗਲਤ ਅਰਥ ਲਗਾਉਣ ਲਈ ਅਸੀਂ ਜ਼ਿੰਮੇਵਾਰ ਨਹੀਂ ਹਾਂ।\n"
   ]
  }
 ],
 "metadata": {
  "kernelspec": {
   "display_name": "ai4beg",
   "language": "python",
   "name": "python3"
  },
  "language_info": {
   "codemirror_mode": {
    "name": "ipython",
    "version": 3
   },
   "file_extension": ".py",
   "mimetype": "text/x-python",
   "name": "python",
   "nbconvert_exporter": "python",
   "pygments_lexer": "ipython3",
   "version": "3.11.9"
  },
  "coopTranslator": {
   "original_hash": "40586ff9e0ba4574f88e59700b9a0088",
   "translation_date": "2025-08-25T13:23:51+00:00",
   "source_file": "04-prompt-engineering-fundamentals/python/githubmodels-assignment.ipynb",
   "language_code": "pa"
  }
 },
 "nbformat": 4,
 "nbformat_minor": 2
}