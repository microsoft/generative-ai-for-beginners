{
 "cells": [
  {
   "cell_type": "markdown",
   "metadata": {},
   "source": [
    "ਹੇਠਾਂ ਦਿੱਤਾ ਨੋਟਬੁੱਕ GitHub Copilot Chat ਵੱਲੋਂ ਆਟੋਮੈਟਿਕ ਤੌਰ 'ਤੇ ਤਿਆਰ ਕੀਤਾ ਗਿਆ ਸੀ ਅਤੇ ਸਿਰਫ਼ ਸ਼ੁਰੂਆਤੀ ਸੈਟਅੱਪ ਲਈ ਹੈ\n"
   ]
  },
  {
   "cell_type": "markdown",
   "metadata": {},
   "source": [
    "# ਪ੍ਰੌਂਪਟ ਇੰਜੀਨੀਅਰਿੰਗ ਦਾ ਪਰਚਿਆ\n",
    "ਪ੍ਰੌਂਪਟ ਇੰਜੀਨੀਅਰਿੰਗ ਕੁਦਰਤੀ ਭਾਸ਼ਾ ਪ੍ਰਕਿਰਿਆ ਕਾਰਜਾਂ ਲਈ ਪ੍ਰੌਂਪਟ ਬਣਾਉਣ ਅਤੇ ਉਨ੍ਹਾਂ ਨੂੰ ਵਧੀਆ ਬਣਾਉਣ ਦੀ ਪ੍ਰਕਿਰਿਆ ਹੈ। ਇਸ ਵਿੱਚ ਠੀਕ ਪ੍ਰੌਂਪਟ ਚੁਣਨਾ, ਉਨ੍ਹਾਂ ਦੇ ਪੈਰਾਮੀਟਰ ਸੈੱਟ ਕਰਨਾ ਅਤੇ ਉਨ੍ਹਾਂ ਦੀ ਕਾਰਗੁਜ਼ਾਰੀ ਦੀ ਜਾਂਚ ਕਰਨਾ ਸ਼ਾਮਲ ਹੁੰਦਾ ਹੈ। NLP ਮਾਡਲਾਂ ਵਿੱਚ ਉੱਚ ਸਹੀਤਾ ਅਤੇ ਪ੍ਰਭਾਵਸ਼ੀਲਤਾ ਹਾਸਲ ਕਰਨ ਲਈ ਪ੍ਰੌਂਪਟ ਇੰਜੀਨੀਅਰਿੰਗ ਬਹੁਤ ਜ਼ਰੂਰੀ ਹੈ। ਇਸ ਭਾਗ ਵਿੱਚ, ਅਸੀਂ OpenAI ਮਾਡਲਾਂ ਦੀ ਵਰਤੋਂ ਕਰਕੇ ਪ੍ਰੌਂਪਟ ਇੰਜੀਨੀਅਰਿੰਗ ਦੇ ਮੁਢਲੀਆਂ ਗੱਲਾਂ ਬਾਰੇ ਜਾਣੂ ਹੋਵਾਂਗੇ।\n"
   ]
  },
  {
   "cell_type": "markdown",
   "metadata": {},
   "source": [
    "### ਕਸਰਤ 1: ਟੋਕਨਾਈਜ਼ੇਸ਼ਨ  \n",
    "tiktoken ਦੀ ਵਰਤੋਂ ਕਰਕੇ ਟੋਕਨਾਈਜ਼ੇਸ਼ਨ ਦੀ ਜਾਂਚ ਕਰੋ, ਜੋ ਕਿ OpenAI ਵੱਲੋਂ ਇੱਕ ਤੇਜ਼ ਤੇ ਖੁੱਲ੍ਹਾ ਸਰੋਤ ਟੋਕਨਾਈਜ਼ਰ ਹੈ  \n",
    "ਹੋਰ ਉਦਾਹਰਣਾਂ ਲਈ [OpenAI Cookbook](https://github.com/openai/openai-cookbook/blob/main/examples/How_to_count_tokens_with_tiktoken.ipynb?WT.mc_id=academic-105485-koreyst) ਵੇਖੋ।\n"
   ]
  },
  {
   "cell_type": "code",
   "execution_count": null,
   "metadata": {},
   "outputs": [],
   "source": [
    "# EXERCISE:\n",
    "# 1. Run the exercise as is first\n",
    "# 2. Change the text to any prompt input you want to use & re-run to see tokens\n",
    "\n",
    "import tiktoken\n",
    "\n",
    "# Define the prompt you want tokenized\n",
    "text = f\"\"\"\n",
    "Jupiter is the fifth planet from the Sun and the \\\n",
    "largest in the Solar System. It is a gas giant with \\\n",
    "a mass one-thousandth that of the Sun, but two-and-a-half \\\n",
    "times that of all the other planets in the Solar System combined. \\\n",
    "Jupiter is one of the brightest objects visible to the naked eye \\\n",
    "in the night sky, and has been known to ancient civilizations since \\\n",
    "before recorded history. It is named after the Roman god Jupiter.[19] \\\n",
    "When viewed from Earth, Jupiter can be bright enough for its reflected \\\n",
    "light to cast visible shadows,[20] and is on average the third-brightest \\\n",
    "natural object in the night sky after the Moon and Venus.\n",
    "\"\"\"\n",
    "\n",
    "# Set the model you want encoding for\n",
    "encoding = tiktoken.encoding_for_model(\"gpt-3.5-turbo\")\n",
    "\n",
    "# Encode the text - gives you the tokens in integer form\n",
    "tokens = encoding.encode(text)\n",
    "print(tokens);\n",
    "\n",
    "# Decode the integers to see what the text versions look like\n",
    "[encoding.decode_single_token_bytes(token) for token in tokens]"
   ]
  },
  {
   "cell_type": "markdown",
   "metadata": {},
   "source": [
    "### ਕਸਰਤ 2: OpenAI API ਕੁੰਜੀ ਸੈਟਅੱਪ ਦੀ ਪੁਸ਼ਟੀ ਕਰੋ\n",
    "\n",
    "ਹੇਠਾਂ ਦਿੱਤਾ ਕੋਡ ਚਲਾਓ ਤਾਂ ਜੋ ਇਹ ਯਕੀਨੀ ਬਣਾਇਆ ਜਾ ਸਕੇ ਕਿ ਤੁਹਾਡਾ OpenAI ਐਂਡਪੌਇੰਟ ਠੀਕ ਤਰੀਕੇ ਨਾਲ ਸੈੱਟ ਕੀਤਾ ਗਿਆ ਹੈ। ਇਹ ਕੋਡ ਸਿਰਫ ਇੱਕ ਆਸਾਨ ਪ੍ਰੌਂਪਟ ਦੀ ਕੋਸ਼ਿਸ਼ ਕਰਦਾ ਹੈ ਅਤੇ ਮੁਕੰਮਲ ਹੋਣ ਦੀ ਜਾਂਚ ਕਰਦਾ ਹੈ। ਇਨਪੁੱਟ `oh say can you see` ਦਾ ਮੁਕੰਮਲ ਹੋਣਾ `by the dawn's early light..` ਵਰਗਾ ਹੋਣਾ ਚਾਹੀਦਾ ਹੈ।\n"
   ]
  },
  {
   "cell_type": "code",
   "execution_count": null,
   "metadata": {},
   "outputs": [],
   "source": [
    "# The OpenAI SDK was updated on Nov 8, 2023 with new guidance for migration\n",
    "# See: https://github.com/openai/openai-python/discussions/742\n",
    "\n",
    "## Updated\n",
    "import os\n",
    "from openai import AzureOpenAI\n",
    "from dotenv import load_dotenv\n",
    "load_dotenv()\n",
    "\n",
    "client = AzureOpenAI(\n",
    "  api_key=os.environ['AZURE_OPENAI_API_KEY'],  # this is also the default, it can be omitted\n",
    "  api_version = \"2023-05-15\"\n",
    "  )\n",
    "\n",
    "deployment=os.environ['AZURE_OPENAI_DEPLOYMENT']\n",
    "\n",
    "## Updated\n",
    "def get_completion(prompt):\n",
    "    messages = [{\"role\": \"user\", \"content\": prompt}]       \n",
    "    response = client.chat.completions.create(   \n",
    "        model=deployment,                                         \n",
    "        messages=messages,\n",
    "        temperature=0, # this is the degree of randomness of the model's output\n",
    "        max_tokens=1024\n",
    "    )\n",
    "    return response.choices[0].message.content\n",
    "\n",
    "## ---------- Call the helper method\n",
    "\n",
    "### 1. Set primary content or prompt text\n",
    "text = f\"\"\"\n",
    "oh say can you see\n",
    "\"\"\"\n",
    "\n",
    "### 2. Use that in the prompt template below\n",
    "prompt = f\"\"\"\n",
    "```{text}```\n",
    "\"\"\"\n",
    "\n",
    "## 3. Run the prompt\n",
    "response = get_completion(prompt)\n",
    "print(response)"
   ]
  },
  {
   "cell_type": "markdown",
   "metadata": {},
   "source": [
    "### ਕਸਰਤ 3: ਘੜਤੀਆਂ\n",
    "\n",
    "ਇਹ ਵੇਖੋ ਕਿ ਕੀ ਹੁੰਦਾ ਹੈ ਜਦੋਂ ਤੁਸੀਂ LLM ਨੂੰ ਕਿਸੇ ਐਸੇ ਵਿਸ਼ੇ 'ਤੇ ਪ੍ਰੰਪਟ ਲਈ ਜਵਾਬ ਦੇਣ ਲਈ ਕਹਿੰਦੇ ਹੋ ਜੋ ਸ਼ਾਇਦ ਮੌਜੂਦ ਨਾ ਹੋਵੇ, ਜਾਂ ਉਹਨਾਂ ਵਿਸ਼ਿਆਂ ਬਾਰੇ ਜੋ ਇਹ ਜਾਣਦਾ ਨਹੀਂ ਕਿਉਂਕਿ ਉਹ ਇਸਦੇ ਪ੍ਰੀ-ਟ੍ਰੇਨਡ ਡੇਟਾਸੈੱਟ ਤੋਂ ਬਾਹਰ (ਹਾਲੀਆ) ਹਨ। ਵੇਖੋ ਕਿ ਜਵਾਬ ਕਿਵੇਂ ਬਦਲਦਾ ਹੈ ਜੇ ਤੁਸੀਂ ਵੱਖਰਾ ਪ੍ਰੰਪਟ ਜਾਂ ਵੱਖਰਾ ਮਾਡਲ ਵਰਤਦੇ ਹੋ।\n"
   ]
  },
  {
   "cell_type": "code",
   "execution_count": null,
   "metadata": {},
   "outputs": [],
   "source": [
    "\n",
    "## Set the text for simple prompt or primary content\n",
    "## Prompt shows a template format with text in it - add cues, commands etc if needed\n",
    "## Run the completion \n",
    "text = f\"\"\"\n",
    "generate a lesson plan on the Martian War of 2076.\n",
    "\"\"\"\n",
    "\n",
    "prompt = f\"\"\"\n",
    "```{text}```\n",
    "\"\"\"\n",
    "\n",
    "response = get_completion(prompt)\n",
    "print(response)"
   ]
  },
  {
   "cell_type": "markdown",
   "metadata": {},
   "source": [
    "### ਕਸਰਤ 4: ਹਦਾਇਤ ਅਧਾਰਤ  \n",
    "\"text\" ਵੇਰੀਏਬਲ ਨੂੰ ਮੁੱਖ ਸਮੱਗਰੀ ਵਜੋਂ ਵਰਤੋ  \n",
    "ਅਤੇ \"prompt\" ਵੇਰੀਏਬਲ ਵਿੱਚ ਉਸ ਮੁੱਖ ਸਮੱਗਰੀ ਨਾਲ ਸੰਬੰਧਤ ਇੱਕ ਹਦਾਇਤ ਦਿਓ।\n",
    "\n",
    "ਇੱਥੇ ਅਸੀਂ ਮਾਡਲ ਨੂੰ ਕਹਿੰਦੇ ਹਾਂ ਕਿ ਟੈਕਸਟ ਨੂੰ ਦੂਜੇ ਜਮਾਤ ਦੇ ਵਿਦਿਆਰਥੀ ਲਈ ਸੰਖੇਪ ਕਰ।\n"
   ]
  },
  {
   "cell_type": "code",
   "execution_count": null,
   "metadata": {},
   "outputs": [],
   "source": [
    "# Test Example\n",
    "# https://platform.openai.com/playground/p/default-summarize\n",
    "\n",
    "## Example text\n",
    "text = f\"\"\"\n",
    "Jupiter is the fifth planet from the Sun and the \\\n",
    "largest in the Solar System. It is a gas giant with \\\n",
    "a mass one-thousandth that of the Sun, but two-and-a-half \\\n",
    "times that of all the other planets in the Solar System combined. \\\n",
    "Jupiter is one of the brightest objects visible to the naked eye \\\n",
    "in the night sky, and has been known to ancient civilizations since \\\n",
    "before recorded history. It is named after the Roman god Jupiter.[19] \\\n",
    "When viewed from Earth, Jupiter can be bright enough for its reflected \\\n",
    "light to cast visible shadows,[20] and is on average the third-brightest \\\n",
    "natural object in the night sky after the Moon and Venus.\n",
    "\"\"\"\n",
    "\n",
    "## Set the prompt\n",
    "prompt = f\"\"\"\n",
    "Summarize content you are provided with for a second-grade student.\n",
    "```{text}```\n",
    "\"\"\"\n",
    "\n",
    "## Run the prompt\n",
    "response = get_completion(prompt)\n",
    "print(response)"
   ]
  },
  {
   "cell_type": "markdown",
   "metadata": {},
   "source": [
    "### ਕਸਰਤ 5: ਜਟਿਲ ਪ੍ਰੰਪਟ\n",
    "ਇੱਕ ਅਜਿਹਾ ਬੇਨਤੀ ਕਰੋ ਜਿਸ ਵਿੱਚ system, user ਅਤੇ assistant ਦੇ ਸੁਨੇਹੇ ਹੋਣ\n",
    "System assistant ਦਾ ਸੰਦਰਭ ਸੈੱਟ ਕਰਦਾ ਹੈ\n",
    "User ਅਤੇ Assistant ਦੇ ਸੁਨੇਹੇ ਬਹੁ-ਵਾਰੀ ਗੱਲਬਾਤ ਦਾ ਸੰਦਰਭ ਦਿੰਦੇ ਹਨ\n",
    "\n",
    "ਨੋਟ ਕਰੋ ਕਿ system ਸੰਦਰਭ ਵਿੱਚ assistant ਦੀ ਪਸੰਦ \"ਤਨਜ਼ੀਏ\" ਵਜੋਂ ਰੱਖੀ ਗਈ ਹੈ।\n",
    "ਕੋਸ਼ਿਸ਼ ਕਰੋ ਕਿ ਵੱਖ-ਵੱਖ ਪਸੰਦਾਂ ਵਾਲਾ ਸੰਦਰਭ ਵਰਤੋ। ਜਾਂ ਵੱਖ-ਵੱਖ ਇਨਪੁਟ/ਆਉਟਪੁਟ ਸੁਨੇਹਿਆਂ ਦੀ ਲੜੀ ਵਰਤੋ\n"
   ]
  },
  {
   "cell_type": "code",
   "execution_count": null,
   "metadata": {},
   "outputs": [],
   "source": [
    "response = client.chat.completions.create(\n",
    "    model=deployment,\n",
    "    messages=[\n",
    "        {\"role\": \"system\", \"content\": \"You are a sarcastic assistant.\"},\n",
    "        {\"role\": \"user\", \"content\": \"Who won the world series in 2020?\"},\n",
    "        {\"role\": \"assistant\", \"content\": \"Who do you think won? The Los Angeles Dodgers of course.\"},\n",
    "        {\"role\": \"user\", \"content\": \"Where was it played?\"}\n",
    "    ]\n",
    ")\n",
    "print(response.choices[0].message.content)"
   ]
  },
  {
   "cell_type": "markdown",
   "metadata": {},
   "source": [
    "### ਅਭਿਆਸ: ਆਪਣੀ ਸੋਚ ਨੂੰ ਖੋਜੋ\n",
    "ਉਪਰੋਕਤ ਉਦਾਹਰਨਾਂ ਤੁਹਾਨੂੰ ਕੁਝ ਪੈਟਰਨ ਦਿੰਦੀਆਂ ਹਨ ਜੋ ਤੁਸੀਂ ਨਵੇਂ ਪ੍ਰੋੰਪਟ (ਸਧਾਰਣ, ਜਟਿਲ, ਹਦਾਇਤ ਆਦਿ) ਬਣਾਉਣ ਲਈ ਵਰਤ ਸਕਦੇ ਹੋ - ਹੋਰ ਅਭਿਆਸ ਬਣਾਉਣ ਦੀ ਕੋਸ਼ਿਸ਼ ਕਰੋ ਤਾਂ ਜੋ ਅਸੀਂ ਗੱਲ ਕੀਤੀਆਂ ਹੋਰ ਵਿਚਾਰਾਂ ਜਿਵੇਂ ਕਿ ਉਦਾਹਰਨਾਂ, ਸੰਕੇਤ ਆਦਿ ਨੂੰ ਵੀ ਖੋਜ ਸਕੋ।\n"
   ]
  },
  {
   "cell_type": "markdown",
   "metadata": {},
   "source": [
    "\n---\n\n**ਅਸਵੀਕਰਨ**:  \nਇਹ ਦਸਤਾਵੇਜ਼ AI ਅਨੁਵਾਦ ਸੇਵਾ [Co-op Translator](https://github.com/Azure/co-op-translator) ਦੀ ਵਰਤੋਂ ਕਰਕੇ ਅਨੁਵਾਦ ਕੀਤਾ ਗਿਆ ਹੈ। ਅਸੀਂ ਯਥਾਸੰਭਵ ਸਹੀ ਅਨੁਵਾਦ ਕਰਨ ਦੀ ਕੋਸ਼ਿਸ਼ ਕਰਦੇ ਹਾਂ, ਪਰ ਕਿਰਪਾ ਕਰਕੇ ਧਿਆਨ ਵਿੱਚ ਰੱਖੋ ਕਿ ਆਟੋਮੈਟਿਕ ਅਨੁਵਾਦ ਵਿੱਚ ਗਲਤੀਆਂ ਜਾਂ ਅਣਪੂਰੀਆਂ ਜਾਣਕਾਰੀਆਂ ਹੋ ਸਕਦੀਆਂ ਹਨ। ਮੂਲ ਭਾਸ਼ਾ ਵਿੱਚ ਲਿਖਿਆ ਦਸਤਾਵੇਜ਼ ਹੀ ਅਧਿਕਾਰਕ ਸਰੋਤ ਮੰਨਿਆ ਜਾਣਾ ਚਾਹੀਦਾ ਹੈ। ਮਹੱਤਵਪੂਰਨ ਜਾਣਕਾਰੀ ਲਈ, ਪੇਸ਼ੇਵਰ ਮਨੁੱਖੀ ਅਨੁਵਾਦ ਦੀ ਸਿਫ਼ਾਰਸ਼ ਕੀਤੀ ਜਾਂਦੀ ਹੈ। ਇਸ ਅਨੁਵਾਦ ਦੀ ਵਰਤੋਂ ਕਰਕੇ ਹੋਣ ਵਾਲੀਆਂ ਕਿਸੇ ਵੀ ਗਲਤਫਹਿਮੀ ਜਾਂ ਗਲਤ ਵਿਆਖਿਆ ਲਈ ਅਸੀਂ ਜ਼ਿੰਮੇਵਾਰ ਨਹੀਂ ਹਾਂ।\n"
   ]
  }
 ],
 "metadata": {
  "kernelspec": {
   "display_name": "Python 3 (ipykernel)",
   "language": "python",
   "name": "python3"
  },
  "language_info": {
   "codemirror_mode": {
    "name": "ipython",
    "version": 3
   },
   "file_extension": ".py",
   "mimetype": "text/x-python",
   "name": "python",
   "nbconvert_exporter": "python",
   "pygments_lexer": "ipython3",
   "version": "3.10.13"
  },
  "orig_nbformat": 4,
  "coopTranslator": {
   "original_hash": "9b900544221c8d986e06ee6d25debef7",
   "translation_date": "2025-08-25T13:06:18+00:00",
   "source_file": "04-prompt-engineering-fundamentals/python/aoai-assignment.ipynb",
   "language_code": "pa"
  }
 },
 "nbformat": 4,
 "nbformat_minor": 2
}