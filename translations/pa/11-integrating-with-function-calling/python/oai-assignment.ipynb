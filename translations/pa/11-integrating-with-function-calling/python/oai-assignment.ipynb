{
 "cells": [
  {
   "cell_type": "markdown",
   "metadata": {},
   "source": [
    "## ਪਰਚਿਆ\n",
    "\n",
    "ਇਸ ਪਾਠ ਵਿੱਚ ਤੁਸੀਂ ਸਿੱਖੋਗੇ:\n",
    "- ਫੰਕਸ਼ਨ ਕਾਲ ਕੀ ਹੈ ਅਤੇ ਇਹ ਕਿੱਥੇ ਵਰਤੀ ਜਾਂਦੀ ਹੈ\n",
    "- OpenAI ਦੀ ਵਰਤੋਂ ਕਰਕੇ ਫੰਕਸ਼ਨ ਕਾਲ ਕਿਵੇਂ ਬਣਾਈ ਜਾਂਦੀ ਹੈ\n",
    "- ਕਿਸੇ ਐਪਲੀਕੇਸ਼ਨ ਵਿੱਚ ਫੰਕਸ਼ਨ ਕਾਲ ਨੂੰ ਕਿਵੇਂ ਜੋੜਿਆ ਜਾਂਦਾ ਹੈ\n",
    "\n",
    "## ਸਿੱਖਣ ਦੇ ਲਕੜ\n",
    "\n",
    "ਇਹ ਪਾਠ ਪੂਰਾ ਕਰਨ ਤੋਂ ਬਾਅਦ ਤੁਸੀਂ ਜਾਣ ਪਾਵੋਗੇ ਅਤੇ ਸਮਝ ਪਾਵੋਗੇ:\n",
    "\n",
    "- ਫੰਕਸ਼ਨ ਕਾਲ ਦੀ ਵਰਤੋਂ ਕਰਨ ਦਾ ਮਕਸਦ\n",
    "- OpenAI Service ਦੀ ਵਰਤੋਂ ਕਰਕੇ Function Call ਸੈਟਅੱਪ ਕਰਨਾ\n",
    "- ਆਪਣੀ ਐਪਲੀਕੇਸ਼ਨ ਦੀ ਲੋੜ ਲਈ ਪ੍ਰਭਾਵਸ਼ਾਲੀ ਫੰਕਸ਼ਨ ਕਾਲ ਡਿਜ਼ਾਈਨ ਕਰਨਾ\n"
   ]
  },
  {
   "cell_type": "markdown",
   "metadata": {},
   "source": [
    "## ਫੰਕਸ਼ਨ ਕਾਲਜ਼ ਨੂੰ ਸਮਝਣਾ\n",
    "\n",
    "ਇਸ ਪਾਠ ਲਈ, ਅਸੀਂ ਆਪਣੀ ਐਜੂਕੇਸ਼ਨ ਸਟਾਰਟਅੱਪ ਲਈ ਇੱਕ ਫੀਚਰ ਬਣਾਉਣਾ ਚਾਹੁੰਦੇ ਹਾਂ ਜੋ ਯੂਜ਼ਰਾਂ ਨੂੰ ਚੈਟਬੋਟ ਰਾਹੀਂ ਟੈਕਨੀਕਲ ਕੋਰਸ ਲੱਭਣ ਵਿੱਚ ਮਦਦ ਕਰੇ। ਅਸੀਂ ਉਹ ਕੋਰਸ ਸੁਝਾਅ ਦੇਵਾਂਗੇ ਜੋ ਉਨ੍ਹਾਂ ਦੀਆਂ ਹੁਨਰਾਂ ਦੀ ਲੈਵਲ, ਮੌਜੂਦਾ ਭੂਮਿਕਾ ਅਤੇ ਦਿਲਚਸਪੀ ਵਾਲੀ ਟੈਕਨੋਲੋਜੀ ਦੇ ਅਨੁਸਾਰ ਹੋਣ।\n",
    "\n",
    "ਇਸ ਨੂੰ ਪੂਰਾ ਕਰਨ ਲਈ ਅਸੀਂ ਇਹਨਾਂ ਚੀਜ਼ਾਂ ਦਾ ਮਿਲਾਪ ਵਰਤਾਂਗੇ:\n",
    " - `OpenAI` ਜੋ ਯੂਜ਼ਰ ਲਈ ਚੈਟ ਦਾ ਤਜਰਬਾ ਬਣਾਉਂਦਾ ਹੈ\n",
    " - `Microsoft Learn Catalog API` ਜੋ ਯੂਜ਼ਰ ਦੀ ਮੰਗ ਦੇ ਅਨੁਸਾਰ ਕੋਰਸ ਲੱਭਣ ਵਿੱਚ ਮਦਦ ਕਰਦਾ ਹੈ\n",
    " - `Function Calling` ਜੋ ਯੂਜ਼ਰ ਦੀ ਕਵੈਰੀ ਲੈ ਕੇ, ਉਸਨੂੰ ਫੰਕਸ਼ਨ ਨੂੰ ਭੇਜ ਕੇ API ਰਿਕਵੈਸਟ ਕਰਦਾ ਹੈ\n",
    "\n",
    "ਚਲੋ ਸ਼ੁਰੂ ਕਰੀਏ, ਸਭ ਤੋਂ ਪਹਿਲਾਂ ਵੇਖੀਏ ਕਿ ਅਸੀਂ ਫੰਕਸ਼ਨ ਕਾਲਿੰਗ ਕਿਉਂ ਵਰਤਣੀ ਚਾਹੁੰਦੇ ਹਾਂ:\n",
    "\n",
    "print(\"Messages in next request:\")\n",
    "print(messages)\n",
    "print()\n",
    "\n",
    "second_response = client.chat.completions.create(\n",
    "    messages=messages,\n",
    "    model=deployment,\n",
    "    function_call=\"auto\",\n",
    "    functions=functions,\n",
    "    temperature=0\n",
    "        )  # GPT ਤੋਂ ਨਵਾਂ ਜਵਾਬ ਲਵੋ ਜਿੱਥੇ ਉਹ ਫੰਕਸ਼ਨ ਦਾ ਜਵਾਬ ਵੇਖ ਸਕਦਾ ਹੈ\n",
    "\n",
    "\n",
    "print(second_response.choices[0].message)\n"
   ]
  },
  {
   "cell_type": "markdown",
   "metadata": {},
   "source": [
    "### ਫੰਕਸ਼ਨ ਕਾਲਿੰਗ ਕਿਉਂ\n",
    "\n",
    "ਜੇ ਤੁਸੀਂ ਇਸ ਕੋਰਸ ਵਿੱਚ ਕੋਈ ਹੋਰ ਪਾਠ ਪੂਰਾ ਕੀਤਾ ਹੈ, ਤਾਂ ਤੁਸੀਂ ਸ਼ਾਇਦ ਵੱਡੇ ਭਾਸ਼ਾਈ ਮਾਡਲ (LLMs) ਦੀ ਤਾਕਤ ਨੂੰ ਸਮਝਦੇ ਹੋ। ਉਮੀਦ ਹੈ ਕਿ ਤੁਸੀਂ ਉਨ੍ਹਾਂ ਦੀਆਂ ਕੁਝ ਹੱਦਾਂ ਨੂੰ ਵੀ ਵੇਖ ਸਕਦੇ ਹੋ।\n",
    "\n",
    "ਫੰਕਸ਼ਨ ਕਾਲਿੰਗ OpenAI Service ਦੀ ਇੱਕ ਵਿਸ਼ੇਸ਼ਤਾ ਹੈ ਜੋ ਹੇਠਾਂ ਦਿੱਤੀਆਂ ਚੁਣੌਤੀਆਂ ਨੂੰ ਹੱਲ ਕਰਨ ਲਈ ਬਣਾਈ ਗਈ ਹੈ:\n",
    "\n",
    "ਅਣਗਠੇ ਅਤੇ ਅਸਥਿਰ ਜਵਾਬਾਂ ਦੀ ਫਾਰਮੈਟਿੰਗ:\n",
    "- ਫੰਕਸ਼ਨ ਕਾਲਿੰਗ ਤੋਂ ਪਹਿਲਾਂ, ਵੱਡੇ ਭਾਸ਼ਾਈ ਮਾਡਲ ਵੱਲੋਂ ਆਉਣ ਵਾਲੇ ਜਵਾਬ ਬਿਨਾਂ ਕਿਸੇ ਢਾਂਚੇ ਅਤੇ ਅਕਸਰ ਵੱਖ-ਵੱਖ ਹੁੰਦੇ ਸਨ। ਡਿਵੈਲਪਰਾਂ ਨੂੰ ਹਰ ਵੱਖਰੇ ਨਤੀਜੇ ਨੂੰ ਸੰਭਾਲਣ ਲਈ ਪੇਚੀਦਾ ਵੈਲੀਡੇਸ਼ਨ ਕੋਡ ਲਿਖਣਾ ਪੈਂਦਾ ਸੀ।\n",
    "\n",
    "ਬਾਹਰੀ ਡਾਟਾ ਨਾਲ ਸੀਮਤ ਇੰਟੀਗ੍ਰੇਸ਼ਨ:\n",
    "- ਇਸ ਵਿਸ਼ੇਸ਼ਤਾ ਤੋਂ ਪਹਿਲਾਂ, ਕਿਸੇ ਐਪਲੀਕੇਸ਼ਨ ਦੇ ਹੋਰ ਹਿੱਸਿਆਂ ਤੋਂ ਡਾਟਾ ਚੈਟ ਸੰਦਰਭ ਵਿੱਚ ਲਿਆਉਣਾ ਔਖਾ ਸੀ।\n",
    "\n",
    "ਜਵਾਬਾਂ ਦੇ ਫਾਰਮੈਟ ਨੂੰ ਮਿਆਰੀ ਬਣਾਕੇ ਅਤੇ ਬਾਹਰੀ ਡਾਟਾ ਨਾਲ ਆਸਾਨੀ ਨਾਲ ਜੋੜ ਕੇ, ਫੰਕਸ਼ਨ ਕਾਲਿੰਗ ਡਿਵੈਲਪਮੈਂਟ ਨੂੰ ਸੌਖਾ ਕਰਦੀ ਹੈ ਅਤੇ ਵਾਧੂ ਵੈਲੀਡੇਸ਼ਨ ਲਾਜਿਕ ਦੀ ਲੋੜ ਘਟਾਉਂਦੀ ਹੈ।\n",
    "\n",
    "ਉਪਭੋਗਤਾਵਾਂ ਨੂੰ \"ਸਟੌਕਹੋਮ ਵਿੱਚ ਮੌਜੂਦਾ ਮੌਸਮ ਕੀ ਹੈ?\" ਵਰਗੇ ਸਵਾਲਾਂ ਦੇ ਜਵਾਬ ਨਹੀਂ ਮਿਲ ਸਕਦੇ ਸਨ। ਇਹ ਇਸ ਲਈ ਸੀ ਕਿਉਂਕਿ ਮਾਡਲ ਸਿਰਫ਼ ਉਸ ਸਮੇਂ ਤੱਕ ਦੇ ਡਾਟਾ 'ਤੇ ਸੀਮਤ ਸਨ ਜਦੋਂ ਉਹਨਾਂ ਨੂੰ ਟ੍ਰੇਨ ਕੀਤਾ ਗਿਆ ਸੀ।\n",
    "\n",
    "ਆਓ ਹੇਠਾਂ ਦਿੱਤੇ ਉਦਾਹਰਨ ਨੂੰ ਵੇਖੀਏ ਜੋ ਇਸ ਸਮੱਸਿਆ ਨੂੰ ਦਰਸਾਉਂਦਾ ਹੈ:\n",
    "\n",
    "ਮੰਨ ਲਓ ਅਸੀਂ ਵਿਦਿਆਰਥੀਆਂ ਦੇ ਡਾਟਾ ਦੀ ਇੱਕ ਡਾਟਾਬੇਸ ਬਣਾਉਣਾ ਚਾਹੁੰਦੇ ਹਾਂ ਤਾਂ ਜੋ ਅਸੀਂ ਉਨ੍ਹਾਂ ਨੂੰ ਠੀਕ ਕੋਰਸ ਦੀ ਸਿਫਾਰਸ਼ ਕਰ ਸਕੀਏ। ਹੇਠਾਂ ਸਾਡੇ ਕੋਲ ਦੋ ਵਿਦਿਆਰਥੀਆਂ ਦੇ ਵੇਰਵੇ ਹਨ ਜੋ ਆਪਣੇ ਡਾਟਾ ਵਿੱਚ ਬਹੁਤ ਮਿਲਦੇ-ਜੁਲਦੇ ਹਨ।\n"
   ]
  },
  {
   "cell_type": "code",
   "execution_count": null,
   "metadata": {},
   "outputs": [],
   "source": [
    "student_1_description=\"Emily Johnson is a sophomore majoring in computer science at Duke University. She has a 3.7 GPA. Emily is an active member of the university's Chess Club and Debate Team. She hopes to pursue a career in software engineering after graduating.\"\n",
    " \n",
    "student_2_description = \"Michael Lee is a sophomore majoring in computer science at Stanford University. He has a 3.8 GPA. Michael is known for his programming skills and is an active member of the university's Robotics Club. He hopes to pursue a career in artificial intelligence after finshing his studies.\""
   ]
  },
  {
   "cell_type": "markdown",
   "metadata": {},
   "source": [
    "ਅਸੀਂ ਇਹ ਡਾਟਾ ਪਾਰਸ ਕਰਨ ਲਈ ਇੱਕ LLM ਨੂੰ ਭੇਜਣਾ ਚਾਹੁੰਦੇ ਹਾਂ। ਇਹ ਬਾਅਦ ਵਿੱਚ ਸਾਡੀ ਐਪਲੀਕੇਸ਼ਨ ਵਿੱਚ API ਨੂੰ ਭੇਜਣ ਜਾਂ ਡਾਟਾਬੇਸ ਵਿੱਚ ਸਟੋਰ ਕਰਨ ਲਈ ਵਰਤਿਆ ਜਾ ਸਕਦਾ ਹੈ।\n",
    "\n",
    "ਆਓ ਦੋ ਇਕੋ ਜਿਹੇ ਪ੍ਰਾਂਪਟ ਬਣਾਈਏ ਜਿਨ੍ਹਾਂ ਰਾਹੀਂ ਅਸੀਂ LLM ਨੂੰ ਦੱਸਦੇ ਹਾਂ ਕਿ ਸਾਨੂੰ ਕਿਹੜੀ ਜਾਣਕਾਰੀ ਚਾਹੀਦੀ ਹੈ:\n"
   ]
  },
  {
   "cell_type": "markdown",
   "metadata": {},
   "source": [
    "ਅਸੀਂ ਇਹ ਇੱਕ LLM ਨੂੰ ਭੇਜਣਾ ਚਾਹੁੰਦੇ ਹਾਂ ਤਾਂ ਜੋ ਇਹ ਸਾਡੇ ਉਤਪਾਦ ਲਈ ਮਹੱਤਵਪੂਰਨ ਹਿੱਸਿਆਂ ਨੂੰ ਪਾਰਸ ਕਰ ਸਕੇ। ਇਸ ਲਈ ਅਸੀਂ ਦੋ ਇਕੋ ਜਿਹੇ ਪ੍ਰੋੰਪਟ ਤਿਆਰ ਕਰ ਸਕਦੇ ਹਾਂ ਤਾਂ ਜੋ LLM ਨੂੰ ਨਿਰਦੇਸ਼ ਦਿੱਤੇ ਜਾ ਸਕਣ:\n"
   ]
  },
  {
   "cell_type": "code",
   "execution_count": null,
   "metadata": {},
   "outputs": [],
   "source": [
    "prompt1 = f'''\n",
    "Please extract the following information from the given text and return it as a JSON object:\n",
    "\n",
    "name\n",
    "major\n",
    "school\n",
    "grades\n",
    "club\n",
    "\n",
    "This is the body of text to extract the information from:\n",
    "{student_1_description}\n",
    "'''\n",
    "\n",
    "\n",
    "prompt2 = f'''\n",
    "Please extract the following information from the given text and return it as a JSON object:\n",
    "\n",
    "name\n",
    "major\n",
    "school\n",
    "grades\n",
    "club\n",
    "\n",
    "This is the body of text to extract the information from:\n",
    "{student_2_description}\n",
    "'''\n"
   ]
  },
  {
   "cell_type": "markdown",
   "metadata": {},
   "source": [
    "ਇਹ ਦੋ ਪ੍ਰੋੰਪਟ ਬਣਾਉਣ ਤੋਂ ਬਾਅਦ, ਅਸੀਂ ਉਨ੍ਹਾਂ ਨੂੰ LLM ਨੂੰ `openai.ChatCompletion` ਦੀ ਵਰਤੋਂ ਕਰਕੇ ਭੇਜਾਂਗੇ। ਅਸੀਂ ਪ੍ਰੋੰਪਟ ਨੂੰ `messages` ਵੈਰੀਏਬਲ ਵਿੱਚ ਸੰਭਾਲਦੇ ਹਾਂ ਅਤੇ ਭੂਮਿਕਾ ਨੂੰ `user` ਨਿਰਧਾਰਤ ਕਰਦੇ ਹਾਂ। ਇਹ ਇਸ ਲਈ ਹੈ ਤਾਂ ਜੋ ਇੱਕ ਯੂਜ਼ਰ ਵੱਲੋਂ ਚੈਟਬੋਟ ਨੂੰ ਲਿਖਿਆ ਗਿਆ ਸੁਨੇਹਾ ਦਿਖਾਇਆ ਜਾ ਸਕੇ।\n"
   ]
  },
  {
   "cell_type": "code",
   "execution_count": null,
   "metadata": {},
   "outputs": [
    {
     "ename": "",
     "evalue": "",
     "output_type": "error",
     "traceback": [
      "\u001b[1;31mRunning cells with '/opt/homebrew/bin/python3' requires the ipykernel package.\n",
      "\u001b[1;31mRun the following command to install 'ipykernel' into the Python environment. \n",
      "\u001b[1;31mCommand: '/opt/homebrew/bin/python3 -m pip install ipykernel -U --user --force-reinstall'"
     ]
    }
   ],
   "source": [
    "import os\n",
    "import json\n",
    "from openai import OpenAI\n",
    "from dotenv import load_dotenv\n",
    "load_dotenv()\n",
    "\n",
    "client = OpenAI()\n",
    "\n",
    "deployment=\"gpt-3.5-turbo\""
   ]
  },
  {
   "cell_type": "markdown",
   "metadata": {},
   "source": []
  },
  {
   "cell_type": "code",
   "execution_count": null,
   "metadata": {},
   "outputs": [],
   "source": [
    "openai_response1 = client.chat.completions.create(\n",
    " model=deployment,    \n",
    " messages = [{'role': 'user', 'content': prompt1}]\n",
    ")\n",
    "openai_response1.choices[0].message.content "
   ]
  },
  {
   "cell_type": "code",
   "execution_count": null,
   "metadata": {},
   "outputs": [],
   "source": [
    "openai_response2 = client.chat.completions.create(\n",
    " model=deployment,    \n",
    " messages = [{'role': 'user', 'content': prompt2}]\n",
    ")\n",
    "openai_response2.choices[0].message.content"
   ]
  },
  {
   "cell_type": "code",
   "execution_count": null,
   "metadata": {},
   "outputs": [],
   "source": [
    "# Loading the response as a JSON object\n",
    "json_response1 = json.loads(openai_response1.choices[0].message.content)\n",
    "json_response1"
   ]
  },
  {
   "cell_type": "code",
   "execution_count": null,
   "metadata": {},
   "outputs": [],
   "source": [
    "# Loading the response as a JSON object\n",
    "json_response2 = json.loads(openai_response2.choices[0].message.content )\n",
    "json_response2"
   ]
  },
  {
   "cell_type": "markdown",
   "metadata": {},
   "source": [
    "ਭਾਵੇਂ ਪ੍ਰਾਂਪਟ ਇੱਕੋ ਜਿਹੇ ਹਨ ਅਤੇ ਵੇਰਵੇ ਵੀ ਮਿਲਦੇ ਜੁਲਦੇ ਹਨ, ਪਰ ਅਸੀਂ `Grades` ਪ੍ਰਾਪਰਟੀ ਦੇ ਵੱਖ-ਵੱਖ ਫਾਰਮੈਟ ਪ੍ਰਾਪਤ ਕਰ ਸਕਦੇ ਹਾਂ।\n",
    "\n",
    "ਜੇ ਤੁਸੀਂ ਉਪਰੋਕਤ ਸੈੱਲ ਨੂੰ ਕਈ ਵਾਰੀ ਚਲਾਉਂਦੇ ਹੋ, ਤਾਂ ਫਾਰਮੈਟ `3.7` ਜਾਂ `3.7 GPA` ਹੋ ਸਕਦਾ ਹੈ।\n",
    "\n",
    "ਇਹ ਇਸ ਕਰਕੇ ਹੈ ਕਿਉਂਕਿ LLM ਲਿਖਤੀ ਪ੍ਰਾਂਪਟ ਦੇ ਰੂਪ ਵਿੱਚ ਅਸੰਰਚਿਤ ਡਾਟਾ ਲੈਂਦਾ ਹੈ ਅਤੇ ਅਸੰਰਚਿਤ ਡਾਟਾ ਹੀ ਵਾਪਸ ਕਰਦਾ ਹੈ। ਸਾਨੂੰ ਇੱਕ ਸੰਰਚਿਤ ਫਾਰਮੈਟ ਦੀ ਲੋੜ ਹੈ ਤਾਂ ਜੋ ਅਸੀਂ ਜਾਣ ਸਕੀਏ ਕਿ ਇਹ ਡਾਟਾ ਸੰਭਾਲਦੇ ਜਾਂ ਵਰਤਦੇ ਸਮੇਂ ਕੀ ਉਮੀਦ ਕਰੀਏ।\n",
    "\n",
    "ਫੰਕਸ਼ਨਲ ਕਾਲਿੰਗ ਦੀ ਵਰਤੋਂ ਕਰਕੇ, ਅਸੀਂ ਇਹ ਯਕੀਨੀ ਬਣਾ ਸਕਦੇ ਹਾਂ ਕਿ ਸਾਨੂੰ ਵਾਪਸ ਸੰਰਚਿਤ ਡਾਟਾ ਮਿਲੇ। ਜਦੋਂ ਅਸੀਂ ਫੰਕਸ਼ਨ ਕਾਲਿੰਗ ਵਰਤਦੇ ਹਾਂ, LLM ਅਸਲ ਵਿੱਚ ਕੋਈ ਫੰਕਸ਼ਨ ਕਾਲ ਜਾਂ ਚਲਾਉਂਦਾ ਨਹੀਂ। ਇਸ ਦੀ ਬਜਾਏ, ਅਸੀਂ LLM ਲਈ ਇੱਕ ਸੰਰਚਨਾ ਬਣਾਉਂਦੇ ਹਾਂ ਜਿਸਦਾ ਇਹ ਆਪਣੇ ਜਵਾਬਾਂ ਵਿੱਚ ਪਾਲਣ ਕਰਦਾ ਹੈ। ਫਿਰ ਅਸੀਂ ਉਹ ਸੰਰਚਿਤ ਜਵਾਬ ਵਰਤ ਕੇ ਜਾਣਦੇ ਹਾਂ ਕਿ ਆਪਣੀ ਐਪਲੀਕੇਸ਼ਨ ਵਿੱਚ ਕਿਹੜਾ ਫੰਕਸ਼ਨ ਚਲਾਉਣਾ ਹੈ।\n"
   ]
  },
  {
   "cell_type": "markdown",
   "metadata": {},
   "source": [
    "![ਫੰਕਸ਼ਨ ਕਾਲਿੰਗ ਫਲੋ ਡਾਇਗ੍ਰਾਮ](../../../../translated_images/Function-Flow.083875364af4f4bb69bd6f6ed94096a836453183a71cf22388f50310ad6404de.pa.png)\n"
   ]
  },
  {
   "cell_type": "markdown",
   "metadata": {},
   "source": []
  },
  {
   "cell_type": "markdown",
   "metadata": {},
   "source": [
    "### ਫੰਕਸ਼ਨ ਕਾਲਜ਼ ਵਰਤਣ ਦੇ ਯੂਜ਼ ਕੇਸ\n",
    "\n",
    "**ਬਾਹਰੀ ਟੂਲ ਕਾਲ ਕਰਨਾ**  \n",
    "ਚੈਟਬੋਟ ਵਰਤੋਂਕਾਰਾਂ ਦੇ ਸਵਾਲਾਂ ਦੇ ਜਵਾਬ ਦੇਣ ਵਿੱਚ ਬਹੁਤ ਵਧੀਆ ਹਨ। ਫੰਕਸ਼ਨ ਕਾਲਿੰਗ ਦੀ ਵਰਤੋਂ ਕਰਕੇ, ਚੈਟਬੋਟ ਵਰਤੋਂਕਾਰਾਂ ਦੇ ਸੁਨੇਹਿਆਂ ਤੋਂ ਕੁਝ ਕੰਮ ਪੂਰੇ ਕਰ ਸਕਦੇ ਹਨ। ਉਦਾਹਰਨ ਵਜੋਂ, ਇੱਕ ਵਿਦਿਆਰਥੀ ਚੈਟਬੋਟ ਨੂੰ ਆਖ ਸਕਦਾ ਹੈ, \"ਮੇਰੇ ਅਧਿਆਪਕ ਨੂੰ ਈਮੇਲ ਭੇਜੋ ਕਿ ਮੈਨੂੰ ਇਸ ਵਿਸ਼ੇ ਵਿੱਚ ਹੋਰ ਮਦਦ ਦੀ ਲੋੜ ਹੈ\"। ਇਹ `send_email(to: string, body: string)` ਨਾਂ ਦੀ ਫੰਕਸ਼ਨ ਕਾਲ ਕਰ ਸਕਦਾ ਹੈ।\n",
    "\n",
    "**API ਜਾਂ ਡਾਟਾਬੇਸ ਕੁਐਰੀ ਬਣਾਉਣਾ**  \n",
    "ਵਰਤੋਂਕਾਰ ਕੁਦਰਤੀ ਭਾਸ਼ਾ ਵਿੱਚ ਜਾਣਕਾਰੀ ਲੱਭ ਸਕਦੇ ਹਨ, ਜੋ ਕਿ ਇੱਕ ਫਾਰਮੈਟ ਕੀਤੀ ਹੋਈ ਕੁਐਰੀ ਜਾਂ API ਰਿਕਵੈਸਟ ਵਿੱਚ ਬਦਲ ਜਾਂਦੀ ਹੈ। ਉਦਾਹਰਨ ਵਜੋਂ, ਇੱਕ ਅਧਿਆਪਕ ਪੁੱਛ ਸਕਦਾ ਹੈ, \"ਕਿਹੜੇ ਵਿਦਿਆਰਥੀਆਂ ਨੇ ਆਖਰੀ ਅਸਾਈਨਮੈਂਟ ਪੂਰਾ ਕੀਤਾ\" ਜਿਸ ਲਈ `get_completed(student_name: string, assignment: int, current_status: string)` ਨਾਂ ਦੀ ਫੰਕਸ਼ਨ ਕਾਲ ਹੋ ਸਕਦੀ ਹੈ।\n",
    "\n",
    "**ਸਟ੍ਰੱਕਚਰਡ ਡਾਟਾ ਬਣਾਉਣਾ**  \n",
    "ਵਰਤੋਂਕਾਰ ਇੱਕ ਲੰਬਾ ਟੈਕਸਟ ਜਾਂ CSV ਲੈ ਕੇ LLM ਦੀ ਮਦਦ ਨਾਲ ਉਸ ਵਿੱਚੋਂ ਮਹੱਤਵਪੂਰਨ ਜਾਣਕਾਰੀ ਕੱਢ ਸਕਦੇ ਹਨ। ਉਦਾਹਰਨ ਵਜੋਂ, ਇੱਕ ਵਿਦਿਆਰਥੀ ਵਿੱਕੀਪੀਡੀਆ ਲੇਖ ਨੂੰ ਅਮਨ ਸਮਝੌਤਿਆਂ ਬਾਰੇ ਪੜ੍ਹ ਕੇ AI ਫਲੈਸ਼ ਕਾਰਡ ਤਿਆਰ ਕਰ ਸਕਦਾ ਹੈ। ਇਹ `get_important_facts(agreement_name: string, date_signed: string, parties_involved: list)` ਨਾਂ ਦੀ ਫੰਕਸ਼ਨ ਦੀ ਵਰਤੋਂ ਕਰਕੇ ਕੀਤਾ ਜਾ ਸਕਦਾ ਹੈ।\n"
   ]
  },
  {
   "cell_type": "markdown",
   "metadata": {},
   "source": [
    "## 2. ਆਪਣਾ ਪਹਿਲਾ ਫੰਕਸ਼ਨ ਕਾਲ ਬਣਾਉਣਾ\n",
    "\n",
    "ਇੱਕ ਫੰਕਸ਼ਨ ਕਾਲ ਬਣਾਉਣ ਦੀ ਪ੍ਰਕਿਰਿਆ ਵਿੱਚ 3 ਮੁੱਖ ਕਦਮ ਸ਼ਾਮਲ ਹਨ:\n",
    "1. ਆਪਣੀਆਂ ਫੰਕਸ਼ਨਾਂ ਦੀ ਲਿਸਟ ਅਤੇ ਯੂਜ਼ਰ ਦੇ ਸੁਨੇਹੇ ਨਾਲ Chat Completions API ਨੂੰ ਕਾਲ ਕਰਨਾ\n",
    "2. ਮਾਡਲ ਦੇ ਜਵਾਬ ਨੂੰ ਪੜ੍ਹਨਾ ਤਾਂ ਜੋ ਕੋਈ ਕਾਰਵਾਈ ਕੀਤੀ ਜਾ ਸਕੇ, ਜਿਵੇਂ ਕਿ ਫੰਕਸ਼ਨ ਜਾਂ API ਕਾਲ ਚਲਾਉਣਾ\n",
    "3. ਆਪਣੇ ਫੰਕਸ਼ਨ ਤੋਂ ਮਿਲੇ ਜਵਾਬ ਨਾਲ Chat Completions API ਨੂੰ ਦੁਬਾਰਾ ਕਾਲ ਕਰਨਾ, ਤਾਂ ਜੋ ਉਹ ਜਾਣਕਾਰੀ ਵਰਤ ਕੇ ਯੂਜ਼ਰ ਲਈ ਜਵਾਬ ਤਿਆਰ ਕੀਤਾ ਜਾ ਸਕੇ\n"
   ]
  },
  {
   "cell_type": "markdown",
   "metadata": {},
   "source": [
    "![Flow of a Function Call](../../../../translated_images/LLM-Flow.3285ed8caf4796d7343c02927f52c9d32df59e790f6e440568e2e951f6ffa5fd.pa.png)\n"
   ]
  },
  {
   "cell_type": "markdown",
   "metadata": {},
   "source": [
    "### ਫੰਕਸ਼ਨ ਕਾਲ ਦੇ ਤੱਤ\n",
    "\n",
    "#### ਯੂਜ਼ਰ ਇਨਪੁੱਟ\n",
    "\n",
    "ਸਭ ਤੋਂ ਪਹਿਲਾ ਕਦਮ ਇੱਕ ਯੂਜ਼ਰ ਸੁਨੇਹਾ ਬਣਾਉਣਾ ਹੈ। ਇਹ ਟੈਕਸਟ ਇਨਪੁੱਟ ਦੀ ਵੈਲਯੂ ਲੈ ਕੇ ਡਾਇਨੈਮਿਕ ਤੌਰ 'ਤੇ ਦਿੱਤਾ ਜਾ ਸਕਦਾ ਹੈ ਜਾਂ ਤੁਸੀਂ ਇੱਥੇ ਵੀ ਵੈਲਯੂ ਦੇ ਸਕਦੇ ਹੋ। ਜੇ ਤੁਸੀਂ ਪਹਿਲੀ ਵਾਰ Chat Completions API ਨਾਲ ਕੰਮ ਕਰ ਰਹੇ ਹੋ, ਤਾਂ ਸਾਨੂੰ ਸੁਨੇਹੇ ਦੀ `role` ਅਤੇ `content` ਨੂੰ ਪਰਿਭਾਸ਼ਿਤ ਕਰਨਾ ਪਵੇਗਾ।\n",
    "\n",
    "`role` ਜਾਂ ਤਾਂ `system` (ਨਿਯਮ ਬਣਾਉਣ ਲਈ), `assistant` (ਮਾਡਲ) ਜਾਂ `user` (ਅੰਤਮ ਯੂਜ਼ਰ) ਹੋ ਸਕਦੀ ਹੈ। ਫੰਕਸ਼ਨ ਕਾਲ ਲਈ, ਅਸੀਂ ਇਸਨੂੰ `user` ਅਤੇ ਇੱਕ ਉਦਾਹਰਨ ਸਵਾਲ ਦੇ ਤੌਰ 'ਤੇ ਵਰਤਾਂਗੇ।\n"
   ]
  },
  {
   "cell_type": "code",
   "execution_count": null,
   "metadata": {},
   "outputs": [],
   "source": [
    "messages= [ {\"role\": \"user\", \"content\": \"Find me a good course for a beginner student to learn Azure.\"} ]"
   ]
  },
  {
   "cell_type": "markdown",
   "metadata": {},
   "source": [
    "### ਫੰਕਸ਼ਨ ਬਣਾਉਣਾ।\n",
    "\n",
    "ਅਗਲੇ ਕਦਮ ਵਿੱਚ ਅਸੀਂ ਇੱਕ ਫੰਕਸ਼ਨ ਅਤੇ ਉਸ ਫੰਕਸ਼ਨ ਦੇ ਪੈਰਾਮੀਟਰ ਪਰਿਭਾਸ਼ਿਤ ਕਰਾਂਗੇ। ਇੱਥੇ ਅਸੀਂ ਸਿਰਫ਼ ਇੱਕ ਫੰਕਸ਼ਨ ਵਰਤਾਂਗੇ ਜਿਸਦਾ ਨਾਂ `search_courses` ਹੈ, ਪਰ ਤੁਸੀਂ ਕਈ ਹੋਰ ਫੰਕਸ਼ਨ ਵੀ ਬਣਾ ਸਕਦੇ ਹੋ।\n",
    "\n",
    "**ਮਹੱਤਵਪੂਰਨ** : ਫੰਕਸ਼ਨ ਸਿਸਟਮ ਸੁਨੇਹੇ ਵਿੱਚ LLM ਨੂੰ ਸ਼ਾਮਲ ਕੀਤੇ ਜਾਂਦੇ ਹਨ ਅਤੇ ਇਹ ਤੁਹਾਡੇ ਕੋਲ ਉਪਲਬਧ ਟੋਕਨ ਦੀ ਗਿਣਤੀ ਵਿੱਚ ਸ਼ਾਮਲ ਹੋਣਗੇ।\n"
   ]
  },
  {
   "cell_type": "code",
   "execution_count": null,
   "metadata": {},
   "outputs": [],
   "source": [
    "functions = [\n",
    "   {\n",
    "      \"name\":\"search_courses\",\n",
    "      \"description\":\"Retrieves courses from the search index based on the parameters provided\",\n",
    "      \"parameters\":{\n",
    "         \"type\":\"object\",\n",
    "         \"properties\":{\n",
    "            \"role\":{\n",
    "               \"type\":\"string\",\n",
    "               \"description\":\"The role of the learner (i.e. developer, data scientist, student, etc.)\"\n",
    "            },\n",
    "            \"product\":{\n",
    "               \"type\":\"string\",\n",
    "               \"description\":\"The product that the lesson is covering (i.e. Azure, Power BI, etc.)\"\n",
    "            },\n",
    "            \"level\":{\n",
    "               \"type\":\"string\",\n",
    "               \"description\":\"The level of experience the learner has prior to taking the course (i.e. beginner, intermediate, advanced)\"\n",
    "            }\n",
    "         },\n",
    "         \"required\":[\n",
    "            \"role\"\n",
    "         ]\n",
    "      }\n",
    "   }\n",
    "]"
   ]
  },
  {
   "cell_type": "markdown",
   "metadata": {},
   "source": [
    "**ਪਰਿਭਾਸ਼ਾਵਾਂ**\n",
    "\n",
    "ਫੰਕਸ਼ਨ ਪਰਿਭਾਸ਼ਾ ਦੀ ਬਣਤਰ ਵਿੱਚ ਕਈ ਪੱਧਰ ਹੁੰਦੇ ਹਨ, ਹਰ ਇੱਕ ਦੀਆਂ ਆਪਣੀਆਂ ਵਿਸ਼ੇਸ਼ਤਾਵਾਂ ਹੁੰਦੀਆਂ ਹਨ। ਇੱਥੇ ਨੇੜੇ-ਨੇੜੇ ਬਣਤਰ ਦੀ ਵਿਸਥਾਰ ਨਾਲ ਵਿਆਖਿਆ ਦਿੱਤੀ ਗਈ ਹੈ:\n",
    "\n",
    "**ਸਭ ਤੋਂ ਉੱਚੇ ਪੱਧਰ ਦੀਆਂ ਫੰਕਸ਼ਨ ਵਿਸ਼ੇਸ਼ਤਾਵਾਂ:**\n",
    "\n",
    "`name` -  ਉਸ ਫੰਕਸ਼ਨ ਦਾ ਨਾਂ ਜੋ ਅਸੀਂ ਚਾਹੁੰਦੇ ਹਾਂ ਕਿ ਕਾਲ ਹੋਵੇ।\n",
    "\n",
    "`description` - ਇਹ ਫੰਕਸ਼ਨ ਕਿਵੇਂ ਕੰਮ ਕਰਦਾ ਹੈ, ਇਸ ਦੀ ਵਿਆਖਿਆ ਹੈ। ਇੱਥੇ ਸਪਸ਼ਟ ਅਤੇ ਵਿਸ਼ੇਸ਼ ਹੋਣਾ ਜ਼ਰੂਰੀ ਹੈ\n",
    "\n",
    "`parameters` - ਉਹ ਮੁੱਲ ਅਤੇ ਫਾਰਮੈਟ ਦੀ ਲਿਸਟ ਜੋ ਤੁਸੀਂ ਮਾਡਲ ਤੋਂ ਆਪਣੇ ਜਵਾਬ ਵਿੱਚ ਚਾਹੁੰਦੇ ਹੋ\n",
    "\n",
    "**ਪੈਰਾਮੀਟਰ ਆਬਜੈਕਟ ਦੀਆਂ ਵਿਸ਼ੇਸ਼ਤਾਵਾਂ:**\n",
    "\n",
    "`type` -  ਪੈਰਾਮੀਟਰ ਆਬਜੈਕਟ ਦਾ ਡਾਟਾ ਟਾਈਪ (ਆਮ ਤੌਰ 'ਤੇ \"object\")\n",
    "\n",
    "`properties` - ਉਹ ਖਾਸ ਮੁੱਲਾਂ ਦੀ ਲਿਸਟ ਜੋ ਮਾਡਲ ਆਪਣੇ ਜਵਾਬ ਲਈ ਵਰਤੇਗਾ\n",
    "\n",
    "**ਇਨਵਿਡਿਊਅਲ ਪੈਰਾਮੀਟਰ ਦੀਆਂ ਵਿਸ਼ੇਸ਼ਤਾਵਾਂ:**\n",
    "\n",
    "`name` - ਪਰਾਪਰਟੀ ਕੁੰਜੀ ਰਾਹੀਂ ਅਣਕਹੀ ਤੌਰ 'ਤੇ ਪਰਿਭਾਸ਼ਿਤ (ਉਦਾਹਰਨ ਵਜੋਂ, \"role\", \"product\", \"level\")\n",
    "\n",
    "`type` - ਇਸ ਖਾਸ ਪੈਰਾਮੀਟਰ ਦਾ ਡਾਟਾ ਟਾਈਪ (ਉਦਾਹਰਨ ਵਜੋਂ, \"string\", \"number\", \"boolean\")\n",
    "\n",
    "`description` - ਖਾਸ ਪੈਰਾਮੀਟਰ ਦੀ ਵਿਆਖਿਆ\n",
    "\n",
    "**ਚੋਣਵੀਂ ਵਿਸ਼ੇਸ਼ਤਾਵਾਂ:**\n",
    "\n",
    "`required` - ਇੱਕ ਐਰੇ ਜਿਸ ਵਿੱਚ ਉਹ ਪੈਰਾਮੀਟਰ ਲਿਖੇ ਹੁੰਦੇ ਹਨ ਜੋ ਫੰਕਸ਼ਨ ਕਾਲ ਪੂਰੀ ਕਰਨ ਲਈ ਲਾਜ਼ਮੀ ਹਨ\n"
   ]
  },
  {
   "cell_type": "markdown",
   "metadata": {},
   "source": [
    "### ਫੰਕਸ਼ਨ ਕਾਲ ਕਰਨਾ  \n",
    "ਇੱਕ ਫੰਕਸ਼ਨ ਡਿਫਾਈਨ ਕਰਨ ਤੋਂ ਬਾਅਦ, ਹੁਣ ਸਾਨੂੰ ਇਸਨੂੰ Chat Completion API ਵਿੱਚ ਕਾਲ ਕਰਨਾ ਪਵੇਗਾ। ਅਸੀਂ ਇਹ `functions` ਨੂੰ ਰਿਕਵੈਸਟ ਵਿੱਚ ਸ਼ਾਮਲ ਕਰਕੇ ਕਰਦੇ ਹਾਂ। ਇਸ ਕੇਸ ਵਿੱਚ `functions=functions`।  \n",
    "\n",
    "ਇੱਕ ਹੋਰ ਵਿਕਲਪ ਵੀ ਹੈ ਕਿ `function_call` ਨੂੰ `auto` ਤੇ ਸੈੱਟ ਕੀਤਾ ਜਾਵੇ। ਇਸਦਾ ਮਤਲਬ ਹੈ ਕਿ ਅਸੀਂ LLM ਨੂੰ ਇਹ ਫੈਸਲਾ ਕਰਨ ਦੇਵਾਂਗੇ ਕਿ ਯੂਜ਼ਰ ਦੇ ਸੁਨੇਹੇ ਦੇ ਆਧਾਰ ਤੇ ਕਿਹੜਾ ਫੰਕਸ਼ਨ ਕਾਲ ਕਰਨਾ ਚਾਹੀਦਾ ਹੈ, ਨਾ ਕਿ ਅਸੀਂ ਖੁਦ ਨਿਰਧਾਰਤ ਕਰੀਏ।\n"
   ]
  },
  {
   "cell_type": "code",
   "execution_count": null,
   "metadata": {},
   "outputs": [],
   "source": [
    "response = client.chat.completions.create(model=deployment, \n",
    "                                        messages=messages,\n",
    "                                        functions=functions, \n",
    "                                        function_call=\"auto\") \n",
    "\n",
    "print(response.choices[0].message)"
   ]
  },
  {
   "cell_type": "markdown",
   "metadata": {},
   "source": [
    "ਹੁਣ ਆਓ ਜਵਾਬ ਨੂੰ ਵੇਖੀਏ ਅਤੇ ਵੇਖੀਏ ਕਿ ਇਹ ਕਿਵੇਂ ਫਾਰਮੈਟ ਕੀਤਾ ਗਿਆ ਹੈ:\n",
    "\n",
    "{\n",
    "  \"role\": \"assistant\",\n",
    "  \"function_call\": {\n",
    "    \"name\": \"search_courses\",\n",
    "    \"arguments\": \"{\\n  \\\"role\\\": \\\"student\\\",\\n  \\\"product\\\": \\\"Azure\\\",\\n  \\\"level\\\": \\\"beginner\\\"\\n}\"\n",
    "  }\n",
    "}\n",
    "\n",
    "ਤੁਸੀਂ ਵੇਖ ਸਕਦੇ ਹੋ ਕਿ ਫੰਕਸ਼ਨ ਦਾ ਨਾਂ ਲਾਇਆ ਗਿਆ ਹੈ ਅਤੇ ਯੂਜ਼ਰ ਦੇ ਸੁਨੇਹੇ ਤੋਂ, LLM ਨੇ ਫੰਕਸ਼ਨ ਲਈ ਲੋੜੀਂਦੇ arguments ਲੱਭ ਲਏ ਹਨ।\n"
   ]
  },
  {
   "cell_type": "markdown",
   "metadata": {},
   "source": [
    "## 3.ਫੰਕਸ਼ਨ ਕਾਲਾਂ ਨੂੰ ਐਪਲੀਕੇਸ਼ਨ ਵਿੱਚ ਜੋੜਨਾ\n",
    "\n",
    "ਜਦੋਂ ਅਸੀਂ LLM ਤੋਂ ਆਉਣ ਵਾਲੇ ਫਾਰਮੈਟ ਕੀਤੇ ਜਵਾਬ ਦੀ ਜਾਂਚ ਕਰ ਲੈਂਦੇ ਹਾਂ, ਤਾਂ ਹੁਣ ਅਸੀਂ ਇਸਨੂੰ ਆਪਣੀ ਐਪਲੀਕੇਸ਼ਨ ਵਿੱਚ ਜੋੜ ਸਕਦੇ ਹਾਂ।\n",
    "\n",
    "### ਫਲੋ ਨੂੰ ਮੈਨੇਜ ਕਰਨਾ\n",
    "\n",
    "ਇਸਨੂੰ ਆਪਣੀ ਐਪਲੀਕੇਸ਼ਨ ਵਿੱਚ ਜੋੜਣ ਲਈ, ਆਓ ਹੇਠਾਂ ਦਿੱਤੇ ਕਦਮ ਲੈਂਦੇ ਹਾਂ:\n",
    "\n",
    "ਸਭ ਤੋਂ ਪਹਿਲਾਂ, ਆਓ OpenAI ਸਰਵਿਸ ਨੂੰ ਕਾਲ ਕਰੀਏ ਅਤੇ ਜਵਾਬ ਨੂੰ `response_message` ਨਾਂ ਦੇ ਵੈਰੀਏਬਲ ਵਿੱਚ ਸੰਭਾਲੀਏ।\n"
   ]
  },
  {
   "cell_type": "code",
   "execution_count": null,
   "metadata": {},
   "outputs": [],
   "source": [
    "response_message = response.choices[0].message"
   ]
  },
  {
   "cell_type": "markdown",
   "metadata": {},
   "source": [
    "ਹੁਣ ਅਸੀਂ ਉਹ ਫੰਕਸ਼ਨ ਪਰਿਭਾਸ਼ਿਤ ਕਰਾਂਗੇ ਜੋ ਕੋਰਸਾਂ ਦੀ ਸੂਚੀ ਪ੍ਰਾਪਤ ਕਰਨ ਲਈ Microsoft Learn API ਨੂੰ ਕਾਲ ਕਰੇਗਾ:\n"
   ]
  },
  {
   "cell_type": "code",
   "execution_count": null,
   "metadata": {},
   "outputs": [],
   "source": [
    "import requests\n",
    "\n",
    "def search_courses(role, product, level):\n",
    "    url = \"https://learn.microsoft.com/api/catalog/\"\n",
    "    params = {\n",
    "        \"role\": role,\n",
    "        \"product\": product,\n",
    "        \"level\": level\n",
    "    }\n",
    "    response = requests.get(url, params=params)\n",
    "    modules = response.json()[\"modules\"]\n",
    "    results = []\n",
    "    for module in modules[:5]:\n",
    "        title = module[\"title\"]\n",
    "        url = module[\"url\"]\n",
    "        results.append({\"title\": title, \"url\": url})\n",
    "    return str(results)\n",
    "\n"
   ]
  },
  {
   "cell_type": "markdown",
   "metadata": {},
   "source": [
    "ਇੱਕ ਵਧੀਆ ਤਰੀਕੇ ਵਜੋਂ, ਅਸੀਂ ਪਹਿਲਾਂ ਵੇਖਾਂਗੇ ਕਿ ਮਾਡਲ ਕਿਸੇ ਫੰਕਸ਼ਨ ਨੂੰ ਕਾਲ ਕਰਨਾ ਚਾਹੁੰਦਾ ਹੈ ਜਾਂ ਨਹੀਂ। ਇਸ ਤੋਂ ਬਾਅਦ, ਅਸੀਂ ਉਪਲਬਧ ਫੰਕਸ਼ਨਾਂ ਵਿੱਚੋਂ ਇੱਕ ਬਣਾਵਾਂਗੇ ਅਤੇ ਉਸਨੂੰ ਉਸ ਫੰਕਸ਼ਨ ਨਾਲ ਮਿਲਾਵਾਂਗੇ ਜੋ ਕਾਲ ਹੋ ਰਿਹਾ ਹੈ।\n",
    "\n",
    "ਫਿਰ ਅਸੀਂ ਫੰਕਸ਼ਨ ਦੇ ਆਰਗੂਮੈਂਟ ਲੈ ਕੇ ਉਹਨਾਂ ਨੂੰ LLM ਵੱਲੋਂ ਆਉਣ ਵਾਲੇ ਆਰਗੂਮੈਂਟਸ ਨਾਲ ਮੇਲ ਕਰਾਂਗੇ।\n",
    "\n",
    "ਆਖ਼ਰ ਵਿੱਚ, ਅਸੀਂ ਫੰਕਸ਼ਨ ਕਾਲ ਸੁਨੇਹਾ ਅਤੇ ਉਹ ਮੁੱਲ ਜੋ `search_courses` ਸੁਨੇਹੇ ਵੱਲੋਂ ਵਾਪਸ ਆਏ ਹਨ, ਉਹ ਜੋੜਾਂਗੇ। ਇਹ LLM ਨੂੰ ਸਾਰੀ ਜਾਣਕਾਰੀ ਦਿੰਦਾ ਹੈ ਜੋ ਉਪਭੋਗਤਾ ਨੂੰ ਕੁਦਰਤੀ ਭਾਸ਼ਾ ਵਿੱਚ ਜਵਾਬ ਦੇਣ ਲਈ ਲੋੜੀਂਦੀ ਹੈ।\n"
   ]
  },
  {
   "cell_type": "code",
   "execution_count": null,
   "metadata": {},
   "outputs": [],
   "source": [
    "# Check if the model wants to call a function\n",
    "if response_message.function_call.name:\n",
    "    print(\"Recommended Function call:\")\n",
    "    print(response_message.function_call.name)\n",
    "    print()\n",
    "\n",
    "    # Call the function. \n",
    "    function_name = response_message.function_call.name\n",
    "\n",
    "    available_functions = {\n",
    "            \"search_courses\": search_courses,\n",
    "    }\n",
    "    function_to_call = available_functions[function_name] \n",
    "\n",
    "    function_args = json.loads(response_message.function_call.arguments)\n",
    "    function_response = function_to_call(**function_args)\n",
    "\n",
    "    print(\"Output of function call:\")\n",
    "    print(function_response)\n",
    "    print(type(function_response))\n",
    "\n",
    "\n",
    "    # Add the assistant response and function response to the messages\n",
    "    messages.append( # adding assistant response to messages\n",
    "        {\n",
    "            \"role\": response_message.role,\n",
    "            \"function_call\": {\n",
    "                \"name\": function_name,\n",
    "                \"arguments\": response_message.function_call.arguments,\n",
    "            },\n",
    "            \"content\": None\n",
    "        }\n",
    "    )\n",
    "    messages.append( # adding function response to messages\n",
    "        {\n",
    "            \"role\": \"function\",\n",
    "            \"name\": function_name,\n",
    "            \"content\":function_response,\n",
    "        }\n",
    "    )\n",
    "\n"
   ]
  },
  {
   "cell_type": "markdown",
   "metadata": {},
   "source": []
  },
  {
   "cell_type": "code",
   "execution_count": null,
   "metadata": {},
   "outputs": [],
   "source": [
    "print(\"Messages in next request:\")\n",
    "print(messages)\n",
    "print()\n",
    "\n",
    "second_response = client.chat.completions.create(\n",
    "    messages=messages,\n",
    "    model=deployment,\n",
    "    function_call=\"auto\",\n",
    "    functions=functions,\n",
    "    temperature=0\n",
    "        )  # get a new response from GPT where it can see the function response\n",
    "\n",
    "\n",
    "print(second_response.choices[0].message)"
   ]
  },
  {
   "cell_type": "markdown",
   "metadata": {},
   "source": [
    "## ਕੋਡ ਚੈਲੰਜ\n",
    "\n",
    "ਵਧੀਆ ਕੰਮ! OpenAI Function Calling ਬਾਰੇ ਆਪਣਾ ਗਿਆਨ ਵਧਾਉਣ ਲਈ ਤੁਸੀਂ ਇਹ ਬਣਾਉਣ ਦੀ ਕੋਸ਼ਿਸ਼ ਕਰ ਸਕਦੇ ਹੋ: https://learn.microsoft.com/training/support/catalog-api-developer-reference?WT.mc_id=academic-105485-koreyst  \n",
    " - ਫੰਕਸ਼ਨ ਦੇ ਹੋਰ ਪੈਰਾਮੀਟਰ ਜੋ ਸਿੱਖਣ ਵਾਲਿਆਂ ਨੂੰ ਹੋਰ ਕੋਰਸ ਲੱਭਣ ਵਿੱਚ ਮਦਦ ਕਰ ਸਕਦੇ ਹਨ। ਤੁਸੀਂ ਉਪਲਬਧ API ਪੈਰਾਮੀਟਰ ਇੱਥੇ ਵੇਖ ਸਕਦੇ ਹੋ:  \n",
    " - ਇੱਕ ਹੋਰ ਫੰਕਸ਼ਨ ਕਾਲ ਬਣਾਓ ਜੋ ਸਿੱਖਣ ਵਾਲੇ ਤੋਂ ਹੋਰ ਜਾਣਕਾਰੀ ਲੈਂਦੀ ਹੋਵੇ, ਜਿਵੇਂ ਕਿ ਉਹਦੀ ਮੂਲ ਭਾਸ਼ਾ  \n",
    " - ਐਰਰ ਹੈਂਡਲਿੰਗ ਬਣਾਓ ਜਦੋਂ ਫੰਕਸ਼ਨ ਕਾਲ ਜਾਂ API ਕਾਲ ਕੋਈ ਉਚਿਤ ਕੋਰਸ ਵਾਪਸ ਨਹੀਂ ਕਰਦੀ\n"
   ]
  },
  {
   "cell_type": "markdown",
   "metadata": {},
   "source": [
    "\n---\n\n**ਅਸਵੀਕਰਨ**:  \nਇਹ ਦਸਤਾਵੇਜ਼ AI ਅਨੁਵਾਦ ਸੇਵਾ [Co-op Translator](https://github.com/Azure/co-op-translator) ਦੀ ਵਰਤੋਂ ਕਰਕੇ ਅਨੁਵਾਦ ਕੀਤਾ ਗਿਆ ਹੈ। ਅਸੀਂ ਯਥਾਸੰਭਵ ਸਹੀ ਅਨੁਵਾਦ ਕਰਨ ਦੀ ਕੋਸ਼ਿਸ਼ ਕਰਦੇ ਹਾਂ, ਪਰ ਕਿਰਪਾ ਕਰਕੇ ਧਿਆਨ ਵਿੱਚ ਰੱਖੋ ਕਿ ਆਟੋਮੈਟਿਕ ਅਨੁਵਾਦ ਵਿੱਚ ਗਲਤੀਆਂ ਜਾਂ ਅਣਪੁਰੀ ਸੂਚਨਾ ਹੋ ਸਕਦੀ ਹੈ। ਮੂਲ ਭਾਸ਼ਾ ਵਿੱਚ ਲਿਖਿਆ ਦਸਤਾਵੇਜ਼ ਹੀ ਅਧਿਕਾਰਕ ਸਰੋਤ ਮੰਨਿਆ ਜਾਣਾ ਚਾਹੀਦਾ ਹੈ। ਮਹੱਤਵਪੂਰਨ ਜਾਣਕਾਰੀ ਲਈ, ਪੇਸ਼ੇਵਰ ਮਨੁੱਖੀ ਅਨੁਵਾਦ ਦੀ ਸਿਫ਼ਾਰਸ਼ ਕੀਤੀ ਜਾਂਦੀ ਹੈ। ਇਸ ਅਨੁਵਾਦ ਦੀ ਵਰਤੋਂ ਕਰਕੇ ਹੋਣ ਵਾਲੀਆਂ ਕਿਸੇ ਵੀ ਗਲਤਫਹਿਮੀ ਜਾਂ ਗਲਤ ਅਰਥ ਲਗਾਉਣ ਲਈ ਅਸੀਂ ਜ਼ਿੰਮੇਵਾਰ ਨਹੀਂ ਹਾਂ।\n"
   ]
  }
 ],
 "metadata": {
  "kernelspec": {
   "display_name": "Python 3",
   "language": "python",
   "name": "python3"
  },
  "language_info": {
   "codemirror_mode": {
    "name": "ipython",
    "version": 3
   },
   "file_extension": ".py",
   "mimetype": "text/x-python",
   "name": "python",
   "nbconvert_exporter": "python",
   "pygments_lexer": "ipython3",
   "version": "3.12.2"
  },
  "orig_nbformat": 4,
  "coopTranslator": {
   "original_hash": "09e1959b012099c552c48fe94d66a64b",
   "translation_date": "2025-08-25T20:57:57+00:00",
   "source_file": "11-integrating-with-function-calling/python/oai-assignment.ipynb",
   "language_code": "pa"
  }
 },
 "nbformat": 4,
 "nbformat_minor": 2
}