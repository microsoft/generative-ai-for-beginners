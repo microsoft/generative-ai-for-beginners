{
 "cells": [
  {
   "attachments": {},
   "cell_type": "markdown",
   "metadata": {
    "nteract": {
     "transient": {
      "deleting": false
     }
    }
   },
   "source": [
    "# ਚੈਪਟਰ 7: ਚੈਟ ਐਪਲੀਕੇਸ਼ਨ ਬਣਾਉਣਾ\n",
    "## ਐਜ਼ਿਊਰ ਓਪਨਏਆਈ ਏਪੀਆਈ ਤੇਜ਼ ਸ਼ੁਰੂਆਤ\n"
   ]
  },
  {
   "attachments": {},
   "cell_type": "markdown",
   "metadata": {
    "nteract": {
     "transient": {
      "deleting": false
     }
    }
   },
   "source": [
    "## ਝਲਕ\n",
    "\n",
    "ਇਹ ਨੋਟਬੁੱਕ [Azure OpenAI Samples Repository](https://github.com/Azure/azure-openai-samples?WT.mc_id=academic-105485-koreyst) ਤੋਂ ਲਿਆ ਗਿਆ ਹੈ, ਜਿਸ ਵਿੱਚ ਉਹ ਨੋਟਬੁੱਕ ਵੀ ਸ਼ਾਮਲ ਹਨ ਜੋ [OpenAI](notebook-openai.ipynb) ਸਰਵਿਸ ਨੂੰ ਵਰਤਦੇ ਹਨ।\n",
    "\n",
    "Python OpenAI API, ਕੁਝ ਤਬਦੀਲੀਆਂ ਨਾਲ, Azure OpenAI ਨਾਲ ਵੀ ਕੰਮ ਕਰਦਾ ਹੈ। ਇੱਥੇ ਵੱਖ-ਵੱਖਤਾ ਬਾਰੇ ਹੋਰ ਜਾਣਕਾਰੀ ਲਵੋ: [Python ਨਾਲ OpenAI ਅਤੇ Azure OpenAI endpoints ਵਿਚ ਕਿਵੇਂ ਬਦਲਿਆ ਜਾਵੇ](https://learn.microsoft.com/azure/ai-services/openai/how-to/switching-endpoints?WT.mc_id=academic-109527-jasmineg)\n",
    "\n",
    "ਹੋਰ ਤੁਰੰਤ ਸ਼ੁਰੂ ਕਰਨ ਵਾਲੇ ਉਦਾਹਰਨਾਂ ਲਈ, ਅਧਿਕਾਰਿਕ [Azure OpenAI Quickstart Documentation](https://learn.microsoft.com/azure/cognitive-services/openai/quickstart?pivots=programming-language-studio&WT.mc_id=academic-105485-koreyst) ਵੇਖੋ।\n"
   ]
  },
  {
   "attachments": {},
   "cell_type": "markdown",
   "metadata": {
    "nteract": {
     "transient": {
      "deleting": false
     }
    }
   },
   "source": [
    "## ਸਮੱਗਰੀ ਦੀ ਸੂਚੀ  \n",
    "\n",
    "[ਝਲਕ](../../../../07-building-chat-applications/python)  \n",
    "[Azure OpenAI Service ਨਾਲ ਸ਼ੁਰੂਆਤ](../../../../07-building-chat-applications/python)  \n",
    "[ਆਪਣਾ ਪਹਿਲਾ ਪ੍ਰਾਂਪਟ ਬਣਾਓ](../../../../07-building-chat-applications/python)  \n",
    "\n",
    "[ਵਰਤੋਂ ਦੇ ਕੇਸ](../../../../07-building-chat-applications/python)    \n",
    "[1. ਲਿਖਤ ਦਾ ਸੰਖੇਪ ਬਣਾਓ](../../../../07-building-chat-applications/python)  \n",
    "[2. ਲਿਖਤ ਦੀ ਵਰਗੀਕਰਨ ਕਰੋ](../../../../07-building-chat-applications/python)  \n",
    "[3. ਨਵੇਂ ਉਤਪਾਦਾਂ ਦੇ ਨਾਂ ਬਣਾਓ](../../../../07-building-chat-applications/python)  \n",
    "[4. ਵਰਗੀਕਰਨ ਨੂੰ ਹੋਰ ਸੁਧਾਰੋ](../../../../07-building-chat-applications/python)  \n",
    "[5. ਐਮਬੈਡਿੰਗਜ਼](../../../../07-building-chat-applications/python)\n",
    "\n",
    "[ਹਵਾਲੇ](../../../../07-building-chat-applications/python)\n"
   ]
  },
  {
   "attachments": {},
   "cell_type": "markdown",
   "metadata": {
    "nteract": {
     "transient": {
      "deleting": false
     }
    }
   },
   "source": [
    "### Azure OpenAI Service ਨਾਲ ਸ਼ੁਰੂਆਤ ਕਰਨਾ\n",
    "\n",
    "ਨਵੇਂ ਗਾਹਕਾਂ ਨੂੰ Azure OpenAI Service ਲਈ [ਪਹੁੰਚ ਲਈ ਅਰਜ਼ੀ ਦੇਣੀ ਪਵੇਗੀ](https://aka.ms/oai/access?WT.mc_id=academic-105485-koreyst)।  \n",
    "ਮਨਜ਼ੂਰੀ ਹੋਣ ਤੋਂ ਬਾਅਦ, ਗਾਹਕ Azure ਪੋਰਟਲ ਵਿੱਚ ਲੌਗਇਨ ਕਰ ਸਕਦੇ ਹਨ, Azure OpenAI Service ਰਿਸੋਰਸ ਬਣਾਉਣਗੇ, ਅਤੇ ਮਾਡਲਾਂ 'ਤੇ studio ਰਾਹੀਂ ਤਜਰਬਾ ਕਰਨਾ ਸ਼ੁਰੂ ਕਰ ਸਕਦੇ ਹਨ।  \n",
    "\n",
    "[ਤੁਰੰਤ ਸ਼ੁਰੂਆਤ ਲਈ ਵਧੀਆ ਸਰੋਤ](https://techcommunity.microsoft.com/blog/educatordeveloperblog/azure-openai-service-is-now-generally-available/3719177?WT.mc_id=academic-105485-koreyst)\n"
   ]
  },
  {
   "attachments": {},
   "cell_type": "markdown",
   "metadata": {
    "nteract": {
     "transient": {
      "deleting": false
     }
    }
   },
   "source": [
    "### ਆਪਣਾ ਪਹਿਲਾ ਪ੍ਰੌਂਪਟ ਬਣਾਓ  \n",
    "ਇਹ ਛੋਟੀ ਕਸਰਤ ਤੁਹਾਨੂੰ OpenAI ਮਾਡਲ ਨੂੰ ਇੱਕ ਆਸਾਨ ਕੰਮ \"ਸੰਖੇਪ\" ਲਈ ਪ੍ਰੌਂਪਟ ਭੇਜਣ ਦੀ ਬੁਨਿਆਦੀ ਜਾਣਕਾਰੀ ਦੇਵੇਗੀ।\n",
    "\n",
    "**ਕਦਮ**:  \n",
    "1. ਆਪਣੇ python environment ਵਿੱਚ OpenAI ਲਾਇਬ੍ਰੇਰੀ ਇੰਸਟਾਲ ਕਰੋ  \n",
    "2. ਮਿਆਰੀ ਸਹਾਇਕ ਲਾਇਬ੍ਰੇਰੀਆਂ ਲੋਡ ਕਰੋ ਅਤੇ ਆਪਣੇ ਬਣਾਏ OpenAI Service ਲਈ ਆਮ OpenAI ਸੁਰੱਖਿਆ credentials ਸੈੱਟ ਕਰੋ  \n",
    "3. ਆਪਣੇ ਕੰਮ ਲਈ ਇੱਕ ਮਾਡਲ ਚੁਣੋ  \n",
    "4. ਮਾਡਲ ਲਈ ਇੱਕ ਆਸਾਨ ਪ੍ਰੌਂਪਟ ਬਣਾਓ  \n",
    "5. ਆਪਣੀ ਬੇਨਤੀ ਮਾਡਲ API ਨੂੰ ਭੇਜੋ!\n"
   ]
  },
  {
   "attachments": {},
   "cell_type": "markdown",
   "metadata": {
    "nteract": {
     "transient": {
      "deleting": false
     }
    }
   },
   "source": []
  },
  {
   "cell_type": "markdown",
   "metadata": {},
   "source": [
    "> [!NOTE] ਜੇਕਰ ਤੁਸੀਂ ਇਹ ਨੋਟਬੁੱਕ Codespaces ਜਾਂ Devcontainer ਵਿੱਚ ਚਲਾਉਂਦੇ ਹੋ ਤਾਂ ਇਹ ਕਦਮ ਲਾਜ਼ਮੀ ਨਹੀਂ ਹੈ\n"
   ]
  },
  {
   "cell_type": "code",
   "execution_count": null,
   "metadata": {
    "gather": {
     "logged": 1674254990318
    },
    "jupyter": {
     "outputs_hidden": true,
     "source_hidden": false
    },
    "nteract": {
     "transient": {
      "deleting": false
     }
    }
   },
   "outputs": [],
   "source": [
    "%pip install openai python-dotenv"
   ]
  },
  {
   "attachments": {},
   "cell_type": "markdown",
   "metadata": {
    "nteract": {
     "transient": {
      "deleting": false
     }
    }
   },
   "source": []
  },
  {
   "cell_type": "code",
   "execution_count": null,
   "metadata": {
    "gather": {
     "logged": 1674829434433
    },
    "jupyter": {
     "outputs_hidden": false,
     "source_hidden": false
    },
    "nteract": {
     "transient": {
      "deleting": false
     }
    }
   },
   "outputs": [],
   "source": [
    "import os\n",
    "from openai import AzureOpenAI\n",
    "import numpy as np\n",
    "from dotenv import load_dotenv\n",
    "load_dotenv()\n",
    "\n",
    "#validate data inside .env file\n",
    "\n",
    "client = AzureOpenAI(\n",
    "  api_key=os.environ['AZURE_OPENAI_API_KEY'],  # this is also the default, it can be omitted\n",
    "  api_version = \"2023-05-15\"\n",
    "  )"
   ]
  },
  {
   "attachments": {},
   "cell_type": "markdown",
   "metadata": {
    "nteract": {
     "transient": {
      "deleting": false
     }
    }
   },
   "source": [
    "### 3. ਠੀਕ ਮਾਡਲ ਲੱਭਣਾ  \n",
    "GPT-3.5-turbo ਜਾਂ GPT-4 ਮਾਡਲ ਕੁਦਰਤੀ ਭਾਸ਼ਾ ਨੂੰ ਸਮਝਣ ਅਤੇ ਤਿਆਰ ਕਰਨ ਦੇ ਯੋਗ ਹਨ। ਇਹ ਸਰਵਿਸ ਚਾਰ ਮਾਡਲ ਸਮਰੱਥਾਵਾਂ ਦਿੰਦੀ ਹੈ, ਹਰ ਇੱਕ ਵੱਖ-ਵੱਖ ਤਾਕਤ ਅਤੇ ਤੇਜ਼ੀ ਦੇ ਪੱਧਰਾਂ ਨਾਲ, ਜੋ ਵੱਖ-ਵੱਖ ਕੰਮਾਂ ਲਈ ਢੁੱਕਵੀਆਂ ਹਨ।\n",
    "\n",
    "[Azure OpenAI ਮਾਡਲ](https://learn.microsoft.com/azure/cognitive-services/openai/concepts/models?WT.mc_id=academic-105485-koreyst)\n"
   ]
  },
  {
   "cell_type": "code",
   "execution_count": null,
   "metadata": {
    "gather": {
     "logged": 1674742720788
    },
    "jupyter": {
     "outputs_hidden": true,
     "source_hidden": false
    },
    "nteract": {
     "transient": {
      "deleting": false
     }
    }
   },
   "outputs": [],
   "source": [
    "# Select the General Purpose curie model for text\n",
    "model = os.environ['AZURE_OPENAI_DEPLOYMENT']"
   ]
  },
  {
   "attachments": {},
   "cell_type": "markdown",
   "metadata": {
    "nteract": {
     "transient": {
      "deleting": false
     }
    }
   },
   "source": [
    "## 4. ਪ੍ਰੰਪਟ ਡਿਜ਼ਾਈਨ  \n",
    "\n",
    "\"ਵੱਡੇ ਭਾਸ਼ਾਈ ਮਾਡਲਾਂ ਦੀ ਜਾਦੂ ਇਹ ਹੈ ਕਿ ਜਦੋਂ ਇਹ ਮਾਡਲ ਵੱਡੀ ਮਾਤਰਾ ਵਿੱਚ ਟੈਕਸਟ ਉੱਤੇ ਇਹ ਅਨੁਮਾਨ ਲਗਾਉਣ ਵਾਲੀ ਗਲਤੀ ਘਟਾਉਣ ਲਈ ਟ੍ਰੇਨ ਕੀਤੇ ਜਾਂਦੇ ਹਨ, ਤਾਂ ਇਹ ਮਾਡਲ ਉਹ ਧਾਰਣਾਵਾਂ ਸਿੱਖ ਲੈਂਦੇ ਹਨ ਜੋ ਇਨ੍ਹਾਂ ਅਨੁਮਾਨਾਂ ਲਈ ਲਾਭਦਾਇਕ ਹੁੰਦੀਆਂ ਹਨ। ਉਦਾਹਰਨ ਵਜੋਂ, ਇਹ ਇਹ ਧਾਰਣਾਵਾਂ ਸਿੱਖ ਲੈਂਦੇ ਹਨ\"(1):\n",
    "\n",
    "* ਸ਼ਬਦਾਂ ਦੀ ਸਹੀ ਸਪੈਲਿੰਗ ਕਿਵੇਂ ਕਰਨੀ ਹੈ\n",
    "* ਵਿਆਕਰਨ ਕਿਵੇਂ ਕੰਮ ਕਰਦੀ ਹੈ\n",
    "* ਵਾਕਾਂ ਨੂੰ ਕਿਵੇਂ ਦੁਬਾਰਾ ਲਿਖਣਾ ਹੈ\n",
    "* ਸਵਾਲਾਂ ਦੇ ਜਵਾਬ ਕਿਵੇਂ ਦੇਣੇ ਹਨ\n",
    "* ਗੱਲਬਾਤ ਕਿਵੇਂ ਚਲਾਉਣੀ ਹੈ\n",
    "* ਕਈ ਭਾਸ਼ਾਵਾਂ ਵਿੱਚ ਲਿਖਣਾ ਕਿਵੇਂ ਹੈ\n",
    "* ਕੋਡ ਕਿਵੇਂ ਲਿਖਣਾ ਹੈ\n",
    "* ਆਦਿ\n",
    "\n",
    "#### ਵੱਡੇ ਭਾਸ਼ਾਈ ਮਾਡਲ ਨੂੰ ਕਿਵੇਂ ਕੰਟਰੋਲ ਕਰੀਏ  \n",
    "\"ਵੱਡੇ ਭਾਸ਼ਾਈ ਮਾਡਲ ਲਈ, ਸਭ ਤੋਂ ਵੱਧ ਅਸਰਦਾਰ ਇਨਪੁੱਟ ਟੈਕਸਟ ਪ੍ਰੰਪਟ ਹੁੰਦਾ ਹੈ(1)।\n",
    "\n",
    "ਵੱਡੇ ਭਾਸ਼ਾਈ ਮਾਡਲਾਂ ਨੂੰ ਕੁਝ ਤਰੀਕਿਆਂ ਨਾਲ ਆਉਟਪੁੱਟ ਦੇਣ ਲਈ ਪ੍ਰੰਪਟ ਕੀਤਾ ਜਾ ਸਕਦਾ ਹੈ:\n",
    "\n",
    "- ਨਿਰਦੇਸ਼: ਮਾਡਲ ਨੂੰ ਦੱਸੋ ਕਿ ਤੁਸੀਂ ਕੀ ਚਾਹੁੰਦੇ ਹੋ\n",
    "- ਪੂਰਾ ਕਰਨਾ: ਮਾਡਲ ਨੂੰ ਉਹ ਸ਼ੁਰੂਆਤ ਪੂਰੀ ਕਰਨ ਲਈ ਲੈ ਆਓ ਜੋ ਤੁਸੀਂ ਚਾਹੁੰਦੇ ਹੋ\n",
    "- ਡੈਮੋ: ਮਾਡਲ ਨੂੰ ਦਿਖਾਓ ਕਿ ਤੁਸੀਂ ਕੀ ਚਾਹੁੰਦੇ ਹੋ, ਜਾਂ ਤਾਂ:\n",
    "- ਪ੍ਰੰਪਟ ਵਿੱਚ ਕੁਝ ਉਦਾਹਰਨਾਂ ਦੇ ਕੇ\n",
    "- ਫਾਈਨ-ਟਿਊਨਿੰਗ ਟ੍ਰੇਨਿੰਗ ਡੇਟਾਸੈੱਟ ਵਿੱਚ ਸੈਂਕੜਿਆਂ ਜਾਂ ਹਜ਼ਾਰਾਂ ਉਦਾਹਰਨਾਂ ਦੇ ਕੇ\n",
    "\n",
    "\n",
    "\n",
    "#### ਪ੍ਰੰਪਟ ਬਣਾਉਣ ਲਈ ਤਿੰਨ ਮੁੱਢਲੀਆਂ ਹਦਾਇਤਾਂ ਹਨ:\n",
    "\n",
    "**ਦਿਖਾਓ ਅਤੇ ਦੱਸੋ**। ਇਹ ਸਾਫ਼ ਕਰ ਦਿਓ ਕਿ ਤੁਸੀਂ ਕੀ ਚਾਹੁੰਦੇ ਹੋ, ਜਾਂ ਤਾਂ ਨਿਰਦੇਸ਼ਾਂ ਰਾਹੀਂ, ਜਾਂ ਉਦਾਹਰਨਾਂ ਰਾਹੀਂ, ਜਾਂ ਦੋਹਾਂ ਦੇ ਮਿਲਾਪ ਰਾਹੀਂ। ਜੇ ਤੁਸੀਂ ਮਾਡਲ ਨੂੰ ਚਾਹੁੰਦੇ ਹੋ ਕਿ ਕਿਸੇ ਲਿਸਟ ਨੂੰ ਅੱਖਰੀ ਕ੍ਰਮ ਵਿੱਚ ਲਾਏ ਜਾਂ ਕਿਸੇ ਪੈਰਾ ਨੂੰ ਭਾਵਨਾ ਅਨੁਸਾਰ ਵਰਗੀਕ੍ਰਿਤ ਕਰੇ, ਤਾਂ ਇਹ ਦਿਖਾਓ ਕਿ ਤੁਸੀਂ ਇਹੀ ਚਾਹੁੰਦੇ ਹੋ।\n",
    "\n",
    "**ਚੰਗਾ ਡੇਟਾ ਦਿਓ**। ਜੇ ਤੁਸੀਂ ਵਰਗੀਕਰਨ ਬਣਾਉਣ ਦੀ ਕੋਸ਼ਿਸ਼ ਕਰ ਰਹੇ ਹੋ ਜਾਂ ਮਾਡਲ ਨੂੰ ਕਿਸੇ ਪੈਟਰਨ ਦੀ ਪਾਲਣਾ ਕਰਵਾਉਣੀ ਹੈ, ਤਾਂ ਯਕੀਨੀ ਬਣਾਓ ਕਿ ਕਾਫ਼ੀ ਉਦਾਹਰਨਾਂ ਹਨ। ਆਪਣੀਆਂ ਉਦਾਹਰਨਾਂ ਨੂੰ ਚੰਗੀ ਤਰ੍ਹਾਂ ਪੜ੍ਹ ਲਵੋ — ਮਾਡਲ ਆਮ ਤੌਰ 'ਤੇ ਇੰਨਾ ਸਮਝਦਾਰ ਹੁੰਦਾ ਹੈ ਕਿ ਆਮ ਸਪੈਲਿੰਗ ਦੀਆਂ ਗਲਤੀਆਂ ਨੂੰ ਵੇਖ ਕੇ ਵੀ ਜਵਾਬ ਦੇ ਸਕਦਾ ਹੈ, ਪਰ ਇਹ ਵੀ ਹੋ ਸਕਦਾ ਹੈ ਕਿ ਇਹ ਮੰਨ ਲਵੇ ਕਿ ਇਹ ਜਾਣ-ਬੁੱਝ ਕੇ ਕੀਤਾ ਗਿਆ ਹੈ ਅਤੇ ਇਹ ਜਵਾਬ ਉੱਤੇ ਅਸਰ ਪਾ ਸਕਦਾ ਹੈ।\n",
    "\n",
    "**ਆਪਣੀਆਂ ਸੈਟਿੰਗਾਂ ਚੈੱਕ ਕਰੋ।** temperature ਅਤੇ top_p ਸੈਟਿੰਗਾਂ ਇਹ ਨਿਯੰਤਰਿਤ ਕਰਦੀਆਂ ਹਨ ਕਿ ਮਾਡਲ ਜਵਾਬ ਦੇਣ ਵਿੱਚ ਕਿੰਨਾ ਨਿਸ਼ਚਿਤ ਹੈ। ਜੇ ਤੁਸੀਂ ਐਸਾ ਜਵਾਬ ਮੰਗ ਰਹੇ ਹੋ ਜਿੱਥੇ ਸਿਰਫ਼ ਇੱਕ ਸਹੀ ਜਵਾਬ ਹੈ, ਤਾਂ ਇਹਨਾਂ ਨੂੰ ਘੱਟ ਰੱਖੋ। ਜੇ ਤੁਸੀਂ ਵੱਖ-ਵੱਖ ਕਿਸਮ ਦੇ ਜਵਾਬ ਚਾਹੁੰਦੇ ਹੋ, ਤਾਂ ਇਹਨਾਂ ਨੂੰ ਵੱਧ ਰੱਖੋ। ਸਭ ਤੋਂ ਵੱਡੀ ਗਲਤੀ ਜੋ ਲੋਕ ਇਹਨਾਂ ਸੈਟਿੰਗਾਂ ਨਾਲ ਕਰਦੇ ਹਨ, ਉਹ ਇਹ ਮੰਨ ਲੈਂਦੇ ਹਨ ਕਿ ਇਹ \"ਚਤੁਰਾਈ\" ਜਾਂ \"ਰਚਨਾਤਮਕਤਾ\" ਦੇ ਕੰਟਰੋਲ ਹਨ।\n",
    "\n",
    "\n",
    "Source: https://learn.microsoft.com/azure/ai-services/openai/overview\n"
   ]
  },
  {
   "attachments": {},
   "cell_type": "markdown",
   "metadata": {
    "nteract": {
     "transient": {
      "deleting": false
     }
    }
   },
   "source": []
  },
  {
   "attachments": {},
   "cell_type": "markdown",
   "metadata": {
    "nteract": {
     "transient": {
      "deleting": false
     }
    }
   },
   "source": []
  },
  {
   "cell_type": "code",
   "execution_count": null,
   "metadata": {
    "gather": {
     "logged": 1674494935186
    },
    "jupyter": {
     "outputs_hidden": false,
     "source_hidden": false
    },
    "nteract": {
     "transient": {
      "deleting": false
     }
    }
   },
   "outputs": [],
   "source": [
    "# Create your first prompt\n",
    "text_prompt = \"Should oxford commas always be used?\"\n",
    "\n",
    "response = client.chat.completions.create(\n",
    "  model=model,\n",
    "  messages = [{\"role\":\"system\", \"content\":\"You are a helpful assistant.\"},\n",
    "               {\"role\":\"user\",\"content\":text_prompt},])\n",
    "\n",
    "response.choices[0].message.content"
   ]
  },
  {
   "attachments": {},
   "cell_type": "markdown",
   "metadata": {
    "nteract": {
     "transient": {
      "deleting": false
     }
    }
   },
   "source": []
  },
  {
   "cell_type": "code",
   "execution_count": null,
   "metadata": {
    "gather": {
     "logged": 1674494940872
    },
    "jupyter": {
     "outputs_hidden": false,
     "source_hidden": false
    },
    "nteract": {
     "transient": {
      "deleting": false
     }
    }
   },
   "outputs": [],
   "source": [
    "\n",
    "response = client.chat.completions.create(\n",
    "  model=model,\n",
    "  messages = [{\"role\":\"system\", \"content\":\"You are a helpful assistant.\"},\n",
    "               {\"role\":\"user\",\"content\":text_prompt},])\n",
    "\n",
    "response.choices[0].message.content"
   ]
  },
  {
   "attachments": {},
   "cell_type": "markdown",
   "metadata": {
    "nteract": {
     "transient": {
      "deleting": false
     }
    }
   },
   "source": [
    "## ਟੈਕਸਟ ਦਾ ਸੰਖੇਪ  \n",
    "#### ਚੁਣੌਤੀ  \n",
    "ਟੈਕਸਟ ਦੇ ਅੰਤ 'ਤੇ 'tl;dr:' ਜੋੜ ਕੇ ਟੈਕਸਟ ਦਾ ਸੰਖੇਪ ਬਣਾਓ। ਧਿਆਨ ਦਿਓ ਕਿ ਮਾਡਲ ਕਿਸ ਤਰ੍ਹਾਂ ਬਿਨਾਂ ਵਾਧੂ ਹਦਾਇਤਾਂ ਦੇ ਕਈ ਕੰਮ ਕਰ ਸਕਦਾ ਹੈ। ਤੁਸੀਂ tl;dr ਤੋਂ ਵਧ ਕੇ ਹੋਰ ਵਿਆਖਿਆਤਮਕ ਪ੍ਰੋੰਪਟਾਂ ਨਾਲ ਤਜਰਬਾ ਕਰ ਸਕਦੇ ਹੋ, ਤਾਂ ਜੋ ਮਾਡਲ ਦੇ ਵਿਹਾਰ ਨੂੰ ਬਦਲਿਆ ਜਾ ਸਕੇ ਅਤੇ ਤੁਹਾਨੂੰ ਆਪਣੀ ਪਸੰਦ ਦਾ ਸੰਖੇਪ ਮਿਲ ਸਕੇ(3)।  \n",
    "\n",
    "ਹਾਲੀਆ ਕੰਮਾਂ ਨੇ ਵੱਡੇ ਟੈਕਸਟ ਡਾਟਾ ਤੇ ਪ੍ਰੀ-ਟ੍ਰੇਨਿੰਗ ਅਤੇ ਫਿਰ ਖਾਸ ਟਾਸਕ ਉੱਤੇ ਫਾਈਨ-ਟਿਊਨਿੰਗ ਕਰਕੇ NLP ਦੇ ਕਈ ਕੰਮਾਂ ਅਤੇ ਬੈਂਚਮਾਰਕਾਂ 'ਤੇ ਵੱਡੀ ਤਰੱਕੀ ਦਿਖਾਈ ਹੈ। ਆਮ ਤੌਰ 'ਤੇ ਇਹ ਤਰੀਕਾ ਆਰਕੀਟੈਕਚਰ ਵਿੱਚ ਟਾਸਕ-ਅਗਨੋਸਟਿਕ ਹੁੰਦਾ ਹੈ, ਪਰ ਫਿਰ ਵੀ ਇਸ ਲਈ ਹਜ਼ਾਰਾਂ ਜਾਂ ਦਸ ਹਜ਼ਾਰਾਂ ਉਦਾਹਰਣਾਂ ਵਾਲੇ ਟਾਸਕ-ਸਪੈਸਿਫਿਕ ਫਾਈਨ-ਟਿਊਨਿੰਗ ਡਾਟਾਸੈੱਟ ਚਾਹੀਦੇ ਹਨ। ਇਸਦੇ ਉਲਟ, ਇਨਸਾਨ ਆਮ ਤੌਰ 'ਤੇ ਸਿਰਫ ਕੁਝ ਉਦਾਹਰਣਾਂ ਜਾਂ ਸਧਾਰਣ ਹਦਾਇਤਾਂ ਨਾਲ ਨਵਾਂ ਭਾਸ਼ਾ ਕੰਮ ਕਰ ਸਕਦੇ ਹਨ—ਇਹੋ ਕੁਝ ਹੈ ਜਿਸ ਵਿੱਚ ਮੌਜੂਦਾ NLP ਸਿਸਟਮ ਅਜੇ ਵੀ ਮੁਸ਼ਕਲ ਮਹਿਸੂਸ ਕਰਦੇ ਹਨ। ਇੱਥੇ ਅਸੀਂ ਦਿਖਾਉਂਦੇ ਹਾਂ ਕਿ ਭਾਸ਼ਾ ਮਾਡਲਾਂ ਦਾ ਆਕਾਰ ਵਧਾਉਣ ਨਾਲ ਟਾਸਕ-ਅਗਨੋਸਟਿਕ, ਥੋੜ੍ਹੀਆਂ ਉਦਾਹਰਣਾਂ 'ਤੇ ਆਧਾਰਿਤ ਕਾਰਗੁਜ਼ਾਰੀ ਕਾਫੀ ਬਿਹਤਰ ਹੋ ਜਾਂਦੀ ਹੈ, ਕਈ ਵਾਰ ਤਾਂ ਪਿਛਲੇ ਸਟੇਟ-ਆਫ-ਦ-ਆਰਟ ਫਾਈਨ-ਟਿਊਨਿੰਗ ਤਰੀਕਿਆਂ ਦੇ ਮੁਕਾਬਲੇ 'ਚ ਵੀ ਆ ਜਾਂਦੀ ਹੈ।  \n",
    "\n",
    "Tl;dr\n"
   ]
  },
  {
   "attachments": {},
   "cell_type": "markdown",
   "metadata": {
    "nteract": {
     "transient": {
      "deleting": false
     }
    }
   },
   "source": [
    "# ਕਈ ਵਰਤੋਂ ਮਾਮਲਿਆਂ ਲਈ ਅਭਿਆਸ  \n",
    "1. ਲਿਖਤ ਦਾ ਸੰਖੇਪ ਬਣਾਓ  \n",
    "2. ਲਿਖਤ ਦੀ ਵਰਗੀਕਰਨ ਕਰੋ  \n",
    "3. ਨਵੇਂ ਉਤਪਾਦਾਂ ਦੇ ਨਾਂ ਬਣਾਓ  \n",
    "4. ਐਂਬੈੱਡਿੰਗਜ਼  \n",
    "5. ਵਰਗੀਕਰਨਕਰਤਾ ਨੂੰ ਫਾਈਨ-ਟਿਊਨ ਕਰੋ\n"
   ]
  },
  {
   "cell_type": "code",
   "execution_count": null,
   "metadata": {
    "gather": {
     "logged": 1674495198534
    },
    "jupyter": {
     "outputs_hidden": false,
     "source_hidden": false
    },
    "nteract": {
     "transient": {
      "deleting": false
     }
    }
   },
   "outputs": [],
   "source": [
    "prompt = \"Recent work has demonstrated substantial gains on many NLP tasks and benchmarks by pre-training on a large corpus of text followed by fine-tuning on a specific task. While typically task-agnostic in architecture, this method still requires task-specific fine-tuning datasets of thousands or tens of thousands of examples. By contrast, humans can generally perform a new language task from only a few examples or from simple instructions - something that current NLP systems still largely struggle to do. Here we show that scaling up language models greatly improves task-agnostic, few-shot performance, sometimes even reaching competitiveness with prior state-of-the-art fine-tuning approaches.\\n\\ntl;dr\"\n"
   ]
  },
  {
   "cell_type": "code",
   "execution_count": null,
   "metadata": {
    "gather": {
     "logged": 1674495201868
    },
    "jupyter": {
     "outputs_hidden": false,
     "source_hidden": false
    },
    "nteract": {
     "transient": {
      "deleting": false
     }
    }
   },
   "outputs": [],
   "source": [
    "#Setting a few additional, typical parameters during API Call\n",
    "\n",
    "response = client.chat.completions.create(\n",
    "  model=model,\n",
    "  messages = [{\"role\":\"system\", \"content\":\"You are a helpful assistant.\"},\n",
    "               {\"role\":\"user\",\"content\":prompt},])\n",
    "\n",
    "response.choices[0].message.content"
   ]
  },
  {
   "attachments": {},
   "cell_type": "markdown",
   "metadata": {
    "nteract": {
     "transient": {
      "deleting": false
     }
    }
   },
   "source": [
    "## ਟੈਕਸਟ ਦੀ ਵਰਗੀਕਰਨ  \n",
    "#### ਚੁਣੌਤੀ  \n",
    "ਆਈਟਮਾਂ ਨੂੰ ਉਹਨਾਂ ਸ਼੍ਰੇਣੀਆਂ ਵਿੱਚ ਵਰਗੀਕ੍ਰਿਤ ਕਰੋ ਜੋ ਇਨਫਰੈਂਸ ਸਮੇਂ ਦਿੱਤੀਆਂ ਜਾਂਦੀਆਂ ਹਨ। ਹੇਠਾਂ ਦਿੱਤੇ ਉਦਾਹਰਨ ਵਿੱਚ, ਅਸੀਂ ਪ੍ਰੋੰਪਟ(*playground_reference) ਵਿੱਚ ਸ਼੍ਰੇਣੀਆਂ ਅਤੇ ਵਰਗੀਕਰਨ ਲਈ ਟੈਕਸਟ ਦੋਵੇਂ ਦਿੰਦੇ ਹਾਂ।\n",
    "\n",
    "ਗਾਹਕ ਦੀ ਪੁੱਛਗਿੱਛ: ਸਤ ਸ੍ਰੀ ਅਕਾਲ, ਮੇਰੇ ਲੈਪਟਾਪ ਦੀਬੋਰਡ ਦੀ ਇੱਕ ਕੁੰਜੀ ਹਾਲ ਹੀ ਵਿੱਚ ਟੁੱਟ ਗਈ ਹੈ ਅਤੇ ਮੈਨੂੰ ਨਵੀਂ ਚਾਹੀਦੀ ਹੈ:\n",
    "\n",
    "ਵਰਗੀਕ੍ਰਿਤ ਸ਼੍ਰੇਣੀ:\n"
   ]
  },
  {
   "cell_type": "code",
   "execution_count": null,
   "metadata": {
    "gather": {
     "logged": 1674499424645
    },
    "jupyter": {
     "outputs_hidden": false,
     "source_hidden": false
    },
    "nteract": {
     "transient": {
      "deleting": false
     }
    }
   },
   "outputs": [],
   "source": [
    "prompt = \"Classify the following inquiry into one of the following: categories: [Pricing, Hardware Support, Software Support]\\n\\ninquiry: Hello, one of the keys on my laptop keyboard broke recently and I'll need a replacement:\\n\\nClassified category:\"\n",
    "print(prompt)"
   ]
  },
  {
   "cell_type": "code",
   "execution_count": null,
   "metadata": {
    "gather": {
     "logged": 1674499378518
    },
    "jupyter": {
     "outputs_hidden": false,
     "source_hidden": false
    },
    "nteract": {
     "transient": {
      "deleting": false
     }
    }
   },
   "outputs": [],
   "source": [
    "#Setting a few additional, typical parameters during API Call\n",
    "\n",
    "response = client.chat.completions.create(\n",
    "  model=model,\n",
    "  messages = [{\"role\":\"system\", \"content\":\"You are a helpful assistant.\"},\n",
    "               {\"role\":\"user\",\"content\":prompt},])\n",
    "\n",
    "response.choices[0].message.content"
   ]
  },
  {
   "attachments": {},
   "cell_type": "markdown",
   "metadata": {
    "nteract": {
     "transient": {
      "deleting": false
     }
    }
   },
   "source": [
    "## ਨਵੇਂ ਉਤਪਾਦਾਂ ਦੇ ਨਾਂ ਬਣਾਓ\n",
    "#### ਚੁਣੌਤੀ\n",
    "ਉਦਾਹਰਨ ਵਾਲੇ ਸ਼ਬਦਾਂ ਤੋਂ ਉਤਪਾਦਾਂ ਦੇ ਨਾਂ ਬਣਾਓ। ਇੱਥੇ ਅਸੀਂ ਪ੍ਰੋੰਪਟ ਵਿੱਚ ਉਸ ਉਤਪਾਦ ਬਾਰੇ ਜਾਣਕਾਰੀ ਸ਼ਾਮਲ ਕਰਦੇ ਹਾਂ ਜਿਸ ਲਈ ਨਾਂ ਬਣਾਉਣੇ ਹਨ। ਅਸੀਂ ਇੱਕ ਮਿਲਦੇ-ਜੁਲਦੇ ਉਦਾਹਰਨ ਵੀ ਦਿੱਤਾ ਹੈ ਤਾਂ ਜੋ ਤੁਸੀਂ ਸਮਝ ਸਕੋ ਕਿ ਕਿਹੋ ਜਿਹਾ ਨਤੀਜਾ ਚਾਹੀਦਾ ਹੈ। ਅਸੀਂ temperature value ਵੀ ਵੱਧ ਰੱਖੀ ਹੈ ਤਾਂ ਜੋ randomness ਵਧੇ ਅਤੇ ਨਵੇਂ-ਨਵੇਂ ਵਿਚਾਰ ਆ ਸਕਣ।\n",
    "\n",
    "ਉਤਪਾਦ ਦਾ ਵੇਰਵਾ: ਘਰ ਵਿੱਚ ਮਿਲਕਸ਼ੇਕ ਬਣਾਉਣ ਵਾਲਾ ਮਸ਼ੀਨ\n",
    "ਬੀਜ ਸ਼ਬਦ: ਤੇਜ਼, ਸਿਹਤਮੰਦ, ਛੋਟਾ।\n",
    "ਉਤਪਾਦ ਨਾਂ: HomeShaker, Fit Shaker, QuickShake, Shake Maker\n",
    "\n",
    "ਉਤਪਾਦ ਦਾ ਵੇਰਵਾ: ਜੁੱਤੇ ਜੋ ਹਰ ਕਿਸੇ ਪੈਰ ਦੇ ਆਕਾਰ 'ਚ ਆ ਸਕਦੇ ਹਨ।\n",
    "ਬੀਜ ਸ਼ਬਦ: ਲਚਕੀਲਾ, ਫਿੱਟ, omni-fit.\n"
   ]
  },
  {
   "cell_type": "code",
   "execution_count": null,
   "metadata": {
    "gather": {
     "logged": 1674257087279
    },
    "jupyter": {
     "outputs_hidden": false,
     "source_hidden": false
    },
    "nteract": {
     "transient": {
      "deleting": false
     }
    }
   },
   "outputs": [],
   "source": [
    "prompt = \"Product description: A home milkshake maker\\nSeed words: fast, healthy, compact.\\nProduct names: HomeShaker, Fit Shaker, QuickShake, Shake Maker\\n\\nProduct description: A pair of shoes that can fit any foot size.\\nSeed words: adaptable, fit, omni-fit.\"\n",
    "\n",
    "print(prompt)"
   ]
  },
  {
   "cell_type": "code",
   "execution_count": null,
   "metadata": {
    "jupyter": {
     "outputs_hidden": false,
     "source_hidden": false
    },
    "nteract": {
     "transient": {
      "deleting": false
     }
    }
   },
   "outputs": [],
   "source": [
    "#Setting a few additional, typical parameters during API Call\n",
    "\n",
    "response = client.chat.completions.create(\n",
    "  model=model,\n",
    "  messages = [{\"role\":\"system\", \"content\":\"You are a helpful assistant.\"},\n",
    "               {\"role\":\"user\",\"content\":prompt}])\n",
    "\n",
    "response.choices[0].message.content"
   ]
  },
  {
   "attachments": {},
   "cell_type": "markdown",
   "metadata": {
    "nteract": {
     "transient": {
      "deleting": false
     }
    }
   },
   "source": [
    "## ਐਂਬੈਡਿੰਗਜ਼\n",
    "ਇਸ ਭਾਗ ਵਿੱਚ ਤੁਸੀਂ embeddings ਲੈਣ ਅਤੇ ਸ਼ਬਦਾਂ, ਵਾਕਾਂਸ਼ਾਂ, ਅਤੇ ਦਸਤਾਵੇਜ਼ਾਂ ਵਿੱਚ ਸਮਾਨਤਾ ਲੱਭਣ ਦੇ ਤਰੀਕੇ ਵੇਖੋਗੇ। ਹੇਠਾਂ ਦਿੱਤੇ ਨੋਟਬੁੱਕ ਚਲਾਉਣ ਲਈ ਤੁਹਾਨੂੰ ਇੱਕ ਮਾਡਲ ਡਿਪਲੋਇ ਕਰਨਾ ਪਵੇਗਾ ਜੋ `text-embedding-ada-002` ਨੂੰ ਬੇਸ ਮਾਡਲ ਵਜੋਂ ਵਰਤਦਾ ਹੋਵੇ ਅਤੇ ਉਸ ਦੀ deployment name .env ਫਾਇਲ ਵਿੱਚ `AZURE_OPENAI_EMBEDDINGS_DEPLOYMENT` ਵੈਰੀਏਬਲ ਰਾਹੀਂ ਸੈੱਟ ਕਰਨੀ ਪਵੇਗੀ।\n"
   ]
  },
  {
   "attachments": {},
   "cell_type": "markdown",
   "metadata": {
    "nteract": {
     "transient": {
      "deleting": false
     }
    }
   },
   "source": [
    "### ਮਾਡਲ ਟੈਕਸੋਨੋਮੀ - ਐਂਬੈੱਡਿੰਗ ਮਾਡਲ ਚੁਣਨਾ\n",
    "\n",
    "**ਮਾਡਲ ਟੈਕਸੋਨੋਮੀ**: {family} - {capability} - {input-type} - {identifier}  \n",
    "\n",
    "{family}     --> text-embedding  (ਐਂਬੈੱਡਿੰਗ ਪਰਿਵਾਰ)  \n",
    "{capability} --> ada             (ਹੋਰ ਸਾਰੇ ਐਂਬੈੱਡਿੰਗ ਮਾਡਲ 2024 ਵਿੱਚ ਬੰਦ ਹੋ ਜਾਣਗੇ)  \n",
    "{input-type} --> n/a             (ਸਿਰਫ਼ ਖੋਜ ਮਾਡਲਾਂ ਲਈ ਦਿੱਤਾ ਜਾਂਦਾ ਹੈ)  \n",
    "{identifier} --> 002             (ਵਰਜਨ 002)  \n",
    "\n",
    "model = 'text-embedding-ada-002'\n"
   ]
  },
  {
   "cell_type": "markdown",
   "metadata": {},
   "source": [
    "> [!NOTE] ਜੇਕਰ ਤੁਸੀਂ ਇਹ ਨੋਟਬੁੱਕ Codespaces ਜਾਂ Devcontainer ਵਿੱਚ ਚਲਾਉਂਦੇ ਹੋ ਤਾਂ ਹੇਠਾਂ ਦਿੱਤਾ ਕਦਮ ਲਾਜ਼ਮੀ ਨਹੀਂ ਹੈ\n"
   ]
  },
  {
   "cell_type": "code",
   "execution_count": null,
   "metadata": {},
   "outputs": [],
   "source": [
    "# Dependencies for embeddings_utils\n",
    "%pip install matplotlib plotly scikit-learn pandas"
   ]
  },
  {
   "cell_type": "code",
   "execution_count": null,
   "metadata": {
    "gather": {
     "logged": 1674829364153
    },
    "jupyter": {
     "outputs_hidden": false,
     "source_hidden": false
    },
    "nteract": {
     "transient": {
      "deleting": false
     }
    }
   },
   "outputs": [],
   "source": [
    "def cosine_similarity(a, b):\n",
    "    return np.dot(a, b) / (np.linalg.norm(a) * np.linalg.norm(b))"
   ]
  },
  {
   "cell_type": "code",
   "execution_count": null,
   "metadata": {
    "gather": {
     "logged": 1674829424097
    },
    "jupyter": {
     "outputs_hidden": false,
     "source_hidden": false
    },
    "nteract": {
     "transient": {
      "deleting": false
     }
    }
   },
   "outputs": [],
   "source": [
    "text = 'the quick brown fox jumped over the lazy dog'\n",
    "model= os.environ['AZURE_OPENAI_EMBEDDINGS_DEPLOYMENT']\n",
    "client.embeddings.create(input='[text]', model=model).data[0].embedding"
   ]
  },
  {
   "cell_type": "code",
   "execution_count": null,
   "metadata": {
    "gather": {
     "logged": 1674829555255
    },
    "jupyter": {
     "outputs_hidden": false,
     "source_hidden": false
    },
    "nteract": {
     "transient": {
      "deleting": false
     }
    }
   },
   "outputs": [],
   "source": [
    "\n",
    "# compare several words\n",
    "automobile_embedding  = client.embeddings.create(input='automobile', model=model).data[0].embedding\n",
    "vehicle_embedding     = client.embeddings.create(input='vehicle', model=model).data[0].embedding\n",
    "dinosaur_embedding    = client.embeddings.create(input='dinosaur', model=model).data[0].embedding\n",
    "stick_embedding       = client.embeddings.create(input='stick', model=model).data[0].embedding\n",
    "\n",
    "print(cosine_similarity(automobile_embedding, vehicle_embedding))\n",
    "print(cosine_similarity(automobile_embedding, dinosaur_embedding))\n",
    "print(cosine_similarity(automobile_embedding, stick_embedding))"
   ]
  },
  {
   "attachments": {},
   "cell_type": "markdown",
   "metadata": {
    "nteract": {
     "transient": {
      "deleting": false
     }
    }
   },
   "source": [
    "## ਸੀਐਨਐਨ ਡੇਲੀ ਨਿਊਜ਼ ਡੈਟਾਸੈੱਟ ਤੋਂ ਲੇਖ ਦੀ ਤੁਲਨਾ  \n",
    "ਸਰੋਤ: https://huggingface.co/datasets/cnn_dailymail\n"
   ]
  },
  {
   "cell_type": "code",
   "execution_count": null,
   "metadata": {
    "gather": {
     "logged": 1674831122093
    },
    "jupyter": {
     "outputs_hidden": false,
     "source_hidden": false
    },
    "nteract": {
     "transient": {
      "deleting": false
     }
    }
   },
   "outputs": [],
   "source": [
    "import pandas as pd\n",
    "cnn_daily_articles = ['BREMEN, Germany -- Carlos Alberto, who scored in FC Porto\\'s Champions League final victory against Monaco in 2004, has joined Bundesliga club Werder Bremen for a club record fee of 7.8 million euros ($10.7 million). Carlos Alberto enjoyed success at FC Porto under Jose Mourinho. \"I\\'m here to win titles with Werder,\" the 22-year-old said after his first training session with his new club. \"I like Bremen and would only have wanted to come here.\" Carlos Alberto started his career with Fluminense, and helped them to lift the Campeonato Carioca in 2002. In January 2004 he moved on to FC Porto, who were coached by José Mourinho, and the club won the Portuguese title as well as the Champions League. Early in 2005, he moved to Corinthians, where he impressed as they won the Brasileirão,but in 2006 Corinthians had a poor season and Carlos Alberto found himself at odds with manager, Emerson Leão. Their poor relationship came to a climax at a Copa Sul-Americana game against Club Atlético Lanús, and Carlos Alberto declared that he would not play for Corinthians again while Leão remained as manager. Since January this year he has been on loan with his first club Fluminense. Bundesliga champions VfB Stuttgart said on Sunday that they would sign a loan agreement with Real Zaragoza on Monday for Ewerthon, the third top Brazilian player to join the German league in three days. A VfB spokesman said Ewerthon, who played in the Bundesliga for Borussia Dortmund from 2001 to 2005, was expected to join the club for their pre-season training in Austria on Monday. On Friday, Ailton returned to Germany where he was the league\\'s top scorer in 2004, signing a one-year deal with Duisburg on a transfer from Red Star Belgrade. E-mail to a friend .',\n",
    "                        '(CNN) -- Football superstar, celebrity, fashion icon, multimillion-dollar heartthrob. Now, David Beckham is headed for the Hollywood Hills as he takes his game to U.S. Major League Soccer. CNN looks at how Bekham fulfilled his dream of playing for Manchester United, and his time playing for England. The world\\'s famous footballer has begun a five-year contract with the Los Angeles Galaxy team, and on Friday Beckham will meet the press and reveal his new shirt number. This week, we take an in depth look at the life and times of Beckham, as CNN\\'s very own \"Becks,\" Becky Anderson, sets out to examine what makes the man tick -- as footballer, fashion icon and global phenomenon. It\\'s a long way from the streets of east London to the Hollywood Hills and Becky charts Beckham\\'s incredible rise to football stardom, a journey that has seen his skills grace the greatest stages in world soccer. She goes in pursuit of the current hottest property on the sports/celebrity circuit in the U.S. and along the way explores exactly what\\'s behind the man with the golden boot. CNN will look back at the life of Beckham, the wonderfully talented youngster who fulfilled his dream of playing for Manchester United, his marriage to pop star Victoria, and the trials and tribulations of playing for England. We\\'ll look at the highs (scoring against Greece), the lows (being sent off during the World Cup), the Man. U departure for the Galacticos of Madrid -- and now the Home Depot stadium in L.A. We\\'ll ask how Beckham and his family will adapt to life in Los Angeles -- the people, the places to see and be seen and the celebrity endorsement. Beckham is no stranger to exposure. He has teamed with Reggie Bush in an Adidas commercial, is the face of Motorola, is the face on a PlayStation game and doesn\\'t need fashion tips as he has his own international clothing line. But what does the star couple need to do to become an accepted part of Tinseltown\\'s glitterati? The road to major league football in the U.S.A. is a well-worn route for some of the world\\'s greatest players. We talk to some of the former greats who came before him and examine what impact these overseas stars had on U.S. soccer and look at what is different now. We also get a rare glimpse inside the David Beckham academy in L.A, find out what drives the kids and who are their heroes. The perception that in the U.S.A. soccer is a \"game for girls\" after the teenage years is changing. More and more young kids are choosing the European game over the traditional U.S. sports. E-mail to a friend .',\n",
    "                        'LOS ANGELES, California (CNN) -- Youssif, the 5-year-old burned Iraqi boy, rounded the corner at Universal Studios when suddenly the little boy hero met his favorite superhero. Youssif has always been a huge Spider-Man fan. Meeting him was \"my favorite thing,\" he said. Spider-Man was right smack dab in front of him, riding a four-wheeler amid a convoy of other superheroes. The legendary climber of buildings and fighter of evil dismounted, walked over to Youssif and introduced himself. Spidey then gave the boy from a far-away land a gentle hug, embracing him in his iconic blue and red tights. He showed Youssif a few tricks, like how to shoot a web from his wrist. Only this time, no web was spun. \"All right Youssif!\" Spider-Man said after the boy mimicked his wrist movement. Other superheroes crowded around to get a closer look. Even the Green Goblin stopped his villainous ways to tell the boy hi. Youssif remained unfazed. He didn\\'t take a liking to Spider-Man\\'s nemesis. Spidey was just too cool. \"It was my favorite thing,\" the boy said later. \"I want to see him again.\" He then felt compelled to add: \"I know it\\'s not the real Spider-Man.\" This was the day of dreams when the boy\\'s nightmares were, at least temporarily, forgotten. He met SpongeBob, Lassie and a 3-year-old orangutan named Archie. The hairy, brownish-red primate took to the boy, grabbing his hand and holding it. Even when Youssif pulled away, Archie would inch his hand back toward the boy\\'s and then snatch it. See Youssif enjoy being a boy again » . The boy giggled inside a play area where sponge-like balls shot out of toy guns. It was a far different artillery than what he was used to seeing in central Baghdad, as recently as a week ago. He squealed with delight and raced around the room collecting as many balls as he could. He rode a tram through the back stages at Universal Studios. At one point, the car shook. Fire and smoke filled the air, debris cascaded down and a big rig skidded toward the vehicle. The boy and his family survived the pretend earthquake unscathed. \"Even I was scared,\" the dad said. \"Well, I wasn\\'t,\" Youssif replied. The father and mother grinned from ear to ear throughout the day. Youssif pushed his 14-month-old sister, Ayaa, in a stroller. \"Did you even need to ask us if we were interested in coming here?\" Youssif\\'s father said in amazement. \"Other than my wedding day, this is the happiest day of my life,\" he said. Just a day earlier, the mother and father talked about their journey out of Iraq and to the United States. They also discussed that day nine months ago when masked men grabbed their son outside the family home, doused him in gas and set him on fire. His mother heard her boy screaming from inside. The father sought help for his boy across Baghdad, but no one listened. He remembers his son\\'s two months of hospitalization. The doctors didn\\'t use anesthetics. He could hear his boy\\'s piercing screams from the other side of the hospital. Watch Youssif meet his doctor and play with his little sister » . The father knew that speaking to CNN would put his family\\'s lives in jeopardy. The possibility of being killed was better than seeing his son suffer, he said. \"Anything for Youssif,\" he said. \"We had to do it.\" They described a life of utter chaos in Baghdad. Neighbors had recently given birth to a baby girl. Shortly afterward, the father was kidnapped and killed. Then, there was the time when some girls wore tanktops and jeans. They were snatched off the street by gunmen. The stories can be even more gruesome. The couple said they had heard reports that a young girl was kidnapped and beheaded --and her killers sewed a dog\\'s head on the corpse and delivered it to her family\\'s doorstep. \"These are just some of the stories,\" said Youssif\\'s mother, Zainab. Under Saddam Hussein, there was more security and stability, they said. There was running water and electricity most of the time. But still life was tough under the dictator, like the time when Zainab\\'s uncle disappeared and was never heard from again after he read a \"religious book,\" she said. Sitting in the parking lot of a Target in suburban Los Angeles, Youssif\\'s father watched as husbands and wives, boyfriends and girlfriends, parents and their children, came and went. Some held hands. Others smiled and laughed. \"Iraq finished,\" he said in what few English words he knows. He elaborated in Arabic: His homeland won\\'t be enjoying such freedoms anytime soon. It\\'s just not possible. Too much violence. Too many killings. His two children have only seen war. But this week, the family has seen a much different side of America -- an outpouring of generosity and a peaceful nation at home. \"It\\'s been a dream,\" the father said. He used to do a lot of volunteer work back in Baghdad. \"Maybe that\\'s why I\\'m being helped now,\" the father said. At Universal Studios, he looked out across the valley below. The sun glistened off treetops and buildings. It was a picturesque sight fit for a Hollywood movie. \"Good America, good America,\" he said in English. E-mail to a friend . CNN\\'s Arwa Damon contributed to this report.'\n",
    "]\n",
    "\n",
    "cnn_daily_article_highlights = ['Werder Bremen pay a club record $10.7 million for Carlos Alberto .\\nThe Brazilian midfielder won the Champions League with FC Porto in 2004 .\\nSince January he has been on loan with his first club, Fluminense .',\n",
    "                                'Beckham has agreed to a five-year contract with Los Angeles Galaxy .\\nNew contract took effect July 1, 2007 .\\nFormer English captain to meet press, unveil new shirt number Friday .\\nCNN to look at Beckham as footballer, fashion icon and global phenomenon .',\n",
    "                                'Boy on meeting Spider-Man: \"It was my favorite thing\"\\nYoussif also met SpongeBob, Lassie and an orangutan at Universal Studios .\\nDad: \"Other than my wedding day, this is the happiest day of my life\"'\n",
    "]\n",
    "\n",
    "cnn_df = pd.DataFrame({\"articles\":cnn_daily_articles, \"highligths\":cnn_daily_article_highlights})\n",
    "\n",
    "cnn_df.head()"
   ]
  },
  {
   "cell_type": "code",
   "execution_count": null,
   "metadata": {
    "gather": {
     "logged": 1674831294043
    },
    "jupyter": {
     "outputs_hidden": false,
     "source_hidden": false
    },
    "nteract": {
     "transient": {
      "deleting": false
     }
    }
   },
   "outputs": [],
   "source": [
    "article1_embedding    = client.embeddings.create(input=cnn_df.articles.iloc[0], model=model).data[0].embedding\n",
    "article2_embedding    = client.embeddings.create(input=cnn_df.articles.iloc[1], model=model).data[0].embedding\n",
    "article3_embedding    = client.embeddings.create(input=cnn_df.articles.iloc[2], model=model).data[0].embedding\n",
    "\n",
    "print(cosine_similarity(article1_embedding, article2_embedding))\n",
    "print(cosine_similarity(article1_embedding, article3_embedding))"
   ]
  },
  {
   "attachments": {},
   "cell_type": "markdown",
   "metadata": {
    "nteract": {
     "transient": {
      "deleting": false
     }
    }
   },
   "source": [
    "# ਹਵਾਲੇ  \n",
    "- [Azure ਦਸਤਾਵੇਜ਼ - Azure OpenAI ਮਾਡਲ](https://learn.microsoft.com/azure/cognitive-services/openai/concepts/models?WT.mc_id=academic-105485-koreyst)  \n",
    "- [OpenAI Studio ਉਦਾਹਰਨਾਂ](https://oai.azure.com/portal?WT.mc_id=academic-105485-koreyst)\n"
   ]
  },
  {
   "attachments": {},
   "cell_type": "markdown",
   "metadata": {
    "nteract": {
     "transient": {
      "deleting": false
     }
    }
   },
   "source": [
    "# ਹੋਰ ਮਦਦ ਲਈ  \n",
    "[OpenAI ਵਪਾਰਕ ਟੀਮ](AzureOpenAITeam@microsoft.com)\n"
   ]
  },
  {
   "attachments": {},
   "cell_type": "markdown",
   "metadata": {
    "nteract": {
     "transient": {
      "deleting": false
     }
    }
   },
   "source": [
    "# ਯੋਗਦਾਨੀ\n",
    "* Louis Li\n"
   ]
  },
  {
   "cell_type": "markdown",
   "metadata": {},
   "source": [
    "\n---\n\n**ਅਸਵੀਕਰਨ**:  \nਇਹ ਦਸਤਾਵੇਜ਼ AI ਅਨੁਵਾਦ ਸੇਵਾ [Co-op Translator](https://github.com/Azure/co-op-translator) ਦੀ ਵਰਤੋਂ ਕਰਕੇ ਅਨੁਵਾਦ ਕੀਤਾ ਗਿਆ ਹੈ। ਅਸੀਂ ਯਥਾਸੰਭਵ ਸਹੀ ਅਨੁਵਾਦ ਕਰਨ ਦੀ ਕੋਸ਼ਿਸ਼ ਕਰਦੇ ਹਾਂ, ਪਰ ਕਿਰਪਾ ਕਰਕੇ ਧਿਆਨ ਵਿੱਚ ਰੱਖੋ ਕਿ ਆਟੋਮੈਟਿਕ ਅਨੁਵਾਦ ਵਿੱਚ ਗਲਤੀਆਂ ਜਾਂ ਅਣਜਾਣੀਆਂ ਹੋ ਸਕਦੀਆਂ ਹਨ। ਮੂਲ ਭਾਸ਼ਾ ਵਿੱਚ ਮੌਜੂਦ ਅਸਲ ਦਸਤਾਵੇਜ਼ ਨੂੰ ਹੀ ਅਧਿਕਾਰਕ ਸਰੋਤ ਮੰਨਿਆ ਜਾਣਾ ਚਾਹੀਦਾ ਹੈ। ਜੇਕਰ ਜਾਣਕਾਰੀ ਮਹੱਤਵਪੂਰਨ ਹੈ, ਤਾਂ ਪੇਸ਼ੇਵਰ ਮਨੁੱਖੀ ਅਨੁਵਾਦ ਦੀ ਸਿਫਾਰਸ਼ ਕੀਤੀ ਜਾਂਦੀ ਹੈ। ਇਸ ਅਨੁਵਾਦ ਦੀ ਵਰਤੋਂ ਕਰਕੇ ਹੋਣ ਵਾਲੀਆਂ ਕਿਸੇ ਵੀ ਗਲਤਫਹਿਮੀ ਜਾਂ ਗਲਤ ਅਰਥ ਲਗਾਉਣ ਲਈ ਅਸੀਂ ਜ਼ਿੰਮੇਵਾਰ ਨਹੀਂ ਹਾਂ।\n"
   ]
  }
 ],
 "metadata": {
  "kernel_info": {
   "name": "python310-sdkv2"
  },
  "kernelspec": {
   "display_name": "base",
   "language": "python",
   "name": "python3"
  },
  "language_info": {
   "codemirror_mode": {
    "name": "ipython",
    "version": 3
   },
   "file_extension": ".py",
   "mimetype": "text/x-python",
   "name": "python",
   "nbconvert_exporter": "python",
   "pygments_lexer": "ipython3",
   "version": "3.10.13"
  },
  "microsoft": {
   "host": {
    "AzureML": {
     "notebookHasBeenCompleted": true
    }
   }
  },
  "nteract": {
   "version": "nteract-front-end@1.0.0"
  },
  "coopTranslator": {
   "original_hash": "0d1caa6c42ad19d6268f0ea38a1f6421",
   "translation_date": "2025-08-25T16:47:06+00:00",
   "source_file": "07-building-chat-applications/python/aoai-assignment.ipynb",
   "language_code": "pa"
  }
 },
 "nbformat": 4,
 "nbformat_minor": 2
}