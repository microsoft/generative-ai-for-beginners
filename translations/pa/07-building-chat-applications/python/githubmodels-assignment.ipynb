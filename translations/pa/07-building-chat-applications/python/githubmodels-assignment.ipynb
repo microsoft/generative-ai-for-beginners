{
 "cells": [
  {
   "attachments": {},
   "cell_type": "markdown",
   "metadata": {
    "nteract": {
     "transient": {
      "deleting": false
     }
    }
   },
   "source": [
    "# ਚੈਪਟਰ 7: ਚੈਟ ਐਪਲੀਕੇਸ਼ਨ ਬਣਾਉਣਾ\n",
    "## Github ਮਾਡਲ API ਤੇਜ਼ ਸ਼ੁਰੂਆਤ\n",
    "\n",
    "ਇਹ ਨੋਟਬੁੱਕ [Azure OpenAI Samples Repository](https://github.com/Azure/azure-openai-samples?WT.mc_id=academic-105485-koreyst) ਤੋਂ ਲਿਆ ਗਿਆ ਹੈ, ਜਿਸ ਵਿੱਚ ਉਹ ਨੋਟਬੁੱਕ ਸ਼ਾਮਲ ਹਨ ਜੋ [Azure OpenAI](notebook-azure-openai.ipynb) ਸਰਵਿਸਾਂ ਤੱਕ ਪਹੁੰਚਦੇ ਹਨ।\n"
   ]
  },
  {
   "attachments": {},
   "cell_type": "markdown",
   "metadata": {
    "nteract": {
     "transient": {
      "deleting": false
     }
    }
   },
   "source": [
    "# ਝਲਕ  \n",
    "\"ਵੱਡੇ ਭਾਸ਼ਾਈ ਮਾਡਲ ਉਹ ਫੰਕਸ਼ਨ ਹਨ ਜੋ ਟੈਕਸਟ ਨੂੰ ਟੈਕਸਟ ਨਾਲ ਜੋੜਦੇ ਹਨ। ਦਿੱਤੇ ਗਏ ਇਨਪੁੱਟ ਟੈਕਸਟ ਸਤਰ ਲਈ, ਇੱਕ ਵੱਡਾ ਭਾਸ਼ਾਈ ਮਾਡਲ ਅਗਲਾ ਆਉਣ ਵਾਲਾ ਟੈਕਸਟ ਅਨੁਮਾਨਣ ਦੀ ਕੋਸ਼ਿਸ਼ ਕਰਦਾ ਹੈ\"(1)। ਇਹ \"ਕੁਇੱਕਸਟਾਰਟ\" ਨੋਟਬੁੱਕ ਉਪਭੋਗਤਾਵਾਂ ਨੂੰ ਉੱਚ ਪੱਧਰੀ LLM ਸੰਕਲਪਾਂ, AML ਨਾਲ ਸ਼ੁਰੂਆਤ ਕਰਨ ਲਈ ਮੁੱਖ ਪੈਕੇਜ ਲੋੜਾਂ, ਪ੍ਰਾਂਪਟ ਡਿਜ਼ਾਈਨ ਦੀ ਹੌਲੀ ਜਾਣੂ, ਅਤੇ ਵੱਖ-ਵੱਖ ਵਰਤੋਂ ਮਾਮਲਿਆਂ ਦੇ ਕੁਝ ਛੋਟੇ ਉਦਾਹਰਣਾਂ ਨਾਲ ਜਾਣੂ ਕਰਵਾਏਗੀ।\n"
   ]
  },
  {
   "attachments": {},
   "cell_type": "markdown",
   "metadata": {
    "nteract": {
     "transient": {
      "deleting": false
     }
    }
   },
   "source": [
    "## ਸਮੱਗਰੀ ਦੀ ਸੂਚੀ  \n",
    "\n",
    "[ਝਲਕ](../../../../07-building-chat-applications/python)  \n",
    "[OpenAI ਸਰਵਿਸ ਕਿਵੇਂ ਵਰਤਣੀ ਹੈ](../../../../07-building-chat-applications/python)  \n",
    "[1. ਆਪਣੀ OpenAI ਸਰਵਿਸ ਬਣਾਉਣਾ](../../../../07-building-chat-applications/python)  \n",
    "[2. ਇੰਸਟਾਲੇਸ਼ਨ](../../../../07-building-chat-applications/python)    \n",
    "[3. ਪ੍ਰਮਾਣ ਪੱਤਰ](../../../../07-building-chat-applications/python)  \n",
    "\n",
    "[ਵਰਤੋਂ ਦੇ ਕੇਸ](../../../../07-building-chat-applications/python)    \n",
    "[1. ਲਿਖਤ ਦਾ ਸੰਖੇਪ ਬਣਾਓ](../../../../07-building-chat-applications/python)  \n",
    "[2. ਲਿਖਤ ਦੀ ਵਰਗੀਕਰਨ ਕਰੋ](../../../../07-building-chat-applications/python)  \n",
    "[3. ਨਵੇਂ ਉਤਪਾਦਾਂ ਦੇ ਨਾਂ ਬਣਾਓ](../../../../07-building-chat-applications/python)  \n",
    "[4. ਵਰਗੀਕਰਨ ਨੂੰ ਸੁਧਾਰੋ](../../../../07-building-chat-applications/python)  \n",
    "\n",
    "[ਹਵਾਲੇ](../../../../07-building-chat-applications/python)\n"
   ]
  },
  {
   "attachments": {},
   "cell_type": "markdown",
   "metadata": {
    "nteract": {
     "transient": {
      "deleting": false
     }
    }
   },
   "source": [
    "### ਆਪਣਾ ਪਹਿਲਾ ਪ੍ਰਾਂਪਟ ਬਣਾਓ  \n",
    "ਇਹ ਛੋਟਾ ਜਿਹਾ ਅਭਿਆਸ ਤੁਹਾਨੂੰ Github Models ਵਿੱਚ ਮਾਡਲ ਨੂੰ ਪ੍ਰਾਂਪਟ ਭੇਜਣ ਦੀ ਬੁਨਿਆਦੀ ਜਾਣਕਾਰੀ ਦੇਵੇਗਾ, ਇੱਕ ਸਧਾਰਣ ਕੰਮ \"ਸੰਖੇਪ\" ਲਈ।\n",
    "\n",
    "**ਕਦਮ**:  \n",
    "1. ਆਪਣੇ python environment ਵਿੱਚ `azure-ai-inference` ਲਾਇਬ੍ਰੇਰੀ ਇੰਸਟਾਲ ਕਰੋ, ਜੇਕਰ ਤੁਸੀਂ ਅਜੇ ਨਹੀਂ ਕੀਤੀ।  \n",
    "2. ਸਟੈਂਡਰਡ ਹੈਲਪਰ ਲਾਇਬ੍ਰੇਰੀਆਂ ਲੋਡ ਕਰੋ ਅਤੇ Github Models ਲਈ credential ਸੈੱਟਅੱਪ ਕਰੋ।  \n",
    "3. ਆਪਣੇ ਕੰਮ ਲਈ ਇੱਕ ਮਾਡਲ ਚੁਣੋ  \n",
    "4. ਮਾਡਲ ਲਈ ਇੱਕ ਸਧਾਰਣ ਪ੍ਰਾਂਪਟ ਬਣਾਓ  \n",
    "5. ਆਪਣੀ ਬੇਨਤੀ ਮਾਡਲ API ਨੂੰ ਭੇਜੋ!\n"
   ]
  },
  {
   "attachments": {},
   "cell_type": "markdown",
   "metadata": {
    "nteract": {
     "transient": {
      "deleting": false
     }
    }
   },
   "source": [
    "### 1. `azure-ai-inference` ਇੰਸਟਾਲ ਕਰੋ\n"
   ]
  },
  {
   "cell_type": "code",
   "execution_count": null,
   "metadata": {
    "gather": {
     "logged": 1674254990318
    },
    "jupyter": {
     "outputs_hidden": true,
     "source_hidden": false
    },
    "nteract": {
     "transient": {
      "deleting": false
     }
    }
   },
   "outputs": [],
   "source": [
    "%pip install azure-ai-inference"
   ]
  },
  {
   "attachments": {},
   "cell_type": "markdown",
   "metadata": {
    "nteract": {
     "transient": {
      "deleting": false
     }
    }
   },
   "source": []
  },
  {
   "cell_type": "code",
   "execution_count": null,
   "metadata": {
    "gather": {
     "logged": 1674829434433
    },
    "jupyter": {
     "outputs_hidden": false,
     "source_hidden": false
    },
    "nteract": {
     "transient": {
      "deleting": false
     }
    }
   },
   "outputs": [],
   "source": [
    "import os\n",
    "from azure.ai.inference import ChatCompletionsClient\n",
    "from azure.ai.inference.models import SystemMessage, UserMessage\n",
    "from azure.core.credentials import AzureKeyCredential\n",
    "\n",
    "token = os.environ[\"GITHUB_TOKEN\"]\n",
    "endpoint = \"https://models.inference.ai.azure.com\"\n",
    "\n",
    "client = ChatCompletionsClient(\n",
    "    endpoint=endpoint,\n",
    "    credential=AzureKeyCredential(token),\n",
    ")"
   ]
  },
  {
   "attachments": {},
   "cell_type": "markdown",
   "metadata": {
    "nteract": {
     "transient": {
      "deleting": false
     }
    }
   },
   "source": [
    "### 3. ਸਹੀ ਮਾਡਲ ਲੱਭਣਾ  \n",
    "GPT-3.5-turbo ਜਾਂ GPT-4 ਮਾਡਲ ਕੁਦਰਤੀ ਭਾਸ਼ਾ ਨੂੰ ਸਮਝ ਸਕਦੇ ਹਨ ਅਤੇ ਤਿਆਰ ਕਰ ਸਕਦੇ ਹਨ।\n"
   ]
  },
  {
   "cell_type": "code",
   "execution_count": null,
   "metadata": {
    "gather": {
     "logged": 1674742720788
    },
    "jupyter": {
     "outputs_hidden": true,
     "source_hidden": false
    },
    "nteract": {
     "transient": {
      "deleting": false
     }
    }
   },
   "outputs": [],
   "source": [
    "# Select the General Purpose curie model for text\n",
    "model_name = \"gpt-4o\""
   ]
  },
  {
   "attachments": {},
   "cell_type": "markdown",
   "metadata": {
    "nteract": {
     "transient": {
      "deleting": false
     }
    }
   },
   "source": [
    "## 4. ਪ੍ਰਾਂਪਟ ਡਿਜ਼ਾਈਨ  \n",
    "\n",
    "\"ਵੱਡੇ ਭਾਸ਼ਾਈ ਮਾਡਲਾਂ ਦੀ ਜਾਦੂ ਇਹ ਹੈ ਕਿ ਜਦੋਂ ਇਹ ਮਾਡਲ ਵੱਡੀ ਮਾਤਰਾ ਵਿੱਚ ਟੈਕਸਟ 'ਤੇ ਇਹ ਅਨੁਮਾਨ ਲਗਾਉਣ ਵਾਲੀ ਗਲਤੀ ਨੂੰ ਘੱਟ ਕਰਨ ਲਈ ਟ੍ਰੇਨ ਕੀਤੇ ਜਾਂਦੇ ਹਨ, ਤਾਂ ਇਹ ਮਾਡਲ ਉਹ ਧਾਰਨਾਵਾਂ ਸਿੱਖ ਲੈਂਦੇ ਹਨ ਜੋ ਇਨ੍ਹਾਂ ਅਨੁਮਾਨਾਂ ਲਈ ਲਾਭਦਾਇਕ ਹੁੰਦੀਆਂ ਹਨ। ਉਦਾਹਰਨ ਵਜੋਂ, ਇਹ ਧਾਰਨਾਵਾਂ ਸਿੱਖ ਲੈਂਦੇ ਹਨ ਜਿਵੇਂ ਕਿ\"(1):\n",
    "\n",
    "* ਸ਼ਬਦਾਂ ਦੀ ਸਹੀ ਸਪੈਲਿੰਗ\n",
    "* ਵਿਅਾਕਰਨ ਕਿਵੇਂ ਕੰਮ ਕਰਦੀ ਹੈ\n",
    "* ਵੱਖ-ਵੱਖ ਢੰਗ ਨਾਲ ਗੱਲ ਕਰਨਾ\n",
    "* ਸਵਾਲਾਂ ਦੇ ਜਵਾਬ ਦੇਣਾ\n",
    "* ਗੱਲਬਾਤ ਚਲਾਉਣਾ\n",
    "* ਕਈ ਭਾਸ਼ਾਵਾਂ ਵਿੱਚ ਲਿਖਣਾ\n",
    "* ਕੋਡ ਲਿਖਣਾ\n",
    "* ਆਦਿ\n",
    "\n",
    "#### ਵੱਡੇ ਭਾਸ਼ਾਈ ਮਾਡਲ ਨੂੰ ਕਿਵੇਂ ਕੰਟਰੋਲ ਕਰੀਏ  \n",
    "\"ਵੱਡੇ ਭਾਸ਼ਾਈ ਮਾਡਲ ਲਈ ਸਭ ਤੋਂ ਪ੍ਰਭਾਵਸ਼ਾਲੀ ਇਨਪੁੱਟ ਟੈਕਸਟ ਪ੍ਰਾਂਪਟ ਹੁੰਦੀ ਹੈ(1)।\n",
    "\n",
    "ਵੱਡੇ ਭਾਸ਼ਾਈ ਮਾਡਲਾਂ ਨੂੰ ਕੁਝ ਤਰੀਕਿਆਂ ਨਾਲ ਆਉਟਪੁੱਟ ਦੇਣ ਲਈ ਪ੍ਰਾਂਪਟ ਕੀਤਾ ਜਾ ਸਕਦਾ ਹੈ:\n",
    "\n",
    "ਹਦਾਇਤ: ਮਾਡਲ ਨੂੰ ਦੱਸੋ ਕਿ ਤੁਸੀਂ ਕੀ ਚਾਹੁੰਦੇ ਹੋ  \n",
    "ਪੂਰਾ ਕਰਨਾ: ਮਾਡਲ ਨੂੰ ਉਹ ਸ਼ੁਰੂਆਤ ਪੂਰੀ ਕਰਨ ਲਈ ਪ੍ਰੇਰਿਤ ਕਰੋ ਜੋ ਤੁਸੀਂ ਚਾਹੁੰਦੇ ਹੋ  \n",
    "ਡੈਮੋ: ਮਾਡਲ ਨੂੰ ਦਿਖਾਓ ਕਿ ਤੁਸੀਂ ਕੀ ਚਾਹੁੰਦੇ ਹੋ, ਜਾਂ ਤਾਂ:  \n",
    "ਪ੍ਰਾਂਪਟ ਵਿੱਚ ਕੁਝ ਉਦਾਹਰਨਾਂ  \n",
    "ਫਾਈਨ-ਟਿਉਨਿੰਗ ਟ੍ਰੇਨਿੰਗ ਡੈਟਾਸੈੱਟ ਵਿੱਚ ਸੈਂਕੜੇ ਜਾਂ ਹਜ਼ਾਰਾਂ ਉਦਾਹਰਨਾਂ\"\n",
    "\n",
    "\n",
    "\n",
    "#### ਪ੍ਰਾਂਪਟ ਬਣਾਉਣ ਲਈ ਤਿੰਨ ਮੁੱਢਲੀ ਹਦਾਇਤਾਂ ਹਨ:\n",
    "\n",
    "**ਦਿਖਾਓ ਅਤੇ ਦੱਸੋ**। ਹਦਾਇਤਾਂ, ਉਦਾਹਰਨਾਂ ਜਾਂ ਦੋਹਾਂ ਦੇ組bination ਰਾਹੀਂ ਇਹ ਸਾਫ ਕਰ ਦਿਓ ਕਿ ਤੁਸੀਂ ਕੀ ਚਾਹੁੰਦੇ ਹੋ। ਜੇ ਤੁਸੀਂ ਮਾਡਲ ਨੂੰ ਆਈਟਮਾਂ ਦੀ ਲਿਸਟ ਨੂੰ ਅੱਖਰੀ ਕ੍ਰਮ ਵਿੱਚ ਰੈਂਕ ਕਰਵਾਉਣਾ ਜਾਂ ਪੈਰਾ ਨੂੰ ਭਾਵਨਾ ਅਨੁਸਾਰ ਵਰਗੀਕ੍ਰਿਤ ਕਰਵਾਉਣਾ ਚਾਹੁੰਦੇ ਹੋ, ਤਾਂ ਇਹ ਦਿਖਾਓ ਕਿ ਤੁਸੀਂ ਇਹੀ ਚਾਹੁੰਦੇ ਹੋ।\n",
    "\n",
    "**ਉੱਚ ਗੁਣਵੱਤਾ ਵਾਲਾ ਡਾਟਾ ਦਿਓ**। ਜੇ ਤੁਸੀਂ ਵਰਗੀਕ੍ਰਿਤ ਕਰਨ ਵਾਲਾ ਮਾਡਲ ਬਣਾਉਣਾ ਜਾਂ ਮਾਡਲ ਨੂੰ ਕਿਸੇ ਪੈਟਰਨ ਦੀ ਪਾਲਣਾ ਕਰਵਾਉਣਾ ਚਾਹੁੰਦੇ ਹੋ, ਤਾਂ ਯਕੀਨੀ ਬਣਾਓ ਕਿ ਕਾਫੀ ਉਦਾਹਰਨਾਂ ਹਨ। ਆਪਣੀਆਂ ਉਦਾਹਰਨਾਂ ਨੂੰ ਚੰਗੀ ਤਰ੍ਹਾਂ ਪੜ੍ਹ ਲਓ — ਮਾਡਲ ਆਮ ਤੌਰ 'ਤੇ ਇੰਨਾ ਸਮਝਦਾਰ ਹੁੰਦਾ ਹੈ ਕਿ ਆਮ ਸਪੈਲਿੰਗ ਦੀਆਂ ਗਲਤੀਆਂ ਨੂੰ ਵੇਖ ਕੇ ਵੀ ਜਵਾਬ ਦੇ ਸਕਦਾ ਹੈ, ਪਰ ਇਹ ਵੀ ਮੰਨ ਸਕਦਾ ਹੈ ਕਿ ਇਹ ਜਾਣ-ਬੁਝ ਕੇ ਕੀਤਾ ਗਿਆ ਹੈ ਅਤੇ ਇਹ ਜਵਾਬ 'ਤੇ ਅਸਰ ਪਾ ਸਕਦਾ ਹੈ।\n",
    "\n",
    "**ਆਪਣੀਆਂ ਸੈਟਿੰਗਾਂ ਚੈੱਕ ਕਰੋ।** temperature ਅਤੇ top_p ਸੈਟਿੰਗਾਂ ਇਹ ਕੰਟਰੋਲ ਕਰਦੀਆਂ ਹਨ ਕਿ ਮਾਡਲ ਜਵਾਬ ਬਣਾਉਣ ਵਿੱਚ ਕਿੰਨਾ ਨਿਸ਼ਚਿਤ ਹੈ। ਜੇ ਤੁਸੀਂ ਐਸਾ ਜਵਾਬ ਮੰਗ ਰਹੇ ਹੋ ਜਿੱਥੇ ਸਿਰਫ ਇੱਕ ਸਹੀ ਜਵਾਬ ਹੈ, ਤਾਂ ਇਹਨਾਂ ਨੂੰ ਘੱਟ ਰੱਖੋ। ਜੇ ਤੁਸੀਂ ਵੱਖ-ਵੱਖ ਕਿਸਮ ਦੇ ਜਵਾਬ ਚਾਹੁੰਦੇ ਹੋ, ਤਾਂ ਇਹਨਾਂ ਨੂੰ ਵੱਧ ਰੱਖੋ। ਸਭ ਤੋਂ ਵੱਡੀ ਗਲਤੀ ਜੋ ਲੋਕ ਇਹਨਾਂ ਸੈਟਿੰਗਾਂ ਨਾਲ ਕਰਦੇ ਹਨ, ਉਹ ਇਹ ਮੰਨਦੇ ਹਨ ਕਿ ਇਹ \"ਚਤੁਰਾਈ\" ਜਾਂ \"ਸਰਜਨਾਤਮਕਤਾ\" ਦੇ ਕੰਟਰੋਲ ਹਨ।\n",
    "\n",
    "\n",
    "Source: https://learn.microsoft.com/azure/ai-services/openai/overview\n"
   ]
  },
  {
   "attachments": {},
   "cell_type": "markdown",
   "metadata": {
    "nteract": {
     "transient": {
      "deleting": false
     }
    }
   },
   "source": []
  },
  {
   "cell_type": "code",
   "execution_count": null,
   "metadata": {
    "gather": {
     "logged": 1674494935186
    },
    "jupyter": {
     "outputs_hidden": false,
     "source_hidden": false
    },
    "nteract": {
     "transient": {
      "deleting": false
     }
    }
   },
   "outputs": [],
   "source": [
    "# Create your first prompt\n",
    "text_prompt = \"Should oxford commas always be used?\"\n",
    "\n",
    "response = client.complete(\n",
    "  model=model_name,\n",
    "  messages = [{\"role\":\"system\", \"content\":\"You are a helpful assistant.\"},\n",
    "               {\"role\":\"user\",\"content\":text_prompt},])\n",
    "\n",
    "response.choices[0].message.content"
   ]
  },
  {
   "attachments": {},
   "cell_type": "markdown",
   "metadata": {
    "nteract": {
     "transient": {
      "deleting": false
     }
    }
   },
   "source": []
  },
  {
   "cell_type": "code",
   "execution_count": null,
   "metadata": {
    "gather": {
     "logged": 1674494940872
    },
    "jupyter": {
     "outputs_hidden": false,
     "source_hidden": false
    },
    "nteract": {
     "transient": {
      "deleting": false
     }
    }
   },
   "outputs": [],
   "source": [
    "\n",
    "response = client.complete(\n",
    "  model=model_name,\n",
    "  messages = [{\"role\":\"system\", \"content\":\"You are a helpful assistant.\"},\n",
    "               {\"role\":\"user\",\"content\":text_prompt},])\n",
    "\n",
    "response.choices[0].message.content"
   ]
  },
  {
   "attachments": {},
   "cell_type": "markdown",
   "metadata": {
    "nteract": {
     "transient": {
      "deleting": false
     }
    }
   },
   "source": [
    "## ਪਾਠ ਸੰਖੇਪ ਕਰੋ  \n",
    "#### ਚੁਣੌਤੀ  \n",
    "ਇੱਕ ਪਾਠ ਦੇ ਅੰਤ 'ਤੇ 'tl;dr:' ਜੋੜ ਕੇ ਪਾਠ ਦਾ ਸੰਖੇਪ ਕਰੋ। ਧਿਆਨ ਦਿਓ ਕਿ ਮਾਡਲ ਕਿਸ ਤਰ੍ਹਾਂ ਬਿਨਾਂ ਵਾਧੂ ਹਦਾਇਤਾਂ ਦੇ ਕਈ ਕੰਮ ਕਰ ਸਕਦਾ ਹੈ। ਤੁਸੀਂ tl;dr ਤੋਂ ਵਧ ਕੇ ਹੋਰ ਵੇਰਵੇਦਾਰ ਪ੍ਰੋੰਪਟਾਂ ਨਾਲ ਤਜਰਬਾ ਕਰ ਸਕਦੇ ਹੋ, ਤਾਂ ਜੋ ਮਾਡਲ ਦੇ ਵਿਹਾਰ ਨੂੰ ਬਦਲਿਆ ਜਾ ਸਕੇ ਅਤੇ ਤੁਹਾਨੂੰ ਆਪਣੀ ਪਸੰਦ ਦਾ ਸੰਖੇਪ ਮਿਲ ਸਕੇ(3)।  \n",
    "\n",
    "ਹਾਲੀਆ ਕੰਮਾਂ ਨੇ ਦਿਖਾਇਆ ਹੈ ਕਿ ਵੱਡੇ ਪਾਠ ਡਾਟਾ 'ਤੇ ਪ੍ਰੀ-ਟ੍ਰੇਨਿੰਗ ਕਰਕੇ ਅਤੇ ਫਿਰ ਕਿਸੇ ਖਾਸ ਕੰਮ ਲਈ ਫਾਈਨ-ਟਿਊਨਿੰਗ ਕਰਕੇ NLP ਦੇ ਕਈ ਕੰਮਾਂ ਅਤੇ ਬੈਂਚਮਾਰਕਾਂ 'ਤੇ ਵੱਡੀ ਤਰੱਕੀ ਹੋਈ ਹੈ। ਹਾਲਾਂਕਿ ਆਮ ਤੌਰ 'ਤੇ ਇਹ ਤਰੀਕਾ ਆਰਕੀਟੈਕਚਰ ਵਿੱਚ ਟਾਸਕ-ਅਗਨੋਸਟਿਕ ਹੁੰਦਾ ਹੈ, ਪਰ ਫਿਰ ਵੀ ਇਸ ਲਈ ਹਜ਼ਾਰਾਂ ਜਾਂ ਦਸ ਹਜ਼ਾਰਾਂ ਉਦਾਹਰਣਾਂ ਵਾਲੇ ਟਾਸਕ-ਸਪੈਸਿਫਿਕ ਫਾਈਨ-ਟਿਊਨਿੰਗ ਡਾਟਾਸੈੱਟ ਦੀ ਲੋੜ ਹੁੰਦੀ ਹੈ। ਇਸਦੇ ਉਲਟ, ਆਦਮੀ ਆਮ ਤੌਰ 'ਤੇ ਸਿਰਫ ਕੁਝ ਉਦਾਹਰਣਾਂ ਜਾਂ ਸਧਾਰਣ ਹਦਾਇਤਾਂ ਤੋਂ ਨਵਾਂ ਭਾਸ਼ਾ ਕੰਮ ਕਰ ਸਕਦੇ ਹਨ - ਜੋ ਕਿ ਮੌਜੂਦਾ NLP ਸਿਸਟਮਾਂ ਲਈ ਅਜੇ ਵੀ ਮੁਸ਼ਕਲ ਹੈ। ਇੱਥੇ ਅਸੀਂ ਦਿਖਾਉਂਦੇ ਹਾਂ ਕਿ ਭਾਸ਼ਾ ਮਾਡਲਾਂ ਦਾ ਆਕਾਰ ਵਧਾਉਣ ਨਾਲ ਟਾਸਕ-ਅਗਨੋਸਟਿਕ, ਘੱਟ-ਉਦਾਹਰਣ ਵਾਲੀ ਕਾਰਗੁਜ਼ਾਰੀ ਕਾਫੀ ਬਿਹਤਰ ਹੋ ਜਾਂਦੀ ਹੈ, ਕਈ ਵਾਰ ਤਾਂ ਪਿਛਲੇ ਸਟੇਟ-ਆਫ-ਦ-ਆਰਟ ਫਾਈਨ-ਟਿਊਨਿੰਗ ਤਰੀਕਿਆਂ ਦੇ ਮੁਕਾਬਲੇ 'ਚ ਆ ਜਾਂਦੀ ਹੈ।  \n",
    "\n",
    "tl;dr\n"
   ]
  },
  {
   "attachments": {},
   "cell_type": "markdown",
   "metadata": {
    "nteract": {
     "transient": {
      "deleting": false
     }
    }
   },
   "source": [
    "# ਕਈ ਵਰਤੋਂ ਮਾਮਲਿਆਂ ਲਈ ਅਭਿਆਸ  \n",
    "1. ਲਿਖਤ ਦਾ ਸੰਖੇਪ ਬਣਾਓ  \n",
    "2. ਲਿਖਤ ਦੀ ਵਰਗੀਕਰਨ ਕਰੋ  \n",
    "3. ਨਵੇਂ ਉਤਪਾਦਾਂ ਦੇ ਨਾਂ ਬਣਾਓ\n"
   ]
  },
  {
   "cell_type": "code",
   "execution_count": null,
   "metadata": {
    "gather": {
     "logged": 1674495198534
    },
    "jupyter": {
     "outputs_hidden": false,
     "source_hidden": false
    },
    "nteract": {
     "transient": {
      "deleting": false
     }
    }
   },
   "outputs": [],
   "source": [
    "prompt = \"Recent work has demonstrated substantial gains on many NLP tasks and benchmarks by pre-training on a large corpus of text followed by fine-tuning on a specific task. While typically task-agnostic in architecture, this method still requires task-specific fine-tuning datasets of thousands or tens of thousands of examples. By contrast, humans can generally perform a new language task from only a few examples or from simple instructions - something that current NLP systems still largely struggle to do. Here we show that scaling up language models greatly improves task-agnostic, few-shot performance, sometimes even reaching competitiveness with prior state-of-the-art fine-tuning approaches.\\n\\nTl;dr\"\n"
   ]
  },
  {
   "cell_type": "code",
   "execution_count": null,
   "metadata": {
    "gather": {
     "logged": 1674495201868
    },
    "jupyter": {
     "outputs_hidden": false,
     "source_hidden": false
    },
    "nteract": {
     "transient": {
      "deleting": false
     }
    }
   },
   "outputs": [],
   "source": [
    "#Setting a few additional, typical parameters during API Call\n",
    "\n",
    "response = client.complete(\n",
    "  model=model_name,\n",
    "  messages = [{\"role\":\"system\", \"content\":\"You are a helpful assistant.\"},\n",
    "               {\"role\":\"user\",\"content\":prompt},])\n",
    "\n",
    "response.choices[0].message.content"
   ]
  },
  {
   "attachments": {},
   "cell_type": "markdown",
   "metadata": {
    "nteract": {
     "transient": {
      "deleting": false
     }
    }
   },
   "source": [
    "## ਟੈਕਸਟ ਦੀ ਵਰਗੀਕਰਨ ਕਰੋ  \n",
    "#### ਚੁਣੌਤੀ  \n",
    "ਆਈਟਮਾਂ ਨੂੰ ਉਹਨਾਂ ਸ਼੍ਰੇਣੀਆਂ ਵਿੱਚ ਵਰਗੀਕ੍ਰਿਤ ਕਰੋ ਜੋ ਇਨਫਰੈਂਸ ਸਮੇਂ ਦਿੱਤੀਆਂ ਜਾਂਦੀਆਂ ਹਨ। ਹੇਠਾਂ ਦਿੱਤੇ ਉਦਾਹਰਨ ਵਿੱਚ, ਅਸੀਂ ਪ੍ਰੋੰਪਟ ਵਿੱਚ ਦੋਵੇਂ ਸ਼੍ਰੇਣੀਆਂ ਅਤੇ ਵਰਗੀਕਰਨ ਲਈ ਟੈਕਸਟ ਦਿੰਦੇ ਹਾਂ (*playground_reference)।\n",
    "\n",
    "ਗਾਹਕ ਪੁੱਛਗਿੱਛ: ਸਤ ਸ੍ਰੀ ਅਕਾਲ, ਮੇਰੇ ਲੈਪਟਾਪ ਦੀਬੋਰਡ ਦੀ ਇੱਕ ਕੁੰਜੀ ਹਾਲ ਹੀ ਵਿੱਚ ਟੁੱਟ ਗਈ ਹੈ ਅਤੇ ਮੈਨੂੰ ਇਸ ਦੀ ਬਦਲੀ ਚਾਹੀਦੀ ਹੈ:\n",
    "\n",
    "ਵਰਗੀਕ੍ਰਿਤ ਸ਼੍ਰੇਣੀ:\n"
   ]
  },
  {
   "cell_type": "code",
   "execution_count": null,
   "metadata": {
    "gather": {
     "logged": 1674499424645
    },
    "jupyter": {
     "outputs_hidden": false,
     "source_hidden": false
    },
    "nteract": {
     "transient": {
      "deleting": false
     }
    }
   },
   "outputs": [],
   "source": [
    "prompt = \"Classify the following inquiry into one of the following: categories: [Pricing, Hardware Support, Software Support]\\n\\ninquiry: Hello, one of the keys on my laptop keyboard broke recently and I'll need a replacement:\\n\\nClassified category:\"\n",
    "print(prompt)"
   ]
  },
  {
   "cell_type": "code",
   "execution_count": null,
   "metadata": {
    "gather": {
     "logged": 1674499378518
    },
    "jupyter": {
     "outputs_hidden": false,
     "source_hidden": false
    },
    "nteract": {
     "transient": {
      "deleting": false
     }
    }
   },
   "outputs": [],
   "source": [
    "#Setting a few additional, typical parameters during API Call\n",
    "\n",
    "response = client.complete(\n",
    "  model=model_name,\n",
    "  messages = [{\"role\":\"system\", \"content\":\"You are a helpful assistant.\"},\n",
    "               {\"role\":\"user\",\"content\":prompt},])\n",
    "\n",
    "response.choices[0].message.content"
   ]
  },
  {
   "attachments": {},
   "cell_type": "markdown",
   "metadata": {
    "nteract": {
     "transient": {
      "deleting": false
     }
    }
   },
   "source": [
    "## ਨਵੇਂ ਉਤਪਾਦਾਂ ਦੇ ਨਾਂ ਬਣਾਓ\n",
    "#### ਚੁਣੌਤੀ\n",
    "ਉਦਾਹਰਨ ਵਾਲੇ ਸ਼ਬਦਾਂ ਤੋਂ ਉਤਪਾਦਾਂ ਦੇ ਨਾਂ ਬਣਾਓ। ਇੱਥੇ ਅਸੀਂ ਪ੍ਰੋੰਪਟ ਵਿੱਚ ਉਸ ਉਤਪਾਦ ਬਾਰੇ ਜਾਣਕਾਰੀ ਸ਼ਾਮਲ ਕਰਦੇ ਹਾਂ ਜਿਸ ਲਈ ਅਸੀਂ ਨਾਂ ਬਣਾਉਣੇ ਹਨ। ਅਸੀਂ ਇੱਕ ਮਿਲਦੇ-ਜੁਲਦੇ ਉਦਾਹਰਨ ਵੀ ਦਿੱਤਾ ਹੈ ਤਾਂ ਜੋ ਤੁਸੀਂ ਉਹ ਪੈਟਰਨ ਵੇਖ ਸਕੋ ਜੋ ਅਸੀਂ ਚਾਹੁੰਦੇ ਹਾਂ। ਅਸੀਂ temperature value ਵੀ ਵੱਧ ਰੱਖੀ ਹੈ ਤਾਂ ਜੋ randomness ਵਧੇ ਅਤੇ ਹੋਰ ਨਵੇਂ-ਨਵੇਂ ਜਵਾਬ ਮਿਲਣ।\n",
    "\n",
    "ਉਤਪਾਦ ਦਾ ਵੇਰਵਾ: ਘਰ ਵਿੱਚ ਮਿਲਕਸ਼ੇਕ ਬਣਾਉਣ ਵਾਲਾ ਮਸ਼ੀਨ\n",
    "Seed words: ਤੇਜ਼, ਸਿਹਤਮੰਦ, ਛੋਟਾ।\n",
    "ਉਤਪਾਦ ਨਾਂ: HomeShaker, Fit Shaker, QuickShake, Shake Maker\n",
    "\n",
    "ਉਤਪਾਦ ਦਾ ਵੇਰਵਾ: ਜੁੱਤੇ ਜੋ ਹਰ ਕਿਸੇ ਪੈਰ ਦੇ ਆਕਾਰ 'ਚ ਆ ਸਕਦੇ ਹਨ।\n",
    "Seed words: ਲਚਕੀਲਾ, ਫਿੱਟ, omni-fit.\n"
   ]
  },
  {
   "cell_type": "code",
   "execution_count": null,
   "metadata": {
    "gather": {
     "logged": 1674257087279
    },
    "jupyter": {
     "outputs_hidden": false,
     "source_hidden": false
    },
    "nteract": {
     "transient": {
      "deleting": false
     }
    }
   },
   "outputs": [],
   "source": [
    "prompt = \"Product description: A home milkshake maker\\nSeed words: fast, healthy, compact.\\nProduct names: HomeShaker, Fit Shaker, QuickShake, Shake Maker\\n\\nProduct description: A pair of shoes that can fit any foot size.\\nSeed words: adaptable, fit, omni-fit.\"\n",
    "\n",
    "print(prompt)"
   ]
  },
  {
   "cell_type": "code",
   "execution_count": null,
   "metadata": {
    "jupyter": {
     "outputs_hidden": false,
     "source_hidden": false
    },
    "nteract": {
     "transient": {
      "deleting": false
     }
    }
   },
   "outputs": [],
   "source": [
    "#Setting a few additional, typical parameters during API Call\n",
    "\n",
    "response = client.complete(\n",
    "  model=model_name,\n",
    "  messages = [{\"role\":\"system\", \"content\":\"You are a helpful assistant.\"},\n",
    "               {\"role\":\"user\",\"content\":prompt}])\n",
    "\n",
    "response.choices[0].message.content"
   ]
  },
  {
   "attachments": {},
   "cell_type": "markdown",
   "metadata": {
    "nteract": {
     "transient": {
      "deleting": false
     }
    }
   },
   "source": [
    "# ਹਵਾਲੇ  \n",
    "- [Openai Cookbook](https://github.com/openai/openai-cookbook?WT.mc_id=academic-105485-koreyst)  \n",
    "- [OpenAI Studio Examples](https://oai.azure.com/portal?WT.mc_id=academic-105485-koreyst)  \n",
    "- [GPT-3 ਨੂੰ ਟੈਕਸਟ ਕਲਾਸੀਫਾਈ ਕਰਨ ਲਈ ਫਾਈਨ-ਟਿਊਨ ਕਰਨ ਦੇ ਸਭ ਤੋਂ ਵਧੀਆ ਤਰੀਕੇ](https://docs.google.com/document/d/1rqj7dkuvl7Byd5KQPUJRxc19BJt8wo0yHNwK84KfU3Q/edit#?WT.mc_id=academic-105485-koreyst)\n"
   ]
  },
  {
   "attachments": {},
   "cell_type": "markdown",
   "metadata": {
    "nteract": {
     "transient": {
      "deleting": false
     }
    }
   },
   "source": [
    "# ਹੋਰ ਮਦਦ ਲਈ  \n",
    "[OpenAI ਵਪਾਰਕ ਟੀਮ](AzureOpenAITeam@microsoft.com)\n"
   ]
  },
  {
   "attachments": {},
   "cell_type": "markdown",
   "metadata": {
    "nteract": {
     "transient": {
      "deleting": false
     }
    }
   },
   "source": [
    "# ਯੋਗਦਾਨੀ\n",
    "\n",
    "* [Chew-Yean Yam](https://www.linkedin.com/in/cyyam/)\n"
   ]
  },
  {
   "cell_type": "markdown",
   "metadata": {},
   "source": []
  },
  {
   "cell_type": "markdown",
   "metadata": {},
   "source": [
    "\n---\n\n**ਅਸਵੀਕਰਨ**:  \nਇਹ ਦਸਤਾਵੇਜ਼ AI ਅਨੁਵਾਦ ਸੇਵਾ [Co-op Translator](https://github.com/Azure/co-op-translator) ਦੀ ਵਰਤੋਂ ਕਰਕੇ ਅਨੁਵਾਦ ਕੀਤਾ ਗਿਆ ਹੈ। ਅਸੀਂ ਯਥਾਸੰਭਵ ਸਹੀ ਅਨੁਵਾਦ ਕਰਨ ਦੀ ਕੋਸ਼ਿਸ਼ ਕਰਦੇ ਹਾਂ, ਪਰ ਕਿਰਪਾ ਕਰਕੇ ਧਿਆਨ ਵਿੱਚ ਰੱਖੋ ਕਿ ਆਟੋਮੈਟਿਕ ਅਨੁਵਾਦ ਵਿੱਚ ਗਲਤੀਆਂ ਜਾਂ ਅਣਪੂਰੀ ਜਾਣਕਾਰੀ ਹੋ ਸਕਦੀ ਹੈ। ਮੂਲ ਭਾਸ਼ਾ ਵਿੱਚ ਮੌਜੂਦ ਦਸਤਾਵੇਜ਼ ਨੂੰ ਹੀ ਅਧਿਕਾਰਤ ਸਰੋਤ ਮੰਨਿਆ ਜਾਣਾ ਚਾਹੀਦਾ ਹੈ। ਮਹੱਤਵਪੂਰਨ ਜਾਣਕਾਰੀ ਲਈ, ਪੇਸ਼ੇਵਰ ਮਨੁੱਖੀ ਅਨੁਵਾਦ ਦੀ ਸਿਫ਼ਾਰਸ਼ ਕੀਤੀ ਜਾਂਦੀ ਹੈ। ਇਸ ਅਨੁਵਾਦ ਦੀ ਵਰਤੋਂ ਕਰਕੇ ਹੋਣ ਵਾਲੀਆਂ ਕਿਸੇ ਵੀ ਗਲਤਫਹਿਮੀ ਜਾਂ ਗਲਤ ਵਿਆਖਿਆ ਲਈ ਅਸੀਂ ਜ਼ਿੰਮੇਵਾਰ ਨਹੀਂ ਹਾਂ।\n"
   ]
  }
 ],
 "metadata": {
  "kernel_info": {
   "name": "python310-sdkv2"
  },
  "kernelspec": {
   "display_name": "base",
   "language": "python",
   "name": "python3"
  },
  "language_info": {
   "codemirror_mode": {
    "name": "ipython",
    "version": 3
   },
   "file_extension": ".py",
   "mimetype": "text/x-python",
   "name": "python",
   "nbconvert_exporter": "python",
   "pygments_lexer": "ipython3",
   "version": "3.12.4"
  },
  "microsoft": {
   "host": {
    "AzureML": {
     "notebookHasBeenCompleted": true
    }
   }
  },
  "nteract": {
   "version": "nteract-front-end@1.0.0"
  },
  "coopTranslator": {
   "original_hash": "3eeb8e5cad61b52a8366f6259a53ed49",
   "translation_date": "2025-08-25T17:33:01+00:00",
   "source_file": "07-building-chat-applications/python/githubmodels-assignment.ipynb",
   "language_code": "pa"
  }
 },
 "nbformat": 4,
 "nbformat_minor": 2
}