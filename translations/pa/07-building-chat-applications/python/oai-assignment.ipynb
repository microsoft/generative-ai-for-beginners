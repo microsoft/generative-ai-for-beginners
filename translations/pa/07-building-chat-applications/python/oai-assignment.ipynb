{
 "cells": [
  {
   "attachments": {},
   "cell_type": "markdown",
   "metadata": {
    "nteract": {
     "transient": {
      "deleting": false
     }
    }
   },
   "source": [
    "# ਚੈਪਟਰ 7: ਚੈਟ ਐਪਲੀਕੇਸ਼ਨ ਬਣਾਉਣਾ\n",
    "## OpenAI API ਕਵਿਕਸਟਾਰਟ\n",
    "\n",
    "ਇਹ ਨੋਟਬੁੱਕ [Azure OpenAI Samples Repository](https://github.com/Azure/azure-openai-samples?WT.mc_id=academic-105485-koreyst) ਤੋਂ ਲਿਆ ਗਿਆ ਹੈ, ਜਿਸ ਵਿੱਚ ਉਹ ਨੋਟਬੁੱਕ ਸ਼ਾਮਲ ਹਨ ਜੋ [Azure OpenAI](notebook-azure-openai.ipynb) ਸਰਵਿਸਿਜ਼ ਨੂੰ ਐਕਸੈੱਸ ਕਰਦੇ ਹਨ।\n",
    "\n",
    "Python OpenAI API ਕੁਝ ਛੋਟੀਆਂ ਤਬਦੀਲੀਆਂ ਨਾਲ Azure OpenAI ਮਾਡਲਾਂ ਨਾਲ ਵੀ ਕੰਮ ਕਰਦਾ ਹੈ। ਇੱਥੇ ਵਧੇਰੇ ਜਾਣੋ ਕਿ ਦੋਹਾਂ ਵਿੱਚ ਕੀ ਫਰਕ ਹੈ: [Python ਨਾਲ OpenAI ਅਤੇ Azure OpenAI ਐਂਡਪੌਇੰਟਸ ਵਿਚਕਾਰ ਕਿਵੇਂ ਸਵਿੱਚ ਕਰੀਏ](https://learn.microsoft.com/azure/ai-services/openai/how-to/switching-endpoints?WT.mc_id=academic-109527-jasmineg)\n"
   ]
  },
  {
   "attachments": {},
   "cell_type": "markdown",
   "metadata": {
    "nteract": {
     "transient": {
      "deleting": false
     }
    }
   },
   "source": [
    "# ਝਲਕ  \n",
    "\"ਵੱਡੇ ਭਾਸ਼ਾ ਮਾਡਲ ਉਹ ਫੰਕਸ਼ਨ ਹਨ ਜੋ ਟੈਕਸਟ ਨੂੰ ਟੈਕਸਟ ਨਾਲ ਜੋੜਦੇ ਹਨ। ਦਿੱਤੇ ਗਏ ਇਨਪੁੱਟ ਟੈਕਸਟ ਸਤਰ ਲਈ, ਇੱਕ ਵੱਡਾ ਭਾਸ਼ਾ ਮਾਡਲ ਅਗਲਾ ਆਉਣ ਵਾਲਾ ਟੈਕਸਟ ਅਨੁਮਾਨਣ ਦੀ ਕੋਸ਼ਿਸ਼ ਕਰਦਾ ਹੈ\"(1)। ਇਹ \"ਕੁਇੱਕਸਟਾਰਟ\" ਨੋਟਬੁੱਕ ਉਪਭੋਗਤਾਵਾਂ ਨੂੰ ਉੱਚ ਪੱਧਰੀ LLM ਸੰਕਲਪਾਂ, AML ਨਾਲ ਸ਼ੁਰੂਆਤ ਕਰਨ ਲਈ ਮੁੱਖ ਪੈਕੇਜ ਲੋੜਾਂ, ਪ੍ਰਾਂਪਟ ਡਿਜ਼ਾਈਨ ਦੀ ਹੌਲੀ ਜਾਣੂ, ਅਤੇ ਵੱਖ-ਵੱਖ ਵਰਤੋਂ ਦੇ ਕੇਸਾਂ ਦੇ ਕੁਝ ਛੋਟੇ ਉਦਾਹਰਣਾਂ ਨਾਲ ਜਾਣੂ ਕਰਵਾਏਗੀ।\n"
   ]
  },
  {
   "attachments": {},
   "cell_type": "markdown",
   "metadata": {
    "nteract": {
     "transient": {
      "deleting": false
     }
    }
   },
   "source": [
    "## ਸਮੱਗਰੀ ਦੀ ਸੂਚੀ  \n",
    "\n",
    "[ਝਲਕ](../../../../07-building-chat-applications/python)  \n",
    "[OpenAI ਸਰਵਿਸ ਕਿਵੇਂ ਵਰਤਣੀ ਹੈ](../../../../07-building-chat-applications/python)  \n",
    "[1. ਆਪਣੀ OpenAI ਸਰਵਿਸ ਬਣਾਉਣਾ](../../../../07-building-chat-applications/python)  \n",
    "[2. ਇੰਸਟਾਲੇਸ਼ਨ](../../../../07-building-chat-applications/python)    \n",
    "[3. ਪ੍ਰਮਾਣ ਪੱਤਰ](../../../../07-building-chat-applications/python)  \n",
    "\n",
    "[ਵਰਤੋਂ ਦੇ ਕੇਸ](../../../../07-building-chat-applications/python)    \n",
    "[1. ਲਿਖਤ ਦਾ ਸੰਖੇਪ ਬਣਾਓ](../../../../07-building-chat-applications/python)  \n",
    "[2. ਲਿਖਤ ਦੀ ਵਰਗੀਕਰਨ ਕਰੋ](../../../../07-building-chat-applications/python)  \n",
    "[3. ਨਵੇਂ ਉਤਪਾਦਾਂ ਦੇ ਨਾਂ ਬਣਾਓ](../../../../07-building-chat-applications/python)  \n",
    "[4. ਵਰਗੀਕਰਨ ਨੂੰ ਸੁਧਾਰੋ](../../../../07-building-chat-applications/python)  \n",
    "\n",
    "[ਹਵਾਲੇ](../../../../07-building-chat-applications/python)\n"
   ]
  },
  {
   "attachments": {},
   "cell_type": "markdown",
   "metadata": {
    "nteract": {
     "transient": {
      "deleting": false
     }
    }
   },
   "source": [
    "### ਆਪਣਾ ਪਹਿਲਾ ਪ੍ਰਾਂਪਟ ਬਣਾਓ  \n",
    "ਇਹ ਛੋਟੀ ਜਿਹੀ ਕਸਰਤ ਤੁਹਾਨੂੰ OpenAI ਮਾਡਲ ਨੂੰ ਇੱਕ ਆਸਾਨ ਕੰਮ \"ਸੰਖੇਪ\" ਲਈ ਪ੍ਰਾਂਪਟ ਭੇਜਣ ਦੀ ਬੁਨਿਆਦੀ ਜਾਣਕਾਰੀ ਦੇਵੇਗੀ।\n",
    "\n",
    "**ਕਦਮ**:  \n",
    "1. ਆਪਣੇ python ਮਾਹੌਲ ਵਿੱਚ OpenAI ਲਾਇਬ੍ਰੇਰੀ ਇੰਸਟਾਲ ਕਰੋ  \n",
    "2. ਆਮ ਸਹਾਇਕ ਲਾਇਬ੍ਰੇਰੀਆਂ ਲੋਡ ਕਰੋ ਅਤੇ ਆਪਣੇ OpenAI Service ਲਈ ਆਮ OpenAI ਸੁਰੱਖਿਆ ਜਾਣਕਾਰੀ ਸੈੱਟ ਕਰੋ ਜੋ ਤੁਸੀਂ ਬਣਾਈ ਹੈ  \n",
    "3. ਆਪਣੇ ਕੰਮ ਲਈ ਇੱਕ ਮਾਡਲ ਚੁਣੋ  \n",
    "4. ਮਾਡਲ ਲਈ ਇੱਕ ਆਸਾਨ ਪ੍ਰਾਂਪਟ ਬਣਾਓ  \n",
    "5. ਆਪਣੀ ਬੇਨਤੀ ਮਾਡਲ API ਨੂੰ ਭੇਜੋ!\n"
   ]
  },
  {
   "attachments": {},
   "cell_type": "markdown",
   "metadata": {
    "nteract": {
     "transient": {
      "deleting": false
     }
    }
   },
   "source": []
  },
  {
   "cell_type": "code",
   "execution_count": null,
   "metadata": {
    "gather": {
     "logged": 1674254990318
    },
    "jupyter": {
     "outputs_hidden": true,
     "source_hidden": false
    },
    "nteract": {
     "transient": {
      "deleting": false
     }
    }
   },
   "outputs": [],
   "source": [
    "%pip install openai python-dotenv"
   ]
  },
  {
   "attachments": {},
   "cell_type": "markdown",
   "metadata": {
    "nteract": {
     "transient": {
      "deleting": false
     }
    }
   },
   "source": []
  },
  {
   "cell_type": "code",
   "execution_count": null,
   "metadata": {
    "gather": {
     "logged": 1674829434433
    },
    "jupyter": {
     "outputs_hidden": false,
     "source_hidden": false
    },
    "nteract": {
     "transient": {
      "deleting": false
     }
    }
   },
   "outputs": [],
   "source": [
    "import os\n",
    "from openai import OpenAI\n",
    "from dotenv import load_dotenv\n",
    "\n",
    "load_dotenv()\n",
    "\n",
    "API_KEY = os.getenv(\"OPENAI_API_KEY\",\"\")\n",
    "assert API_KEY, \"ERROR: OpenAI Key is missing\"\n",
    "\n",
    "client = OpenAI(\n",
    "    api_key=API_KEY\n",
    "    )\n"
   ]
  },
  {
   "attachments": {},
   "cell_type": "markdown",
   "metadata": {
    "nteract": {
     "transient": {
      "deleting": false
     }
    }
   },
   "source": [
    "### 3. ਠੀਕ ਮਾਡਲ ਲੱਭਣਾ  \n",
    "GPT-3.5-turbo ਜਾਂ GPT-4 ਮਾਡਲ ਕੁਦਰਤੀ ਭਾਸ਼ਾ ਨੂੰ ਸਮਝ ਸਕਦੇ ਹਨ ਅਤੇ ਤਿਆਰ ਕਰ ਸਕਦੇ ਹਨ।\n"
   ]
  },
  {
   "cell_type": "code",
   "execution_count": null,
   "metadata": {
    "gather": {
     "logged": 1674742720788
    },
    "jupyter": {
     "outputs_hidden": true,
     "source_hidden": false
    },
    "nteract": {
     "transient": {
      "deleting": false
     }
    }
   },
   "outputs": [],
   "source": [
    "# Select the General Purpose curie model for text\n",
    "model = \"gpt-3.5-turbo\""
   ]
  },
  {
   "attachments": {},
   "cell_type": "markdown",
   "metadata": {
    "nteract": {
     "transient": {
      "deleting": false
     }
    }
   },
   "source": [
    "## 4. ਪ੍ਰੰਪਟ ਡਿਜ਼ਾਈਨ\n",
    "\n",
    "\"ਵੱਡੇ ਭਾਸ਼ਾਈ ਮਾਡਲਾਂ ਦੀ ਜਾਦੂਈ ਗੱਲ ਇਹ ਹੈ ਕਿ ਜਦੋਂ ਇਹ ਮਾਡਲ ਵੱਡੀ ਮਾਤਰਾ ਵਿੱਚ ਟੈਕਸਟ ਉੱਤੇ ਇਹ ਅਨੁਮਾਨ ਲਗਾਉਣ ਦੀ ਗਲਤੀ ਘਟਾਉਣ ਲਈ ਟ੍ਰੇਨ ਕੀਤੇ ਜਾਂਦੇ ਹਨ, ਤਾਂ ਇਹ ਮਾਡਲ ਉਹ ਧਾਰਣਾਵਾਂ ਸਿੱਖ ਲੈਂਦੇ ਹਨ ਜੋ ਇਨ੍ਹਾਂ ਅਨੁਮਾਨਾਂ ਲਈ ਲਾਭਦਾਇਕ ਹੁੰਦੀਆਂ ਹਨ। ਉਦਾਹਰਨ ਵਜੋਂ, ਇਹ ਅਜਿਹੀਆਂ ਧਾਰਣਾਵਾਂ ਸਿੱਖ ਲੈਂਦੇ ਹਨ ਜਿਵੇਂ ਕਿ\"(1):\n",
    "\n",
    "* ਸ਼ਬਦਾਂ ਦੀ ਸਹੀ ਸਪੈਲਿੰਗ\n",
    "* ਵਿਆਕਰਨ ਕਿਵੇਂ ਕੰਮ ਕਰਦੀ ਹੈ\n",
    "* ਵਾਕਾਂ ਨੂੰ ਕਿਵੇਂ ਦੁਬਾਰਾ ਲਿਖਣਾ\n",
    "* ਸਵਾਲਾਂ ਦੇ ਜਵਾਬ ਕਿਵੇਂ ਦੇਣੇ\n",
    "* ਗੱਲਬਾਤ ਕਿਵੇਂ ਚਲਾਉਣੀ\n",
    "* ਕਈ ਭਾਸ਼ਾਵਾਂ ਵਿੱਚ ਲਿਖਣਾ\n",
    "* ਕੋਡ ਕਿਵੇਂ ਲਿਖਣਾ\n",
    "* ਆਦਿ\n",
    "\n",
    "#### ਵੱਡੇ ਭਾਸ਼ਾਈ ਮਾਡਲ ਨੂੰ ਕਿਵੇਂ ਕੰਟਰੋਲ ਕਰੀਏ  \n",
    "\"ਵੱਡੇ ਭਾਸ਼ਾਈ ਮਾਡਲ ਲਈ, ਸਭ ਤੋਂ ਵੱਧ ਪ੍ਰਭਾਵਸ਼ਾਲੀ ਇਨਪੁੱਟ ਟੈਕਸਟ ਪ੍ਰੰਪਟ ਹੁੰਦਾ ਹੈ(1)।\n",
    "\n",
    "ਵੱਡੇ ਭਾਸ਼ਾਈ ਮਾਡਲਾਂ ਨੂੰ ਕੁਝ ਤਰੀਕਿਆਂ ਨਾਲ ਆਉਟਪੁੱਟ ਦੇਣ ਲਈ ਪ੍ਰੰਪਟ ਕੀਤਾ ਜਾ ਸਕਦਾ ਹੈ:\n",
    "\n",
    "ਹਦਾਇਤ: ਮਾਡਲ ਨੂੰ ਦੱਸੋ ਕਿ ਤੁਸੀਂ ਕੀ ਚਾਹੁੰਦੇ ਹੋ  \n",
    "ਪੂਰਾ ਕਰਨਾ: ਮਾਡਲ ਨੂੰ ਉਹ ਸ਼ੁਰੂਆਤ ਦਿਓ ਜੋ ਤੁਸੀਂ ਚਾਹੁੰਦੇ ਹੋ, ਤਾਂ ਜੋ ਉਹ ਉਸਨੂੰ ਪੂਰਾ ਕਰੇ  \n",
    "ਡੈਮੋ: ਮਾਡਲ ਨੂੰ ਦਿਖਾਓ ਕਿ ਤੁਸੀਂ ਕੀ ਚਾਹੁੰਦੇ ਹੋ, ਜਾਂ ਤਾਂ:  \n",
    "ਪ੍ਰੰਪਟ ਵਿੱਚ ਕੁਝ ਉਦਾਹਰਨਾਂ ਦੇ ਕੇ  \n",
    "ਫਾਈਨ-ਟਿਊਨਿੰਗ ਟ੍ਰੇਨਿੰਗ ਡਾਟਾਸੈੱਟ ਵਿੱਚ ਸੈਂਕੜਿਆਂ ਜਾਂ ਹਜ਼ਾਰਾਂ ਉਦਾਹਰਨਾਂ ਦੇ ਕੇ\"\n",
    "\n",
    "#### ਪ੍ਰੰਪਟ ਬਣਾਉਣ ਲਈ ਤਿੰਨ ਮੁੱਢਲੀਆਂ ਹਦਾਇਤਾਂ ਹਨ:\n",
    "\n",
    "**ਦਿਖਾਓ ਅਤੇ ਦੱਸੋ।** ਇਹ ਸਾਫ਼ ਕਰ ਦਿਓ ਕਿ ਤੁਸੀਂ ਕੀ ਚਾਹੁੰਦੇ ਹੋ, ਜਾਂ ਤਾਂ ਹਦਾਇਤਾਂ ਰਾਹੀਂ, ਜਾਂ ਉਦਾਹਰਨਾਂ ਰਾਹੀਂ, ਜਾਂ ਦੋਹਾਂ ਦੇ ਮਿਲਾਪ ਰਾਹੀਂ। ਜੇ ਤੁਸੀਂ ਮਾਡਲ ਨੂੰ ਚਾਹੁੰਦੇ ਹੋ ਕਿ ਕਿਸੇ ਲਿਸਟ ਨੂੰ ਅੱਖਰੀ ਕ੍ਰਮ ਵਿੱਚ ਲਾਏ ਜਾਂ ਕਿਸੇ ਪੈਰਾ ਨੂੰ ਭਾਵਨਾ ਅਨੁਸਾਰ ਵਰਗੀਕ੍ਰਿਤ ਕਰੇ, ਤਾਂ ਇਹ ਦਿਖਾਓ ਕਿ ਤੁਸੀਂ ਇਹੀ ਚਾਹੁੰਦੇ ਹੋ।\n",
    "\n",
    "**ਚੰਗਾ ਡਾਟਾ ਦਿਓ।** ਜੇ ਤੁਸੀਂ ਵਰਗੀਕਰਨ ਬਣਾਉਣ ਦੀ ਕੋਸ਼ਿਸ਼ ਕਰ ਰਹੇ ਹੋ ਜਾਂ ਮਾਡਲ ਨੂੰ ਕਿਸੇ ਪੈਟਰਨ ਦੀ ਪਾਲਣਾ ਕਰਵਾਉਣੀ ਹੈ, ਤਾਂ ਯਕੀਨੀ ਬਣਾਓ ਕਿ ਕਾਫੀ ਉਦਾਹਰਨਾਂ ਹਨ। ਆਪਣੀਆਂ ਉਦਾਹਰਨਾਂ ਨੂੰ ਚੰਗੀ ਤਰ੍ਹਾਂ ਪੜ੍ਹ ਲਵੋ — ਮਾਡਲ ਆਮ ਤੌਰ 'ਤੇ ਇੰਨਾ ਸਮਝਦਾਰ ਹੁੰਦਾ ਹੈ ਕਿ ਆਮ ਸਪੈਲਿੰਗ ਦੀਆਂ ਗਲਤੀਆਂ ਨੂੰ ਸਮਝ ਲੈਂਦਾ ਹੈ ਤੇ ਤੁਹਾਨੂੰ ਜਵਾਬ ਦੇ ਦਿੰਦਾ ਹੈ, ਪਰ ਇਹ ਵੀ ਹੋ ਸਕਦਾ ਹੈ ਕਿ ਉਹ ਮੰਨ ਲਵੇ ਕਿ ਇਹ ਜਾਣ-ਬੁੱਝ ਕੇ ਕੀਤਾ ਗਿਆ ਹੈ ਅਤੇ ਇਹ ਜਵਾਬ ਉੱਤੇ ਅਸਰ ਪਾ ਸਕਦਾ ਹੈ।\n",
    "\n",
    "**ਆਪਣੀਆਂ ਸੈਟਿੰਗਾਂ ਚੈੱਕ ਕਰੋ।** temperature ਅਤੇ top_p ਸੈਟਿੰਗਾਂ ਇਹ ਨਿਯੰਤਰਿਤ ਕਰਦੀਆਂ ਹਨ ਕਿ ਮਾਡਲ ਜਵਾਬ ਦੇਣ ਵਿੱਚ ਕਿੰਨਾ ਨਿਸ਼ਚਿਤ ਹੈ। ਜੇ ਤੁਸੀਂ ਇੱਕੋ ਸਹੀ ਜਵਾਬ ਵਾਲੀ ਗੱਲ ਪੁੱਛ ਰਹੇ ਹੋ, ਤਾਂ ਇਹਨਾਂ ਨੂੰ ਘੱਟ ਰੱਖੋ। ਜੇ ਤੁਸੀਂ ਵੱਖ-ਵੱਖ ਕਿਸਮ ਦੇ ਜਵਾਬ ਚਾਹੁੰਦੇ ਹੋ, ਤਾਂ ਇਹਨਾਂ ਨੂੰ ਵੱਧ ਰੱਖੋ। ਸਭ ਤੋਂ ਵੱਡੀ ਗਲਤੀ ਜੋ ਲੋਕ ਇਹਨਾਂ ਸੈਟਿੰਗਾਂ ਨਾਲ ਕਰਦੇ ਹਨ, ਉਹ ਇਹ ਮੰਨ ਲੈਣੀ ਹੈ ਕਿ ਇਹ \"ਚਲਾਕੀ\" ਜਾਂ \"ਰਚਨਾਤਮਕਤਾ\" ਦੇ ਕੰਟਰੋਲ ਹਨ।\n",
    "\n",
    "Source: https://learn.microsoft.com/azure/ai-services/openai/overview\n"
   ]
  },
  {
   "attachments": {},
   "cell_type": "markdown",
   "metadata": {
    "nteract": {
     "transient": {
      "deleting": false
     }
    }
   },
   "source": []
  },
  {
   "cell_type": "code",
   "execution_count": null,
   "metadata": {
    "gather": {
     "logged": 1674494935186
    },
    "jupyter": {
     "outputs_hidden": false,
     "source_hidden": false
    },
    "nteract": {
     "transient": {
      "deleting": false
     }
    }
   },
   "outputs": [],
   "source": [
    "# Create your first prompt\n",
    "text_prompt = \"Should oxford commas always be used?\"\n",
    "\n",
    "response = client.chat.completions.create(\n",
    "  model=model,\n",
    "  messages = [{\"role\":\"system\", \"content\":\"You are a helpful assistant.\"},\n",
    "               {\"role\":\"user\",\"content\":text_prompt},])\n",
    "\n",
    "response.choices[0].message.content"
   ]
  },
  {
   "attachments": {},
   "cell_type": "markdown",
   "metadata": {
    "nteract": {
     "transient": {
      "deleting": false
     }
    }
   },
   "source": []
  },
  {
   "cell_type": "code",
   "execution_count": null,
   "metadata": {
    "gather": {
     "logged": 1674494940872
    },
    "jupyter": {
     "outputs_hidden": false,
     "source_hidden": false
    },
    "nteract": {
     "transient": {
      "deleting": false
     }
    }
   },
   "outputs": [],
   "source": [
    "\n",
    "response = client.chat.completions.create(\n",
    "  model=model,\n",
    "  messages = [{\"role\":\"system\", \"content\":\"You are a helpful assistant.\"},\n",
    "               {\"role\":\"user\",\"content\":text_prompt},])\n",
    "\n",
    "response.choices[0].message.content"
   ]
  },
  {
   "attachments": {},
   "cell_type": "markdown",
   "metadata": {
    "nteract": {
     "transient": {
      "deleting": false
     }
    }
   },
   "source": [
    "## ਪਾਠ ਸੰਖੇਪ ਕਰੋ  \n",
    "#### ਚੁਣੌਤੀ  \n",
    "ਇੱਕ ਪਾਠ ਦੇ ਅੰਤ 'ਤੇ 'tl;dr:' ਜੋੜ ਕੇ ਪਾਠ ਦਾ ਸੰਖੇਪ ਕਰੋ। ਧਿਆਨ ਦਿਓ ਕਿ ਮਾਡਲ ਕਿਸ ਤਰ੍ਹਾਂ ਬਿਨਾਂ ਵਾਧੂ ਹਦਾਇਤਾਂ ਦੇ ਕਈ ਕੰਮ ਕਰ ਸਕਦਾ ਹੈ। ਤੁਸੀਂ tl;dr ਤੋਂ ਵਧ ਕੇ ਹੋਰ ਵੇਰਵੇਦਾਰ ਪ੍ਰੋੰਪਟਾਂ ਨਾਲ ਤਜਰਬਾ ਕਰ ਸਕਦੇ ਹੋ, ਤਾਂ ਜੋ ਮਾਡਲ ਦੇ ਵਿਹਾਰ ਨੂੰ ਬਦਲਿਆ ਜਾ ਸਕੇ ਅਤੇ ਤੁਹਾਨੂੰ ਆਪਣੀ ਪਸੰਦ ਦਾ ਸੰਖੇਪ ਮਿਲ ਸਕੇ(3)।  \n",
    "\n",
    "ਹਾਲੀਆ ਕੰਮਾਂ ਨੇ ਵੱਡੇ ਪਾਠ ਡਾਟਾ ਤੇ ਪ੍ਰੀ-ਟ੍ਰੇਨਿੰਗ ਅਤੇ ਫਿਰ ਖਾਸ ਟਾਸਕ ਉੱਤੇ ਫਾਈਨ-ਟਿਊਨਿੰਗ ਕਰਕੇ NLP ਦੇ ਕਈ ਕੰਮਾਂ ਅਤੇ ਬੈਂਚਮਾਰਕਾਂ 'ਤੇ ਵੱਡੀ ਤਰੱਕੀ ਦਿਖਾਈ ਹੈ। ਹਾਲਾਂਕਿ ਆਮ ਤੌਰ 'ਤੇ ਇਹ ਤਰੀਕਾ ਆਰਕੀਟੈਕਚਰ ਵਿੱਚ ਟਾਸਕ-ਅਗਨੋਸਟਿਕ ਹੁੰਦਾ ਹੈ, ਪਰ ਫਿਰ ਵੀ ਇਸ ਲਈ ਹਜ਼ਾਰਾਂ ਜਾਂ ਦਸ ਹਜ਼ਾਰਾਂ ਉਦਾਹਰਣਾਂ ਵਾਲੇ ਟਾਸਕ-ਸਪੈਸਿਫਿਕ ਫਾਈਨ-ਟਿਊਨਿੰਗ ਡਾਟਾਸੈੱਟ ਦੀ ਲੋੜ ਹੁੰਦੀ ਹੈ। ਇਸਦੇ ਉਲਟ, ਆਦਮੀ ਆਮ ਤੌਰ 'ਤੇ ਸਿਰਫ ਕੁਝ ਉਦਾਹਰਣਾਂ ਜਾਂ ਸਧਾਰਣ ਹਦਾਇਤਾਂ ਤੋਂ ਨਵਾਂ ਭਾਸ਼ਾ ਕੰਮ ਕਰ ਸਕਦੇ ਹਨ - ਜੋ ਕਿ ਮੌਜੂਦਾ NLP ਸਿਸਟਮਾਂ ਲਈ ਅਜੇ ਵੀ ਮੁਸ਼ਕਲ ਹੈ। ਇੱਥੇ ਅਸੀਂ ਦਿਖਾਉਂਦੇ ਹਾਂ ਕਿ ਭਾਸ਼ਾ ਮਾਡਲ ਵੱਡੇ ਕਰਨ ਨਾਲ ਟਾਸਕ-ਅਗਨੋਸਟਿਕ, ਘੱਟ-ਉਦਾਹਰਣ ਪ੍ਰਦਰਸ਼ਨ ਵਿੱਚ ਕਾਫੀ ਸੁਧਾਰ ਆਉਂਦਾ ਹੈ, ਕਈ ਵਾਰ ਤਾਂ ਪਿਛਲੇ ਸਟੇਟ-ਆਫ-ਦ-ਆਰਟ ਫਾਈਨ-ਟਿਊਨਿੰਗ ਤਰੀਕਿਆਂ ਦੇ ਮੁਕਾਬਲੇ ਵੀ ਪਹੁੰਚ ਜਾਂਦੀ ਹੈ।\n",
    "\n",
    "\n",
    "\n",
    "Tl;dr\n"
   ]
  },
  {
   "attachments": {},
   "cell_type": "markdown",
   "metadata": {
    "nteract": {
     "transient": {
      "deleting": false
     }
    }
   },
   "source": [
    "# ਕਈ ਵਰਤੋਂ ਮਾਮਲਿਆਂ ਲਈ ਅਭਿਆਸ  \n",
    "1. ਲਿਖਤ ਦਾ ਸੰਖੇਪ ਬਣਾਓ  \n",
    "2. ਲਿਖਤ ਦੀ ਵਰਗੀਕਰਨ ਕਰੋ  \n",
    "3. ਨਵੇਂ ਉਤਪਾਦਾਂ ਦੇ ਨਾਂ ਬਣਾਓ\n"
   ]
  },
  {
   "cell_type": "code",
   "execution_count": null,
   "metadata": {
    "gather": {
     "logged": 1674495198534
    },
    "jupyter": {
     "outputs_hidden": false,
     "source_hidden": false
    },
    "nteract": {
     "transient": {
      "deleting": false
     }
    }
   },
   "outputs": [],
   "source": [
    "prompt = \"Recent work has demonstrated substantial gains on many NLP tasks and benchmarks by pre-training on a large corpus of text followed by fine-tuning on a specific task. While typically task-agnostic in architecture, this method still requires task-specific fine-tuning datasets of thousands or tens of thousands of examples. By contrast, humans can generally perform a new language task from only a few examples or from simple instructions - something that current NLP systems still largely struggle to do. Here we show that scaling up language models greatly improves task-agnostic, few-shot performance, sometimes even reaching competitiveness with prior state-of-the-art fine-tuning approaches.\\n\\nTl;dr\"\n"
   ]
  },
  {
   "cell_type": "code",
   "execution_count": null,
   "metadata": {
    "gather": {
     "logged": 1674495201868
    },
    "jupyter": {
     "outputs_hidden": false,
     "source_hidden": false
    },
    "nteract": {
     "transient": {
      "deleting": false
     }
    }
   },
   "outputs": [],
   "source": [
    "#Setting a few additional, typical parameters during API Call\n",
    "\n",
    "response = client.chat.completions.create(\n",
    "  model=model,\n",
    "  messages = [{\"role\":\"system\", \"content\":\"You are a helpful assistant.\"},\n",
    "               {\"role\":\"user\",\"content\":prompt},])\n",
    "\n",
    "response.choices[0].message.content"
   ]
  },
  {
   "attachments": {},
   "cell_type": "markdown",
   "metadata": {
    "nteract": {
     "transient": {
      "deleting": false
     }
    }
   },
   "source": [
    "## ਟੈਕਸਟ ਦੀ ਵਰਗੀਕਰਨ ਕਰੋ  \n",
    "#### ਚੁਣੌਤੀ  \n",
    "ਆਈਟਮਾਂ ਨੂੰ ਉਹਨਾਂ ਸ਼੍ਰੇਣੀਆਂ ਵਿੱਚ ਵਰਗੀਕ੍ਰਿਤ ਕਰੋ ਜੋ ਇਨਫਰੈਂਸ ਸਮੇਂ ਦਿੱਤੀਆਂ ਜਾਂਦੀਆਂ ਹਨ। ਹੇਠਾਂ ਦਿੱਤੇ ਉਦਾਹਰਨ ਵਿੱਚ, ਅਸੀਂ ਪ੍ਰੋੰਪਟ ਵਿੱਚ ਦੋਵੇਂ ਸ਼੍ਰੇਣੀਆਂ ਅਤੇ ਵਰਗੀਕਰਨ ਲਈ ਟੈਕਸਟ ਦਿੰਦੇ ਹਾਂ (*playground_reference)।\n",
    "\n",
    "ਗਾਹਕ ਪੁੱਛਗਿੱਛ: ਸਤ ਸ੍ਰੀ ਅਕਾਲ, ਮੇਰੇ ਲੈਪਟਾਪ ਦੀਬੋਰਡ ਦੀ ਇੱਕ ਕੁੰਜੀ ਹਾਲ ਹੀ ਵਿੱਚ ਟੁੱਟ ਗਈ ਹੈ ਅਤੇ ਮੈਨੂੰ ਇਸ ਦੀ ਬਦਲੀ ਚਾਹੀਦੀ ਹੈ:\n",
    "\n",
    "ਵਰਗੀਕ੍ਰਿਤ ਸ਼੍ਰੇਣੀ:\n"
   ]
  },
  {
   "cell_type": "code",
   "execution_count": null,
   "metadata": {
    "gather": {
     "logged": 1674499424645
    },
    "jupyter": {
     "outputs_hidden": false,
     "source_hidden": false
    },
    "nteract": {
     "transient": {
      "deleting": false
     }
    }
   },
   "outputs": [],
   "source": [
    "prompt = \"Classify the following inquiry into one of the following: categories: [Pricing, Hardware Support, Software Support]\\n\\ninquiry: Hello, one of the keys on my laptop keyboard broke recently and I'll need a replacement:\\n\\nClassified category:\"\n",
    "print(prompt)"
   ]
  },
  {
   "cell_type": "code",
   "execution_count": null,
   "metadata": {
    "gather": {
     "logged": 1674499378518
    },
    "jupyter": {
     "outputs_hidden": false,
     "source_hidden": false
    },
    "nteract": {
     "transient": {
      "deleting": false
     }
    }
   },
   "outputs": [],
   "source": [
    "#Setting a few additional, typical parameters during API Call\n",
    "\n",
    "response = client.chat.completions.create(\n",
    "  model=model,\n",
    "  messages = [{\"role\":\"system\", \"content\":\"You are a helpful assistant.\"},\n",
    "               {\"role\":\"user\",\"content\":prompt},])\n",
    "\n",
    "response.choices[0].message.content"
   ]
  },
  {
   "attachments": {},
   "cell_type": "markdown",
   "metadata": {
    "nteract": {
     "transient": {
      "deleting": false
     }
    }
   },
   "source": [
    "## ਨਵੇਂ ਉਤਪਾਦਾਂ ਦੇ ਨਾਂ ਬਣਾਓ\n",
    "#### ਚੁਣੌਤੀ\n",
    "ਉਦਾਹਰਨ ਵਾਲੇ ਸ਼ਬਦਾਂ ਤੋਂ ਉਤਪਾਦਾਂ ਦੇ ਨਾਂ ਬਣਾਓ। ਇੱਥੇ ਅਸੀਂ ਪ੍ਰੋੰਪਟ ਵਿੱਚ ਉਸ ਉਤਪਾਦ ਬਾਰੇ ਜਾਣਕਾਰੀ ਸ਼ਾਮਲ ਕਰਦੇ ਹਾਂ ਜਿਸ ਲਈ ਨਾਂ ਬਣਾਉਣੇ ਹਨ। ਅਸੀਂ ਇੱਕ ਮਿਲਦੇ-ਜੁਲਦੇ ਉਦਾਹਰਨ ਵੀ ਦਿੱਤਾ ਹੈ ਤਾਂ ਜੋ ਤੁਸੀਂ ਸਮਝ ਸਕੋ ਕਿ ਸਾਨੂੰ ਕਿਸ ਤਰ੍ਹਾਂ ਦੇ ਨਤੀਜੇ ਚਾਹੀਦੇ ਹਨ। ਅਸੀਂ temperature value ਵੀ ਵੱਧ ਰੱਖੀ ਹੈ ਤਾਂ ਜੋ randomness ਵਧੇ ਅਤੇ ਨਵੇਂ-ਨਵੇਂ ਵਿਚਾਰ ਆ ਸਕਣ।\n",
    "\n",
    "ਉਤਪਾਦ ਦਾ ਵੇਰਵਾ: ਘਰ ਵਿੱਚ ਮਿਲਕਸ਼ੇਕ ਬਣਾਉਣ ਵਾਲਾ ਮਸ਼ੀਨ\n",
    "ਬੀਜ ਸ਼ਬਦ: ਤੇਜ਼, ਸਿਹਤਮੰਦ, ਛੋਟਾ।\n",
    "ਉਤਪਾਦ ਨਾਂ: HomeShaker, Fit Shaker, QuickShake, Shake Maker\n",
    "\n",
    "ਉਤਪਾਦ ਦਾ ਵੇਰਵਾ: ਜੁੱਤੇ ਜੋ ਹਰ ਕਿਸੇ ਪੈਰ ਦੇ ਆਕਾਰ 'ਤੇ ਆ ਜਾਂਦੇ ਹਨ।\n",
    "ਬੀਜ ਸ਼ਬਦ: ਲਚੀਲਾ, ਫਿੱਟ, omni-fit.\n"
   ]
  },
  {
   "cell_type": "code",
   "execution_count": null,
   "metadata": {
    "gather": {
     "logged": 1674257087279
    },
    "jupyter": {
     "outputs_hidden": false,
     "source_hidden": false
    },
    "nteract": {
     "transient": {
      "deleting": false
     }
    }
   },
   "outputs": [],
   "source": [
    "prompt = \"Product description: A home milkshake maker\\nSeed words: fast, healthy, compact.\\nProduct names: HomeShaker, Fit Shaker, QuickShake, Shake Maker\\n\\nProduct description: A pair of shoes that can fit any foot size.\\nSeed words: adaptable, fit, omni-fit.\"\n",
    "\n",
    "print(prompt)"
   ]
  },
  {
   "cell_type": "code",
   "execution_count": null,
   "metadata": {
    "jupyter": {
     "outputs_hidden": false,
     "source_hidden": false
    },
    "nteract": {
     "transient": {
      "deleting": false
     }
    }
   },
   "outputs": [],
   "source": [
    "#Setting a few additional, typical parameters during API Call\n",
    "\n",
    "response = client.chat.completions.create(\n",
    "  model=model,\n",
    "  messages = [{\"role\":\"system\", \"content\":\"You are a helpful assistant.\"},\n",
    "               {\"role\":\"user\",\"content\":prompt}])\n",
    "\n",
    "response.choices[0].message.content"
   ]
  },
  {
   "attachments": {},
   "cell_type": "markdown",
   "metadata": {
    "nteract": {
     "transient": {
      "deleting": false
     }
    }
   },
   "source": [
    "# ਹਵਾਲੇ  \n",
    "- [Openai Cookbook](https://github.com/openai/openai-cookbook?WT.mc_id=academic-105485-koreyst)  \n",
    "- [OpenAI Studio Examples](https://oai.azure.com/portal?WT.mc_id=academic-105485-koreyst)  \n",
    "- [GPT-3 ਨੂੰ ਟੈਕਸਟ ਕਲਾਸੀਫਾਈ ਕਰਨ ਲਈ ਫਾਈਨ-ਟਿਊਨ ਕਰਨ ਦੇ ਸਭ ਤੋਂ ਵਧੀਆ ਤਰੀਕੇ](https://docs.google.com/document/d/1rqj7dkuvl7Byd5KQPUJRxc19BJt8wo0yHNwK84KfU3Q/edit#?WT.mc_id=academic-105485-koreyst)\n"
   ]
  },
  {
   "attachments": {},
   "cell_type": "markdown",
   "metadata": {
    "nteract": {
     "transient": {
      "deleting": false
     }
    }
   },
   "source": [
    "# ਹੋਰ ਮਦਦ ਲਈ  \n",
    "[OpenAI ਵਪਾਰਕ ਟੀਮ](AzureOpenAITeam@microsoft.com)\n"
   ]
  },
  {
   "attachments": {},
   "cell_type": "markdown",
   "metadata": {
    "nteract": {
     "transient": {
      "deleting": false
     }
    }
   },
   "source": [
    "# ਯੋਗਦਾਨੀ\n",
    "* Louis Li\n"
   ]
  },
  {
   "cell_type": "markdown",
   "metadata": {},
   "source": [
    "\n---\n\n**ਅਸਵੀਕਰਨ**:  \nਇਹ ਦਸਤਾਵੇਜ਼ AI ਅਨੁਵਾਦ ਸੇਵਾ [Co-op Translator](https://github.com/Azure/co-op-translator) ਦੀ ਵਰਤੋਂ ਕਰਕੇ ਅਨੁਵਾਦ ਕੀਤਾ ਗਿਆ ਹੈ। ਅਸੀਂ ਯਥਾਸੰਭਵ ਸਹੀ ਅਨੁਵਾਦ ਕਰਨ ਦੀ ਕੋਸ਼ਿਸ਼ ਕਰਦੇ ਹਾਂ, ਪਰ ਕਿਰਪਾ ਕਰਕੇ ਧਿਆਨ ਵਿੱਚ ਰੱਖੋ ਕਿ ਆਟੋਮੈਟਿਕ ਅਨੁਵਾਦ ਵਿੱਚ ਗਲਤੀਆਂ ਜਾਂ ਅਣਪੂਰੀਆਂ ਜਾਣਕਾਰੀਆਂ ਹੋ ਸਕਦੀਆਂ ਹਨ। ਮੂਲ ਭਾਸ਼ਾ ਵਿੱਚ ਲਿਖਿਆ ਦਸਤਾਵੇਜ਼ ਹੀ ਅਧਿਕਾਰਿਕ ਸਰੋਤ ਮੰਨਿਆ ਜਾਣਾ ਚਾਹੀਦਾ ਹੈ। ਮਹੱਤਵਪੂਰਨ ਜਾਣਕਾਰੀ ਲਈ, ਪੇਸ਼ੇਵਰ ਮਨੁੱਖੀ ਅਨੁਵਾਦ ਦੀ ਸਿਫ਼ਾਰਸ਼ ਕੀਤੀ ਜਾਂਦੀ ਹੈ। ਇਸ ਅਨੁਵਾਦ ਦੀ ਵਰਤੋਂ ਕਰਕੇ ਹੋਣ ਵਾਲੀਆਂ ਕਿਸੇ ਵੀ ਗਲਤਫਹਿਮੀ ਜਾਂ ਗਲਤ ਵਿਆਖਿਆ ਲਈ ਅਸੀਂ ਜ਼ਿੰਮੇਵਾਰ ਨਹੀਂ ਹਾਂ।\n"
   ]
  }
 ],
 "metadata": {
  "kernel_info": {
   "name": "python310-sdkv2"
  },
  "kernelspec": {
   "display_name": "base",
   "language": "python",
   "name": "python3"
  },
  "language_info": {
   "codemirror_mode": {
    "name": "ipython",
    "version": 3
   },
   "file_extension": ".py",
   "mimetype": "text/x-python",
   "name": "python",
   "nbconvert_exporter": "python",
   "pygments_lexer": "ipython3",
   "version": "3.10.13"
  },
  "microsoft": {
   "host": {
    "AzureML": {
     "notebookHasBeenCompleted": true
    }
   }
  },
  "nteract": {
   "version": "nteract-front-end@1.0.0"
  },
  "coopTranslator": {
   "original_hash": "1854bdde1dd56b366f1f6c9122f7d304",
   "translation_date": "2025-08-25T18:12:15+00:00",
   "source_file": "07-building-chat-applications/python/oai-assignment.ipynb",
   "language_code": "pa"
  }
 },
 "nbformat": 4,
 "nbformat_minor": 2
}