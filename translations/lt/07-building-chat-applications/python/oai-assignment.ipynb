{
 "cells": [
  {
   "attachments": {},
   "cell_type": "markdown",
   "metadata": {
    "nteract": {
     "transient": {
      "deleting": false
     }
    }
   },
   "source": [
    "# 7 skyrius: Pokalbių programėlių kūrimas\n",
    "## OpenAI API greitoji pradžia\n",
    "\n",
    "Šis užrašų sąsiuvinis pritaikytas iš [Azure OpenAI pavyzdžių saugyklos](https://github.com/Azure/azure-openai-samples?WT.mc_id=academic-105485-koreyst), kurioje rasite užrašų sąsiuvinius, leidžiančius naudotis [Azure OpenAI](notebook-azure-openai.ipynb) paslaugomis.\n",
    "\n",
    "Python OpenAI API taip pat veikia su Azure OpenAI modeliais, tik reikia atlikti keletą pakeitimų. Daugiau apie skirtumus galite sužinoti čia: [Kaip perjungti OpenAI ir Azure OpenAI galinius taškus naudojant Python](https://learn.microsoft.com/azure/ai-services/openai/how-to/switching-endpoints?WT.mc_id=academic-109527-jasmineg)\n"
   ]
  },
  {
   "attachments": {},
   "cell_type": "markdown",
   "metadata": {
    "nteract": {
     "transient": {
      "deleting": false
     }
    }
   },
   "source": [
    "# Apžvalga  \n",
    "„Dideli kalbos modeliai yra funkcijos, kurios tekstą paverčia tekstu. Gavęs įvesties teksto eilutę, didelis kalbos modelis bando nuspėti, koks tekstas bus toliau“(1). Šiame „greito starto“ užrašų knygelėje vartotojai susipažins su pagrindinėmis LLM sąvokomis, pagrindiniais paketais, reikalingais darbui su AML, lengvu įvadu į užklausų (promptų) kūrimą ir keletu trumpų skirtingų panaudojimo pavyzdžių.\n"
   ]
  },
  {
   "attachments": {},
   "cell_type": "markdown",
   "metadata": {
    "nteract": {
     "transient": {
      "deleting": false
     }
    }
   },
   "source": [
    "## Turinys  \n",
    "\n",
    "[Apžvalga](../../../../07-building-chat-applications/python)  \n",
    "[Kaip naudotis OpenAI paslauga](../../../../07-building-chat-applications/python)  \n",
    "[1. Kaip sukurti OpenAI paslaugą](../../../../07-building-chat-applications/python)  \n",
    "[2. Diegimas](../../../../07-building-chat-applications/python)    \n",
    "[3. Prisijungimo duomenys](../../../../07-building-chat-applications/python)  \n",
    "\n",
    "[Panaudojimo atvejai](../../../../07-building-chat-applications/python)    \n",
    "[1. Teksto santrauka](../../../../07-building-chat-applications/python)  \n",
    "[2. Teksto klasifikavimas](../../../../07-building-chat-applications/python)  \n",
    "[3. Nauji produktų pavadinimai](../../../../07-building-chat-applications/python)  \n",
    "[4. Klasifikatoriaus tobulinimas](../../../../07-building-chat-applications/python)  \n",
    "\n",
    "[Nuorodos](../../../../07-building-chat-applications/python)\n"
   ]
  },
  {
   "attachments": {},
   "cell_type": "markdown",
   "metadata": {
    "nteract": {
     "transient": {
      "deleting": false
     }
    }
   },
   "source": [
    "### Sukurkite savo pirmąjį užklausos pavyzdį  \n",
    "Ši trumpa užduotis supažindins su pagrindiniais žingsniais, kaip pateikti užklausas OpenAI modeliui atliekant paprastą užduotį – „santraukos“ kūrimą.\n",
    "\n",
    "\n",
    "**Žingsniai**:  \n",
    "1. Įdiekite OpenAI biblioteką savo python aplinkoje  \n",
    "2. Įkelkite standartines pagalbines bibliotekas ir nustatykite įprastus OpenAI saugumo duomenis savo sukurtai OpenAI paslaugai  \n",
    "3. Pasirinkite modelį savo užduočiai  \n",
    "4. Sukurkite paprastą užklausą modeliui  \n",
    "5. Pateikite savo užklausą modelio API!\n"
   ]
  },
  {
   "attachments": {},
   "cell_type": "markdown",
   "metadata": {
    "nteract": {
     "transient": {
      "deleting": false
     }
    }
   },
   "source": []
  },
  {
   "cell_type": "code",
   "execution_count": null,
   "metadata": {
    "gather": {
     "logged": 1674254990318
    },
    "jupyter": {
     "outputs_hidden": true,
     "source_hidden": false
    },
    "nteract": {
     "transient": {
      "deleting": false
     }
    }
   },
   "outputs": [],
   "source": [
    "%pip install openai python-dotenv"
   ]
  },
  {
   "attachments": {},
   "cell_type": "markdown",
   "metadata": {
    "nteract": {
     "transient": {
      "deleting": false
     }
    }
   },
   "source": []
  },
  {
   "cell_type": "code",
   "execution_count": null,
   "metadata": {
    "gather": {
     "logged": 1674829434433
    },
    "jupyter": {
     "outputs_hidden": false,
     "source_hidden": false
    },
    "nteract": {
     "transient": {
      "deleting": false
     }
    }
   },
   "outputs": [],
   "source": [
    "import os\n",
    "from openai import OpenAI\n",
    "from dotenv import load_dotenv\n",
    "\n",
    "load_dotenv()\n",
    "\n",
    "API_KEY = os.getenv(\"OPENAI_API_KEY\",\"\")\n",
    "assert API_KEY, \"ERROR: OpenAI Key is missing\"\n",
    "\n",
    "client = OpenAI(\n",
    "    api_key=API_KEY\n",
    "    )\n"
   ]
  },
  {
   "attachments": {},
   "cell_type": "markdown",
   "metadata": {
    "nteract": {
     "transient": {
      "deleting": false
     }
    }
   },
   "source": [
    "### 3. Tinkamo modelio pasirinkimas  \n",
    "GPT-3.5-turbo arba GPT-4 modeliai gali suprasti ir generuoti natūralią kalbą.\n"
   ]
  },
  {
   "cell_type": "code",
   "execution_count": null,
   "metadata": {
    "gather": {
     "logged": 1674742720788
    },
    "jupyter": {
     "outputs_hidden": true,
     "source_hidden": false
    },
    "nteract": {
     "transient": {
      "deleting": false
     }
    }
   },
   "outputs": [],
   "source": [
    "# Select the General Purpose curie model for text\n",
    "model = \"gpt-3.5-turbo\""
   ]
  },
  {
   "attachments": {},
   "cell_type": "markdown",
   "metadata": {
    "nteract": {
     "transient": {
      "deleting": false
     }
    }
   },
   "source": [
    "## 4. Užklausų kūrimas\n",
    "\n",
    "„Didžiausias kalbos modelių stebuklas yra tas, kad mokydamiesi sumažinti prognozavimo klaidą su milžiniškais tekstų kiekiais, modeliai išmoksta sąvokų, kurios padeda šioms prognozėms. Pavyzdžiui, jie išmoksta tokių dalykų kaip“(1):\n",
    "\n",
    "* kaip rašyti be klaidų\n",
    "* kaip veikia gramatika\n",
    "* kaip perfrazuoti mintis\n",
    "* kaip atsakyti į klausimus\n",
    "* kaip palaikyti pokalbį\n",
    "* kaip rašyti įvairiomis kalbomis\n",
    "* kaip programuoti\n",
    "* ir t. t.\n",
    "\n",
    "#### Kaip valdyti didelį kalbos modelį\n",
    "„Iš visų įvesties duomenų didžiausią įtaką dideliam kalbos modeliui daro tekstinė užklausa“(1).\n",
    "\n",
    "Dideli kalbos modeliai gali būti paskatinti generuoti atsakymus keliais būdais:\n",
    "\n",
    "Instrukcija: Pasakykite modeliui, ko norite\n",
    "Užbaigimas: Paskatinkite modelį užbaigti tai, ką pradėjote\n",
    "Demonstracija: Parodykite modeliui, ko norite, naudodami:\n",
    "Keletą pavyzdžių užklausoje\n",
    "Šimtus ar tūkstančius pavyzdžių specialiai paruoštame mokymo duomenų rinkinyje\n",
    "\n",
    "#### Yra trys pagrindinės užklausų kūrimo taisyklės:\n",
    "\n",
    "**Parodykite ir paaiškinkite.** Aiškiai nurodykite, ko norite – per instrukcijas, pavyzdžius arba jų derinį. Jei norite, kad modelis surikiuotų sąrašą abėcėlės tvarka arba priskirtų pastraipai emociją, parodykite, kad būtent to tikitės.\n",
    "\n",
    "**Naudokite kokybiškus duomenis.** Jei norite sukurti klasifikatorių arba kad modelis laikytųsi tam tikro šablono, įsitikinkite, kad pateikėte pakankamai pavyzdžių. Būtinai peržiūrėkite savo pavyzdžius – modelis dažnai pakankamai protingas, kad suprastų elementarias rašybos klaidas ir vis tiek pateiktų atsakymą, tačiau jis gali manyti, kad tai padaryta specialiai, ir tai gali paveikti rezultatą.\n",
    "\n",
    "**Patikrinkite nustatymus.** Parametrai temperature ir top_p lemia, kiek modelis bus nuspėjamas generuodamas atsakymą. Jei prašote atsakymo, kur yra tik vienas teisingas variantas, šiuos parametrus reikėtų nustatyti žemiau. Jei norite įvairesnių atsakymų, galite juos padidinti. Dažniausia klaida – manyti, kad šie nustatymai reguliuoja „išradingumą“ ar „kūrybiškumą“.\n",
    "\n",
    "Šaltinis: https://learn.microsoft.com/azure/ai-services/openai/overview\n"
   ]
  },
  {
   "attachments": {},
   "cell_type": "markdown",
   "metadata": {
    "nteract": {
     "transient": {
      "deleting": false
     }
    }
   },
   "source": []
  },
  {
   "cell_type": "code",
   "execution_count": null,
   "metadata": {
    "gather": {
     "logged": 1674494935186
    },
    "jupyter": {
     "outputs_hidden": false,
     "source_hidden": false
    },
    "nteract": {
     "transient": {
      "deleting": false
     }
    }
   },
   "outputs": [],
   "source": [
    "# Create your first prompt\n",
    "text_prompt = \"Should oxford commas always be used?\"\n",
    "\n",
    "response = client.chat.completions.create(\n",
    "  model=model,\n",
    "  messages = [{\"role\":\"system\", \"content\":\"You are a helpful assistant.\"},\n",
    "               {\"role\":\"user\",\"content\":text_prompt},])\n",
    "\n",
    "response.choices[0].message.content"
   ]
  },
  {
   "attachments": {},
   "cell_type": "markdown",
   "metadata": {
    "nteract": {
     "transient": {
      "deleting": false
     }
    }
   },
   "source": []
  },
  {
   "cell_type": "code",
   "execution_count": null,
   "metadata": {
    "gather": {
     "logged": 1674494940872
    },
    "jupyter": {
     "outputs_hidden": false,
     "source_hidden": false
    },
    "nteract": {
     "transient": {
      "deleting": false
     }
    }
   },
   "outputs": [],
   "source": [
    "\n",
    "response = client.chat.completions.create(\n",
    "  model=model,\n",
    "  messages = [{\"role\":\"system\", \"content\":\"You are a helpful assistant.\"},\n",
    "               {\"role\":\"user\",\"content\":text_prompt},])\n",
    "\n",
    "response.choices[0].message.content"
   ]
  },
  {
   "attachments": {},
   "cell_type": "markdown",
   "metadata": {
    "nteract": {
     "transient": {
      "deleting": false
     }
    }
   },
   "source": [
    "## Apibendrinti tekstą  \n",
    "#### Užduotis  \n",
    "Apibendrinkite tekstą, pridėdami „tl;dr:“ pabaigoje. Atkreipkite dėmesį, kaip modelis geba atlikti įvairias užduotis be papildomų nurodymų. Galite eksperimentuoti su išsamesniais raginimais nei tl;dr, kad pakeistumėte modelio elgesį ir pritaikytumėte gautą santrauką(3).  \n",
    "\n",
    "Naujausi tyrimai parodė reikšmingą pažangą daugelyje NLP užduočių ir etalonų, kai pirmiausia modeliai apmokomi su dideliu tekstų korpusu, o vėliau pritaikomi konkrečiai užduočiai. Nors tokia architektūra dažniausiai yra nepriklausoma nuo užduoties, vis tiek reikia tūkstančių ar dešimčių tūkstančių pavyzdžių specializuotam pritaikymui. Priešingai, žmonės dažniausiai gali atlikti naują kalbinę užduotį vos iš kelių pavyzdžių ar paprastų nurodymų – tai, su kuo dabartinės NLP sistemos vis dar sunkiai susidoroja. Čia parodome, kad didinant kalbos modelių mastą, žymiai pagerėja užduočiai nepriklausomas, kelių pavyzdžių veikimas, kartais net pasiekiant konkurencingumą su ankstesniais pažangiausiais pritaikymo metodais.  \n",
    "\n",
    "Tl;dr\n"
   ]
  },
  {
   "attachments": {},
   "cell_type": "markdown",
   "metadata": {
    "nteract": {
     "transient": {
      "deleting": false
     }
    }
   },
   "source": [
    "# Pratimai keliems naudojimo atvejams  \n",
    "1. Apibendrinti tekstą  \n",
    "2. Klasifikuoti tekstą  \n",
    "3. Generuoti naujus produktų pavadinimus\n"
   ]
  },
  {
   "cell_type": "code",
   "execution_count": null,
   "metadata": {
    "gather": {
     "logged": 1674495198534
    },
    "jupyter": {
     "outputs_hidden": false,
     "source_hidden": false
    },
    "nteract": {
     "transient": {
      "deleting": false
     }
    }
   },
   "outputs": [],
   "source": [
    "prompt = \"Recent work has demonstrated substantial gains on many NLP tasks and benchmarks by pre-training on a large corpus of text followed by fine-tuning on a specific task. While typically task-agnostic in architecture, this method still requires task-specific fine-tuning datasets of thousands or tens of thousands of examples. By contrast, humans can generally perform a new language task from only a few examples or from simple instructions - something that current NLP systems still largely struggle to do. Here we show that scaling up language models greatly improves task-agnostic, few-shot performance, sometimes even reaching competitiveness with prior state-of-the-art fine-tuning approaches.\\n\\nTl;dr\"\n"
   ]
  },
  {
   "cell_type": "code",
   "execution_count": null,
   "metadata": {
    "gather": {
     "logged": 1674495201868
    },
    "jupyter": {
     "outputs_hidden": false,
     "source_hidden": false
    },
    "nteract": {
     "transient": {
      "deleting": false
     }
    }
   },
   "outputs": [],
   "source": [
    "#Setting a few additional, typical parameters during API Call\n",
    "\n",
    "response = client.chat.completions.create(\n",
    "  model=model,\n",
    "  messages = [{\"role\":\"system\", \"content\":\"You are a helpful assistant.\"},\n",
    "               {\"role\":\"user\",\"content\":prompt},])\n",
    "\n",
    "response.choices[0].message.content"
   ]
  },
  {
   "attachments": {},
   "cell_type": "markdown",
   "metadata": {
    "nteract": {
     "transient": {
      "deleting": false
     }
    }
   },
   "source": [
    "## Klasifikuoti tekstą  \n",
    "#### Iššūkis  \n",
    "Klasifikuokite elementus į kategorijas, kurios pateikiamos užklausos metu. Šiame pavyzdyje tiek kategorijos, tiek tekstas klasifikavimui yra pateikiami užklausoje (*playground_reference).\n",
    "\n",
    "Kliento užklausa: Sveiki, neseniai sulūžo vienas mano nešiojamojo kompiuterio klaviatūros klavišas ir man reikės pakeitimo:\n",
    "\n",
    "Klasifikuota kategorija:\n"
   ]
  },
  {
   "cell_type": "code",
   "execution_count": null,
   "metadata": {
    "gather": {
     "logged": 1674499424645
    },
    "jupyter": {
     "outputs_hidden": false,
     "source_hidden": false
    },
    "nteract": {
     "transient": {
      "deleting": false
     }
    }
   },
   "outputs": [],
   "source": [
    "prompt = \"Classify the following inquiry into one of the following: categories: [Pricing, Hardware Support, Software Support]\\n\\ninquiry: Hello, one of the keys on my laptop keyboard broke recently and I'll need a replacement:\\n\\nClassified category:\"\n",
    "print(prompt)"
   ]
  },
  {
   "cell_type": "code",
   "execution_count": null,
   "metadata": {
    "gather": {
     "logged": 1674499378518
    },
    "jupyter": {
     "outputs_hidden": false,
     "source_hidden": false
    },
    "nteract": {
     "transient": {
      "deleting": false
     }
    }
   },
   "outputs": [],
   "source": [
    "#Setting a few additional, typical parameters during API Call\n",
    "\n",
    "response = client.chat.completions.create(\n",
    "  model=model,\n",
    "  messages = [{\"role\":\"system\", \"content\":\"You are a helpful assistant.\"},\n",
    "               {\"role\":\"user\",\"content\":prompt},])\n",
    "\n",
    "response.choices[0].message.content"
   ]
  },
  {
   "attachments": {},
   "cell_type": "markdown",
   "metadata": {
    "nteract": {
     "transient": {
      "deleting": false
     }
    }
   },
   "source": [
    "## Generuokite naujus produktų pavadinimus\n",
    "#### Užduotis\n",
    "Sukurkite produktų pavadinimus pagal pateiktus pavyzdinius žodžius. Čia pateikiame informaciją apie produktą, kuriam kursime pavadinimus. Taip pat pateikiame panašų pavyzdį, kad parodytume, kokio tipo atsakymo tikimės. Temperatūros reikšmę nustatėme aukštą, kad atsakymai būtų įvairesni ir kūrybiškesni.\n",
    "\n",
    "Produkto aprašymas: Namų pieno kokteilių plakiklis  \n",
    "Raktiniai žodžiai: greitas, sveikas, kompaktiškas.  \n",
    "Produktų pavadinimai: HomeShaker, Fit Shaker, QuickShake, Shake Maker\n",
    "\n",
    "Produkto aprašymas: Batai, tinkantys bet kokio dydžio pėdai.  \n",
    "Raktiniai žodžiai: prisitaikantis, tinkantis, omni-fit.\n"
   ]
  },
  {
   "cell_type": "code",
   "execution_count": null,
   "metadata": {
    "gather": {
     "logged": 1674257087279
    },
    "jupyter": {
     "outputs_hidden": false,
     "source_hidden": false
    },
    "nteract": {
     "transient": {
      "deleting": false
     }
    }
   },
   "outputs": [],
   "source": [
    "prompt = \"Product description: A home milkshake maker\\nSeed words: fast, healthy, compact.\\nProduct names: HomeShaker, Fit Shaker, QuickShake, Shake Maker\\n\\nProduct description: A pair of shoes that can fit any foot size.\\nSeed words: adaptable, fit, omni-fit.\"\n",
    "\n",
    "print(prompt)"
   ]
  },
  {
   "cell_type": "code",
   "execution_count": null,
   "metadata": {
    "jupyter": {
     "outputs_hidden": false,
     "source_hidden": false
    },
    "nteract": {
     "transient": {
      "deleting": false
     }
    }
   },
   "outputs": [],
   "source": [
    "#Setting a few additional, typical parameters during API Call\n",
    "\n",
    "response = client.chat.completions.create(\n",
    "  model=model,\n",
    "  messages = [{\"role\":\"system\", \"content\":\"You are a helpful assistant.\"},\n",
    "               {\"role\":\"user\",\"content\":prompt}])\n",
    "\n",
    "response.choices[0].message.content"
   ]
  },
  {
   "attachments": {},
   "cell_type": "markdown",
   "metadata": {
    "nteract": {
     "transient": {
      "deleting": false
     }
    }
   },
   "source": [
    "# Nuorodos  \n",
    "- [Openai Cookbook](https://github.com/openai/openai-cookbook?WT.mc_id=academic-105485-koreyst)  \n",
    "- [OpenAI Studio Pavyzdžiai](https://oai.azure.com/portal?WT.mc_id=academic-105485-koreyst)  \n",
    "- [Geriausia praktika GPT-3 pritaikymui teksto klasifikavimui](https://docs.google.com/document/d/1rqj7dkuvl7Byd5KQPUJRxc19BJt8wo0yHNwK84KfU3Q/edit#?WT.mc_id=academic-105485-koreyst)\n"
   ]
  },
  {
   "attachments": {},
   "cell_type": "markdown",
   "metadata": {
    "nteract": {
     "transient": {
      "deleting": false
     }
    }
   },
   "source": [
    "# Daugiau pagalbos  \n",
    "[OpenAI komercializacijos komanda](AzureOpenAITeam@microsoft.com)\n"
   ]
  },
  {
   "attachments": {},
   "cell_type": "markdown",
   "metadata": {
    "nteract": {
     "transient": {
      "deleting": false
     }
    }
   },
   "source": [
    "# Bendradarbiai\n",
    "* Louis Li\n"
   ]
  },
  {
   "cell_type": "markdown",
   "metadata": {},
   "source": [
    "\n---\n\n**Atsakomybės atsisakymas**:  \nŠis dokumentas buvo išverstas naudojant dirbtinio intelekto vertimo paslaugą [Co-op Translator](https://github.com/Azure/co-op-translator). Nors siekiame tikslumo, atkreipkite dėmesį, kad automatiniai vertimai gali turėti klaidų ar netikslumų. Originalus dokumentas jo gimtąja kalba turėtų būti laikomas autoritetingu šaltiniu. Svarbiai informacijai rekomenduojamas profesionalus žmogaus vertimas. Mes neprisiimame atsakomybės už bet kokius nesusipratimus ar neteisingą interpretavimą, kilusį naudojantis šiuo vertimu.\n"
   ]
  }
 ],
 "metadata": {
  "kernel_info": {
   "name": "python310-sdkv2"
  },
  "kernelspec": {
   "display_name": "base",
   "language": "python",
   "name": "python3"
  },
  "language_info": {
   "codemirror_mode": {
    "name": "ipython",
    "version": 3
   },
   "file_extension": ".py",
   "mimetype": "text/x-python",
   "name": "python",
   "nbconvert_exporter": "python",
   "pygments_lexer": "ipython3",
   "version": "3.10.13"
  },
  "microsoft": {
   "host": {
    "AzureML": {
     "notebookHasBeenCompleted": true
    }
   }
  },
  "nteract": {
   "version": "nteract-front-end@1.0.0"
  },
  "coopTranslator": {
   "original_hash": "1854bdde1dd56b366f1f6c9122f7d304",
   "translation_date": "2025-08-25T18:34:53+00:00",
   "source_file": "07-building-chat-applications/python/oai-assignment.ipynb",
   "language_code": "lt"
  }
 },
 "nbformat": 4,
 "nbformat_minor": 2
}