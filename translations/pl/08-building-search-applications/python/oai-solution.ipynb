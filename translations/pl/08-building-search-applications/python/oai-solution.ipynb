{
 "cells": [
  {
   "cell_type": "markdown",
   "metadata": {},
   "source": [
    "Aby uruchomić poniższe notatniki, jeśli jeszcze tego nie zrobiłeś, musisz ustawić klucz openai w pliku .env jako `OPENAI_API_KEY`\n"
   ]
  },
  {
   "cell_type": "code",
   "execution_count": null,
   "metadata": {},
   "outputs": [],
   "source": [
    "import os\n",
    "import pandas as pd\n",
    "import numpy as np\n",
    "from openai import OpenAI\n",
    "from dotenv import load_dotenv\n",
    "\n",
    "load_dotenv()\n",
    "\n",
    "API_KEY = os.getenv(\"OPENAI_API_KEY\",\"\")\n",
    "assert API_KEY, \"ERROR: OpenAI Key is missing\"\n",
    "\n",
    "client = OpenAI(\n",
    "    api_key=API_KEY\n",
    "    )\n",
    "\n",
    "model = 'text-embedding-ada-002'\n",
    "\n",
    "SIMILARITIES_RESULTS_THRESHOLD = 0.75\n",
    "DATASET_NAME = \"../embedding_index_3m.json\""
   ]
  },
  {
   "cell_type": "markdown",
   "metadata": {},
   "source": [
    "Następnie załadujemy Indeks Osadzeń do ramki danych Pandas. Indeks Osadzeń jest przechowywany w pliku JSON o nazwie `embedding_index_3m.json`. Indeks Osadzeń zawiera osadzenia dla każdego z transkryptów YouTube aż do końca października 2023 roku.\n"
   ]
  },
  {
   "cell_type": "code",
   "execution_count": null,
   "metadata": {},
   "outputs": [],
   "source": [
    "def load_dataset(source: str) -> pd.core.frame.DataFrame:\n",
    "    # Load the video session index\n",
    "    pd_vectors = pd.read_json(source)\n",
    "    return pd_vectors.drop(columns=[\"text\"], errors=\"ignore\").fillna(\"\")"
   ]
  },
  {
   "cell_type": "markdown",
   "metadata": {},
   "source": [
    "Następnie stworzymy funkcję o nazwie `get_videos`, która przeszuka Indeks Osadzeń (Embedding Index) na podstawie zapytania. Funkcja zwróci 5 filmów najbardziej podobnych do zapytania. Działanie funkcji wygląda następująco:\n",
    "\n",
    "1. Najpierw tworzona jest kopia Indeksu Osadzeń.\n",
    "2. Następnie, dla zapytania obliczane jest osadzenie (Embedding) przy użyciu OpenAI Embedding API.\n",
    "3. Potem w Indeksie Osadzeń tworzona jest nowa kolumna o nazwie `similarity`. Kolumna `similarity` zawiera wartość kosinusowej miary podobieństwa pomiędzy osadzeniem zapytania a osadzeniem każdego segmentu wideo.\n",
    "4. Następnie Indeks Osadzeń jest filtrowany według kolumny `similarity`. Indeks zostaje ograniczony tylko do tych filmów, które mają kosinusową miarę podobieństwa większą lub równą 0,75.\n",
    "5. Na końcu Indeks Osadzeń jest sortowany według kolumny `similarity` i zwracane jest 5 najlepszych filmów.\n"
   ]
  },
  {
   "cell_type": "code",
   "execution_count": null,
   "metadata": {},
   "outputs": [],
   "source": [
    "def cosine_similarity(a, b):\n",
    "    return np.dot(a, b) / (np.linalg.norm(a) * np.linalg.norm(b))\n",
    "\n",
    "def get_videos(\n",
    "    query: str, dataset: pd.core.frame.DataFrame, rows: int\n",
    ") -> pd.core.frame.DataFrame:\n",
    "    # create a copy of the dataset\n",
    "    video_vectors = dataset.copy()\n",
    "\n",
    "    # get the embeddings for the query    \n",
    "    query_embeddings = client.embeddings.create(input=query, model=model).data[0].embedding\n",
    "\n",
    "    # create a new column with the calculated similarity for each row\n",
    "    video_vectors[\"similarity\"] = video_vectors[\"ada_v2\"].apply(\n",
    "        lambda x: cosine_similarity(np.array(query_embeddings), np.array(x))\n",
    "    )\n",
    "\n",
    "    # filter the videos by similarity\n",
    "    mask = video_vectors[\"similarity\"] >= SIMILARITIES_RESULTS_THRESHOLD\n",
    "    video_vectors = video_vectors[mask].copy()\n",
    "\n",
    "    # sort the videos by similarity\n",
    "    video_vectors = video_vectors.sort_values(by=\"similarity\", ascending=False).head(\n",
    "        rows\n",
    "    )\n",
    "\n",
    "    # return the top rows\n",
    "    return video_vectors.head(rows)"
   ]
  },
  {
   "cell_type": "markdown",
   "metadata": {},
   "source": [
    "Ta funkcja jest bardzo prosta, po prostu wyświetla wyniki zapytania wyszukiwania.\n"
   ]
  },
  {
   "cell_type": "code",
   "execution_count": null,
   "metadata": {},
   "outputs": [],
   "source": [
    "def display_results(videos: pd.core.frame.DataFrame, query: str):\n",
    "    def _gen_yt_url(video_id: str, seconds: int) -> str:\n",
    "        \"\"\"convert time in format 00:00:00 to seconds\"\"\"\n",
    "        return f\"https://youtu.be/{video_id}?t={seconds}\"\n",
    "\n",
    "    print(f\"\\nVideos similar to '{query}':\")\n",
    "    for _, row in videos.iterrows():\n",
    "        youtube_url = _gen_yt_url(row[\"videoId\"], row[\"seconds\"])\n",
    "        print(f\" - {row['title']}\")\n",
    "        print(f\"   Summary: {' '.join(row['summary'].split()[:15])}...\")\n",
    "        print(f\"   YouTube: {youtube_url}\")\n",
    "        print(f\"   Similarity: {row['similarity']}\")\n",
    "        print(f\"   Speakers: {row['speaker']}\")"
   ]
  },
  {
   "cell_type": "markdown",
   "metadata": {},
   "source": [
    "1. Najpierw indeks osadzeń jest ładowany do DataFrame Pandas.\n",
    "2. Następnie użytkownik zostaje poproszony o wpisanie zapytania.\n",
    "3. Potem wywoływana jest funkcja `get_videos`, aby przeszukać indeks osadzeń pod kątem zapytania.\n",
    "4. Na końcu wywoływana jest funkcja `display_results`, która wyświetla wyniki użytkownikowi.\n",
    "5. Użytkownik jest ponownie proszony o wpisanie kolejnego zapytania. Proces ten powtarza się, dopóki użytkownik nie wpisze `exit`.\n",
    "\n",
    "![](../../../../translated_images/notebook-search.1e320b9c7fcbb0bc1436d98ea6ee73b4b54ca47990a1c952b340a2cadf8ac1ca.pl.png)\n",
    "\n",
    "Zostaniesz poproszony o wpisanie zapytania. Wpisz zapytanie i naciśnij enter. Aplikacja zwróci listę filmów powiązanych z zapytaniem. Otrzymasz także link do miejsca w filmie, gdzie znajduje się odpowiedź na pytanie.\n",
    "\n",
    "Oto przykładowe zapytania, które możesz wypróbować:\n",
    "\n",
    "- Czym jest Azure Machine Learning?\n",
    "- Jak działają konwolucyjne sieci neuronowe?\n",
    "- Co to jest sieć neuronowa?\n",
    "- Czy mogę używać Jupyter Notebooks z Azure Machine Learning?\n",
    "- Co to jest ONNX?\n"
   ]
  },
  {
   "cell_type": "code",
   "execution_count": null,
   "metadata": {},
   "outputs": [],
   "source": [
    "pd_vectors = load_dataset(DATASET_NAME)\n",
    "\n",
    "# get user query from imput\n",
    "while True:\n",
    "    query = input(\"Enter a query: \")\n",
    "    if query == \"exit\":\n",
    "        break\n",
    "    videos = get_videos(query, pd_vectors, 5)\n",
    "    display_results(videos, query)"
   ]
  },
  {
   "cell_type": "markdown",
   "metadata": {},
   "source": []
  },
  {
   "cell_type": "markdown",
   "metadata": {},
   "source": [
    "\n---\n\n**Zastrzeżenie**:  \nTen dokument został przetłumaczony przy użyciu usługi tłumaczenia AI [Co-op Translator](https://github.com/Azure/co-op-translator). Dokładamy wszelkich starań, aby tłumaczenie było poprawne, jednak należy pamiętać, że automatyczne tłumaczenia mogą zawierać błędy lub nieścisłości. Oryginalny dokument w jego rodzimym języku powinien być uznawany za źródło nadrzędne. W przypadku informacji o kluczowym znaczeniu zalecane jest skorzystanie z profesjonalnych usług tłumacza. Nie ponosimy odpowiedzialności za jakiekolwiek nieporozumienia lub błędne interpretacje wynikające z korzystania z tego tłumaczenia.\n"
   ]
  }
 ],
 "metadata": {
  "kernelspec": {
   "display_name": "venv",
   "language": "python",
   "name": "python3"
  },
  "language_info": {
   "codemirror_mode": {
    "name": "ipython",
    "version": 3
   },
   "file_extension": ".py",
   "mimetype": "text/x-python",
   "name": "python",
   "nbconvert_exporter": "python",
   "pygments_lexer": "ipython3",
   "version": "3.10.13"
  },
  "coopTranslator": {
   "original_hash": "2c0494ceb4f5fc618a6abda0b5c09c73",
   "translation_date": "2025-08-25T18:58:17+00:00",
   "source_file": "08-building-search-applications/python/oai-solution.ipynb",
   "language_code": "pl"
  }
 },
 "nbformat": 4,
 "nbformat_minor": 2
}