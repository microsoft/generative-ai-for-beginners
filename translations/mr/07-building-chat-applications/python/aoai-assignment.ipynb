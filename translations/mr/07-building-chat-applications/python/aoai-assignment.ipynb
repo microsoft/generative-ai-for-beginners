{
 "cells": [
  {
   "attachments": {},
   "cell_type": "markdown",
   "metadata": {
    "nteract": {
     "transient": {
      "deleting": false
     }
    }
   },
   "source": [
    "# अध्याय ७: चॅट अनुप्रयोग तयार करणे\n",
    "## Azure OpenAI API जलद प्रारंभ\n"
   ]
  },
  {
   "attachments": {},
   "cell_type": "markdown",
   "metadata": {
    "nteract": {
     "transient": {
      "deleting": false
     }
    }
   },
   "source": [
    "## आढावा\n",
    "हा नोटबुक [Azure OpenAI Samples Repository](https://github.com/Azure/azure-openai-samples?WT.mc_id=academic-105485-koreyst) मधून घेतला आहे, ज्यामध्ये असे नोटबुक्स आहेत जे [OpenAI](notebook-openai.ipynb) सेवेला देखील वापरतात.\n",
    "\n",
    "Python OpenAI API, Azure OpenAI सोबत देखील काही बदलांसह काम करते. या फरकांबद्दल अधिक जाणून घ्या: [Python वापरून OpenAI आणि Azure OpenAI endpoints मध्ये कसे स्विच करावे](https://learn.microsoft.com/azure/ai-services/openai/how-to/switching-endpoints?WT.mc_id=academic-109527-jasmineg)\n",
    "\n",
    "अधिक जलद सुरुवात उदाहरणांसाठी कृपया अधिकृत [Azure OpenAI Quickstart Documentation](https://learn.microsoft.com/azure/cognitive-services/openai/quickstart?pivots=programming-language-studio&WT.mc_id=academic-105485-koreyst) पहा.\n"
   ]
  },
  {
   "attachments": {},
   "cell_type": "markdown",
   "metadata": {
    "nteract": {
     "transient": {
      "deleting": false
     }
    }
   },
   "source": [
    "## विषय सूची  \n",
    "\n",
    "[आढावा](../../../../07-building-chat-applications/python)  \n",
    "[Azure OpenAI Service सोबत सुरुवात करा](../../../../07-building-chat-applications/python)  \n",
    "[तुमचा पहिला प्रॉम्प्ट तयार करा](../../../../07-building-chat-applications/python)  \n",
    "\n",
    "[वापराचे प्रकार](../../../../07-building-chat-applications/python)    \n",
    "[1. मजकूराचा सारांश काढा](../../../../07-building-chat-applications/python)  \n",
    "[2. मजकूर वर्गीकृत करा](../../../../07-building-chat-applications/python)  \n",
    "[3. नवीन उत्पादनांची नावे तयार करा](../../../../07-building-chat-applications/python)  \n",
    "[4. वर्गीकरणासाठी फाइन ट्यूनिंग करा](../../../../07-building-chat-applications/python)  \n",
    "[5. एम्बेडिंग्ज](../../../../07-building-chat-applications/python)\n",
    "\n",
    "[संदर्भ](../../../../07-building-chat-applications/python)\n"
   ]
  },
  {
   "attachments": {},
   "cell_type": "markdown",
   "metadata": {
    "nteract": {
     "transient": {
      "deleting": false
     }
    }
   },
   "source": [
    "### Azure OpenAI Service सोबत सुरुवात कशी करावी\n",
    "\n",
    "नवीन ग्राहकांना Azure OpenAI Service साठी [प्रवेशासाठी अर्ज](https://aka.ms/oai/access?WT.mc_id=academic-105485-koreyst) करावा लागेल.  \n",
    "मंजुरी मिळाल्यानंतर, ग्राहक Azure पोर्टलमध्ये लॉग इन करू शकतात, Azure OpenAI Service संसाधन तयार करू शकतात, आणि स्टुडिओद्वारे मॉडेल्सवर प्रयोग सुरू करू शकतात  \n",
    "\n",
    "[जलद सुरुवात करण्यासाठी उत्तम स्रोत](https://techcommunity.microsoft.com/blog/educatordeveloperblog/azure-openai-service-is-now-generally-available/3719177?WT.mc_id=academic-105485-koreyst)\n"
   ]
  },
  {
   "attachments": {},
   "cell_type": "markdown",
   "metadata": {
    "nteract": {
     "transient": {
      "deleting": false
     }
    }
   },
   "source": [
    "### आपला पहिला प्रॉम्प्ट तयार करा  \n",
    "ही छोटी सराव क्रिया तुम्हाला OpenAI मॉडेलला \"सारांश\" या सोप्या कामासाठी प्रॉम्प्ट कसे द्यायचे याची मूलभूत ओळख करून देईल.\n",
    "\n",
    "**पायऱ्या**:  \n",
    "1. आपल्या python वातावरणात OpenAI लायब्ररी इंस्टॉल करा  \n",
    "2. नेहमी वापरल्या जाणाऱ्या सहाय्यक लायब्ररी लोड करा आणि तुम्ही तयार केलेल्या OpenAI सेवेसाठी सुरक्षा credentials सेट करा  \n",
    "3. आपल्या कामासाठी एक मॉडेल निवडा  \n",
    "4. मॉडेलसाठी एक सोपा प्रॉम्प्ट तयार करा  \n",
    "5. आपल्या विनंतीला मॉडेल API ला सबमिट करा!\n"
   ]
  },
  {
   "attachments": {},
   "cell_type": "markdown",
   "metadata": {
    "nteract": {
     "transient": {
      "deleting": false
     }
    }
   },
   "source": []
  },
  {
   "cell_type": "markdown",
   "metadata": {},
   "source": [
    "> [!NOTE] हे पाऊल आवश्यक नाही जर तुम्ही हे नोटबुक Codespaces वर किंवा Devcontainer मध्ये चालवत असाल\n"
   ]
  },
  {
   "cell_type": "code",
   "execution_count": null,
   "metadata": {
    "gather": {
     "logged": 1674254990318
    },
    "jupyter": {
     "outputs_hidden": true,
     "source_hidden": false
    },
    "nteract": {
     "transient": {
      "deleting": false
     }
    }
   },
   "outputs": [],
   "source": [
    "%pip install openai python-dotenv"
   ]
  },
  {
   "attachments": {},
   "cell_type": "markdown",
   "metadata": {
    "nteract": {
     "transient": {
      "deleting": false
     }
    }
   },
   "source": []
  },
  {
   "cell_type": "code",
   "execution_count": null,
   "metadata": {
    "gather": {
     "logged": 1674829434433
    },
    "jupyter": {
     "outputs_hidden": false,
     "source_hidden": false
    },
    "nteract": {
     "transient": {
      "deleting": false
     }
    }
   },
   "outputs": [],
   "source": [
    "import os\n",
    "from openai import AzureOpenAI\n",
    "import numpy as np\n",
    "from dotenv import load_dotenv\n",
    "load_dotenv()\n",
    "\n",
    "#validate data inside .env file\n",
    "\n",
    "client = AzureOpenAI(\n",
    "  api_key=os.environ['AZURE_OPENAI_API_KEY'],  # this is also the default, it can be omitted\n",
    "  api_version = \"2023-05-15\"\n",
    "  )"
   ]
  },
  {
   "attachments": {},
   "cell_type": "markdown",
   "metadata": {
    "nteract": {
     "transient": {
      "deleting": false
     }
    }
   },
   "source": [
    "### ३. योग्य मॉडेल शोधणे  \n",
    "GPT-3.5-turbo किंवा GPT-4 मॉडेल्स नैसर्गिक भाषा समजून घेऊ शकतात आणि तयार करू शकतात. ही सेवा चार वेगवेगळ्या क्षमतेची मॉडेल्स देते, ज्यामध्ये वेगवेगळ्या कार्यांसाठी वेगवेगळ्या पातळीची ताकद आणि गती असते.\n",
    "\n",
    "[Azure OpenAI मॉडेल्स](https://learn.microsoft.com/azure/cognitive-services/openai/concepts/models?WT.mc_id=academic-105485-koreyst)\n"
   ]
  },
  {
   "cell_type": "code",
   "execution_count": null,
   "metadata": {
    "gather": {
     "logged": 1674742720788
    },
    "jupyter": {
     "outputs_hidden": true,
     "source_hidden": false
    },
    "nteract": {
     "transient": {
      "deleting": false
     }
    }
   },
   "outputs": [],
   "source": [
    "# Select the General Purpose curie model for text\n",
    "model = os.environ['AZURE_OPENAI_DEPLOYMENT']"
   ]
  },
  {
   "attachments": {},
   "cell_type": "markdown",
   "metadata": {
    "nteract": {
     "transient": {
      "deleting": false
     }
    }
   },
   "source": [
    "## 4. प्रॉम्प्ट डिझाइन\n",
    "\n",
    "\"मोठ्या भाषा मॉडेल्सची जादू म्हणजे, प्रचंड प्रमाणात मजकूरावर हा अंदाज त्रुटी कमी करण्यासाठी प्रशिक्षण दिल्याने, हे मॉडेल्स या अंदाजांसाठी उपयुक्त संकल्पना शिकतात. उदाहरणार्थ, ते अशा संकल्पना शिकतात जसे की\"(1):\n",
    "\n",
    "* शब्द कसे लिहायचे\n",
    "* व्याकरण कसे कार्य करते\n",
    "* वाक्य कसे बदलायचे\n",
    "* प्रश्नांची उत्तरे कशी द्यायची\n",
    "* संभाषण कसे चालवायचे\n",
    "* अनेक भाषांमध्ये कसे लिहायचे\n",
    "* कोड कसा लिहायचा\n",
    "* इत्यादी\n",
    "\n",
    "#### मोठ्या भाषा मॉडेलला कसे नियंत्रित करावे\n",
    "\"मोठ्या भाषा मॉडेलसाठी सर्व इनपुट्सपैकी, सर्वात प्रभावी म्हणजे मजकूर प्रॉम्प्ट\"(1).\n",
    "\n",
    "मोठ्या भाषा मॉडेल्सना काही पद्धतींनी आउटपुट देण्यासाठी प्रॉम्प्ट करता येते:\n",
    "\n",
    "- सूचना: मॉडेलला तुम्हाला काय हवे आहे ते सांगा\n",
    "- पूर्णता: तुम्हाला हवे असलेल्या गोष्टीची सुरुवात दिल्यावर मॉडेलला ती पूर्ण करायला लावा\n",
    "- प्रात्यक्षिक: मॉडेलला तुम्हाला काय हवे आहे ते दाखवा, यासाठी:\n",
    "- प्रॉम्प्टमध्ये काही उदाहरणे द्या\n",
    "- फाइन-ट्यूनिंग ट्रेनिंग डेटासेटमध्ये शेकडो किंवा हजारो उदाहरणे द्या\n",
    "\n",
    "#### प्रॉम्प्ट तयार करताना तीन मूलभूत मार्गदर्शक तत्त्वे आहेत:\n",
    "\n",
    "**दाखवा आणि सांगा**. तुम्हाला काय हवे आहे ते स्पष्ट करा, सूचना, उदाहरणे किंवा दोन्हींच्या संयोजनाने. जर तुम्हाला मॉडेलने वस्तूंची यादी वर्णानुक्रमाने लावावी किंवा परिच्छेदाचा भावनानुसार वर्गीकरण करावे असे वाटत असेल, तर ते तसेच दाखवा.\n",
    "\n",
    "**उत्तम दर्जाचा डेटा द्या**. जर तुम्ही वर्गीकरण करणारे मॉडेल तयार करत असाल किंवा मॉडेलने काही नमुना पाळावा अशी अपेक्षा करत असाल, तर पुरेशी उदाहरणे आहेत याची खात्री करा. तुमची उदाहरणे नीट तपासा — मॉडेल साध्या स्पेलिंगच्या चुका ओळखू शकते आणि उत्तर देऊ शकते, पण कधी कधी ते मुद्दाम केले आहे असे गृहीत धरू शकते आणि त्यामुळे उत्तरावर परिणाम होऊ शकतो.\n",
    "\n",
    "**तुमच्या सेटिंग्ज तपासा.** temperature आणि top_p या सेटिंग्जमुळे मॉडेल किती ठराविक पद्धतीने उत्तर देते हे ठरते. जर तुम्ही असे उत्तर विचारत असाल ज्याचे एकच बरोबर उत्तर आहे, तर हे सेटिंग्ज कमी ठेवा. जर तुम्हाला अधिक विविध उत्तरे हवी असतील, तर ही सेटिंग्ज जास्त ठेवा. लोक या सेटिंग्जबद्दल सर्वात जास्त चूक करतात ती म्हणजे, हे \"चातुर्य\" किंवा \"सर्जनशीलता\" नियंत्रित करतात असे समजणे.\n",
    "\n",
    "स्रोत: https://learn.microsoft.com/azure/ai-services/openai/overview\n"
   ]
  },
  {
   "attachments": {},
   "cell_type": "markdown",
   "metadata": {
    "nteract": {
     "transient": {
      "deleting": false
     }
    }
   },
   "source": []
  },
  {
   "attachments": {},
   "cell_type": "markdown",
   "metadata": {
    "nteract": {
     "transient": {
      "deleting": false
     }
    }
   },
   "source": []
  },
  {
   "cell_type": "code",
   "execution_count": null,
   "metadata": {
    "gather": {
     "logged": 1674494935186
    },
    "jupyter": {
     "outputs_hidden": false,
     "source_hidden": false
    },
    "nteract": {
     "transient": {
      "deleting": false
     }
    }
   },
   "outputs": [],
   "source": [
    "# Create your first prompt\n",
    "text_prompt = \"Should oxford commas always be used?\"\n",
    "\n",
    "response = client.chat.completions.create(\n",
    "  model=model,\n",
    "  messages = [{\"role\":\"system\", \"content\":\"You are a helpful assistant.\"},\n",
    "               {\"role\":\"user\",\"content\":text_prompt},])\n",
    "\n",
    "response.choices[0].message.content"
   ]
  },
  {
   "attachments": {},
   "cell_type": "markdown",
   "metadata": {
    "nteract": {
     "transient": {
      "deleting": false
     }
    }
   },
   "source": []
  },
  {
   "cell_type": "code",
   "execution_count": null,
   "metadata": {
    "gather": {
     "logged": 1674494940872
    },
    "jupyter": {
     "outputs_hidden": false,
     "source_hidden": false
    },
    "nteract": {
     "transient": {
      "deleting": false
     }
    }
   },
   "outputs": [],
   "source": [
    "\n",
    "response = client.chat.completions.create(\n",
    "  model=model,\n",
    "  messages = [{\"role\":\"system\", \"content\":\"You are a helpful assistant.\"},\n",
    "               {\"role\":\"user\",\"content\":text_prompt},])\n",
    "\n",
    "response.choices[0].message.content"
   ]
  },
  {
   "attachments": {},
   "cell_type": "markdown",
   "metadata": {
    "nteract": {
     "transient": {
      "deleting": false
     }
    }
   },
   "source": [
    "## मजकूराचा सारांश  \n",
    "#### आव्हान  \n",
    "मजकूराचा शेवटी 'tl;dr:' जोडून त्याचा सारांश द्या. लक्षात घ्या की मॉडेल कोणतीही अतिरिक्त सूचना न देता अनेक कामे कशी पार पाडते हे समजते. तुम्ही tl;dr पेक्षा अधिक वर्णनात्मक सूचनांसह प्रयोग करू शकता, ज्यामुळे मॉडेलचे वर्तन बदलता येते आणि तुम्हाला हवा असलेला सारांश मिळवता येतो(3).\n",
    "\n",
    "अलीकडील संशोधनात असे दिसून आले आहे की मोठ्या प्रमाणावर मजकूरावर पूर्व-प्रशिक्षण करून आणि नंतर विशिष्ट कामासाठी सूक्ष्म-प्रशिक्षण केल्याने अनेक NLP कामांमध्ये आणि बेंचमार्कमध्ये मोठी प्रगती झाली आहे. जरी ही पद्धत साधारणपणे काम-निरपेक्ष असली तरी, तरीही हजारो किंवा दहा हजारो उदाहरणांच्या काम-विशिष्ट सूक्ष्म-प्रशिक्षण डेटासेटची आवश्यकता असते. याउलट, माणसे साधारणपणे फक्त काही उदाहरणे किंवा साध्या सूचनांवरून नवीन भाषा काम सहजपणे करू शकतात - हे सध्याच्या NLP प्रणालींना अजूनही मोठ्या प्रमाणावर जमत नाही. येथे आम्ही दाखवतो की भाषा मॉडेल्सचे प्रमाण वाढवल्याने काम-निरपेक्ष, कमी उदाहरणांवर आधारित कामगिरीत मोठी सुधारणा होते, कधी कधी पूर्वीच्या अत्याधुनिक सूक्ष्म-प्रशिक्षण पद्धतींशी स्पर्धा देखील करता येते.\n",
    "\n",
    "Tl;dr\n"
   ]
  },
  {
   "attachments": {},
   "cell_type": "markdown",
   "metadata": {
    "nteract": {
     "transient": {
      "deleting": false
     }
    }
   },
   "source": [
    "# विविध वापरांसाठी सराव  \n",
    "1. मजकूराचा सारांश काढा  \n",
    "2. मजकूर वर्गीकृत करा  \n",
    "3. नवीन उत्पादनांची नावे तयार करा  \n",
    "4. एम्बेडिंग्ज  \n",
    "5. वर्गीकरणासाठी फाइन ट्यून करा\n"
   ]
  },
  {
   "cell_type": "code",
   "execution_count": null,
   "metadata": {
    "gather": {
     "logged": 1674495198534
    },
    "jupyter": {
     "outputs_hidden": false,
     "source_hidden": false
    },
    "nteract": {
     "transient": {
      "deleting": false
     }
    }
   },
   "outputs": [],
   "source": [
    "prompt = \"Recent work has demonstrated substantial gains on many NLP tasks and benchmarks by pre-training on a large corpus of text followed by fine-tuning on a specific task. While typically task-agnostic in architecture, this method still requires task-specific fine-tuning datasets of thousands or tens of thousands of examples. By contrast, humans can generally perform a new language task from only a few examples or from simple instructions - something that current NLP systems still largely struggle to do. Here we show that scaling up language models greatly improves task-agnostic, few-shot performance, sometimes even reaching competitiveness with prior state-of-the-art fine-tuning approaches.\\n\\ntl;dr\"\n"
   ]
  },
  {
   "cell_type": "code",
   "execution_count": null,
   "metadata": {
    "gather": {
     "logged": 1674495201868
    },
    "jupyter": {
     "outputs_hidden": false,
     "source_hidden": false
    },
    "nteract": {
     "transient": {
      "deleting": false
     }
    }
   },
   "outputs": [],
   "source": [
    "#Setting a few additional, typical parameters during API Call\n",
    "\n",
    "response = client.chat.completions.create(\n",
    "  model=model,\n",
    "  messages = [{\"role\":\"system\", \"content\":\"You are a helpful assistant.\"},\n",
    "               {\"role\":\"user\",\"content\":prompt},])\n",
    "\n",
    "response.choices[0].message.content"
   ]
  },
  {
   "attachments": {},
   "cell_type": "markdown",
   "metadata": {
    "nteract": {
     "transient": {
      "deleting": false
     }
    }
   },
   "source": [
    "## मजकूर वर्गीकरण  \n",
    "#### आव्हान  \n",
    "वर्गीकरणासाठी लागणाऱ्या श्रेणी inference वेळी द्या आणि त्यानुसार घटकांचे वर्गीकरण करा. खालील उदाहरणात, आम्ही prompt मध्ये दोन्ही - वर्गीकरणासाठीच्या श्रेणी आणि वर्गीकरणासाठीचा मजकूर - दिले आहेत (*playground_reference).\n",
    "\n",
    "ग्राहक चौकशी: नमस्कार, माझ्या लॅपटॉपच्या कीबोर्डमधील एक की नुकतीच तुटली आहे आणि मला तिच्या बदल्यासाठी नवीन की लागेल:\n",
    "\n",
    "वर्गीकृत श्रेणी:\n"
   ]
  },
  {
   "cell_type": "code",
   "execution_count": null,
   "metadata": {
    "gather": {
     "logged": 1674499424645
    },
    "jupyter": {
     "outputs_hidden": false,
     "source_hidden": false
    },
    "nteract": {
     "transient": {
      "deleting": false
     }
    }
   },
   "outputs": [],
   "source": [
    "prompt = \"Classify the following inquiry into one of the following: categories: [Pricing, Hardware Support, Software Support]\\n\\ninquiry: Hello, one of the keys on my laptop keyboard broke recently and I'll need a replacement:\\n\\nClassified category:\"\n",
    "print(prompt)"
   ]
  },
  {
   "cell_type": "code",
   "execution_count": null,
   "metadata": {
    "gather": {
     "logged": 1674499378518
    },
    "jupyter": {
     "outputs_hidden": false,
     "source_hidden": false
    },
    "nteract": {
     "transient": {
      "deleting": false
     }
    }
   },
   "outputs": [],
   "source": [
    "#Setting a few additional, typical parameters during API Call\n",
    "\n",
    "response = client.chat.completions.create(\n",
    "  model=model,\n",
    "  messages = [{\"role\":\"system\", \"content\":\"You are a helpful assistant.\"},\n",
    "               {\"role\":\"user\",\"content\":prompt},])\n",
    "\n",
    "response.choices[0].message.content"
   ]
  },
  {
   "attachments": {},
   "cell_type": "markdown",
   "metadata": {
    "nteract": {
     "transient": {
      "deleting": false
     }
    }
   },
   "source": [
    "## नवीन उत्पादनांची नावे तयार करा\n",
    "#### आव्हान\n",
    "उदाहरणातील शब्दांपासून उत्पादनांची नावे तयार करा. येथे आम्ही ज्या उत्पादनासाठी नावे तयार करायची आहेत त्याची माहिती दिली आहे. आम्ही एक तत्सम उदाहरणही दिले आहे जेणेकरून तुम्हाला हवा असलेला नमुना समजेल. आम्ही temperature मूल्य जास्त ठेवले आहे जेणेकरून उत्तरांमध्ये जास्त कल्पकता आणि नाविन्य येईल.\n",
    "\n",
    "उत्पादनाचे वर्णन: घरगुती मिल्कशेक बनवणारे यंत्र\n",
    "बीज शब्द: जलद, आरोग्यदायी, कॉम्पॅक्ट.\n",
    "उत्पादनांची नावे: होमशेकर, फिट शेकर, क्विकशेक, शेक मेकर\n",
    "\n",
    "उत्पादनाचे वर्णन: असे बूट जे कोणत्याही पायाच्या आकाराला बसू शकतात.\n",
    "बीज शब्द: अनुकूल, फिट, ऑम्नी-फिट.\n"
   ]
  },
  {
   "cell_type": "code",
   "execution_count": null,
   "metadata": {
    "gather": {
     "logged": 1674257087279
    },
    "jupyter": {
     "outputs_hidden": false,
     "source_hidden": false
    },
    "nteract": {
     "transient": {
      "deleting": false
     }
    }
   },
   "outputs": [],
   "source": [
    "prompt = \"Product description: A home milkshake maker\\nSeed words: fast, healthy, compact.\\nProduct names: HomeShaker, Fit Shaker, QuickShake, Shake Maker\\n\\nProduct description: A pair of shoes that can fit any foot size.\\nSeed words: adaptable, fit, omni-fit.\"\n",
    "\n",
    "print(prompt)"
   ]
  },
  {
   "cell_type": "code",
   "execution_count": null,
   "metadata": {
    "jupyter": {
     "outputs_hidden": false,
     "source_hidden": false
    },
    "nteract": {
     "transient": {
      "deleting": false
     }
    }
   },
   "outputs": [],
   "source": [
    "#Setting a few additional, typical parameters during API Call\n",
    "\n",
    "response = client.chat.completions.create(\n",
    "  model=model,\n",
    "  messages = [{\"role\":\"system\", \"content\":\"You are a helpful assistant.\"},\n",
    "               {\"role\":\"user\",\"content\":prompt}])\n",
    "\n",
    "response.choices[0].message.content"
   ]
  },
  {
   "attachments": {},
   "cell_type": "markdown",
   "metadata": {
    "nteract": {
     "transient": {
      "deleting": false
     }
    }
   },
   "source": [
    "## एम्बेडिंग्ज\n",
    "या विभागात आपण एम्बेडिंग्ज कसे मिळवायचे आणि शब्द, वाक्ये, तसेच दस्तऐवज यांच्यातील साम्य कसे शोधायचे हे पाहणार आहोत. पुढील नोटबुक्स चालवण्यासाठी तुम्हाला `text-embedding-ada-002` या बेस मॉडेलचा वापर करणारे मॉडेल डिप्लॉय करावे लागेल आणि त्याचे डिप्लॉयमेंट नाव .env फाइलमध्ये `AZURE_OPENAI_EMBEDDINGS_DEPLOYMENT` या व्हेरिएबलमध्ये सेट करावे लागेल.\n"
   ]
  },
  {
   "attachments": {},
   "cell_type": "markdown",
   "metadata": {
    "nteract": {
     "transient": {
      "deleting": false
     }
    }
   },
   "source": [
    "### मॉडेल वर्गीकरण - एम्बेडिंग मॉडेल निवडणे\n",
    "\n",
    "**मॉडेल वर्गीकरण**: {family} - {capability} - {input-type} - {identifier}  \n",
    "\n",
    "{family}     --> text-embedding  (एम्बेडिंग्स कुटुंब)  \n",
    "{capability} --> ada             (इतर सर्व एम्बेडिंग मॉडेल्स 2024 मध्ये निवृत्त होतील)  \n",
    "{input-type} --> n/a             (फक्त सर्च मॉडेल्ससाठी दिले जाते)  \n",
    "{identifier} --> 002             (आवृत्ती 002)  \n",
    "\n",
    "model = 'text-embedding-ada-002'\n"
   ]
  },
  {
   "cell_type": "markdown",
   "metadata": {},
   "source": [
    "> [!NOTE] पुढील पाऊल आवश्यक नाही जर तुम्ही हे नोटबुक Codespaces वर किंवा Devcontainer मध्ये चालवत असाल\n"
   ]
  },
  {
   "cell_type": "code",
   "execution_count": null,
   "metadata": {},
   "outputs": [],
   "source": [
    "# Dependencies for embeddings_utils\n",
    "%pip install matplotlib plotly scikit-learn pandas"
   ]
  },
  {
   "cell_type": "code",
   "execution_count": null,
   "metadata": {
    "gather": {
     "logged": 1674829364153
    },
    "jupyter": {
     "outputs_hidden": false,
     "source_hidden": false
    },
    "nteract": {
     "transient": {
      "deleting": false
     }
    }
   },
   "outputs": [],
   "source": [
    "def cosine_similarity(a, b):\n",
    "    return np.dot(a, b) / (np.linalg.norm(a) * np.linalg.norm(b))"
   ]
  },
  {
   "cell_type": "code",
   "execution_count": null,
   "metadata": {
    "gather": {
     "logged": 1674829424097
    },
    "jupyter": {
     "outputs_hidden": false,
     "source_hidden": false
    },
    "nteract": {
     "transient": {
      "deleting": false
     }
    }
   },
   "outputs": [],
   "source": [
    "text = 'the quick brown fox jumped over the lazy dog'\n",
    "model= os.environ['AZURE_OPENAI_EMBEDDINGS_DEPLOYMENT']\n",
    "client.embeddings.create(input='[text]', model=model).data[0].embedding"
   ]
  },
  {
   "cell_type": "code",
   "execution_count": null,
   "metadata": {
    "gather": {
     "logged": 1674829555255
    },
    "jupyter": {
     "outputs_hidden": false,
     "source_hidden": false
    },
    "nteract": {
     "transient": {
      "deleting": false
     }
    }
   },
   "outputs": [],
   "source": [
    "\n",
    "# compare several words\n",
    "automobile_embedding  = client.embeddings.create(input='automobile', model=model).data[0].embedding\n",
    "vehicle_embedding     = client.embeddings.create(input='vehicle', model=model).data[0].embedding\n",
    "dinosaur_embedding    = client.embeddings.create(input='dinosaur', model=model).data[0].embedding\n",
    "stick_embedding       = client.embeddings.create(input='stick', model=model).data[0].embedding\n",
    "\n",
    "print(cosine_similarity(automobile_embedding, vehicle_embedding))\n",
    "print(cosine_similarity(automobile_embedding, dinosaur_embedding))\n",
    "print(cosine_similarity(automobile_embedding, stick_embedding))"
   ]
  },
  {
   "attachments": {},
   "cell_type": "markdown",
   "metadata": {
    "nteract": {
     "transient": {
      "deleting": false
     }
    }
   },
   "source": [
    "## cnn daily news डेटासेटमधील लेखांची तुलना\n",
    "source: https://huggingface.co/datasets/cnn_dailymail\n",
    "\n",
    "या विभागात आपण cnn daily news डेटासेटमधील दोन किंवा अधिक लेखांची तुलना कशी करावी हे पाहणार आहोत. हे डेटासेट मुख्यत्वे बातम्यांच्या लेखांसाठी वापरले जाते आणि संशोधन, विश्लेषण किंवा मशीन लर्निंग प्रकल्पांसाठी उपयुक्त आहे.\n",
    "\n",
    "### तुलना करण्याची कारणे\n",
    "\n",
    "- वेगवेगळ्या बातम्यांमध्ये एकाच घटनेचे कसे वर्णन केले आहे हे समजून घेणे\n",
    "- लेखनशैली, टोन किंवा माहितीची मांडणी कशी बदलते हे पाहणे\n",
    "- डेटा संक्षिप्तीकरण किंवा माहिती काढण्यासारख्या NLP टास्कसाठी उदाहरणे तयार करणे\n",
    "\n",
    "### तुलना करण्याची पद्धत\n",
    "\n",
    "1. सर्वप्रथम, तुम्हाला तुलना करायचे असलेले लेख निवडा.\n",
    "2. प्रत्येक लेखातील मुख्य मुद्दे किंवा माहिती ओळखा.\n",
    "3. दोन्ही लेखांमध्ये साम्य आणि फरक शोधा.\n",
    "4. विश्लेषणासाठी आवश्यक असल्यास, मुद्देसूद सारांश तयार करा.\n",
    "\n",
    "### उदाहरण\n",
    "\n",
    "समजा, दोन लेख एका राजकीय घटनेबद्दल आहेत. एक लेख अधिक तटस्थ आहे, तर दुसरा लेख विशिष्ट दृष्टिकोनातून लिहिला आहे. तुम्ही खालील गोष्टींची तुलना करू शकता:\n",
    "\n",
    "- घटनेचे वर्णन कसे केले आहे\n",
    "- कोणती माहिती ठळकपणे दिली आहे किंवा वगळली आहे\n",
    "- वापरलेली भाषा आणि टोन\n",
    "\n",
    "### निष्कर्ष\n",
    "\n",
    "लेखांची तुलना केल्याने तुम्हाला माहितीची विविधता, लेखनशैलीतील बदल आणि संभाव्य पूर्वग्रह समजून घेता येतात. हे संशोधन, डेटा विश्लेषण किंवा NLP प्रकल्पांसाठी उपयुक्त ठरते.\n"
   ]
  },
  {
   "cell_type": "code",
   "execution_count": null,
   "metadata": {
    "gather": {
     "logged": 1674831122093
    },
    "jupyter": {
     "outputs_hidden": false,
     "source_hidden": false
    },
    "nteract": {
     "transient": {
      "deleting": false
     }
    }
   },
   "outputs": [],
   "source": [
    "import pandas as pd\n",
    "cnn_daily_articles = ['BREMEN, Germany -- Carlos Alberto, who scored in FC Porto\\'s Champions League final victory against Monaco in 2004, has joined Bundesliga club Werder Bremen for a club record fee of 7.8 million euros ($10.7 million). Carlos Alberto enjoyed success at FC Porto under Jose Mourinho. \"I\\'m here to win titles with Werder,\" the 22-year-old said after his first training session with his new club. \"I like Bremen and would only have wanted to come here.\" Carlos Alberto started his career with Fluminense, and helped them to lift the Campeonato Carioca in 2002. In January 2004 he moved on to FC Porto, who were coached by José Mourinho, and the club won the Portuguese title as well as the Champions League. Early in 2005, he moved to Corinthians, where he impressed as they won the Brasileirão,but in 2006 Corinthians had a poor season and Carlos Alberto found himself at odds with manager, Emerson Leão. Their poor relationship came to a climax at a Copa Sul-Americana game against Club Atlético Lanús, and Carlos Alberto declared that he would not play for Corinthians again while Leão remained as manager. Since January this year he has been on loan with his first club Fluminense. Bundesliga champions VfB Stuttgart said on Sunday that they would sign a loan agreement with Real Zaragoza on Monday for Ewerthon, the third top Brazilian player to join the German league in three days. A VfB spokesman said Ewerthon, who played in the Bundesliga for Borussia Dortmund from 2001 to 2005, was expected to join the club for their pre-season training in Austria on Monday. On Friday, Ailton returned to Germany where he was the league\\'s top scorer in 2004, signing a one-year deal with Duisburg on a transfer from Red Star Belgrade. E-mail to a friend .',\n",
    "                        '(CNN) -- Football superstar, celebrity, fashion icon, multimillion-dollar heartthrob. Now, David Beckham is headed for the Hollywood Hills as he takes his game to U.S. Major League Soccer. CNN looks at how Bekham fulfilled his dream of playing for Manchester United, and his time playing for England. The world\\'s famous footballer has begun a five-year contract with the Los Angeles Galaxy team, and on Friday Beckham will meet the press and reveal his new shirt number. This week, we take an in depth look at the life and times of Beckham, as CNN\\'s very own \"Becks,\" Becky Anderson, sets out to examine what makes the man tick -- as footballer, fashion icon and global phenomenon. It\\'s a long way from the streets of east London to the Hollywood Hills and Becky charts Beckham\\'s incredible rise to football stardom, a journey that has seen his skills grace the greatest stages in world soccer. She goes in pursuit of the current hottest property on the sports/celebrity circuit in the U.S. and along the way explores exactly what\\'s behind the man with the golden boot. CNN will look back at the life of Beckham, the wonderfully talented youngster who fulfilled his dream of playing for Manchester United, his marriage to pop star Victoria, and the trials and tribulations of playing for England. We\\'ll look at the highs (scoring against Greece), the lows (being sent off during the World Cup), the Man. U departure for the Galacticos of Madrid -- and now the Home Depot stadium in L.A. We\\'ll ask how Beckham and his family will adapt to life in Los Angeles -- the people, the places to see and be seen and the celebrity endorsement. Beckham is no stranger to exposure. He has teamed with Reggie Bush in an Adidas commercial, is the face of Motorola, is the face on a PlayStation game and doesn\\'t need fashion tips as he has his own international clothing line. But what does the star couple need to do to become an accepted part of Tinseltown\\'s glitterati? The road to major league football in the U.S.A. is a well-worn route for some of the world\\'s greatest players. We talk to some of the former greats who came before him and examine what impact these overseas stars had on U.S. soccer and look at what is different now. We also get a rare glimpse inside the David Beckham academy in L.A, find out what drives the kids and who are their heroes. The perception that in the U.S.A. soccer is a \"game for girls\" after the teenage years is changing. More and more young kids are choosing the European game over the traditional U.S. sports. E-mail to a friend .',\n",
    "                        'LOS ANGELES, California (CNN) -- Youssif, the 5-year-old burned Iraqi boy, rounded the corner at Universal Studios when suddenly the little boy hero met his favorite superhero. Youssif has always been a huge Spider-Man fan. Meeting him was \"my favorite thing,\" he said. Spider-Man was right smack dab in front of him, riding a four-wheeler amid a convoy of other superheroes. The legendary climber of buildings and fighter of evil dismounted, walked over to Youssif and introduced himself. Spidey then gave the boy from a far-away land a gentle hug, embracing him in his iconic blue and red tights. He showed Youssif a few tricks, like how to shoot a web from his wrist. Only this time, no web was spun. \"All right Youssif!\" Spider-Man said after the boy mimicked his wrist movement. Other superheroes crowded around to get a closer look. Even the Green Goblin stopped his villainous ways to tell the boy hi. Youssif remained unfazed. He didn\\'t take a liking to Spider-Man\\'s nemesis. Spidey was just too cool. \"It was my favorite thing,\" the boy said later. \"I want to see him again.\" He then felt compelled to add: \"I know it\\'s not the real Spider-Man.\" This was the day of dreams when the boy\\'s nightmares were, at least temporarily, forgotten. He met SpongeBob, Lassie and a 3-year-old orangutan named Archie. The hairy, brownish-red primate took to the boy, grabbing his hand and holding it. Even when Youssif pulled away, Archie would inch his hand back toward the boy\\'s and then snatch it. See Youssif enjoy being a boy again » . The boy giggled inside a play area where sponge-like balls shot out of toy guns. It was a far different artillery than what he was used to seeing in central Baghdad, as recently as a week ago. He squealed with delight and raced around the room collecting as many balls as he could. He rode a tram through the back stages at Universal Studios. At one point, the car shook. Fire and smoke filled the air, debris cascaded down and a big rig skidded toward the vehicle. The boy and his family survived the pretend earthquake unscathed. \"Even I was scared,\" the dad said. \"Well, I wasn\\'t,\" Youssif replied. The father and mother grinned from ear to ear throughout the day. Youssif pushed his 14-month-old sister, Ayaa, in a stroller. \"Did you even need to ask us if we were interested in coming here?\" Youssif\\'s father said in amazement. \"Other than my wedding day, this is the happiest day of my life,\" he said. Just a day earlier, the mother and father talked about their journey out of Iraq and to the United States. They also discussed that day nine months ago when masked men grabbed their son outside the family home, doused him in gas and set him on fire. His mother heard her boy screaming from inside. The father sought help for his boy across Baghdad, but no one listened. He remembers his son\\'s two months of hospitalization. The doctors didn\\'t use anesthetics. He could hear his boy\\'s piercing screams from the other side of the hospital. Watch Youssif meet his doctor and play with his little sister » . The father knew that speaking to CNN would put his family\\'s lives in jeopardy. The possibility of being killed was better than seeing his son suffer, he said. \"Anything for Youssif,\" he said. \"We had to do it.\" They described a life of utter chaos in Baghdad. Neighbors had recently given birth to a baby girl. Shortly afterward, the father was kidnapped and killed. Then, there was the time when some girls wore tanktops and jeans. They were snatched off the street by gunmen. The stories can be even more gruesome. The couple said they had heard reports that a young girl was kidnapped and beheaded --and her killers sewed a dog\\'s head on the corpse and delivered it to her family\\'s doorstep. \"These are just some of the stories,\" said Youssif\\'s mother, Zainab. Under Saddam Hussein, there was more security and stability, they said. There was running water and electricity most of the time. But still life was tough under the dictator, like the time when Zainab\\'s uncle disappeared and was never heard from again after he read a \"religious book,\" she said. Sitting in the parking lot of a Target in suburban Los Angeles, Youssif\\'s father watched as husbands and wives, boyfriends and girlfriends, parents and their children, came and went. Some held hands. Others smiled and laughed. \"Iraq finished,\" he said in what few English words he knows. He elaborated in Arabic: His homeland won\\'t be enjoying such freedoms anytime soon. It\\'s just not possible. Too much violence. Too many killings. His two children have only seen war. But this week, the family has seen a much different side of America -- an outpouring of generosity and a peaceful nation at home. \"It\\'s been a dream,\" the father said. He used to do a lot of volunteer work back in Baghdad. \"Maybe that\\'s why I\\'m being helped now,\" the father said. At Universal Studios, he looked out across the valley below. The sun glistened off treetops and buildings. It was a picturesque sight fit for a Hollywood movie. \"Good America, good America,\" he said in English. E-mail to a friend . CNN\\'s Arwa Damon contributed to this report.'\n",
    "]\n",
    "\n",
    "cnn_daily_article_highlights = ['Werder Bremen pay a club record $10.7 million for Carlos Alberto .\\nThe Brazilian midfielder won the Champions League with FC Porto in 2004 .\\nSince January he has been on loan with his first club, Fluminense .',\n",
    "                                'Beckham has agreed to a five-year contract with Los Angeles Galaxy .\\nNew contract took effect July 1, 2007 .\\nFormer English captain to meet press, unveil new shirt number Friday .\\nCNN to look at Beckham as footballer, fashion icon and global phenomenon .',\n",
    "                                'Boy on meeting Spider-Man: \"It was my favorite thing\"\\nYoussif also met SpongeBob, Lassie and an orangutan at Universal Studios .\\nDad: \"Other than my wedding day, this is the happiest day of my life\"'\n",
    "]\n",
    "\n",
    "cnn_df = pd.DataFrame({\"articles\":cnn_daily_articles, \"highligths\":cnn_daily_article_highlights})\n",
    "\n",
    "cnn_df.head()"
   ]
  },
  {
   "cell_type": "code",
   "execution_count": null,
   "metadata": {
    "gather": {
     "logged": 1674831294043
    },
    "jupyter": {
     "outputs_hidden": false,
     "source_hidden": false
    },
    "nteract": {
     "transient": {
      "deleting": false
     }
    }
   },
   "outputs": [],
   "source": [
    "article1_embedding    = client.embeddings.create(input=cnn_df.articles.iloc[0], model=model).data[0].embedding\n",
    "article2_embedding    = client.embeddings.create(input=cnn_df.articles.iloc[1], model=model).data[0].embedding\n",
    "article3_embedding    = client.embeddings.create(input=cnn_df.articles.iloc[2], model=model).data[0].embedding\n",
    "\n",
    "print(cosine_similarity(article1_embedding, article2_embedding))\n",
    "print(cosine_similarity(article1_embedding, article3_embedding))"
   ]
  },
  {
   "attachments": {},
   "cell_type": "markdown",
   "metadata": {
    "nteract": {
     "transient": {
      "deleting": false
     }
    }
   },
   "source": [
    "# संदर्भ  \n",
    "- [Azure दस्तऐवजीकरण - Azure OpenAI मॉडेल्स](https://learn.microsoft.com/azure/cognitive-services/openai/concepts/models?WT.mc_id=academic-105485-koreyst)  \n",
    "- [OpenAI Studio उदाहरणे](https://oai.azure.com/portal?WT.mc_id=academic-105485-koreyst)\n"
   ]
  },
  {
   "attachments": {},
   "cell_type": "markdown",
   "metadata": {
    "nteract": {
     "transient": {
      "deleting": false
     }
    }
   },
   "source": [
    "# अधिक मदतीसाठी  \n",
    "[OpenAI कमर्शियलायझेशन टीम](AzureOpenAITeam@microsoft.com)\n"
   ]
  },
  {
   "attachments": {},
   "cell_type": "markdown",
   "metadata": {
    "nteract": {
     "transient": {
      "deleting": false
     }
    }
   },
   "source": [
    "# योगदानकर्ते\n",
    "* Louis Li\n"
   ]
  },
  {
   "cell_type": "markdown",
   "metadata": {},
   "source": [
    "\n---\n\n**अस्वीकरण**:  \nहे दस्तऐवज AI भाषांतर सेवा [Co-op Translator](https://github.com/Azure/co-op-translator) वापरून भाषांतरित केले आहे. आम्ही अचूकतेसाठी प्रयत्नशील असलो तरी, कृपया लक्षात घ्या की स्वयंचलित भाषांतरांमध्ये त्रुटी किंवा अचूकतेचा अभाव असू शकतो. मूळ भाषेतील मूळ दस्तऐवज हा अधिकृत स्रोत मानावा. अत्यावश्यक माहितीसाठी, व्यावसायिक मानवी भाषांतराची शिफारस केली जाते. या भाषांतराचा वापर केल्यामुळे उद्भवणाऱ्या कोणत्याही गैरसमज किंवा चुकीच्या अर्थासाठी आम्ही जबाबदार राहणार नाही.\n"
   ]
  }
 ],
 "metadata": {
  "kernel_info": {
   "name": "python310-sdkv2"
  },
  "kernelspec": {
   "display_name": "base",
   "language": "python",
   "name": "python3"
  },
  "language_info": {
   "codemirror_mode": {
    "name": "ipython",
    "version": 3
   },
   "file_extension": ".py",
   "mimetype": "text/x-python",
   "name": "python",
   "nbconvert_exporter": "python",
   "pygments_lexer": "ipython3",
   "version": "3.10.13"
  },
  "microsoft": {
   "host": {
    "AzureML": {
     "notebookHasBeenCompleted": true
    }
   }
  },
  "nteract": {
   "version": "nteract-front-end@1.0.0"
  },
  "coopTranslator": {
   "original_hash": "0d1caa6c42ad19d6268f0ea38a1f6421",
   "translation_date": "2025-08-25T16:44:52+00:00",
   "source_file": "07-building-chat-applications/python/aoai-assignment.ipynb",
   "language_code": "mr"
  }
 },
 "nbformat": 4,
 "nbformat_minor": 2
}