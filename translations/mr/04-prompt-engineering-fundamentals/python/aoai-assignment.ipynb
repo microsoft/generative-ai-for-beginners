{
 "cells": [
  {
   "cell_type": "markdown",
   "metadata": {},
   "source": [
    "खालील नोटबुक GitHub Copilot Chat द्वारे स्वयंचलितपणे तयार करण्यात आले आहे आणि केवळ प्रारंभिक सेटअपसाठीच आहे\n"
   ]
  },
  {
   "cell_type": "markdown",
   "metadata": {},
   "source": [
    "# प्रॉम्प्ट इंजिनिअरिंगची ओळख\n",
    "\n",
    "प्रॉम्प्ट इंजिनिअरिंग म्हणजे नैसर्गिक भाषा प्रक्रिया कार्यांसाठी प्रॉम्प्ट्स डिझाइन आणि ऑप्टिमाइझ करण्याची प्रक्रिया आहे. यात योग्य प्रॉम्प्ट्स निवडणे, त्यांचे पॅरामीटर्स ट्यून करणे आणि त्यांची कार्यक्षमता तपासणे यांचा समावेश होतो. NLP मॉडेल्समध्ये उच्च अचूकता आणि कार्यक्षमता मिळवण्यासाठी प्रॉम्प्ट इंजिनिअरिंग अत्यंत महत्त्वाचे आहे. या विभागात, आपण OpenAI मॉडेल्स वापरून प्रॉम्प्ट इंजिनिअरिंगच्या मूलभूत गोष्टी जाणून घेणार आहोत.\n"
   ]
  },
  {
   "cell_type": "markdown",
   "metadata": {},
   "source": [
    "### सराव १: टोकनायझेशन\n",
    "tiktoken वापरून टोकनायझेशनचा अभ्यास करा, हे OpenAI कडून मिळणारे एक ओपन-सोर्स आणि जलद टोकनायझर आहे.\n",
    "अधिक उदाहरणांसाठी [OpenAI Cookbook](https://github.com/openai/openai-cookbook/blob/main/examples/How_to_count_tokens_with_tiktoken.ipynb?WT.mc_id=academic-105485-koreyst) पहा.\n"
   ]
  },
  {
   "cell_type": "code",
   "execution_count": null,
   "metadata": {},
   "outputs": [],
   "source": [
    "# EXERCISE:\n",
    "# 1. Run the exercise as is first\n",
    "# 2. Change the text to any prompt input you want to use & re-run to see tokens\n",
    "\n",
    "import tiktoken\n",
    "\n",
    "# Define the prompt you want tokenized\n",
    "text = f\"\"\"\n",
    "Jupiter is the fifth planet from the Sun and the \\\n",
    "largest in the Solar System. It is a gas giant with \\\n",
    "a mass one-thousandth that of the Sun, but two-and-a-half \\\n",
    "times that of all the other planets in the Solar System combined. \\\n",
    "Jupiter is one of the brightest objects visible to the naked eye \\\n",
    "in the night sky, and has been known to ancient civilizations since \\\n",
    "before recorded history. It is named after the Roman god Jupiter.[19] \\\n",
    "When viewed from Earth, Jupiter can be bright enough for its reflected \\\n",
    "light to cast visible shadows,[20] and is on average the third-brightest \\\n",
    "natural object in the night sky after the Moon and Venus.\n",
    "\"\"\"\n",
    "\n",
    "# Set the model you want encoding for\n",
    "encoding = tiktoken.encoding_for_model(\"gpt-3.5-turbo\")\n",
    "\n",
    "# Encode the text - gives you the tokens in integer form\n",
    "tokens = encoding.encode(text)\n",
    "print(tokens);\n",
    "\n",
    "# Decode the integers to see what the text versions look like\n",
    "[encoding.decode_single_token_bytes(token) for token in tokens]"
   ]
  },
  {
   "cell_type": "markdown",
   "metadata": {},
   "source": [
    "### सराव २: OpenAI API Key सेटअप तपासा\n",
    "\n",
    "खालील कोड चालवा आणि तुमचा OpenAI endpoint योग्यरित्या सेटअप झाला आहे का हे तपासा. हा कोड एक सोपा बेसिक prompt वापरतो आणि completion तपासतो. `oh say can you see` हा इनपुट दिल्यावर उत्तर `by the dawn's early light..` या स्वरूपात येईल.\n"
   ]
  },
  {
   "cell_type": "code",
   "execution_count": null,
   "metadata": {},
   "outputs": [],
   "source": [
    "# The OpenAI SDK was updated on Nov 8, 2023 with new guidance for migration\n",
    "# See: https://github.com/openai/openai-python/discussions/742\n",
    "\n",
    "## Updated\n",
    "import os\n",
    "from openai import AzureOpenAI\n",
    "from dotenv import load_dotenv\n",
    "load_dotenv()\n",
    "\n",
    "client = AzureOpenAI(\n",
    "  api_key=os.environ['AZURE_OPENAI_API_KEY'],  # this is also the default, it can be omitted\n",
    "  api_version = \"2023-05-15\"\n",
    "  )\n",
    "\n",
    "deployment=os.environ['AZURE_OPENAI_DEPLOYMENT']\n",
    "\n",
    "## Updated\n",
    "def get_completion(prompt):\n",
    "    messages = [{\"role\": \"user\", \"content\": prompt}]       \n",
    "    response = client.chat.completions.create(   \n",
    "        model=deployment,                                         \n",
    "        messages=messages,\n",
    "        temperature=0, # this is the degree of randomness of the model's output\n",
    "        max_tokens=1024\n",
    "    )\n",
    "    return response.choices[0].message.content\n",
    "\n",
    "## ---------- Call the helper method\n",
    "\n",
    "### 1. Set primary content or prompt text\n",
    "text = f\"\"\"\n",
    "oh say can you see\n",
    "\"\"\"\n",
    "\n",
    "### 2. Use that in the prompt template below\n",
    "prompt = f\"\"\"\n",
    "```{text}```\n",
    "\"\"\"\n",
    "\n",
    "## 3. Run the prompt\n",
    "response = get_completion(prompt)\n",
    "print(response)"
   ]
  },
  {
   "cell_type": "markdown",
   "metadata": {},
   "source": [
    "### व्यायाम ३: काल्पनिक गोष्टी\n",
    "\n",
    "LLM ला अशा विषयावर पूर्णता देण्याची विनंती केल्यावर काय होते हे शोधा, जो कदाचित अस्तित्वात नसेल, किंवा असे विषय ज्याबद्दल त्याला माहिती नसेल कारण ते त्याच्या पूर्व-प्रशिक्षित डेटासेटच्या बाहेर आहेत (अलीकडील माहिती). वेगळा प्रॉम्प्ट वापरल्यास किंवा वेगळा मॉडेल वापरल्यास प्रतिसाद कसा बदलतो हे पाहा.\n"
   ]
  },
  {
   "cell_type": "code",
   "execution_count": null,
   "metadata": {},
   "outputs": [],
   "source": [
    "\n",
    "## Set the text for simple prompt or primary content\n",
    "## Prompt shows a template format with text in it - add cues, commands etc if needed\n",
    "## Run the completion \n",
    "text = f\"\"\"\n",
    "generate a lesson plan on the Martian War of 2076.\n",
    "\"\"\"\n",
    "\n",
    "prompt = f\"\"\"\n",
    "```{text}```\n",
    "\"\"\"\n",
    "\n",
    "response = get_completion(prompt)\n",
    "print(response)"
   ]
  },
  {
   "cell_type": "markdown",
   "metadata": {},
   "source": [
    "### सराव ४: सूचना आधारित  \n",
    "\"text\" या व्हेरिएबलचा वापर मुख्य मजकूरासाठी करा  \n",
    "आणि \"prompt\" या व्हेरिएबलमध्ये त्या मुख्य मजकुराशी संबंधित सूचना द्या.\n",
    "\n",
    "येथे आपण मॉडेलला विचारतो की दिलेला मजकूर दुसरीच्या विद्यार्थ्यासाठी संक्षिप्त करा.\n"
   ]
  },
  {
   "cell_type": "code",
   "execution_count": null,
   "metadata": {},
   "outputs": [],
   "source": [
    "# Test Example\n",
    "# https://platform.openai.com/playground/p/default-summarize\n",
    "\n",
    "## Example text\n",
    "text = f\"\"\"\n",
    "Jupiter is the fifth planet from the Sun and the \\\n",
    "largest in the Solar System. It is a gas giant with \\\n",
    "a mass one-thousandth that of the Sun, but two-and-a-half \\\n",
    "times that of all the other planets in the Solar System combined. \\\n",
    "Jupiter is one of the brightest objects visible to the naked eye \\\n",
    "in the night sky, and has been known to ancient civilizations since \\\n",
    "before recorded history. It is named after the Roman god Jupiter.[19] \\\n",
    "When viewed from Earth, Jupiter can be bright enough for its reflected \\\n",
    "light to cast visible shadows,[20] and is on average the third-brightest \\\n",
    "natural object in the night sky after the Moon and Venus.\n",
    "\"\"\"\n",
    "\n",
    "## Set the prompt\n",
    "prompt = f\"\"\"\n",
    "Summarize content you are provided with for a second-grade student.\n",
    "```{text}```\n",
    "\"\"\"\n",
    "\n",
    "## Run the prompt\n",
    "response = get_completion(prompt)\n",
    "print(response)"
   ]
  },
  {
   "cell_type": "markdown",
   "metadata": {},
   "source": [
    "### सराव ५: गुंतागुंतीची विनंती\n",
    "अशी विनंती करून पाहा ज्यात system, user आणि assistant संदेश असतात\n",
    "System सहायकाचा संदर्भ सेट करतो\n",
    "User आणि Assistant संदेश बहुपर्यायी संवादाचा संदर्भ देतात\n",
    "\n",
    "सहायकाचा स्वभाव \"उपहासात्मक\" म्हणून system संदर्भात कसा सेट केला आहे हे लक्षात घ्या.\n",
    "वेगळ्या स्वभावाचा संदर्भ वापरून पाहा. किंवा वेगळ्या प्रकारचे इनपुट/आउटपुट संदेश वापरून पाहा\n"
   ]
  },
  {
   "cell_type": "code",
   "execution_count": null,
   "metadata": {},
   "outputs": [],
   "source": [
    "response = client.chat.completions.create(\n",
    "    model=deployment,\n",
    "    messages=[\n",
    "        {\"role\": \"system\", \"content\": \"You are a sarcastic assistant.\"},\n",
    "        {\"role\": \"user\", \"content\": \"Who won the world series in 2020?\"},\n",
    "        {\"role\": \"assistant\", \"content\": \"Who do you think won? The Los Angeles Dodgers of course.\"},\n",
    "        {\"role\": \"user\", \"content\": \"Where was it played?\"}\n",
    "    ]\n",
    ")\n",
    "print(response.choices[0].message.content)"
   ]
  },
  {
   "cell_type": "markdown",
   "metadata": {},
   "source": [
    "### सराव: तुमची अंतर्ज्ञान तपासा\n",
    "वरील उदाहरणांमध्ये तुम्हाला काही नमुने दिले आहेत, जे वापरून तुम्ही नवीन प्रॉम्प्ट्स (सोपे, गुंतागुंतीचे, सूचना इ.) तयार करू शकता - अजून काही कल्पना जसे की उदाहरणे, संकेत आणि इतर गोष्टी शोधण्यासाठी स्वतःचे सराव तयार करून पाहा.\n"
   ]
  },
  {
   "cell_type": "markdown",
   "metadata": {},
   "source": [
    "\n---\n\n**अस्वीकरण**:  \nहे दस्तऐवज AI भाषांतर सेवा [Co-op Translator](https://github.com/Azure/co-op-translator) वापरून भाषांतरित केले आहे. आम्ही अचूकतेसाठी प्रयत्नशील असलो तरी, कृपया लक्षात घ्या की स्वयंचलित भाषांतरांमध्ये त्रुटी किंवा अचूकतेचा अभाव असू शकतो. मूळ भाषेतील मूळ दस्तऐवज हा अधिकृत स्रोत मानावा. अत्यावश्यक माहितीसाठी, व्यावसायिक मानवी भाषांतराची शिफारस केली जाते. या भाषांतराचा वापर केल्यामुळे उद्भवणाऱ्या कोणत्याही गैरसमजुती किंवा चुकीच्या अर्थ लावण्यास आम्ही जबाबदार राहणार नाही.\n"
   ]
  }
 ],
 "metadata": {
  "kernelspec": {
   "display_name": "Python 3 (ipykernel)",
   "language": "python",
   "name": "python3"
  },
  "language_info": {
   "codemirror_mode": {
    "name": "ipython",
    "version": 3
   },
   "file_extension": ".py",
   "mimetype": "text/x-python",
   "name": "python",
   "nbconvert_exporter": "python",
   "pygments_lexer": "ipython3",
   "version": "3.10.13"
  },
  "orig_nbformat": 4,
  "coopTranslator": {
   "original_hash": "9b900544221c8d986e06ee6d25debef7",
   "translation_date": "2025-08-25T13:05:24+00:00",
   "source_file": "04-prompt-engineering-fundamentals/python/aoai-assignment.ipynb",
   "language_code": "mr"
  }
 },
 "nbformat": 4,
 "nbformat_minor": 2
}