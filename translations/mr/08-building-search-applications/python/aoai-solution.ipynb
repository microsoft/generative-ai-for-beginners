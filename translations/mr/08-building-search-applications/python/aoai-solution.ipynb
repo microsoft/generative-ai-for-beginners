{
 "cells": [
  {
   "cell_type": "markdown",
   "metadata": {},
   "source": [
    "खालील नोटबुक चालवण्यासाठी, जर तुम्ही अजून केले नसेल, तर तुम्हाला `text-embedding-ada-002` या बेस मॉडेलचा वापर करणारे मॉडेल डिप्लॉय करावे लागेल आणि .env फाइलमध्ये डिप्लॉयमेंटचे नाव `AZURE_OPENAI_EMBEDDINGS_ENDPOINT` असे सेट करावे लागेल.\n"
   ]
  },
  {
   "cell_type": "code",
   "execution_count": null,
   "metadata": {},
   "outputs": [],
   "source": [
    "import os\n",
    "import pandas as pd\n",
    "import numpy as np\n",
    "from openai import AzureOpenAI\n",
    "from dotenv import load_dotenv\n",
    "\n",
    "load_dotenv()\n",
    "\n",
    "client = AzureOpenAI(\n",
    "  api_key=os.environ['AZURE_OPENAI_API_KEY'],  # this is also the default, it can be omitted\n",
    "  api_version = \"2023-05-15\"\n",
    "  )\n",
    "\n",
    "model = os.environ['AZURE_OPENAI_EMBEDDINGS_DEPLOYMENT']\n",
    "\n",
    "SIMILARITIES_RESULTS_THRESHOLD = 0.75\n",
    "DATASET_NAME = \"../embedding_index_3m.json\""
   ]
  },
  {
   "cell_type": "markdown",
   "metadata": {},
   "source": [
    "पुढे, आपण Embedding Index ला Pandas Dataframe मध्ये लोड करणार आहोत. Embedding Index `embedding_index_3m.json` नावाच्या JSON फाईलमध्ये संग्रहित आहे. Embedding Index मध्ये ऑक्टोबर २०२३ च्या अखेरीपर्यंतच्या प्रत्येक YouTube ट्रान्सक्रिप्टसाठी Embeddings आहेत.\n"
   ]
  },
  {
   "cell_type": "code",
   "execution_count": null,
   "metadata": {},
   "outputs": [],
   "source": [
    "def load_dataset(source: str) -> pd.core.frame.DataFrame:\n",
    "    # Load the video session index\n",
    "    pd_vectors = pd.read_json(source)\n",
    "    return pd_vectors.drop(columns=[\"text\"], errors=\"ignore\").fillna(\"\")"
   ]
  },
  {
   "cell_type": "markdown",
   "metadata": {},
   "source": [
    "पुढे, आपण `get_videos` नावाची एक फंक्शन तयार करणार आहोत जी क्वेरीसाठी Embedding Index मध्ये शोध घेईल. ही फंक्शन क्वेरीशी सर्वात जास्त मिळती-जुळती अशी टॉप ५ व्हिडिओ परत करेल. ही फंक्शन खालीलप्रमाणे काम करते:\n",
    "\n",
    "1. सर्वप्रथम, Embedding Index ची एक प्रत तयार केली जाते.\n",
    "2. नंतर, क्वेरीसाठी Embedding OpenAI Embedding API वापरून काढली जाते.\n",
    "3. त्यानंतर Embedding Index मध्ये `similarity` नावाचा एक नवीन कॉलम तयार केला जातो. `similarity` कॉलममध्ये क्वेरी Embedding आणि प्रत्येक व्हिडिओ सेगमेंटसाठी Embedding यांच्यातील कोसाइन सिमिलॅरिटी असते.\n",
    "4. पुढे, Embedding Index ला `similarity` कॉलमने फिल्टर केले जाते. Embedding Index मध्ये फक्त तेच व्हिडिओ ठेवले जातात ज्यांची कोसाइन सिमिलॅरिटी 0.75 किंवा त्याहून जास्त आहे.\n",
    "5. शेवटी, Embedding Index ला `similarity` कॉलमने सॉर्ट केले जाते आणि टॉप ५ व्हिडिओ परत केले जातात.\n"
   ]
  },
  {
   "cell_type": "code",
   "execution_count": null,
   "metadata": {},
   "outputs": [],
   "source": [
    "def cosine_similarity(a, b):\n",
    "    if len(a) > len(b):\n",
    "        b = np.pad(b, (0, len(a) - len(b)), 'constant')\n",
    "    elif len(b) > len(a):\n",
    "        a = np.pad(a, (0, len(b) - len(a)), 'constant')\n",
    "    return np.dot(a, b) / (np.linalg.norm(a) * np.linalg.norm(b))\n",
    "\n",
    "def get_videos(\n",
    "    query: str, dataset: pd.core.frame.DataFrame, rows: int\n",
    ") -> pd.core.frame.DataFrame:\n",
    "    # create a copy of the dataset\n",
    "    video_vectors = dataset.copy()\n",
    "\n",
    "    # get the embeddings for the query    \n",
    "    query_embeddings = client.embeddings.create(input=query, model=model).data[0].embedding\n",
    "\n",
    "    # create a new column with the calculated similarity for each row\n",
    "    video_vectors[\"similarity\"] = video_vectors[\"ada_v2\"].apply(\n",
    "        lambda x: cosine_similarity(np.array(query_embeddings), np.array(x))\n",
    "    )\n",
    "\n",
    "    # filter the videos by similarity\n",
    "    mask = video_vectors[\"similarity\"] >= SIMILARITIES_RESULTS_THRESHOLD\n",
    "    video_vectors = video_vectors[mask].copy()\n",
    "\n",
    "    # sort the videos by similarity\n",
    "    video_vectors = video_vectors.sort_values(by=\"similarity\", ascending=False).head(\n",
    "        rows\n",
    "    )\n",
    "\n",
    "    # return the top rows\n",
    "    return video_vectors.head(rows)"
   ]
  },
  {
   "cell_type": "markdown",
   "metadata": {},
   "source": [
    "ही फंक्शन खूप सोपी आहे, ती फक्त शोध क्वेरीचे परिणाम छापते.\n"
   ]
  },
  {
   "cell_type": "code",
   "execution_count": null,
   "metadata": {},
   "outputs": [],
   "source": [
    "def display_results(videos: pd.core.frame.DataFrame, query: str):\n",
    "    def _gen_yt_url(video_id: str, seconds: int) -> str:\n",
    "        \"\"\"convert time in format 00:00:00 to seconds\"\"\"\n",
    "        return f\"https://youtu.be/{video_id}?t={seconds}\"\n",
    "\n",
    "    print(f\"\\nVideos similar to '{query}':\")\n",
    "    for _, row in videos.iterrows():\n",
    "        youtube_url = _gen_yt_url(row[\"videoId\"], row[\"seconds\"])\n",
    "        print(f\" - {row['title']}\")\n",
    "        print(f\"   Summary: {' '.join(row['summary'].split()[:15])}...\")\n",
    "        print(f\"   YouTube: {youtube_url}\")\n",
    "        print(f\"   Similarity: {row['similarity']}\")\n",
    "        print(f\"   Speakers: {row['speaker']}\")"
   ]
  },
  {
   "cell_type": "markdown",
   "metadata": {},
   "source": [
    "1. प्रथम, Embedding Index एक Pandas Dataframe मध्ये लोड केला जातो.\n",
    "2. पुढे, वापरकर्त्याला एक क्वेरी टाकण्यास सांगितले जाते.\n",
    "3. नंतर `get_videos` फंक्शन कॉल करून Embedding Index मध्ये त्या क्वेरीसाठी शोध घेतला जातो.\n",
    "4. शेवटी, `display_results` फंक्शन कॉल करून वापरकर्त्याला निकाल दाखवले जातात.\n",
    "5. त्यानंतर वापरकर्त्याला पुन्हा एक क्वेरी टाकण्यास सांगितले जाते. हा प्रक्रिया वापरकर्ता `exit` टाकेपर्यंत सुरू राहते.\n",
    "\n",
    "![](../../../../translated_images/notebook-search.1e320b9c7fcbb0bc1436d98ea6ee73b4b54ca47990a1c952b340a2cadf8ac1ca.mr.png)\n",
    "\n",
    "तुम्हाला क्वेरी टाकण्यास सांगितले जाईल. एक क्वेरी टाका आणि enter दाबा. अ‍ॅप्लिकेशन त्या क्वेरीसाठी संबंधित व्हिडिओंची यादी परत करेल. तसेच, प्रश्नाचे उत्तर ज्या ठिकाणी व्हिडिओमध्ये आहे त्या ठिकाणाचा दुवा देखील अ‍ॅप्लिकेशन परत करेल.\n",
    "\n",
    "हे काही क्वेरी आहेत ज्या तुम्ही वापरून पाहू शकता:\n",
    "\n",
    "- Azure Machine Learning म्हणजे काय?\n",
    "- convolutional neural networks कसे काम करतात?\n",
    "- neural network म्हणजे काय?\n",
    "- मी Azure Machine Learning सोबत Jupyter Notebooks वापरू शकतो का?\n",
    "- ONNX म्हणजे काय?\n"
   ]
  },
  {
   "cell_type": "code",
   "execution_count": null,
   "metadata": {},
   "outputs": [],
   "source": [
    "pd_vectors = load_dataset(DATASET_NAME)\n",
    "\n",
    "# get user query from imput\n",
    "while True:\n",
    "    query = input(\"Enter a query: \")\n",
    "    if query == \"exit\":\n",
    "        break\n",
    "    videos = get_videos(query, pd_vectors, 5)\n",
    "    display_results(videos, query)"
   ]
  },
  {
   "cell_type": "markdown",
   "metadata": {},
   "source": []
  },
  {
   "cell_type": "markdown",
   "metadata": {},
   "source": [
    "\n---\n\n**अस्वीकरण**:  \nहे दस्तऐवज AI भाषांतर सेवा [Co-op Translator](https://github.com/Azure/co-op-translator) वापरून भाषांतरित केले आहे. आम्ही अचूकतेसाठी प्रयत्नशील असलो तरी, कृपया लक्षात घ्या की स्वयंचलित भाषांतरांमध्ये त्रुटी किंवा अचूकतेचा अभाव असू शकतो. मूळ भाषेतील मूळ दस्तऐवज हा अधिकृत स्रोत मानावा. अत्यावश्यक माहितीसाठी व्यावसायिक मानवी भाषांतराची शिफारस केली जाते. या भाषांतराचा वापर केल्यामुळे उद्भवणाऱ्या कोणत्याही गैरसमजुती किंवा चुकीच्या अर्थ लावण्यास आम्ही जबाबदार राहणार नाही.\n"
   ]
  }
 ],
 "metadata": {
  "kernelspec": {
   "display_name": "venv",
   "language": "python",
   "name": "python3"
  },
  "language_info": {
   "codemirror_mode": {
    "name": "ipython",
    "version": 3
   },
   "file_extension": ".py",
   "mimetype": "text/x-python",
   "name": "python",
   "nbconvert_exporter": "python",
   "pygments_lexer": "ipython3",
   "version": "3.10.13"
  },
  "coopTranslator": {
   "original_hash": "32c6b8e9e87156b9c63ee62a6fd7f526",
   "translation_date": "2025-08-25T18:41:37+00:00",
   "source_file": "08-building-search-applications/python/aoai-solution.ipynb",
   "language_code": "mr"
  }
 },
 "nbformat": 4,
 "nbformat_minor": 2
}