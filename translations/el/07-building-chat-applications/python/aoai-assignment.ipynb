{
 "cells": [
  {
   "attachments": {},
   "cell_type": "markdown",
   "metadata": {
    "nteract": {
     "transient": {
      "deleting": false
     }
    }
   },
   "source": [
    "# Κεφάλαιο 7: Δημιουργία Εφαρμογών Συνομιλίας\n",
    "## Γρήγορη Εκκίνηση με το Azure OpenAI API\n"
   ]
  },
  {
   "attachments": {},
   "cell_type": "markdown",
   "metadata": {
    "nteract": {
     "transient": {
      "deleting": false
     }
    }
   },
   "source": [
    "## Επισκόπηση\n",
    "Αυτό το notebook είναι προσαρμοσμένο από το [Azure OpenAI Samples Repository](https://github.com/Azure/azure-openai-samples?WT.mc_id=academic-105485-koreyst), το οποίο περιλαμβάνει notebooks που έχουν επίσης πρόσβαση στην υπηρεσία [OpenAI](notebook-openai.ipynb).\n",
    "\n",
    "Το Python OpenAI API λειτουργεί και με το Azure OpenAI, με μερικές μικρές τροποποιήσεις. Μάθετε περισσότερα για τις διαφορές εδώ: [Πώς να αλλάξετε μεταξύ OpenAI και Azure OpenAI endpoints με Python](https://learn.microsoft.com/azure/ai-services/openai/how-to/switching-endpoints?WT.mc_id=academic-109527-jasmineg)\n",
    "\n",
    "Για περισσότερα παραδείγματα γρήγορης εκκίνησης, παρακαλούμε ανατρέξτε στην επίσημη [Τεκμηρίωση Γρήγορης Εκκίνησης του Azure OpenAI](https://learn.microsoft.com/azure/cognitive-services/openai/quickstart?pivots=programming-language-studio&WT.mc_id=academic-105485-koreyst)\n"
   ]
  },
  {
   "attachments": {},
   "cell_type": "markdown",
   "metadata": {
    "nteract": {
     "transient": {
      "deleting": false
     }
    }
   },
   "source": [
    "## Πίνακας Περιεχομένων  \n",
    "\n",
    "[Επισκόπηση](../../../../07-building-chat-applications/python)  \n",
    "[Ξεκινώντας με την Υπηρεσία Azure OpenAI](../../../../07-building-chat-applications/python)  \n",
    "[Δημιουργήστε το πρώτο σας prompt](../../../../07-building-chat-applications/python)  \n",
    "\n",
    "[Περιπτώσεις Χρήσης](../../../../07-building-chat-applications/python)    \n",
    "[1. Περίληψη Κειμένου](../../../../07-building-chat-applications/python)  \n",
    "[2. Κατηγοριοποίηση Κειμένου](../../../../07-building-chat-applications/python)  \n",
    "[3. Δημιουργία Νέων Ονομάτων Προϊόντων](../../../../07-building-chat-applications/python)  \n",
    "[4. Βελτίωση Ενός Ταξινομητή](../../../../07-building-chat-applications/python)  \n",
    "[5. Ενσωματώσεις](../../../../07-building-chat-applications/python)\n",
    "\n",
    "[Αναφορές](../../../../07-building-chat-applications/python)\n"
   ]
  },
  {
   "attachments": {},
   "cell_type": "markdown",
   "metadata": {
    "nteract": {
     "transient": {
      "deleting": false
     }
    }
   },
   "source": [
    "### Ξεκινώντας με την Υπηρεσία Azure OpenAI\n",
    "\n",
    "Οι νέοι πελάτες θα πρέπει να [κάνουν αίτηση για πρόσβαση](https://aka.ms/oai/access?WT.mc_id=academic-105485-koreyst) στην Υπηρεσία Azure OpenAI.  \n",
    "Αφού ολοκληρωθεί η έγκριση, οι πελάτες μπορούν να συνδεθούν στο Azure portal, να δημιουργήσουν έναν πόρο Azure OpenAI Service και να ξεκινήσουν να πειραματίζονται με τα μοντέλα μέσω του studio  \n",
    "\n",
    "[Εξαιρετική πηγή για να ξεκινήσετε γρήγορα](https://techcommunity.microsoft.com/blog/educatordeveloperblog/azure-openai-service-is-now-generally-available/3719177?WT.mc_id=academic-105485-koreyst)\n"
   ]
  },
  {
   "attachments": {},
   "cell_type": "markdown",
   "metadata": {
    "nteract": {
     "transient": {
      "deleting": false
     }
    }
   },
   "source": [
    "### Δημιουργήστε το πρώτο σας prompt  \n",
    "Αυτή η σύντομη άσκηση θα σας δώσει μια βασική εισαγωγή για το πώς να υποβάλετε prompts σε ένα μοντέλο της OpenAI για μια απλή εργασία \"περίληψης\".\n",
    "\n",
    "**Βήματα**:  \n",
    "1. Εγκαταστήστε τη βιβλιοθήκη OpenAI στο περιβάλλον python σας  \n",
    "2. Φορτώστε τις βασικές βοηθητικές βιβλιοθήκες και ορίστε τα συνηθισμένα διαπιστευτήρια ασφαλείας OpenAI για την υπηρεσία OpenAI που έχετε δημιουργήσει  \n",
    "3. Επιλέξτε ένα μοντέλο για την εργασία σας  \n",
    "4. Δημιουργήστε ένα απλό prompt για το μοντέλο  \n",
    "5. Υποβάλετε το αίτημά σας στο API του μοντέλου!\n"
   ]
  },
  {
   "attachments": {},
   "cell_type": "markdown",
   "metadata": {
    "nteract": {
     "transient": {
      "deleting": false
     }
    }
   },
   "source": [
    "### 1. Εγκαταστήστε το OpenAI\n"
   ]
  },
  {
   "cell_type": "markdown",
   "metadata": {},
   "source": [
    "> [!NOTE] Αυτό το βήμα δεν είναι απαραίτητο αν εκτελείτε αυτό το σημειωματάριο σε Codespaces ή μέσα σε ένα Devcontainer\n"
   ]
  },
  {
   "cell_type": "code",
   "execution_count": null,
   "metadata": {
    "gather": {
     "logged": 1674254990318
    },
    "jupyter": {
     "outputs_hidden": true,
     "source_hidden": false
    },
    "nteract": {
     "transient": {
      "deleting": false
     }
    }
   },
   "outputs": [],
   "source": [
    "%pip install openai python-dotenv"
   ]
  },
  {
   "attachments": {},
   "cell_type": "markdown",
   "metadata": {
    "nteract": {
     "transient": {
      "deleting": false
     }
    }
   },
   "source": [
    "### 2. Εισαγωγή βοηθητικών βιβλιοθηκών και δημιουργία διαπιστευτηρίων\n"
   ]
  },
  {
   "cell_type": "code",
   "execution_count": null,
   "metadata": {
    "gather": {
     "logged": 1674829434433
    },
    "jupyter": {
     "outputs_hidden": false,
     "source_hidden": false
    },
    "nteract": {
     "transient": {
      "deleting": false
     }
    }
   },
   "outputs": [],
   "source": [
    "import os\n",
    "from openai import AzureOpenAI\n",
    "import numpy as np\n",
    "from dotenv import load_dotenv\n",
    "load_dotenv()\n",
    "\n",
    "#validate data inside .env file\n",
    "\n",
    "client = AzureOpenAI(\n",
    "  api_key=os.environ['AZURE_OPENAI_API_KEY'],  # this is also the default, it can be omitted\n",
    "  api_version = \"2023-05-15\"\n",
    "  )"
   ]
  },
  {
   "attachments": {},
   "cell_type": "markdown",
   "metadata": {
    "nteract": {
     "transient": {
      "deleting": false
     }
    }
   },
   "source": [
    "### 3. Εύρεση του κατάλληλου μοντέλου  \n",
    "Τα μοντέλα GPT-3.5-turbo ή GPT-4 μπορούν να κατανοήσουν και να παράγουν φυσική γλώσσα. Η υπηρεσία προσφέρει τέσσερις δυνατότητες μοντέλων, καθεμία με διαφορετικά επίπεδα ισχύος και ταχύτητας, κατάλληλα για διαφορετικές εργασίες.\n",
    "\n",
    "[Azure OpenAI models](https://learn.microsoft.com/azure/cognitive-services/openai/concepts/models?WT.mc_id=academic-105485-koreyst)\n"
   ]
  },
  {
   "cell_type": "code",
   "execution_count": null,
   "metadata": {
    "gather": {
     "logged": 1674742720788
    },
    "jupyter": {
     "outputs_hidden": true,
     "source_hidden": false
    },
    "nteract": {
     "transient": {
      "deleting": false
     }
    }
   },
   "outputs": [],
   "source": [
    "# Select the General Purpose curie model for text\n",
    "model = os.environ['AZURE_OPENAI_DEPLOYMENT']"
   ]
  },
  {
   "attachments": {},
   "cell_type": "markdown",
   "metadata": {
    "nteract": {
     "transient": {
      "deleting": false
     }
    }
   },
   "source": [
    "## 4. Σχεδιασμός Προτροπών  \n",
    "\n",
    "«Η μαγεία των μεγάλων γλωσσικών μοντέλων είναι ότι, εκπαιδευόμενα να ελαχιστοποιούν το σφάλμα πρόβλεψης σε τεράστιες ποσότητες κειμένου, τα μοντέλα καταλήγουν να μαθαίνουν έννοιες χρήσιμες για αυτές τις προβλέψεις. Για παράδειγμα, μαθαίνουν έννοιες όπως»(1):\n",
    "\n",
    "* πώς να γράφουν σωστά\n",
    "* πώς λειτουργεί η γραμματική\n",
    "* πώς να παραφράζουν\n",
    "* πώς να απαντούν σε ερωτήσεις\n",
    "* πώς να διατηρούν μια συζήτηση\n",
    "* πώς να γράφουν σε πολλές γλώσσες\n",
    "* πώς να γράφουν κώδικα\n",
    "* κ.ά.\n",
    "\n",
    "#### Πώς να ελέγξετε ένα μεγάλο γλωσσικό μοντέλο  \n",
    "«Από όλες τις εισόδους σε ένα μεγάλο γλωσσικό μοντέλο, μακράν η πιο σημαντική είναι η προτροπή κειμένου»(1).\n",
    "\n",
    "Τα μεγάλα γλωσσικά μοντέλα μπορούν να παρακινηθούν να παράγουν έξοδο με μερικούς τρόπους:\n",
    "\n",
    "- Οδηγία: Πείτε στο μοντέλο τι θέλετε\n",
    "- Συμπλήρωση: Κάντε το μοντέλο να συμπληρώσει την αρχή αυτού που θέλετε\n",
    "- Επίδειξη: Δείξτε στο μοντέλο τι θέλετε, είτε με:\n",
    "- Μερικά παραδείγματα στην προτροπή\n",
    "- Εκατοντάδες ή χιλιάδες παραδείγματα σε ένα σύνολο εκπαίδευσης fine-tuning\n",
    "\n",
    "\n",
    "\n",
    "#### Υπάρχουν τρεις βασικές οδηγίες για τη δημιουργία προτροπών:\n",
    "\n",
    "**Δείξτε και πείτε.** Κάντε ξεκάθαρο τι θέλετε είτε μέσω οδηγιών, παραδειγμάτων ή συνδυασμού των δύο. Αν θέλετε το μοντέλο να ταξινομήσει μια λίστα αντικειμένων αλφαβητικά ή να ταξινομήσει μια παράγραφο με βάση το συναίσθημα, δείξτε του ότι αυτό θέλετε.\n",
    "\n",
    "**Παρέχετε ποιοτικά δεδομένα.** Αν προσπαθείτε να φτιάξετε έναν ταξινομητή ή να κάνετε το μοντέλο να ακολουθήσει ένα μοτίβο, βεβαιωθείτε ότι υπάρχουν αρκετά παραδείγματα. Ελέγξτε προσεκτικά τα παραδείγματά σας — το μοντέλο συνήθως είναι αρκετά έξυπνο για να καταλάβει βασικά ορθογραφικά λάθη και να σας δώσει μια απάντηση, αλλά μπορεί επίσης να υποθέσει ότι αυτό είναι σκόπιμο και να επηρεάσει την απάντηση.\n",
    "\n",
    "**Ελέγξτε τις ρυθμίσεις σας.** Οι ρυθμίσεις temperature και top_p ελέγχουν πόσο ντετερμινιστικό είναι το μοντέλο στην παραγωγή απάντησης. Αν ζητάτε μια απάντηση όπου υπάρχει μόνο μία σωστή απάντηση, τότε θα θέλετε να τις ορίσετε χαμηλά. Αν θέλετε πιο ποικίλες απαντήσεις, τότε ίσως να τις ορίσετε πιο ψηλά. Το πιο συχνό λάθος που κάνουν οι άνθρωποι με αυτές τις ρυθμίσεις είναι να υποθέτουν ότι ελέγχουν την «ευφυΐα» ή τη «δημιουργικότητα» του μοντέλου.\n",
    "\n",
    "\n",
    "Πηγή: https://learn.microsoft.com/azure/ai-services/openai/overview\n"
   ]
  },
  {
   "attachments": {},
   "cell_type": "markdown",
   "metadata": {
    "nteract": {
     "transient": {
      "deleting": false
     }
    }
   },
   "source": []
  },
  {
   "attachments": {},
   "cell_type": "markdown",
   "metadata": {
    "nteract": {
     "transient": {
      "deleting": false
     }
    }
   },
   "source": []
  },
  {
   "cell_type": "code",
   "execution_count": null,
   "metadata": {
    "gather": {
     "logged": 1674494935186
    },
    "jupyter": {
     "outputs_hidden": false,
     "source_hidden": false
    },
    "nteract": {
     "transient": {
      "deleting": false
     }
    }
   },
   "outputs": [],
   "source": [
    "# Create your first prompt\n",
    "text_prompt = \"Should oxford commas always be used?\"\n",
    "\n",
    "response = client.chat.completions.create(\n",
    "  model=model,\n",
    "  messages = [{\"role\":\"system\", \"content\":\"You are a helpful assistant.\"},\n",
    "               {\"role\":\"user\",\"content\":text_prompt},])\n",
    "\n",
    "response.choices[0].message.content"
   ]
  },
  {
   "attachments": {},
   "cell_type": "markdown",
   "metadata": {
    "nteract": {
     "transient": {
      "deleting": false
     }
    }
   },
   "source": []
  },
  {
   "cell_type": "code",
   "execution_count": null,
   "metadata": {
    "gather": {
     "logged": 1674494940872
    },
    "jupyter": {
     "outputs_hidden": false,
     "source_hidden": false
    },
    "nteract": {
     "transient": {
      "deleting": false
     }
    }
   },
   "outputs": [],
   "source": [
    "\n",
    "response = client.chat.completions.create(\n",
    "  model=model,\n",
    "  messages = [{\"role\":\"system\", \"content\":\"You are a helpful assistant.\"},\n",
    "               {\"role\":\"user\",\"content\":text_prompt},])\n",
    "\n",
    "response.choices[0].message.content"
   ]
  },
  {
   "attachments": {},
   "cell_type": "markdown",
   "metadata": {
    "nteract": {
     "transient": {
      "deleting": false
     }
    }
   },
   "source": [
    "## Περίληψη Κειμένου  \n",
    "#### Πρόκληση  \n",
    "Περίληψε κείμενο προσθέτοντας ένα 'tl;dr:' στο τέλος ενός αποσπάσματος. Παρατήρησε πώς το μοντέλο καταλαβαίνει πώς να εκτελέσει διάφορες εργασίες χωρίς επιπλέον οδηγίες. Μπορείς να πειραματιστείς με πιο περιγραφικές προτροπές από το tl;dr για να τροποποιήσεις τη συμπεριφορά του μοντέλου και να προσαρμόσεις την περίληψη που λαμβάνεις(3).  \n",
    "\n",
    "Πρόσφατες μελέτες έχουν δείξει σημαντική πρόοδο σε πολλές εργασίες και αξιολογήσεις NLP μέσω προεκπαίδευσης σε μεγάλο όγκο κειμένου και στη συνέχεια εξειδικευμένης εκπαίδευσης για συγκεκριμένη εργασία. Αν και η αρχιτεκτονική είναι συνήθως ανεξάρτητη από την εργασία, αυτή η μέθοδος εξακολουθεί να απαιτεί εξειδικευμένα σύνολα δεδομένων με χιλιάδες ή δεκάδες χιλιάδες παραδείγματα. Αντίθετα, οι άνθρωποι μπορούν συνήθως να εκτελέσουν μια νέα γλωσσική εργασία με λίγα μόνο παραδείγματα ή απλές οδηγίες – κάτι που τα τρέχοντα συστήματα NLP δυσκολεύονται ακόμα να πετύχουν. Εδώ δείχνουμε ότι η αύξηση της κλίμακας των γλωσσικών μοντέλων βελτιώνει σημαντικά την απόδοση σε εργασίες με λίγα παραδείγματα, συχνά φτάνοντας σε ανταγωνιστικά επίπεδα με προηγούμενες κορυφαίες μεθόδους εξειδικευμένης εκπαίδευσης.  \n",
    "\n",
    "Tl;dr\n"
   ]
  },
  {
   "attachments": {},
   "cell_type": "markdown",
   "metadata": {
    "nteract": {
     "transient": {
      "deleting": false
     }
    }
   },
   "source": [
    "# Ασκήσεις για διάφορες περιπτώσεις χρήσης  \n",
    "1. Περίληψη Κειμένου  \n",
    "2. Κατηγοριοποίηση Κειμένου  \n",
    "3. Δημιουργία Νέων Ονομάτων Προϊόντων  \n",
    "4. Ενσωματώσεις  \n",
    "5. Βελτιστοποίηση ενός ταξινομητή\n"
   ]
  },
  {
   "cell_type": "code",
   "execution_count": null,
   "metadata": {
    "gather": {
     "logged": 1674495198534
    },
    "jupyter": {
     "outputs_hidden": false,
     "source_hidden": false
    },
    "nteract": {
     "transient": {
      "deleting": false
     }
    }
   },
   "outputs": [],
   "source": [
    "prompt = \"Recent work has demonstrated substantial gains on many NLP tasks and benchmarks by pre-training on a large corpus of text followed by fine-tuning on a specific task. While typically task-agnostic in architecture, this method still requires task-specific fine-tuning datasets of thousands or tens of thousands of examples. By contrast, humans can generally perform a new language task from only a few examples or from simple instructions - something that current NLP systems still largely struggle to do. Here we show that scaling up language models greatly improves task-agnostic, few-shot performance, sometimes even reaching competitiveness with prior state-of-the-art fine-tuning approaches.\\n\\ntl;dr\"\n"
   ]
  },
  {
   "cell_type": "code",
   "execution_count": null,
   "metadata": {
    "gather": {
     "logged": 1674495201868
    },
    "jupyter": {
     "outputs_hidden": false,
     "source_hidden": false
    },
    "nteract": {
     "transient": {
      "deleting": false
     }
    }
   },
   "outputs": [],
   "source": [
    "#Setting a few additional, typical parameters during API Call\n",
    "\n",
    "response = client.chat.completions.create(\n",
    "  model=model,\n",
    "  messages = [{\"role\":\"system\", \"content\":\"You are a helpful assistant.\"},\n",
    "               {\"role\":\"user\",\"content\":prompt},])\n",
    "\n",
    "response.choices[0].message.content"
   ]
  },
  {
   "attachments": {},
   "cell_type": "markdown",
   "metadata": {
    "nteract": {
     "transient": {
      "deleting": false
     }
    }
   },
   "source": [
    "## Κατηγοριοποίηση Κειμένου  \n",
    "#### Πρόκληση  \n",
    "Κατατάξτε αντικείμενα σε κατηγορίες που δίνονται κατά τη διάρκεια της πρόβλεψης. Στο παρακάτω παράδειγμα, παρέχουμε τόσο τις κατηγορίες όσο και το κείμενο που θα ταξινομηθεί στην προτροπή (*playground_reference).\n",
    "\n",
    "Ερώτηση πελάτη: Γεια σας, ένα από τα πλήκτρα του πληκτρολογίου του φορητού μου υπολογιστή έσπασε πρόσφατα και θα χρειαστώ αντικατάσταση:\n",
    "\n",
    "Κατηγοριοποιημένη κατηγορία:\n"
   ]
  },
  {
   "cell_type": "code",
   "execution_count": null,
   "metadata": {
    "gather": {
     "logged": 1674499424645
    },
    "jupyter": {
     "outputs_hidden": false,
     "source_hidden": false
    },
    "nteract": {
     "transient": {
      "deleting": false
     }
    }
   },
   "outputs": [],
   "source": [
    "prompt = \"Classify the following inquiry into one of the following: categories: [Pricing, Hardware Support, Software Support]\\n\\ninquiry: Hello, one of the keys on my laptop keyboard broke recently and I'll need a replacement:\\n\\nClassified category:\"\n",
    "print(prompt)"
   ]
  },
  {
   "cell_type": "code",
   "execution_count": null,
   "metadata": {
    "gather": {
     "logged": 1674499378518
    },
    "jupyter": {
     "outputs_hidden": false,
     "source_hidden": false
    },
    "nteract": {
     "transient": {
      "deleting": false
     }
    }
   },
   "outputs": [],
   "source": [
    "#Setting a few additional, typical parameters during API Call\n",
    "\n",
    "response = client.chat.completions.create(\n",
    "  model=model,\n",
    "  messages = [{\"role\":\"system\", \"content\":\"You are a helpful assistant.\"},\n",
    "               {\"role\":\"user\",\"content\":prompt},])\n",
    "\n",
    "response.choices[0].message.content"
   ]
  },
  {
   "attachments": {},
   "cell_type": "markdown",
   "metadata": {
    "nteract": {
     "transient": {
      "deleting": false
     }
    }
   },
   "source": [
    "## Δημιουργία Νέων Ονομάτων Προϊόντων\n",
    "#### Πρόκληση\n",
    "Δημιουργήστε ονόματα προϊόντων από παραδείγματα λέξεων. Εδώ συμπεριλαμβάνουμε στην προτροπή πληροφορίες για το προϊόν για το οποίο θα δημιουργήσουμε ονόματα. Παρέχουμε επίσης ένα παρόμοιο παράδειγμα για να δείξουμε το μοτίβο που θέλουμε να λάβουμε. Έχουμε επίσης ορίσει υψηλή τιμή για το temperature ώστε να αυξήσουμε την τυχαιότητα και να έχουμε πιο καινοτόμες απαντήσεις.\n",
    "\n",
    "Περιγραφή προϊόντος: Μια οικιακή συσκευή για milkshake\n",
    "Λέξεις-κλειδιά: γρήγορο, υγιεινό, compact.\n",
    "Ονόματα προϊόντων: HomeShaker, Fit Shaker, QuickShake, Shake Maker\n",
    "\n",
    "Περιγραφή προϊόντος: Ένα ζευγάρι παπούτσια που μπορεί να ταιριάξει σε κάθε μέγεθος ποδιού.\n",
    "Λέξεις-κλειδιά: προσαρμοστικό, εφαρμογή, omni-fit.\n"
   ]
  },
  {
   "cell_type": "code",
   "execution_count": null,
   "metadata": {
    "gather": {
     "logged": 1674257087279
    },
    "jupyter": {
     "outputs_hidden": false,
     "source_hidden": false
    },
    "nteract": {
     "transient": {
      "deleting": false
     }
    }
   },
   "outputs": [],
   "source": [
    "prompt = \"Product description: A home milkshake maker\\nSeed words: fast, healthy, compact.\\nProduct names: HomeShaker, Fit Shaker, QuickShake, Shake Maker\\n\\nProduct description: A pair of shoes that can fit any foot size.\\nSeed words: adaptable, fit, omni-fit.\"\n",
    "\n",
    "print(prompt)"
   ]
  },
  {
   "cell_type": "code",
   "execution_count": null,
   "metadata": {
    "jupyter": {
     "outputs_hidden": false,
     "source_hidden": false
    },
    "nteract": {
     "transient": {
      "deleting": false
     }
    }
   },
   "outputs": [],
   "source": [
    "#Setting a few additional, typical parameters during API Call\n",
    "\n",
    "response = client.chat.completions.create(\n",
    "  model=model,\n",
    "  messages = [{\"role\":\"system\", \"content\":\"You are a helpful assistant.\"},\n",
    "               {\"role\":\"user\",\"content\":prompt}])\n",
    "\n",
    "response.choices[0].message.content"
   ]
  },
  {
   "attachments": {},
   "cell_type": "markdown",
   "metadata": {
    "nteract": {
     "transient": {
      "deleting": false
     }
    }
   },
   "source": [
    "## Ενσωματώσεις\n",
    "Αυτή η ενότητα θα δείξει πώς να ανακτήσετε ενσωματώσεις και να βρείτε ομοιότητες μεταξύ λέξεων, προτάσεων και εγγράφων. Για να εκτελέσετε τα παρακάτω notebooks, χρειάζεται να αναπτύξετε ένα μοντέλο που χρησιμοποιεί το `text-embedding-ada-002` ως βασικό μοντέλο και να ορίσετε το όνομα της ανάπτυξής του στο αρχείο .env, χρησιμοποιώντας τη μεταβλητή `AZURE_OPENAI_EMBEDDINGS_DEPLOYMENT`.\n"
   ]
  },
  {
   "attachments": {},
   "cell_type": "markdown",
   "metadata": {
    "nteract": {
     "transient": {
      "deleting": false
     }
    }
   },
   "source": [
    "### Ταξινομία Μοντέλων - Επιλογή μοντέλου ενσωμάτωσης\n",
    "\n",
    "**Ταξινομία μοντέλου**: {family} - {capability} - {input-type} - {identifier}  \n",
    "\n",
    "{family}     --> text-embedding  (οικογένεια ενσωματώσεων)  \n",
    "{capability} --> ada             (όλα τα άλλα μοντέλα ενσωμάτωσης θα αποσυρθούν το 2024)  \n",
    "{input-type} --> n/a             (καθορίζεται μόνο για μοντέλα αναζήτησης)  \n",
    "{identifier} --> 002             (έκδοση 002)  \n",
    "\n",
    "model = 'text-embedding-ada-002'\n"
   ]
  },
  {
   "cell_type": "markdown",
   "metadata": {},
   "source": [
    "> [!NOTE] Το παρακάτω βήμα δεν είναι απαραίτητο αν εκτελείτε αυτό το σημειωματάριο σε Codespaces ή μέσα σε Devcontainer\n"
   ]
  },
  {
   "cell_type": "code",
   "execution_count": null,
   "metadata": {},
   "outputs": [],
   "source": [
    "# Dependencies for embeddings_utils\n",
    "%pip install matplotlib plotly scikit-learn pandas"
   ]
  },
  {
   "cell_type": "code",
   "execution_count": null,
   "metadata": {
    "gather": {
     "logged": 1674829364153
    },
    "jupyter": {
     "outputs_hidden": false,
     "source_hidden": false
    },
    "nteract": {
     "transient": {
      "deleting": false
     }
    }
   },
   "outputs": [],
   "source": [
    "def cosine_similarity(a, b):\n",
    "    return np.dot(a, b) / (np.linalg.norm(a) * np.linalg.norm(b))"
   ]
  },
  {
   "cell_type": "code",
   "execution_count": null,
   "metadata": {
    "gather": {
     "logged": 1674829424097
    },
    "jupyter": {
     "outputs_hidden": false,
     "source_hidden": false
    },
    "nteract": {
     "transient": {
      "deleting": false
     }
    }
   },
   "outputs": [],
   "source": [
    "text = 'the quick brown fox jumped over the lazy dog'\n",
    "model= os.environ['AZURE_OPENAI_EMBEDDINGS_DEPLOYMENT']\n",
    "client.embeddings.create(input='[text]', model=model).data[0].embedding"
   ]
  },
  {
   "cell_type": "code",
   "execution_count": null,
   "metadata": {
    "gather": {
     "logged": 1674829555255
    },
    "jupyter": {
     "outputs_hidden": false,
     "source_hidden": false
    },
    "nteract": {
     "transient": {
      "deleting": false
     }
    }
   },
   "outputs": [],
   "source": [
    "\n",
    "# compare several words\n",
    "automobile_embedding  = client.embeddings.create(input='automobile', model=model).data[0].embedding\n",
    "vehicle_embedding     = client.embeddings.create(input='vehicle', model=model).data[0].embedding\n",
    "dinosaur_embedding    = client.embeddings.create(input='dinosaur', model=model).data[0].embedding\n",
    "stick_embedding       = client.embeddings.create(input='stick', model=model).data[0].embedding\n",
    "\n",
    "print(cosine_similarity(automobile_embedding, vehicle_embedding))\n",
    "print(cosine_similarity(automobile_embedding, dinosaur_embedding))\n",
    "print(cosine_similarity(automobile_embedding, stick_embedding))"
   ]
  },
  {
   "attachments": {},
   "cell_type": "markdown",
   "metadata": {
    "nteract": {
     "transient": {
      "deleting": false
     }
    }
   },
   "source": [
    "## Σύγκριση άρθρου από το σύνολο δεδομένων cnn daily news  \n",
    "πηγή: https://huggingface.co/datasets/cnn_dailymail\n"
   ]
  },
  {
   "cell_type": "code",
   "execution_count": null,
   "metadata": {
    "gather": {
     "logged": 1674831122093
    },
    "jupyter": {
     "outputs_hidden": false,
     "source_hidden": false
    },
    "nteract": {
     "transient": {
      "deleting": false
     }
    }
   },
   "outputs": [],
   "source": [
    "import pandas as pd\n",
    "cnn_daily_articles = ['BREMEN, Germany -- Carlos Alberto, who scored in FC Porto\\'s Champions League final victory against Monaco in 2004, has joined Bundesliga club Werder Bremen for a club record fee of 7.8 million euros ($10.7 million). Carlos Alberto enjoyed success at FC Porto under Jose Mourinho. \"I\\'m here to win titles with Werder,\" the 22-year-old said after his first training session with his new club. \"I like Bremen and would only have wanted to come here.\" Carlos Alberto started his career with Fluminense, and helped them to lift the Campeonato Carioca in 2002. In January 2004 he moved on to FC Porto, who were coached by José Mourinho, and the club won the Portuguese title as well as the Champions League. Early in 2005, he moved to Corinthians, where he impressed as they won the Brasileirão,but in 2006 Corinthians had a poor season and Carlos Alberto found himself at odds with manager, Emerson Leão. Their poor relationship came to a climax at a Copa Sul-Americana game against Club Atlético Lanús, and Carlos Alberto declared that he would not play for Corinthians again while Leão remained as manager. Since January this year he has been on loan with his first club Fluminense. Bundesliga champions VfB Stuttgart said on Sunday that they would sign a loan agreement with Real Zaragoza on Monday for Ewerthon, the third top Brazilian player to join the German league in three days. A VfB spokesman said Ewerthon, who played in the Bundesliga for Borussia Dortmund from 2001 to 2005, was expected to join the club for their pre-season training in Austria on Monday. On Friday, Ailton returned to Germany where he was the league\\'s top scorer in 2004, signing a one-year deal with Duisburg on a transfer from Red Star Belgrade. E-mail to a friend .',\n",
    "                        '(CNN) -- Football superstar, celebrity, fashion icon, multimillion-dollar heartthrob. Now, David Beckham is headed for the Hollywood Hills as he takes his game to U.S. Major League Soccer. CNN looks at how Bekham fulfilled his dream of playing for Manchester United, and his time playing for England. The world\\'s famous footballer has begun a five-year contract with the Los Angeles Galaxy team, and on Friday Beckham will meet the press and reveal his new shirt number. This week, we take an in depth look at the life and times of Beckham, as CNN\\'s very own \"Becks,\" Becky Anderson, sets out to examine what makes the man tick -- as footballer, fashion icon and global phenomenon. It\\'s a long way from the streets of east London to the Hollywood Hills and Becky charts Beckham\\'s incredible rise to football stardom, a journey that has seen his skills grace the greatest stages in world soccer. She goes in pursuit of the current hottest property on the sports/celebrity circuit in the U.S. and along the way explores exactly what\\'s behind the man with the golden boot. CNN will look back at the life of Beckham, the wonderfully talented youngster who fulfilled his dream of playing for Manchester United, his marriage to pop star Victoria, and the trials and tribulations of playing for England. We\\'ll look at the highs (scoring against Greece), the lows (being sent off during the World Cup), the Man. U departure for the Galacticos of Madrid -- and now the Home Depot stadium in L.A. We\\'ll ask how Beckham and his family will adapt to life in Los Angeles -- the people, the places to see and be seen and the celebrity endorsement. Beckham is no stranger to exposure. He has teamed with Reggie Bush in an Adidas commercial, is the face of Motorola, is the face on a PlayStation game and doesn\\'t need fashion tips as he has his own international clothing line. But what does the star couple need to do to become an accepted part of Tinseltown\\'s glitterati? The road to major league football in the U.S.A. is a well-worn route for some of the world\\'s greatest players. We talk to some of the former greats who came before him and examine what impact these overseas stars had on U.S. soccer and look at what is different now. We also get a rare glimpse inside the David Beckham academy in L.A, find out what drives the kids and who are their heroes. The perception that in the U.S.A. soccer is a \"game for girls\" after the teenage years is changing. More and more young kids are choosing the European game over the traditional U.S. sports. E-mail to a friend .',\n",
    "                        'LOS ANGELES, California (CNN) -- Youssif, the 5-year-old burned Iraqi boy, rounded the corner at Universal Studios when suddenly the little boy hero met his favorite superhero. Youssif has always been a huge Spider-Man fan. Meeting him was \"my favorite thing,\" he said. Spider-Man was right smack dab in front of him, riding a four-wheeler amid a convoy of other superheroes. The legendary climber of buildings and fighter of evil dismounted, walked over to Youssif and introduced himself. Spidey then gave the boy from a far-away land a gentle hug, embracing him in his iconic blue and red tights. He showed Youssif a few tricks, like how to shoot a web from his wrist. Only this time, no web was spun. \"All right Youssif!\" Spider-Man said after the boy mimicked his wrist movement. Other superheroes crowded around to get a closer look. Even the Green Goblin stopped his villainous ways to tell the boy hi. Youssif remained unfazed. He didn\\'t take a liking to Spider-Man\\'s nemesis. Spidey was just too cool. \"It was my favorite thing,\" the boy said later. \"I want to see him again.\" He then felt compelled to add: \"I know it\\'s not the real Spider-Man.\" This was the day of dreams when the boy\\'s nightmares were, at least temporarily, forgotten. He met SpongeBob, Lassie and a 3-year-old orangutan named Archie. The hairy, brownish-red primate took to the boy, grabbing his hand and holding it. Even when Youssif pulled away, Archie would inch his hand back toward the boy\\'s and then snatch it. See Youssif enjoy being a boy again » . The boy giggled inside a play area where sponge-like balls shot out of toy guns. It was a far different artillery than what he was used to seeing in central Baghdad, as recently as a week ago. He squealed with delight and raced around the room collecting as many balls as he could. He rode a tram through the back stages at Universal Studios. At one point, the car shook. Fire and smoke filled the air, debris cascaded down and a big rig skidded toward the vehicle. The boy and his family survived the pretend earthquake unscathed. \"Even I was scared,\" the dad said. \"Well, I wasn\\'t,\" Youssif replied. The father and mother grinned from ear to ear throughout the day. Youssif pushed his 14-month-old sister, Ayaa, in a stroller. \"Did you even need to ask us if we were interested in coming here?\" Youssif\\'s father said in amazement. \"Other than my wedding day, this is the happiest day of my life,\" he said. Just a day earlier, the mother and father talked about their journey out of Iraq and to the United States. They also discussed that day nine months ago when masked men grabbed their son outside the family home, doused him in gas and set him on fire. His mother heard her boy screaming from inside. The father sought help for his boy across Baghdad, but no one listened. He remembers his son\\'s two months of hospitalization. The doctors didn\\'t use anesthetics. He could hear his boy\\'s piercing screams from the other side of the hospital. Watch Youssif meet his doctor and play with his little sister » . The father knew that speaking to CNN would put his family\\'s lives in jeopardy. The possibility of being killed was better than seeing his son suffer, he said. \"Anything for Youssif,\" he said. \"We had to do it.\" They described a life of utter chaos in Baghdad. Neighbors had recently given birth to a baby girl. Shortly afterward, the father was kidnapped and killed. Then, there was the time when some girls wore tanktops and jeans. They were snatched off the street by gunmen. The stories can be even more gruesome. The couple said they had heard reports that a young girl was kidnapped and beheaded --and her killers sewed a dog\\'s head on the corpse and delivered it to her family\\'s doorstep. \"These are just some of the stories,\" said Youssif\\'s mother, Zainab. Under Saddam Hussein, there was more security and stability, they said. There was running water and electricity most of the time. But still life was tough under the dictator, like the time when Zainab\\'s uncle disappeared and was never heard from again after he read a \"religious book,\" she said. Sitting in the parking lot of a Target in suburban Los Angeles, Youssif\\'s father watched as husbands and wives, boyfriends and girlfriends, parents and their children, came and went. Some held hands. Others smiled and laughed. \"Iraq finished,\" he said in what few English words he knows. He elaborated in Arabic: His homeland won\\'t be enjoying such freedoms anytime soon. It\\'s just not possible. Too much violence. Too many killings. His two children have only seen war. But this week, the family has seen a much different side of America -- an outpouring of generosity and a peaceful nation at home. \"It\\'s been a dream,\" the father said. He used to do a lot of volunteer work back in Baghdad. \"Maybe that\\'s why I\\'m being helped now,\" the father said. At Universal Studios, he looked out across the valley below. The sun glistened off treetops and buildings. It was a picturesque sight fit for a Hollywood movie. \"Good America, good America,\" he said in English. E-mail to a friend . CNN\\'s Arwa Damon contributed to this report.'\n",
    "]\n",
    "\n",
    "cnn_daily_article_highlights = ['Werder Bremen pay a club record $10.7 million for Carlos Alberto .\\nThe Brazilian midfielder won the Champions League with FC Porto in 2004 .\\nSince January he has been on loan with his first club, Fluminense .',\n",
    "                                'Beckham has agreed to a five-year contract with Los Angeles Galaxy .\\nNew contract took effect July 1, 2007 .\\nFormer English captain to meet press, unveil new shirt number Friday .\\nCNN to look at Beckham as footballer, fashion icon and global phenomenon .',\n",
    "                                'Boy on meeting Spider-Man: \"It was my favorite thing\"\\nYoussif also met SpongeBob, Lassie and an orangutan at Universal Studios .\\nDad: \"Other than my wedding day, this is the happiest day of my life\"'\n",
    "]\n",
    "\n",
    "cnn_df = pd.DataFrame({\"articles\":cnn_daily_articles, \"highligths\":cnn_daily_article_highlights})\n",
    "\n",
    "cnn_df.head()"
   ]
  },
  {
   "cell_type": "code",
   "execution_count": null,
   "metadata": {
    "gather": {
     "logged": 1674831294043
    },
    "jupyter": {
     "outputs_hidden": false,
     "source_hidden": false
    },
    "nteract": {
     "transient": {
      "deleting": false
     }
    }
   },
   "outputs": [],
   "source": [
    "article1_embedding    = client.embeddings.create(input=cnn_df.articles.iloc[0], model=model).data[0].embedding\n",
    "article2_embedding    = client.embeddings.create(input=cnn_df.articles.iloc[1], model=model).data[0].embedding\n",
    "article3_embedding    = client.embeddings.create(input=cnn_df.articles.iloc[2], model=model).data[0].embedding\n",
    "\n",
    "print(cosine_similarity(article1_embedding, article2_embedding))\n",
    "print(cosine_similarity(article1_embedding, article3_embedding))"
   ]
  },
  {
   "attachments": {},
   "cell_type": "markdown",
   "metadata": {
    "nteract": {
     "transient": {
      "deleting": false
     }
    }
   },
   "source": [
    "# Αναφορές  \n",
    "- [Τεκμηρίωση Azure - Μοντέλα Azure OpenAI](https://learn.microsoft.com/azure/cognitive-services/openai/concepts/models?WT.mc_id=academic-105485-koreyst)  \n",
    "- [Παραδείγματα OpenAI Studio](https://oai.azure.com/portal?WT.mc_id=academic-105485-koreyst)\n"
   ]
  },
  {
   "attachments": {},
   "cell_type": "markdown",
   "metadata": {
    "nteract": {
     "transient": {
      "deleting": false
     }
    }
   },
   "source": [
    "# Για περισσότερη βοήθεια  \n",
    "[Ομάδα Εμπορικής Αξιοποίησης OpenAI](AzureOpenAITeam@microsoft.com)\n"
   ]
  },
  {
   "attachments": {},
   "cell_type": "markdown",
   "metadata": {
    "nteract": {
     "transient": {
      "deleting": false
     }
    }
   },
   "source": [
    "# Συντελεστές\n",
    "* Louis Li\n"
   ]
  },
  {
   "cell_type": "markdown",
   "metadata": {},
   "source": [
    "\n---\n\n**Αποποίηση Ευθύνης**:  \nΑυτό το έγγραφο έχει μεταφραστεί χρησιμοποιώντας την υπηρεσία αυτόματης μετάφρασης AI [Co-op Translator](https://github.com/Azure/co-op-translator). Παρόλο που καταβάλλουμε προσπάθειες για ακρίβεια, παρακαλούμε να γνωρίζετε ότι οι αυτόματες μεταφράσεις ενδέχεται να περιέχουν λάθη ή ανακρίβειες. Το πρωτότυπο έγγραφο στη μητρική του γλώσσα θα πρέπει να θεωρείται η αυθεντική πηγή. Για κρίσιμες πληροφορίες, συνιστάται επαγγελματική ανθρώπινη μετάφραση. Δεν φέρουμε ευθύνη για τυχόν παρανοήσεις ή εσφαλμένες ερμηνείες που προκύπτουν από τη χρήση αυτής της μετάφρασης.\n"
   ]
  }
 ],
 "metadata": {
  "kernel_info": {
   "name": "python310-sdkv2"
  },
  "kernelspec": {
   "display_name": "base",
   "language": "python",
   "name": "python3"
  },
  "language_info": {
   "codemirror_mode": {
    "name": "ipython",
    "version": 3
   },
   "file_extension": ".py",
   "mimetype": "text/x-python",
   "name": "python",
   "nbconvert_exporter": "python",
   "pygments_lexer": "ipython3",
   "version": "3.10.13"
  },
  "microsoft": {
   "host": {
    "AzureML": {
     "notebookHasBeenCompleted": true
    }
   }
  },
  "nteract": {
   "version": "nteract-front-end@1.0.0"
  },
  "coopTranslator": {
   "original_hash": "0d1caa6c42ad19d6268f0ea38a1f6421",
   "translation_date": "2025-08-25T16:52:44+00:00",
   "source_file": "07-building-chat-applications/python/aoai-assignment.ipynb",
   "language_code": "el"
  }
 },
 "nbformat": 4,
 "nbformat_minor": 2
}