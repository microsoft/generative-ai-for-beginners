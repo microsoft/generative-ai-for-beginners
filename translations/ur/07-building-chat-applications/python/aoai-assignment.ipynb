{
 "cells": [
  {
   "attachments": {},
   "cell_type": "markdown",
   "metadata": {
    "nteract": {
     "transient": {
      "deleting": false
     }
    }
   },
   "source": [
    "# باب 7: چیٹ ایپلیکیشنز بنانا\n",
    "## ایزور اوپن اے آئی اے پی آئی فوری آغاز\n"
   ]
  },
  {
   "attachments": {},
   "cell_type": "markdown",
   "metadata": {
    "nteract": {
     "transient": {
      "deleting": false
     }
    }
   },
   "source": [
    "## جائزہ\n",
    "\n",
    "یہ نوٹ بک [Azure OpenAI Samples Repository](https://github.com/Azure/azure-openai-samples?WT.mc_id=academic-105485-koreyst) سے لی گئی ہے، جس میں ایسی نوٹ بکس شامل ہیں جو [OpenAI](notebook-openai.ipynb) سروس تک بھی رسائی دیتی ہیں۔\n",
    "\n",
    "Python OpenAI API، Azure OpenAI کے ساتھ بھی کام کرتا ہے، بس چند تبدیلیوں کے ساتھ۔ مزید فرق جاننے کے لیے یہاں دیکھیں: [Python کے ساتھ OpenAI اور Azure OpenAI endpoints کے درمیان کیسے سوئچ کریں](https://learn.microsoft.com/azure/ai-services/openai/how-to/switching-endpoints?WT.mc_id=academic-109527-jasmineg)\n",
    "\n",
    "مزید فوری مثالوں کے لیے براہ کرم آفیشل [Azure OpenAI Quickstart Documentation](https://learn.microsoft.com/azure/cognitive-services/openai/quickstart?pivots=programming-language-studio&WT.mc_id=academic-105485-koreyst) دیکھیں۔\n"
   ]
  },
  {
   "attachments": {},
   "cell_type": "markdown",
   "metadata": {
    "nteract": {
     "transient": {
      "deleting": false
     }
    }
   },
   "source": [
    "## فہرست مضامین  \n",
    "\n",
    "[جائزہ](../../../../07-building-chat-applications/python)  \n",
    "[Azure OpenAI سروس کے ساتھ شروعات کریں](../../../../07-building-chat-applications/python)  \n",
    "[اپنا پہلا پرامپٹ بنائیں](../../../../07-building-chat-applications/python)  \n",
    "\n",
    "[استعمال کی مثالیں](../../../../07-building-chat-applications/python)    \n",
    "[1. متن کا خلاصہ کریں](../../../../07-building-chat-applications/python)  \n",
    "[2. متن کو درجہ بندی کریں](../../../../07-building-chat-applications/python)  \n",
    "[3. نئے پروڈکٹ کے نام تیار کریں](../../../../07-building-chat-applications/python)  \n",
    "[4. کسی کلاسیفائر کو بہتر بنائیں](../../../../07-building-chat-applications/python)  \n",
    "[5. ایمبیڈنگز](../../../../07-building-chat-applications/python)\n",
    "\n",
    "[حوالہ جات](../../../../07-building-chat-applications/python)\n"
   ]
  },
  {
   "attachments": {},
   "cell_type": "markdown",
   "metadata": {
    "nteract": {
     "transient": {
      "deleting": false
     }
    }
   },
   "source": [
    "### Azure OpenAI سروس کے ساتھ شروعات\n",
    "\n",
    "نئے صارفین کو Azure OpenAI سروس تک رسائی کے لیے [درخواست دینا ہوگی](https://aka.ms/oai/access?WT.mc_id=academic-105485-koreyst)۔  \n",
    "منظوری مکمل ہونے کے بعد، صارفین Azure پورٹل میں لاگ ان کر سکتے ہیں، Azure OpenAI سروس کا ریسورس بنا سکتے ہیں، اور اسٹوڈیو کے ذریعے ماڈلز کے ساتھ تجربہ کرنا شروع کر سکتے ہیں۔\n",
    "\n",
    "[تیزی سے شروعات کے لیے بہترین ذریعہ](https://techcommunity.microsoft.com/blog/educatordeveloperblog/azure-openai-service-is-now-generally-available/3719177?WT.mc_id=academic-105485-koreyst)\n"
   ]
  },
  {
   "attachments": {},
   "cell_type": "markdown",
   "metadata": {
    "nteract": {
     "transient": {
      "deleting": false
     }
    }
   },
   "source": [
    "### اپنا پہلا پرامپٹ بنائیں  \n",
    "یہ مختصر مشق آپ کو OpenAI ماڈل کو ایک سادہ کام \"خلاصہ نویسی\" کے لیے پرامپٹ بھیجنے کا بنیادی تعارف فراہم کرے گی۔\n",
    "\n",
    "**مراحل**:  \n",
    "1. اپنے پائتھون ماحول میں OpenAI لائبریری انسٹال کریں  \n",
    "2. معیاری ہیلپر لائبریریاں لوڈ کریں اور اپنے بنائے گئے OpenAI سروس کے لیے عام سیکیورٹی اسناد سیٹ کریں  \n",
    "3. اپنے کام کے لیے ایک ماڈل منتخب کریں  \n",
    "4. ماڈل کے لیے ایک سادہ پرامپٹ تیار کریں  \n",
    "5. اپنی درخواست ماڈل API کو بھیجیں!\n"
   ]
  },
  {
   "attachments": {},
   "cell_type": "markdown",
   "metadata": {
    "nteract": {
     "transient": {
      "deleting": false
     }
    }
   },
   "source": [
    "### 1. اوپن اے آئی انسٹال کریں\n"
   ]
  },
  {
   "cell_type": "markdown",
   "metadata": {},
   "source": [
    "> [!NOTE] اگر آپ یہ نوٹ بک کوڈ اسپیسز یا ڈیوی کنٹینر میں چلا رہے ہیں تو یہ مرحلہ ضروری نہیں ہے۔\n"
   ]
  },
  {
   "cell_type": "code",
   "execution_count": null,
   "metadata": {
    "gather": {
     "logged": 1674254990318
    },
    "jupyter": {
     "outputs_hidden": true,
     "source_hidden": false
    },
    "nteract": {
     "transient": {
      "deleting": false
     }
    }
   },
   "outputs": [],
   "source": [
    "%pip install openai python-dotenv"
   ]
  },
  {
   "attachments": {},
   "cell_type": "markdown",
   "metadata": {
    "nteract": {
     "transient": {
      "deleting": false
     }
    }
   },
   "source": [
    "### ۲۔ معاون لائبریریاں درآمد کریں اور اسناد کو انسٹیٹیوٹ کریں\n"
   ]
  },
  {
   "cell_type": "code",
   "execution_count": null,
   "metadata": {
    "gather": {
     "logged": 1674829434433
    },
    "jupyter": {
     "outputs_hidden": false,
     "source_hidden": false
    },
    "nteract": {
     "transient": {
      "deleting": false
     }
    }
   },
   "outputs": [],
   "source": [
    "import os\n",
    "from openai import AzureOpenAI\n",
    "import numpy as np\n",
    "from dotenv import load_dotenv\n",
    "load_dotenv()\n",
    "\n",
    "#validate data inside .env file\n",
    "\n",
    "client = AzureOpenAI(\n",
    "  api_key=os.environ['AZURE_OPENAI_API_KEY'],  # this is also the default, it can be omitted\n",
    "  api_version = \"2023-05-15\"\n",
    "  )"
   ]
  },
  {
   "attachments": {},
   "cell_type": "markdown",
   "metadata": {
    "nteract": {
     "transient": {
      "deleting": false
     }
    }
   },
   "source": [
    "### 3. درست ماڈل تلاش کرنا  \n",
    "GPT-3.5-turbo یا GPT-4 ماڈلز قدرتی زبان کو سمجھنے اور تخلیق کرنے کی صلاحیت رکھتے ہیں۔ یہ سروس چار مختلف ماڈل کی صلاحیتیں فراہم کرتی ہے، جن میں ہر ایک کی طاقت اور رفتار مختلف ہے اور یہ مختلف کاموں کے لیے موزوں ہیں۔\n",
    "\n",
    "[Azure OpenAI ماڈلز](https://learn.microsoft.com/azure/cognitive-services/openai/concepts/models?WT.mc_id=academic-105485-koreyst)\n"
   ]
  },
  {
   "cell_type": "code",
   "execution_count": null,
   "metadata": {
    "gather": {
     "logged": 1674742720788
    },
    "jupyter": {
     "outputs_hidden": true,
     "source_hidden": false
    },
    "nteract": {
     "transient": {
      "deleting": false
     }
    }
   },
   "outputs": [],
   "source": [
    "# Select the General Purpose curie model for text\n",
    "model = os.environ['AZURE_OPENAI_DEPLOYMENT']"
   ]
  },
  {
   "attachments": {},
   "cell_type": "markdown",
   "metadata": {
    "nteract": {
     "transient": {
      "deleting": false
     }
    }
   },
   "source": [
    "## 4. پرامپٹ ڈیزائن  \n",
    "\n",
    "\"بڑے لینگویج ماڈلز کی جادوگری یہ ہے کہ جب انہیں بہت زیادہ متن پر اس پیش گوئی کی غلطی کو کم کرنے کی تربیت دی جاتی ہے، تو یہ ماڈلز ان تصورات کو سیکھ لیتے ہیں جو ان پیش گوئیوں کے لیے مفید ہوتے ہیں۔ مثال کے طور پر، یہ تصورات سیکھتے ہیں جیسے\"(1):\n",
    "\n",
    "* الفاظ کی درست املا کیسے کی جائے\n",
    "* گرامر کیسے کام کرتی ہے\n",
    "* بات کو مختلف انداز میں کیسے بیان کیا جائے\n",
    "* سوالات کے جواب کیسے دیے جائیں\n",
    "* گفتگو کیسے کی جائے\n",
    "* کئی زبانوں میں کیسے لکھا جائے\n",
    "* کوڈ کیسے لکھا جائے\n",
    "* وغیرہ\n",
    "\n",
    "#### بڑے لینگویج ماڈل کو کیسے کنٹرول کریں  \n",
    "\"بڑے لینگویج ماڈل کے تمام ان پٹس میں سب سے زیادہ اثر رکھنے والا ان پٹ ٹیکسٹ پرامپٹ ہے(1)۔\n",
    "\n",
    "بڑے لینگویج ماڈلز کو مختلف طریقوں سے آؤٹ پٹ دینے کے لیے پرامپٹ کیا جا سکتا ہے:\n",
    "\n",
    "- ہدایت: ماڈل کو بتائیں کہ آپ کیا چاہتے ہیں\n",
    "- تکمیل: ماڈل کو اس چیز کا آغاز دیں جسے آپ مکمل کروانا چاہتے ہیں\n",
    "- مظاہرہ: ماڈل کو دکھائیں کہ آپ کیا چاہتے ہیں، یا تو:\n",
    "- پرامپٹ میں چند مثالیں دے کر\n",
    "- فائن ٹیوننگ ٹریننگ ڈیٹا سیٹ میں سینکڑوں یا ہزاروں مثالیں دے کر\n",
    "\n",
    "\n",
    "\n",
    "#### پرامپٹ بنانے کے تین بنیادی اصول ہیں:\n",
    "\n",
    "**دکھائیں اور بتائیں**۔ واضح کریں کہ آپ کیا چاہتے ہیں، چاہے ہدایات کے ذریعے، مثالوں کے ذریعے، یا دونوں کے امتزاج سے۔ اگر آپ چاہتے ہیں کہ ماڈل اشیاء کی فہرست کو حروف تہجی کے مطابق ترتیب دے یا کسی پیراگراف کو جذبات کے لحاظ سے درجہ بندی کرے، تو اسے دکھائیں کہ یہی آپ چاہتے ہیں۔\n",
    "\n",
    "**معیاری ڈیٹا فراہم کریں**۔ اگر آپ کوئی کلاسیفائر بنانا چاہتے ہیں یا ماڈل کو کسی پیٹرن پر عمل کروانا چاہتے ہیں، تو یقینی بنائیں کہ کافی مثالیں موجود ہیں۔ اپنی مثالوں کو اچھی طرح چیک کریں — ماڈل عام طور پر اتنا ذہین ہوتا ہے کہ بنیادی املا کی غلطیوں کو سمجھ سکے اور آپ کو جواب دے، لیکن یہ بھی ممکن ہے کہ وہ اسے جان بوجھ کر سمجھ لے اور اس سے جواب پر اثر پڑے۔\n",
    "\n",
    "**اپنی سیٹنگز چیک کریں۔** temperature اور top_p سیٹنگز یہ کنٹرول کرتی ہیں کہ ماڈل جواب دیتے وقت کتنا متعین ہے۔ اگر آپ ایسا جواب چاہتے ہیں جس میں صرف ایک درست جواب ہو، تو انہیں کم رکھیں۔ اگر آپ زیادہ متنوع جوابات چاہتے ہیں، تو انہیں زیادہ رکھ سکتے ہیں۔ سب سے عام غلطی جو لوگ ان سیٹنگز کے ساتھ کرتے ہیں وہ یہ ہے کہ وہ انہیں \"ذہانت\" یا \"تخلیقی صلاحیت\" کے کنٹرول سمجھتے ہیں۔\n",
    "\n",
    "\n",
    "ماخذ: https://learn.microsoft.com/azure/ai-services/openai/overview\n"
   ]
  },
  {
   "attachments": {},
   "cell_type": "markdown",
   "metadata": {
    "nteract": {
     "transient": {
      "deleting": false
     }
    }
   },
   "source": []
  },
  {
   "attachments": {},
   "cell_type": "markdown",
   "metadata": {
    "nteract": {
     "transient": {
      "deleting": false
     }
    }
   },
   "source": []
  },
  {
   "cell_type": "code",
   "execution_count": null,
   "metadata": {
    "gather": {
     "logged": 1674494935186
    },
    "jupyter": {
     "outputs_hidden": false,
     "source_hidden": false
    },
    "nteract": {
     "transient": {
      "deleting": false
     }
    }
   },
   "outputs": [],
   "source": [
    "# Create your first prompt\n",
    "text_prompt = \"Should oxford commas always be used?\"\n",
    "\n",
    "response = client.chat.completions.create(\n",
    "  model=model,\n",
    "  messages = [{\"role\":\"system\", \"content\":\"You are a helpful assistant.\"},\n",
    "               {\"role\":\"user\",\"content\":text_prompt},])\n",
    "\n",
    "response.choices[0].message.content"
   ]
  },
  {
   "attachments": {},
   "cell_type": "markdown",
   "metadata": {
    "nteract": {
     "transient": {
      "deleting": false
     }
    }
   },
   "source": [
    "### اسی کال کو دوبارہ دہرائیں، نتائج کا موازنہ کیسے کرتے ہیں؟\n"
   ]
  },
  {
   "cell_type": "code",
   "execution_count": null,
   "metadata": {
    "gather": {
     "logged": 1674494940872
    },
    "jupyter": {
     "outputs_hidden": false,
     "source_hidden": false
    },
    "nteract": {
     "transient": {
      "deleting": false
     }
    }
   },
   "outputs": [],
   "source": [
    "\n",
    "response = client.chat.completions.create(\n",
    "  model=model,\n",
    "  messages = [{\"role\":\"system\", \"content\":\"You are a helpful assistant.\"},\n",
    "               {\"role\":\"user\",\"content\":text_prompt},])\n",
    "\n",
    "response.choices[0].message.content"
   ]
  },
  {
   "attachments": {},
   "cell_type": "markdown",
   "metadata": {
    "nteract": {
     "transient": {
      "deleting": false
     }
    }
   },
   "source": [
    "## متن کا خلاصہ کریں  \n",
    "#### چیلنج  \n",
    "متن کا خلاصہ اس طرح کریں کہ عبارت کے آخر میں 'tl;dr:' شامل کریں۔ نوٹ کریں کہ ماڈل بغیر کسی اضافی ہدایت کے کئی کام انجام دینے کی صلاحیت رکھتا ہے۔ آپ tl;dr کے بجائے مزید وضاحتی پرامپٹس آزما سکتے ہیں تاکہ ماڈل کے رویے میں تبدیلی لائیں اور اپنی مرضی کے مطابق خلاصہ حاصل کریں(3)۔\n",
    "\n",
    "حالیہ تحقیق سے یہ بات سامنے آئی ہے کہ بڑے پیمانے پر متنی مواد پر پہلے سے تربیت حاصل کرنے اور پھر مخصوص کام کے لیے فائن ٹیوننگ کرنے سے NLP کے کئی کاموں اور بینچ مارکس میں نمایاں بہتری آئی ہے۔ اگرچہ یہ طریقہ عام طور پر فن تعمیر میں کسی خاص کام سے وابستہ نہیں ہوتا، پھر بھی اس کے لیے ہزاروں یا دسیوں ہزار مثالوں پر مشتمل کام کے لحاظ سے مخصوص ڈیٹا سیٹس کی ضرورت ہوتی ہے۔ اس کے برعکس، انسان عام طور پر صرف چند مثالوں یا سادہ ہدایات سے نئی زبان کا کام انجام دے سکتے ہیں — جو کہ موجودہ NLP سسٹمز کے لیے اب بھی ایک بڑا چیلنج ہے۔ یہاں ہم دکھاتے ہیں کہ زبان کے ماڈلز کو بڑا کرنے سے عمومی، کم مثالوں والے کاموں میں کارکردگی میں نمایاں بہتری آتی ہے، اور بعض اوقات یہ پچھلے جدید ترین فائن ٹیوننگ طریقوں کے برابر بھی پہنچ جاتی ہے۔\n",
    "\n",
    "\n",
    "\n",
    "Tl;dr\n"
   ]
  },
  {
   "attachments": {},
   "cell_type": "markdown",
   "metadata": {
    "nteract": {
     "transient": {
      "deleting": false
     }
    }
   },
   "source": [
    "# مختلف استعمالات کے لیے مشقیں  \n",
    "1. متن کا خلاصہ کریں  \n",
    "2. متن کو درجہ بندی کریں  \n",
    "3. نئے پروڈکٹ کے نام تجویز کریں  \n",
    "4. ایمبیڈنگز  \n",
    "5. کسی کلاسیفائر کو فائن ٹیون کریں\n"
   ]
  },
  {
   "cell_type": "code",
   "execution_count": null,
   "metadata": {
    "gather": {
     "logged": 1674495198534
    },
    "jupyter": {
     "outputs_hidden": false,
     "source_hidden": false
    },
    "nteract": {
     "transient": {
      "deleting": false
     }
    }
   },
   "outputs": [],
   "source": [
    "prompt = \"Recent work has demonstrated substantial gains on many NLP tasks and benchmarks by pre-training on a large corpus of text followed by fine-tuning on a specific task. While typically task-agnostic in architecture, this method still requires task-specific fine-tuning datasets of thousands or tens of thousands of examples. By contrast, humans can generally perform a new language task from only a few examples or from simple instructions - something that current NLP systems still largely struggle to do. Here we show that scaling up language models greatly improves task-agnostic, few-shot performance, sometimes even reaching competitiveness with prior state-of-the-art fine-tuning approaches.\\n\\ntl;dr\"\n"
   ]
  },
  {
   "cell_type": "code",
   "execution_count": null,
   "metadata": {
    "gather": {
     "logged": 1674495201868
    },
    "jupyter": {
     "outputs_hidden": false,
     "source_hidden": false
    },
    "nteract": {
     "transient": {
      "deleting": false
     }
    }
   },
   "outputs": [],
   "source": [
    "#Setting a few additional, typical parameters during API Call\n",
    "\n",
    "response = client.chat.completions.create(\n",
    "  model=model,\n",
    "  messages = [{\"role\":\"system\", \"content\":\"You are a helpful assistant.\"},\n",
    "               {\"role\":\"user\",\"content\":prompt},])\n",
    "\n",
    "response.choices[0].message.content"
   ]
  },
  {
   "attachments": {},
   "cell_type": "markdown",
   "metadata": {
    "nteract": {
     "transient": {
      "deleting": false
     }
    }
   },
   "source": [
    "## متن کو درجہ بندی کریں  \n",
    "#### چیلنج  \n",
    "اشیاء کو ان زمروں میں تقسیم کریں جو انفیرینس کے وقت فراہم کیے گئے ہوں۔ درج ذیل مثال میں، ہم پرامپٹ میں دونوں یعنی زمرے اور درجہ بندی کے لیے متن فراہم کرتے ہیں (*playground_reference)۔\n",
    "\n",
    "کسٹمر کی درخواست: ہیلو، میرے لیپ ٹاپ کے کی بورڈ کی ایک چابی حال ہی میں ٹوٹ گئی ہے اور مجھے اس کا متبادل چاہیے:\n",
    "\n",
    "درجہ بند زمرہ:\n"
   ]
  },
  {
   "cell_type": "code",
   "execution_count": null,
   "metadata": {
    "gather": {
     "logged": 1674499424645
    },
    "jupyter": {
     "outputs_hidden": false,
     "source_hidden": false
    },
    "nteract": {
     "transient": {
      "deleting": false
     }
    }
   },
   "outputs": [],
   "source": [
    "prompt = \"Classify the following inquiry into one of the following: categories: [Pricing, Hardware Support, Software Support]\\n\\ninquiry: Hello, one of the keys on my laptop keyboard broke recently and I'll need a replacement:\\n\\nClassified category:\"\n",
    "print(prompt)"
   ]
  },
  {
   "cell_type": "code",
   "execution_count": null,
   "metadata": {
    "gather": {
     "logged": 1674499378518
    },
    "jupyter": {
     "outputs_hidden": false,
     "source_hidden": false
    },
    "nteract": {
     "transient": {
      "deleting": false
     }
    }
   },
   "outputs": [],
   "source": [
    "#Setting a few additional, typical parameters during API Call\n",
    "\n",
    "response = client.chat.completions.create(\n",
    "  model=model,\n",
    "  messages = [{\"role\":\"system\", \"content\":\"You are a helpful assistant.\"},\n",
    "               {\"role\":\"user\",\"content\":prompt},])\n",
    "\n",
    "response.choices[0].message.content"
   ]
  },
  {
   "attachments": {},
   "cell_type": "markdown",
   "metadata": {
    "nteract": {
     "transient": {
      "deleting": false
     }
    }
   },
   "source": [
    "## نئے پروڈکٹ کے نام بنائیں\n",
    "#### چیلنج\n",
    "مثالی الفاظ سے پروڈکٹ کے نام بنائیں۔ یہاں ہم پرامپٹ میں اس پروڈکٹ کے بارے میں معلومات شامل کرتے ہیں جس کے لیے ہم نام تیار کر رہے ہیں۔ ہم ایک مشابہ مثال بھی فراہم کرتے ہیں تاکہ وہ انداز واضح ہو جائے جس کی ہم توقع رکھتے ہیں۔ ہم نے temperature کی ویلیو زیادہ رکھی ہے تاکہ جوابات میں جدت اور اتفاقی پن زیادہ ہو۔\n",
    "\n",
    "پروڈکٹ کی تفصیل: گھر میں ملک شیک بنانے والی مشین  \n",
    "بیج الفاظ: تیز، صحت مند، کمپیکٹ  \n",
    "پروڈکٹ کے نام: ہوم شیکر، فٹ شیکر، کوئیک شیک، شیک میکر\n",
    "\n",
    "پروڈکٹ کی تفصیل: جوتوں کا ایک جوڑا جو ہر سائز کے پاؤں میں فٹ ہو سکتا ہے  \n",
    "بیج الفاظ: موافق، فٹ، اومنی فٹ\n"
   ]
  },
  {
   "cell_type": "code",
   "execution_count": null,
   "metadata": {
    "gather": {
     "logged": 1674257087279
    },
    "jupyter": {
     "outputs_hidden": false,
     "source_hidden": false
    },
    "nteract": {
     "transient": {
      "deleting": false
     }
    }
   },
   "outputs": [],
   "source": [
    "prompt = \"Product description: A home milkshake maker\\nSeed words: fast, healthy, compact.\\nProduct names: HomeShaker, Fit Shaker, QuickShake, Shake Maker\\n\\nProduct description: A pair of shoes that can fit any foot size.\\nSeed words: adaptable, fit, omni-fit.\"\n",
    "\n",
    "print(prompt)"
   ]
  },
  {
   "cell_type": "code",
   "execution_count": null,
   "metadata": {
    "jupyter": {
     "outputs_hidden": false,
     "source_hidden": false
    },
    "nteract": {
     "transient": {
      "deleting": false
     }
    }
   },
   "outputs": [],
   "source": [
    "#Setting a few additional, typical parameters during API Call\n",
    "\n",
    "response = client.chat.completions.create(\n",
    "  model=model,\n",
    "  messages = [{\"role\":\"system\", \"content\":\"You are a helpful assistant.\"},\n",
    "               {\"role\":\"user\",\"content\":prompt}])\n",
    "\n",
    "response.choices[0].message.content"
   ]
  },
  {
   "attachments": {},
   "cell_type": "markdown",
   "metadata": {
    "nteract": {
     "transient": {
      "deleting": false
     }
    }
   },
   "source": [
    "## ایمبیڈنگز\n",
    "اس حصے میں یہ بتایا جائے گا کہ ایمبیڈنگز کیسے حاصل کی جاتی ہیں، اور الفاظ، جملوں اور دستاویزات کے درمیان مماثلت کیسے تلاش کی جاتی ہے۔ مندرجہ ذیل نوٹ بکس چلانے کے لیے آپ کو ایک ایسا ماڈل ڈپلائے کرنا ہوگا جو `text-embedding-ada-002` کو بیس ماڈل کے طور پر استعمال کرتا ہو اور اس کے ڈپلائمنٹ کا نام .env فائل میں `AZURE_OPENAI_EMBEDDINGS_DEPLOYMENT` ویری ایبل کے ذریعے سیٹ کرنا ہوگا۔\n"
   ]
  },
  {
   "attachments": {},
   "cell_type": "markdown",
   "metadata": {
    "nteract": {
     "transient": {
      "deleting": false
     }
    }
   },
   "source": [
    "### ماڈل کی درجہ بندی - ایمبیڈنگ ماڈل کا انتخاب\n",
    "\n",
    "**ماڈل کی درجہ بندی**: {family} - {capability} - {input-type} - {identifier}\n",
    "\n",
    "{family}     --> text-embedding  (ایمبیڈنگ فیملی)\n",
    "{capability} --> ada             (دیگر تمام ایمبیڈنگ ماڈلز 2024 میں ختم کر دیے جائیں گے)\n",
    "{input-type} --> n/a             (صرف سرچ ماڈلز کے لیے مخصوص)\n",
    "{identifier} --> 002             (ورژن 002)\n",
    "\n",
    "model = 'text-embedding-ada-002'\n"
   ]
  },
  {
   "cell_type": "markdown",
   "metadata": {},
   "source": [
    "> [!NOTE] اگر آپ اس نوٹ بک کو کوڈ اسپیسز یا ڈیوی کنٹینر میں چلاتے ہیں تو اگلا مرحلہ ضروری نہیں ہے۔\n"
   ]
  },
  {
   "cell_type": "code",
   "execution_count": null,
   "metadata": {},
   "outputs": [],
   "source": [
    "# Dependencies for embeddings_utils\n",
    "%pip install matplotlib plotly scikit-learn pandas"
   ]
  },
  {
   "cell_type": "code",
   "execution_count": null,
   "metadata": {
    "gather": {
     "logged": 1674829364153
    },
    "jupyter": {
     "outputs_hidden": false,
     "source_hidden": false
    },
    "nteract": {
     "transient": {
      "deleting": false
     }
    }
   },
   "outputs": [],
   "source": [
    "def cosine_similarity(a, b):\n",
    "    return np.dot(a, b) / (np.linalg.norm(a) * np.linalg.norm(b))"
   ]
  },
  {
   "cell_type": "code",
   "execution_count": null,
   "metadata": {
    "gather": {
     "logged": 1674829424097
    },
    "jupyter": {
     "outputs_hidden": false,
     "source_hidden": false
    },
    "nteract": {
     "transient": {
      "deleting": false
     }
    }
   },
   "outputs": [],
   "source": [
    "text = 'the quick brown fox jumped over the lazy dog'\n",
    "model= os.environ['AZURE_OPENAI_EMBEDDINGS_DEPLOYMENT']\n",
    "client.embeddings.create(input='[text]', model=model).data[0].embedding"
   ]
  },
  {
   "cell_type": "code",
   "execution_count": null,
   "metadata": {
    "gather": {
     "logged": 1674829555255
    },
    "jupyter": {
     "outputs_hidden": false,
     "source_hidden": false
    },
    "nteract": {
     "transient": {
      "deleting": false
     }
    }
   },
   "outputs": [],
   "source": [
    "\n",
    "# compare several words\n",
    "automobile_embedding  = client.embeddings.create(input='automobile', model=model).data[0].embedding\n",
    "vehicle_embedding     = client.embeddings.create(input='vehicle', model=model).data[0].embedding\n",
    "dinosaur_embedding    = client.embeddings.create(input='dinosaur', model=model).data[0].embedding\n",
    "stick_embedding       = client.embeddings.create(input='stick', model=model).data[0].embedding\n",
    "\n",
    "print(cosine_similarity(automobile_embedding, vehicle_embedding))\n",
    "print(cosine_similarity(automobile_embedding, dinosaur_embedding))\n",
    "print(cosine_similarity(automobile_embedding, stick_embedding))"
   ]
  },
  {
   "attachments": {},
   "cell_type": "markdown",
   "metadata": {
    "nteract": {
     "transient": {
      "deleting": false
     }
    }
   },
   "source": [
    "## سی این این ڈیلی نیوز ڈیٹاسیٹ سے مضمون کا موازنہ  \n",
    "ماخذ: https://huggingface.co/datasets/cnn_dailymail\n"
   ]
  },
  {
   "cell_type": "code",
   "execution_count": null,
   "metadata": {
    "gather": {
     "logged": 1674831122093
    },
    "jupyter": {
     "outputs_hidden": false,
     "source_hidden": false
    },
    "nteract": {
     "transient": {
      "deleting": false
     }
    }
   },
   "outputs": [],
   "source": [
    "import pandas as pd\n",
    "cnn_daily_articles = ['BREMEN, Germany -- Carlos Alberto, who scored in FC Porto\\'s Champions League final victory against Monaco in 2004, has joined Bundesliga club Werder Bremen for a club record fee of 7.8 million euros ($10.7 million). Carlos Alberto enjoyed success at FC Porto under Jose Mourinho. \"I\\'m here to win titles with Werder,\" the 22-year-old said after his first training session with his new club. \"I like Bremen and would only have wanted to come here.\" Carlos Alberto started his career with Fluminense, and helped them to lift the Campeonato Carioca in 2002. In January 2004 he moved on to FC Porto, who were coached by José Mourinho, and the club won the Portuguese title as well as the Champions League. Early in 2005, he moved to Corinthians, where he impressed as they won the Brasileirão,but in 2006 Corinthians had a poor season and Carlos Alberto found himself at odds with manager, Emerson Leão. Their poor relationship came to a climax at a Copa Sul-Americana game against Club Atlético Lanús, and Carlos Alberto declared that he would not play for Corinthians again while Leão remained as manager. Since January this year he has been on loan with his first club Fluminense. Bundesliga champions VfB Stuttgart said on Sunday that they would sign a loan agreement with Real Zaragoza on Monday for Ewerthon, the third top Brazilian player to join the German league in three days. A VfB spokesman said Ewerthon, who played in the Bundesliga for Borussia Dortmund from 2001 to 2005, was expected to join the club for their pre-season training in Austria on Monday. On Friday, Ailton returned to Germany where he was the league\\'s top scorer in 2004, signing a one-year deal with Duisburg on a transfer from Red Star Belgrade. E-mail to a friend .',\n",
    "                        '(CNN) -- Football superstar, celebrity, fashion icon, multimillion-dollar heartthrob. Now, David Beckham is headed for the Hollywood Hills as he takes his game to U.S. Major League Soccer. CNN looks at how Bekham fulfilled his dream of playing for Manchester United, and his time playing for England. The world\\'s famous footballer has begun a five-year contract with the Los Angeles Galaxy team, and on Friday Beckham will meet the press and reveal his new shirt number. This week, we take an in depth look at the life and times of Beckham, as CNN\\'s very own \"Becks,\" Becky Anderson, sets out to examine what makes the man tick -- as footballer, fashion icon and global phenomenon. It\\'s a long way from the streets of east London to the Hollywood Hills and Becky charts Beckham\\'s incredible rise to football stardom, a journey that has seen his skills grace the greatest stages in world soccer. She goes in pursuit of the current hottest property on the sports/celebrity circuit in the U.S. and along the way explores exactly what\\'s behind the man with the golden boot. CNN will look back at the life of Beckham, the wonderfully talented youngster who fulfilled his dream of playing for Manchester United, his marriage to pop star Victoria, and the trials and tribulations of playing for England. We\\'ll look at the highs (scoring against Greece), the lows (being sent off during the World Cup), the Man. U departure for the Galacticos of Madrid -- and now the Home Depot stadium in L.A. We\\'ll ask how Beckham and his family will adapt to life in Los Angeles -- the people, the places to see and be seen and the celebrity endorsement. Beckham is no stranger to exposure. He has teamed with Reggie Bush in an Adidas commercial, is the face of Motorola, is the face on a PlayStation game and doesn\\'t need fashion tips as he has his own international clothing line. But what does the star couple need to do to become an accepted part of Tinseltown\\'s glitterati? The road to major league football in the U.S.A. is a well-worn route for some of the world\\'s greatest players. We talk to some of the former greats who came before him and examine what impact these overseas stars had on U.S. soccer and look at what is different now. We also get a rare glimpse inside the David Beckham academy in L.A, find out what drives the kids and who are their heroes. The perception that in the U.S.A. soccer is a \"game for girls\" after the teenage years is changing. More and more young kids are choosing the European game over the traditional U.S. sports. E-mail to a friend .',\n",
    "                        'LOS ANGELES, California (CNN) -- Youssif, the 5-year-old burned Iraqi boy, rounded the corner at Universal Studios when suddenly the little boy hero met his favorite superhero. Youssif has always been a huge Spider-Man fan. Meeting him was \"my favorite thing,\" he said. Spider-Man was right smack dab in front of him, riding a four-wheeler amid a convoy of other superheroes. The legendary climber of buildings and fighter of evil dismounted, walked over to Youssif and introduced himself. Spidey then gave the boy from a far-away land a gentle hug, embracing him in his iconic blue and red tights. He showed Youssif a few tricks, like how to shoot a web from his wrist. Only this time, no web was spun. \"All right Youssif!\" Spider-Man said after the boy mimicked his wrist movement. Other superheroes crowded around to get a closer look. Even the Green Goblin stopped his villainous ways to tell the boy hi. Youssif remained unfazed. He didn\\'t take a liking to Spider-Man\\'s nemesis. Spidey was just too cool. \"It was my favorite thing,\" the boy said later. \"I want to see him again.\" He then felt compelled to add: \"I know it\\'s not the real Spider-Man.\" This was the day of dreams when the boy\\'s nightmares were, at least temporarily, forgotten. He met SpongeBob, Lassie and a 3-year-old orangutan named Archie. The hairy, brownish-red primate took to the boy, grabbing his hand and holding it. Even when Youssif pulled away, Archie would inch his hand back toward the boy\\'s and then snatch it. See Youssif enjoy being a boy again » . The boy giggled inside a play area where sponge-like balls shot out of toy guns. It was a far different artillery than what he was used to seeing in central Baghdad, as recently as a week ago. He squealed with delight and raced around the room collecting as many balls as he could. He rode a tram through the back stages at Universal Studios. At one point, the car shook. Fire and smoke filled the air, debris cascaded down and a big rig skidded toward the vehicle. The boy and his family survived the pretend earthquake unscathed. \"Even I was scared,\" the dad said. \"Well, I wasn\\'t,\" Youssif replied. The father and mother grinned from ear to ear throughout the day. Youssif pushed his 14-month-old sister, Ayaa, in a stroller. \"Did you even need to ask us if we were interested in coming here?\" Youssif\\'s father said in amazement. \"Other than my wedding day, this is the happiest day of my life,\" he said. Just a day earlier, the mother and father talked about their journey out of Iraq and to the United States. They also discussed that day nine months ago when masked men grabbed their son outside the family home, doused him in gas and set him on fire. His mother heard her boy screaming from inside. The father sought help for his boy across Baghdad, but no one listened. He remembers his son\\'s two months of hospitalization. The doctors didn\\'t use anesthetics. He could hear his boy\\'s piercing screams from the other side of the hospital. Watch Youssif meet his doctor and play with his little sister » . The father knew that speaking to CNN would put his family\\'s lives in jeopardy. The possibility of being killed was better than seeing his son suffer, he said. \"Anything for Youssif,\" he said. \"We had to do it.\" They described a life of utter chaos in Baghdad. Neighbors had recently given birth to a baby girl. Shortly afterward, the father was kidnapped and killed. Then, there was the time when some girls wore tanktops and jeans. They were snatched off the street by gunmen. The stories can be even more gruesome. The couple said they had heard reports that a young girl was kidnapped and beheaded --and her killers sewed a dog\\'s head on the corpse and delivered it to her family\\'s doorstep. \"These are just some of the stories,\" said Youssif\\'s mother, Zainab. Under Saddam Hussein, there was more security and stability, they said. There was running water and electricity most of the time. But still life was tough under the dictator, like the time when Zainab\\'s uncle disappeared and was never heard from again after he read a \"religious book,\" she said. Sitting in the parking lot of a Target in suburban Los Angeles, Youssif\\'s father watched as husbands and wives, boyfriends and girlfriends, parents and their children, came and went. Some held hands. Others smiled and laughed. \"Iraq finished,\" he said in what few English words he knows. He elaborated in Arabic: His homeland won\\'t be enjoying such freedoms anytime soon. It\\'s just not possible. Too much violence. Too many killings. His two children have only seen war. But this week, the family has seen a much different side of America -- an outpouring of generosity and a peaceful nation at home. \"It\\'s been a dream,\" the father said. He used to do a lot of volunteer work back in Baghdad. \"Maybe that\\'s why I\\'m being helped now,\" the father said. At Universal Studios, he looked out across the valley below. The sun glistened off treetops and buildings. It was a picturesque sight fit for a Hollywood movie. \"Good America, good America,\" he said in English. E-mail to a friend . CNN\\'s Arwa Damon contributed to this report.'\n",
    "]\n",
    "\n",
    "cnn_daily_article_highlights = ['Werder Bremen pay a club record $10.7 million for Carlos Alberto .\\nThe Brazilian midfielder won the Champions League with FC Porto in 2004 .\\nSince January he has been on loan with his first club, Fluminense .',\n",
    "                                'Beckham has agreed to a five-year contract with Los Angeles Galaxy .\\nNew contract took effect July 1, 2007 .\\nFormer English captain to meet press, unveil new shirt number Friday .\\nCNN to look at Beckham as footballer, fashion icon and global phenomenon .',\n",
    "                                'Boy on meeting Spider-Man: \"It was my favorite thing\"\\nYoussif also met SpongeBob, Lassie and an orangutan at Universal Studios .\\nDad: \"Other than my wedding day, this is the happiest day of my life\"'\n",
    "]\n",
    "\n",
    "cnn_df = pd.DataFrame({\"articles\":cnn_daily_articles, \"highligths\":cnn_daily_article_highlights})\n",
    "\n",
    "cnn_df.head()"
   ]
  },
  {
   "cell_type": "code",
   "execution_count": null,
   "metadata": {
    "gather": {
     "logged": 1674831294043
    },
    "jupyter": {
     "outputs_hidden": false,
     "source_hidden": false
    },
    "nteract": {
     "transient": {
      "deleting": false
     }
    }
   },
   "outputs": [],
   "source": [
    "article1_embedding    = client.embeddings.create(input=cnn_df.articles.iloc[0], model=model).data[0].embedding\n",
    "article2_embedding    = client.embeddings.create(input=cnn_df.articles.iloc[1], model=model).data[0].embedding\n",
    "article3_embedding    = client.embeddings.create(input=cnn_df.articles.iloc[2], model=model).data[0].embedding\n",
    "\n",
    "print(cosine_similarity(article1_embedding, article2_embedding))\n",
    "print(cosine_similarity(article1_embedding, article3_embedding))"
   ]
  },
  {
   "attachments": {},
   "cell_type": "markdown",
   "metadata": {
    "nteract": {
     "transient": {
      "deleting": false
     }
    }
   },
   "source": [
    "# حوالہ جات  \n",
    "- [Azure دستاویزات - Azure OpenAI ماڈلز](https://learn.microsoft.com/azure/cognitive-services/openai/concepts/models?WT.mc_id=academic-105485-koreyst)  \n",
    "- [OpenAI اسٹوڈیو مثالیں](https://oai.azure.com/portal?WT.mc_id=academic-105485-koreyst)\n"
   ]
  },
  {
   "attachments": {},
   "cell_type": "markdown",
   "metadata": {
    "nteract": {
     "transient": {
      "deleting": false
     }
    }
   },
   "source": [
    "# مزید مدد کے لیے  \n",
    "[OpenAI کمرشلائزیشن ٹیم](AzureOpenAITeam@microsoft.com)\n"
   ]
  },
  {
   "attachments": {},
   "cell_type": "markdown",
   "metadata": {
    "nteract": {
     "transient": {
      "deleting": false
     }
    }
   },
   "source": [
    "# معاونین\n",
    "* Louis Li\n"
   ]
  },
  {
   "cell_type": "markdown",
   "metadata": {},
   "source": [
    "\n---\n\n**ڈس کلیمر**:  \nیہ دستاویز AI ترجمہ سروس [Co-op Translator](https://github.com/Azure/co-op-translator) کے ذریعے ترجمہ کی گئی ہے۔ اگرچہ ہم درستگی کی پوری کوشش کرتے ہیں، براہ کرم آگاہ رہیں کہ خودکار ترجمے میں غلطیاں یا عدم درستگی ہو سکتی ہے۔ اصل دستاویز کو اس کی اصل زبان میں مستند ماخذ سمجھا جانا چاہیے۔ اہم معلومات کے لیے، پیشہ ور انسانی ترجمہ تجویز کیا جاتا ہے۔ اس ترجمے کے استعمال سے پیدا ہونے والی کسی بھی غلط فہمی یا غلط تشریح کے ہم ذمہ دار نہیں ہیں۔\n"
   ]
  }
 ],
 "metadata": {
  "kernel_info": {
   "name": "python310-sdkv2"
  },
  "kernelspec": {
   "display_name": "base",
   "language": "python",
   "name": "python3"
  },
  "language_info": {
   "codemirror_mode": {
    "name": "ipython",
    "version": 3
   },
   "file_extension": ".py",
   "mimetype": "text/x-python",
   "name": "python",
   "nbconvert_exporter": "python",
   "pygments_lexer": "ipython3",
   "version": "3.10.13"
  },
  "microsoft": {
   "host": {
    "AzureML": {
     "notebookHasBeenCompleted": true
    }
   }
  },
  "nteract": {
   "version": "nteract-front-end@1.0.0"
  },
  "coopTranslator": {
   "original_hash": "0d1caa6c42ad19d6268f0ea38a1f6421",
   "translation_date": "2025-08-25T16:35:50+00:00",
   "source_file": "07-building-chat-applications/python/aoai-assignment.ipynb",
   "language_code": "ur"
  }
 },
 "nbformat": 4,
 "nbformat_minor": 2
}