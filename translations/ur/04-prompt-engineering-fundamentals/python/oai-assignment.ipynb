{
 "cells": [
  {
   "cell_type": "markdown",
   "metadata": {},
   "source": [
    "مندرجہ ذیل نوٹ بک GitHub Copilot Chat کے ذریعے خودکار طور پر تیار کی گئی ہے اور صرف ابتدائی سیٹ اپ کے لیے ہے\n"
   ]
  },
  {
   "cell_type": "markdown",
   "metadata": {},
   "source": [
    "# پرامپٹ انجینئرنگ کا تعارف\n",
    "\n",
    "پرامپٹ انجینئرنگ قدرتی زبان کی پروسیسنگ کے کاموں کے لیے پرامپٹس کو ڈیزائن اور بہتر بنانے کا عمل ہے۔ اس میں درست پرامپٹس کا انتخاب، ان کے پیرامیٹرز کو ایڈجسٹ کرنا، اور ان کی کارکردگی کا جائزہ لینا شامل ہے۔ پرامپٹ انجینئرنگ این ایل پی ماڈلز میں اعلیٰ درستگی اور کارکردگی حاصل کرنے کے لیے نہایت اہم ہے۔ اس حصے میں، ہم اوپن اے آئی ماڈلز کو استعمال کرتے ہوئے پرامپٹ انجینئرنگ کی بنیادی باتوں کا جائزہ لیں گے۔\n"
   ]
  },
  {
   "cell_type": "markdown",
   "metadata": {},
   "source": [
    "### مشق 1: ٹوکنائزیشن\n",
    "ٹوکنائزیشن کو tiktoken کے ذریعے دریافت کریں، جو کہ OpenAI کا اوپن سورس اور تیز ٹوکنائزر ہے۔\n",
    "مزید مثالوں کے لیے [OpenAI Cookbook](https://github.com/openai/openai-cookbook/blob/main/examples/How_to_count_tokens_with_tiktoken.ipynb?WT.mc_id=academic-105485-koreyst) دیکھیں۔\n"
   ]
  },
  {
   "cell_type": "code",
   "execution_count": null,
   "metadata": {},
   "outputs": [],
   "source": [
    "# EXERCISE:\n",
    "# 1. Run the exercise as is first\n",
    "# 2. Change the text to any prompt input you want to use & re-run to see tokens\n",
    "\n",
    "import tiktoken\n",
    "\n",
    "# Define the prompt you want tokenized\n",
    "text = f\"\"\"\n",
    "Jupiter is the fifth planet from the Sun and the \\\n",
    "largest in the Solar System. It is a gas giant with \\\n",
    "a mass one-thousandth that of the Sun, but two-and-a-half \\\n",
    "times that of all the other planets in the Solar System combined. \\\n",
    "Jupiter is one of the brightest objects visible to the naked eye \\\n",
    "in the night sky, and has been known to ancient civilizations since \\\n",
    "before recorded history. It is named after the Roman god Jupiter.[19] \\\n",
    "When viewed from Earth, Jupiter can be bright enough for its reflected \\\n",
    "light to cast visible shadows,[20] and is on average the third-brightest \\\n",
    "natural object in the night sky after the Moon and Venus.\n",
    "\"\"\"\n",
    "\n",
    "# Set the model you want encoding for\n",
    "encoding = tiktoken.encoding_for_model(\"gpt-3.5-turbo\")\n",
    "\n",
    "# Encode the text - gives you the tokens in integer form\n",
    "tokens = encoding.encode(text)\n",
    "print(tokens);\n",
    "\n",
    "# Decode the integers to see what the text versions look like\n",
    "[encoding.decode_single_token_bytes(token) for token in tokens]"
   ]
  },
  {
   "cell_type": "markdown",
   "metadata": {},
   "source": [
    "### مشق ۲: اوپن اے آئی اے پی آئی کلید کی سیٹنگ کی تصدیق کریں\n",
    "\n",
    "نیچے دیا گیا کوڈ چلائیں تاکہ یہ تصدیق ہو سکے کہ آپ کا اوپن اے آئی اینڈ پوائنٹ صحیح طریقے سے سیٹ اپ ہوا ہے۔ یہ کوڈ صرف ایک سادہ پرامپٹ آزما کر اس کی تکمیل کی تصدیق کرتا ہے۔ ان پٹ `oh say can you see` کا جواب کچھ اس طرح آنا چاہیے: `by the dawn's early light..`\n"
   ]
  },
  {
   "cell_type": "code",
   "execution_count": null,
   "metadata": {},
   "outputs": [],
   "source": [
    "# The OpenAI SDK was updated on Nov 8, 2023 with new guidance for migration\n",
    "# See: https://github.com/openai/openai-python/discussions/742\n",
    "\n",
    "## Updated\n",
    "import os\n",
    "from openai import OpenAI\n",
    "from dotenv import load_dotenv\n",
    "load_dotenv()\n",
    "\n",
    "client = OpenAI()\n",
    "\n",
    "deployment=\"gpt-3.5-turbo\"\n",
    "\n",
    "## Updated\n",
    "def get_completion(prompt):\n",
    "    messages = [{\"role\": \"user\", \"content\": prompt}]       \n",
    "    response = client.chat.completions.create(   \n",
    "        model=deployment,                                         \n",
    "        messages=messages,\n",
    "        temperature=0, # this is the degree of randomness of the model's output\n",
    "        max_tokens=1024\n",
    "    )\n",
    "    return response.choices[0].message.content\n",
    "\n",
    "## ---------- Call the helper method\n",
    "\n",
    "### 1. Set primary content or prompt text\n",
    "text = f\"\"\"\n",
    "oh say can you see\n",
    "\"\"\"\n",
    "\n",
    "### 2. Use that in the prompt template below\n",
    "prompt = f\"\"\"\n",
    "```{text}```\n",
    "\"\"\"\n",
    "\n",
    "## 3. Run the prompt\n",
    "response = get_completion(prompt)\n",
    "print(response)"
   ]
  },
  {
   "cell_type": "markdown",
   "metadata": {},
   "source": [
    "### مشق ۳: من گھڑت باتیں  \n",
    "یہ جاننے کی کوشش کریں کہ جب آپ LLM سے ایسے موضوع پر جواب مانگتے ہیں جو شاید وجود ہی نہ رکھتا ہو، یا ایسے موضوعات پر جو اس کے تربیتی ڈیٹا میں شامل نہ ہوں (یعنی حالیہ معلومات)، تو کیا ہوتا ہے۔ دیکھیں کہ اگر آپ مختلف پرامپٹ یا مختلف ماڈل استعمال کریں تو جواب کیسے بدلتا ہے۔\n"
   ]
  },
  {
   "cell_type": "code",
   "execution_count": null,
   "metadata": {},
   "outputs": [],
   "source": [
    "\n",
    "## Set the text for simple prompt or primary content\n",
    "## Prompt shows a template format with text in it - add cues, commands etc if needed\n",
    "## Run the completion \n",
    "text = f\"\"\"\n",
    "generate a lesson plan on the Martian War of 2076.\n",
    "\"\"\"\n",
    "\n",
    "prompt = f\"\"\"\n",
    "```{text}```\n",
    "\"\"\"\n",
    "\n",
    "response = get_completion(prompt)\n",
    "print(response)"
   ]
  },
  {
   "cell_type": "markdown",
   "metadata": {},
   "source": [
    "### مشق 4: ہدایت پر مبنی  \n",
    "\"text\" متغیر کو بنیادی مواد کے طور پر استعمال کریں  \n",
    "اور \"prompt\" متغیر کو اس بنیادی مواد سے متعلق ہدایت دینے کے لیے استعمال کریں۔\n",
    "\n",
    "یہاں ہم ماڈل سے کہتے ہیں کہ وہ اس متن کو دوسری جماعت کے طالب علم کے لیے خلاصہ کرے۔\n"
   ]
  },
  {
   "cell_type": "code",
   "execution_count": null,
   "metadata": {},
   "outputs": [],
   "source": [
    "# Test Example\n",
    "# https://platform.openai.com/playground/p/default-summarize\n",
    "\n",
    "## Example text\n",
    "text = f\"\"\"\n",
    "Jupiter is the fifth planet from the Sun and the \\\n",
    "largest in the Solar System. It is a gas giant with \\\n",
    "a mass one-thousandth that of the Sun, but two-and-a-half \\\n",
    "times that of all the other planets in the Solar System combined. \\\n",
    "Jupiter is one of the brightest objects visible to the naked eye \\\n",
    "in the night sky, and has been known to ancient civilizations since \\\n",
    "before recorded history. It is named after the Roman god Jupiter.[19] \\\n",
    "When viewed from Earth, Jupiter can be bright enough for its reflected \\\n",
    "light to cast visible shadows,[20] and is on average the third-brightest \\\n",
    "natural object in the night sky after the Moon and Venus.\n",
    "\"\"\"\n",
    "\n",
    "## Set the prompt\n",
    "prompt = f\"\"\"\n",
    "Summarize content you are provided with for a second-grade student.\n",
    "```{text}```\n",
    "\"\"\"\n",
    "\n",
    "## Run the prompt\n",
    "response = get_completion(prompt)\n",
    "print(response)"
   ]
  },
  {
   "cell_type": "markdown",
   "metadata": {},
   "source": [
    "### مشق ۵: پیچیدہ پرامپٹ  \n",
    "ایک ایسا سوال آزما کر دیکھیں جس میں سسٹم، یوزر اور اسسٹنٹ کے پیغامات شامل ہوں  \n",
    "سسٹم اسسٹنٹ کا پس منظر سیٹ کرتا ہے  \n",
    "یوزر اور اسسٹنٹ کے پیغامات مل کر کئی مرحلوں پر مشتمل گفتگو کا پس منظر فراہم کرتے ہیں  \n",
    "\n",
    "نوٹ کریں کہ اسسٹنٹ کی شخصیت \"طنزیہ\" سسٹم کے پس منظر میں سیٹ کی گئی ہے۔  \n",
    "آپ چاہیں تو کوئی اور شخصیت آزما سکتے ہیں۔ یا پھر ان پٹ/آؤٹ پٹ پیغامات کی کوئی اور ترتیب آزما لیں\n"
   ]
  },
  {
   "cell_type": "code",
   "execution_count": null,
   "metadata": {},
   "outputs": [],
   "source": [
    "response = client.chat.completions.create(\n",
    "    model=deployment,\n",
    "    messages=[\n",
    "        {\"role\": \"system\", \"content\": \"You are a sarcastic assistant.\"},\n",
    "        {\"role\": \"user\", \"content\": \"Who won the world series in 2020?\"},\n",
    "        {\"role\": \"assistant\", \"content\": \"Who do you think won? The Los Angeles Dodgers of course.\"},\n",
    "        {\"role\": \"user\", \"content\": \"Where was it played?\"}\n",
    "    ]\n",
    ")\n",
    "print(response.choices[0].message.content)"
   ]
  },
  {
   "cell_type": "markdown",
   "metadata": {},
   "source": [
    "### مشق: اپنی بصیرت کو دریافت کریں\n",
    "اوپر دیے گئے مثالیں آپ کو ایسے انداز فراہم کرتی ہیں جن کی مدد سے آپ نئے پرامپٹس بنا سکتے ہیں (سادہ، پیچیدہ، ہدایات وغیرہ) - کوشش کریں کہ مزید مشقیں تیار کریں تاکہ آپ ان دیگر خیالات کو بھی دریافت کر سکیں جن پر ہم نے بات کی ہے جیسے مثالیں، اشارے اور دیگر۔\n"
   ]
  },
  {
   "cell_type": "markdown",
   "metadata": {},
   "source": [
    "\n---\n\n**اعلانِ دستبرداری**:  \nیہ دستاویز AI ترجمہ سروس [Co-op Translator](https://github.com/Azure/co-op-translator) کے ذریعے ترجمہ کی گئی ہے۔ اگرچہ ہم درستگی کی پوری کوشش کرتے ہیں، براہ کرم آگاہ رہیں کہ خودکار ترجمے میں غلطیاں یا عدم درستگی ہو سکتی ہے۔ اصل دستاویز کو اس کی اصل زبان میں مستند ماخذ سمجھا جانا چاہیے۔ اہم معلومات کے لیے، پیشہ ور انسانی ترجمہ تجویز کیا جاتا ہے۔ اس ترجمے کے استعمال سے پیدا ہونے والی کسی بھی غلط فہمی یا غلط تشریح کی ذمہ داری ہم پر نہیں ہوگی۔\n"
   ]
  }
 ],
 "metadata": {
  "language_info": {
   "name": "python"
  },
  "coopTranslator": {
   "original_hash": "ec9eedd4f3981f097d4bd34c849cb8b6",
   "translation_date": "2025-08-25T13:36:45+00:00",
   "source_file": "04-prompt-engineering-fundamentals/python/oai-assignment.ipynb",
   "language_code": "ur"
  }
 },
 "nbformat": 4,
 "nbformat_minor": 2
}