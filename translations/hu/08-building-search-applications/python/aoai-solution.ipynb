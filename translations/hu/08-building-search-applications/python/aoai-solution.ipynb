{
 "cells": [
  {
   "cell_type": "markdown",
   "metadata": {},
   "source": [
    "A következő jegyzetfüzetek futtatásához, ha még nem tetted meg, telepítened kell egy modellt, amely a `text-embedding-ada-002` alapmodellt használja, és a telepítés nevét az .env fájlban `AZURE_OPENAI_EMBEDDINGS_ENDPOINT`-ként kell beállítani.\n"
   ]
  },
  {
   "cell_type": "code",
   "execution_count": null,
   "metadata": {},
   "outputs": [],
   "source": [
    "import os\n",
    "import pandas as pd\n",
    "import numpy as np\n",
    "from openai import AzureOpenAI\n",
    "from dotenv import load_dotenv\n",
    "\n",
    "load_dotenv()\n",
    "\n",
    "client = AzureOpenAI(\n",
    "  api_key=os.environ['AZURE_OPENAI_API_KEY'],  # this is also the default, it can be omitted\n",
    "  api_version = \"2023-05-15\"\n",
    "  )\n",
    "\n",
    "model = os.environ['AZURE_OPENAI_EMBEDDINGS_DEPLOYMENT']\n",
    "\n",
    "SIMILARITIES_RESULTS_THRESHOLD = 0.75\n",
    "DATASET_NAME = \"../embedding_index_3m.json\""
   ]
  },
  {
   "cell_type": "markdown",
   "metadata": {},
   "source": [
    "Ezután be fogjuk tölteni az Embedding Indexet egy Pandas Dataframe-be. Az Embedding Index egy `embedding_index_3m.json` nevű JSON fájlban van tárolva. Az Embedding Index tartalmazza az egyes YouTube átiratok beágyazásait egészen 2023 októberének végéig.\n"
   ]
  },
  {
   "cell_type": "code",
   "execution_count": null,
   "metadata": {},
   "outputs": [],
   "source": [
    "def load_dataset(source: str) -> pd.core.frame.DataFrame:\n",
    "    # Load the video session index\n",
    "    pd_vectors = pd.read_json(source)\n",
    "    return pd_vectors.drop(columns=[\"text\"], errors=\"ignore\").fillna(\"\")"
   ]
  },
  {
   "cell_type": "markdown",
   "metadata": {},
   "source": [
    "Most következő lépésként létrehozunk egy `get_videos` nevű függvényt, amely a lekérdezés alapján keres az Embedding Indexben. A függvény visszaadja az 5 leginkább hasonló videót a lekérdezéshez. A függvény működése a következő:\n",
    "\n",
    "1. Először készül egy másolat az Embedding Indexről.\n",
    "2. Ezután a lekérdezéshez tartozó Embedding kiszámítása történik az OpenAI Embedding API segítségével.\n",
    "3. Majd létrejön egy új oszlop az Embedding Indexben, amelynek neve `similarity`. A `similarity` oszlop tartalmazza a koszinusz-hasonlóságot a lekérdezés Embeddingje és az egyes videó szegmensek Embeddingje között.\n",
    "4. Ezután az Embedding Indexet a `similarity` oszlop alapján szűrjük. Csak azok a videók maradnak benne, amelyek koszinusz-hasonlósága legalább 0,75.\n",
    "5. Végül az Embedding Indexet a `similarity` oszlop szerint sorba rendezzük, és visszaadjuk az 5 legjobb videót.\n"
   ]
  },
  {
   "cell_type": "code",
   "execution_count": null,
   "metadata": {},
   "outputs": [],
   "source": [
    "def cosine_similarity(a, b):\n",
    "    if len(a) > len(b):\n",
    "        b = np.pad(b, (0, len(a) - len(b)), 'constant')\n",
    "    elif len(b) > len(a):\n",
    "        a = np.pad(a, (0, len(b) - len(a)), 'constant')\n",
    "    return np.dot(a, b) / (np.linalg.norm(a) * np.linalg.norm(b))\n",
    "\n",
    "def get_videos(\n",
    "    query: str, dataset: pd.core.frame.DataFrame, rows: int\n",
    ") -> pd.core.frame.DataFrame:\n",
    "    # create a copy of the dataset\n",
    "    video_vectors = dataset.copy()\n",
    "\n",
    "    # get the embeddings for the query    \n",
    "    query_embeddings = client.embeddings.create(input=query, model=model).data[0].embedding\n",
    "\n",
    "    # create a new column with the calculated similarity for each row\n",
    "    video_vectors[\"similarity\"] = video_vectors[\"ada_v2\"].apply(\n",
    "        lambda x: cosine_similarity(np.array(query_embeddings), np.array(x))\n",
    "    )\n",
    "\n",
    "    # filter the videos by similarity\n",
    "    mask = video_vectors[\"similarity\"] >= SIMILARITIES_RESULTS_THRESHOLD\n",
    "    video_vectors = video_vectors[mask].copy()\n",
    "\n",
    "    # sort the videos by similarity\n",
    "    video_vectors = video_vectors.sort_values(by=\"similarity\", ascending=False).head(\n",
    "        rows\n",
    "    )\n",
    "\n",
    "    # return the top rows\n",
    "    return video_vectors.head(rows)"
   ]
  },
  {
   "cell_type": "markdown",
   "metadata": {},
   "source": [
    "Ez a függvény nagyon egyszerű, csak kiírja a keresési lekérdezés eredményeit.\n"
   ]
  },
  {
   "cell_type": "code",
   "execution_count": null,
   "metadata": {},
   "outputs": [],
   "source": [
    "def display_results(videos: pd.core.frame.DataFrame, query: str):\n",
    "    def _gen_yt_url(video_id: str, seconds: int) -> str:\n",
    "        \"\"\"convert time in format 00:00:00 to seconds\"\"\"\n",
    "        return f\"https://youtu.be/{video_id}?t={seconds}\"\n",
    "\n",
    "    print(f\"\\nVideos similar to '{query}':\")\n",
    "    for _, row in videos.iterrows():\n",
    "        youtube_url = _gen_yt_url(row[\"videoId\"], row[\"seconds\"])\n",
    "        print(f\" - {row['title']}\")\n",
    "        print(f\"   Summary: {' '.join(row['summary'].split()[:15])}...\")\n",
    "        print(f\"   YouTube: {youtube_url}\")\n",
    "        print(f\"   Similarity: {row['similarity']}\")\n",
    "        print(f\"   Speakers: {row['speaker']}\")"
   ]
  },
  {
   "cell_type": "markdown",
   "metadata": {},
   "source": [
    "1. Először az Embedding Index egy Pandas Dataframe-be töltődik be.\n",
    "2. Ezután a felhasználót megkérjük, hogy adjon meg egy lekérdezést.\n",
    "3. Majd a `get_videos` függvény hívódik meg, amely az Embedding Indexben keres a lekérdezés alapján.\n",
    "4. Végül a `display_results` függvény jeleníti meg az eredményeket a felhasználónak.\n",
    "5. Ezután a felhasználót ismét megkérjük, hogy adjon meg egy újabb lekérdezést. Ez a folyamat addig ismétlődik, amíg a felhasználó be nem írja, hogy `exit`.\n",
    "\n",
    "![](../../../../translated_images/notebook-search.1e320b9c7fcbb0bc1436d98ea6ee73b4b54ca47990a1c952b340a2cadf8ac1ca.hu.png)\n",
    "\n",
    "A rendszer meg fogja kérni, hogy adjon meg egy lekérdezést. Írjon be egy lekérdezést, majd nyomja meg az entert. Az alkalmazás visszaad egy listát azokról a videókról, amelyek kapcsolódnak a lekérdezéshez. Az alkalmazás egy linket is ad ahhoz a videórészlethez, ahol a kérdésre adott válasz található.\n",
    "\n",
    "Íme néhány példa lekérdezés, amit kipróbálhat:\n",
    "\n",
    "- Mi az az Azure Machine Learning?\n",
    "- Hogyan működnek a konvolúciós neurális hálózatok?\n",
    "- Mi az a neurális hálózat?\n",
    "- Használhatom a Jupyter Notebookokat az Azure Machine Learninggel?\n",
    "- Mi az az ONNX?\n"
   ]
  },
  {
   "cell_type": "code",
   "execution_count": null,
   "metadata": {},
   "outputs": [],
   "source": [
    "pd_vectors = load_dataset(DATASET_NAME)\n",
    "\n",
    "# get user query from imput\n",
    "while True:\n",
    "    query = input(\"Enter a query: \")\n",
    "    if query == \"exit\":\n",
    "        break\n",
    "    videos = get_videos(query, pd_vectors, 5)\n",
    "    display_results(videos, query)"
   ]
  },
  {
   "cell_type": "markdown",
   "metadata": {},
   "source": []
  },
  {
   "cell_type": "markdown",
   "metadata": {},
   "source": [
    "\n---\n\n**Jogi nyilatkozat**:  \nEz a dokumentum AI fordítási szolgáltatás, a [Co-op Translator](https://github.com/Azure/co-op-translator) segítségével készült. Bár törekszünk a pontosságra, kérjük, vegye figyelembe, hogy az automatikus fordítások hibákat vagy pontatlanságokat tartalmazhatnak. Az eredeti, eredeti nyelvű dokumentum tekintendő hiteles forrásnak. Kritikus információk esetén javasoljuk a professzionális, emberi fordítást. Nem vállalunk felelősséget a fordítás használatából eredő félreértésekért vagy téves értelmezésekért.\n"
   ]
  }
 ],
 "metadata": {
  "kernelspec": {
   "display_name": "venv",
   "language": "python",
   "name": "python3"
  },
  "language_info": {
   "codemirror_mode": {
    "name": "ipython",
    "version": 3
   },
   "file_extension": ".py",
   "mimetype": "text/x-python",
   "name": "python",
   "nbconvert_exporter": "python",
   "pygments_lexer": "ipython3",
   "version": "3.10.13"
  },
  "coopTranslator": {
   "original_hash": "32c6b8e9e87156b9c63ee62a6fd7f526",
   "translation_date": "2025-08-25T18:47:21+00:00",
   "source_file": "08-building-search-applications/python/aoai-solution.ipynb",
   "language_code": "hu"
  }
 },
 "nbformat": 4,
 "nbformat_minor": 2
}