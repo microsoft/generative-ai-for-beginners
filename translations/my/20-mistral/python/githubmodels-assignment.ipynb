{
 "cells": [
  {
   "cell_type": "markdown",
   "metadata": {},
   "source": [
    "# Mistral မော်ဒယ်များဖြင့် တည်ဆောက်ခြင်း\n",
    "\n",
    "## မိတ်ဆက်\n",
    "\n",
    "ဒီသင်ခန်းစာမှာ ပါဝင်မယ့်အကြောင်းအရာတွေကတော့ -\n",
    "- မတူညီတဲ့ Mistral မော်ဒယ်အမျိုးအစားတွေကို လေ့လာခြင်း\n",
    "- မော်ဒယ်တစ်ခုချင်းစီအတွက် သုံးစွဲနိုင်တဲ့အခြေအနေများနဲ့ အသုံးဝင်မှုများကို နားလည်ခြင်း\n",
    "- မော်ဒယ်တစ်ခုချင်းစီရဲ့ ထူးခြားချက်တွေကို ပြသတဲ့ ကုဒ်နမူနာများ\n"
   ]
  },
  {
   "cell_type": "markdown",
   "metadata": {},
   "source": [
    "## Mistral မော်ဒယ်များ\n",
    "\n",
    "ဒီသင်ခန်းစာမှာတော့ Mistral မော်ဒယ် ၃ မျိုးကို လေ့လာသွားမှာပါ။\n",
    "**Mistral Large**, **Mistral Small** နဲ့ **Mistral Nemo** တို့ဖြစ်ပါတယ်။\n",
    "\n",
    "ဒီမော်ဒယ်တွေကို Github Model marketplace မှာ အခမဲ့ရနိုင်ပါတယ်။ ဒီ notebook ထဲမှာရေးထားတဲ့ code တွေက ဒီမော်ဒယ်တွေကို အသုံးပြုထားပါတယ်။ Github Models ကို အသုံးပြုပြီး [AI မော်ဒယ်တွေနဲ့ prototype လုပ်နည်း](https://docs.github.com/en/github-models/prototyping-with-ai-models?WT.mc_id=academic-105485-koreyst) ကို ဒီမှာ ပိုမိုသိရှိနိုင်ပါတယ်။\n"
   ]
  },
  {
   "cell_type": "markdown",
   "metadata": {},
   "source": [
    "## Mistral Large 2 (2407)\n",
    "Mistral Large 2 သည် လက်ရှိ Mistral ၏ အထွေထွေသုံးအဆင့်မြင့်မော်ဒယ်ဖြစ်ပြီး စီးပွားရေးလုပ်ငန်းများအတွက် အထူးဒီဇိုင်းပြုလုပ်ထားသည်။\n",
    "\n",
    "ဤမော်ဒယ်သည် မူလ Mistral Large ထက် အဆင့်မြှင့်တင်ထားခြင်းဖြစ်ပြီး\n",
    "-  ပိုမိုကျယ်ပြန့်သော Context Window - 128k နှင့် 32k ကို နှိုင်းယှဉ်ပါက ပိုကြီးသည်\n",
    "-  သင်္ချာနှင့် ကုဒ်ရေးဆွဲခြင်းလုပ်ငန်းများတွင် ပိုမိုကောင်းမွန်သောစွမ်းဆောင်ရည် - ပျမ်းမျှတိကျမှု 76.9% နှင့် 60.4% ကို နှိုင်းယှဉ်ပါက ပိုမြင့်သည်\n",
    "-  ဘာသာစကားအမျိုးမျိုးတွင် ပိုမိုကောင်းမွန်သောစွမ်းဆောင်ရည် - ပါဝင်သောဘာသာစကားများမှာ - အင်္ဂလိပ်၊ ပြင်သစ်၊ ဂျာမန်၊ စပိန်၊ အီတလီ၊ ပေါ်တူဂီ၊ ဒတ်ချ်၊ ရုရှား၊ တရုတ်၊ ဂျပန်၊ ကိုးရီးယား၊ အာရဗီနှင့် ဟိန္ဒီ။\n",
    "\n",
    "ဤအင်္ဂါရပ်များကြောင့် Mistral Large သည် အောက်ပါအရာများတွင် ထူးချွန်သည် -\n",
    "- *Retrieval Augmented Generation (RAG)* - context window ကြီးကြောင့်\n",
    "- *Function Calling* - ဤမော်ဒယ်တွင် function calling ကို တိုက်ရိုက်ထောက်ပံ့ပေးထားပြီး ပြင်ပကိရိယာများနှင့် API များနှင့် ပေါင်းစပ်အသုံးပြုနိုင်သည်။ function call များကို တစ်ပြိုင်နက်တည်း သို့မဟုတ် အစဉ်လိုက် အဆင့်လိုက် ခေါ်ယူနိုင်သည်။\n",
    "- *Code Generation* - ဤမော်ဒယ်သည် Python, Java, TypeScript နှင့် C++ ကုဒ်ရေးဆွဲရာတွင် ထူးချွန်သည်။\n"
   ]
  },
  {
   "cell_type": "markdown",
   "metadata": {},
   "source": []
  },
  {
   "cell_type": "markdown",
   "metadata": {},
   "source": [
    "ဤဥပမာတွင် Mistral Large 2 ကို အသုံးပြု၍ RAG ပုံစံကို စာတမ်းတစ်ခုအပေါ်တွင် လည်ပတ်နေပါတယ်။ မေးခွန်းကို ကိုရီးယားဘာသာဖြင့် ရေးထားပြီး၊ စာရေးသူက တက္ကသိုလ်မတက်ခင်က ဘာလုပ်ခဲ့သလဲဆိုတာကို မေးထားပါတယ်။\n",
    "\n",
    "Cohere Embeddings Model ကို အသုံးပြု၍ စာတမ်းနှင့် မေးခွန်းကို embedding ပြုလုပ်ပါတယ်။ ဤနမူနာတွင် faiss Python package ကို vector store အဖြစ် အသုံးပြုထားပါတယ်။\n",
    "\n",
    "Mistral model သို့ ပို့သော prompt တွင် မေးခွန်းနှင့် မေးခွန်းနှင့် ဆင်တူသော chunk များပါဝင်ပါတယ်။ Model သည် သဘာဝဘာသာစကားဖြင့် အဖြေကို ပြန်ပေးပါသည်။\n"
   ]
  },
  {
   "cell_type": "code",
   "execution_count": 50,
   "metadata": {},
   "outputs": [
    {
     "name": "stdout",
     "output_type": "stream",
     "text": [
      "Requirement already satisfied: faiss-cpu in /home/codespace/.python/current/lib/python3.12/site-packages (1.8.0.post1)\n",
      "Requirement already satisfied: numpy<2.0,>=1.0 in /home/codespace/.python/current/lib/python3.12/site-packages (from faiss-cpu) (1.26.4)\n",
      "Requirement already satisfied: packaging in /home/codespace/.local/lib/python3.12/site-packages (from faiss-cpu) (24.1)\n",
      "Note: you may need to restart the kernel to use updated packages.\n"
     ]
    }
   ],
   "source": [
    "pip install faiss-cpu"
   ]
  },
  {
   "cell_type": "code",
   "execution_count": 51,
   "metadata": {},
   "outputs": [
    {
     "name": "stdout",
     "output_type": "stream",
     "text": [
      "The author primarily engaged in two activities before college: writing and programming. In terms of writing, they wrote short stories, albeit not very good ones, with minimal plot and characters expressing strong feelings. For programming, they started writing programs on the IBM 1401 used for data processing during their 9th grade, at the age of 13 or 14. They used an early version of Fortran and typed programs on punch cards, later loading them into the card reader to run the program.\n"
     ]
    }
   ],
   "source": [
    "import requests\n",
    "import numpy as np\n",
    "import faiss\n",
    "import os\n",
    "\n",
    "from azure.ai.inference import ChatCompletionsClient\n",
    "from azure.ai.inference.models import SystemMessage, UserMessage\n",
    "from azure.core.credentials import AzureKeyCredential\n",
    "from azure.ai.inference import EmbeddingsClient\n",
    "\n",
    "endpoint = \"https://models.inference.ai.azure.com\"\n",
    "model_name = \"Mistral-large\"\n",
    "token = os.environ[\"GITHUB_TOKEN\"]\n",
    "\n",
    "client = ChatCompletionsClient(\n",
    "    endpoint=endpoint,\n",
    "    credential=AzureKeyCredential(token),\n",
    ")\n",
    "\n",
    "response = requests.get('https://raw.githubusercontent.com/run-llama/llama_index/main/docs/docs/examples/data/paul_graham/paul_graham_essay.txt')\n",
    "text = response.text\n",
    "\n",
    "chunk_size = 2048\n",
    "chunks = [text[i:i + chunk_size] for i in range(0, len(text), chunk_size)]\n",
    "len(chunks)\n",
    "\n",
    "embed_model_name = \"cohere-embed-v3-multilingual\" \n",
    "\n",
    "embed_client = EmbeddingsClient(\n",
    "        endpoint=endpoint,\n",
    "        credential=AzureKeyCredential(token)\n",
    ")\n",
    "\n",
    "embed_response = embed_client.embed(\n",
    "    input=chunks,\n",
    "    model=embed_model_name\n",
    ")\n",
    "\n",
    "\n",
    "\n",
    "text_embeddings = []\n",
    "for item in embed_response.data:\n",
    "    length = len(item.embedding)\n",
    "    text_embeddings.append(item.embedding)\n",
    "text_embeddings = np.array(text_embeddings)\n",
    "\n",
    "\n",
    "d = text_embeddings.shape[1]\n",
    "index = faiss.IndexFlatL2(d)\n",
    "index.add(text_embeddings)\n",
    "\n",
    "question = \"저자가 대학에 오기 전에 주로 했던 두 가지 일은 무엇이었나요?？\"\n",
    "\n",
    "question_embedding = embed_client.embed(\n",
    "    input=[question],\n",
    "    model=embed_model_name\n",
    ")\n",
    "\n",
    "question_embeddings = np.array(question_embedding.data[0].embedding)\n",
    "\n",
    "\n",
    "D, I = index.search(question_embeddings.reshape(1, -1), k=2) # distance, index\n",
    "retrieved_chunks = [chunks[i] for i in I.tolist()[0]]\n",
    "\n",
    "prompt = f\"\"\"\n",
    "Context information is below.\n",
    "---------------------\n",
    "{retrieved_chunks}\n",
    "---------------------\n",
    "Given the context information and not prior knowledge, answer the query.\n",
    "Query: {question}\n",
    "Answer:\n",
    "\"\"\"\n",
    "\n",
    "\n",
    "chat_response = client.complete(\n",
    "    messages=[\n",
    "        SystemMessage(content=\"You are a helpful assistant.\"),\n",
    "        UserMessage(content=prompt),\n",
    "    ],\n",
    "    temperature=1.0,\n",
    "    top_p=1.0,\n",
    "    max_tokens=1000,\n",
    "    model=model_name\n",
    ")\n",
    "\n",
    "print(chat_response.choices[0].message.content)"
   ]
  },
  {
   "cell_type": "markdown",
   "metadata": {},
   "source": [
    "## Mistral Small\n",
    "Mistral Small သည် Mistral မော်ဒယ်များအုပ်စုထဲမှ premier/enterprise အမျိုးအစားတွင်ပါဝင်သည့် မော်ဒယ်တစ်ခုဖြစ်သည်။ အမည်အရ၊ ဒီမော်ဒယ်ကတော့ Small Language Model (SLM) တစ်ခုဖြစ်ပါတယ်။ Mistral Small ကို အသုံးပြုရာမှာ ရရှိနိုင်တဲ့ အားသာချက်တွေကတော့ -\n",
    "- Mistral Large နဲ့ NeMo ကဲ့သို့သော Mistral LLMs တွေနဲ့ နှိုင်းယှဉ်ရင် စျေးနှုန်း ၈၀% လျော့နည်းသွားတာကြောင့် စရိတ်ချွေတာနိုင်ခြင်း\n",
    "- Low latency - Mistral ရဲ့ LLMs တွေနဲ့ နှိုင်းယှဉ်ရင် တုံ့ပြန်မှုမြန်ခြင်း\n",
    "- Flexible ဖြစ်ခြင်း - လိုအပ်တဲ့ resource တွေ အနည်းငယ်နဲ့ပဲ ပတ်ဝန်းကျင်အမျိုးမျိုးမှာ အသုံးပြုနိုင်ခြင်း\n",
    "\n",
    "Mistral Small ကို အသုံးပြုရန် သင့်တော်သောအရာများမှာ -\n",
    "- စာသားအခြေပြု အလုပ်များ (ဥပမာ - အကျဉ်းချုပ်ရေးခြင်း၊ စိတ်ခံစားမှုခွဲခြမ်းစိတ်ဖြာခြင်း၊ ဘာသာပြန်ခြင်း)\n",
    "- စရိတ်ချွေတာမှုကြောင့် မကြာခဏ တောင်းဆိုမှုများ လုပ်ရသော အပလီကေးရှင်းများ\n",
    "- Low latency လိုအပ်သော code အလုပ်များ (ဥပမာ - code review, code suggestion)\n"
   ]
  },
  {
   "cell_type": "markdown",
   "metadata": {},
   "source": [
    "## Mistral Small နဲ့ Mistral Large ကို နှိုင်းယှဉ်ခြင်း\n",
    "\n",
    "Mistral Small နဲ့ Large တို့အကြား latency ကွာခြားချက်ကို ပြသဖို့အတွက် အောက်ပါ cells တွေကို run လုပ်ပါ။\n",
    "\n",
    "တုံ့ပြန်ချိန်မှာ ၃-၅ စက္ကန့်လောက် ကွာခြားမှုကို တွေ့ရပါလိမ့်မယ်။ ထို့အပြင် တုံ့ပြန်ချက်အရှည်နဲ့ စတိုင်ကိုလည်း တူညီတဲ့ prompt မှာ ကြည့်ပါ။\n"
   ]
  },
  {
   "cell_type": "code",
   "execution_count": null,
   "metadata": {},
   "outputs": [],
   "source": [
    "import os \n",
    "endpoint = \"https://models.inference.ai.azure.com\"\n",
    "model_name = \"Mistral-small\"\n",
    "token = os.environ[\"GITHUB_TOKEN\"]\n",
    "\n",
    "client = ChatCompletionsClient(\n",
    "    endpoint=endpoint,\n",
    "    credential=AzureKeyCredential(token),\n",
    ")\n",
    "\n",
    "response = client.complete(\n",
    "    messages=[\n",
    "        SystemMessage(content=\"You are a helpful coding assistant.\"),\n",
    "        UserMessage(content=\"Can you write a Python function to the fizz buzz test?\"),\n",
    "    ],\n",
    "    temperature=1.0,\n",
    "    top_p=1.0,\n",
    "    max_tokens=1000,\n",
    "    model=model_name\n",
    ")\n",
    "\n",
    "print(response.choices[0].message.content)"
   ]
  },
  {
   "cell_type": "code",
   "execution_count": null,
   "metadata": {},
   "outputs": [],
   "source": [
    "import os\n",
    "from azure.ai.inference import ChatCompletionsClient\n",
    "from azure.ai.inference.models import SystemMessage, UserMessage\n",
    "from azure.core.credentials import AzureKeyCredential\n",
    "\n",
    "endpoint = \"https://models.inference.ai.azure.com\"\n",
    "model_name = \"Mistral-large\"\n",
    "token = os.environ[\"GITHUB_TOKEN\"]\n",
    "\n",
    "client = ChatCompletionsClient(\n",
    "    endpoint=endpoint,\n",
    "    credential=AzureKeyCredential(token),\n",
    ")\n",
    "\n",
    "response = client.complete(\n",
    "    messages=[\n",
    "        SystemMessage(content=\"You are a helpful coding assistant.\"),\n",
    "        UserMessage(content=\"Can you write a Python function to the fizz buzz test?\"),\n",
    "    ],\n",
    "    temperature=1.0,\n",
    "    top_p=1.0,\n",
    "    max_tokens=1000,\n",
    "    model=model_name\n",
    ")\n",
    "\n",
    "print(response.choices[0].message.content)"
   ]
  },
  {
   "cell_type": "markdown",
   "metadata": {},
   "source": [
    "## Mistral NeMo\n",
    "\n",
    "ဒီသင်ခန်းစာမှာ ဆွေးနွေးထားတဲ့ အခြားမော်ဒယ်နှစ်ခုနဲ့ နှိုင်းယှဉ်ကြည့်မယ်ဆိုရင် Mistral NeMo က Apache2 License နဲ့ အခမဲ့သုံးနိုင်တဲ့ တစ်ခုတည်းသော မော်ဒယ်ပါ။\n",
    "\n",
    "Mistral NeMo ကို Mistral ရဲ့ ယခင်က ထုတ်ထားတဲ့ open source LLM ဖြစ်တဲ့ Mistral 7B ကို တိုးတက်အဆင့်မြှင့်ထားတာအနေနဲ့ မြင်ကြပါတယ်။\n",
    "\n",
    "NeMo မော်ဒယ်ရဲ့ အခြားအင်္ဂါရပ်တွေကတော့ -\n",
    "\n",
    "- *Tokenization ပိုထိရောက်မှုရှိခြင်း:* ဒီမော်ဒယ်မှာ Tekken tokenizer ကို အသုံးပြုထားပြီး၊ လူသုံးများတဲ့ tiktoken ထက် ပိုကောင်းတဲ့ performance ကို ဘာသာစကားအမျိုးမျိုးနဲ့ code တွေမှာ ရရှိစေပါတယ်။\n",
    "\n",
    "- *Finetuning:* Base model ကို finetuning လုပ်နိုင်အောင် ပေးထားပါတယ်။ ဒီအင်္ဂါရပ်ကြောင့် finetuning လိုအပ်တဲ့ use-case တွေအတွက် ပိုပြီး flexible ဖြစ်စေပါတယ်။\n",
    "\n",
    "- *Native Function Calling* - Mistral Large လိုပဲ ဒီမော်ဒယ်ကို function calling အပေါ် train လုပ်ထားပါတယ်။ ဒါကြောင့် open source မော်ဒယ်တွေထဲမှာ function calling ကို ပထမဆုံးစမ်းသပ်ထားတဲ့ တစ်ခုအနေနဲ့ ထူးခြားပါတယ်။\n"
   ]
  },
  {
   "cell_type": "markdown",
   "metadata": {},
   "source": [
    "## Mistral NeMo\n",
    "\n",
    "ဒီသင်ခန်းစာမှာ ဆွေးနွေးထားတဲ့ အခြားမော်ဒယ်နှစ်ခုနဲ့ နှိုင်းယှဉ်ကြည့်မယ်ဆိုရင် Mistral NeMo က Apache2 License နဲ့ အခမဲ့သုံးနိုင်တဲ့ တစ်ခုတည်းသော မော်ဒယ်ပါ။\n",
    "\n",
    "Mistral NeMo ကို Mistral ရဲ့ ယခင်က ထုတ်ထားတဲ့ open source LLM ဖြစ်တဲ့ Mistral 7B ကို တိုးတက်အဆင့်မြှင့်ထားတာအဖြစ် တွေးမြင်ကြပါတယ်။\n",
    "\n",
    "NeMo မော်ဒယ်ရဲ့ အခြားအင်္ဂါရပ်တွေကတော့ -\n",
    "\n",
    "- *Tokenization ပိုထိရောက်မှုရှိခြင်း:* ဒီမော်ဒယ်မှာ Tekken tokenizer ကို အသုံးပြုထားပြီး၊ လူသုံးများတဲ့ tiktoken ထက် ပိုကောင်းတဲ့ စွမ်းဆောင်ရည်ရရှိစေပါတယ်။ ဘာသာစကားအမျိုးမျိုးနဲ့ ကုဒ်အမျိုးမျိုးမှာ ပိုကောင်းတဲ့ performance ရရှိစေပါတယ်။\n",
    "\n",
    "- *Finetuning:* Base model ကို finetuning လုပ်နိုင်အောင် ပေးထားပါတယ်။ ဒီအင်္ဂါရပ်ကြောင့် finetuning လိုအပ်တဲ့ use-case တွေမှာ ပိုပြီး flexible ဖြစ်စေပါတယ်။\n",
    "\n",
    "- *Native Function Calling* - Mistral Large လိုပဲ ဒီမော်ဒယ်ကို function calling ပိုင်းမှာလည်း သင်ကြားထားပါတယ်။ ဒါကြောင့် open source မော်ဒယ်တွေထဲမှာ function calling ကို ပထမဆုံးစမ်းသပ်ထားတဲ့ မော်ဒယ်တစ်ခုအဖြစ် ထူးခြားပါတယ်။\n"
   ]
  },
  {
   "cell_type": "markdown",
   "metadata": {},
   "source": [
    "### Tokenizer များကို နှိုင်းယှဉ်ခြင်း\n",
    "\n",
    "ဤနမူနာတွင် Mistral NeMo သည် tokenization ကို Mistral Large နှင့် ဘယ်လိုကွာခြားစွာ ကိုင်တွယ်သလဲဆိုတာ ကြည့်ရှုသွားပါမယ်။\n",
    "\n",
    "နမူနာနှစ်ခုလုံးမှာ တူညီတဲ့ prompt ကို အသုံးပြုထားပေမယ့် NeMo က Mistral Large ထက် tokens နည်းနည်းသာ ပြန်ပေးမယ်ဆိုတာကို သတိထားတွေ့ရပါလိမ့်မယ်။\n"
   ]
  },
  {
   "cell_type": "code",
   "execution_count": 11,
   "metadata": {},
   "outputs": [
    {
     "name": "stdout",
     "output_type": "stream",
     "text": [
      "Collecting mistral-common\n",
      "  Downloading mistral_common-1.4.4-py3-none-any.whl.metadata (4.6 kB)\n",
      "Requirement already satisfied: jsonschema<5.0.0,>=4.21.1 in /home/codespace/.local/lib/python3.12/site-packages (from mistral-common) (4.23.0)\n",
      "Requirement already satisfied: numpy>=1.25 in /home/codespace/.local/lib/python3.12/site-packages (from mistral-common) (2.1.1)\n",
      "Requirement already satisfied: pillow<11.0.0,>=10.3.0 in /home/codespace/.local/lib/python3.12/site-packages (from mistral-common) (10.4.0)\n",
      "Requirement already satisfied: pydantic<3.0.0,>=2.6.1 in /home/codespace/.python/current/lib/python3.12/site-packages (from mistral-common) (2.9.2)\n",
      "Requirement already satisfied: requests<3.0.0,>=2.0.0 in /home/codespace/.local/lib/python3.12/site-packages (from mistral-common) (2.32.3)\n",
      "Collecting sentencepiece==0.2.0 (from mistral-common)\n",
      "  Downloading sentencepiece-0.2.0-cp312-cp312-manylinux_2_17_x86_64.manylinux2014_x86_64.whl.metadata (7.7 kB)\n",
      "Collecting tiktoken<0.8.0,>=0.7.0 (from mistral-common)\n",
      "  Downloading tiktoken-0.7.0-cp312-cp312-manylinux_2_17_x86_64.manylinux2014_x86_64.whl.metadata (6.6 kB)\n",
      "Requirement already satisfied: typing-extensions<5.0.0,>=4.11.0 in /home/codespace/.python/current/lib/python3.12/site-packages (from mistral-common) (4.12.2)\n",
      "Requirement already satisfied: attrs>=22.2.0 in /home/codespace/.local/lib/python3.12/site-packages (from jsonschema<5.0.0,>=4.21.1->mistral-common) (24.2.0)\n",
      "Requirement already satisfied: jsonschema-specifications>=2023.03.6 in /home/codespace/.local/lib/python3.12/site-packages (from jsonschema<5.0.0,>=4.21.1->mistral-common) (2023.12.1)\n",
      "Requirement already satisfied: referencing>=0.28.4 in /home/codespace/.local/lib/python3.12/site-packages (from jsonschema<5.0.0,>=4.21.1->mistral-common) (0.35.1)\n",
      "Requirement already satisfied: rpds-py>=0.7.1 in /home/codespace/.local/lib/python3.12/site-packages (from jsonschema<5.0.0,>=4.21.1->mistral-common) (0.20.0)\n",
      "Requirement already satisfied: annotated-types>=0.6.0 in /home/codespace/.python/current/lib/python3.12/site-packages (from pydantic<3.0.0,>=2.6.1->mistral-common) (0.7.0)\n",
      "Requirement already satisfied: pydantic-core==2.23.4 in /home/codespace/.python/current/lib/python3.12/site-packages (from pydantic<3.0.0,>=2.6.1->mistral-common) (2.23.4)\n",
      "Requirement already satisfied: charset-normalizer<4,>=2 in /home/codespace/.local/lib/python3.12/site-packages (from requests<3.0.0,>=2.0.0->mistral-common) (3.3.2)\n",
      "Requirement already satisfied: idna<4,>=2.5 in /home/codespace/.local/lib/python3.12/site-packages (from requests<3.0.0,>=2.0.0->mistral-common) (3.10)\n",
      "Requirement already satisfied: urllib3<3,>=1.21.1 in /home/codespace/.local/lib/python3.12/site-packages (from requests<3.0.0,>=2.0.0->mistral-common) (2.2.3)\n",
      "Requirement already satisfied: certifi>=2017.4.17 in /home/codespace/.local/lib/python3.12/site-packages (from requests<3.0.0,>=2.0.0->mistral-common) (2024.8.30)\n",
      "Collecting regex>=2022.1.18 (from tiktoken<0.8.0,>=0.7.0->mistral-common)\n",
      "  Downloading regex-2024.9.11-cp312-cp312-manylinux_2_17_x86_64.manylinux2014_x86_64.whl.metadata (40 kB)\n",
      "Downloading mistral_common-1.4.4-py3-none-any.whl (6.0 MB)\n",
      "\u001b[2K   \u001b[90m━━━━━━━━━━━━━━━━━━━━━━━━━━━━━━━━━━━━━━━━\u001b[0m \u001b[32m6.0/6.0 MB\u001b[0m \u001b[31m63.6 MB/s\u001b[0m eta \u001b[36m0:00:00\u001b[0m\n",
      "\u001b[?25hDownloading sentencepiece-0.2.0-cp312-cp312-manylinux_2_17_x86_64.manylinux2014_x86_64.whl (1.3 MB)\n",
      "\u001b[2K   \u001b[90m━━━━━━━━━━━━━━━━━━━━━━━━━━━━━━━━━━━━━━━━\u001b[0m \u001b[32m1.3/1.3 MB\u001b[0m \u001b[31m19.7 MB/s\u001b[0m eta \u001b[36m0:00:00\u001b[0m\n",
      "\u001b[?25hDownloading tiktoken-0.7.0-cp312-cp312-manylinux_2_17_x86_64.manylinux2014_x86_64.whl (1.1 MB)\n",
      "\u001b[2K   \u001b[90m━━━━━━━━━━━━━━━━━━━━━━━━━━━━━━━━━━━━━━━━\u001b[0m \u001b[32m1.1/1.1 MB\u001b[0m \u001b[31m16.8 MB/s\u001b[0m eta \u001b[36m0:00:00\u001b[0m\n",
      "\u001b[?25hDownloading regex-2024.9.11-cp312-cp312-manylinux_2_17_x86_64.manylinux2014_x86_64.whl (797 kB)\n",
      "\u001b[2K   \u001b[90m━━━━━━━━━━━━━━━━━━━━━━━━━━━━━━━━━━━━━━━━\u001b[0m \u001b[32m797.0/797.0 kB\u001b[0m \u001b[31m15.1 MB/s\u001b[0m eta \u001b[36m0:00:00\u001b[0m\n",
      "\u001b[?25hInstalling collected packages: sentencepiece, regex, tiktoken, mistral-common\n",
      "Successfully installed mistral-common-1.4.4 regex-2024.9.11 sentencepiece-0.2.0 tiktoken-0.7.0\n",
      "Note: you may need to restart the kernel to use updated packages.\n"
     ]
    }
   ],
   "source": [
    "pip install mistral-common"
   ]
  },
  {
   "cell_type": "code",
   "execution_count": 12,
   "metadata": {},
   "outputs": [
    {
     "name": "stdout",
     "output_type": "stream",
     "text": [
      "128\n"
     ]
    }
   ],
   "source": [
    "# Import needed packages:\n",
    "from mistral_common.protocol.instruct.messages import (\n",
    "    UserMessage,\n",
    ")\n",
    "from mistral_common.protocol.instruct.request import ChatCompletionRequest\n",
    "from mistral_common.protocol.instruct.tool_calls import (\n",
    "    Function,\n",
    "    Tool,\n",
    ")\n",
    "from mistral_common.tokens.tokenizers.mistral import MistralTokenizer\n",
    "\n",
    "# Load Mistral tokenizer\n",
    "\n",
    "model_name = \"open-mistral-nemo\t\"\n",
    "\n",
    "tokenizer = MistralTokenizer.from_model(model_name)\n",
    "\n",
    "# Tokenize a list of messages\n",
    "tokenized = tokenizer.encode_chat_completion(\n",
    "    ChatCompletionRequest(\n",
    "        tools=[\n",
    "            Tool(\n",
    "                function=Function(\n",
    "                    name=\"get_current_weather\",\n",
    "                    description=\"Get the current weather\",\n",
    "                    parameters={\n",
    "                        \"type\": \"object\",\n",
    "                        \"properties\": {\n",
    "                            \"location\": {\n",
    "                                \"type\": \"string\",\n",
    "                                \"description\": \"The city and state, e.g. San Francisco, CA\",\n",
    "                            },\n",
    "                            \"format\": {\n",
    "                                \"type\": \"string\",\n",
    "                                \"enum\": [\"celsius\", \"fahrenheit\"],\n",
    "                                \"description\": \"The temperature unit to use. Infer this from the users location.\",\n",
    "                            },\n",
    "                        },\n",
    "                        \"required\": [\"location\", \"format\"],\n",
    "                    },\n",
    "                )\n",
    "            )\n",
    "        ],\n",
    "        messages=[\n",
    "            UserMessage(content=\"What's the weather like today in Paris\"),\n",
    "        ],\n",
    "        model=model_name,\n",
    "    )\n",
    ")\n",
    "tokens, text = tokenized.tokens, tokenized.text\n",
    "\n",
    "# Count the number of tokens\n",
    "print(len(tokens))"
   ]
  },
  {
   "cell_type": "code",
   "execution_count": 13,
   "metadata": {},
   "outputs": [
    {
     "name": "stdout",
     "output_type": "stream",
     "text": [
      "135\n"
     ]
    }
   ],
   "source": [
    "# Import needed packages:\n",
    "from mistral_common.protocol.instruct.messages import (\n",
    "    UserMessage,\n",
    ")\n",
    "from mistral_common.protocol.instruct.request import ChatCompletionRequest\n",
    "from mistral_common.protocol.instruct.tool_calls import (\n",
    "    Function,\n",
    "    Tool,\n",
    ")\n",
    "from mistral_common.tokens.tokenizers.mistral import MistralTokenizer\n",
    "\n",
    "# Load Mistral tokenizer\n",
    "\n",
    "model_name = \"mistral-large-latest\"\n",
    "\n",
    "tokenizer = MistralTokenizer.from_model(model_name)\n",
    "\n",
    "# Tokenize a list of messages\n",
    "tokenized = tokenizer.encode_chat_completion(\n",
    "    ChatCompletionRequest(\n",
    "        tools=[\n",
    "            Tool(\n",
    "                function=Function(\n",
    "                    name=\"get_current_weather\",\n",
    "                    description=\"Get the current weather\",\n",
    "                    parameters={\n",
    "                        \"type\": \"object\",\n",
    "                        \"properties\": {\n",
    "                            \"location\": {\n",
    "                                \"type\": \"string\",\n",
    "                                \"description\": \"The city and state, e.g. San Francisco, CA\",\n",
    "                            },\n",
    "                            \"format\": {\n",
    "                                \"type\": \"string\",\n",
    "                                \"enum\": [\"celsius\", \"fahrenheit\"],\n",
    "                                \"description\": \"The temperature unit to use. Infer this from the users location.\",\n",
    "                            },\n",
    "                        },\n",
    "                        \"required\": [\"location\", \"format\"],\n",
    "                    },\n",
    "                )\n",
    "            )\n",
    "        ],\n",
    "        messages=[\n",
    "            UserMessage(content=\"What's the weather like today in Paris\"),\n",
    "        ],\n",
    "        model=model_name,\n",
    "    )\n",
    ")\n",
    "tokens, text = tokenized.tokens, tokenized.text\n",
    "\n",
    "# Count the number of tokens\n",
    "print(len(tokens))"
   ]
  },
  {
   "cell_type": "markdown",
   "metadata": {},
   "source": [
    "## သင်ယူမှုက ဒီမှာတင် မပြီးသေးပါ၊ ခရီးကို ဆက်လက်တက်ကြွပါ\n",
    "\n",
    "ဒီသင်ခန်းစာကို ပြီးဆုံးပြီးရင်၊ သင့်ရဲ့ Generative AI အသိပညာကို နောက်ထပ် တိုးတက်အောင် [Generative AI Learning collection](https://aka.ms/genai-collection?WT.mc_id=academic-105485-koreyst) ကို ဝင်ကြည့်ပြီး ဆက်လက်လေ့လာပါ!\n"
   ]
  },
  {
   "cell_type": "markdown",
   "metadata": {},
   "source": [
    "\n---\n\n**သတိပြုရန်**:\nဤစာရွက်စာတမ်းကို AI ဘာသာပြန်ဝန်ဆောင်မှု [Co-op Translator](https://github.com/Azure/co-op-translator) ကို အသုံးပြု၍ ဘာသာပြန်ထားပါသည်။ ကျွန်ုပ်တို့သည် တိကျမှန်ကန်မှုအတွက် ကြိုးစားနေသော်လည်း၊ အလိုအလျောက်ဘာသာပြန်ခြင်းတွင် အမှားများ သို့မဟုတ် မမှန်ကန်မှုများ ပါဝင်နိုင်သည်ကို သတိပြုပါ။ မူရင်းဘာသာဖြင့် ရေးသားထားသော စာရွက်စာတမ်းကိုသာ အာဏာတရားရှိသော ရင်းမြစ်အဖြစ် ယူဆသင့်ပါသည်။ အရေးကြီးသော အချက်အလက်များအတွက် လူ့ဘာသာပြန်ပညာရှင်များ၏ ဝန်ဆောင်မှုကို အသုံးပြုရန် အကြံပြုပါသည်။ ဤဘာသာပြန်ချက်ကို အသုံးပြုခြင်းမှ ဖြစ်ပေါ်လာနိုင်သော နားလည်မှုမှားခြင်း သို့မဟုတ် အနားလည်အမှားများအတွက် ကျွန်ုပ်တို့သည် တာဝန်မယူပါ။\n"
   ]
  }
 ],
 "metadata": {
  "kernelspec": {
   "display_name": "Python 3",
   "language": "python",
   "name": "python3"
  },
  "language_info": {
   "codemirror_mode": {
    "name": "ipython",
    "version": 3
   },
   "file_extension": ".py",
   "mimetype": "text/x-python",
   "name": "python",
   "nbconvert_exporter": "python",
   "pygments_lexer": "ipython3",
   "version": "3.12.1"
  },
  "coopTranslator": {
   "original_hash": "03bc2561665a8b411acfc24a8aa0d442",
   "translation_date": "2025-08-25T22:33:57+00:00",
   "source_file": "20-mistral/python/githubmodels-assignment.ipynb",
   "language_code": "my"
  }
 },
 "nbformat": 4,
 "nbformat_minor": 2
}