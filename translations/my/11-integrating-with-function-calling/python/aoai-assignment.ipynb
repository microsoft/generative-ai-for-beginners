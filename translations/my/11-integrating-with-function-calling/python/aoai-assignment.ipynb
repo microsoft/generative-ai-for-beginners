{
 "cells": [
  {
   "cell_type": "markdown",
   "metadata": {},
   "source": [
    "## မိတ်ဆက်\n",
    "\n",
    "ဒီသင်ခန်းစာမှာ ဖော်ပြသွားမှာတွေက\n",
    "- Function calling ဆိုတာဘာလဲ၊ ဘယ်လိုအသုံးဝင်သလဲ\n",
    "- Azure OpenAI ကိုသုံးပြီး function call ကိုဘယ်လိုဖန်တီးရမလဲ\n",
    "- Function call ကို application တစ်ခုထဲမှာ ဘယ်လိုပေါင်းစည်းသွားရမလဲ\n",
    "\n",
    "## သင်ယူရမယ့်ရည်ရွယ်ချက်များ\n",
    "\n",
    "ဒီသင်ခန်းစာပြီးဆုံးတဲ့အခါမှာ သင်တန်းသားတွေက သိရှိနားလည်လာမှာတွေက\n",
    "\n",
    "- Function calling ကိုသုံးတဲ့ရည်ရွယ်ချက်\n",
    "- Azure Open AI Service ကိုသုံးပြီး Function Call ကို စတင်တပ်ဆင်နည်း\n",
    "- ကိုယ့် application ရဲ့ အသုံးအဆောင်အတွက် ထိရောက်တဲ့ function calls တွေကို ဒီဇိုင်းဆွဲနည်း\n"
   ]
  },
  {
   "cell_type": "markdown",
   "metadata": {},
   "source": [
    "## Function Call များကို နားလည်ခြင်း\n",
    "\n",
    "ဒီသင်ခန်းစာအတွက် ကျွန်ုပ်တို့ရဲ့ ပညာရေးစတတ်အပ်အတွက် အသုံးပြုသူတွေက chatbot ကိုသုံးပြီး နည်းပညာသင်တန်းတွေကို ရှာဖွေနိုင်တဲ့ လုပ်ဆောင်ချက်တစ်ခု တည်ဆောက်ချင်ပါတယ်။ အသုံးပြုသူရဲ့ ကျွမ်းကျင်မှုအဆင့်၊ လက်ရှိအလုပ်အကိုင်နဲ့ စိတ်ဝင်စားတဲ့နည်းပညာအပေါ်မူတည်ပြီး သင်တန်းတွေကို အကြံပြုပေးပါမယ်။\n",
    "\n",
    "ဒီအလုပ်ကို ပြီးမြောက်အောင်လုပ်ဖို့ အောက်ပါအရာတွေကို ပေါင်းစပ်သုံးပါမယ် -\n",
    " - `Azure Open AI` ကို အသုံးပြုသူအတွက် စကားပြောအတွေ့အကြုံ ဖန်တီးဖို့\n",
    " - `Microsoft Learn Catalog API` ကို အသုံးပြုသူတောင်းဆိုချက်အပေါ်မူတည်ပြီး သင်တန်းတွေ ရှာဖွေဖို့\n",
    " - `Function Calling` ကို အသုံးပြုသူရဲ့ မေးခွန်းကို function တစ်ခုဆီ ပို့ပြီး API တောင်းဆိုမှုလုပ်ဖို့\n",
    "\n",
    "စတင်ဖို့အတွက် function calling ကို ဘာကြောင့်သုံးချင်တာလဲဆိုတာကို အရင်ကြည့်ကြပါစို့ -\n",
    "\n",
    "print(\"Messages in next request:\")\n",
    "print(messages)\n",
    "print()\n",
    "\n",
    "second_response = client.chat.completions.create(\n",
    "    messages=messages,\n",
    "    model=deployment,\n",
    "    function_call=\"auto\",\n",
    "    functions=functions,\n",
    "    temperature=0\n",
    "        )  # GPT က function response ကို မြင်နိုင်အောင် အသစ်တစ်ခု ပြန်ထုတ်ပေးစေခြင်း\n",
    "\n",
    "\n",
    "print(second_response.choices[0].message)\n"
   ]
  },
  {
   "cell_type": "markdown",
   "metadata": {},
   "source": [
    "### ဘာကြောင့် Function Calling ကို အသုံးပြုသင့်သလဲ\n",
    "\n",
    "ဒီသင်ခန်းစာထဲက အခြားသင်ခန်းစာတစ်ခုခုကို ပြီးမြောက်ခဲ့ရင် LLMs (Large Language Models) ကို အသုံးပြုတဲ့အခါရရှိနိုင်တဲ့ အားသာချက်တွေကို နားလည်လာပြီလို့ ထင်ပါတယ်။ ဒါ့အပြင် သူတို့ရဲ့ အားနည်းချက်တွေကိုလည်း တွေ့မြင်နိုင်မယ်လို့ မျှော်လင့်ပါတယ်။\n",
    "\n",
    "Function Calling ဆိုတာက Azure Open AI Service မှာပါဝင်တဲ့ အင်္ဂါရပ်တစ်ခုဖြစ်ပြီး အောက်ပါ အားနည်းချက်တွေကို ဖြေရှင်းနိုင်စေပါတယ်။\n",
    "1) တိကျညီညွတ်တဲ့ တုံ့ပြန်မှုဖော်မတ်\n",
    "2) Chat context ထဲမှာ အခြား application ရဲ့ data source တွေက ဒေတာတွေကို အသုံးပြုနိုင်စွမ်း\n",
    "\n",
    "Function calling မရှိခင် LLM က ထုတ်ပေးတဲ့ တုံ့ပြန်ချက်တွေက မတူညီဘဲ မသေချာတဲ့ ဖွဲ့စည်းပုံနဲ့ ရှိတတ်ပါတယ်။ ဒါကြောင့် developer တွေက တုံ့ပြန်ချက်အမျိုးမျိုးကို ကိုင်တွယ်နိုင်ဖို့ အလွန်ရှုပ်ထွေးတဲ့ validation code တွေ ရေးရပါတယ်။\n",
    "\n",
    "အသုံးပြုသူတွေက \"Stockholm ရဲ့ လက်ရှိရာသီဥတု ဘာလဲ?\" ဆိုတဲ့ မေးခွန်းကို ဖြေဆိုနိုင်မယ့် အဖြေကို မရနိုင်ပါဘူး။ ဒါကတော့ မော်ဒယ်တွေဟာ သူတို့လေ့လာသင်ယူထားတဲ့ အချိန်အထိရှိတဲ့ ဒေတာတွေပဲ အသုံးပြုနိုင်လို့ပါ။\n",
    "\n",
    "ဒီပြဿနာကို ပိုမိုနားလည်စေရန် အောက်မှာ ဥပမာတစ်ခုကို ကြည့်ကြရအောင်။\n",
    "\n",
    "ကျွန်ုပ်တို့က ကျောင်းသားတွေရဲ့ ဒေတာကို စုစည်းထားတဲ့ database တစ်ခု ဖန်တီးချင်တယ်၊ ဒါနဲ့ သူတို့အတွက် သင့်တော်တဲ့ သင်တန်းကို အကြံပြုနိုင်ဖို့ပါ။ အောက်မှာတော့ အလားတူတဲ့ ဒေတာတွေပါဝင်တဲ့ ကျောင်းသားနှစ်ဦးရဲ့ ဖော်ပြချက်နှစ်ခုရှိပါတယ်။\n"
   ]
  },
  {
   "cell_type": "code",
   "execution_count": null,
   "metadata": {},
   "outputs": [],
   "source": [
    "student_1_description=\"Emily Johnson is a sophomore majoring in computer science at Duke University. She has a 3.7 GPA. Emily is an active member of the university's Chess Club and Debate Team. She hopes to pursue a career in software engineering after graduating.\"\n",
    " \n",
    "student_2_description = \"Michael Lee is a sophomore majoring in computer science at Stanford University. He has a 3.8 GPA. Michael is known for his programming skills and is an active member of the university's Robotics Club. He hopes to pursue a career in artificial intelligence after finishing his studies.\""
   ]
  },
  {
   "cell_type": "markdown",
   "metadata": {},
   "source": [
    "ဒီကို LLM ဆီကို ပို့ပြီး ဒေတာကို ခွဲခြမ်းစိတ်ဖြာချင်ပါတယ်။ နောက်ပိုင်းမှာ ဒီအချက်အလက်တွေကို API ဆီပို့တာဖြစ်စေ၊ ဒေတာဘေ့စ်ထဲသိုလှောင်တာဖြစ်စေ အသုံးပြုနိုင်ပါတယ်။\n",
    "\n",
    "အခုတော့ LLM ကို ဘာအချက်အလက်တွေကို စိတ်ဝင်စားနေတယ်ဆိုတာ ညွှန်ကြားပေးမယ့် တူညီတဲ့ prompt နှစ်ခုကို ဖန်တီးကြမယ်။\n"
   ]
  },
  {
   "cell_type": "markdown",
   "metadata": {},
   "source": [
    "ကျွန်ုပ်တို့သည် ဤအရာကို LLM သို့ ပို့လိုသည်မှာ ကျွန်ုပ်တို့၏ ထုတ်ကုန်အတွက် အရေးကြီးသော အစိတ်အပိုင်းများကို ခွဲခြမ်းစိတ်ဖြာရန် ဖြစ်သည်။ ထို့ကြောင့် LLM ကို ညွှန်ကြားရန် တူညီသော prompt နှစ်ခု ဖန်တီးနိုင်သည်။\n"
   ]
  },
  {
   "cell_type": "code",
   "execution_count": null,
   "metadata": {},
   "outputs": [],
   "source": [
    "prompt1 = f'''\n",
    "Please extract the following information from the given text and return it as a JSON object:\n",
    "\n",
    "name\n",
    "major\n",
    "school\n",
    "grades\n",
    "club\n",
    "\n",
    "This is the body of text to extract the information from:\n",
    "{student_1_description}\n",
    "'''\n",
    "\n",
    "\n",
    "prompt2 = f'''\n",
    "Please extract the following information from the given text and return it as a JSON object:\n",
    "\n",
    "name\n",
    "major\n",
    "school\n",
    "grades\n",
    "club\n",
    "\n",
    "This is the body of text to extract the information from:\n",
    "{student_2_description}\n",
    "'''\n"
   ]
  },
  {
   "cell_type": "markdown",
   "metadata": {},
   "source": [
    "ဒီ prompt နှစ်ခုကို ဖန်တီးပြီးနောက်မှာတော့ `openai.ChatCompletion` ကို အသုံးပြုပြီး LLM ဆီကို ပို့ပါမယ်။ prompt ကို `messages` variable ထဲမှာ သိမ်းပြီး role ကို `user` လို့ သတ်မှတ်ပေးပါတယ်။ ဒါဟာ user က chatbot ကို မက်ဆေ့ခ်ျရေးသားတဲ့အတိုင်း အတုယူဖို့ပါ။\n"
   ]
  },
  {
   "cell_type": "code",
   "execution_count": null,
   "metadata": {},
   "outputs": [
    {
     "ename": "",
     "evalue": "",
     "output_type": "error",
     "traceback": [
      "\u001b[1;31mRunning cells with '/opt/homebrew/bin/python3' requires the ipykernel package.\n",
      "\u001b[1;31mRun the following command to install 'ipykernel' into the Python environment. \n",
      "\u001b[1;31mCommand: '/opt/homebrew/bin/python3 -m pip install ipykernel -U --user --force-reinstall'"
     ]
    }
   ],
   "source": [
    "import os\n",
    "import json\n",
    "from openai import AzureOpenAI\n",
    "from dotenv import load_dotenv\n",
    "load_dotenv()\n",
    "\n",
    "client = AzureOpenAI(\n",
    "  api_key=os.environ['AZURE_OPENAI_API_KEY'],  # this is also the default, it can be omitted\n",
    "  api_version = \"2023-07-01-preview\"\n",
    "  )\n",
    "\n",
    "deployment=os.environ['AZURE_OPENAI_DEPLOYMENT']"
   ]
  },
  {
   "cell_type": "markdown",
   "metadata": {},
   "source": []
  },
  {
   "cell_type": "code",
   "execution_count": null,
   "metadata": {},
   "outputs": [],
   "source": [
    "openai_response1 = client.chat.completions.create(\n",
    " model=deployment,    \n",
    " messages = [{'role': 'user', 'content': prompt1}]\n",
    ")\n",
    "openai_response1.choices[0].message.content "
   ]
  },
  {
   "cell_type": "code",
   "execution_count": null,
   "metadata": {},
   "outputs": [],
   "source": [
    "openai_response2 = client.chat.completions.create(\n",
    " model=deployment,    \n",
    " messages = [{'role': 'user', 'content': prompt2}]\n",
    ")\n",
    "openai_response2.choices[0].message.content"
   ]
  },
  {
   "cell_type": "code",
   "execution_count": null,
   "metadata": {},
   "outputs": [],
   "source": [
    "# Loading the response as a JSON object\n",
    "json_response1 = json.loads(openai_response1.choices[0].message.content)\n",
    "json_response1"
   ]
  },
  {
   "cell_type": "code",
   "execution_count": null,
   "metadata": {},
   "outputs": [],
   "source": [
    "# Loading the response as a JSON object\n",
    "json_response2 = json.loads(openai_response2.choices[0].message.content )\n",
    "json_response2"
   ]
  },
  {
   "cell_type": "markdown",
   "metadata": {},
   "source": [
    "တစ်ချိန်တည်းမှာပဲ prompt တွေက တူညီပေမယ့်၊ ဖော်ပြချက်တွေကလည်း ဆင်တူနေသော်လည်း `Grades` property ရဲ့ format က မတူညီနိုင်ပါတယ်။\n",
    "\n",
    "အထက်ပါ cell ကို တစ်ကြိမ်ထက်ပိုပြီး run လုပ်ကြည့်မယ်ဆိုရင်၊ format က `3.7` ဖြစ်နိုင်သလို `3.7 GPA` လည်း ဖြစ်နိုင်ပါတယ်။\n",
    "\n",
    "ဒါဟာ LLM က unstructured data ကို prompt အနေနဲ့ ရယူပြီး၊ ပြန်ပေးတဲ့ data လည်း unstructured ဖြစ်နေတာကြောင့်ပါ။ ဒါကြောင့် ဒီ data ကို သိမ်းဆည်းတဲ့အခါ၊ သို့မဟုတ် အသုံးပြုတဲ့အခါ ဘာမျိုးမျိုးကို မျှော်လင့်ရမလဲဆိုတာ သိနိုင်အောင် structured format တစ်ခုလိုအပ်ပါတယ်။\n",
    "\n",
    "Functional calling ကို အသုံးပြုခြင်းအားဖြင့် structured data ကို ပြန်လက်ခံရရှိမယ်ဆိုတာ သေချာစေပါတယ်။ Function calling ကို အသုံးပြုတဲ့အခါ LLM က functions တွေကို တကယ်ခေါ်တာ မဟုတ်ပါဘူး။ အစား LLM ကို တုံ့ပြန်မှုအတွက် လိုက်နာရမယ့် structure တစ်ခု ဖန်တီးပေးရုံပါပဲ။ ပြီးတော့ ဒီ structured responses တွေကို အသုံးပြုပြီး application ထဲမှာ ဘယ် function ကို run လုပ်ရမလဲဆိုတာ သိနိုင်ပါတယ်။\n"
   ]
  },
  {
   "cell_type": "markdown",
   "metadata": {},
   "source": []
  },
  {
   "cell_type": "markdown",
   "metadata": {},
   "source": []
  },
  {
   "cell_type": "markdown",
   "metadata": {},
   "source": [
    "### function call တွေကို အသုံးပြုတဲ့ အသုံးချနိုင်တဲ့ နေရာများ\n",
    "\n",
    "**ပြင်ပကိရိယာများကို ခေါ်သုံးခြင်း**\n",
    "Chatbot တွေဟာ အသုံးပြုသူတွေရဲ့ မေးခွန်းတွေကို ဖြေဆိုပေးရာမှာ တော်တော်ကောင်းပါတယ်။ function call ကို အသုံးပြုခြင်းဖြင့် chatbot တွေဟာ အသုံးပြုသူရဲ့ မက်ဆေ့ခ်ျတွေကို အသုံးပြုပြီး တချို့အလုပ်တွေကို ပြီးမြောက်အောင်လုပ်ဆောင်နိုင်ပါတယ်။ ဥပမာ၊ ကျောင်းသားတစ်ယောက်က chatbot ကို \"ကျွန်ုပ့်ဆရာ/ဆရာမကို ဒီဘာသာရပ်နဲ့ ပိုပြီးအကူအညီလိုတယ်လို့ အီးမေးလ်ပို့ပေးပါ\" လို့တောင်းနိုင်ပါတယ်။ ဒါဟာ `send_email(to: string, body: string)` ဆိုတဲ့ function ကို ခေါ်သုံးနိုင်ပါတယ်။\n",
    "\n",
    "**API သို့မဟုတ် Database Queries ဖန်တီးခြင်း**\n",
    "အသုံးပြုသူတွေဟာ သဘာဝဘာသာစကားနဲ့ မေးခွန်းမေးပြီး၊ အဲဒီအကြောင်းအရာကို query သို့မဟုတ် API request အဖြစ် ပြောင်းလဲနိုင်ပါတယ်။ ဥပမာ၊ ဆရာတစ်ယောက်က \"နောက်ဆုံးအလုပ်စာကို ပြီးမြောက်အောင်လုပ်ဆောင်ထားတဲ့ ကျောင်းသားတွေဘယ်သူတွေလဲ\" လို့မေးနိုင်ပါတယ်။ ဒါကို `get_completed(student_name: string, assignment: int, current_status: string)` ဆိုတဲ့ function ကို ခေါ်သုံးနိုင်ပါတယ်။\n",
    "\n",
    "**ဖွဲ့စည်းထားတဲ့ ဒေတာ ဖန်တီးခြင်း**\n",
    "အသုံးပြုသူတွေဟာ စာပိုဒ်တစ်ပိုဒ် သို့မဟုတ် CSV တစ်ခုကို ယူပြီး LLM ကို အသုံးပြုပြီး အရေးကြီးတဲ့အချက်အလက်တွေကို ထုတ်ယူနိုင်ပါတယ်။ ဥပမာ၊ ကျောင်းသားတစ်ယောက်က Wikipedia မှာရှိတဲ့ ငြိမ်းချမ်းရေးသဘောတူစာချုပ်အကြောင်း ဆောင်းပါးကို AI flash card တွေဖန်တီးဖို့ ပြောင်းနိုင်ပါတယ်။ ဒါကို `get_important_facts(agreement_name: string, date_signed: string, parties_involved: list)` ဆိုတဲ့ function ကို အသုံးပြုနိုင်ပါတယ်။\n"
   ]
  },
  {
   "cell_type": "markdown",
   "metadata": {},
   "source": [
    "## 2. သင့်ရဲ့ ပထမဆုံး Function Call တစ်ခု ဖန်တီးခြင်း\n",
    "\n",
    "Function call တစ်ခု ဖန်တီးတဲ့ လုပ်ငန်းစဉ်မှာ အဓိက ၃ ချက် ပါဝင်ပါတယ်။\n",
    "1. သင့်ရဲ့ functions တွေနဲ့ user message တစ်ခု ပါဝင်တဲ့ စာရင်းကို အသုံးပြုပြီး Chat Completions API ကို ခေါ်သည်။\n",
    "2. မော်ဒယ်ရဲ့ တုံ့ပြန်ချက်ကို ဖတ်ပြီး လုပ်ဆောင်ချက်တစ်ခု (ဥပမာ function သို့မဟုတ် API Call တစ်ခု) ကို အကောင်အထည်ဖော်သည်။\n",
    "3. သင့်ရဲ့ function က ထုတ်ပေးတဲ့ တုံ့ပြန်ချက်ကို အသုံးပြုပြီး Chat Completions API ကို ထပ်မံခေါ်ဆိုကာ အသုံးပြုသူအတွက် တုံ့ပြန်ချက်တစ်ခု ဖန်တီးရန် သုံးသည်။\n"
   ]
  },
  {
   "cell_type": "markdown",
   "metadata": {},
   "source": []
  },
  {
   "cell_type": "markdown",
   "metadata": {},
   "source": [
    "### ဖန်ရှင်ခေါ်ယူမှုတစ်ခု၏ အစိတ်အပိုင်းများ\n",
    "\n",
    "#### အသုံးပြုသူ၏ ထည့်သွင်းချက်\n",
    "\n",
    "ပထမဆုံးအဆင့်မှာ အသုံးပြုသူ၏ မက်ဆေ့ခ်ျတစ်ခုကို ဖန်တီးရပါမယ်။ ဒါကို တက်စ် input တစ်ခုကနေ တန်ဖိုးယူပြီး dynamic အနေနဲ့ သတ်မှတ်နိုင်သလို ဒီမှာ တန်ဖိုးတစ်ခု သတ်မှတ်ပေးလို့လည်း ရပါတယ်။ Chat Completions API ကို ပထမဆုံးအသုံးပြုမယ်ဆိုရင် `role` နဲ့ `content` ကို သတ်မှတ်ပေးဖို့ လိုအပ်ပါတယ်။\n",
    "\n",
    "`role` က `system` (စည်းကမ်းသတ်မှတ်ခြင်း), `assistant` (မော်ဒယ်), ဒါမှမဟုတ် `user` (နောက်ဆုံးအသုံးပြုသူ) တစ်ခုခု ဖြစ်နိုင်ပါတယ်။ ဖန်ရှင်ခေါ်ယူမှုအတွက်တော့ ဒီကို `user` နဲ့ မေးခွန်းဥပမာတစ်ခု ထားပေးပါမယ်။\n"
   ]
  },
  {
   "cell_type": "code",
   "execution_count": null,
   "metadata": {},
   "outputs": [],
   "source": [
    "messages= [ {\"role\": \"user\", \"content\": \"Find me a good course for a beginner student to learn Azure.\"} ]"
   ]
  },
  {
   "cell_type": "markdown",
   "metadata": {},
   "source": [
    "### ဖန်တီးနေသော function များ\n",
    "\n",
    "နောက်တစ်ဆင့်မှာတော့ function တစ်ခုနဲ့ အဲ့ဒီ function ရဲ့ parameters တွေကို သတ်မှတ်ပေးပါမယ်။ ဒီမှာတော့ `search_courses` ဆိုတဲ့ function တစ်ခုတည်းကို အသုံးပြုသွားမှာပေမယ့် သင်တစ်ယောက်တည်း function အများအပြားလည်း ဖန်တီးနိုင်ပါတယ်။\n",
    "\n",
    "**အရေးကြီးပါသည်** - Function များကို LLM ရဲ့ system message ထဲမှာ ထည့်သွင်းပေးရမယ်၊ ဒါကြောင့် သင်အသုံးပြုနိုင်တဲ့ token အရေအတွက်ထဲမှာပါဝင်လာမှာ ဖြစ်ပါတယ်။\n"
   ]
  },
  {
   "cell_type": "code",
   "execution_count": null,
   "metadata": {},
   "outputs": [],
   "source": [
    "functions = [\n",
    "   {\n",
    "      \"name\":\"search_courses\",\n",
    "      \"description\":\"Retrieves courses from the search index based on the parameters provided\",\n",
    "      \"parameters\":{\n",
    "         \"type\":\"object\",\n",
    "         \"properties\":{\n",
    "            \"role\":{\n",
    "               \"type\":\"string\",\n",
    "               \"description\":\"The role of the learner (i.e. developer, data scientist, student, etc.)\"\n",
    "            },\n",
    "            \"product\":{\n",
    "               \"type\":\"string\",\n",
    "               \"description\":\"The product that the lesson is covering (i.e. Azure, Power BI, etc.)\"\n",
    "            },\n",
    "            \"level\":{\n",
    "               \"type\":\"string\",\n",
    "               \"description\":\"The level of experience the learner has prior to taking the course (i.e. beginner, intermediate, advanced)\"\n",
    "            }\n",
    "         },\n",
    "         \"required\":[\n",
    "            \"role\"\n",
    "         ]\n",
    "      }\n",
    "   }\n",
    "]"
   ]
  },
  {
   "cell_type": "markdown",
   "metadata": {},
   "source": [
    "**အဓိပ္ပါယ်များ**\n",
    "\n",
    "`name` -  ခေါ်သုံးလိုသော function ၏အမည်။\n",
    "\n",
    "`description` - ဒီမှာ function ဘယ်လိုအလုပ်လုပ်တယ်ဆိုတာကို ရှင်းလင်းပြတ်သားစွာ ဖော်ပြထားတဲ့ဖော်ပြချက်ပါ။\n",
    "\n",
    "`parameters` - မော်ဒယ်က တုံ့ပြန်ချက်ထဲမှာ ထုတ်ပေးစေချင်တဲ့ တန်ဖိုးတွေနဲ့ ဖော်ပြပုံအမျိုးအစားစာရင်း\n",
    "\n",
    "`type` -  ဒီ property တွေကို သိမ်းဆည်းမယ့် ဒေတာအမျိုးအစား\n",
    "\n",
    "`properties` - မော်ဒယ်က တုံ့ပြန်ချက်အတွက် သုံးမယ့် တိကျတဲ့တန်ဖိုးစာရင်း\n",
    "\n",
    "`name` - မော်ဒယ်က ဖော်ပြပေးမယ့် တုံ့ပြန်ချက်ထဲမှာ သုံးမယ့် property ၏အမည်\n",
    "\n",
    "`type` - ဒီ property ၏ ဒေတာအမျိုးအစား\n",
    "\n",
    "`description` - ဒီ property အတွက် တိကျတဲ့ဖော်ပြချက်\n",
    "\n",
    "**ရွေးချယ်နိုင်သည်**\n",
    "\n",
    "`required` - function ကိုခေါ်သုံးရာမှာ မဖြစ်မနေလိုအပ်တဲ့ property\n"
   ]
  },
  {
   "cell_type": "markdown",
   "metadata": {},
   "source": [
    "### ဖန်ရှင်ကို ခေါ်သုံးခြင်း\n",
    "\n",
    "ဖန်ရှင်တစ်ခုကို သတ်မှတ်ပြီးနောက်မှာတော့ Chat Completion API ကို ခေါ်သုံးတဲ့အခါမှာ ဒီဖန်ရှင်ကို ထည့်သွင်းပေးဖို့ လိုအပ်ပါတယ်။ ဒါကို `functions` ကို request ထဲမှာ ထည့်သွင်းခြင်းဖြင့် ပြုလုပ်နိုင်ပါတယ်။ ဒီနေရာမှာတော့ `functions=functions` လို့ရေးရပါမယ်။\n",
    "\n",
    "ထို့အပြင် `function_call` ကို `auto` အဖြစ် သတ်မှတ်နိုင်တဲ့ ရွေးချယ်စရာလည်းရှိပါတယ်။ ဒါကတော့ အသုံးပြုသူရဲ့ message အပေါ်မူတည်ပြီး ဘယ်ဖန်ရှင်ကို ခေါ်သင့်တယ်ဆိုတာကို LLM ကိုယ်တိုင် ဆုံးဖြတ်ခိုင်းတာဖြစ်ပြီး၊ ကိုယ်တိုင် သတ်မှတ်ပေးစရာ မလိုတော့ပါဘူး။\n"
   ]
  },
  {
   "cell_type": "code",
   "execution_count": null,
   "metadata": {},
   "outputs": [],
   "source": [
    "response = client.chat.completions.create(model=deployment, \n",
    "                                        messages=messages,\n",
    "                                        functions=functions, \n",
    "                                        function_call=\"auto\") \n",
    "\n",
    "print(response.choices[0].message)"
   ]
  },
  {
   "cell_type": "markdown",
   "metadata": {},
   "source": [
    "အခုတော့ ပြန်လည်တုံ့ပြန်မှုကိုကြည့်ပြီး၊ ဖော်ပြပုံကိုကြည့်ကြရအောင်။\n",
    "\n",
    "{\n",
    "  \"role\": \"assistant\",\n",
    "  \"function_call\": {\n",
    "    \"name\": \"search_courses\",\n",
    "    \"arguments\": \"{\\n  \\\"role\\\": \\\"student\\\",\\n  \\\"product\\\": \\\"Azure\\\",\\n  \\\"level\\\": \\\"beginner\\\"\\n}\"\n",
    "  }\n",
    "}\n",
    "\n",
    "ဒီမှာ function အမည်ကို ခေါ်သုံးထားပြီး၊ user message ထဲကနေ LLM က function arguments တွေကို တွေ့ရှိပြီး ဖြည့်သွင်းနိုင်ခဲ့ပါတယ်။\n"
   ]
  },
  {
   "cell_type": "markdown",
   "metadata": {},
   "source": [
    "## 3.လုပ်ဆောင်ချက်ခေါ်ယူမှုများကို အက်ပ်လီကေးရှင်းထဲတွင် ပေါင်းစပ်ခြင်း။\n",
    "\n",
    "LLM မှ ထုတ်ပေးသော အဖြေကို စစ်ဆေးပြီးနောက်၊ ယခုအခါ ဤအရာကို အက်ပ်လီကေးရှင်းတစ်ခုထဲသို့ ပေါင်းစပ်နိုင်ပါပြီ။\n",
    "\n",
    "### လုပ်ငန်းစဉ်ကို စီမံခန့်ခွဲခြင်း\n",
    "\n",
    "ဤအရာကို ကျွန်ုပ်တို့၏ အက်ပ်လီကေးရှင်းထဲသို့ ပေါင်းစပ်ရန်အတွက် အောက်ပါအဆင့်များကို လိုက်နာပါမည်-\n",
    "\n",
    "ပထမဦးဆုံး Open AI ဝန်ဆောင်မှုများသို့ ခေါ်ယူပြီး၊ ထုတ်လာသော message ကို `response_message` ဟု အမည်ပေးထားသော variable ထဲသို့ သိမ်းဆည်းပါ။\n"
   ]
  },
  {
   "cell_type": "code",
   "execution_count": null,
   "metadata": {},
   "outputs": [],
   "source": [
    "response_message = response.choices[0].message"
   ]
  },
  {
   "cell_type": "markdown",
   "metadata": {},
   "source": [
    "ယခုအခါ Microsoft Learn API ကိုခေါ်ယူပြီး သင်တန်းများစာရင်းကိုရယူမည့် function ကိုသတ်မှတ်ပါမည်။\n"
   ]
  },
  {
   "cell_type": "code",
   "execution_count": null,
   "metadata": {},
   "outputs": [],
   "source": [
    "import requests\n",
    "\n",
    "def search_courses(role, product, level):\n",
    "    url = \"https://learn.microsoft.com/api/catalog/\"\n",
    "    params = {\n",
    "        \"role\": role,\n",
    "        \"product\": product,\n",
    "        \"level\": level\n",
    "    }\n",
    "    response = requests.get(url, params=params)\n",
    "    modules = response.json()[\"modules\"]\n",
    "    results = []\n",
    "    for module in modules[:5]:\n",
    "        title = module[\"title\"]\n",
    "        url = module[\"url\"]\n",
    "        results.append({\"title\": title, \"url\": url})\n",
    "    return str(results)\n",
    "\n"
   ]
  },
  {
   "cell_type": "markdown",
   "metadata": {},
   "source": [
    "အကောင်းဆုံးလုပ်နည်းအနေနဲ့၊ အရင်ဆုံး မော်ဒယ်က function တစ်ခုခေါ်ချင်သလားဆိုတာကြည့်ပါမယ်။ အဲ့ဒီနောက်မှာတော့ ရနိုင်တဲ့ function တွေထဲက တစ်ခုကိုဖန်တီးပြီး၊ ခေါ်မယ့် function နဲ့ကိုက်ညီအောင်လုပ်ပါမယ်။\n",
    "\n",
    "ပြီးရင်တော့ function ရဲ့ arguments တွေကို ယူပြီး LLM ကထုတ်ပေးတဲ့ arguments တွေနဲ့ ကိုက်ညီအောင် mapping လုပ်ပါမယ်။\n",
    "\n",
    "နောက်ဆုံးမှာတော့ function ခေါ်သည့် message နဲ့ `search_courses` message ကနေ ပြန်လာတဲ့တန်ဖိုးတွေကို ထပ်ထည့်ပေးပါမယ်။ ဒါကြောင့် LLM က အသုံးပြုသူကို သဘာဝဘာသာစကားနဲ့ ပြန်လည်ဖြေကြားနိုင်ဖို့ လိုအပ်တဲ့အချက်အလက်အားလုံးရရှိပါပြီ။\n"
   ]
  },
  {
   "cell_type": "code",
   "execution_count": null,
   "metadata": {},
   "outputs": [],
   "source": [
    "# Check if the model wants to call a function\n",
    "if response_message.function_call.name:\n",
    "    print(\"Recommended Function call:\")\n",
    "    print(response_message.function_call.name)\n",
    "    print()\n",
    "\n",
    "    # Call the function. \n",
    "    function_name = response_message.function_call.name\n",
    "\n",
    "    available_functions = {\n",
    "            \"search_courses\": search_courses,\n",
    "    }\n",
    "    function_to_call = available_functions[function_name] \n",
    "\n",
    "    function_args = json.loads(response_message.function_call.arguments)\n",
    "    function_response = function_to_call(**function_args)\n",
    "\n",
    "    print(\"Output of function call:\")\n",
    "    print(function_response)\n",
    "    print(type(function_response))\n",
    "\n",
    "\n",
    "    # Add the assistant response and function response to the messages\n",
    "    messages.append( # adding assistant response to messages\n",
    "        {\n",
    "            \"role\": response_message.role,\n",
    "            \"function_call\": {\n",
    "                \"name\": function_name,\n",
    "                \"arguments\": response_message.function_call.arguments,\n",
    "            },\n",
    "            \"content\": None\n",
    "        }\n",
    "    )\n",
    "    messages.append( # adding function response to messages\n",
    "        {\n",
    "            \"role\": \"function\",\n",
    "            \"name\": function_name,\n",
    "            \"content\":function_response,\n",
    "        }\n",
    "    )\n",
    "\n"
   ]
  },
  {
   "cell_type": "markdown",
   "metadata": {},
   "source": []
  },
  {
   "cell_type": "code",
   "execution_count": null,
   "metadata": {},
   "outputs": [],
   "source": [
    "print(\"Messages in next request:\")\n",
    "print(messages)\n",
    "print()\n",
    "\n",
    "second_response = client.chat.completions.create(\n",
    "    messages=messages,\n",
    "    model=deployment,\n",
    "    function_call=\"auto\",\n",
    "    functions=functions,\n",
    "    temperature=0\n",
    "        )  # get a new response from GPT where it can see the function response\n",
    "\n",
    "\n",
    "print(second_response.choices[0].message)"
   ]
  },
  {
   "cell_type": "markdown",
   "metadata": {},
   "source": [
    "## Code Challenge\n",
    "\n",
    "အရမ်းကောင်းပါတယ်! Azure Open AI Function Calling ကို ဆက်လက်လေ့လာချင်ရင် ဒီလင့်ခ်မှာ ဆက်လက်တည်ဆောက်နိုင်ပါတယ် - https://learn.microsoft.com/training/support/catalog-api-developer-reference?WT.mc_id=academic-105485-koreyst  \n",
    " - သင်ယူသူတွေ အတွက် သင်တန်းတွေကို ပိုမိုလွယ်ကူစွာ ရှာဖွေနိုင်အောင် function parameter တွေကို ပိုမိုထည့်သွင်းနိုင်ပါတယ်။ အသုံးပြုနိုင်တဲ့ API parameter တွေကို ဒီမှာ ရှာနိုင်ပါတယ်။  \n",
    " - သင်ယူသူရဲ့ မိခင်ဘာသာစကားလိုအပ်ချက်လိုမျိုး ပိုမိုသိရှိနိုင်အောင် function call အသစ်တစ်ခု ဖန်တီးပါ  \n",
    " - Function call သို့မဟုတ် API call က သင့်တော်တဲ့ သင်တန်းမရှိဘူးဆိုရင် error handling ကို ထည့်သွင်းရေးဆွဲပါ\n"
   ]
  },
  {
   "cell_type": "markdown",
   "metadata": {},
   "source": [
    "\n---\n\n**သတိပြုရန်**:\nဤစာရွက်စာတမ်းကို AI ဘာသာပြန်ဝန်ဆောင်မှု [Co-op Translator](https://github.com/Azure/co-op-translator) ကို အသုံးပြု၍ ဘာသာပြန်ထားပါသည်။ ကျွန်ုပ်တို့သည် တိကျမှန်ကန်မှုအတွက် ကြိုးစားနေသော်လည်း၊ အလိုအလျောက်ဘာသာပြန်ခြင်းတွင် အမှားများ သို့မဟုတ် မမှန်ကန်မှုများ ပါဝင်နိုင်သည်ကို သတိပြုပါ။ မူရင်းစာရွက်စာတမ်းကို မူလဘာသာဖြင့်သာ အာဏာတရားရှိသော အရင်းအမြစ်အဖြစ် ယူဆသင့်ပါသည်။ အရေးကြီးသော အချက်အလက်များအတွက် လူ့ဘာသာပြန်ပညာရှင်များ၏ ဝန်ဆောင်မှုကို အသုံးပြုရန် အကြံပြုပါသည်။ ဤဘာသာပြန်ချက်ကို အသုံးပြုခြင်းမှ ဖြစ်ပေါ်လာသော နားလည်မှုမှားခြင်း သို့မဟုတ် အနားလည်အမှားများအတွက် ကျွန်ုပ်တို့သည် တာဝန်မယူပါ။\n"
   ]
  }
 ],
 "metadata": {
  "kernelspec": {
   "display_name": "Python 3",
   "language": "python",
   "name": "python3"
  },
  "language_info": {
   "codemirror_mode": {
    "name": "ipython",
    "version": 3
   },
   "file_extension": ".py",
   "mimetype": "text/x-python",
   "name": "python",
   "nbconvert_exporter": "python",
   "pygments_lexer": "ipython3",
   "version": "3.12.2"
  },
  "orig_nbformat": 4,
  "coopTranslator": {
   "original_hash": "2277587ff6cb5c40437e18d61fc2e239",
   "translation_date": "2025-08-25T20:36:21+00:00",
   "source_file": "11-integrating-with-function-calling/python/aoai-assignment.ipynb",
   "language_code": "my"
  }
 },
 "nbformat": 4,
 "nbformat_minor": 2
}