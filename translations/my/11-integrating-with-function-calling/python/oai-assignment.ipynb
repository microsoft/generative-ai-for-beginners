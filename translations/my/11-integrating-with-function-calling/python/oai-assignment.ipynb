{
 "cells": [
  {
   "cell_type": "markdown",
   "metadata": {},
   "source": [
    "## မိတ်ဆက်\n",
    "\n",
    "ဒီသင်ခန်းစာမှာ ဖော်ပြသွားမှာတွေက:\n",
    "- Function calling ဆိုတာဘာလဲ၊ ဘယ်လိုအသုံးပြုနိုင်လဲ\n",
    "- OpenAI ကိုသုံးပြီး function call ကိုဘယ်လိုဖန်တီးမလဲ\n",
    "- Application ထဲမှာ function call ကို ဘယ်လိုပေါင်းစပ်အသုံးပြုမလဲ\n",
    "\n",
    "## သင်ယူရမယ့်ရည်ရွယ်ချက်များ\n",
    "\n",
    "ဒီသင်ခန်းစာပြီးဆုံးပြီးနောက်မှာ သင်သိရှိနားလည်လာမှာတွေက:\n",
    "\n",
    "- Function calling ကိုသုံးတဲ့ရည်ရွယ်ချက်\n",
    "- OpenAI Service ကိုသုံးပြီး Function Call ကို စတင်တပ်ဆင်ခြင်း\n",
    "- ကိုယ့် application ရဲ့ အသုံးပြုမှုအတွက် ထိရောက်တဲ့ function call တွေကို ဒီဇိုင်းဆွဲနိုင်ခြင်း\n"
   ]
  },
  {
   "cell_type": "markdown",
   "metadata": {},
   "source": [
    "## ဖန်ရှင်ခေါ်ယူမှုကို နားလည်ခြင်း\n",
    "\n",
    "ဒီသင်ခန်းစာအတွက် ကျွန်ုပ်တို့ရဲ့ပညာရေးစတတ်အပ်မှာ အသုံးပြုသူတွေ chatbot ကိုသုံးပြီး နည်းပညာသင်တန်းတွေရှာဖွေနိုင်တဲ့ feature တစ်ခု တည်ဆောက်ချင်ပါတယ်။ အသုံးပြုသူရဲ့ ကျွမ်းကျင်မှုအဆင့်၊ လုပ်ငန်းတာဝန်နဲ့ စိတ်ဝင်စားတဲ့နည်းပညာအပေါ်မူတည်ပြီး သင်တန်းတွေကို အကြံပြုပေးပါမယ်။\n",
    "\n",
    "ဒီအလုပ်ကို ပြီးမြောက်အောင်လုပ်ဖို့ အောက်ပါအရာတွေကို ပေါင်းစပ်အသုံးပြုပါမယ် -\n",
    " - `OpenAI` ကို အသုံးပြုပြီး အသုံးပြုသူအတွက် chat အတွေ့အကြုံတစ်ခု ဖန်တီးမယ်\n",
    " - `Microsoft Learn Catalog API` ကို အသုံးပြုပြီး အသုံးပြုသူတောင်းဆိုချက်အပေါ်မူတည်ပြီး သင်တန်းတွေရှာဖွေဖို့ ကူညီမယ်\n",
    " - `Function Calling` ကို အသုံးပြုပြီး အသုံးပြုသူရဲ့ query ကို function တစ်ခုဆီပို့ပြီး API request လုပ်မယ်\n",
    "\n",
    "စတင်ရန်၊ function calling ကို ဘာကြောင့်အသုံးပြုချင်တာလဲဆိုတာကို ကြည့်ကြပါစို့ -\n",
    "\n",
    "print(\"Messages in next request:\")\n",
    "print(messages)\n",
    "print()\n",
    "\n",
    "second_response = client.chat.completions.create(\n",
    "    messages=messages,\n",
    "    model=deployment,\n",
    "    function_call=\"auto\",\n",
    "    functions=functions,\n",
    "    temperature=0\n",
    "        )  # GPT မှာ function response ကို မြင်နိုင်အောင် အသစ်တစ်ခု ပြန်ယူခြင်း\n",
    "\n",
    "\n",
    "print(second_response.choices[0].message)\n"
   ]
  },
  {
   "cell_type": "markdown",
   "metadata": {},
   "source": [
    "### ဘာကြောင့် Function Calling ကို အသုံးပြုသင့်သလဲ\n",
    "\n",
    "ဒီသင်ခန်းစာထဲက အခြားသင်ခန်းစာတစ်ခုခုကို ပြီးမြောက်ခဲ့ရင်၊ Large Language Models (LLMs) တွေကို အသုံးပြုတဲ့ အားသာချက်တွေကို နားလည်လာပြီလို့ ထင်ပါတယ်။ ဒါ့အပြင်၊ သူတို့ရဲ့ အားနည်းချက်တွေကိုလည်း မြင်တွေ့နိုင်ပါတယ်။\n",
    "\n",
    "Function Calling ဆိုတာ OpenAI Service ရဲ့ အင်္ဂါရပ်တစ်ခုဖြစ်ပြီး အောက်ပါ ပြဿနာတွေကို ဖြေရှင်းဖို့ ရည်ရွယ်ထားတာပါ-\n",
    "\n",
    "တုံ့ပြန်မှု ပုံစံ မတူညီမှု:\n",
    "- Function calling မရှိခင်မှာတော့၊ LLM က ထုတ်ပေးတဲ့ အဖြေတွေဟာ ပုံစံတကျ မဟုတ်ဘူး၊ တစ်သမတ်တည်း မဟုတ်ဘူး။ ဒါကြောင့် Developer တွေက output တစ်ခုချင်းစီအတွက် စစ်ဆေးမှု code တွေကို ရေးရတာ အလွန်ရှုပ်ထွေးခဲ့ရတယ်။\n",
    "\n",
    "ပြင်ပဒေတာတွေနဲ့ ပေါင်းစပ်အသုံးပြုမှု အကန့်အသတ်:\n",
    "- ဒီအင်္ဂါရပ် မရှိခင်မှာတော့၊ app ရဲ့ အခြားအစိတ်အပိုင်းတွေက ဒေတာတွေကို chat context ထဲမှာ ထည့်သွင်းအသုံးပြုဖို့ ခက်ခဲခဲ့တယ်။\n",
    "\n",
    "တုံ့ပြန်မှု ပုံစံတွေကို တစ်သမတ်တည်းလုပ်ပေးခြင်းနဲ့ ပြင်ပဒေတာတွေနဲ့ ချောမွေ့စွာ ပေါင်းစပ်နိုင်စေခြင်းကြောင့် function calling က development ကို ပိုမိုလွယ်ကူစေပြီး validation logic ပိုမိုရေးစရာ လျော့နည်းစေပါတယ်။\n",
    "\n",
    "အသုံးပြုသူတွေက \"Stockholm ရဲ့ လက်ရှိရာသီဥတု ဘာလဲ?\" ဆိုတဲ့ မေးခွန်းမျိုးကို မဖြေရှင်းနိုင်ခဲ့ပါဘူး။ ဒါဟာ model တွေဟာ သူတို့ကို သင်ကြားထားတဲ့ အချိန်အထိသာ ဒေတာသိရှိနေနိုင်လို့ပါ။\n",
    "\n",
    "ဒီပြဿနာကို ဖော်ပြတဲ့ ဥပမာကို အောက်မှာ ကြည့်ကြရအောင်-\n",
    "\n",
    "ကျွန်တော်တို့က ကျောင်းသားဒေတာ database တစ်ခု ဖန်တီးပြီး သူတို့အတွက် သင့်တော်တဲ့ သင်တန်းကို အကြံပြုချင်တယ်လို့ ဆိုပါစို့။ အောက်မှာတော့ အလားတူတဲ့ ဒေတာတွေပါဝင်တဲ့ ကျောင်းသားနှစ်ယောက်ရဲ့ ဖော်ပြချက်နှစ်ခုရှိပါတယ်။\n"
   ]
  },
  {
   "cell_type": "code",
   "execution_count": null,
   "metadata": {},
   "outputs": [],
   "source": [
    "student_1_description=\"Emily Johnson is a sophomore majoring in computer science at Duke University. She has a 3.7 GPA. Emily is an active member of the university's Chess Club and Debate Team. She hopes to pursue a career in software engineering after graduating.\"\n",
    " \n",
    "student_2_description = \"Michael Lee is a sophomore majoring in computer science at Stanford University. He has a 3.8 GPA. Michael is known for his programming skills and is an active member of the university's Robotics Club. He hopes to pursue a career in artificial intelligence after finshing his studies.\""
   ]
  },
  {
   "cell_type": "markdown",
   "metadata": {},
   "source": [
    "ဒီကို LLM ဆီကို ပို့ပြီး ဒေတာကို ခွဲခြမ်းစိတ်ဖြာချင်ပါတယ်။ နောက်ပိုင်းမှာ ဒီအချက်အလက်တွေကို API ဆီပို့ဖို့ ဒါမှမဟုတ် ဒေတာဘေ့စ်ထဲသို့ သိမ်းဆည်းဖို့ အသုံးပြုနိုင်ပါလိမ့်မယ်။\n",
    "\n",
    "အခုတော့ LLM ကို ဘာအချက်အလက်တွေကို စိတ်ဝင်စားနေတယ်ဆိုတာ ညွှန်ကြားပေးမယ့် တူညီတဲ့ prompt နှစ်ခုကို ဖန်တီးကြမယ်။\n"
   ]
  },
  {
   "cell_type": "markdown",
   "metadata": {},
   "source": [
    "ကျွန်ုပ်တို့သည် ဤအရာကို LLM သို့ ပို့လိုပါသည်၊ ထို့ကြောင့် ကျွန်ုပ်တို့၏ ထုတ်ကုန်အတွက် အရေးကြီးသော အစိတ်အပိုင်းများကို ခွဲခြမ်းစိတ်ဖြာနိုင်ပါသည်။ ထို့ကြောင့် LLM ကို ညွှန်ကြားရန် တူညီသော prompt နှစ်ခု ဖန်တီးနိုင်ပါသည်။\n"
   ]
  },
  {
   "cell_type": "code",
   "execution_count": null,
   "metadata": {},
   "outputs": [],
   "source": [
    "prompt1 = f'''\n",
    "Please extract the following information from the given text and return it as a JSON object:\n",
    "\n",
    "name\n",
    "major\n",
    "school\n",
    "grades\n",
    "club\n",
    "\n",
    "This is the body of text to extract the information from:\n",
    "{student_1_description}\n",
    "'''\n",
    "\n",
    "\n",
    "prompt2 = f'''\n",
    "Please extract the following information from the given text and return it as a JSON object:\n",
    "\n",
    "name\n",
    "major\n",
    "school\n",
    "grades\n",
    "club\n",
    "\n",
    "This is the body of text to extract the information from:\n",
    "{student_2_description}\n",
    "'''\n"
   ]
  },
  {
   "cell_type": "markdown",
   "metadata": {},
   "source": [
    "ဒီ prompt နှစ်ခုကို ဖန်တီးပြီးနောက်မှာတော့ `openai.ChatCompletion` ကို အသုံးပြုပြီး LLM ဆီကို ပို့ပါမယ်။ prompt ကို `messages` variable ထဲမှာ သိမ်းပြီး role ကို `user` လို့ သတ်မှတ်ပေးပါတယ်။ ဒါဟာ user က chatbot ကို message တစ်ခုရေးသားပေးတာကို မိမိသရုပ်ဆောင်ဖို့အတွက်ပါ။\n"
   ]
  },
  {
   "cell_type": "code",
   "execution_count": null,
   "metadata": {},
   "outputs": [
    {
     "ename": "",
     "evalue": "",
     "output_type": "error",
     "traceback": [
      "\u001b[1;31mRunning cells with '/opt/homebrew/bin/python3' requires the ipykernel package.\n",
      "\u001b[1;31mRun the following command to install 'ipykernel' into the Python environment. \n",
      "\u001b[1;31mCommand: '/opt/homebrew/bin/python3 -m pip install ipykernel -U --user --force-reinstall'"
     ]
    }
   ],
   "source": [
    "import os\n",
    "import json\n",
    "from openai import OpenAI\n",
    "from dotenv import load_dotenv\n",
    "load_dotenv()\n",
    "\n",
    "client = OpenAI()\n",
    "\n",
    "deployment=\"gpt-3.5-turbo\""
   ]
  },
  {
   "cell_type": "markdown",
   "metadata": {},
   "source": []
  },
  {
   "cell_type": "code",
   "execution_count": null,
   "metadata": {},
   "outputs": [],
   "source": [
    "openai_response1 = client.chat.completions.create(\n",
    " model=deployment,    \n",
    " messages = [{'role': 'user', 'content': prompt1}]\n",
    ")\n",
    "openai_response1.choices[0].message.content "
   ]
  },
  {
   "cell_type": "code",
   "execution_count": null,
   "metadata": {},
   "outputs": [],
   "source": [
    "openai_response2 = client.chat.completions.create(\n",
    " model=deployment,    \n",
    " messages = [{'role': 'user', 'content': prompt2}]\n",
    ")\n",
    "openai_response2.choices[0].message.content"
   ]
  },
  {
   "cell_type": "code",
   "execution_count": null,
   "metadata": {},
   "outputs": [],
   "source": [
    "# Loading the response as a JSON object\n",
    "json_response1 = json.loads(openai_response1.choices[0].message.content)\n",
    "json_response1"
   ]
  },
  {
   "cell_type": "code",
   "execution_count": null,
   "metadata": {},
   "outputs": [],
   "source": [
    "# Loading the response as a JSON object\n",
    "json_response2 = json.loads(openai_response2.choices[0].message.content )\n",
    "json_response2"
   ]
  },
  {
   "cell_type": "markdown",
   "metadata": {},
   "source": [
    "တစ်ချိန်တည်းမှာပဲ prompt တွေက တူညီပြီး ဖော်ပြချက်တွေကလည်း ဆင်တူနေသော်လည်း `Grades` property ရဲ့ format က မတူညီနိုင်ပါတယ်။\n",
    "\n",
    "အထက်ပါ cell ကို တစ်ကြိမ်ထက် များများ run လုပ်ကြည့်မယ်ဆိုရင် format က `3.7` ဖြစ်နိုင်သလို `3.7 GPA` လည်း ဖြစ်နိုင်ပါတယ်။\n",
    "\n",
    "ဒါဟာ LLM က မူရင်း prompt ကို အစီအစဉ်မရှိတဲ့ data အနေနဲ့ ယူပြီး ပြန်ပေးတဲ့ data လည်း အစီအစဉ်မရှိတဲ့ data ဖြစ်လို့ပါ။ ဒါကြောင့် ဒီ data ကို သိမ်းဆည်းတာ၊ သုံးတာတွေမှာ ဘာမျိုးမျိုးကို မျှော်လင့်ရမလဲ သိနိုင်အောင် အစီအစဉ်ရှိတဲ့ format တစ်ခုလိုအပ်ပါတယ်။\n",
    "\n",
    "Functional calling ကို သုံးခြင်းအားဖြင့် အစီအစဉ်ရှိတဲ့ data ကို ပြန်လက်ခံရရှိမှာ သေချာစေပါတယ်။ Function calling ကို သုံးတဲ့အခါ LLM က functions တွေကို တကယ်ခေါ်တာ၊ run လုပ်တာ မဟုတ်ပါဘူး။ LLM ကို တုံ့ပြန်မှုအတွက် လိုက်နာရမယ့် structure တစ်ခုကို ဖန်တီးပေးရုံပါပဲ။ ပြီးတော့ ဒီလို structured response တွေကို အသုံးပြုပြီး application ထဲမှာ ဘယ် function ကို run လုပ်ရမလဲ ဆုံးဖြတ်နိုင်ပါတယ်။\n"
   ]
  },
  {
   "cell_type": "markdown",
   "metadata": {},
   "source": []
  },
  {
   "cell_type": "markdown",
   "metadata": {},
   "source": []
  },
  {
   "cell_type": "markdown",
   "metadata": {},
   "source": [
    "### function call တွေကို အသုံးပြုတဲ့ အသုံးချနိုင်တဲ့ နေရာများ\n",
    "\n",
    "**ပြင်ပကိရိယာများကို ခေါ်သုံးခြင်း**\n",
    "Chatbot တွေဟာ အသုံးပြုသူတွေရဲ့ မေးခွန်းတွေကို ဖြေဆိုပေးရာမှာ တော်တော်ကောင်းပါတယ်။ function call ကို အသုံးပြုခြင်းဖြင့် chatbot တွေဟာ အသုံးပြုသူရဲ့ မက်ဆေ့ခ်ျတွေကို အသုံးပြုပြီး တချို့အလုပ်တွေကို ပြီးမြောက်အောင်လုပ်ဆောင်နိုင်ပါတယ်။ ဥပမာ၊ ကျောင်းသားတစ်ယောက်က chatbot ကို \"ကျွန်ုပ့်ဆရာထံ အကူအညီပိုလိုအပ်တယ်လို့ အီးမေးလ်ပို့ပေးပါ\" လို့တောင်းနိုင်ပါတယ်။ ဒါဟာ `send_email(to: string, body: string)` ဆိုတဲ့ function ကို ခေါ်သုံးနိုင်ပါတယ်။\n",
    "\n",
    "**API သို့မဟုတ် Database Queries ဖန်တီးခြင်း**\n",
    "အသုံးပြုသူတွေဟာ သဘာဝဘာသာစကားနဲ့ မေးခွန်းမေးပြီး အဲဒီအကြောင်းအရာကို query သို့မဟုတ် API request အဖြစ် ပြောင်းလဲနိုင်ပါတယ်။ ဥပမာ၊ ဆရာတစ်ယောက်က \"နောက်ဆုံးအလုပ်လက်ခံပြီးဆုံးထားတဲ့ ကျောင်းသားတွေဘယ်သူတွေလဲ\" လို့မေးနိုင်ပါတယ်။ ဒါကို `get_completed(student_name: string, assignment: int, current_status: string)` ဆိုတဲ့ function ကို ခေါ်သုံးနိုင်ပါတယ်။\n",
    "\n",
    "**ဖွဲ့စည်းထားတဲ့ ဒေတာ ဖန်တီးခြင်း**\n",
    "အသုံးပြုသူတွေဟာ စာပိုဒ်တစ်ပိုဒ် သို့မဟုတ် CSV တစ်ခုကို ယူပြီး LLM ကို အသုံးပြုပြီး အရေးကြီးတဲ့အချက်အလက်တွေကို ထုတ်ယူနိုင်ပါတယ်။ ဥပမာ၊ ကျောင်းသားတစ်ယောက်က Wikipedia မှာရှိတဲ့ ငြိမ်းချမ်းရေးသဘောတူစာချုပ်အကြောင်း ဆောင်းပါးကို AI flash card တွေဖန်တီးဖို့ ပြောင်းနိုင်ပါတယ်။ ဒါကို `get_important_facts(agreement_name: string, date_signed: string, parties_involved: list)` ဆိုတဲ့ function ကို အသုံးပြုနိုင်ပါတယ်။\n"
   ]
  },
  {
   "cell_type": "markdown",
   "metadata": {},
   "source": [
    "## 2. သင့်ရဲ့ ပထမဆုံး Function Call တစ်ခု ဖန်တီးခြင်း\n",
    "\n",
    "Function call တစ်ခု ဖန်တီးတဲ့ လုပ်ငန်းစဉ်မှာ အဓိက ၃ ချက် ပါဝင်ပါတယ်။\n",
    "1. သင့်ရဲ့ functions တွေနဲ့ user message တစ်ခုပါဝင်တဲ့ စာရင်းကို အသုံးပြုပြီး Chat Completions API ကို ခေါ်သည်။\n",
    "2. မော်ဒယ်ရဲ့ တုံ့ပြန်ချက်ကို ဖတ်ပြီး လုပ်ဆောင်ချက်တစ်ခု (ဥပမာ function သို့မဟုတ် API Call တစ်ခု) ကို အကောင်အထည်ဖော်သည်။\n",
    "3. သင့်ရဲ့ function က ထုတ်ပေးတဲ့ တုံ့ပြန်ချက်ကို အသုံးပြုပြီး အသုံးပြုသူကို တုံ့ပြန်ချက်တစ်ခု ပြန်ပေးနိုင်ရန် Chat Completions API ကို ထပ်မံခေါ်သည်။\n"
   ]
  },
  {
   "cell_type": "markdown",
   "metadata": {},
   "source": []
  },
  {
   "cell_type": "markdown",
   "metadata": {},
   "source": [
    "### ဖန်ရှင်ခေါ်သုံးမှုရဲ့ အစိတ်အပိုင်းများ\n",
    "\n",
    "#### အသုံးပြုသူရဲ့ ထည့်သွင်းချက်\n",
    "\n",
    "ပထမဆုံးအဆင့်က အသုံးပြုသူရဲ့ မက်ဆေ့ခ်ျကို ဖန်တီးရပါမယ်။ ဒါကို တက်စ် input တစ်ခုကနေ တန်ဖိုးကို dynamic အနေနဲ့ ထည့်သွင်းနိုင်သလို ဒီမှာ တန်ဖိုးတစ်ခုကို သတ်မှတ်ပေးနိုင်ပါတယ်။ Chat Completions API ကို ပထမဆုံးအသုံးပြုနေသူဆိုရင် မက်ဆေ့ခ်ျရဲ့ `role` နဲ့ `content` ကို သတ်မှတ်ပေးဖို့ လိုပါတယ်။\n",
    "\n",
    "`role` ဆိုတာ `system` (စည်းကမ်းသတ်မှတ်ခြင်း), `assistant` (မော်ဒယ်), ဒါမှမဟုတ် `user` (နောက်ဆုံးအသုံးပြုသူ) ဖြစ်နိုင်ပါတယ်။ ဖန်ရှင်ခေါ်သုံးမှုအတွက်တော့ ဒီမှာ `user` လို့ သတ်မှတ်ပြီး မေးခွန်းတစ်ခုကို ဥပမာအနေနဲ့ ထည့်သွင်းပါမယ်။\n"
   ]
  },
  {
   "cell_type": "code",
   "execution_count": null,
   "metadata": {},
   "outputs": [],
   "source": [
    "messages= [ {\"role\": \"user\", \"content\": \"Find me a good course for a beginner student to learn Azure.\"} ]"
   ]
  },
  {
   "cell_type": "markdown",
   "metadata": {},
   "source": [
    "### လုပ်ဆောင်ချက်များ ဖန်တီးခြင်း။\n",
    "\n",
    "နောက်တစ်ခုမှာတော့ လုပ်ဆောင်ချက်တစ်ခုနဲ့ အဲ့ဒီလုပ်ဆောင်ချက်ရဲ့ ပါရာမီတာတွေကို သတ်မှတ်သွားပါမယ်။ ဒီမှာတော့ `search_courses` လို့ခေါ်တဲ့ လုပ်ဆောင်ချက်တစ်ခုတည်းကို အသုံးပြုသွားမှာပေမယ့် သင်တစ်ယောက်တည်းအနေနဲ့ လုပ်ဆောင်ချက်အများအပြား ဖန်တီးနိုင်ပါတယ်။\n",
    "\n",
    "**အရေးကြီးပါတယ်** - လုပ်ဆောင်ချက်တွေကို LLM ရဲ့ system message ထဲမှာ ထည့်သွင်းထားပြီး သင်အသုံးပြုနိုင်တဲ့ token အရေအတွက်ထဲမှာပါဝင်လာမှာ ဖြစ်ပါတယ်။\n"
   ]
  },
  {
   "cell_type": "code",
   "execution_count": null,
   "metadata": {},
   "outputs": [],
   "source": [
    "functions = [\n",
    "   {\n",
    "      \"name\":\"search_courses\",\n",
    "      \"description\":\"Retrieves courses from the search index based on the parameters provided\",\n",
    "      \"parameters\":{\n",
    "         \"type\":\"object\",\n",
    "         \"properties\":{\n",
    "            \"role\":{\n",
    "               \"type\":\"string\",\n",
    "               \"description\":\"The role of the learner (i.e. developer, data scientist, student, etc.)\"\n",
    "            },\n",
    "            \"product\":{\n",
    "               \"type\":\"string\",\n",
    "               \"description\":\"The product that the lesson is covering (i.e. Azure, Power BI, etc.)\"\n",
    "            },\n",
    "            \"level\":{\n",
    "               \"type\":\"string\",\n",
    "               \"description\":\"The level of experience the learner has prior to taking the course (i.e. beginner, intermediate, advanced)\"\n",
    "            }\n",
    "         },\n",
    "         \"required\":[\n",
    "            \"role\"\n",
    "         ]\n",
    "      }\n",
    "   }\n",
    "]"
   ]
  },
  {
   "cell_type": "markdown",
   "metadata": {},
   "source": [
    "**အဓိပ္ပါယ်များ**\n",
    "\n",
    "function ကို သတ်မှတ်ခြင်းမှာ အဆင့်အတန်းအမျိုးမျိုးရှိပြီး၊ တစ်ခုချင်းစီမှာ ကိုယ်ပိုင် attribute တွေပါဝင်ပါတယ်။ အောက်မှာ ဒီ nested structure ကို ခွဲခြမ်းဖော်ပြထားပါတယ်-\n",
    "\n",
    "**Function အထက်ဆုံးအဆင့် Properties:**\n",
    "\n",
    "`name` -  ခေါ်သုံးလိုတဲ့ function ရဲ့ အမည်။\n",
    "\n",
    "`description` - ဒီ function ဘယ်လိုအလုပ်လုပ်တယ်ဆိုတာ ရှင်းလင်းပြောပြထားတဲ့ဖော်ပြချက်။ ဒီမှာ တိကျပြီး ရှင်းလင်းစွာ ရေးဖို့ အရေးကြီးတယ်။\n",
    "\n",
    "`parameters` - မော်ဒယ်က တုံ့ပြန်လာစေချင်တဲ့ တန်ဖိုးတွေနဲ့ format တွေကို စာရင်းပြုစုထားတာ။\n",
    "\n",
    "**Parameters Object Properties:**\n",
    "\n",
    "`type` -  parameters object ရဲ့ data type (အများအားဖြင့် \"object\" ဖြစ်တယ်)\n",
    "\n",
    "`properties` - မော်ဒယ်က တုံ့ပြန်ဖို့ အသုံးပြုမယ့် တိကျတဲ့တန်ဖိုးတွေစာရင်း\n",
    "\n",
    "**Individual Parameter Properties:**\n",
    "\n",
    "`name` - property key (ဥပမာ \"role\", \"product\", \"level\") နဲ့ အလိုအလျောက် သတ်မှတ်ထားတာ\n",
    "\n",
    "`type` - ဒီ parameter အတွက် data type (ဥပမာ \"string\", \"number\", \"boolean\")\n",
    "\n",
    "`description` - ဒီ parameter အကြောင်း ဖော်ပြချက်\n",
    "\n",
    "**Optional Properties:**\n",
    "\n",
    "`required` - function ကို ခေါ်သုံးဖို့ လိုအပ်တဲ့ parameter တွေကို စာရင်းပြုစုထားတဲ့ array\n"
   ]
  },
  {
   "cell_type": "markdown",
   "metadata": {},
   "source": [
    "### ဖန်ရှင်ကို ခေါ်သုံးခြင်း\n",
    "\n",
    "ဖန်ရှင်တစ်ခုကို သတ်မှတ်ပြီးနောက်မှာတော့ Chat Completion API ကို ခေါ်သုံးတဲ့အခါမှာ ဒီဖန်ရှင်ကို ထည့်သွင်းပေးဖို့ လိုအပ်ပါတယ်။ ဒါကို `functions` ကို request ထဲမှာ ထည့်သွင်းခြင်းဖြင့် ပြုလုပ်နိုင်ပါတယ်။ ဒီနေရာမှာတော့ `functions=functions` လို့ရေးရပါမယ်။\n",
    "\n",
    "ထို့အပြင် `function_call` ကို `auto` အဖြစ် သတ်မှတ်နိုင်တဲ့ ရွေးချယ်စရာလည်းရှိပါတယ်။ ဒါကတော့ user message အပေါ်မူတည်ပြီး ဘယ်ဖန်ရှင်ကို ခေါ်သင့်တယ်ဆိုတာကို ကိုယ်တိုင် သတ်မှတ်မလုပ်ဘဲ LLM ကို ဆုံးဖြတ်ခွင့်ပေးလိုက်တာပါ။\n"
   ]
  },
  {
   "cell_type": "code",
   "execution_count": null,
   "metadata": {},
   "outputs": [],
   "source": [
    "response = client.chat.completions.create(model=deployment, \n",
    "                                        messages=messages,\n",
    "                                        functions=functions, \n",
    "                                        function_call=\"auto\") \n",
    "\n",
    "print(response.choices[0].message)"
   ]
  },
  {
   "cell_type": "markdown",
   "metadata": {},
   "source": [
    "အခုတော့ ပြန်လည်တုံ့ပြန်မှုကိုကြည့်ပြီး၊ ဖော်ပြပုံကို ကြည့်ကြရအောင်။\n",
    "\n",
    "{\n",
    "  \"role\": \"assistant\",\n",
    "  \"function_call\": {\n",
    "    \"name\": \"search_courses\",\n",
    "    \"arguments\": \"{\\n  \\\"role\\\": \\\"student\\\",\\n  \\\"product\\\": \\\"Azure\\\",\\n  \\\"level\\\": \\\"beginner\\\"\\n}\"\n",
    "  }\n",
    "}\n",
    "\n",
    "ဒီမှာ function အမည်ကို ခေါ်သုံးထားပြီး၊ user message ထဲကနေ LLM က function arguments တွေကို တိတိကျကျ ရှာဖွေထည့်နိုင်ခဲ့တာကို တွေ့ရပါတယ်။\n"
   ]
  },
  {
   "cell_type": "markdown",
   "metadata": {},
   "source": [
    "## 3.လုပ်ဆောင်ချက်ခေါ်ယူမှုများကို အက်ပ်လီကေးရှင်းထဲတွင် ပေါင်းစည်းခြင်း။\n",
    "\n",
    "LLM မှ ထုတ်ပေးသော အဖြေကို စမ်းသပ်ပြီးနောက်၊ ယခုအခါ ဤအရာကို အက်ပ်လီကေးရှင်းတစ်ခုထဲသို့ ပေါင်းစည်းနိုင်ပါပြီ။\n",
    "\n",
    "### လုပ်ငန်းစဉ်ကို စီမံခန့်ခွဲခြင်း\n",
    "\n",
    "ဤအရာကို ကျွန်ုပ်တို့၏ အက်ပ်လီကေးရှင်းထဲသို့ ပေါင်းစည်းရန်အတွက် အောက်ပါအဆင့်များကို လုပ်ဆောင်ပါမည်-\n",
    "\n",
    "ပထမဦးဆုံး OpenAI ဝန်ဆောင်မှုများသို့ ခေါ်ယူပြီး၊ ထုတ်လာသော message ကို `response_message` ဟု အမည်ပေးထားသော variable ထဲသို့ သိမ်းဆည်းပါ။\n"
   ]
  },
  {
   "cell_type": "code",
   "execution_count": null,
   "metadata": {},
   "outputs": [],
   "source": [
    "response_message = response.choices[0].message"
   ]
  },
  {
   "cell_type": "markdown",
   "metadata": {},
   "source": [
    "ယခုအခါ Microsoft Learn API ကိုခေါ်၍ သင်တန်းများစာရင်းရယူမည့် function ကိုသတ်မှတ်ပါမည်။\n"
   ]
  },
  {
   "cell_type": "code",
   "execution_count": null,
   "metadata": {},
   "outputs": [],
   "source": [
    "import requests\n",
    "\n",
    "def search_courses(role, product, level):\n",
    "    url = \"https://learn.microsoft.com/api/catalog/\"\n",
    "    params = {\n",
    "        \"role\": role,\n",
    "        \"product\": product,\n",
    "        \"level\": level\n",
    "    }\n",
    "    response = requests.get(url, params=params)\n",
    "    modules = response.json()[\"modules\"]\n",
    "    results = []\n",
    "    for module in modules[:5]:\n",
    "        title = module[\"title\"]\n",
    "        url = module[\"url\"]\n",
    "        results.append({\"title\": title, \"url\": url})\n",
    "    return str(results)\n",
    "\n"
   ]
  },
  {
   "cell_type": "markdown",
   "metadata": {},
   "source": [
    "အကောင်းဆုံးလုပ်ထုံးလုပ်နည်းအနေနဲ့၊ အရင်ဆုံး မော်ဒယ်က function တစ်ခုခေါ်ချင်သလားဆိုတာကြည့်ပါမယ်။ အဲ့ဒီနောက်မှာတော့ ရနိုင်တဲ့ function တွေထဲက တစ်ခုကိုဖန်တီးပြီး၊ ခေါ်မယ့် function နဲ့ကိုက်ညီအောင်လုပ်ပါမယ်။\n",
    "\n",
    "ပြီးရင်တော့ function ရဲ့ arguments တွေကို ယူပြီး LLM ကထုတ်ပေးတဲ့ arguments တွေနဲ့ ကိုက်ညီအောင် mapping လုပ်ပါမယ်။\n",
    "\n",
    "နောက်ဆုံးမှာတော့ function ခေါ်သုံးတဲ့ message နဲ့ `search_courses` message ကနေ ပြန်လာတဲ့တန်ဖိုးတွေကို ထပ်ထည့်ပေးပါမယ်။ ဒါကြောင့် LLM က အသုံးပြုသူကို သဘာဝဘာသာစကားနဲ့ ပြန်လည်ဖြေကြားနိုင်ဖို့ လိုအပ်တဲ့အချက်အလက်အားလုံးရရှိပါပြီ။\n"
   ]
  },
  {
   "cell_type": "code",
   "execution_count": null,
   "metadata": {},
   "outputs": [],
   "source": [
    "# Check if the model wants to call a function\n",
    "if response_message.function_call.name:\n",
    "    print(\"Recommended Function call:\")\n",
    "    print(response_message.function_call.name)\n",
    "    print()\n",
    "\n",
    "    # Call the function. \n",
    "    function_name = response_message.function_call.name\n",
    "\n",
    "    available_functions = {\n",
    "            \"search_courses\": search_courses,\n",
    "    }\n",
    "    function_to_call = available_functions[function_name] \n",
    "\n",
    "    function_args = json.loads(response_message.function_call.arguments)\n",
    "    function_response = function_to_call(**function_args)\n",
    "\n",
    "    print(\"Output of function call:\")\n",
    "    print(function_response)\n",
    "    print(type(function_response))\n",
    "\n",
    "\n",
    "    # Add the assistant response and function response to the messages\n",
    "    messages.append( # adding assistant response to messages\n",
    "        {\n",
    "            \"role\": response_message.role,\n",
    "            \"function_call\": {\n",
    "                \"name\": function_name,\n",
    "                \"arguments\": response_message.function_call.arguments,\n",
    "            },\n",
    "            \"content\": None\n",
    "        }\n",
    "    )\n",
    "    messages.append( # adding function response to messages\n",
    "        {\n",
    "            \"role\": \"function\",\n",
    "            \"name\": function_name,\n",
    "            \"content\":function_response,\n",
    "        }\n",
    "    )\n",
    "\n"
   ]
  },
  {
   "cell_type": "markdown",
   "metadata": {},
   "source": []
  },
  {
   "cell_type": "code",
   "execution_count": null,
   "metadata": {},
   "outputs": [],
   "source": [
    "print(\"Messages in next request:\")\n",
    "print(messages)\n",
    "print()\n",
    "\n",
    "second_response = client.chat.completions.create(\n",
    "    messages=messages,\n",
    "    model=deployment,\n",
    "    function_call=\"auto\",\n",
    "    functions=functions,\n",
    "    temperature=0\n",
    "        )  # get a new response from GPT where it can see the function response\n",
    "\n",
    "\n",
    "print(second_response.choices[0].message)"
   ]
  },
  {
   "cell_type": "markdown",
   "metadata": {},
   "source": [
    "## ကုဒ်စိန်ခေါ်မှု\n",
    "\n",
    "အရမ်းကောင်းပါတယ်! OpenAI Function Calling ကို ဆက်လက်လေ့လာချင်ရင် ဒီလင့်ခ်မှာ ဆက်လက်တည်ဆောက်နိုင်ပါတယ် - https://learn.microsoft.com/training/support/catalog-api-developer-reference?WT.mc_id=academic-105485-koreyst  \n",
    " - သင်ယူသူတွေ အတွက် သင့်တော်တဲ့ သင်တန်းတွေ ရှာဖွေရန် အထောက်အကူဖြစ်စေမယ့် function parameter တွေကို ပိုမိုထည့်သွင်းနိုင်ပါတယ်။ အသုံးပြုနိုင်တဲ့ API parameter တွေကို ဒီမှာ ရှာနိုင်ပါတယ်။  \n",
    " - သင်ယူသူရဲ့ မိခင်ဘာသာစကားလိုအပ်ချက်လိုမျိုး ပိုမိုသိရှိနိုင်အောင် function call အသစ်တစ်ခု ဖန်တီးပါ  \n",
    " - function call သို့မဟုတ် API call မှာ သင့်တော်တဲ့ သင်တန်းမရရှိလာပါက error handling ကို ထည့်သွင်းရေးဆွဲပါ\n"
   ]
  },
  {
   "cell_type": "markdown",
   "metadata": {},
   "source": [
    "\n---\n\n**သတိပြုရန်**:\nဤစာရွက်စာတမ်းကို AI ဘာသာပြန်ဝန်ဆောင်မှု [Co-op Translator](https://github.com/Azure/co-op-translator) ကို အသုံးပြု၍ ဘာသာပြန်ထားပါသည်။ ကျွန်ုပ်တို့သည် တိကျမှန်ကန်မှုအတွက် ကြိုးစားနေသော်လည်း၊ အလိုအလျောက်ဘာသာပြန်ခြင်းတွင် အမှားများ သို့မဟုတ် မမှန်ကန်မှုများ ပါဝင်နိုင်သည်ကို သတိပြုပါ။ မူရင်းစာရွက်စာတမ်းကို မူလဘာသာဖြင့်သာ အာဏာတရားရှိသော အရင်းအမြစ်အဖြစ် ယူဆသင့်ပါသည်။ အရေးကြီးသော အချက်အလက်များအတွက် လူ့ဘာသာပြန်ပညာရှင်များ၏ ဝန်ဆောင်မှုကို အသုံးပြုရန် အကြံပြုပါသည်။ ဤဘာသာပြန်ချက်ကို အသုံးပြုခြင်းမှ ဖြစ်ပေါ်လာသော နားလည်မှုမှားခြင်း သို့မဟုတ် အနားလည်အမှားများအတွက် ကျွန်ုပ်တို့သည် တာဝန်မယူပါ။\n"
   ]
  }
 ],
 "metadata": {
  "kernelspec": {
   "display_name": "Python 3",
   "language": "python",
   "name": "python3"
  },
  "language_info": {
   "codemirror_mode": {
    "name": "ipython",
    "version": 3
   },
   "file_extension": ".py",
   "mimetype": "text/x-python",
   "name": "python",
   "nbconvert_exporter": "python",
   "pygments_lexer": "ipython3",
   "version": "3.12.2"
  },
  "orig_nbformat": 4,
  "coopTranslator": {
   "original_hash": "09e1959b012099c552c48fe94d66a64b",
   "translation_date": "2025-08-25T21:25:18+00:00",
   "source_file": "11-integrating-with-function-calling/python/oai-assignment.ipynb",
   "language_code": "my"
  }
 },
 "nbformat": 4,
 "nbformat_minor": 2
}