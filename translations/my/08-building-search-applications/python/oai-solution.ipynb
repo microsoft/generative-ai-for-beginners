{
 "cells": [
  {
   "cell_type": "markdown",
   "metadata": {},
   "source": [
    "အောက်ပါနိုတ်ဘုတ်များကို chạyရန်၊ မပြုလုပ်ရသေးပါက၊ သင်သည် .env ဖိုင်အတွင်း openai key ကို `OPENAI_API_KEY` အဖြစ် သတ်မှတ်ရန် လိုအပ်ပါသည်။\n"
   ]
  },
  {
   "cell_type": "code",
   "execution_count": null,
   "metadata": {},
   "outputs": [],
   "source": [
    "import os\n",
    "import pandas as pd\n",
    "import numpy as np\n",
    "from openai import OpenAI\n",
    "from dotenv import load_dotenv\n",
    "\n",
    "load_dotenv()\n",
    "\n",
    "API_KEY = os.getenv(\"OPENAI_API_KEY\",\"\")\n",
    "assert API_KEY, \"ERROR: OpenAI Key is missing\"\n",
    "\n",
    "client = OpenAI(\n",
    "    api_key=API_KEY\n",
    "    )\n",
    "\n",
    "model = 'text-embedding-ada-002'\n",
    "\n",
    "SIMILARITIES_RESULTS_THRESHOLD = 0.75\n",
    "DATASET_NAME = \"../embedding_index_3m.json\""
   ]
  },
  {
   "cell_type": "markdown",
   "metadata": {},
   "source": [
    "နောက်တစ်ခုမှာတော့ Embedding Index ကို Pandas Dataframe ထဲသို့ load ပြုလုပ်သွားပါမယ်။ Embedding Index ကို `embedding_index_3m.json` လို့ခေါ်တဲ့ JSON ဖိုင်ထဲမှာ သိမ်းဆည်းထားပါတယ်။ Embedding Index ထဲမှာ YouTube transcript တစ်ခုချင်းစီအတွက် Embeddings တွေကို 2023 အောက်တိုဘာလ နောက်ပိုင်းအထိ ပါဝင်ပါတယ်။\n"
   ]
  },
  {
   "cell_type": "code",
   "execution_count": null,
   "metadata": {},
   "outputs": [],
   "source": [
    "def load_dataset(source: str) -> pd.core.frame.DataFrame:\n",
    "    # Load the video session index\n",
    "    pd_vectors = pd.read_json(source)\n",
    "    return pd_vectors.drop(columns=[\"text\"], errors=\"ignore\").fillna(\"\")"
   ]
  },
  {
   "cell_type": "markdown",
   "metadata": {},
   "source": [
    "နောက်တစ်ခါမှာတော့ `get_videos` လို့ခေါ်တဲ့ function တစ်ခုကို ဖန်တီးသွားမှာပါ။ ဒီ function ကတော့ Embedding Index ထဲမှာ query ကို ရှာဖွေသွားမှာဖြစ်ပြီး၊ query နဲ့ အနီးစပ်ဆုံး ဗီဒီယို ၅ ခုကို ပြန်ပေးပါလိမ့်မယ်။ ဒီ function ရဲ့ လုပ်ဆောင်ပုံကတော့ အောက်ပါအတိုင်းဖြစ်ပါတယ်-\n",
    "\n",
    "1. အရင်ဆုံး Embedding Index ကို copy တစ်ခု ပြုလုပ်ပါတယ်။\n",
    "2. နောက်တစ်ဆင့်မှာတော့ OpenAI Embedding API ကို အသုံးပြုပြီး query အတွက် Embedding ကိုတွက်ချက်ပါတယ်။\n",
    "3. ပြီးရင်တော့ Embedding Index ထဲမှာ `similarity` လို့ခေါ်တဲ့ column အသစ်တစ်ခု ဖန်တီးပါတယ်။ ဒီ `similarity` column ထဲမှာတော့ query ရဲ့ Embedding နဲ့ ဗီဒီယို segment တစ်ခုချင်းစီရဲ့ Embedding တို့အကြား cosine similarity တန်ဖိုးတွေ ပါဝင်ပါတယ်။\n",
    "4. နောက်တစ်ဆင့်မှာတော့ Embedding Index ကို `similarity` column နဲ့ စစ်ထုတ်ပါတယ်။ Cosine similarity တန်ဖိုး 0.75 ထက် များသော်လည်းကောင်း၊ ညီသော်လည်းကောင်းရှိတဲ့ ဗီဒီယိုတွေကိုသာ ထည့်သွင်းပြသပါတယ်။\n",
    "5. နောက်ဆုံးမှာတော့ Embedding Index ကို `similarity` column နဲ့ အလိုက်စီပြီး အနီးစပ်ဆုံး ဗီဒီယို ၅ ခုကို ပြန်ပေးပါတယ်။\n"
   ]
  },
  {
   "cell_type": "code",
   "execution_count": null,
   "metadata": {},
   "outputs": [],
   "source": [
    "def cosine_similarity(a, b):\n",
    "    return np.dot(a, b) / (np.linalg.norm(a) * np.linalg.norm(b))\n",
    "\n",
    "def get_videos(\n",
    "    query: str, dataset: pd.core.frame.DataFrame, rows: int\n",
    ") -> pd.core.frame.DataFrame:\n",
    "    # create a copy of the dataset\n",
    "    video_vectors = dataset.copy()\n",
    "\n",
    "    # get the embeddings for the query    \n",
    "    query_embeddings = client.embeddings.create(input=query, model=model).data[0].embedding\n",
    "\n",
    "    # create a new column with the calculated similarity for each row\n",
    "    video_vectors[\"similarity\"] = video_vectors[\"ada_v2\"].apply(\n",
    "        lambda x: cosine_similarity(np.array(query_embeddings), np.array(x))\n",
    "    )\n",
    "\n",
    "    # filter the videos by similarity\n",
    "    mask = video_vectors[\"similarity\"] >= SIMILARITIES_RESULTS_THRESHOLD\n",
    "    video_vectors = video_vectors[mask].copy()\n",
    "\n",
    "    # sort the videos by similarity\n",
    "    video_vectors = video_vectors.sort_values(by=\"similarity\", ascending=False).head(\n",
    "        rows\n",
    "    )\n",
    "\n",
    "    # return the top rows\n",
    "    return video_vectors.head(rows)"
   ]
  },
  {
   "cell_type": "markdown",
   "metadata": {},
   "source": [
    "ဒီဖန်ရှင်က အရမ်းလွယ်ပါတယ်၊ ဒါက ရှာဖွေမှုအရလဒ်တွေကိုသာ ပုံနှိပ်ပြသပေးတာပါ။\n"
   ]
  },
  {
   "cell_type": "code",
   "execution_count": null,
   "metadata": {},
   "outputs": [],
   "source": [
    "def display_results(videos: pd.core.frame.DataFrame, query: str):\n",
    "    def _gen_yt_url(video_id: str, seconds: int) -> str:\n",
    "        \"\"\"convert time in format 00:00:00 to seconds\"\"\"\n",
    "        return f\"https://youtu.be/{video_id}?t={seconds}\"\n",
    "\n",
    "    print(f\"\\nVideos similar to '{query}':\")\n",
    "    for _, row in videos.iterrows():\n",
    "        youtube_url = _gen_yt_url(row[\"videoId\"], row[\"seconds\"])\n",
    "        print(f\" - {row['title']}\")\n",
    "        print(f\"   Summary: {' '.join(row['summary'].split()[:15])}...\")\n",
    "        print(f\"   YouTube: {youtube_url}\")\n",
    "        print(f\"   Similarity: {row['similarity']}\")\n",
    "        print(f\"   Speakers: {row['speaker']}\")"
   ]
  },
  {
   "cell_type": "markdown",
   "metadata": {},
   "source": [
    "၁။ အရင်ဆုံး Embedding Index ကို Pandas Dataframe ထဲသို့ တင်သွင်းပါသည်။\n",
    "၂။ နောက်တစ်ဆင့်မှာ အသုံးပြုသူကို query တစ်ခု ထည့်ရန် တောင်းဆိုပါသည်။\n",
    "၃။ ထို့နောက် `get_videos` function ကို ခေါ်သုံးပြီး Embedding Index ထဲမှ query ကို ရှာဖွေပါသည်။\n",
    "၄။ နောက်ဆုံးမှာ `display_results` function ကို ခေါ်သုံးပြီး ရလဒ်များကို အသုံးပြုသူထံ ပြသပါသည်။\n",
    "၅။ ထို့နောက် အသုံးပြုသူကို နောက်ထပ် query တစ်ခု ထည့်ရန် တောင်းဆိုပါသည်။ အသုံးပြုသူက `exit` ဟု ထည့်သွင်းသည်အထိ ဒီလုပ်ငန်းစဉ်သည် ဆက်လက်လုပ်ဆောင်သွားပါမည်။\n",
    "\n",
    "![](../../../../translated_images/notebook-search.1e320b9c7fcbb0bc1436d98ea6ee73b4b54ca47990a1c952b340a2cadf8ac1ca.my.png)\n",
    "\n",
    "သင်ကို query တစ်ခု ထည့်ရန် တောင်းဆိုပါမည်။ Query ကို ထည့်ပြီး enter နှိပ်ပါ။ Application သည် သင့် query နှင့် သက်ဆိုင်သော ဗီဒီယိုများကို စာရင်းအဖြစ် ပြန်ပေးပါမည်။ ထို့အပြင် မေးခွန်း၏ အဖြေပါဝင်သော ဗီဒီယိုအပိုင်းသို့ သွားနိုင်သော link ကိုလည်း ပြန်ပေးပါမည်။\n",
    "\n",
    "စမ်းသပ်ကြည့်နိုင်သော query များမှာ -\n",
    "\n",
    "- Azure Machine Learning ဆိုတာဘာလဲ?\n",
    "- Convolutional neural networks ဘယ်လိုအလုပ်လုပ်သလဲ?\n",
    "- Neural network ဆိုတာဘာလဲ?\n",
    "- Jupyter Notebooks ကို Azure Machine Learning နဲ့ အသုံးပြုနိုင်မလား?\n",
    "- ONNX ဆိုတာဘာလဲ?\n"
   ]
  },
  {
   "cell_type": "code",
   "execution_count": null,
   "metadata": {},
   "outputs": [],
   "source": [
    "pd_vectors = load_dataset(DATASET_NAME)\n",
    "\n",
    "# get user query from imput\n",
    "while True:\n",
    "    query = input(\"Enter a query: \")\n",
    "    if query == \"exit\":\n",
    "        break\n",
    "    videos = get_videos(query, pd_vectors, 5)\n",
    "    display_results(videos, query)"
   ]
  },
  {
   "cell_type": "markdown",
   "metadata": {},
   "source": []
  },
  {
   "cell_type": "markdown",
   "metadata": {},
   "source": [
    "\n---\n\n**သတိပြုရန်**:\nဤစာရွက်စာတမ်းကို AI ဘာသာပြန်ဝန်ဆောင်မှု [Co-op Translator](https://github.com/Azure/co-op-translator) ကို အသုံးပြု၍ ဘာသာပြန်ထားပါသည်။ ကျွန်ုပ်တို့သည် တိကျမှန်ကန်မှုအတွက် ကြိုးစားနေသော်လည်း၊ အလိုအလျောက် ဘာသာပြန်ချက်များတွင် အမှားများ သို့မဟုတ် မမှန်ကန်မှုများ ပါဝင်နိုင်သည်ကို သတိပြုပါ။ မူရင်းဘာသာဖြင့် ရေးသားထားသော စာရွက်စာတမ်းကိုသာ အာဏာတရားရှိသော ရင်းမြစ်အဖြစ် ယူဆသင့်ပါသည်။ အရေးကြီးသော အချက်အလက်များအတွက် လူ့ဘာသာပြန်ပညာရှင်များ၏ ဝန်ဆောင်မှုကို အသုံးပြုရန် အကြံပြုပါသည်။ ဤဘာသာပြန်ချက်ကို အသုံးပြုခြင်းမှ ဖြစ်ပေါ်လာနိုင်သော နားလည်မှုမှားခြင်း သို့မဟုတ် အနားလည်အမှားများအတွက် ကျွန်ုပ်တို့သည် တာဝန်မယူပါ။\n"
   ]
  }
 ],
 "metadata": {
  "kernelspec": {
   "display_name": "venv",
   "language": "python",
   "name": "python3"
  },
  "language_info": {
   "codemirror_mode": {
    "name": "ipython",
    "version": 3
   },
   "file_extension": ".py",
   "mimetype": "text/x-python",
   "name": "python",
   "nbconvert_exporter": "python",
   "pygments_lexer": "ipython3",
   "version": "3.10.13"
  },
  "coopTranslator": {
   "original_hash": "2c0494ceb4f5fc618a6abda0b5c09c73",
   "translation_date": "2025-08-25T19:04:33+00:00",
   "source_file": "08-building-search-applications/python/oai-solution.ipynb",
   "language_code": "my"
  }
 },
 "nbformat": 4,
 "nbformat_minor": 2
}