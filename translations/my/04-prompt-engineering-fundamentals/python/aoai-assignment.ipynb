{
 "cells": [
  {
   "cell_type": "markdown",
   "metadata": {},
   "source": [
    "အောက်ပါ notebook သည် GitHub Copilot Chat မှ အလိုအလျောက်ဖန်တီးထားပြီး မူလတပ်ဆင်ခြင်းအတွက်သာ ရည်ရွယ်ပါသည်\n"
   ]
  },
  {
   "cell_type": "markdown",
   "metadata": {},
   "source": [
    "# Prompt Engineering အကြောင်းအရာမိတ်ဆက်\n",
    "\n",
    "Prompt engineering ဆိုတာ သဘာဝဘာသာစကားလုပ်ငန်းစဉ်တွေမှာ အသုံးပြုမယ့် prompt တွေကို ဒီဇိုင်းဆွဲခြင်းနဲ့ အကောင်းဆုံးဖြစ်အောင် ပြင်ဆင်ခြင်းလုပ်ငန်းစဉ်ပါ။ ဒီလုပ်ငန်းစဉ်မှာ မှန်ကန်တဲ့ prompt ကို ရွေးချယ်ခြင်း၊ parameter တွေကို ချိန်ညှိခြင်းနဲ့ အလုပ်လုပ်ဆောင်မှုကို တိုင်းတာသုံးသပ်ခြင်းတွေ ပါဝင်ပါတယ်။ Prompt engineering က NLP မော်ဒယ်တွေမှာ တိကျမှုမြင့်မားပြီး ထိရောက်မှုရှိစေဖို့ အရေးကြီးပါတယ်။ ဒီအပိုင်းမှာတော့ OpenAI မော်ဒယ်တွေကို အသုံးပြုပြီး prompt engineering အခြေခံအကြောင်းအရာတွေကို လေ့လာသွားမှာပါ။\n"
   ]
  },
  {
   "cell_type": "markdown",
   "metadata": {},
   "source": [
    "### လေ့ကျင့်ခန်း ၁: စကားလုံးခွဲခြမ်းခြင်း\n",
    "OpenAI မှ ထုတ်လုပ်ထားတဲ့ အခမဲ့၊ မြန်မြန်ဆန်ဆန် စကားလုံးခွဲခြမ်းစက် tiktoken ကို အသုံးပြုပြီး စကားလုံးခွဲခြမ်းခြင်းကို လေ့လာပါ။\n",
    "နောက်ထပ် ဥပမာများအတွက် [OpenAI Cookbook](https://github.com/openai/openai-cookbook/blob/main/examples/How_to_count_tokens_with_tiktoken.ipynb?WT.mc_id=academic-105485-koreyst) ကို ကြည့်ပါ။\n"
   ]
  },
  {
   "cell_type": "code",
   "execution_count": null,
   "metadata": {},
   "outputs": [],
   "source": [
    "# EXERCISE:\n",
    "# 1. Run the exercise as is first\n",
    "# 2. Change the text to any prompt input you want to use & re-run to see tokens\n",
    "\n",
    "import tiktoken\n",
    "\n",
    "# Define the prompt you want tokenized\n",
    "text = f\"\"\"\n",
    "Jupiter is the fifth planet from the Sun and the \\\n",
    "largest in the Solar System. It is a gas giant with \\\n",
    "a mass one-thousandth that of the Sun, but two-and-a-half \\\n",
    "times that of all the other planets in the Solar System combined. \\\n",
    "Jupiter is one of the brightest objects visible to the naked eye \\\n",
    "in the night sky, and has been known to ancient civilizations since \\\n",
    "before recorded history. It is named after the Roman god Jupiter.[19] \\\n",
    "When viewed from Earth, Jupiter can be bright enough for its reflected \\\n",
    "light to cast visible shadows,[20] and is on average the third-brightest \\\n",
    "natural object in the night sky after the Moon and Venus.\n",
    "\"\"\"\n",
    "\n",
    "# Set the model you want encoding for\n",
    "encoding = tiktoken.encoding_for_model(\"gpt-3.5-turbo\")\n",
    "\n",
    "# Encode the text - gives you the tokens in integer form\n",
    "tokens = encoding.encode(text)\n",
    "print(tokens);\n",
    "\n",
    "# Decode the integers to see what the text versions look like\n",
    "[encoding.decode_single_token_bytes(token) for token in tokens]"
   ]
  },
  {
   "cell_type": "markdown",
   "metadata": {},
   "source": [
    "### လေ့ကျင့်ခန်း ၂: OpenAI API Key တပ်ဆင်မှုကို အတည်ပြုပါ\n",
    "\n",
    "အောက်ပါကုဒ်ကို ပြေးဆွဲပြီး သင့် OpenAI endpoint ကို မှန်ကန်စွာ တပ်ဆင်ထားသည်ကို စစ်ဆေးပါ။ ဒီကုဒ်က အခြေခံ prompt တစ်ခုကိုသာ စမ်းသပ်ပြီး completion ကို အတည်ပြုပါမယ်။ `oh say can you see` ဆိုတဲ့ input ကို ထည့်လိုက်ရင် `by the dawn's early light..` ဆိုတဲ့အတိုင်း ဆက်ပြီး ပြည့်စုံလာရပါမယ်။\n"
   ]
  },
  {
   "cell_type": "code",
   "execution_count": null,
   "metadata": {},
   "outputs": [],
   "source": [
    "# The OpenAI SDK was updated on Nov 8, 2023 with new guidance for migration\n",
    "# See: https://github.com/openai/openai-python/discussions/742\n",
    "\n",
    "## Updated\n",
    "import os\n",
    "from openai import AzureOpenAI\n",
    "from dotenv import load_dotenv\n",
    "load_dotenv()\n",
    "\n",
    "client = AzureOpenAI(\n",
    "  api_key=os.environ['AZURE_OPENAI_API_KEY'],  # this is also the default, it can be omitted\n",
    "  api_version = \"2023-05-15\"\n",
    "  )\n",
    "\n",
    "deployment=os.environ['AZURE_OPENAI_DEPLOYMENT']\n",
    "\n",
    "## Updated\n",
    "def get_completion(prompt):\n",
    "    messages = [{\"role\": \"user\", \"content\": prompt}]       \n",
    "    response = client.chat.completions.create(   \n",
    "        model=deployment,                                         \n",
    "        messages=messages,\n",
    "        temperature=0, # this is the degree of randomness of the model's output\n",
    "        max_tokens=1024\n",
    "    )\n",
    "    return response.choices[0].message.content\n",
    "\n",
    "## ---------- Call the helper method\n",
    "\n",
    "### 1. Set primary content or prompt text\n",
    "text = f\"\"\"\n",
    "oh say can you see\n",
    "\"\"\"\n",
    "\n",
    "### 2. Use that in the prompt template below\n",
    "prompt = f\"\"\"\n",
    "```{text}```\n",
    "\"\"\"\n",
    "\n",
    "## 3. Run the prompt\n",
    "response = get_completion(prompt)\n",
    "print(response)"
   ]
  },
  {
   "cell_type": "markdown",
   "metadata": {},
   "source": [
    "### လေ့ကျင့်ခန်း ၃ - ဖန်တီးမှုများ\n",
    "\n",
    "မရှိနိုင်တဲ့အကြောင်းအရာတစ်ခု၊ ဒါမှမဟုတ် LLM ရဲ့ ကြိုတင်လေ့ကျင့်ထားတဲ့ဒေတာအတွင်း မပါဝင်တဲ့ (နောက်ဆုံးပေါ်) အကြောင်းအရာတစ်ခုအကြောင်းနဲ့ ပတ်သက်ပြီး prompt တစ်ခုကို ဖြေဆိုပေးဖို့ LLM ကို တောင်းဆိုလိုက်တဲ့အခါ ဘာတွေဖြစ်လာနိုင်သလဲဆိုတာ စမ်းသပ်ကြည့်ပါ။ တစ်ခြား prompt တစ်ခု သို့မဟုတ် တစ်ခြားမော်ဒယ်တစ်ခုကို အသုံးပြုပြီး စမ်းကြည့်တဲ့အခါ ဖြေကြားချက်ဘယ်လိုပြောင်းလဲသွားတယ်ဆိုတာလည်း ကြည့်ပါ။\n"
   ]
  },
  {
   "cell_type": "code",
   "execution_count": null,
   "metadata": {},
   "outputs": [],
   "source": [
    "\n",
    "## Set the text for simple prompt or primary content\n",
    "## Prompt shows a template format with text in it - add cues, commands etc if needed\n",
    "## Run the completion \n",
    "text = f\"\"\"\n",
    "generate a lesson plan on the Martian War of 2076.\n",
    "\"\"\"\n",
    "\n",
    "prompt = f\"\"\"\n",
    "```{text}```\n",
    "\"\"\"\n",
    "\n",
    "response = get_completion(prompt)\n",
    "print(response)"
   ]
  },
  {
   "cell_type": "markdown",
   "metadata": {},
   "source": [
    "### လေ့ကျင့်ခန်း ၄: ညွှန်ကြားချက်အခြေခံ\n",
    "\n",
    "\"text\" ဆိုတဲ့ variable ကို အဓိကအကြောင်းအရာအဖြစ် သတ်မှတ်ပါ  \n",
    "\"prompt\" ဆိုတဲ့ variable ကို အဓိကအကြောင်းအရာနဲ့ ဆက်စပ်တဲ့ ညွှန်ကြားချက်တစ်ခု ထည့်ပေးပါ။\n",
    "\n",
    "ဒီမှာတော့ model ကို အဓိကအကြောင်းအရာကို ဒုတိယတန်းကျောင်းသားအတွက် အကျဉ်းချုပ်ပေးပါလို့ တောင်းဆိုထားပါတယ်။\n"
   ]
  },
  {
   "cell_type": "code",
   "execution_count": null,
   "metadata": {},
   "outputs": [],
   "source": [
    "# Test Example\n",
    "# https://platform.openai.com/playground/p/default-summarize\n",
    "\n",
    "## Example text\n",
    "text = f\"\"\"\n",
    "Jupiter is the fifth planet from the Sun and the \\\n",
    "largest in the Solar System. It is a gas giant with \\\n",
    "a mass one-thousandth that of the Sun, but two-and-a-half \\\n",
    "times that of all the other planets in the Solar System combined. \\\n",
    "Jupiter is one of the brightest objects visible to the naked eye \\\n",
    "in the night sky, and has been known to ancient civilizations since \\\n",
    "before recorded history. It is named after the Roman god Jupiter.[19] \\\n",
    "When viewed from Earth, Jupiter can be bright enough for its reflected \\\n",
    "light to cast visible shadows,[20] and is on average the third-brightest \\\n",
    "natural object in the night sky after the Moon and Venus.\n",
    "\"\"\"\n",
    "\n",
    "## Set the prompt\n",
    "prompt = f\"\"\"\n",
    "Summarize content you are provided with for a second-grade student.\n",
    "```{text}```\n",
    "\"\"\"\n",
    "\n",
    "## Run the prompt\n",
    "response = get_completion(prompt)\n",
    "print(response)"
   ]
  },
  {
   "cell_type": "markdown",
   "metadata": {},
   "source": [
    "### လေ့ကျင့်ခန်း ၅ - ရှုပ်ထွေးသော Prompt \n",
    "System, user နဲ့ assistant messages တွေပါဝင်တဲ့ တောင်းဆိုမှုတစ်ခုကို စမ်းကြည့်ပါ \n",
    "System က assistant ရဲ့ context ကို သတ်မှတ်ပေးပါတယ်\n",
    "User နဲ့ Assistant messages တွေက စကားပြောအကြောင်းအရာကို အကြိမ်ကြိမ်ပြန်လည်ပေးပို့ပေးပါတယ်\n",
    "\n",
    "System context ထဲမှာ assistant ရဲ့ ကိုယ်ရည်ကိုယ်သွေးကို \"စော်ကားစကားပြောတတ်တဲ့\" ပုံစံနဲ့ သတ်မှတ်ထားတာကို သတိထားကြည့်ပါ။ \n",
    "အခြားသော ကိုယ်ရည်ကိုယ်သွေး context တစ်ခုကိုလည်း စမ်းသုံးကြည့်နိုင်ပါတယ်။ ဒါမှမဟုတ် input/output messages အစီအစဉ်အခြားတစ်ခုကိုလည်း စမ်းကြည့်နိုင်ပါတယ်\n"
   ]
  },
  {
   "cell_type": "code",
   "execution_count": null,
   "metadata": {},
   "outputs": [],
   "source": [
    "response = client.chat.completions.create(\n",
    "    model=deployment,\n",
    "    messages=[\n",
    "        {\"role\": \"system\", \"content\": \"You are a sarcastic assistant.\"},\n",
    "        {\"role\": \"user\", \"content\": \"Who won the world series in 2020?\"},\n",
    "        {\"role\": \"assistant\", \"content\": \"Who do you think won? The Los Angeles Dodgers of course.\"},\n",
    "        {\"role\": \"user\", \"content\": \"Where was it played?\"}\n",
    "    ]\n",
    ")\n",
    "print(response.choices[0].message.content)"
   ]
  },
  {
   "cell_type": "markdown",
   "metadata": {},
   "source": [
    "### လေ့ကျင့်ခန်း - သင့်အတွေးအမြင်ကို စူးစမ်းကြည့်ပါ\n",
    "အထက်ပါ ဥပမာတွေက သင့်အနေနဲ့ အသစ်သစ်သော prompt တွေ (ရိုးရှင်းတဲ့ prompt, ရှုပ်ထွေးတဲ့ prompt, ညွှန်ကြားချက်ပါဝင်တဲ့ prompt စသဖြင့်) ဖန်တီးနိုင်ဖို့ အသုံးပြုနိုင်တဲ့ ပုံစံတွေကို ပေးထားပါတယ်။ ဥပမာတွေ၊ အကြံပြုချက်တွေ၊ အခြားစိတ်ဝင်စားစရာအကြောင်းအရာတွေလိုမျိုး ကျွန်တော်တို့ ပြောခဲ့တဲ့ အကြောင်းအရာတွေကို ပိုမိုလေ့လာနိုင်ဖို့ အခြားသော လေ့ကျင့်ခန်းတွေကို ကိုယ်တိုင် ဖန်တီးကြည့်ပါ။\n"
   ]
  },
  {
   "cell_type": "markdown",
   "metadata": {},
   "source": [
    "\n---\n\n**သတိပြုရန်**:\nဤစာရွက်စာတမ်းကို AI ဘာသာပြန်ဝန်ဆောင်မှု [Co-op Translator](https://github.com/Azure/co-op-translator) ကို အသုံးပြု၍ ဘာသာပြန်ထားပါသည်။ ကျွန်ုပ်တို့သည် တိကျမှန်ကန်မှုအတွက် ကြိုးစားနေသော်လည်း၊ အလိုအလျောက် ဘာသာပြန်ချက်များတွင် အမှားများ သို့မဟုတ် မမှန်ကန်မှုများ ပါဝင်နိုင်သည်ကို သတိပြုပါ။ မူရင်းဘာသာဖြင့် ရေးသားထားသော စာရွက်စာတမ်းကို အာဏာတရားရှိသော ရင်းမြစ်အဖြစ် ယူဆသင့်ပါသည်။ အရေးကြီးသော အချက်အလက်များအတွက် လူ့ဘာသာပြန်ပညာရှင်များ၏ ဝန်ဆောင်မှုကို အသုံးပြုရန် အကြံပြုပါသည်။ ဤဘာသာပြန်ချက်ကို အသုံးပြုခြင်းမှ ဖြစ်ပေါ်လာသော နားလည်မှုမှားခြင်း သို့မဟုတ် အနားလည်အမှားများအတွက် ကျွန်ုပ်တို့သည် တာဝန်မယူပါ။\n"
   ]
  }
 ],
 "metadata": {
  "kernelspec": {
   "display_name": "Python 3 (ipykernel)",
   "language": "python",
   "name": "python3"
  },
  "language_info": {
   "codemirror_mode": {
    "name": "ipython",
    "version": 3
   },
   "file_extension": ".py",
   "mimetype": "text/x-python",
   "name": "python",
   "nbconvert_exporter": "python",
   "pygments_lexer": "ipython3",
   "version": "3.10.13"
  },
  "orig_nbformat": 4,
  "coopTranslator": {
   "original_hash": "9b900544221c8d986e06ee6d25debef7",
   "translation_date": "2025-08-25T13:16:42+00:00",
   "source_file": "04-prompt-engineering-fundamentals/python/aoai-assignment.ipynb",
   "language_code": "my"
  }
 },
 "nbformat": 4,
 "nbformat_minor": 2
}