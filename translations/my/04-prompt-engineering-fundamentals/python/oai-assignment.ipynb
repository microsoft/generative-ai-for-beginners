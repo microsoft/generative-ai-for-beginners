{
 "cells": [
  {
   "cell_type": "markdown",
   "metadata": {},
   "source": [
    "အောက်ပါ notebook သည် GitHub Copilot Chat မှ အလိုအလျောက်ဖန်တီးထားပြီး မူလတပ်ဆင်မှုအတွက်သာ ရည်ရွယ်ထားသည်\n"
   ]
  },
  {
   "cell_type": "markdown",
   "metadata": {},
   "source": [
    "# Prompt Engineering အကြောင်းအရာ မိတ်ဆက်\n",
    "\n",
    "Prompt engineering ဆိုတာ သဘာဝဘာသာစကား လုပ်ငန်းစဉ်တွေမှာ အသုံးပြုမယ့် prompt တွေကို ဒီဇိုင်းဆွဲခြင်းနဲ့ အကောင်းဆုံးဖြစ်အောင် ပြင်ဆင်ခြင်း လုပ်ငန်းစဉ်ပါ။ ဒီမှာတော့ မှန်ကန်တဲ့ prompt ကို ရွေးချယ်ခြင်း၊ သူ့ရဲ့ parameter တွေကို ချိန်ညှိခြင်း၊ နောက်ပြီး သူ့ရဲ့ လုပ်ဆောင်ရည်ကို တိုင်းတာသုံးသပ်ခြင်းတွေ ပါဝင်ပါတယ်။ Prompt engineering က NLP မော်ဒယ်တွေမှာ တိကျမှုမြင့်ပြီး ထိရောက်မှုရှိအောင်လုပ်ဖို့ အရေးကြီးပါတယ်။ ဒီအပိုင်းမှာတော့ OpenAI မော်ဒယ်တွေကို အသုံးပြုပြီး prompt engineering ရဲ့ အခြေခံအကြောင်းအရာတွေကို လေ့လာသွားမှာပါ။\n"
   ]
  },
  {
   "cell_type": "markdown",
   "metadata": {},
   "source": [
    "### လေ့ကျင့်ခန်း ၁: စကားလုံးခွဲခြမ်းခြင်း\n",
    "OpenAI မှ ထုတ်လုပ်ထားတဲ့ အမြန်နှုန်းမြန်တဲ့ tiktoken ကို အသုံးပြုပြီး စကားလုံးခွဲခြမ်းခြင်းကို လေ့လာပါ။\n",
    "နောက်ထပ် ဥပမာများအတွက် [OpenAI Cookbook](https://github.com/openai/openai-cookbook/blob/main/examples/How_to_count_tokens_with_tiktoken.ipynb?WT.mc_id=academic-105485-koreyst) ကို ကြည့်ပါ။\n"
   ]
  },
  {
   "cell_type": "code",
   "execution_count": null,
   "metadata": {},
   "outputs": [],
   "source": [
    "# EXERCISE:\n",
    "# 1. Run the exercise as is first\n",
    "# 2. Change the text to any prompt input you want to use & re-run to see tokens\n",
    "\n",
    "import tiktoken\n",
    "\n",
    "# Define the prompt you want tokenized\n",
    "text = f\"\"\"\n",
    "Jupiter is the fifth planet from the Sun and the \\\n",
    "largest in the Solar System. It is a gas giant with \\\n",
    "a mass one-thousandth that of the Sun, but two-and-a-half \\\n",
    "times that of all the other planets in the Solar System combined. \\\n",
    "Jupiter is one of the brightest objects visible to the naked eye \\\n",
    "in the night sky, and has been known to ancient civilizations since \\\n",
    "before recorded history. It is named after the Roman god Jupiter.[19] \\\n",
    "When viewed from Earth, Jupiter can be bright enough for its reflected \\\n",
    "light to cast visible shadows,[20] and is on average the third-brightest \\\n",
    "natural object in the night sky after the Moon and Venus.\n",
    "\"\"\"\n",
    "\n",
    "# Set the model you want encoding for\n",
    "encoding = tiktoken.encoding_for_model(\"gpt-3.5-turbo\")\n",
    "\n",
    "# Encode the text - gives you the tokens in integer form\n",
    "tokens = encoding.encode(text)\n",
    "print(tokens);\n",
    "\n",
    "# Decode the integers to see what the text versions look like\n",
    "[encoding.decode_single_token_bytes(token) for token in tokens]"
   ]
  },
  {
   "cell_type": "markdown",
   "metadata": {},
   "source": [
    "### လေ့ကျင့်ခန်း ၂: OpenAI API Key တပ်ဆင်မှုကို အတည်ပြုပါ\n",
    "\n",
    "အောက်ပါကုဒ်ကို ပြေးဆွဲပြီး သင့် OpenAI endpoint ကို မှန်ကန်စွာ တပ်ဆင်ထားသည်ကို စစ်ဆေးပါ။ ဒီကုဒ်က အခြေခံ prompt တစ်ခုကိုသာ စမ်းသပ်ပြီး completion ကို အတည်ပြုပါမယ်။ `oh say can you see` ဆိုတဲ့ input ကို ထည့်လိုက်ရင် `by the dawn's early light..` ဆိုတဲ့အတိုင်း ဆက်ပြီး ပြည့်စုံလာရပါမယ်။\n"
   ]
  },
  {
   "cell_type": "code",
   "execution_count": null,
   "metadata": {},
   "outputs": [],
   "source": [
    "# The OpenAI SDK was updated on Nov 8, 2023 with new guidance for migration\n",
    "# See: https://github.com/openai/openai-python/discussions/742\n",
    "\n",
    "## Updated\n",
    "import os\n",
    "from openai import OpenAI\n",
    "from dotenv import load_dotenv\n",
    "load_dotenv()\n",
    "\n",
    "client = OpenAI()\n",
    "\n",
    "deployment=\"gpt-3.5-turbo\"\n",
    "\n",
    "## Updated\n",
    "def get_completion(prompt):\n",
    "    messages = [{\"role\": \"user\", \"content\": prompt}]       \n",
    "    response = client.chat.completions.create(   \n",
    "        model=deployment,                                         \n",
    "        messages=messages,\n",
    "        temperature=0, # this is the degree of randomness of the model's output\n",
    "        max_tokens=1024\n",
    "    )\n",
    "    return response.choices[0].message.content\n",
    "\n",
    "## ---------- Call the helper method\n",
    "\n",
    "### 1. Set primary content or prompt text\n",
    "text = f\"\"\"\n",
    "oh say can you see\n",
    "\"\"\"\n",
    "\n",
    "### 2. Use that in the prompt template below\n",
    "prompt = f\"\"\"\n",
    "```{text}```\n",
    "\"\"\"\n",
    "\n",
    "## 3. Run the prompt\n",
    "response = get_completion(prompt)\n",
    "print(response)"
   ]
  },
  {
   "cell_type": "markdown",
   "metadata": {},
   "source": [
    "### လေ့ကျင့်ခန်း ၃ - ဖန်တီးမှုများ\n",
    "\n",
    "မရှိနိုင်တဲ့အကြောင်းအရာတစ်ခု၊ ဒါမှမဟုတ် မိမိသိထားတဲ့အချက်အလက်များထဲမှာ မပါဝင်သေးတဲ့ (နောက်ဆုံးပေါ်) အကြောင်းအရာတစ်ခုအကြောင်း LLM ကို prompt တစ်ခုဖြင့် ဖြေကြားပေးရန် တောင်းဆိုကြည့်ပါ။ မတူညီတဲ့ prompt တစ်ခု သို့မဟုတ် မော်ဒယ်တစ်ခုကို အသုံးပြုပြီး စမ်းကြည့်ပါက တုံ့ပြန်မှုဘယ်လိုပြောင်းလဲသွားသလဲဆိုတာလည်း စူးစမ်းကြည့်ပါ။\n"
   ]
  },
  {
   "cell_type": "code",
   "execution_count": null,
   "metadata": {},
   "outputs": [],
   "source": [
    "\n",
    "## Set the text for simple prompt or primary content\n",
    "## Prompt shows a template format with text in it - add cues, commands etc if needed\n",
    "## Run the completion \n",
    "text = f\"\"\"\n",
    "generate a lesson plan on the Martian War of 2076.\n",
    "\"\"\"\n",
    "\n",
    "prompt = f\"\"\"\n",
    "```{text}```\n",
    "\"\"\"\n",
    "\n",
    "response = get_completion(prompt)\n",
    "print(response)"
   ]
  },
  {
   "cell_type": "markdown",
   "metadata": {},
   "source": [
    "### လေ့ကျင့်ခန်း ၄: ညွှန်ကြားချက်အခြေခံ\n",
    "\n",
    "\"text\" အပြောင်းအလဲကို အသုံးပြုပြီး အဓိကအကြောင်းအရာကို သတ်မှတ်ပါ  \n",
    "\"prompt\" အပြောင်းအလဲကို အသုံးပြုပြီး အဓိကအကြောင်းအရာနဲ့ ဆက်စပ်တဲ့ ညွှန်ကြားချက်တစ်ခု ပေးပါ။\n",
    "\n",
    "ဒီမှာတော့ မော်ဒယ်ကို \"text\" ကို ဒုတိယတန်းကျောင်းသားအတွက် အကျဉ်းချုပ်ပေးပါလို့ တောင်းဆိုထားပါတယ်။\n"
   ]
  },
  {
   "cell_type": "code",
   "execution_count": null,
   "metadata": {},
   "outputs": [],
   "source": [
    "# Test Example\n",
    "# https://platform.openai.com/playground/p/default-summarize\n",
    "\n",
    "## Example text\n",
    "text = f\"\"\"\n",
    "Jupiter is the fifth planet from the Sun and the \\\n",
    "largest in the Solar System. It is a gas giant with \\\n",
    "a mass one-thousandth that of the Sun, but two-and-a-half \\\n",
    "times that of all the other planets in the Solar System combined. \\\n",
    "Jupiter is one of the brightest objects visible to the naked eye \\\n",
    "in the night sky, and has been known to ancient civilizations since \\\n",
    "before recorded history. It is named after the Roman god Jupiter.[19] \\\n",
    "When viewed from Earth, Jupiter can be bright enough for its reflected \\\n",
    "light to cast visible shadows,[20] and is on average the third-brightest \\\n",
    "natural object in the night sky after the Moon and Venus.\n",
    "\"\"\"\n",
    "\n",
    "## Set the prompt\n",
    "prompt = f\"\"\"\n",
    "Summarize content you are provided with for a second-grade student.\n",
    "```{text}```\n",
    "\"\"\"\n",
    "\n",
    "## Run the prompt\n",
    "response = get_completion(prompt)\n",
    "print(response)"
   ]
  },
  {
   "cell_type": "markdown",
   "metadata": {},
   "source": [
    "### လေ့ကျင့်ခန်း ၅ - ရှုပ်ထွေးသော Prompt \n",
    "System, user နဲ့ assistant messages တွေပါဝင်တဲ့ တောင်းဆိုမှုတစ်ခု လုပ်ကြည့်ပါ \n",
    "System က assistant ရဲ့ context ကို သတ်မှတ်ပေးပါတယ်\n",
    "User နဲ့ Assistant messages တွေက စကားပြောအကြောင်းအရာကို အကြိမ်ကြိမ် ပြန်လည်ပေးပို့ပေးပါတယ်\n",
    "\n",
    "System context ထဲမှာ assistant ရဲ့ ကိုယ်ရည်ကိုယ်သွေးကို \"စော်ကားတတ်တဲ့\" ပုံစံနဲ့ သတ်မှတ်ထားတာကို သတိထားကြည့်ပါ။ \n",
    "အခြားသော ကိုယ်ရည်ကိုယ်သွေး context တစ်ခုကို အသုံးပြုကြည့်ပါ။ ဒါမှမဟုတ် input/output messages အစီအစဉ် တစ်ခုကို ပြောင်းလဲကြည့်ပါ\n"
   ]
  },
  {
   "cell_type": "code",
   "execution_count": null,
   "metadata": {},
   "outputs": [],
   "source": [
    "response = client.chat.completions.create(\n",
    "    model=deployment,\n",
    "    messages=[\n",
    "        {\"role\": \"system\", \"content\": \"You are a sarcastic assistant.\"},\n",
    "        {\"role\": \"user\", \"content\": \"Who won the world series in 2020?\"},\n",
    "        {\"role\": \"assistant\", \"content\": \"Who do you think won? The Los Angeles Dodgers of course.\"},\n",
    "        {\"role\": \"user\", \"content\": \"Where was it played?\"}\n",
    "    ]\n",
    ")\n",
    "print(response.choices[0].message.content)"
   ]
  },
  {
   "cell_type": "markdown",
   "metadata": {},
   "source": [
    "### လေ့ကျင့်ခန်း - သင့်အတွေးအခေါ်ကို စူးစမ်းကြည့်ပါ\n",
    "အထက်ပါ ဥပမာတွေက သင့်အနေနဲ့ အသစ်သစ်သော prompt တွေ (ရိုးရှင်းတဲ့ prompt, ရှုပ်ထွေးတဲ့ prompt, ညွှန်ကြားချက်ပါဝင်တဲ့ prompt စသဖြင့်) ဖန်တီးနိုင်ဖို့ pattern တွေကို ပေးထားပါတယ်။ ဥပမာတွေ၊ အကြံပြုချက်တွေ၊ အခြားစိတ်ဝင်စားစရာအကြောင်းအရာတွေကိုလည်း စူးစမ်းလေ့လာနိုင်ဖို့ အခြားသော လေ့ကျင့်ခန်းတွေကို ကိုယ်တိုင်ဖန်တီးကြည့်ပါ။\n"
   ]
  },
  {
   "cell_type": "markdown",
   "metadata": {},
   "source": [
    "\n---\n\n**သတိပြုရန်**:\nဤစာရွက်စာတမ်းကို AI ဘာသာပြန်ဝန်ဆောင်မှု [Co-op Translator](https://github.com/Azure/co-op-translator) ကို အသုံးပြု၍ ဘာသာပြန်ထားပါသည်။ ကျွန်ုပ်တို့သည် တိကျမှန်ကန်မှုအတွက် ကြိုးစားနေသော်လည်း၊ အလိုအလျောက် ဘာသာပြန်ချက်များတွင် အမှားများ သို့မဟုတ် မမှန်ကန်မှုများ ပါဝင်နိုင်သည်ကို သတိပြုပါ။ မူရင်းဘာသာဖြင့် ရေးသားထားသော စာရွက်စာတမ်းကိုသာ အာဏာတရားရှိသော ရင်းမြစ်အဖြစ် ယူဆသင့်ပါသည်။ အရေးကြီးသော အချက်အလက်များအတွက် လူ့ဘာသာပြန်ပညာရှင်များ၏ ဝန်ဆောင်မှုကို အသုံးပြုရန် အကြံပြုပါသည်။ ဤဘာသာပြန်ချက်ကို အသုံးပြုခြင်းမှ ဖြစ်ပေါ်လာသော နားလည်မှုမှားခြင်း သို့မဟုတ် အနားလည်အမှားများအတွက် ကျွန်ုပ်တို့သည် တာဝန်မယူပါ။\n"
   ]
  }
 ],
 "metadata": {
  "language_info": {
   "name": "python"
  },
  "coopTranslator": {
   "original_hash": "ec9eedd4f3981f097d4bd34c849cb8b6",
   "translation_date": "2025-08-25T13:51:41+00:00",
   "source_file": "04-prompt-engineering-fundamentals/python/oai-assignment.ipynb",
   "language_code": "my"
  }
 },
 "nbformat": 4,
 "nbformat_minor": 2
}