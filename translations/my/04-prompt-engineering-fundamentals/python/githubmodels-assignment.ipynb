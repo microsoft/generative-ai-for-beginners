{
 "cells": [
  {
   "cell_type": "markdown",
   "metadata": {},
   "source": [
    "# Prompt Engineering အကြောင်းအရာမိတ်ဆက်\n",
    "\n",
    "Prompt engineering ဆိုတာ သဘာဝဘာသာစကားလုပ်ငန်းစဉ်တွေမှာ အသုံးပြုမယ့် prompt တွေကို ဒီဇိုင်းဆွဲခြင်းနဲ့ အကောင်းဆုံးဖြစ်အောင် ပြင်ဆင်ခြင်း လုပ်ငန်းစဉ်ပါ။ ဒီလုပ်ငန်းစဉ်မှာ သင့်တော်တဲ့ prompt ကို ရွေးချယ်ခြင်း၊ သူတို့ရဲ့ parameter တွေကို ချိန်ညှိခြင်း၊ နောက်ပြီး သူတို့ရဲ့ စွမ်းဆောင်ရည်ကို တိုင်းတာသုံးသပ်ခြင်းတွေ ပါဝင်ပါတယ်။ Prompt engineering က NLP မော်ဒယ်တွေမှာ တိကျမှုမြင့်မားပြီး ထိရောက်မှုရှိစေဖို့ အရေးကြီးပါတယ်။ ဒီအပိုင်းမှာတော့ OpenAI မော်ဒယ်တွေကို အသုံးပြုပြီး prompt engineering ရဲ့ အခြေခံအကြောင်းအရာတွေကို လေ့လာသွားမှာ ဖြစ်ပါတယ်။\n"
   ]
  },
  {
   "cell_type": "markdown",
   "metadata": {},
   "source": [
    "### လေ့ကျင့်ခန်း ၁: စကားလုံးခွဲခြမ်းခြင်း\n",
    "OpenAI မှ ထုတ်လုပ်ထားတဲ့ အခမဲ့၊ မြန်မြန်ဆန်ဆန် စကားလုံးခွဲခြမ်းစက် tiktoken ကို အသုံးပြုပြီး စကားလုံးခွဲခြမ်းခြင်းကို လေ့လာပါ။\n",
    "နောက်ထပ် ဥပမာများအတွက် [OpenAI Cookbook](https://github.com/openai/openai-cookbook/blob/main/examples/How_to_count_tokens_with_tiktoken.ipynb?WT.mc_id=academic-105485-koreyst) ကို ကြည့်ပါ။\n"
   ]
  },
  {
   "cell_type": "code",
   "execution_count": null,
   "metadata": {},
   "outputs": [],
   "source": [
    "# EXERCISE:\n",
    "# 1. Run the exercise as is first\n",
    "# 2. Change the text to any prompt input you want to use & re-run to see tokens\n",
    "\n",
    "import tiktoken\n",
    "\n",
    "# Define the prompt you want tokenized\n",
    "text = f\"\"\"\n",
    "Jupiter is the fifth planet from the Sun and the \\\n",
    "largest in the Solar System. It is a gas giant with \\\n",
    "a mass one-thousandth that of the Sun, but two-and-a-half \\\n",
    "times that of all the other planets in the Solar System combined. \\\n",
    "Jupiter is one of the brightest objects visible to the naked eye \\\n",
    "in the night sky, and has been known to ancient civilizations since \\\n",
    "before recorded history. It is named after the Roman god Jupiter.[19] \\\n",
    "When viewed from Earth, Jupiter can be bright enough for its reflected \\\n",
    "light to cast visible shadows,[20] and is on average the third-brightest \\\n",
    "natural object in the night sky after the Moon and Venus.\n",
    "\"\"\"\n",
    "\n",
    "# Set the model you want encoding for\n",
    "encoding = tiktoken.encoding_for_model(\"gpt-3.5-turbo\")\n",
    "\n",
    "# Encode the text - gives you the tokens in integer form\n",
    "tokens = encoding.encode(text)\n",
    "print(tokens);\n",
    "\n",
    "# Decode the integers to see what the text versions look like\n",
    "[encoding.decode_single_token_bytes(token) for token in tokens]"
   ]
  },
  {
   "cell_type": "markdown",
   "metadata": {},
   "source": [
    "### လေ့ကျင့်ခန်း ၂ - Github Models Key တပ်ဆင်မှု မှန်ကန်မှု စစ်ဆေးခြင်း\n",
    "\n",
    "အောက်ပါကုဒ်ကို run လုပ်ပြီး သင့် Github Models endpoint ကို မှန်ကန်စွာ တပ်ဆင်ထားသည့်အတိုင်းရှိ/မရှိ စစ်ဆေးပါ။ ဒီကုဒ်က ရိုးရှင်းတဲ့ prompt တစ်ခုကို စမ်းသပ်ပြီး completion ကို စစ်ဆေးပေးပါမယ်။ `oh say can you see` ဆိုပြီး input ထည့်လိုက်ရင် `by the dawn's early light..` ဆိုတဲ့အတိုင်း ဆက်ပြီး ပြည့်စုံစေသင့်ပါတယ်။\n"
   ]
  },
  {
   "cell_type": "code",
   "execution_count": 2,
   "metadata": {},
   "outputs": [
    {
     "name": "stdout",
     "output_type": "stream",
     "text": [
      "That line is the opening lyric of \"The Star-Spangled Banner,\" the national anthem of the United States, written by Francis Scott Key. If you'd like more information or analysis, feel free to ask!\n"
     ]
    }
   ],
   "source": [
    "import os\n",
    "from azure.ai.inference import ChatCompletionsClient\n",
    "from azure.ai.inference.models import SystemMessage, UserMessage\n",
    "from azure.core.credentials import AzureKeyCredential\n",
    "\n",
    "token = os.environ[\"GITHUB_TOKEN\"]\n",
    "endpoint = \"https://models.inference.ai.azure.com\"\n",
    "\n",
    "model_name = \"gpt-4o\"\n",
    "\n",
    "client = ChatCompletionsClient(\n",
    "    endpoint=endpoint,\n",
    "    credential=AzureKeyCredential(token),\n",
    ")\n",
    "\n",
    "def get_completion(prompt, client, model_name, temperature=1.0, max_tokens=1000, top_p=1.0):\n",
    "    response = client.complete(\n",
    "        messages=[\n",
    "            {\n",
    "                \"role\": \"system\",\n",
    "                \"content\": \"You are a helpful assistant.\",\n",
    "            },\n",
    "            {\n",
    "                \"role\": \"user\",\n",
    "                \"content\": prompt,\n",
    "            },\n",
    "        ],\n",
    "        model=model_name,\n",
    "        temperature=temperature,\n",
    "        max_tokens=max_tokens,\n",
    "        top_p=top_p\n",
    "    )\n",
    "    return response.choices[0].message.content\n",
    "\n",
    "## ---------- Call the helper method\n",
    "\n",
    "### 1. Set primary content or prompt text\n",
    "text = f\"\"\"\n",
    "oh say can you see\n",
    "\"\"\"\n",
    "\n",
    "### 2. Use that in the prompt template below\n",
    "prompt = f\"\"\"\n",
    "```{text}```\n",
    "\"\"\"\n",
    "\n",
    "## 3. Run the prompt\n",
    "response = get_completion(prompt, client, model_name)\n",
    "print(response)\n"
   ]
  },
  {
   "cell_type": "markdown",
   "metadata": {},
   "source": [
    "### လေ့ကျင့်ခန်း ၃ - ဖန်တီးမှုများ\n",
    "\n",
    "မရှိနိုင်တဲ့အကြောင်းအရာတစ်ခု၊ ဒါမှမဟုတ် မိမိသိထားတဲ့ဒေတာအတွင်းမှာ မပါဝင်တဲ့ (နောက်ဆုံးပေါ်) အကြောင်းအရာတစ်ခုအကြောင်း LLM ကို prompt တစ်ခုဖြင့် ဖြေကြားပေးရန် တောင်းဆိုလိုက်တဲ့အခါ ဘာတွေဖြစ်လာနိုင်သလဲဆိုတာ စမ်းသပ်ကြည့်ပါ။ တစ်ခြား prompt တစ်ခု သို့မဟုတ် တစ်ခြားမော်ဒယ်တစ်ခုကို အသုံးပြုပြီး စမ်းကြည့်တဲ့အခါ ဖြေကြားချက်ဘယ်လိုပြောင်းလဲသွားသလဲဆိုတာလည်း ကြည့်ပါ။\n"
   ]
  },
  {
   "cell_type": "code",
   "execution_count": null,
   "metadata": {},
   "outputs": [],
   "source": [
    "\n",
    "## Set the text for simple prompt or primary content\n",
    "## Prompt shows a template format with text in it - add cues, commands etc if needed\n",
    "## Run the completion \n",
    "text = f\"\"\"\n",
    "generate a lesson plan on the Martian War of 2076.\n",
    "\"\"\"\n",
    "\n",
    "prompt = f\"\"\"\n",
    "```{text}```\n",
    "\"\"\"\n",
    "\n",
    "response = get_completion(prompt, client, model_name)\n",
    "print(response)"
   ]
  },
  {
   "cell_type": "markdown",
   "metadata": {},
   "source": [
    "### လေ့ကျင့်ခန်း ၄ - ညွှန်ကြားချက်အခြေခံ\n",
    "\n",
    "\"text\" အပြောင်းအလဲကို အသုံးပြုပြီး အဓိကအကြောင်းအရာကို သတ်မှတ်ပါ  \n",
    "\"prompt\" အပြောင်းအလဲကို အသုံးပြုပြီး အဓိကအကြောင်းအရာနဲ့ ဆက်စပ်တဲ့ ညွှန်ကြားချက်တစ်ခုကို ပေးပါ။\n",
    "\n",
    "ဒီမှာတော့ မော်ဒယ်ကို \"text\" ကို ဒုတိယတန်းကျောင်းသားအတွက် အကျဉ်းချုပ်ပေးပါလို့ တောင်းဆိုထားပါတယ်။\n"
   ]
  },
  {
   "cell_type": "code",
   "execution_count": 4,
   "metadata": {},
   "outputs": [
    {
     "name": "stdout",
     "output_type": "stream",
     "text": [
      "Jupiter is the fifth planet from the Sun and the biggest one in our Solar System. It's made of gas and is much bigger than all the other planets put together! You can see Jupiter in the night sky because it's very bright. People have noticed it for a really long time and named it after a Roman god.\n"
     ]
    }
   ],
   "source": [
    "# Test Example\n",
    "# https://platform.openai.com/playground/p/default-summarize\n",
    "\n",
    "## Example text\n",
    "text = f\"\"\"\n",
    "Jupiter is the fifth planet from the Sun and the \\\n",
    "largest in the Solar System. It is a gas giant with \\\n",
    "a mass one-thousandth that of the Sun, but two-and-a-half \\\n",
    "times that of all the other planets in the Solar System combined. \\\n",
    "Jupiter is one of the brightest objects visible to the naked eye \\\n",
    "in the night sky, and has been known to ancient civilizations since \\\n",
    "before recorded history. It is named after the Roman god Jupiter.[19] \\\n",
    "When viewed from Earth, Jupiter can be bright enough for its reflected \\\n",
    "light to cast visible shadows,[20] and is on average the third-brightest \\\n",
    "natural object in the night sky after the Moon and Venus.\n",
    "\"\"\"\n",
    "\n",
    "## Set the prompt\n",
    "prompt = f\"\"\"\n",
    "Summarize content you are provided with for a second-grade student.\n",
    "```{text}```\n",
    "\"\"\"\n",
    "\n",
    "## Run the prompt\n",
    "response = get_completion(prompt, client, model_name)\n",
    "print(response)"
   ]
  },
  {
   "cell_type": "markdown",
   "metadata": {},
   "source": [
    "### လေ့ကျင့်ခန်း ၅ - ရှုပ်ထွေးသော Prompt \n",
    "System, user နဲ့ assistant messages တွေပါဝင်တဲ့ တောင်းဆိုမှုတစ်ခု လုပ်ကြည့်ပါ \n",
    "System က assistant ရဲ့ context ကို သတ်မှတ်ပေးပါတယ်\n",
    "User နဲ့ Assistant messages တွေက စကားပြောအကြောင်းအရာကို အကြိမ်ကြိမ် ပြန်လည်ပေးပို့ပေးပါတယ်\n",
    "\n",
    "System context ထဲမှာ assistant ရဲ့ ကိုယ်ရည်ကိုယ်သွေးကို \"စော်ကားတတ်တဲ့\" (sarcastic) လို့ သတ်မှတ်ထားတာကို သတိထားကြည့်ပါ။ \n",
    "အခြားသော ကိုယ်ရည်ကိုယ်သွေး context တစ်ခုကို အသုံးပြုကြည့်ပါ။ ဒါမှမဟုတ် input/output messages အစီအစဉ် တစ်ခုကို ပြောင်းပြီး အသုံးပြုကြည့်ပါ\n"
   ]
  },
  {
   "cell_type": "code",
   "execution_count": 5,
   "metadata": {},
   "outputs": [
    {
     "name": "stdout",
     "output_type": "stream",
     "text": [
      "Oh, you mean the famous 2020 World Series that wasn’t in a regular location? That was the year they played in the glamorous Arlington, Texas, at Globe Life Field.\n"
     ]
    }
   ],
   "source": [
    "response = client.complete(\n",
    "    model=model_name,\n",
    "    messages=[\n",
    "        {\"role\": \"system\", \"content\": \"You are a sarcastic assistant.\"},\n",
    "        {\"role\": \"user\", \"content\": \"Who won the world series in 2020?\"},\n",
    "        {\"role\": \"assistant\", \"content\": \"Who do you think won? The Los Angeles Dodgers of course.\"},\n",
    "        {\"role\": \"user\", \"content\": \"Where was it played?\"}\n",
    "    ]\n",
    ")\n",
    "print(response.choices[0].message.content)"
   ]
  },
  {
   "cell_type": "markdown",
   "metadata": {},
   "source": [
    "### လေ့ကျင့်ခန်း - သင့်အတွေးအခေါ်ကို စူးစမ်းကြည့်ပါ\n",
    "အထက်ပါ ဥပမာတွေက သင့်အနေနဲ့ အသစ်သစ်သော prompt တွေ (ရိုးရှင်းတဲ့ prompt, ရှုပ်ထွေးတဲ့ prompt, ညွှန်ကြားချက်ပါဝင်တဲ့ prompt စသဖြင့်) ဖန်တီးနိုင်ဖို့ အသုံးပြုနိုင်တဲ့ ပုံစံတွေကို ပေးထားပါတယ်။ ကျွန်တော်တို့ ပြောခဲ့တဲ့ ဥပမာတွေ၊ အကြံပြုချက်တွေ၊ အခြားသော အကြောင်းအရာတွေကို စူးစမ်းဖို့ အခြားသော လေ့ကျင့်ခန်းတွေကို ကိုယ်တိုင် ဖန်တီးကြည့်ပါ။\n"
   ]
  },
  {
   "cell_type": "markdown",
   "metadata": {},
   "source": [
    "\n---\n\n**သတိပြုရန်**:\nဤစာရွက်စာတမ်းကို AI ဘာသာပြန်ဝန်ဆောင်မှု [Co-op Translator](https://github.com/Azure/co-op-translator) ကို အသုံးပြု၍ ဘာသာပြန်ထားပါသည်။ ကျွန်ုပ်တို့သည် တိကျမှန်ကန်မှုအတွက် ကြိုးစားနေသော်လည်း၊ အလိုအလျောက် ဘာသာပြန်ချက်များတွင် အမှားများ သို့မဟုတ် မမှန်ကန်မှုများ ပါဝင်နိုင်သည်ကို သတိပြုပါ။ မူရင်းဘာသာဖြင့် ရေးသားထားသော စာရွက်စာတမ်းကိုသာ အာဏာတရားရှိသော ရင်းမြစ်အဖြစ် ယူဆသင့်ပါသည်။ အရေးကြီးသော အချက်အလက်များအတွက် လူ့ဘာသာပြန်ပညာရှင်များ၏ ဝန်ဆောင်မှုကို အသုံးပြုရန် အကြံပြုပါသည်။ ဤဘာသာပြန်ချက်ကို အသုံးပြုခြင်းမှ ဖြစ်ပေါ်လာသော နားလည်မှုမှားခြင်း သို့မဟုတ် အနားလည်အမှားများအတွက် ကျွန်ုပ်တို့သည် တာဝန်မယူပါ။\n"
   ]
  }
 ],
 "metadata": {
  "kernelspec": {
   "display_name": "ai4beg",
   "language": "python",
   "name": "python3"
  },
  "language_info": {
   "codemirror_mode": {
    "name": "ipython",
    "version": 3
   },
   "file_extension": ".py",
   "mimetype": "text/x-python",
   "name": "python",
   "nbconvert_exporter": "python",
   "pygments_lexer": "ipython3",
   "version": "3.11.9"
  },
  "coopTranslator": {
   "original_hash": "40586ff9e0ba4574f88e59700b9a0088",
   "translation_date": "2025-08-25T13:33:14+00:00",
   "source_file": "04-prompt-engineering-fundamentals/python/githubmodels-assignment.ipynb",
   "language_code": "my"
  }
 },
 "nbformat": 4,
 "nbformat_minor": 2
}