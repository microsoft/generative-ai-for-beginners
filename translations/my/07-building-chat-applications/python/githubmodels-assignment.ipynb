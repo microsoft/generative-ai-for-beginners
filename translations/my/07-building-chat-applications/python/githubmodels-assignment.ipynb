{
 "cells": [
  {
   "attachments": {},
   "cell_type": "markdown",
   "metadata": {
    "nteract": {
     "transient": {
      "deleting": false
     }
    }
   },
   "source": [
    "# အခန်း ၇ - Chat အက်ပ်လီကေးရှင်းများ တည်ဆောက်ခြင်း\n",
    "## Github Models API အမြန်စတင်အသုံးပြုခြင်း\n",
    "\n",
    "ဒီ notebook ကို [Azure OpenAI Samples Repository](https://github.com/Azure/azure-openai-samples?WT.mc_id=academic-105485-koreyst) မှ ပြင်ဆင်ထားပြီး၊ [Azure OpenAI](notebook-azure-openai.ipynb) ဝန်ဆောင်မှုများကို အသုံးပြုနိုင်သော notebooks များ ပါဝင်သည်။\n"
   ]
  },
  {
   "attachments": {},
   "cell_type": "markdown",
   "metadata": {
    "nteract": {
     "transient": {
      "deleting": false
     }
    }
   },
   "source": [
    "# အနှစ်ချုပ်  \n",
    "\"ကြီးမားသော ဘာသာစကား မော်ဒယ်များသည် စာသားမှ စာသားသို့ ပြောင်းလဲပေးသော လုပ်ဆောင်ချက်များဖြစ်သည်။ စာသားတစ်ကြောင်းကို ထည့်သွင်းလိုက်လျှင်၊ ကြီးမားသော ဘာသာစကား မော်ဒယ်သည် နောက်ထပ် ပေါ်လာမည့် စာသားကို ခန့်မှန်းကြိုးစားသည်\"(1)။ ဒီ \"အမြန်စတင်\" နိုတ်ဘုတ်သည် အသုံးပြုသူများကို LLM အကြောင်းအရာအထွေထွေ၊ AML ကို စတင်အသုံးပြုရန် လိုအပ်သော အဓိက ပက်ကေ့ချ်များ၊ prompt ဒီဇိုင်းအကြောင်း မျှော်မှန်းချက်အနည်းငယ်၊ နှင့် အသုံးအများဆုံး လုပ်ဆောင်ချက်များအတွက် နမူနာတိုများစွာကို မိတ်ဆက်ပေးပါမည်။\n"
   ]
  },
  {
   "attachments": {},
   "cell_type": "markdown",
   "metadata": {
    "nteract": {
     "transient": {
      "deleting": false
     }
    }
   },
   "source": [
    "## အကြောင်းအရာများ  \n",
    "\n",
    "[အနုမြူအကြောင်းအရာ](../../../../07-building-chat-applications/python)  \n",
    "[OpenAI Service ကို ဘယ်လိုအသုံးပြုမလဲ](../../../../07-building-chat-applications/python)  \n",
    "[၁။ OpenAI Service ကို ဖန်တီးခြင်း](../../../../07-building-chat-applications/python)  \n",
    "[၂။ တပ်ဆင်ခြင်း](../../../../07-building-chat-applications/python)    \n",
    "[၃။ အထောက်အထားများ](../../../../07-building-chat-applications/python)  \n",
    "\n",
    "[အသုံးပြုနိုင်သည့်နယ်ပယ်များ](../../../../07-building-chat-applications/python)    \n",
    "[၁။ စာသားအကျဉ်းချုပ်](../../../../07-building-chat-applications/python)  \n",
    "[၂။ စာသားခွဲခြား](../../../../07-building-chat-applications/python)  \n",
    "[၃။ ထုတ်ကုန်အမည်အသစ်များ ဖန်တီးခြင်း](../../../../07-building-chat-applications/python)  \n",
    "[၄။ ခွဲခြားသတ်မှတ်မှုကို ပိုမိုတိကျအောင် ပြင်ဆင်ခြင်း](../../../../07-building-chat-applications/python)  \n",
    "\n",
    "[ကိုးကားချက်များ](../../../../07-building-chat-applications/python)\n"
   ]
  },
  {
   "attachments": {},
   "cell_type": "markdown",
   "metadata": {
    "nteract": {
     "transient": {
      "deleting": false
     }
    }
   },
   "source": [
    "### သင့်ရဲ့ ပထမဆုံး prompt ကို တည်ဆောက်ပါ  \n",
    "ဒီလေ့ကျင့်ခန်းတိုလေးက Github Models မှာ \"အကျဉ်းချုပ်ရေးခြင်း\" ဆိုတဲ့ ရိုးရှင်းတဲ့ တာဝန်အတွက် prompt တစ်ခု တင်သွင်းပုံကို အခြေခံအနေနဲ့ မိတ်ဆက်ပေးမှာပါ။\n",
    "\n",
    "**အဆင့်များ**:  \n",
    "1. သင့်ရဲ့ python ပတ်ဝန်းကျင်ထဲမှာ `azure-ai-inference` library ကို မတပ်ဆင်ရသေးဘူးဆိုရင် တပ်ဆင်ပါ။  \n",
    "2. အသုံးများတဲ့ helper library တွေကို load လုပ်ပြီး Github Models အတွက် credential ကို ပြင်ဆင်ပါ။  \n",
    "3. သင့်လုပ်ဆောင်ချင်တဲ့ တာဝန်အတွက် သင့်တော်တဲ့ model ကို ရွေးချယ်ပါ  \n",
    "4. Model အတွက် ရိုးရှင်းတဲ့ prompt တစ်ခု ဖန်တီးပါ  \n",
    "5. သင့်တောင်းဆိုချက်ကို model API ဆီသို့ တင်သွင်းပါ!\n"
   ]
  },
  {
   "attachments": {},
   "cell_type": "markdown",
   "metadata": {
    "nteract": {
     "transient": {
      "deleting": false
     }
    }
   },
   "source": [
    "### 1. `azure-ai-inference` ကိုတပ်ဆင်ပါ\n"
   ]
  },
  {
   "cell_type": "code",
   "execution_count": null,
   "metadata": {
    "gather": {
     "logged": 1674254990318
    },
    "jupyter": {
     "outputs_hidden": true,
     "source_hidden": false
    },
    "nteract": {
     "transient": {
      "deleting": false
     }
    }
   },
   "outputs": [],
   "source": [
    "%pip install azure-ai-inference"
   ]
  },
  {
   "attachments": {},
   "cell_type": "markdown",
   "metadata": {
    "nteract": {
     "transient": {
      "deleting": false
     }
    }
   },
   "source": []
  },
  {
   "cell_type": "code",
   "execution_count": null,
   "metadata": {
    "gather": {
     "logged": 1674829434433
    },
    "jupyter": {
     "outputs_hidden": false,
     "source_hidden": false
    },
    "nteract": {
     "transient": {
      "deleting": false
     }
    }
   },
   "outputs": [],
   "source": [
    "import os\n",
    "from azure.ai.inference import ChatCompletionsClient\n",
    "from azure.ai.inference.models import SystemMessage, UserMessage\n",
    "from azure.core.credentials import AzureKeyCredential\n",
    "\n",
    "token = os.environ[\"GITHUB_TOKEN\"]\n",
    "endpoint = \"https://models.inference.ai.azure.com\"\n",
    "\n",
    "client = ChatCompletionsClient(\n",
    "    endpoint=endpoint,\n",
    "    credential=AzureKeyCredential(token),\n",
    ")"
   ]
  },
  {
   "attachments": {},
   "cell_type": "markdown",
   "metadata": {
    "nteract": {
     "transient": {
      "deleting": false
     }
    }
   },
   "source": [
    "### 3. မှန်ကန်တဲ့ မော်ဒယ်ကို ရှာဖွေခြင်း  \n",
    "GPT-3.5-turbo သို့မဟုတ် GPT-4 မော်ဒယ်တွေက သဘာဝဘာသာစကားကို နားလည်နိုင်ပြီး၊ စာလုံးများကိုလည်း ဖန်တီးပေးနိုင်ပါတယ်။\n"
   ]
  },
  {
   "cell_type": "code",
   "execution_count": null,
   "metadata": {
    "gather": {
     "logged": 1674742720788
    },
    "jupyter": {
     "outputs_hidden": true,
     "source_hidden": false
    },
    "nteract": {
     "transient": {
      "deleting": false
     }
    }
   },
   "outputs": [],
   "source": [
    "# Select the General Purpose curie model for text\n",
    "model_name = \"gpt-4o\""
   ]
  },
  {
   "attachments": {},
   "cell_type": "markdown",
   "metadata": {
    "nteract": {
     "transient": {
      "deleting": false
     }
    }
   },
   "source": [
    "## 4. Prompt Design  \n",
    "\n",
    "\"ကြီးမားတဲ့ဘာသာစကားမော်ဒယ်တွေဟာ အကြီးအကျယ်သောစာသားအရေအတွက်တွေနဲ့ မမှန်ကန်တဲ့ခန့်မှန်းချက်အမှားကို လျှော့ချဖို့အတွက် လေ့ကျင့်သည့်အခါမှာ၊ ဒီမော်ဒယ်တွေဟာ ဒီခန့်မှန်းချက်တွေအတွက် အသုံးဝင်တဲ့အယူအဆတွေကို သင်ယူသွားကြတယ်။ ဥပမာ၊ သူတို့က အောက်ပါအရာတွေလိုမျိုး အယူအဆတွေကို သင်ယူသွားတယ်\"(1):\n",
    "\n",
    "* စာလုံးပေါင်းရေးနည်း\n",
    "* သဒ္ဒါဘယ်လိုအလုပ်လုပ်သလဲ\n",
    "* စကားပြန်ပြောနည်း\n",
    "* မေးခွန်းတွေကို ဖြေဆိုနည်း\n",
    "* စကားပြောဆိုမှုကို ဆက်လက်ထိန်းသိမ်းနည်း\n",
    "* ဘာသာစကားအမျိုးမျိုးနဲ့ ရေးသားနည်း\n",
    "* ကုဒ်ရေးနည်း\n",
    "* စသည်တို့\n",
    "\n",
    "#### ကြီးမားတဲ့ဘာသာစကားမော်ဒယ်ကို ဘယ်လိုထိန်းချုပ်မလဲ  \n",
    "\"ကြီးမားတဲ့ဘာသာစကားမော်ဒယ်အတွက် input တွေထဲမှာ အရေးကြီးဆုံးကတော့ text prompt ပါပဲ(1)။\n",
    "\n",
    "ကြီးမားတဲ့ဘာသာစကားမော်ဒယ်တွေကို output ထုတ်ဖို့ အောက်ပါနည်းလမ်းအနည်းငယ်နဲ့ prompt လုပ်နိုင်ပါတယ် -\n",
    "\n",
    "Instruction: မော်ဒယ်ကို သင်လိုချင်တာကို တိတိကျကျ ပြောပါ\n",
    "Completion: မော်ဒယ်ကို သင်လိုချင်တာရဲ့အစကို ဆက်ပြီးရေးဖို့ အားပေးပါ\n",
    "Demonstration: မော်ဒယ်ကို သင်လိုချင်တာကို ပြပါ၊ အောက်ပါနည်းလမ်းနှစ်မျိုးနဲ့ -\n",
    "Prompt ထဲမှာ ဥပမာအနည်းငယ်ထည့်ပြပါ\n",
    "Fine-tuning training dataset ထဲမှာ ဥပမာ ရာနဲ့ချီ၊ ထောင်နဲ့ချီ ထည့်ပါ\"\n",
    "\n",
    "\n",
    "\n",
    "#### Prompt တွေဖန်တီးရာမှာ အခြေခံလမ်းညွှန်သုံးချက်ရှိပါတယ် -\n",
    "\n",
    "**ပြပါ၊ ပြောပါ**။ သင်လိုချင်တာကို ညွှန်ကြားချက်၊ ဥပမာ၊ ဒါမှမဟုတ် နှစ်ခုလုံးပေါင်းစပ်ပြီး တိတိကျကျ ဖော်ပြပါ။ သင်မော်ဒယ်ကို အရာဝတ္ထုစာရင်းတစ်ခုကို အက္ခရာစဉ်လိုက် စီခိုင်းချင်တာဖြစ်စေ၊ စာပိုဒ်တစ်ပိုဒ်ကို စိတ်ခံစားမှုအလိုက် ခွဲခြားခိုင်းချင်တာဖြစ်စေ၊ မော်ဒယ်ကို သင်လိုချင်တာကို ပြပါ။\n",
    "\n",
    "**အရည်အသွေးမြင့်ဒေတာပေးပါ**။ သင် classifier တစ်ခုတည်ဆောက်ချင်တာဖြစ်စေ၊ မော်ဒယ်ကို pattern တစ်ခုလိုက်စေချင်တာဖြစ်စေ၊ ဥပမာတွေ လုံလောက်အောင် ထည့်ပေးပါ။ သင်ထည့်တဲ့ ဥပမာတွေကို စစ်ဆေးပါ — မော်ဒယ်က အခြေခံစာလုံးပေါင်းအမှားတွေကို သတိထားနိုင်ပြီး တုံ့ပြန်ချက်ပေးနိုင်ပေမယ့်၊ တခါတလေ ဒီအမှားတွေကို ရည်ရွယ်ချက်ရှိတယ်လို့ ထင်နိုင်ပြီး တုံ့ပြန်ချက်ကို သက်ရောက်စေနိုင်ပါတယ်။\n",
    "\n",
    "**သင့် setting တွေစစ်ပါ။** Temperature နဲ့ top_p setting တွေက မော်ဒယ်က တုံ့ပြန်ချက်ထုတ်တဲ့အခါ ဘယ်လောက်တိကျမှုရှိမလဲဆိုတာ ထိန်းချုပ်ပေးပါတယ်။ တုံ့ပြန်ချက်မှာ တစ်ခုတည်းသော မှန်ကန်တဲ့အဖြေလိုချင်ရင် ဒီ setting တွေကို နိမ့်နိမ့်ထားသင့်ပါတယ်။ မတူညီတဲ့အဖြေမျိုးစုံလိုချင်ရင်တော့ မြင့်မြင့်ထားနိုင်ပါတယ်။ ဒီ setting တွေနဲ့ ပတ်သက်ပြီး လူတွေ အများဆုံးလွဲချော်တာက \"တော်သလား\"၊ \"ဖန်တီးနိုင်စွမ်း\" ကို ထိန်းချုပ်တယ်လို့ ထင်တာပါ။\n",
    "\n",
    "Source: https://learn.microsoft.com/azure/ai-services/openai/overview\n"
   ]
  },
  {
   "attachments": {},
   "cell_type": "markdown",
   "metadata": {
    "nteract": {
     "transient": {
      "deleting": false
     }
    }
   },
   "source": []
  },
  {
   "cell_type": "code",
   "execution_count": null,
   "metadata": {
    "gather": {
     "logged": 1674494935186
    },
    "jupyter": {
     "outputs_hidden": false,
     "source_hidden": false
    },
    "nteract": {
     "transient": {
      "deleting": false
     }
    }
   },
   "outputs": [],
   "source": [
    "# Create your first prompt\n",
    "text_prompt = \"Should oxford commas always be used?\"\n",
    "\n",
    "response = client.complete(\n",
    "  model=model_name,\n",
    "  messages = [{\"role\":\"system\", \"content\":\"You are a helpful assistant.\"},\n",
    "               {\"role\":\"user\",\"content\":text_prompt},])\n",
    "\n",
    "response.choices[0].message.content"
   ]
  },
  {
   "attachments": {},
   "cell_type": "markdown",
   "metadata": {
    "nteract": {
     "transient": {
      "deleting": false
     }
    }
   },
   "source": []
  },
  {
   "cell_type": "code",
   "execution_count": null,
   "metadata": {
    "gather": {
     "logged": 1674494940872
    },
    "jupyter": {
     "outputs_hidden": false,
     "source_hidden": false
    },
    "nteract": {
     "transient": {
      "deleting": false
     }
    }
   },
   "outputs": [],
   "source": [
    "\n",
    "response = client.complete(\n",
    "  model=model_name,\n",
    "  messages = [{\"role\":\"system\", \"content\":\"You are a helpful assistant.\"},\n",
    "               {\"role\":\"user\",\"content\":text_prompt},])\n",
    "\n",
    "response.choices[0].message.content"
   ]
  },
  {
   "attachments": {},
   "cell_type": "markdown",
   "metadata": {
    "nteract": {
     "transient": {
      "deleting": false
     }
    }
   },
   "source": [
    "## စာသားအကျဉ်းချုပ်  \n",
    "#### စိန်ခေါ်မှု  \n",
    "စာသားတစ်ပိုင်းအဆုံးမှာ 'tl;dr:' ဆိုတာထည့်ပြီး အကျဉ်းချုပ်ရေးပါ။ မော်ဒယ်က ထပ်ဆင့်ညွှန်ကြားချက်မရှိဘဲ အလုပ်အမျိုးမျိုးကို ဘယ်လိုလုပ်နိုင်တယ်ဆိုတာ သတိထားကြည့်ပါ။ tl;dr ထက် ပိုအသေးစိတ်ဖော်ပြတဲ့ prompt တွေကို အသုံးပြုလို့ မော်ဒယ်ရဲ့ အကျဉ်းချုပ်ပေးပုံကို ပြောင်းလဲနိုင်ပါတယ်။  \n",
    "\n",
    "လတ်တလော လေ့လာမှုတွေမှာ စာသားအကြီးအကျယ်ကို pre-training လုပ်ပြီးနောက် တိကျတဲ့ task အတွက် fine-tuning လုပ်ခြင်းက NLP task တွေမှာ တော်တော်များများ တိုးတက်မှုတွေ ရရှိလာတယ်ဆိုတာ ပြသထားပါတယ်။ Architecture အနေနဲ့ task-agnostic ဖြစ်ပေမယ့် ဒီနည်းလမ်းကတော့ task-specific fine-tuning datasets အနည်းဆုံး ထောင်ပေါင်းများစွာ လိုအပ်တယ်။ ဒါနဲ့မတူဘဲ လူတွေကတော့ ဥပမာအနည်းငယ် သို့မဟုတ် ရိုးရှင်းတဲ့ညွှန်ကြားချက်တွေနဲ့ ဘာသာစကား task အသစ်ကို လုပ်နိုင်ကြတယ် - ဒါကတော့ ယခု NLP စနစ်တွေမှာ မလွယ်ကူသေးပါဘူး။ ဒီမှာတော့ ဘာသာစကားမော်ဒယ်တွေကို ကြီးမားအောင်လုပ်ခြင်းက task-agnostic, few-shot performance ကို တော်တော်တိုးတက်စေတယ်၊ တခါတလေ state-of-the-art fine-tuning နည်းလမ်းတွေနဲ့ တန်းတူယှဉ်ပြိုင်နိုင်တဲ့အထိ ရောက်နိုင်တယ်ဆိုတာ ပြသထားပါတယ်။\n",
    "\n",
    "\n",
    "\n",
    "Tl;dr\n"
   ]
  },
  {
   "attachments": {},
   "cell_type": "markdown",
   "metadata": {
    "nteract": {
     "transient": {
      "deleting": false
     }
    }
   },
   "source": [
    "# အသုံးအများဆုံး လုပ်ဆောင်ချက်များအတွက် လေ့ကျင့်ခန်းများ  \n",
    "1. စာသားအကျဉ်းချုပ်ရေးခြင်း  \n",
    "2. စာသားအမျိုးအစားခွဲခြားခြင်း  \n",
    "3. ထုတ်ကုန်အမည်အသစ်များ ဖန်တီးရေးခြင်း\n"
   ]
  },
  {
   "cell_type": "code",
   "execution_count": null,
   "metadata": {
    "gather": {
     "logged": 1674495198534
    },
    "jupyter": {
     "outputs_hidden": false,
     "source_hidden": false
    },
    "nteract": {
     "transient": {
      "deleting": false
     }
    }
   },
   "outputs": [],
   "source": [
    "prompt = \"Recent work has demonstrated substantial gains on many NLP tasks and benchmarks by pre-training on a large corpus of text followed by fine-tuning on a specific task. While typically task-agnostic in architecture, this method still requires task-specific fine-tuning datasets of thousands or tens of thousands of examples. By contrast, humans can generally perform a new language task from only a few examples or from simple instructions - something that current NLP systems still largely struggle to do. Here we show that scaling up language models greatly improves task-agnostic, few-shot performance, sometimes even reaching competitiveness with prior state-of-the-art fine-tuning approaches.\\n\\nTl;dr\"\n"
   ]
  },
  {
   "cell_type": "code",
   "execution_count": null,
   "metadata": {
    "gather": {
     "logged": 1674495201868
    },
    "jupyter": {
     "outputs_hidden": false,
     "source_hidden": false
    },
    "nteract": {
     "transient": {
      "deleting": false
     }
    }
   },
   "outputs": [],
   "source": [
    "#Setting a few additional, typical parameters during API Call\n",
    "\n",
    "response = client.complete(\n",
    "  model=model_name,\n",
    "  messages = [{\"role\":\"system\", \"content\":\"You are a helpful assistant.\"},\n",
    "               {\"role\":\"user\",\"content\":prompt},])\n",
    "\n",
    "response.choices[0].message.content"
   ]
  },
  {
   "attachments": {},
   "cell_type": "markdown",
   "metadata": {
    "nteract": {
     "transient": {
      "deleting": false
     }
    }
   },
   "source": [
    "## စာသား ခွဲခြားသတ်မှတ်ခြင်း  \n",
    "#### စိန်ခေါ်မှု  \n",
    "အကြောင်းအရာများကို သတ်မှတ်ပေးထားသော အမျိုးအစားများအတွင်း ခွဲခြားသတ်မှတ်ပါ။ အောက်ပါ ဥပမာတွင် သတ်မှတ်ရန်လိုအပ်သော အမျိုးအစားများနှင့် ခွဲခြားသတ်မှတ်ရန် စာသားကို prompt (*playground_reference) ထဲတွင် တစ်ပြိုင်နက်တည်း ထည့်ပေးထားသည်။\n",
    "\n",
    "ဖောက်သည် မေးမြန်းချက် - ဟယ်လို၊ ကျွန်ုပ်၏ လက်ပ်တော့ကီးဘုတ်ကီးတစ်လုံး မကြာသေးမီက ပျက်သွားလို့ အစားထိုးတစ်လုံး လိုအပ်ပါတယ်။\n",
    "\n",
    "ခွဲခြားသတ်မှတ်ထားသော အမျိုးအစား:\n"
   ]
  },
  {
   "cell_type": "code",
   "execution_count": null,
   "metadata": {
    "gather": {
     "logged": 1674499424645
    },
    "jupyter": {
     "outputs_hidden": false,
     "source_hidden": false
    },
    "nteract": {
     "transient": {
      "deleting": false
     }
    }
   },
   "outputs": [],
   "source": [
    "prompt = \"Classify the following inquiry into one of the following: categories: [Pricing, Hardware Support, Software Support]\\n\\ninquiry: Hello, one of the keys on my laptop keyboard broke recently and I'll need a replacement:\\n\\nClassified category:\"\n",
    "print(prompt)"
   ]
  },
  {
   "cell_type": "code",
   "execution_count": null,
   "metadata": {
    "gather": {
     "logged": 1674499378518
    },
    "jupyter": {
     "outputs_hidden": false,
     "source_hidden": false
    },
    "nteract": {
     "transient": {
      "deleting": false
     }
    }
   },
   "outputs": [],
   "source": [
    "#Setting a few additional, typical parameters during API Call\n",
    "\n",
    "response = client.complete(\n",
    "  model=model_name,\n",
    "  messages = [{\"role\":\"system\", \"content\":\"You are a helpful assistant.\"},\n",
    "               {\"role\":\"user\",\"content\":prompt},])\n",
    "\n",
    "response.choices[0].message.content"
   ]
  },
  {
   "attachments": {},
   "cell_type": "markdown",
   "metadata": {
    "nteract": {
     "transient": {
      "deleting": false
     }
    }
   },
   "source": [
    "## ထုတ်ကုန်အမည်အသစ်များ ဖန်တီးခြင်း\n",
    "#### စိန်ခေါ်မှု\n",
    "ဥပမာစကားလုံးများကို အသုံးပြု၍ ထုတ်ကုန်အမည်များ ဖန်တီးပါ။ ဤနေရာတွင် ထုတ်ကုန်အတွက် အမည်များ ဖန်တီးရန်လိုအပ်သည့် အချက်အလက်များကို prompt ထဲတွင် ထည့်သွင်းထားပါသည်။ ထို့အပြင် မည်သည့်ပုံစံအတိုင်း ရလဒ်ရရှိလိုသည်ကို ပြသရန် ဆင်တူဥပမာတစ်ခုလည်း ပေးထားပါသည်။ ထပ်မံ၍ တုံ့ပြန်မှုများ ပိုမိုဖန်တီးနိုင်စေရန် temperature တန်ဖိုးကို မြင့်တင်ထားပါသည်။\n",
    "\n",
    "ထုတ်ကုန်ဖော်ပြချက် - အိမ်သုံး မုန့်နို့လှုပ်စက်\n",
    "စတင်စကားလုံးများ - မြန်မြန်ဆန်ဆန်၊ ကျန်းမာရေးကောင်း၊ သေးသေးလေး။\n",
    "ထုတ်ကုန်အမည်များ - HomeShaker, Fit Shaker, QuickShake, Shake Maker\n",
    "\n",
    "ထုတ်ကုန်ဖော်ပြချက် - ဘယ်အရွယ်ခြေထောက်မဆို ဝတ်ဆင်နိုင်သော ဖိနပ်တစ်ရံ\n",
    "စတင်စကားလုံးများ - လိုက်လျောညီထွေ၊ ကိုက်ညီမှု၊ omni-fit.\n"
   ]
  },
  {
   "cell_type": "code",
   "execution_count": null,
   "metadata": {
    "gather": {
     "logged": 1674257087279
    },
    "jupyter": {
     "outputs_hidden": false,
     "source_hidden": false
    },
    "nteract": {
     "transient": {
      "deleting": false
     }
    }
   },
   "outputs": [],
   "source": [
    "prompt = \"Product description: A home milkshake maker\\nSeed words: fast, healthy, compact.\\nProduct names: HomeShaker, Fit Shaker, QuickShake, Shake Maker\\n\\nProduct description: A pair of shoes that can fit any foot size.\\nSeed words: adaptable, fit, omni-fit.\"\n",
    "\n",
    "print(prompt)"
   ]
  },
  {
   "cell_type": "code",
   "execution_count": null,
   "metadata": {
    "jupyter": {
     "outputs_hidden": false,
     "source_hidden": false
    },
    "nteract": {
     "transient": {
      "deleting": false
     }
    }
   },
   "outputs": [],
   "source": [
    "#Setting a few additional, typical parameters during API Call\n",
    "\n",
    "response = client.complete(\n",
    "  model=model_name,\n",
    "  messages = [{\"role\":\"system\", \"content\":\"You are a helpful assistant.\"},\n",
    "               {\"role\":\"user\",\"content\":prompt}])\n",
    "\n",
    "response.choices[0].message.content"
   ]
  },
  {
   "attachments": {},
   "cell_type": "markdown",
   "metadata": {
    "nteract": {
     "transient": {
      "deleting": false
     }
    }
   },
   "source": [
    "# ကိုးကားချက်များ  \n",
    "- [Openai Cookbook](https://github.com/openai/openai-cookbook?WT.mc_id=academic-105485-koreyst)  \n",
    "- [OpenAI Studio ဥပမာများ](https://oai.azure.com/portal?WT.mc_id=academic-105485-koreyst)  \n",
    "- [GPT-3 ကို စာသားခွဲခြားဖော်ထုတ်ရန် Fine-tuning ပြုလုပ်ရာတွင် လုပ်သင့်သည့်နည်းလမ်းများ](https://docs.google.com/document/d/1rqj7dkuvl7Byd5KQPUJRxc19BJt8wo0yHNwK84KfU3Q/edit#?WT.mc_id=academic-105485-koreyst)\n"
   ]
  },
  {
   "attachments": {},
   "cell_type": "markdown",
   "metadata": {
    "nteract": {
     "transient": {
      "deleting": false
     }
    }
   },
   "source": [
    "# အကူအညီပိုမိုလိုအပ်ပါက  \n",
    "\n",
    "[OpenAI Commercialization Team](AzureOpenAITeam@microsoft.com)\n"
   ]
  },
  {
   "attachments": {},
   "cell_type": "markdown",
   "metadata": {
    "nteract": {
     "transient": {
      "deleting": false
     }
    }
   },
   "source": [
    "# ပါဝင်သူများ\n",
    "* [Chew-Yean Yam](https://www.linkedin.com/in/cyyam/)\n"
   ]
  },
  {
   "cell_type": "markdown",
   "metadata": {},
   "source": []
  },
  {
   "cell_type": "markdown",
   "metadata": {},
   "source": [
    "\n---\n\n**သတိပြုရန်**:\nဤစာရွက်စာတမ်းကို AI ဘာသာပြန်ဝန်ဆောင်မှု [Co-op Translator](https://github.com/Azure/co-op-translator) ကို အသုံးပြု၍ ဘာသာပြန်ထားပါသည်။ ကျွန်ုပ်တို့သည် တိကျမှန်ကန်မှုအတွက် ကြိုးစားနေသော်လည်း၊ အလိုအလျောက် ဘာသာပြန်ချက်များတွင် အမှားများ သို့မဟုတ် မမှန်ကန်မှုများ ပါဝင်နိုင်သည်ကို သတိပြုပါ။ မူရင်းစာရွက်စာတမ်းကို မူလဘာသာဖြင့်သာ အာဏာတရားရှိသော အရင်းအမြစ်အဖြစ် ယူဆသင့်ပါသည်။ အရေးကြီးသော အချက်အလက်များအတွက် လူ့ဘာသာပြန်ပညာရှင်များ၏ ဝန်ဆောင်မှုကို အသုံးပြုရန် အကြံပြုပါသည်။ ဤဘာသာပြန်ချက်ကို အသုံးပြုခြင်းမှ ဖြစ်ပေါ်လာနိုင်သော နားလည်မှုမှားခြင်းများ သို့မဟုတ် အနားလည်အမှားများအတွက် ကျွန်ုပ်တို့သည် တာဝန်မယူပါ။\n"
   ]
  }
 ],
 "metadata": {
  "kernel_info": {
   "name": "python310-sdkv2"
  },
  "kernelspec": {
   "display_name": "base",
   "language": "python",
   "name": "python3"
  },
  "language_info": {
   "codemirror_mode": {
    "name": "ipython",
    "version": 3
   },
   "file_extension": ".py",
   "mimetype": "text/x-python",
   "name": "python",
   "nbconvert_exporter": "python",
   "pygments_lexer": "ipython3",
   "version": "3.12.4"
  },
  "microsoft": {
   "host": {
    "AzureML": {
     "notebookHasBeenCompleted": true
    }
   }
  },
  "nteract": {
   "version": "nteract-front-end@1.0.0"
  },
  "coopTranslator": {
   "original_hash": "3eeb8e5cad61b52a8366f6259a53ed49",
   "translation_date": "2025-08-25T17:53:54+00:00",
   "source_file": "07-building-chat-applications/python/githubmodels-assignment.ipynb",
   "language_code": "my"
  }
 },
 "nbformat": 4,
 "nbformat_minor": 2
}