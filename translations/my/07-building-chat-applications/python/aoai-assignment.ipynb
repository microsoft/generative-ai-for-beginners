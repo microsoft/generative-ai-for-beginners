{
 "cells": [
  {
   "attachments": {},
   "cell_type": "markdown",
   "metadata": {
    "nteract": {
     "transient": {
      "deleting": false
     }
    }
   },
   "source": [
    "# အခန်း ၇ - Chat Application များ တည်ဆောက်ခြင်း\n",
    "## Azure OpenAI API ကို အလွယ်တကူ စတင်အသုံးပြုခြင်း\n"
   ]
  },
  {
   "attachments": {},
   "cell_type": "markdown",
   "metadata": {
    "nteract": {
     "transient": {
      "deleting": false
     }
    }
   },
   "source": [
    "## အနှစ်ချုပ်\n",
    "ဒီ notebook ကို [Azure OpenAI Samples Repository](https://github.com/Azure/azure-openai-samples?WT.mc_id=academic-105485-koreyst) မှ ပြင်ဆင်ထားတာဖြစ်ပြီး၊ ဒီမှာပါဝင်တဲ့ notebooks တွေကလည်း [OpenAI](notebook-openai.ipynb) service ကို အသုံးပြုနိုင်ပါတယ်။\n",
    "\n",
    "Python OpenAI API ကို Azure OpenAI နဲ့လည်း အသုံးပြုနိုင်ပေမယ့် အနည်းငယ် ပြင်ဆင်ဖို့လိုပါတယ်။ ကွာခြားချက်တွေကို ဒီမှာ ပိုမိုလေ့လာနိုင်ပါတယ် - [How to switch between OpenAI and Azure OpenAI endpoints with Python](https://learn.microsoft.com/azure/ai-services/openai/how-to/switching-endpoints?WT.mc_id=academic-109527-jasmineg)\n",
    "\n",
    "နောက်ထပ် quickstart နမူနာတွေကို ကြည့်ချင်ရင် [Azure OpenAI Quickstart Documentation](https://learn.microsoft.com/azure/cognitive-services/openai/quickstart?pivots=programming-language-studio&WT.mc_id=academic-105485-koreyst) မှာ ရှာဖွေနိုင်ပါတယ်။\n"
   ]
  },
  {
   "attachments": {},
   "cell_type": "markdown",
   "metadata": {
    "nteract": {
     "transient": {
      "deleting": false
     }
    }
   },
   "source": [
    "## အကြောင်းအရာများ  \n",
    "\n",
    "[အနုမြူအကြောင်းအရာ](../../../../07-building-chat-applications/python)  \n",
    "[Azure OpenAI Service ကို စတင်အသုံးပြုခြင်း](../../../../07-building-chat-applications/python)  \n",
    "[ပထမဆုံး Prompt တစ်ခုကို တည်ဆောက်ခြင်း](../../../../07-building-chat-applications/python)  \n",
    "\n",
    "[အသုံးပြုနိုင်သည့်အခြေအနေများ](../../../../07-building-chat-applications/python)    \n",
    "[၁။ စာသားအကျဉ်းချုပ်ရေးခြင်း](../../../../07-building-chat-applications/python)  \n",
    "[၂။ စာသားအမျိုးအစားခွဲခြားခြင်း](../../../../07-building-chat-applications/python)  \n",
    "[၃။ ထုတ်ကုန်အမည်အသစ်များ ဖန်တီးခြင်း](../../../../07-building-chat-applications/python)  \n",
    "[၄။ ခွဲခြားသတ်မှတ်မှုကို ပိုမိုတိကျအောင် ပြင်ဆင်ခြင်း](../../../../07-building-chat-applications/python)  \n",
    "[၅။ Embeddings](../../../../07-building-chat-applications/python)\n",
    "\n",
    "[ကိုးကားချက်များ](../../../../07-building-chat-applications/python)\n"
   ]
  },
  {
   "attachments": {},
   "cell_type": "markdown",
   "metadata": {
    "nteract": {
     "transient": {
      "deleting": false
     }
    }
   },
   "source": [
    "### Azure OpenAI Service ကို စတင်အသုံးပြုခြင်း\n",
    "\n",
    "အသစ်ဝင်ရောက်လာသော အသုံးပြုသူများသည် [Azure OpenAI Service ကို အသုံးပြုခွင့်အတွက် လျှောက်ထားရန်](https://aka.ms/oai/access?WT.mc_id=academic-105485-koreyst) လိုအပ်ပါသည်။  \n",
    "ခွင့်ပြုချက်ရရှိပြီးပါက အသုံးပြုသူများသည် Azure portal သို့ ဝင်ရောက်နိုင်ပြီး Azure OpenAI Service resource တစ်ခုကို ဖန်တီးကာ studio မှတစ်ဆင့် မော်ဒယ်များကို စမ်းသပ်နိုင်ပါသည်။  \n",
    "\n",
    "[အလွယ်တကူ စတင်အသုံးပြုနိုင်ရန် အထောက်အကူပြု အရင်းအမြစ်](https://techcommunity.microsoft.com/blog/educatordeveloperblog/azure-openai-service-is-now-generally-available/3719177?WT.mc_id=academic-105485-koreyst)\n"
   ]
  },
  {
   "attachments": {},
   "cell_type": "markdown",
   "metadata": {
    "nteract": {
     "transient": {
      "deleting": false
     }
    }
   },
   "source": [
    "### သင့်ရဲ့ ပထမဆုံး prompt ကို တည်ဆောက်ပါ  \n",
    "ဒီလေ့ကျင့်ခန်းတိုလေးက OpenAI မော်ဒယ်ကို prompt တစ်ခု တင်သွင်းပေးပြီး \"အကျဉ်းချုပ်ရေးခြင်း\" လုပ်ငန်းလေးအတွက် အခြေခံနည်းလမ်းကို မိတ်ဆက်ပေးပါမယ်။\n",
    "\n",
    "**အဆင့်များ**:  \n",
    "1. သင့်ရဲ့ python ပတ်ဝန်းကျင်ထဲမှာ OpenAI library ကို ထည့်သွင်းပါ  \n",
    "2. သာမန် helper library တွေကို load လုပ်ပြီး သင့်ဖန်တီးထားတဲ့ OpenAI Service အတွက် OpenAI security credentials ကို သတ်မှတ်ပါ  \n",
    "3. သင့်လုပ်ငန်းအတွက် မော်ဒယ်တစ်ခု ရွေးချယ်ပါ  \n",
    "4. မော်ဒယ်အတွက် ရိုးရှင်းတဲ့ prompt တစ်ခု ဖန်တီးပါ  \n",
    "5. မော်ဒယ် API ကို သင့်တောင်းဆိုချက် တင်သွင်းပါ!\n"
   ]
  },
  {
   "attachments": {},
   "cell_type": "markdown",
   "metadata": {
    "nteract": {
     "transient": {
      "deleting": false
     }
    }
   },
   "source": []
  },
  {
   "cell_type": "markdown",
   "metadata": {},
   "source": [
    "> [!NOTE] ဒီအဆင့်ကို Codespaces မှာ သို့မဟုတ် Devcontainer အတွင်းမှာ ဒီ notebook ကို run လုပ်တဲ့အခါ မလိုအပ်ပါ။\n"
   ]
  },
  {
   "cell_type": "code",
   "execution_count": null,
   "metadata": {
    "gather": {
     "logged": 1674254990318
    },
    "jupyter": {
     "outputs_hidden": true,
     "source_hidden": false
    },
    "nteract": {
     "transient": {
      "deleting": false
     }
    }
   },
   "outputs": [],
   "source": [
    "%pip install openai python-dotenv"
   ]
  },
  {
   "attachments": {},
   "cell_type": "markdown",
   "metadata": {
    "nteract": {
     "transient": {
      "deleting": false
     }
    }
   },
   "source": []
  },
  {
   "cell_type": "code",
   "execution_count": null,
   "metadata": {
    "gather": {
     "logged": 1674829434433
    },
    "jupyter": {
     "outputs_hidden": false,
     "source_hidden": false
    },
    "nteract": {
     "transient": {
      "deleting": false
     }
    }
   },
   "outputs": [],
   "source": [
    "import os\n",
    "from openai import AzureOpenAI\n",
    "import numpy as np\n",
    "from dotenv import load_dotenv\n",
    "load_dotenv()\n",
    "\n",
    "#validate data inside .env file\n",
    "\n",
    "client = AzureOpenAI(\n",
    "  api_key=os.environ['AZURE_OPENAI_API_KEY'],  # this is also the default, it can be omitted\n",
    "  api_version = \"2023-05-15\"\n",
    "  )"
   ]
  },
  {
   "attachments": {},
   "cell_type": "markdown",
   "metadata": {
    "nteract": {
     "transient": {
      "deleting": false
     }
    }
   },
   "source": [
    "### 3. မှန်ကန်တဲ့ မော်ဒယ်ကို ရှာဖွေခြင်း  \n",
    "GPT-3.5-turbo နဲ့ GPT-4 မော်ဒယ်တွေက သဘာဝဘာသာစကားကို နားလည်နိုင်ပြီး ဖန်တီးနိုင်ပါတယ်။ ဒီဝန်ဆောင်မှုမှာ မော်ဒယ်စွမ်းရည်လေးမျိုးရှိပြီး တစ်ခုချင်းစီမှာ အားအင်နဲ့ အမြန်နှုန်းကွာခြားမှုရှိလို့ အလုပ်အမျိုးမျိုးအတွက် သင့်တော်တဲ့ မော်ဒယ်ကို ရွေးချယ်နိုင်ပါတယ်။\n",
    "\n",
    "[Azure OpenAI မော်ဒယ်များ](https://learn.microsoft.com/azure/cognitive-services/openai/concepts/models?WT.mc_id=academic-105485-koreyst)\n"
   ]
  },
  {
   "cell_type": "code",
   "execution_count": null,
   "metadata": {
    "gather": {
     "logged": 1674742720788
    },
    "jupyter": {
     "outputs_hidden": true,
     "source_hidden": false
    },
    "nteract": {
     "transient": {
      "deleting": false
     }
    }
   },
   "outputs": [],
   "source": [
    "# Select the General Purpose curie model for text\n",
    "model = os.environ['AZURE_OPENAI_DEPLOYMENT']"
   ]
  },
  {
   "attachments": {},
   "cell_type": "markdown",
   "metadata": {
    "nteract": {
     "transient": {
      "deleting": false
     }
    }
   },
   "source": [
    "## 4. Prompt Design  \n",
    "\n",
    "\"ကြီးမားတဲ့ဘာသာစကားမော်ဒယ်တွေမှာ အံ့သြဖွယ်ကောင်းတာကတော့ များစွာသောစာသားတွေကို ခန့်မှန်းမှုအမှားကိုအနည်းဆုံးဖြစ်အောင် သင်ကြားပေးခြင်းကြောင့် မော်ဒယ်တွေဟာ ဒီခန့်မှန်းမှုတွေအတွက် အသုံးဝင်တဲ့အယူအဆတွေကို သင်ယူသွားတယ်။ ဥပမာ၊ သူတို့ဟာ အောက်ပါအရာတွေကို သင်ယူနိုင်တယ်\"(1):\n",
    "\n",
    "* စာလုံးပေါင်းရေးနည်း\n",
    "* သဒ္ဒါအလုပ်လုပ်ပုံ\n",
    "* စကားပြန်ရေးနည်း\n",
    "* မေးခွန်းဖြေတတ်ပုံ\n",
    "* စကားပြောဆက်သွယ်တတ်ပုံ\n",
    "* ဘာသာစကားအမျိုးမျိုးနဲ့ရေးတတ်ပုံ\n",
    "* ကုဒ်ရေးတတ်ပုံ\n",
    "* စသည်တို့\n",
    "\n",
    "#### ကြီးမားတဲ့ဘာသာစကားမော်ဒယ်ကို ဘယ်လိုထိန်းချုပ်မလဲ  \n",
    "\"ကြီးမားတဲ့ဘာသာစကားမော်ဒယ်ကို ထိရောက်ဆုံးထိန်းချုပ်နိုင်တဲ့ input ကတော့ text prompt ပါပဲ(1)။\n",
    "\n",
    "ကြီးမားတဲ့ဘာသာစကားမော်ဒယ်တွေကို အောက်ပါနည်းလမ်းအချို့နဲ့ output ထုတ်စေဖို့ prompt လုပ်နိုင်ပါတယ်-\n",
    "\n",
    "- Instruction: မော်ဒယ်ကို သင်လိုချင်တာကို တိုက်ရိုက်ပြောပါ\n",
    "- Completion: သင်လိုချင်တာရဲ့အစကို မော်ဒယ်ကို ဖြည့်စေပါ\n",
    "- Demonstration: သင်လိုချင်တာကို မော်ဒယ်ကို ပြပါ၊ အောက်ပါနည်းလမ်းနှစ်မျိုးနဲ့-\n",
    "- Prompt ထဲမှာ ဥပမာအနည်းငယ်ထည့်ပါ\n",
    "- Fine-tuning training dataset မှာ ဥပမာရာပေါင်းများစွာထည့်ပါ\n",
    "\n",
    "\n",
    "\n",
    "#### Prompt ဖန်တီးရာမှာ အခြေခံလမ်းညွှန်သုံးချက်ရှိပါတယ်:\n",
    "\n",
    "**ပြပါ၊ ပြောပါ**။ သင်လိုချင်တာကို instruction, example, ဒါမှမဟုတ် နှစ်ခုလုံးပေါင်းပြီး ရှင်းလင်းစွာဖော်ပြပါ။ ဥပမာ၊ မော်ဒယ်ကို စာရင်းတစ်ခုကို အက္ခရာစဥ်အလိုက်စီစေချင်တာ၊ ဒါမှမဟုတ် စာပိုဒ်တစ်ခုကို စိတ်ခံစားမှုအလိုက်ခွဲစေချင်တာဆိုရင်၊ အဲဒါကို ပြပါ။\n",
    "\n",
    "**အရည်အသွေးမြင့်ဒေတာပေးပါ**။ သင် classifier တစ်ခုတည်ဆောက်ချင်တာ၊ ဒါမှမဟုတ် မော်ဒယ်ကို pattern တစ်ခုလိုက်စေချင်တာဆိုရင်၊ ဥပမာလုံလောက်အောင်ထည့်ပေးပါ။ ဥပမာတွေကို စစ်ဆေးပြီးမှထည့်ပါ — မော်ဒယ်က အခြေခံစာလုံးပေါင်းအမှားတွေကို ချက်ချင်းသိနိုင်ပေမယ့်၊ တခါတလေ အဲဒါကို ရည်ရွယ်ချက်ရှိတယ်လို့ထင်ပြီး ဖြေကြားမှုကို သက်ရောက်စေနိုင်ပါတယ်။\n",
    "\n",
    "**Setting တွေစစ်ပါ။** temperature နဲ့ top_p setting တွေက မော်ဒယ်က ဖြေကြားမှုထုတ်တဲ့အခါ deterministic ဖြစ်ပုံကို ထိန်းချုပ်ပါတယ်။ ဖြေကြားမှုတစ်ခုမှာ တစ်ခုတည်းသောဖြေကြားမှုမှန်ရှိတယ်ဆိုရင်၊ ဒီ setting တွေကို နိမ့်ထားသင့်ပါတယ်။ မတူညီတဲ့ဖြေကြားမှုများစွာလိုချင်ရင်တော့ မြင့်ထားသင့်ပါတယ်။ လူတွေက ဒီ setting တွေကို \"တော်တော်လေး\" ဒါမှမဟုတ် \"ဖန်တီးနိုင်စွမ်း\" ကိုထိန်းချုပ်တယ်လို့ ထင်မှားတတ်ပါတယ်။\n",
    "\n",
    "\n",
    "Source: https://learn.microsoft.com/azure/ai-services/openai/overview\n"
   ]
  },
  {
   "attachments": {},
   "cell_type": "markdown",
   "metadata": {
    "nteract": {
     "transient": {
      "deleting": false
     }
    }
   },
   "source": []
  },
  {
   "attachments": {},
   "cell_type": "markdown",
   "metadata": {
    "nteract": {
     "transient": {
      "deleting": false
     }
    }
   },
   "source": []
  },
  {
   "cell_type": "code",
   "execution_count": null,
   "metadata": {
    "gather": {
     "logged": 1674494935186
    },
    "jupyter": {
     "outputs_hidden": false,
     "source_hidden": false
    },
    "nteract": {
     "transient": {
      "deleting": false
     }
    }
   },
   "outputs": [],
   "source": [
    "# Create your first prompt\n",
    "text_prompt = \"Should oxford commas always be used?\"\n",
    "\n",
    "response = client.chat.completions.create(\n",
    "  model=model,\n",
    "  messages = [{\"role\":\"system\", \"content\":\"You are a helpful assistant.\"},\n",
    "               {\"role\":\"user\",\"content\":text_prompt},])\n",
    "\n",
    "response.choices[0].message.content"
   ]
  },
  {
   "attachments": {},
   "cell_type": "markdown",
   "metadata": {
    "nteract": {
     "transient": {
      "deleting": false
     }
    }
   },
   "source": []
  },
  {
   "cell_type": "code",
   "execution_count": null,
   "metadata": {
    "gather": {
     "logged": 1674494940872
    },
    "jupyter": {
     "outputs_hidden": false,
     "source_hidden": false
    },
    "nteract": {
     "transient": {
      "deleting": false
     }
    }
   },
   "outputs": [],
   "source": [
    "\n",
    "response = client.chat.completions.create(\n",
    "  model=model,\n",
    "  messages = [{\"role\":\"system\", \"content\":\"You are a helpful assistant.\"},\n",
    "               {\"role\":\"user\",\"content\":text_prompt},])\n",
    "\n",
    "response.choices[0].message.content"
   ]
  },
  {
   "attachments": {},
   "cell_type": "markdown",
   "metadata": {
    "nteract": {
     "transient": {
      "deleting": false
     }
    }
   },
   "source": [
    "## အကြောင်းအရာကို အကျဉ်းချုပ်ပါ  \n",
    "#### စိန်ခေါ်မှု  \n",
    "စာသားတစ်ပိုဒ်အဆုံးမှာ 'tl;dr:' ဆိုတာထည့်ပြီး အကျဉ်းချုပ်ရေးပါ။ မည်သည့်အထူးညွှန်ကြားချက်မရှိဘဲ မော်ဒယ်က တာဝန်အမျိုးမျိုးကို ဘယ်လိုနားလည်ပြီး ဆောင်ရွက်နိုင်တယ်ဆိုတာ သတိပြုကြည့်ပါ။ tl;dr ထက် ပိုအသေးစိတ်ဖော်ပြတဲ့ prompt တွေကို အသုံးပြုပြီး မော်ဒယ်ရဲ့ အပြုအမူကို ပြောင်းလဲနိုင်သလို၊ သင်လိုချင်တဲ့ အကျဉ်းချုပ်ကိုလည်း စိတ်ကြိုက်ပြင်ဆင်နိုင်ပါတယ်(3)။\n",
    "\n",
    "မကြာသေးခင်က လုပ်ဆောင်ထားတဲ့ လေ့လာမှုတွေမှာ စာသားအကြီးအကျယ်ကို ကြိုတင်လေ့ကျင့်ပြီးနောက် တိကျတဲ့ တာဝန်အတွက် ထပ်မံသေချာစွာ လေ့ကျင့်ခြင်းဖြင့် NLP တာဝန်အမျိုးမျိုးနဲ့ စမ်းသပ်မှုတွေမှာ တိုးတက်မှုအလွန်များစွာ ရရှိနိုင်ကြောင်း ပြသထားပါတယ်။ မော်ဒယ်ဖွဲ့စည်းပုံအရ တာဝန်ပေါ်မူတည်မှုမရှိသော်လည်း၊ ဒီနည်းလမ်းက တစ်ခါတစ်ရံ တစ်ထောင်၊ တစ်သောင်းနဲ့ချီတဲ့ ဥပမာတွေပါဝင်တဲ့ တာဝန်အလိုက် လေ့ကျင့်မှုဒေတာအစုအဝေးတွေကို လိုအပ်နေဆဲပါ။ ဒါနဲ့မတူဘဲ လူတွေက ဥပမာအနည်းငယ် သို့မဟုတ် ရိုးရှင်းတဲ့ညွှန်ကြားချက်နဲ့ပဲ ဘာသာစကားဆိုင်ရာ တာဝန်အသစ်ကို အများအားဖြင့် လုပ်ဆောင်နိုင်ကြပါတယ်။ ဒါပေမယ့် လက်ရှိ NLP စနစ်တွေကတော့ ဒီလိုလုပ်နိုင်ဖို့ အခက်အခဲရှိနေဆဲပါ။ ဒီမှာတော့ ဘာသာစကားမော်ဒယ်တွေကို ပိုကြီးမားအောင် တိုးချဲ့သုံးစွဲခြင်းက တာဝန်မပေါ်မူတည်တဲ့ few-shot performance ကို အလွန်တိုးတက်စေပြီး၊ တစ်ခါတစ်ရံမှာတော့ ယခင် state-of-the-art fine-tuning နည်းလမ်းတွေနဲ့တောင် ယှဉ်ပြိုင်နိုင်အောင် ဖြစ်လာကြောင်း ပြသထားပါတယ်။\n",
    "\n",
    "\n",
    "\n",
    "Tl;dr\n"
   ]
  },
  {
   "attachments": {},
   "cell_type": "markdown",
   "metadata": {
    "nteract": {
     "transient": {
      "deleting": false
     }
    }
   },
   "source": [
    "# အသုံးအများဆုံး လေ့ကျင့်ခန်းများ\n",
    "\n",
    "1. စာသားအကျဉ်းချုပ်ရေးခြင်း  \n",
    "2. စာသားအမျိုးအစားခွဲခြားခြင်း  \n",
    "3. ထုတ်ကုန်အမည်အသစ်များ ဖန်တီးရေးခြင်း  \n",
    "4. Embeddings  \n",
    "5. Classifier ကို ပိုမိုတိကျအောင် ပြင်ဆင်ခြင်း\n"
   ]
  },
  {
   "cell_type": "code",
   "execution_count": null,
   "metadata": {
    "gather": {
     "logged": 1674495198534
    },
    "jupyter": {
     "outputs_hidden": false,
     "source_hidden": false
    },
    "nteract": {
     "transient": {
      "deleting": false
     }
    }
   },
   "outputs": [],
   "source": [
    "prompt = \"Recent work has demonstrated substantial gains on many NLP tasks and benchmarks by pre-training on a large corpus of text followed by fine-tuning on a specific task. While typically task-agnostic in architecture, this method still requires task-specific fine-tuning datasets of thousands or tens of thousands of examples. By contrast, humans can generally perform a new language task from only a few examples or from simple instructions - something that current NLP systems still largely struggle to do. Here we show that scaling up language models greatly improves task-agnostic, few-shot performance, sometimes even reaching competitiveness with prior state-of-the-art fine-tuning approaches.\\n\\ntl;dr\"\n"
   ]
  },
  {
   "cell_type": "code",
   "execution_count": null,
   "metadata": {
    "gather": {
     "logged": 1674495201868
    },
    "jupyter": {
     "outputs_hidden": false,
     "source_hidden": false
    },
    "nteract": {
     "transient": {
      "deleting": false
     }
    }
   },
   "outputs": [],
   "source": [
    "#Setting a few additional, typical parameters during API Call\n",
    "\n",
    "response = client.chat.completions.create(\n",
    "  model=model,\n",
    "  messages = [{\"role\":\"system\", \"content\":\"You are a helpful assistant.\"},\n",
    "               {\"role\":\"user\",\"content\":prompt},])\n",
    "\n",
    "response.choices[0].message.content"
   ]
  },
  {
   "attachments": {},
   "cell_type": "markdown",
   "metadata": {
    "nteract": {
     "transient": {
      "deleting": false
     }
    }
   },
   "source": [
    "## စာသား ခွဲခြားသတ်မှတ်ခြင်း  \n",
    "#### စိန်ခေါ်မှု  \n",
    "အကြောင်းအရာများကို သတ်မှတ်ပေးထားသော အမျိုးအစားများအတွင်း ခွဲခြားသတ်မှတ်ပါ။ အောက်ပါ ဥပမာတွင်တော့ ခွဲခြားသတ်မှတ်ရန် အမျိုးအစားများနှင့် စာသားကို prompt (*playground_reference) ထဲတွင် တစ်ပြိုင်နက်တည်း ပေးထားပါသည်။\n",
    "\n",
    "ဖောက်သည် မေးမြန်းချက် - ဟယ်လို၊ ကျွန်ုပ်၏ လက်ပ်တော့ကီးဘုတ်က သော့တစ်လုံး မကြာသေးမီက ပျက်သွားလို့ အစားထိုးတစ်လုံး လိုအပ်ပါတယ်။\n",
    "\n",
    "ခွဲခြားသတ်မှတ်ထားသော အမျိုးအစား:\n"
   ]
  },
  {
   "cell_type": "code",
   "execution_count": null,
   "metadata": {
    "gather": {
     "logged": 1674499424645
    },
    "jupyter": {
     "outputs_hidden": false,
     "source_hidden": false
    },
    "nteract": {
     "transient": {
      "deleting": false
     }
    }
   },
   "outputs": [],
   "source": [
    "prompt = \"Classify the following inquiry into one of the following: categories: [Pricing, Hardware Support, Software Support]\\n\\ninquiry: Hello, one of the keys on my laptop keyboard broke recently and I'll need a replacement:\\n\\nClassified category:\"\n",
    "print(prompt)"
   ]
  },
  {
   "cell_type": "code",
   "execution_count": null,
   "metadata": {
    "gather": {
     "logged": 1674499378518
    },
    "jupyter": {
     "outputs_hidden": false,
     "source_hidden": false
    },
    "nteract": {
     "transient": {
      "deleting": false
     }
    }
   },
   "outputs": [],
   "source": [
    "#Setting a few additional, typical parameters during API Call\n",
    "\n",
    "response = client.chat.completions.create(\n",
    "  model=model,\n",
    "  messages = [{\"role\":\"system\", \"content\":\"You are a helpful assistant.\"},\n",
    "               {\"role\":\"user\",\"content\":prompt},])\n",
    "\n",
    "response.choices[0].message.content"
   ]
  },
  {
   "attachments": {},
   "cell_type": "markdown",
   "metadata": {
    "nteract": {
     "transient": {
      "deleting": false
     }
    }
   },
   "source": [
    "## ထုတ်ကုန်အမည်အသစ်များ ဖန်တီးခြင်း\n",
    "#### စိန်ခေါ်မှု\n",
    "ဥပမာစကားလုံးများကို အသုံးပြု၍ ထုတ်ကုန်အမည်များ ဖန်တီးပါ။ ဤနေရာတွင် ထုတ်ကုန်အမည်ဖန်တီးရန် သက်ဆိုင်သော ထုတ်ကုန်အကြောင်းအရာကို prompt ထဲတွင် ထည့်သွင်းဖော်ပြထားသည်။ ထို့အပြင် မည်သည့်ပုံစံအတိုင်း ရရှိလိုသည်ကို ပြသရန် ဆင်တူဥပမာတစ်ခုလည်း ပေးထားသည်။ ထပ်မံ၍ တုံ့ပြန်မှုများ ပိုမိုဖန်တီးနိုင်စေရန် temperature တန်ဖိုးကို မြင့်မြင့်ထားသည်။\n",
    "\n",
    "ထုတ်ကုန်ဖော်ပြချက် - အိမ်သုံး မုန့်နို့လှုပ်စက်\n",
    "စတင်စကားလုံးများ - မြန်မြန်, ကျန်းမာ, သေးသေးလေး။\n",
    "ထုတ်ကုန်အမည်များ - HomeShaker, Fit Shaker, QuickShake, Shake Maker\n",
    "\n",
    "ထုတ်ကုန်ဖော်ပြချက် - ဘယ်အရွယ်ခြေထောက်မဆို ဝတ်ဆင်နိုင်သော ဖိနပ်တစ်ရံ။\n",
    "စတင်စကားလုံးများ - လိုက်လျောညီထွေ, ကိုက်ညီမှု, omni-fit.\n"
   ]
  },
  {
   "cell_type": "code",
   "execution_count": null,
   "metadata": {
    "gather": {
     "logged": 1674257087279
    },
    "jupyter": {
     "outputs_hidden": false,
     "source_hidden": false
    },
    "nteract": {
     "transient": {
      "deleting": false
     }
    }
   },
   "outputs": [],
   "source": [
    "prompt = \"Product description: A home milkshake maker\\nSeed words: fast, healthy, compact.\\nProduct names: HomeShaker, Fit Shaker, QuickShake, Shake Maker\\n\\nProduct description: A pair of shoes that can fit any foot size.\\nSeed words: adaptable, fit, omni-fit.\"\n",
    "\n",
    "print(prompt)"
   ]
  },
  {
   "cell_type": "code",
   "execution_count": null,
   "metadata": {
    "jupyter": {
     "outputs_hidden": false,
     "source_hidden": false
    },
    "nteract": {
     "transient": {
      "deleting": false
     }
    }
   },
   "outputs": [],
   "source": [
    "#Setting a few additional, typical parameters during API Call\n",
    "\n",
    "response = client.chat.completions.create(\n",
    "  model=model,\n",
    "  messages = [{\"role\":\"system\", \"content\":\"You are a helpful assistant.\"},\n",
    "               {\"role\":\"user\",\"content\":prompt}])\n",
    "\n",
    "response.choices[0].message.content"
   ]
  },
  {
   "attachments": {},
   "cell_type": "markdown",
   "metadata": {
    "nteract": {
     "transient": {
      "deleting": false
     }
    }
   },
   "source": [
    "## Embeddings\n",
    "ဒီအပိုင်းမှာ embedding တွေကို ဘယ်လိုရယူရမလဲ၊ စကားလုံးတွေ၊ ဝါကျတွေ၊ စာတမ်းတွေကြားမှာ ဆင်တူမှုတွေကို ဘယ်လိုရှာဖွေရမလဲဆိုတာ ပြသပေးပါမယ်။ အောက်ပါ notebook တွေကို အသုံးပြုဖို့အတွက် `text-embedding-ada-002` ကို base model အနေနဲ့ အသုံးပြုထားတဲ့ model ကို deploy လုပ်ထားရမယ်။ ပြီးတော့ deployment name ကို .env ဖိုင်ထဲမှာ `AZURE_OPENAI_EMBEDDINGS_DEPLOYMENT` variable နဲ့ သတ်မှတ်ပေးရပါမယ်။\n"
   ]
  },
  {
   "attachments": {},
   "cell_type": "markdown",
   "metadata": {
    "nteract": {
     "transient": {
      "deleting": false
     }
    }
   },
   "source": [
    "### မော်ဒယ်အမျိုးအစား - Embedding မော်ဒယ်ရွေးချယ်ခြင်း\n",
    "\n",
    "**မော်ဒယ်အမျိုးအစား**: {family} - {capability} - {input-type} - {identifier}  \n",
    "\n",
    "{family}     --> text-embedding  (embedding မျိုးစု)  \n",
    "{capability} --> ada             (အခြား embedding မော်ဒယ်အားလုံးကို 2024 မှာ ရပ်ဆိုင်းသွားမယ်)  \n",
    "{input-type} --> n/a             (search မော်ဒယ်တွေအတွက်သာ သတ်မှတ်ထားတာ)  \n",
    "{identifier} --> 002             (ဗားရှင်း 002)  \n",
    "\n",
    "model = 'text-embedding-ada-002'\n"
   ]
  },
  {
   "cell_type": "markdown",
   "metadata": {},
   "source": [
    "> [!NOTE] Codespaces သို့မဟုတ် Devcontainer အတွင်းတွင် ဤ notebook ကို run လုပ်ပါက အောက်ပါအဆင့်သည် လိုအပ်ခြင်းမရှိပါ။\n"
   ]
  },
  {
   "cell_type": "code",
   "execution_count": null,
   "metadata": {},
   "outputs": [],
   "source": [
    "# Dependencies for embeddings_utils\n",
    "%pip install matplotlib plotly scikit-learn pandas"
   ]
  },
  {
   "cell_type": "code",
   "execution_count": null,
   "metadata": {
    "gather": {
     "logged": 1674829364153
    },
    "jupyter": {
     "outputs_hidden": false,
     "source_hidden": false
    },
    "nteract": {
     "transient": {
      "deleting": false
     }
    }
   },
   "outputs": [],
   "source": [
    "def cosine_similarity(a, b):\n",
    "    return np.dot(a, b) / (np.linalg.norm(a) * np.linalg.norm(b))"
   ]
  },
  {
   "cell_type": "code",
   "execution_count": null,
   "metadata": {
    "gather": {
     "logged": 1674829424097
    },
    "jupyter": {
     "outputs_hidden": false,
     "source_hidden": false
    },
    "nteract": {
     "transient": {
      "deleting": false
     }
    }
   },
   "outputs": [],
   "source": [
    "text = 'the quick brown fox jumped over the lazy dog'\n",
    "model= os.environ['AZURE_OPENAI_EMBEDDINGS_DEPLOYMENT']\n",
    "client.embeddings.create(input='[text]', model=model).data[0].embedding"
   ]
  },
  {
   "cell_type": "code",
   "execution_count": null,
   "metadata": {
    "gather": {
     "logged": 1674829555255
    },
    "jupyter": {
     "outputs_hidden": false,
     "source_hidden": false
    },
    "nteract": {
     "transient": {
      "deleting": false
     }
    }
   },
   "outputs": [],
   "source": [
    "\n",
    "# compare several words\n",
    "automobile_embedding  = client.embeddings.create(input='automobile', model=model).data[0].embedding\n",
    "vehicle_embedding     = client.embeddings.create(input='vehicle', model=model).data[0].embedding\n",
    "dinosaur_embedding    = client.embeddings.create(input='dinosaur', model=model).data[0].embedding\n",
    "stick_embedding       = client.embeddings.create(input='stick', model=model).data[0].embedding\n",
    "\n",
    "print(cosine_similarity(automobile_embedding, vehicle_embedding))\n",
    "print(cosine_similarity(automobile_embedding, dinosaur_embedding))\n",
    "print(cosine_similarity(automobile_embedding, stick_embedding))"
   ]
  },
  {
   "attachments": {},
   "cell_type": "markdown",
   "metadata": {
    "nteract": {
     "transient": {
      "deleting": false
     }
    }
   },
   "source": [
    "## cnn daily news dataset မှ ဆောင်းပါးများကို နှိုင်းယှဉ်ခြင်း\n",
    "ရင်းမြစ် - https://huggingface.co/datasets/cnn_dailymail\n"
   ]
  },
  {
   "cell_type": "code",
   "execution_count": null,
   "metadata": {
    "gather": {
     "logged": 1674831122093
    },
    "jupyter": {
     "outputs_hidden": false,
     "source_hidden": false
    },
    "nteract": {
     "transient": {
      "deleting": false
     }
    }
   },
   "outputs": [],
   "source": [
    "import pandas as pd\n",
    "cnn_daily_articles = ['BREMEN, Germany -- Carlos Alberto, who scored in FC Porto\\'s Champions League final victory against Monaco in 2004, has joined Bundesliga club Werder Bremen for a club record fee of 7.8 million euros ($10.7 million). Carlos Alberto enjoyed success at FC Porto under Jose Mourinho. \"I\\'m here to win titles with Werder,\" the 22-year-old said after his first training session with his new club. \"I like Bremen and would only have wanted to come here.\" Carlos Alberto started his career with Fluminense, and helped them to lift the Campeonato Carioca in 2002. In January 2004 he moved on to FC Porto, who were coached by José Mourinho, and the club won the Portuguese title as well as the Champions League. Early in 2005, he moved to Corinthians, where he impressed as they won the Brasileirão,but in 2006 Corinthians had a poor season and Carlos Alberto found himself at odds with manager, Emerson Leão. Their poor relationship came to a climax at a Copa Sul-Americana game against Club Atlético Lanús, and Carlos Alberto declared that he would not play for Corinthians again while Leão remained as manager. Since January this year he has been on loan with his first club Fluminense. Bundesliga champions VfB Stuttgart said on Sunday that they would sign a loan agreement with Real Zaragoza on Monday for Ewerthon, the third top Brazilian player to join the German league in three days. A VfB spokesman said Ewerthon, who played in the Bundesliga for Borussia Dortmund from 2001 to 2005, was expected to join the club for their pre-season training in Austria on Monday. On Friday, Ailton returned to Germany where he was the league\\'s top scorer in 2004, signing a one-year deal with Duisburg on a transfer from Red Star Belgrade. E-mail to a friend .',\n",
    "                        '(CNN) -- Football superstar, celebrity, fashion icon, multimillion-dollar heartthrob. Now, David Beckham is headed for the Hollywood Hills as he takes his game to U.S. Major League Soccer. CNN looks at how Bekham fulfilled his dream of playing for Manchester United, and his time playing for England. The world\\'s famous footballer has begun a five-year contract with the Los Angeles Galaxy team, and on Friday Beckham will meet the press and reveal his new shirt number. This week, we take an in depth look at the life and times of Beckham, as CNN\\'s very own \"Becks,\" Becky Anderson, sets out to examine what makes the man tick -- as footballer, fashion icon and global phenomenon. It\\'s a long way from the streets of east London to the Hollywood Hills and Becky charts Beckham\\'s incredible rise to football stardom, a journey that has seen his skills grace the greatest stages in world soccer. She goes in pursuit of the current hottest property on the sports/celebrity circuit in the U.S. and along the way explores exactly what\\'s behind the man with the golden boot. CNN will look back at the life of Beckham, the wonderfully talented youngster who fulfilled his dream of playing for Manchester United, his marriage to pop star Victoria, and the trials and tribulations of playing for England. We\\'ll look at the highs (scoring against Greece), the lows (being sent off during the World Cup), the Man. U departure for the Galacticos of Madrid -- and now the Home Depot stadium in L.A. We\\'ll ask how Beckham and his family will adapt to life in Los Angeles -- the people, the places to see and be seen and the celebrity endorsement. Beckham is no stranger to exposure. He has teamed with Reggie Bush in an Adidas commercial, is the face of Motorola, is the face on a PlayStation game and doesn\\'t need fashion tips as he has his own international clothing line. But what does the star couple need to do to become an accepted part of Tinseltown\\'s glitterati? The road to major league football in the U.S.A. is a well-worn route for some of the world\\'s greatest players. We talk to some of the former greats who came before him and examine what impact these overseas stars had on U.S. soccer and look at what is different now. We also get a rare glimpse inside the David Beckham academy in L.A, find out what drives the kids and who are their heroes. The perception that in the U.S.A. soccer is a \"game for girls\" after the teenage years is changing. More and more young kids are choosing the European game over the traditional U.S. sports. E-mail to a friend .',\n",
    "                        'LOS ANGELES, California (CNN) -- Youssif, the 5-year-old burned Iraqi boy, rounded the corner at Universal Studios when suddenly the little boy hero met his favorite superhero. Youssif has always been a huge Spider-Man fan. Meeting him was \"my favorite thing,\" he said. Spider-Man was right smack dab in front of him, riding a four-wheeler amid a convoy of other superheroes. The legendary climber of buildings and fighter of evil dismounted, walked over to Youssif and introduced himself. Spidey then gave the boy from a far-away land a gentle hug, embracing him in his iconic blue and red tights. He showed Youssif a few tricks, like how to shoot a web from his wrist. Only this time, no web was spun. \"All right Youssif!\" Spider-Man said after the boy mimicked his wrist movement. Other superheroes crowded around to get a closer look. Even the Green Goblin stopped his villainous ways to tell the boy hi. Youssif remained unfazed. He didn\\'t take a liking to Spider-Man\\'s nemesis. Spidey was just too cool. \"It was my favorite thing,\" the boy said later. \"I want to see him again.\" He then felt compelled to add: \"I know it\\'s not the real Spider-Man.\" This was the day of dreams when the boy\\'s nightmares were, at least temporarily, forgotten. He met SpongeBob, Lassie and a 3-year-old orangutan named Archie. The hairy, brownish-red primate took to the boy, grabbing his hand and holding it. Even when Youssif pulled away, Archie would inch his hand back toward the boy\\'s and then snatch it. See Youssif enjoy being a boy again » . The boy giggled inside a play area where sponge-like balls shot out of toy guns. It was a far different artillery than what he was used to seeing in central Baghdad, as recently as a week ago. He squealed with delight and raced around the room collecting as many balls as he could. He rode a tram through the back stages at Universal Studios. At one point, the car shook. Fire and smoke filled the air, debris cascaded down and a big rig skidded toward the vehicle. The boy and his family survived the pretend earthquake unscathed. \"Even I was scared,\" the dad said. \"Well, I wasn\\'t,\" Youssif replied. The father and mother grinned from ear to ear throughout the day. Youssif pushed his 14-month-old sister, Ayaa, in a stroller. \"Did you even need to ask us if we were interested in coming here?\" Youssif\\'s father said in amazement. \"Other than my wedding day, this is the happiest day of my life,\" he said. Just a day earlier, the mother and father talked about their journey out of Iraq and to the United States. They also discussed that day nine months ago when masked men grabbed their son outside the family home, doused him in gas and set him on fire. His mother heard her boy screaming from inside. The father sought help for his boy across Baghdad, but no one listened. He remembers his son\\'s two months of hospitalization. The doctors didn\\'t use anesthetics. He could hear his boy\\'s piercing screams from the other side of the hospital. Watch Youssif meet his doctor and play with his little sister » . The father knew that speaking to CNN would put his family\\'s lives in jeopardy. The possibility of being killed was better than seeing his son suffer, he said. \"Anything for Youssif,\" he said. \"We had to do it.\" They described a life of utter chaos in Baghdad. Neighbors had recently given birth to a baby girl. Shortly afterward, the father was kidnapped and killed. Then, there was the time when some girls wore tanktops and jeans. They were snatched off the street by gunmen. The stories can be even more gruesome. The couple said they had heard reports that a young girl was kidnapped and beheaded --and her killers sewed a dog\\'s head on the corpse and delivered it to her family\\'s doorstep. \"These are just some of the stories,\" said Youssif\\'s mother, Zainab. Under Saddam Hussein, there was more security and stability, they said. There was running water and electricity most of the time. But still life was tough under the dictator, like the time when Zainab\\'s uncle disappeared and was never heard from again after he read a \"religious book,\" she said. Sitting in the parking lot of a Target in suburban Los Angeles, Youssif\\'s father watched as husbands and wives, boyfriends and girlfriends, parents and their children, came and went. Some held hands. Others smiled and laughed. \"Iraq finished,\" he said in what few English words he knows. He elaborated in Arabic: His homeland won\\'t be enjoying such freedoms anytime soon. It\\'s just not possible. Too much violence. Too many killings. His two children have only seen war. But this week, the family has seen a much different side of America -- an outpouring of generosity and a peaceful nation at home. \"It\\'s been a dream,\" the father said. He used to do a lot of volunteer work back in Baghdad. \"Maybe that\\'s why I\\'m being helped now,\" the father said. At Universal Studios, he looked out across the valley below. The sun glistened off treetops and buildings. It was a picturesque sight fit for a Hollywood movie. \"Good America, good America,\" he said in English. E-mail to a friend . CNN\\'s Arwa Damon contributed to this report.'\n",
    "]\n",
    "\n",
    "cnn_daily_article_highlights = ['Werder Bremen pay a club record $10.7 million for Carlos Alberto .\\nThe Brazilian midfielder won the Champions League with FC Porto in 2004 .\\nSince January he has been on loan with his first club, Fluminense .',\n",
    "                                'Beckham has agreed to a five-year contract with Los Angeles Galaxy .\\nNew contract took effect July 1, 2007 .\\nFormer English captain to meet press, unveil new shirt number Friday .\\nCNN to look at Beckham as footballer, fashion icon and global phenomenon .',\n",
    "                                'Boy on meeting Spider-Man: \"It was my favorite thing\"\\nYoussif also met SpongeBob, Lassie and an orangutan at Universal Studios .\\nDad: \"Other than my wedding day, this is the happiest day of my life\"'\n",
    "]\n",
    "\n",
    "cnn_df = pd.DataFrame({\"articles\":cnn_daily_articles, \"highligths\":cnn_daily_article_highlights})\n",
    "\n",
    "cnn_df.head()"
   ]
  },
  {
   "cell_type": "code",
   "execution_count": null,
   "metadata": {
    "gather": {
     "logged": 1674831294043
    },
    "jupyter": {
     "outputs_hidden": false,
     "source_hidden": false
    },
    "nteract": {
     "transient": {
      "deleting": false
     }
    }
   },
   "outputs": [],
   "source": [
    "article1_embedding    = client.embeddings.create(input=cnn_df.articles.iloc[0], model=model).data[0].embedding\n",
    "article2_embedding    = client.embeddings.create(input=cnn_df.articles.iloc[1], model=model).data[0].embedding\n",
    "article3_embedding    = client.embeddings.create(input=cnn_df.articles.iloc[2], model=model).data[0].embedding\n",
    "\n",
    "print(cosine_similarity(article1_embedding, article2_embedding))\n",
    "print(cosine_similarity(article1_embedding, article3_embedding))"
   ]
  },
  {
   "attachments": {},
   "cell_type": "markdown",
   "metadata": {
    "nteract": {
     "transient": {
      "deleting": false
     }
    }
   },
   "source": [
    "# ကိုးကားချက်များ  \n",
    "- [Azure Documentation - Azure OpenAI Models](https://learn.microsoft.com/azure/cognitive-services/openai/concepts/models?WT.mc_id=academic-105485-koreyst)  \n",
    "- [OpenAI Studio Examples](https://oai.azure.com/portal?WT.mc_id=academic-105485-koreyst)\n"
   ]
  },
  {
   "attachments": {},
   "cell_type": "markdown",
   "metadata": {
    "nteract": {
     "transient": {
      "deleting": false
     }
    }
   },
   "source": [
    "# အကူအညီပိုမိုလိုအပ်ပါက  \n",
    "\n",
    "[OpenAI Commercialization Team](AzureOpenAITeam@microsoft.com)\n"
   ]
  },
  {
   "attachments": {},
   "cell_type": "markdown",
   "metadata": {
    "nteract": {
     "transient": {
      "deleting": false
     }
    }
   },
   "source": [
    "# ပါဝင်သူများ\n",
    "* Louis Li\n"
   ]
  },
  {
   "cell_type": "markdown",
   "metadata": {},
   "source": [
    "\n---\n\n**သတိပြုရန်**:\nဤစာရွက်စာတမ်းကို AI ဘာသာပြန်ဝန်ဆောင်မှု [Co-op Translator](https://github.com/Azure/co-op-translator) ကို အသုံးပြု၍ ဘာသာပြန်ထားပါသည်။ ကျွန်ုပ်တို့သည် တိကျမှန်ကန်မှုအတွက် ကြိုးစားနေသော်လည်း၊ အလိုအလျောက်ဘာသာပြန်ခြင်းတွင် အမှားများ သို့မဟုတ် မမှန်ကန်မှုများ ပါဝင်နိုင်သည်ကို သတိပြုပါ။ မူရင်းစာရွက်စာတမ်းကို မူလဘာသာဖြင့်သာ အာဏာတရားရှိသော အရင်းအမြစ်အဖြစ် ယူဆသင့်ပါသည်။ အရေးကြီးသော အချက်အလက်များအတွက် လူ့ဘာသာပြန်ပညာရှင်များ၏ ဝန်ဆောင်မှုကို အသုံးပြုရန် အကြံပြုပါသည်။ ဤဘာသာပြန်ချက်ကို အသုံးပြုခြင်းမှ ဖြစ်ပေါ်လာသော နားလည်မှုမှားခြင်း သို့မဟုတ် အနားလည်အမှားများအတွက် ကျွန်ုပ်တို့သည် တာဝန်မယူပါ။\n"
   ]
  }
 ],
 "metadata": {
  "kernel_info": {
   "name": "python310-sdkv2"
  },
  "kernelspec": {
   "display_name": "base",
   "language": "python",
   "name": "python3"
  },
  "language_info": {
   "codemirror_mode": {
    "name": "ipython",
    "version": 3
   },
   "file_extension": ".py",
   "mimetype": "text/x-python",
   "name": "python",
   "nbconvert_exporter": "python",
   "pygments_lexer": "ipython3",
   "version": "3.10.13"
  },
  "microsoft": {
   "host": {
    "AzureML": {
     "notebookHasBeenCompleted": true
    }
   }
  },
  "nteract": {
   "version": "nteract-front-end@1.0.0"
  },
  "coopTranslator": {
   "original_hash": "0d1caa6c42ad19d6268f0ea38a1f6421",
   "translation_date": "2025-08-25T17:13:44+00:00",
   "source_file": "07-building-chat-applications/python/aoai-assignment.ipynb",
   "language_code": "my"
  }
 },
 "nbformat": 4,
 "nbformat_minor": 2
}