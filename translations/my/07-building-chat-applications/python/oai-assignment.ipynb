{
 "cells": [
  {
   "attachments": {},
   "cell_type": "markdown",
   "metadata": {
    "nteract": {
     "transient": {
      "deleting": false
     }
    }
   },
   "source": [
    "# အခန်း ၇ - Chat အက်ပ်လီကေးရှင်းများ တည်ဆောက်ခြင်း\n",
    "## OpenAI API အမြန်စတင်လေ့လာခြင်း\n",
    "\n",
    "ဒီ notebook ကို [Azure OpenAI Samples Repository](https://github.com/Azure/azure-openai-samples?WT.mc_id=academic-105485-koreyst) မှ ပြင်ဆင်ထားတာဖြစ်ပြီး၊ [Azure OpenAI](notebook-azure-openai.ipynb) ဝန်ဆောင်မှုများကို အသုံးပြုနိုင်တဲ့ notebooks တွေပါဝင်ပါတယ်။\n",
    "\n",
    "Python OpenAI API ကို Azure OpenAI Models တွေနဲ့လည်း အသုံးပြုနိုင်ပါတယ်၊ အနည်းငယ် ပြင်ဆင်ရမယ့်အချက်လေးတွေရှိပါတယ်။ ကွာခြားချက်တွေကို ဒီမှာ နောက်ထပ်လေ့လာနိုင်ပါတယ် - [OpenAI နဲ့ Azure OpenAI endpoint တွေကို Python နဲ့ ဘယ်လိုပြောင်းလဲအသုံးပြုမလဲ](https://learn.microsoft.com/azure/ai-services/openai/how-to/switching-endpoints?WT.mc_id=academic-109527-jasmineg)\n"
   ]
  },
  {
   "attachments": {},
   "cell_type": "markdown",
   "metadata": {
    "nteract": {
     "transient": {
      "deleting": false
     }
    }
   },
   "source": [
    "# အနှစ်ချုပ်  \n",
    "\"ကြီးမားသော ဘာသာစကား မော်ဒယ်များသည် စာသားမှ စာသားသို့ ပြောင်းလဲပေးသော လုပ်ဆောင်ချက်များဖြစ်သည်။ စာသားတစ်ကြောင်းကို ထည့်သွင်းလိုက်ပါက၊ ကြီးမားသော ဘာသာစကား မော်ဒယ်သည် နောက်ထပ်လာမည့် စာသားကို ခန့်မှန်းကြိုးစားပေးသည်\"(1)။ ဒီ \"အမြန်စတင်\" နိုတ်ဘုတ်သည် အသုံးပြုသူများကို LLM အကြောင်းအရာအထွေထွေ၊ AML ကို စတင်အသုံးပြုရန် လိုအပ်သော အဓိကပက်ကေ့ချ်များ၊ prompt ဒီဇိုင်းအကြောင်း မျှသာမိတ်ဆက်ခြင်းနှင့် အသုံးပြုနိုင်သည့် ကွဲပြားသော နမူနာအသုံးပြုမှုအချို့ကို တင်ပြပေးသွားပါမည်။\n"
   ]
  },
  {
   "attachments": {},
   "cell_type": "markdown",
   "metadata": {
    "nteract": {
     "transient": {
      "deleting": false
     }
    }
   },
   "source": [
    "## အကြောင်းအရာများ\n",
    "\n",
    "[အနုတ်အဖျား](../../../../07-building-chat-applications/python)  \n",
    "[OpenAI Service ကို ဘယ်လို အသုံးပြုမလဲ](../../../../07-building-chat-applications/python)  \n",
    "[1. ကိုယ်ပိုင် OpenAI Service တစ်ခု ဖန်တီးခြင်း](../../../../07-building-chat-applications/python)  \n",
    "[2. တပ်ဆင်ခြင်း](../../../../07-building-chat-applications/python)  \n",
    "[3. အထောက်အထားများ](../../../../07-building-chat-applications/python)  \n",
    "\n",
    "[အသုံးပြုနိုင်သော နယ်ပယ်များ](../../../../07-building-chat-applications/python)  \n",
    "[1. စာသားအကျဉ်းချုပ်ရေးခြင်း](../../../../07-building-chat-applications/python)  \n",
    "[2. စာသားအမျိုးအစား ခွဲခြားခြင်း](../../../../07-building-chat-applications/python)  \n",
    "[3. ထုတ်ကုန်အမည်အသစ်များ ဖန်တီးခြင်း](../../../../07-building-chat-applications/python)  \n",
    "[4. Classifier ကို ပိုမိုကောင်းမွန်အောင် ပြင်ဆင်ခြင်း](../../../../07-building-chat-applications/python)  \n",
    "\n",
    "[ကိုးကားချက်များ](../../../../07-building-chat-applications/python)\n"
   ]
  },
  {
   "attachments": {},
   "cell_type": "markdown",
   "metadata": {
    "nteract": {
     "transient": {
      "deleting": false
     }
    }
   },
   "source": [
    "### သင့်ရဲ့ပထမဆုံး prompt ကို တည်ဆောက်ပါ  \n",
    "ဒီလက်တွေ့လေ့ကျင့်ခန်းလေးက OpenAI မော်ဒယ်ကို \"အကျဉ်းချုပ်ရေး\" လုပ်ငန်းအတွက် prompt တင်သွင်းပုံအခြေခံကို မိတ်ဆက်ပေးပါမယ်။\n",
    "\n",
    "**အဆင့်များ**:  \n",
    "1. သင့် python ပတ်ဝန်းကျင်မှာ OpenAI library ကို install လုပ်ပါ  \n",
    "2. သာမန် helper library တွေကို load လုပ်ပြီး သင့်ဖန်တီးထားတဲ့ OpenAI Service အတွက် လုံခြုံရေး credentials တွေကို သတ်မှတ်ပါ  \n",
    "3. သင့်လုပ်ငန်းအတွက် မော်ဒယ်တစ်ခုရွေးပါ  \n",
    "4. မော်ဒယ်အတွက် ရိုးရှင်းတဲ့ prompt တစ်ခုရေးပါ  \n",
    "5. မော်ဒယ် API ကို သင့်တင်သွင်းချက်ကို တင်ပါ!\n"
   ]
  },
  {
   "attachments": {},
   "cell_type": "markdown",
   "metadata": {
    "nteract": {
     "transient": {
      "deleting": false
     }
    }
   },
   "source": []
  },
  {
   "cell_type": "code",
   "execution_count": null,
   "metadata": {
    "gather": {
     "logged": 1674254990318
    },
    "jupyter": {
     "outputs_hidden": true,
     "source_hidden": false
    },
    "nteract": {
     "transient": {
      "deleting": false
     }
    }
   },
   "outputs": [],
   "source": [
    "%pip install openai python-dotenv"
   ]
  },
  {
   "attachments": {},
   "cell_type": "markdown",
   "metadata": {
    "nteract": {
     "transient": {
      "deleting": false
     }
    }
   },
   "source": []
  },
  {
   "cell_type": "code",
   "execution_count": null,
   "metadata": {
    "gather": {
     "logged": 1674829434433
    },
    "jupyter": {
     "outputs_hidden": false,
     "source_hidden": false
    },
    "nteract": {
     "transient": {
      "deleting": false
     }
    }
   },
   "outputs": [],
   "source": [
    "import os\n",
    "from openai import OpenAI\n",
    "from dotenv import load_dotenv\n",
    "\n",
    "load_dotenv()\n",
    "\n",
    "API_KEY = os.getenv(\"OPENAI_API_KEY\",\"\")\n",
    "assert API_KEY, \"ERROR: OpenAI Key is missing\"\n",
    "\n",
    "client = OpenAI(\n",
    "    api_key=API_KEY\n",
    "    )\n"
   ]
  },
  {
   "attachments": {},
   "cell_type": "markdown",
   "metadata": {
    "nteract": {
     "transient": {
      "deleting": false
     }
    }
   },
   "source": [
    "### 3. မှန်ကန်တဲ့ မော်ဒယ်ကို ရှာဖွေခြင်း  \n",
    "GPT-3.5-turbo သို့မဟုတ် GPT-4 မော်ဒယ်တွေက သဘာဝဘာသာစကားကို နားလည်နိုင်ပြီး၊ စာသားအသစ်တွေကိုလည်း ဖန်တီးပေးနိုင်ပါတယ်။\n"
   ]
  },
  {
   "cell_type": "code",
   "execution_count": null,
   "metadata": {
    "gather": {
     "logged": 1674742720788
    },
    "jupyter": {
     "outputs_hidden": true,
     "source_hidden": false
    },
    "nteract": {
     "transient": {
      "deleting": false
     }
    }
   },
   "outputs": [],
   "source": [
    "# Select the General Purpose curie model for text\n",
    "model = \"gpt-3.5-turbo\""
   ]
  },
  {
   "attachments": {},
   "cell_type": "markdown",
   "metadata": {
    "nteract": {
     "transient": {
      "deleting": false
     }
    }
   },
   "source": [
    "## 4. Prompt Design  \n",
    "\n",
    "\"ကြီးမားတဲ့ ဘာသာစကား မော်ဒယ်တွေမှာ အံ့သြစရာကောင်းတာကတော့ များပြားတဲ့ စာသားတွေကို ခန့်မှန်းမှားမှုကို လျှော့ချဖို့ သင်ကြားပေးခြင်းကြောင့်၊ ဒီမော်ဒယ်တွေဟာ ခန့်မှန်းချက်တွေအတွက် အသုံးဝင်တဲ့ အယူအဆတွေကို သင်ယူသွားနိုင်တာပါ။ ဥပမာ၊ သူတို့က အောက်ပါအရာတွေကို သင်ယူသွားပါတယ်\"(1):\n",
    "\n",
    "* စာလုံးပေါင်းရေးနည်း\n",
    "* သဒ္ဒါအလုပ်လုပ်ပုံ\n",
    "* စကားပြန်ရေးနည်း\n",
    "* မေးခွန်းများကို ဖြေဆိုပုံ\n",
    "* စကားပြောဆွေးနွေးပုံ\n",
    "* ဘာသာစကားအမျိုးမျိုးနဲ့ စာရေးပုံ\n",
    "* ကုဒ်ရေးနည်း\n",
    "* စသည်တို့\n",
    "\n",
    "#### ကြီးမားတဲ့ ဘာသာစကား မော်ဒယ်ကို ဘယ်လိုထိန်းချုပ်မလဲ  \n",
    "\"ကြီးမားတဲ့ ဘာသာစကား မော်ဒယ်အတွက် အရေးကြီးဆုံး input ကတော့ text prompt ပါပဲ(1)။\n",
    "\n",
    "ကြီးမားတဲ့ ဘာသာစကား မော်ဒယ်တွေကို output ထုတ်ဖို့ အောက်ပါနည်းလမ်းအချို့နဲ့ prompt လုပ်နိုင်ပါတယ်-\n",
    "\n",
    "Instruction: မော်ဒယ်ကို သင်လိုချင်တာကို တိတိကျကျ ပြောပါ\n",
    "Completion: မော်ဒယ်ကို သင်လိုချင်တာရဲ့အစကို ဆက်ပြီးရေးစေပါ\n",
    "Demonstration: မော်ဒယ်ကို သင်လိုချင်တာကို ပြပါ၊ အောက်ပါနည်းလမ်းနှစ်ခုထဲက တစ်ခုနဲ့-\n",
    "Prompt ထဲမှာ ဥပမာအနည်းငယ်ထည့်ပြပါ\n",
    "Fine-tuning training dataset ထဲမှာ ဥပမာ ရာနဲ့ချီ၊ ထောင်နဲ့ချီ ထည့်ပါ\"\n",
    "\n",
    "\n",
    "\n",
    "#### Prompt တွေဖန်တီးရာမှာ အခြေခံလမ်းညွှန်သုံးချက်ရှိပါတယ်-\n",
    "\n",
    "**ပြပါ၊ ပြောပါ**။ သင်လိုချင်တာကို ညွှန်ကြားချက်၊ ဥပမာ၊ ဒါမှမဟုတ် နှစ်ခုလုံးပေါင်းပြီး တိတိကျကျ ဖော်ပြပါ။ ဥပမာ၊ မော်ဒယ်ကို စာရင်းတစ်ခုကို အက္ခရာစဉ်လိုက် စီခိုင်းချင်တာဖြစ်စေ၊ စာပိုဒ်တစ်ခုကို စိတ်ခံစားမှုအလိုက် ခွဲခြားခိုင်းချင်တာဖြစ်စေ၊ သင်လိုချင်တာကို ဥပမာနဲ့ ပြပါ။\n",
    "\n",
    "**အရည်အသွေးမြင့် ဒေတာပေးပါ**။ Classifier တစ်ခုတည်ဆောက်ချင်တာဖြစ်စေ၊ မော်ဒယ်ကို ပုံစံတစ်ခုလိုက်အောင်လုပ်ချင်တာဖြစ်စေ၊ ဥပမာလုံလောက်အောင် ထည့်ပေးပါ။ ဥပမာတွေကို စာလုံးပေါင်းမှားတာမရှိအောင် ပြန်စစ်ပါ — မော်ဒယ်က အခြေခံစာလုံးပေါင်းမှားတာတွေကို သတိထားနိုင်ပေမယ့်၊ တခါတလေ အဲဒါကို ရည်ရွယ်ချက်ရှိတယ်လို့ ထင်ပြီး ဖြေသွားနိုင်ပါတယ်။\n",
    "\n",
    "**Setting တွေစစ်ပါ**။ Temperature နဲ့ top_p setting တွေက မော်ဒယ်က ဖြေတဲ့အခါ ဘယ်လောက်တိကျတယ်ဆိုတာ ထိန်းချုပ်ပေးပါတယ်။ ဖြေဖို့ တစ်ခုတည်းသော မှန်ကန်တဲ့အဖြေရှိတဲ့အခါမှာ ဒီ setting တွေကို နိမ့်နိမ့်ထားသင့်ပါတယ်။ မတူညီတဲ့အဖြေများစွာလိုချင်ရင်တော့ မြင့်မြင့်ထားနိုင်ပါတယ်။ လူတွေ အများဆုံးလွဲချော်တာက ဒီ setting တွေကို \"တော်သလား\"၊ \"ဖန်တီးနိုင်စွမ်း\" ထိန်းချုပ်တဲ့အရာလို့ ထင်တာပါ။\n",
    "\n",
    "Source: https://learn.microsoft.com/azure/ai-services/openai/overview\n"
   ]
  },
  {
   "attachments": {},
   "cell_type": "markdown",
   "metadata": {
    "nteract": {
     "transient": {
      "deleting": false
     }
    }
   },
   "source": []
  },
  {
   "cell_type": "code",
   "execution_count": null,
   "metadata": {
    "gather": {
     "logged": 1674494935186
    },
    "jupyter": {
     "outputs_hidden": false,
     "source_hidden": false
    },
    "nteract": {
     "transient": {
      "deleting": false
     }
    }
   },
   "outputs": [],
   "source": [
    "# Create your first prompt\n",
    "text_prompt = \"Should oxford commas always be used?\"\n",
    "\n",
    "response = client.chat.completions.create(\n",
    "  model=model,\n",
    "  messages = [{\"role\":\"system\", \"content\":\"You are a helpful assistant.\"},\n",
    "               {\"role\":\"user\",\"content\":text_prompt},])\n",
    "\n",
    "response.choices[0].message.content"
   ]
  },
  {
   "attachments": {},
   "cell_type": "markdown",
   "metadata": {
    "nteract": {
     "transient": {
      "deleting": false
     }
    }
   },
   "source": []
  },
  {
   "cell_type": "code",
   "execution_count": null,
   "metadata": {
    "gather": {
     "logged": 1674494940872
    },
    "jupyter": {
     "outputs_hidden": false,
     "source_hidden": false
    },
    "nteract": {
     "transient": {
      "deleting": false
     }
    }
   },
   "outputs": [],
   "source": [
    "\n",
    "response = client.chat.completions.create(\n",
    "  model=model,\n",
    "  messages = [{\"role\":\"system\", \"content\":\"You are a helpful assistant.\"},\n",
    "               {\"role\":\"user\",\"content\":text_prompt},])\n",
    "\n",
    "response.choices[0].message.content"
   ]
  },
  {
   "attachments": {},
   "cell_type": "markdown",
   "metadata": {
    "nteract": {
     "transient": {
      "deleting": false
     }
    }
   },
   "source": [
    "## စာသားအကျဉ်းချုပ်  \n",
    "#### စိန်ခေါ်မှု  \n",
    "စာသားတစ်ပိုဒ်အဆုံးမှာ 'tl;dr:' ဆိုတာထည့်ပြီး အကျဉ်းချုပ်ရေးပါ။ မည်သည့်အမိန့်ထပ်မံမပေးဘဲနဲ့ပင် မော်ဒယ်က တာဝန်အမျိုးမျိုးကို ဘယ်လိုလုပ်နိုင်တယ်ဆိုတာ သတိထားကြည့်ပါ။ tl;dr ထက် ပိုအသေးစိတ်ဖော်ပြတဲ့ prompt တွေကို အသုံးပြုပြီး မော်ဒယ်ရဲ့ အကျဉ်းချုပ်ပေးပုံကို ပြောင်းလဲနိုင်ပါတယ်။  \n",
    "\n",
    "လတ်တလော လေ့လာမှုတွေက စာသားအကြီးစားအစုအဝေးကို ကြိုတင်လေ့ကျင့်ပြီးနောက် တိကျတဲ့တာဝန်အတွက် ထပ်မံလေ့ကျင့်ခြင်းဖြင့် NLP တာဝန်အမျိုးမျိုးနဲ့ စမ်းသပ်မှုတွေမှာ တိုးတက်မှုအလွန်များစွာရရှိနိုင်ကြောင်း ပြသထားပါတယ်။ မူလတန်းမှာတော့ ဒီနည်းလမ်းဟာ တာဝန်ပေါ်မူတည်မှုမရှိပေမယ့် တာဝန်အလိုက် Fine-tuning လုပ်ဖို့ ဥပမာထောင်ချီ သို့မဟုတ် သောင်းချီလိုအပ်ပါတယ်။ ဒါနဲ့မတူဘဲ လူတွေကတော့ ဥပမာအနည်းငယ် သို့မဟုတ် လွယ်ကူတဲ့ညွှန်ကြားချက်နဲ့ ဘာသာစကားဆိုင်ရာ တာဝန်အသစ်ကို အများအားဖြင့် လုပ်နိုင်ကြပါတယ်။ ဒါပေမယ့် လက်ရှိ NLP စနစ်တွေကတော့ ဒီလိုလုပ်နိုင်ဖို့ အခက်အခဲရှိနေဆဲပါ။ ဒီမှာတော့ ဘာသာစကားမော်ဒယ်တွေကို ပိုကြီးမားအောင် တိုးချဲ့သုံးစွဲခြင်းက တာဝန်ပေါ်မူတည်မှုမရှိတဲ့ few-shot performance ကို အလွန်တိုးတက်စေပြီး တစ်ခါတစ်လေမှာတော့ ယခင် state-of-the-art fine-tuning နည်းလမ်းတွေနဲ့တောင် ယှဉ်ပြိုင်နိုင်အောင် ဖြစ်လာကြောင်း ပြသထားပါတယ်။\n",
    "\n",
    "\n",
    "\n",
    "Tl;dr\n"
   ]
  },
  {
   "attachments": {},
   "cell_type": "markdown",
   "metadata": {
    "nteract": {
     "transient": {
      "deleting": false
     }
    }
   },
   "source": [
    "# အသုံးအများဆုံး လေ့ကျင့်ခန်းများ\n",
    "\n",
    "1. စာသားအကျဉ်းချုပ်ရေးခြင်း  \n",
    "2. စာသားအမျိုးအစားခွဲခြားခြင်း  \n",
    "3. ထုတ်ကုန်အမည်အသစ်များ ဖန်တီးရေးခြင်း\n"
   ]
  },
  {
   "cell_type": "code",
   "execution_count": null,
   "metadata": {
    "gather": {
     "logged": 1674495198534
    },
    "jupyter": {
     "outputs_hidden": false,
     "source_hidden": false
    },
    "nteract": {
     "transient": {
      "deleting": false
     }
    }
   },
   "outputs": [],
   "source": [
    "prompt = \"Recent work has demonstrated substantial gains on many NLP tasks and benchmarks by pre-training on a large corpus of text followed by fine-tuning on a specific task. While typically task-agnostic in architecture, this method still requires task-specific fine-tuning datasets of thousands or tens of thousands of examples. By contrast, humans can generally perform a new language task from only a few examples or from simple instructions - something that current NLP systems still largely struggle to do. Here we show that scaling up language models greatly improves task-agnostic, few-shot performance, sometimes even reaching competitiveness with prior state-of-the-art fine-tuning approaches.\\n\\nTl;dr\"\n"
   ]
  },
  {
   "cell_type": "code",
   "execution_count": null,
   "metadata": {
    "gather": {
     "logged": 1674495201868
    },
    "jupyter": {
     "outputs_hidden": false,
     "source_hidden": false
    },
    "nteract": {
     "transient": {
      "deleting": false
     }
    }
   },
   "outputs": [],
   "source": [
    "#Setting a few additional, typical parameters during API Call\n",
    "\n",
    "response = client.chat.completions.create(\n",
    "  model=model,\n",
    "  messages = [{\"role\":\"system\", \"content\":\"You are a helpful assistant.\"},\n",
    "               {\"role\":\"user\",\"content\":prompt},])\n",
    "\n",
    "response.choices[0].message.content"
   ]
  },
  {
   "attachments": {},
   "cell_type": "markdown",
   "metadata": {
    "nteract": {
     "transient": {
      "deleting": false
     }
    }
   },
   "source": [
    "## စာသား ခွဲခြားသတ်မှတ်ခြင်း  \n",
    "#### စိန်ခေါ်မှု  \n",
    "အကြောင်းအရာများကို သတ်မှတ်ပေးထားသော အမျိုးအစားများအတွင်း သတ်မှတ်ခွဲခြားပါ။ အောက်ပါ ဥပမာတွင် အမျိုးအစားများနှင့် ခွဲခြားရန် စာသားကို prompt (*playground_reference) ထဲတွင် တစ်ပြိုင်နက်တည်း ပေးထားပါသည်။\n",
    "\n",
    "ဖောက်သည် မေးမြန်းချက် - ဟယ်လို၊ ကျွန်ုပ်၏ လက်ပ်တော့ကီးဘုတ်က သော့တစ်လုံး မကြာသေးမီက ပျက်သွားလို့ အသစ်တစ်လုံး လိုအပ်ပါတယ်။\n",
    "\n",
    "ခွဲခြားသတ်မှတ်ထားသော အမျိုးအစား:\n"
   ]
  },
  {
   "cell_type": "code",
   "execution_count": null,
   "metadata": {
    "gather": {
     "logged": 1674499424645
    },
    "jupyter": {
     "outputs_hidden": false,
     "source_hidden": false
    },
    "nteract": {
     "transient": {
      "deleting": false
     }
    }
   },
   "outputs": [],
   "source": [
    "prompt = \"Classify the following inquiry into one of the following: categories: [Pricing, Hardware Support, Software Support]\\n\\ninquiry: Hello, one of the keys on my laptop keyboard broke recently and I'll need a replacement:\\n\\nClassified category:\"\n",
    "print(prompt)"
   ]
  },
  {
   "cell_type": "code",
   "execution_count": null,
   "metadata": {
    "gather": {
     "logged": 1674499378518
    },
    "jupyter": {
     "outputs_hidden": false,
     "source_hidden": false
    },
    "nteract": {
     "transient": {
      "deleting": false
     }
    }
   },
   "outputs": [],
   "source": [
    "#Setting a few additional, typical parameters during API Call\n",
    "\n",
    "response = client.chat.completions.create(\n",
    "  model=model,\n",
    "  messages = [{\"role\":\"system\", \"content\":\"You are a helpful assistant.\"},\n",
    "               {\"role\":\"user\",\"content\":prompt},])\n",
    "\n",
    "response.choices[0].message.content"
   ]
  },
  {
   "attachments": {},
   "cell_type": "markdown",
   "metadata": {
    "nteract": {
     "transient": {
      "deleting": false
     }
    }
   },
   "source": [
    "## ထုတ်ကုန်အမည်အသစ်များ ဖန်တီးခြင်း\n",
    "#### စိန်ခေါ်မှု\n",
    "ဥပမာစကားလုံးများကို အသုံးပြု၍ ထုတ်ကုန်အမည်များ ဖန်တီးပါ။ ဤနေရာတွင် ထုတ်ကုန်အတွက် အမည်များ ဖန်တီးရန်လိုအပ်သည့် အချက်အလက်များကို prompt ထဲတွင် ထည့်သွင်းထားပါသည်။ ထို့အပြင် မည်သည့်ပုံစံအတိုင်း ရလဒ်ရရှိလိုသည်ကို ပြသရန် ဆင်တူဥပမာတစ်ခုလည်း ပံ့ပိုးထားပါသည်။ ထပ်မံ၍ တုံ့ပြန်မှုများ ပိုမိုဖန်တီးနိုင်စေရန် temperature တန်ဖိုးကို မြင့်တင်ထားပါသည်။\n",
    "\n",
    "ထုတ်ကုန်ဖော်ပြချက် - အိမ်သုံး မုန့်နို့လှုပ်စက်\n",
    "စတင်စကားလုံးများ - အမြန်, ကျန်းမာ, သေးငယ်\n",
    "ထုတ်ကုန်အမည်များ - HomeShaker, Fit Shaker, QuickShake, Shake Maker\n",
    "\n",
    "ထုတ်ကုန်ဖော်ပြချက် - ဘယ်အရွယ်ခြေထောက်မဆို ဝတ်ဆင်နိုင်သော ဖိနပ်တစ်ရံ\n",
    "စတင်စကားလုံးများ - လိုက်လျောညီထွေ, ကိုက်ညီမှု, omni-fit\n"
   ]
  },
  {
   "cell_type": "code",
   "execution_count": null,
   "metadata": {
    "gather": {
     "logged": 1674257087279
    },
    "jupyter": {
     "outputs_hidden": false,
     "source_hidden": false
    },
    "nteract": {
     "transient": {
      "deleting": false
     }
    }
   },
   "outputs": [],
   "source": [
    "prompt = \"Product description: A home milkshake maker\\nSeed words: fast, healthy, compact.\\nProduct names: HomeShaker, Fit Shaker, QuickShake, Shake Maker\\n\\nProduct description: A pair of shoes that can fit any foot size.\\nSeed words: adaptable, fit, omni-fit.\"\n",
    "\n",
    "print(prompt)"
   ]
  },
  {
   "cell_type": "code",
   "execution_count": null,
   "metadata": {
    "jupyter": {
     "outputs_hidden": false,
     "source_hidden": false
    },
    "nteract": {
     "transient": {
      "deleting": false
     }
    }
   },
   "outputs": [],
   "source": [
    "#Setting a few additional, typical parameters during API Call\n",
    "\n",
    "response = client.chat.completions.create(\n",
    "  model=model,\n",
    "  messages = [{\"role\":\"system\", \"content\":\"You are a helpful assistant.\"},\n",
    "               {\"role\":\"user\",\"content\":prompt}])\n",
    "\n",
    "response.choices[0].message.content"
   ]
  },
  {
   "attachments": {},
   "cell_type": "markdown",
   "metadata": {
    "nteract": {
     "transient": {
      "deleting": false
     }
    }
   },
   "source": [
    "# ကိုးကားချက်များ  \n",
    "- [Openai Cookbook](https://github.com/openai/openai-cookbook?WT.mc_id=academic-105485-koreyst)  \n",
    "- [OpenAI Studio ဥပမာများ](https://oai.azure.com/portal?WT.mc_id=academic-105485-koreyst)  \n",
    "- [GPT-3 ကို စာသားခွဲခြားဖော်ထုတ်ရန် Fine-tuning ပြုလုပ်ရာတွင် လုပ်သင့်သည့်နည်းလမ်းများ](https://docs.google.com/document/d/1rqj7dkuvl7Byd5KQPUJRxc19BJt8wo0yHNwK84KfU3Q/edit#?WT.mc_id=academic-105485-koreyst)\n"
   ]
  },
  {
   "attachments": {},
   "cell_type": "markdown",
   "metadata": {
    "nteract": {
     "transient": {
      "deleting": false
     }
    }
   },
   "source": [
    "# အထောက်အကူအတွက် ဆက်သွယ်ရန်\n",
    "\n",
    "[OpenAI Commercialization Team](AzureOpenAITeam@microsoft.com)\n"
   ]
  },
  {
   "attachments": {},
   "cell_type": "markdown",
   "metadata": {
    "nteract": {
     "transient": {
      "deleting": false
     }
    }
   },
   "source": [
    "# ပါဝင်သူများ\n",
    "* Louis Li\n"
   ]
  },
  {
   "cell_type": "markdown",
   "metadata": {},
   "source": [
    "\n---\n\n**သတိပြုရန်**:\nဤစာရွက်စာတမ်းကို AI ဘာသာပြန်ဝန်ဆောင်မှု [Co-op Translator](https://github.com/Azure/co-op-translator) ကို အသုံးပြု၍ ဘာသာပြန်ထားပါသည်။ ကျွန်ုပ်တို့သည် တိကျမှန်ကန်မှုအတွက် ကြိုးစားနေသော်လည်း၊ အလိုအလျောက် ဘာသာပြန်ချက်များတွင် အမှားများ သို့မဟုတ် မမှန်ကန်မှုများ ပါဝင်နိုင်သည်ကို သတိပြုပါ။ မူရင်းဘာသာဖြင့် ရေးသားထားသော စာရွက်စာတမ်းကို အာဏာတရားရှိသော ရင်းမြစ်အဖြစ် ယူဆသင့်ပါသည်။ အရေးကြီးသော အချက်အလက်များအတွက် လူ့ဘာသာပြန်ပညာရှင်များ၏ ဝန်ဆောင်မှုကို အသုံးပြုရန် အကြံပြုပါသည်။ ဤဘာသာပြန်ချက်ကို အသုံးပြုခြင်းမှ ဖြစ်ပေါ်လာနိုင်သော နားလည်မှုမှားခြင်းများ သို့မဟုတ် အနားလည်အမှားများအတွက် ကျွန်ုပ်တို့သည် တာဝန်ယူမည်မဟုတ်ပါ။\n"
   ]
  }
 ],
 "metadata": {
  "kernel_info": {
   "name": "python310-sdkv2"
  },
  "kernelspec": {
   "display_name": "base",
   "language": "python",
   "name": "python3"
  },
  "language_info": {
   "codemirror_mode": {
    "name": "ipython",
    "version": 3
   },
   "file_extension": ".py",
   "mimetype": "text/x-python",
   "name": "python",
   "nbconvert_exporter": "python",
   "pygments_lexer": "ipython3",
   "version": "3.10.13"
  },
  "microsoft": {
   "host": {
    "AzureML": {
     "notebookHasBeenCompleted": true
    }
   }
  },
  "nteract": {
   "version": "nteract-front-end@1.0.0"
  },
  "coopTranslator": {
   "original_hash": "1854bdde1dd56b366f1f6c9122f7d304",
   "translation_date": "2025-08-25T18:33:20+00:00",
   "source_file": "07-building-chat-applications/python/oai-assignment.ipynb",
   "language_code": "my"
  }
 },
 "nbformat": 4,
 "nbformat_minor": 2
}