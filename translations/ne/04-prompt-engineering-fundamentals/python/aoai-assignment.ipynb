{
 "cells": [
  {
   "cell_type": "markdown",
   "metadata": {},
   "source": [
    "निम्न नोटबुक GitHub Copilot Chat द्वारा स्वत: उत्पन्न गरिएको हो र केवल प्रारम्भिक सेटअपको लागि मात्र हो\n"
   ]
  },
  {
   "cell_type": "markdown",
   "metadata": {},
   "source": [
    "# प्रॉम्प्ट इन्जिनियरिङको परिचय\n",
    "\n",
    "प्रॉम्प्ट इन्जिनियरिङ भनेको प्राकृतिक भाषा प्रशोधन कार्यहरूको लागि प्रॉम्प्टहरू डिजाइन र अनुकूलन गर्ने प्रक्रिया हो। यसमा सही प्रॉम्प्टहरू चयन गर्ने, तिनीहरूको प्यारामिटरहरू मिलाउने, र तिनीहरूको प्रदर्शन मूल्याङ्कन गर्ने काम समावेश हुन्छ। प्रॉम्प्ट इन्जिनियरिङ उच्च शुद्धता र दक्षता प्राप्त गर्नका लागि NLP मोडेलहरूमा अत्यन्तै महत्वपूर्ण छ। यस खण्डमा, हामी OpenAI मोडेलहरू प्रयोग गरेर प्रॉम्प्ट इन्जिनियरिङका आधारभूत कुरा बुझ्नेछौं।\n"
   ]
  },
  {
   "cell_type": "markdown",
   "metadata": {},
   "source": [
    "### अभ्यास १: टोकनाइजेसन\n",
    "टोकनाइजेसनको अन्वेषण गर्नुहोस् tiktoken प्रयोग गरेर, जुन OpenAI बाट खुला स्रोत छिटो टोकनाइजर हो\n",
    "थप उदाहरणहरूको लागि [OpenAI Cookbook](https://github.com/openai/openai-cookbook/blob/main/examples/How_to_count_tokens_with_tiktoken.ipynb?WT.mc_id=academic-105485-koreyst) हेर्नुहोस्।\n"
   ]
  },
  {
   "cell_type": "code",
   "execution_count": null,
   "metadata": {},
   "outputs": [],
   "source": [
    "# EXERCISE:\n",
    "# 1. Run the exercise as is first\n",
    "# 2. Change the text to any prompt input you want to use & re-run to see tokens\n",
    "\n",
    "import tiktoken\n",
    "\n",
    "# Define the prompt you want tokenized\n",
    "text = f\"\"\"\n",
    "Jupiter is the fifth planet from the Sun and the \\\n",
    "largest in the Solar System. It is a gas giant with \\\n",
    "a mass one-thousandth that of the Sun, but two-and-a-half \\\n",
    "times that of all the other planets in the Solar System combined. \\\n",
    "Jupiter is one of the brightest objects visible to the naked eye \\\n",
    "in the night sky, and has been known to ancient civilizations since \\\n",
    "before recorded history. It is named after the Roman god Jupiter.[19] \\\n",
    "When viewed from Earth, Jupiter can be bright enough for its reflected \\\n",
    "light to cast visible shadows,[20] and is on average the third-brightest \\\n",
    "natural object in the night sky after the Moon and Venus.\n",
    "\"\"\"\n",
    "\n",
    "# Set the model you want encoding for\n",
    "encoding = tiktoken.encoding_for_model(\"gpt-3.5-turbo\")\n",
    "\n",
    "# Encode the text - gives you the tokens in integer form\n",
    "tokens = encoding.encode(text)\n",
    "print(tokens);\n",
    "\n",
    "# Decode the integers to see what the text versions look like\n",
    "[encoding.decode_single_token_bytes(token) for token in tokens]"
   ]
  },
  {
   "cell_type": "markdown",
   "metadata": {},
   "source": [
    "### अभ्यास २: OpenAI API कुञ्जी सेटअप प्रमाणित गर्नुहोस्\n",
    "\n",
    "तपाईंको OpenAI अन्तर्क्रिया सही रूपमा सेटअप भएको छ कि छैन जाँच्न तलको कोड चलाउनुहोस्। यो कोडले एउटा साधारण प्रॉम्प्ट प्रयोग गरेर परीक्षण गर्छ र completion सही छ कि छैन जाँच्छ। इनपुट `oh say can you see` को completion `by the dawn's early light..` जस्तो हुनुपर्छ।\n"
   ]
  },
  {
   "cell_type": "code",
   "execution_count": null,
   "metadata": {},
   "outputs": [],
   "source": [
    "# The OpenAI SDK was updated on Nov 8, 2023 with new guidance for migration\n",
    "# See: https://github.com/openai/openai-python/discussions/742\n",
    "\n",
    "## Updated\n",
    "import os\n",
    "from openai import AzureOpenAI\n",
    "from dotenv import load_dotenv\n",
    "load_dotenv()\n",
    "\n",
    "client = AzureOpenAI(\n",
    "  api_key=os.environ['AZURE_OPENAI_API_KEY'],  # this is also the default, it can be omitted\n",
    "  api_version = \"2023-05-15\"\n",
    "  )\n",
    "\n",
    "deployment=os.environ['AZURE_OPENAI_DEPLOYMENT']\n",
    "\n",
    "## Updated\n",
    "def get_completion(prompt):\n",
    "    messages = [{\"role\": \"user\", \"content\": prompt}]       \n",
    "    response = client.chat.completions.create(   \n",
    "        model=deployment,                                         \n",
    "        messages=messages,\n",
    "        temperature=0, # this is the degree of randomness of the model's output\n",
    "        max_tokens=1024\n",
    "    )\n",
    "    return response.choices[0].message.content\n",
    "\n",
    "## ---------- Call the helper method\n",
    "\n",
    "### 1. Set primary content or prompt text\n",
    "text = f\"\"\"\n",
    "oh say can you see\n",
    "\"\"\"\n",
    "\n",
    "### 2. Use that in the prompt template below\n",
    "prompt = f\"\"\"\n",
    "```{text}```\n",
    "\"\"\"\n",
    "\n",
    "## 3. Run the prompt\n",
    "response = get_completion(prompt)\n",
    "print(response)"
   ]
  },
  {
   "cell_type": "markdown",
   "metadata": {},
   "source": [
    "### अभ्यास ३: बनावटी कुरा\n",
    "\n",
    "LLM लाई यस्तो विषयमा उत्तर दिन भन्नुहोस् जुन सायद अस्तित्वमा छैन, वा यस्तो विषयमा जसको बारेमा उसलाई थाहा नहुन सक्छ किनभने त्यो उसको पूर्व-प्रशिक्षित डाटासेटभन्दा बाहिरको (अधिक हालको) छ। फरक प्रॉम्प्ट वा फरक मोडेल प्रयोग गर्दा उत्तर कसरी बदलिन्छ हेर्नुहोस्।\n"
   ]
  },
  {
   "cell_type": "code",
   "execution_count": null,
   "metadata": {},
   "outputs": [],
   "source": [
    "\n",
    "## Set the text for simple prompt or primary content\n",
    "## Prompt shows a template format with text in it - add cues, commands etc if needed\n",
    "## Run the completion \n",
    "text = f\"\"\"\n",
    "generate a lesson plan on the Martian War of 2076.\n",
    "\"\"\"\n",
    "\n",
    "prompt = f\"\"\"\n",
    "```{text}```\n",
    "\"\"\"\n",
    "\n",
    "response = get_completion(prompt)\n",
    "print(response)"
   ]
  },
  {
   "cell_type": "markdown",
   "metadata": {},
   "source": [
    "### अभ्यास ४: निर्देशन आधारित  \n",
    "\"text\" भेरिएबल प्रयोग गरेर मुख्य सामग्री सेट गर्नुहोस्  \n",
    "र \"prompt\" भेरिएबल प्रयोग गरेर त्यो मुख्य सामग्रीसँग सम्बन्धित निर्देशन दिनुहोस्।\n",
    "\n",
    "यहाँ हामीले मोडेललाई दोस्रो कक्षाका विद्यार्थीका लागि पाठलाई संक्षेपमा भन्न अनुरोध गरेका छौं।\n"
   ]
  },
  {
   "cell_type": "code",
   "execution_count": null,
   "metadata": {},
   "outputs": [],
   "source": [
    "# Test Example\n",
    "# https://platform.openai.com/playground/p/default-summarize\n",
    "\n",
    "## Example text\n",
    "text = f\"\"\"\n",
    "Jupiter is the fifth planet from the Sun and the \\\n",
    "largest in the Solar System. It is a gas giant with \\\n",
    "a mass one-thousandth that of the Sun, but two-and-a-half \\\n",
    "times that of all the other planets in the Solar System combined. \\\n",
    "Jupiter is one of the brightest objects visible to the naked eye \\\n",
    "in the night sky, and has been known to ancient civilizations since \\\n",
    "before recorded history. It is named after the Roman god Jupiter.[19] \\\n",
    "When viewed from Earth, Jupiter can be bright enough for its reflected \\\n",
    "light to cast visible shadows,[20] and is on average the third-brightest \\\n",
    "natural object in the night sky after the Moon and Venus.\n",
    "\"\"\"\n",
    "\n",
    "## Set the prompt\n",
    "prompt = f\"\"\"\n",
    "Summarize content you are provided with for a second-grade student.\n",
    "```{text}```\n",
    "\"\"\"\n",
    "\n",
    "## Run the prompt\n",
    "response = get_completion(prompt)\n",
    "print(response)"
   ]
  },
  {
   "cell_type": "markdown",
   "metadata": {},
   "source": [
    "### अभ्यास ५: जटिल प्रॉम्प्ट\n",
    "एक अनुरोध प्रयास गर्नुहोस् जसमा सिस्टम, प्रयोगकर्ता र सहायक सन्देशहरू छन्\n",
    "सिस्टमले सहायकको सन्दर्भ सेट गर्छ\n",
    "प्रयोगकर्ता र सहायक सन्देशहरूले बहुपल्ट संवादको सन्दर्भ दिन्छन्\n",
    "\n",
    "ध्यान दिनुहोस् कि सहायकको व्यक्तित्व \"व्यंग्यात्मक\" भनेर सिस्टम सन्दर्भमा सेट गरिएको छ।\n",
    "अर्को व्यक्तित्व सन्दर्भ प्रयोग गरेर प्रयास गर्नुहोस्। वा इनपुट/आउटपुट सन्देशहरूको फरक श्रृंखला प्रयास गर्नुहोस्\n"
   ]
  },
  {
   "cell_type": "code",
   "execution_count": null,
   "metadata": {},
   "outputs": [],
   "source": [
    "response = client.chat.completions.create(\n",
    "    model=deployment,\n",
    "    messages=[\n",
    "        {\"role\": \"system\", \"content\": \"You are a sarcastic assistant.\"},\n",
    "        {\"role\": \"user\", \"content\": \"Who won the world series in 2020?\"},\n",
    "        {\"role\": \"assistant\", \"content\": \"Who do you think won? The Los Angeles Dodgers of course.\"},\n",
    "        {\"role\": \"user\", \"content\": \"Where was it played?\"}\n",
    "    ]\n",
    ")\n",
    "print(response.choices[0].message.content)"
   ]
  },
  {
   "cell_type": "markdown",
   "metadata": {},
   "source": [
    "### अभ्यास: आफ्नो अन्तर्ज्ञान अन्वेषण गर्नुहोस्\n",
    "माथिका उदाहरणहरूले तपाईंलाई नयाँ प्रॉम्प्टहरू (साधारण, जटिल, निर्देशन आदि) बनाउनका लागि प्रयोग गर्न सकिने ढाँचाहरू दिन्छन् - हामीले चर्चा गरेका अन्य विचारहरू जस्तै उदाहरणहरू, संकेतहरू र थप कुराहरू अन्वेषण गर्नका लागि अन्य अभ्यासहरू सिर्जना गर्ने प्रयास गर्नुहोस्।\n"
   ]
  },
  {
   "cell_type": "markdown",
   "metadata": {},
   "source": [
    "\n---\n\n**अस्वीकरण**:  \nयो दस्तावेज़ AI अनुवाद सेवा [Co-op Translator](https://github.com/Azure/co-op-translator) प्रयोग गरी अनुवाद गरिएको हो। हामी शुद्धताको लागि प्रयास गर्छौं, तर कृपया ध्यान दिनुहोस् कि स्वचालित अनुवादमा त्रुटिहरू वा अशुद्धताहरू हुन सक्छन्। मूल भाषा मा रहेको मूल दस्तावेज़लाई नै आधिकारिक स्रोत मान्नुपर्छ। महत्वपूर्ण जानकारीको लागि, व्यावसायिक मानव अनुवाद सिफारिस गरिन्छ। यस अनुवादको प्रयोगबाट उत्पन्न हुने कुनै पनि गलतफहमी वा गलत व्याख्याका लागि हामी जिम्मेवार हुने छैनौं।\n"
   ]
  }
 ],
 "metadata": {
  "kernelspec": {
   "display_name": "Python 3 (ipykernel)",
   "language": "python",
   "name": "python3"
  },
  "language_info": {
   "codemirror_mode": {
    "name": "ipython",
    "version": 3
   },
   "file_extension": ".py",
   "mimetype": "text/x-python",
   "name": "python",
   "nbconvert_exporter": "python",
   "pygments_lexer": "ipython3",
   "version": "3.10.13"
  },
  "orig_nbformat": 4,
  "coopTranslator": {
   "original_hash": "9b900544221c8d986e06ee6d25debef7",
   "translation_date": "2025-08-25T13:05:47+00:00",
   "source_file": "04-prompt-engineering-fundamentals/python/aoai-assignment.ipynb",
   "language_code": "ne"
  }
 },
 "nbformat": 4,
 "nbformat_minor": 2
}