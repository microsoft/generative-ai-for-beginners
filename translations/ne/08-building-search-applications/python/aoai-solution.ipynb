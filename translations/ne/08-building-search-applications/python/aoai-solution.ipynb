{
 "cells": [
  {
   "cell_type": "markdown",
   "metadata": {},
   "source": [
    "निम्न नोटबुकहरू चलाउनको लागि, यदि तपाईंले अझै गर्नुभएको छैन भने, तपाईंले `text-embedding-ada-002` लाई आधार मोडेलको रूपमा प्रयोग गर्ने मोडेल डिप्लोय गर्न आवश्यक छ र .env फाइल भित्र डिप्लोयमेन्ट नामलाई `AZURE_OPENAI_EMBEDDINGS_ENDPOINT` को रूपमा सेट गर्नुपर्छ।\n"
   ]
  },
  {
   "cell_type": "code",
   "execution_count": null,
   "metadata": {},
   "outputs": [],
   "source": [
    "import os\n",
    "import pandas as pd\n",
    "import numpy as np\n",
    "from openai import AzureOpenAI\n",
    "from dotenv import load_dotenv\n",
    "\n",
    "load_dotenv()\n",
    "\n",
    "client = AzureOpenAI(\n",
    "  api_key=os.environ['AZURE_OPENAI_API_KEY'],  # this is also the default, it can be omitted\n",
    "  api_version = \"2023-05-15\"\n",
    "  )\n",
    "\n",
    "model = os.environ['AZURE_OPENAI_EMBEDDINGS_DEPLOYMENT']\n",
    "\n",
    "SIMILARITIES_RESULTS_THRESHOLD = 0.75\n",
    "DATASET_NAME = \"../embedding_index_3m.json\""
   ]
  },
  {
   "cell_type": "markdown",
   "metadata": {},
   "source": [
    "अब, हामी Embedding Index लाई Pandas Dataframe मा लोड गर्न गइरहेका छौं। Embedding Index `embedding_index_3m.json` नामक JSON फाइलमा सुरक्षित गरिएको छ। Embedding Index मा प्रत्येक YouTube ट्रान्सक्रिप्टहरूको Embeddings समावेश गरिएको छ जुन २०२३ को अक्टोबरको अन्त्यसम्मका हुन्।\n"
   ]
  },
  {
   "cell_type": "code",
   "execution_count": null,
   "metadata": {},
   "outputs": [],
   "source": [
    "def load_dataset(source: str) -> pd.core.frame.DataFrame:\n",
    "    # Load the video session index\n",
    "    pd_vectors = pd.read_json(source)\n",
    "    return pd_vectors.drop(columns=[\"text\"], errors=\"ignore\").fillna(\"\")"
   ]
  },
  {
   "cell_type": "markdown",
   "metadata": {},
   "source": [
    "अब, हामी `get_videos` नामको एउटा फंक्शन बनाउन गइरहेका छौं जसले Embedding Index मा सोधिएको प्रश्नको लागि खोजी गर्नेछ। यो फंक्शनले सोधिएको प्रश्नसँग सबैभन्दा मिल्दोजुल्दो शीर्ष ५ भिडियोहरू फिर्ता गर्नेछ। फंक्शन यसरी काम गर्छ:\n",
    "\n",
    "1. सुरुमा, Embedding Index को एउटा प्रतिलिपि बनाइन्छ।\n",
    "2. त्यसपछि, सोधिएको प्रश्नको Embedding OpenAI Embedding API प्रयोग गरेर गणना गरिन्छ।\n",
    "3. त्यसपछि Embedding Index मा `similarity` नामको नयाँ स्तम्भ बनाइन्छ। `similarity` स्तम्भमा सोधिएको प्रश्नको Embedding र प्रत्येक भिडियो खण्डको Embedding बीचको cosine similarity हुन्छ।\n",
    "4. त्यसपछि, Embedding Index लाई `similarity` स्तम्भद्वारा फिल्टर गरिन्छ। Embedding Index लाई केवल ती भिडियोहरू समावेश हुने गरी फिल्टर गरिन्छ जसको cosine similarity ०.७५ वा सोभन्दा बढी छ।\n",
    "5. अन्त्यमा, Embedding Index लाई `similarity` स्तम्भअनुसार क्रमबद्ध गरिन्छ र शीर्ष ५ भिडियोहरू फिर्ता गरिन्छ।\n"
   ]
  },
  {
   "cell_type": "code",
   "execution_count": null,
   "metadata": {},
   "outputs": [],
   "source": [
    "def cosine_similarity(a, b):\n",
    "    if len(a) > len(b):\n",
    "        b = np.pad(b, (0, len(a) - len(b)), 'constant')\n",
    "    elif len(b) > len(a):\n",
    "        a = np.pad(a, (0, len(b) - len(a)), 'constant')\n",
    "    return np.dot(a, b) / (np.linalg.norm(a) * np.linalg.norm(b))\n",
    "\n",
    "def get_videos(\n",
    "    query: str, dataset: pd.core.frame.DataFrame, rows: int\n",
    ") -> pd.core.frame.DataFrame:\n",
    "    # create a copy of the dataset\n",
    "    video_vectors = dataset.copy()\n",
    "\n",
    "    # get the embeddings for the query    \n",
    "    query_embeddings = client.embeddings.create(input=query, model=model).data[0].embedding\n",
    "\n",
    "    # create a new column with the calculated similarity for each row\n",
    "    video_vectors[\"similarity\"] = video_vectors[\"ada_v2\"].apply(\n",
    "        lambda x: cosine_similarity(np.array(query_embeddings), np.array(x))\n",
    "    )\n",
    "\n",
    "    # filter the videos by similarity\n",
    "    mask = video_vectors[\"similarity\"] >= SIMILARITIES_RESULTS_THRESHOLD\n",
    "    video_vectors = video_vectors[mask].copy()\n",
    "\n",
    "    # sort the videos by similarity\n",
    "    video_vectors = video_vectors.sort_values(by=\"similarity\", ascending=False).head(\n",
    "        rows\n",
    "    )\n",
    "\n",
    "    # return the top rows\n",
    "    return video_vectors.head(rows)"
   ]
  },
  {
   "cell_type": "markdown",
   "metadata": {},
   "source": [
    "यो फंक्शन धेरै सरल छ, यसले खोज प्रश्नको नतिजा मात्र प्रिन्ट गर्छ।\n"
   ]
  },
  {
   "cell_type": "code",
   "execution_count": null,
   "metadata": {},
   "outputs": [],
   "source": [
    "def display_results(videos: pd.core.frame.DataFrame, query: str):\n",
    "    def _gen_yt_url(video_id: str, seconds: int) -> str:\n",
    "        \"\"\"convert time in format 00:00:00 to seconds\"\"\"\n",
    "        return f\"https://youtu.be/{video_id}?t={seconds}\"\n",
    "\n",
    "    print(f\"\\nVideos similar to '{query}':\")\n",
    "    for _, row in videos.iterrows():\n",
    "        youtube_url = _gen_yt_url(row[\"videoId\"], row[\"seconds\"])\n",
    "        print(f\" - {row['title']}\")\n",
    "        print(f\"   Summary: {' '.join(row['summary'].split()[:15])}...\")\n",
    "        print(f\"   YouTube: {youtube_url}\")\n",
    "        print(f\"   Similarity: {row['similarity']}\")\n",
    "        print(f\"   Speakers: {row['speaker']}\")"
   ]
  },
  {
   "cell_type": "markdown",
   "metadata": {},
   "source": [
    "1. सुरुमा, Embedding Index लाई Pandas Dataframe मा लोड गरिन्छ।\n",
    "2. त्यसपछि, प्रयोगकर्तालाई सोधिन्छ कि उनीहरूले कुन प्रश्न सोध्न चाहन्छन्।\n",
    "3. त्यसपछि `get_videos` फंक्शनलाई Embedding Index मा सोधिएको प्रश्न खोज्नका लागि बोलाइन्छ।\n",
    "4. अन्त्यमा, `display_results` फंक्शनलाई नतिजा प्रयोगकर्तालाई देखाउनका लागि बोलाइन्छ।\n",
    "5. त्यसपछि प्रयोगकर्तालाई अर्को प्रश्न सोध्नका लागि सोधिन्छ। यो प्रक्रिया प्रयोगकर्ताले `exit` लेख्दासम्म दोहोरिन्छ।\n",
    "\n",
    "![](../../../../translated_images/notebook-search.1e320b9c7fcbb0bc1436d98ea6ee73b4b54ca47990a1c952b340a2cadf8ac1ca.ne.png)\n",
    "\n",
    "तपाईंलाई प्रश्न सोध्नका लागि अनुरोध गरिनेछ। कुनै प्रश्न लेख्नुहोस् र enter थिच्नुहोस्। एप्लिकेशनले सोधिएको प्रश्नसँग सम्बन्धित भिडियोहरूको सूची फर्काउनेछ। एप्लिकेशनले प्रश्नको उत्तर भएको भिडियोको स्थानमा जानका लागि लिंक पनि दिनेछ।\n",
    "\n",
    "यहाँ केही प्रश्नहरू छन् जसलाई तपाईं प्रयास गर्न सक्नुहुन्छ:\n",
    "\n",
    "- Azure Machine Learning के हो?\n",
    "- Convolutional neural networks कसरी काम गर्छन्?\n",
    "- Neural network के हो?\n",
    "- के म Jupyter Notebooks लाई Azure Machine Learning सँग प्रयोग गर्न सक्छु?\n",
    "- ONNX के हो?\n"
   ]
  },
  {
   "cell_type": "code",
   "execution_count": null,
   "metadata": {},
   "outputs": [],
   "source": [
    "pd_vectors = load_dataset(DATASET_NAME)\n",
    "\n",
    "# get user query from imput\n",
    "while True:\n",
    "    query = input(\"Enter a query: \")\n",
    "    if query == \"exit\":\n",
    "        break\n",
    "    videos = get_videos(query, pd_vectors, 5)\n",
    "    display_results(videos, query)"
   ]
  },
  {
   "cell_type": "markdown",
   "metadata": {},
   "source": []
  },
  {
   "cell_type": "markdown",
   "metadata": {},
   "source": [
    "\n---\n\n**अस्वीकरण**:  \nयो दस्तावेज़ AI अनुवाद सेवा [Co-op Translator](https://github.com/Azure/co-op-translator) प्रयोग गरी अनुवाद गरिएको हो। हामी शुद्धताको लागि प्रयास गर्छौं, तर कृपया ध्यान दिनुहोस् कि स्वचालित अनुवादमा त्रुटिहरू वा अशुद्धताहरू हुन सक्छन्। मूल भाषा मा रहेको मूल दस्तावेज़लाई नै आधिकारिक स्रोत मानिनुपर्छ। महत्वपूर्ण जानकारीको लागि, व्यावसायिक मानव अनुवाद सिफारिस गरिन्छ। यस अनुवादको प्रयोगबाट उत्पन्न हुने कुनै पनि गलतफहमी वा गलत व्याख्याका लागि हामी जिम्मेवार हुने छैनौं।\n"
   ]
  }
 ],
 "metadata": {
  "kernelspec": {
   "display_name": "venv",
   "language": "python",
   "name": "python3"
  },
  "language_info": {
   "codemirror_mode": {
    "name": "ipython",
    "version": 3
   },
   "file_extension": ".py",
   "mimetype": "text/x-python",
   "name": "python",
   "nbconvert_exporter": "python",
   "pygments_lexer": "ipython3",
   "version": "3.10.13"
  },
  "coopTranslator": {
   "original_hash": "32c6b8e9e87156b9c63ee62a6fd7f526",
   "translation_date": "2025-08-25T18:41:55+00:00",
   "source_file": "08-building-search-applications/python/aoai-solution.ipynb",
   "language_code": "ne"
  }
 },
 "nbformat": 4,
 "nbformat_minor": 2
}