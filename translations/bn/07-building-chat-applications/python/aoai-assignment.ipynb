{
 "cells": [
  {
   "attachments": {},
   "cell_type": "markdown",
   "metadata": {
    "nteract": {
     "transient": {
      "deleting": false
     }
    }
   },
   "source": [
    "# অধ্যায় ৭: চ্যাট অ্যাপ্লিকেশন তৈরি করা\n",
    "## Azure OpenAI API দ্রুত শুরু\n"
   ]
  },
  {
   "attachments": {},
   "cell_type": "markdown",
   "metadata": {
    "nteract": {
     "transient": {
      "deleting": false
     }
    }
   },
   "source": [
    "## সংক্ষিপ্ত বিবরণ\n",
    "এই নোটবুকটি [Azure OpenAI Samples Repository](https://github.com/Azure/azure-openai-samples?WT.mc_id=academic-105485-koreyst) থেকে নেওয়া হয়েছে, যেখানে এমন নোটবুক রয়েছে যা [OpenAI](notebook-openai.ipynb) সার্ভিসেও অ্যাক্সেস করে।\n",
    "\n",
    "Python OpenAI API, কিছু পরিবর্তনসহ, Azure OpenAI-এর সাথেও কাজ করে। এখানে পার্থক্যগুলো সম্পর্কে আরও জানুন: [কিভাবে Python দিয়ে OpenAI এবং Azure OpenAI এন্ডপয়েন্টের মধ্যে পরিবর্তন করবেন](https://learn.microsoft.com/azure/ai-services/openai/how-to/switching-endpoints?WT.mc_id=academic-109527-jasmineg)\n",
    "\n",
    "আরও দ্রুত শুরু করার উদাহরণের জন্য অফিসিয়াল [Azure OpenAI Quickstart Documentation](https://learn.microsoft.com/azure/cognitive-services/openai/quickstart?pivots=programming-language-studio&WT.mc_id=academic-105485-koreyst) দেখুন।\n"
   ]
  },
  {
   "attachments": {},
   "cell_type": "markdown",
   "metadata": {
    "nteract": {
     "transient": {
      "deleting": false
     }
    }
   },
   "source": [
    "## সূচিপত্র  \n",
    "\n",
    "[সংক্ষিপ্ত বিবরণ](../../../../07-building-chat-applications/python)  \n",
    "[Azure OpenAI Service-এ শুরু করুন](../../../../07-building-chat-applications/python)  \n",
    "[আপনার প্রথম প্রম্পট তৈরি করুন](../../../../07-building-chat-applications/python)  \n",
    "\n",
    "[ব্যবহারের ক্ষেত্রসমূহ](../../../../07-building-chat-applications/python)    \n",
    "[১. টেক্সট সংক্ষেপণ করুন](../../../../07-building-chat-applications/python)  \n",
    "[২. টেক্সট শ্রেণিবদ্ধ করুন](../../../../07-building-chat-applications/python)  \n",
    "[৩. নতুন পণ্যের নাম তৈরি করুন](../../../../07-building-chat-applications/python)  \n",
    "[৪. শ্রেণিবদ্ধকারী ফাইন টিউন করুন](../../../../07-building-chat-applications/python)  \n",
    "[৫. এম্বেডিংস](../../../../07-building-chat-applications/python)\n",
    "\n",
    "[তথ্যসূত্র](../../../../07-building-chat-applications/python)\n"
   ]
  },
  {
   "attachments": {},
   "cell_type": "markdown",
   "metadata": {
    "nteract": {
     "transient": {
      "deleting": false
     }
    }
   },
   "source": [
    "### Azure OpenAI Service-এ শুরু করা\n",
    "\n",
    "নতুন গ্রাহকদের Azure OpenAI Service-এ [অ্যাক্সেসের জন্য আবেদন](https://aka.ms/oai/access?WT.mc_id=academic-105485-koreyst) করতে হবে।  \n",
    "অনুমোদন সম্পন্ন হলে, গ্রাহকরা Azure পোর্টালে লগইন করতে পারবেন, একটি Azure OpenAI Service রিসোর্স তৈরি করতে পারবেন, এবং স্টুডিওর মাধ্যমে মডেল নিয়ে পরীক্ষা-নিরীক্ষা শুরু করতে পারবেন  \n",
    "\n",
    "[দ্রুত শুরু করার জন্য দারুণ একটি রিসোর্স](https://techcommunity.microsoft.com/blog/educatordeveloperblog/azure-openai-service-is-now-generally-available/3719177?WT.mc_id=academic-105485-koreyst)\n"
   ]
  },
  {
   "attachments": {},
   "cell_type": "markdown",
   "metadata": {
    "nteract": {
     "transient": {
      "deleting": false
     }
    }
   },
   "source": [
    "### আপনার প্রথম প্রম্পট তৈরি করুন  \n",
    "এই সংক্ষিপ্ত অনুশীলনটি আপনাকে OpenAI মডেলে একটি সহজ কাজ \"সারাংশ তৈরি\" করার জন্য প্রম্পট জমা দেওয়ার মৌলিক ধারণা দেবে।\n",
    "\n",
    "**ধাপসমূহ**:  \n",
    "1. আপনার পাইথন পরিবেশে OpenAI লাইব্রেরি ইনস্টল করুন  \n",
    "2. স্ট্যান্ডার্ড হেল্পার লাইব্রেরি লোড করুন এবং আপনি যে OpenAI সার্ভিস তৈরি করেছেন তার জন্য সাধারণ OpenAI নিরাপত্তা শংসাপত্র সেট করুন  \n",
    "3. আপনার কাজের জন্য একটি মডেল নির্বাচন করুন  \n",
    "4. মডেলের জন্য একটি সহজ প্রম্পট তৈরি করুন  \n",
    "5. আপনার অনুরোধটি মডেল API-তে জমা দিন!\n"
   ]
  },
  {
   "attachments": {},
   "cell_type": "markdown",
   "metadata": {
    "nteract": {
     "transient": {
      "deleting": false
     }
    }
   },
   "source": [
    "### ১. ওপেনএআই ইনস্টল করুন\n"
   ]
  },
  {
   "cell_type": "markdown",
   "metadata": {},
   "source": [
    "> [!NOTE] যদি আপনি এই নোটবুকটি কোডস্পেসেস বা ডেভকন্টেইনারে চালান, তাহলে এই ধাপটি প্রয়োজনীয় নয়\n"
   ]
  },
  {
   "cell_type": "code",
   "execution_count": null,
   "metadata": {
    "gather": {
     "logged": 1674254990318
    },
    "jupyter": {
     "outputs_hidden": true,
     "source_hidden": false
    },
    "nteract": {
     "transient": {
      "deleting": false
     }
    }
   },
   "outputs": [],
   "source": [
    "%pip install openai python-dotenv"
   ]
  },
  {
   "attachments": {},
   "cell_type": "markdown",
   "metadata": {
    "nteract": {
     "transient": {
      "deleting": false
     }
    }
   },
   "source": [
    "### ২. সহায়ক লাইব্রেরি ইম্পোর্ট করুন এবং শংসাপত্র ইনস্ট্যান্সিয়েট করুন\n"
   ]
  },
  {
   "cell_type": "code",
   "execution_count": null,
   "metadata": {
    "gather": {
     "logged": 1674829434433
    },
    "jupyter": {
     "outputs_hidden": false,
     "source_hidden": false
    },
    "nteract": {
     "transient": {
      "deleting": false
     }
    }
   },
   "outputs": [],
   "source": [
    "import os\n",
    "from openai import AzureOpenAI\n",
    "import numpy as np\n",
    "from dotenv import load_dotenv\n",
    "load_dotenv()\n",
    "\n",
    "#validate data inside .env file\n",
    "\n",
    "client = AzureOpenAI(\n",
    "  api_key=os.environ['AZURE_OPENAI_API_KEY'],  # this is also the default, it can be omitted\n",
    "  api_version = \"2023-05-15\"\n",
    "  )"
   ]
  },
  {
   "attachments": {},
   "cell_type": "markdown",
   "metadata": {
    "nteract": {
     "transient": {
      "deleting": false
     }
    }
   },
   "source": [
    "### ৩. সঠিক মডেল খুঁজে বের করা  \n",
    "GPT-3.5-turbo বা GPT-4 মডেলগুলো প্রাকৃতিক ভাষা বুঝতে ও তৈরি করতে পারে। এই সার্ভিসে চারটি মডেল ক্ষমতা রয়েছে, যেগুলোর প্রতিটির শক্তি ও গতি ভিন্ন এবং বিভিন্ন কাজের জন্য উপযুক্ত। \n",
    "\n",
    "[Azure OpenAI মডেলসমূহ](https://learn.microsoft.com/azure/cognitive-services/openai/concepts/models?WT.mc_id=academic-105485-koreyst)\n"
   ]
  },
  {
   "cell_type": "code",
   "execution_count": null,
   "metadata": {
    "gather": {
     "logged": 1674742720788
    },
    "jupyter": {
     "outputs_hidden": true,
     "source_hidden": false
    },
    "nteract": {
     "transient": {
      "deleting": false
     }
    }
   },
   "outputs": [],
   "source": [
    "# Select the General Purpose curie model for text\n",
    "model = os.environ['AZURE_OPENAI_DEPLOYMENT']"
   ]
  },
  {
   "attachments": {},
   "cell_type": "markdown",
   "metadata": {
    "nteract": {
     "transient": {
      "deleting": false
     }
    }
   },
   "source": [
    "## ৪. প্রম্পট ডিজাইন  \n",
    "\n",
    "\"বড় ভাষা মডেলগুলোর জাদু হলো, বিশাল পরিমাণ টেক্সটে পূর্বাভাসের ভুল কমানোর জন্য প্রশিক্ষিত হতে গিয়ে, এই মডেলগুলো এমন কিছু ধারণা শিখে ফেলে যা এই পূর্বাভাসের জন্য দরকারি। উদাহরণস্বরূপ, তারা নিচের মতো ধারণা শিখে ফেলে\"(১):\n",
    "\n",
    "* কীভাবে বানান করতে হয়\n",
    "* ব্যাকরণ কীভাবে কাজ করে\n",
    "* কীভাবে বাক্য পুনর্লিখন করতে হয়\n",
    "* কীভাবে প্রশ্নের উত্তর দিতে হয়\n",
    "* কীভাবে কথোপকথন চালাতে হয়\n",
    "* কীভাবে বিভিন্ন ভাষায় লিখতে হয়\n",
    "* কীভাবে কোড লিখতে হয়\n",
    "* ইত্যাদি\n",
    "\n",
    "#### কীভাবে বড় ভাষা মডেল নিয়ন্ত্রণ করবেন  \n",
    "\"বড় ভাষা মডেলের সব ইনপুটের মধ্যে সবচেয়ে বেশি প্রভাব ফেলে টেক্সট প্রম্পট(১)।\n",
    "\n",
    "বড় ভাষা মডেলগুলোকে কয়েকটি উপায়ে আউটপুট দিতে প্রম্পট করা যায়:\n",
    "\n",
    "- নির্দেশনা: মডেলকে বলুন আপনি কী চান\n",
    "- সম্পূর্ণকরণ: মডেলকে আপনার চাওয়ার শুরুটা দিয়ে বাকিটা পূরণ করতে দিন\n",
    "- প্রদর্শন: মডেলকে দেখান আপনি কী চান, হয়:\n",
    "- প্রম্পটে কয়েকটি উদাহরণ দিয়ে\n",
    "- ফাইন-টিউনিং ট্রেনিং ডেটাসেটে শত শত বা হাজার হাজার উদাহরণ দিয়ে\n",
    "\n",
    "\n",
    "\n",
    "#### প্রম্পট তৈরির তিনটি মূল নির্দেশনা:\n",
    "\n",
    "**দেখান এবং বলুন**। আপনি কী চান, সেটা স্পষ্টভাবে জানান, হয় নির্দেশনা দিয়ে, উদাহরণ দিয়ে, অথবা দুটোর সংমিশ্রণে। যদি আপনি চান মডেল কোনো তালিকাকে বর্ণানুক্রমিকভাবে সাজাক বা কোনো অনুচ্ছেদকে অনুভূতির ভিত্তিতে শ্রেণিবদ্ধ করুক, তাহলে সেটাই দেখান।\n",
    "\n",
    "**গুণগত মানসম্পন্ন ডেটা দিন**। আপনি যদি কোনো শ্রেণিবিন্যাসকারী তৈরি করতে চান বা মডেলকে কোনো প্যাটার্ন অনুসরণ করাতে চান, তাহলে যথেষ্ট উদাহরণ দিন। আপনার উদাহরণগুলো ভালোভাবে দেখে নিন — মডেল সাধারণত যথেষ্ট বুদ্ধিমান, তাই ছোটখাটো বানান ভুলও ধরতে পারে এবং উত্তর দিতে পারে, তবে মডেল ধরে নিতে পারে এটা ইচ্ছাকৃত এবং এতে উত্তর প্রভাবিত হতে পারে।\n",
    "\n",
    "**আপনার সেটিংস পরীক্ষা করুন।** temperature এবং top_p সেটিংস নিয়ন্ত্রণ করে মডেল কতটা নির্ধারিতভাবে উত্তর দেবে। যদি এমন কোনো প্রশ্ন করেন যার একটাই সঠিক উত্তর, তাহলে এগুলো কমিয়ে দিন। যদি বেশি বৈচিত্র্যময় উত্তর চান, তাহলে এগুলো বাড়াতে পারেন। এই সেটিংস নিয়ে সবচেয়ে বড় ভুল হলো, এগুলোকে \"বুদ্ধিমত্তা\" বা \"সৃজনশীলতা\"র নিয়ন্ত্রণ ভেবে নেওয়া।\n",
    "\n",
    "\n",
    "সূত্র: https://learn.microsoft.com/azure/ai-services/openai/overview\n"
   ]
  },
  {
   "attachments": {},
   "cell_type": "markdown",
   "metadata": {
    "nteract": {
     "transient": {
      "deleting": false
     }
    }
   },
   "source": []
  },
  {
   "attachments": {},
   "cell_type": "markdown",
   "metadata": {
    "nteract": {
     "transient": {
      "deleting": false
     }
    }
   },
   "source": []
  },
  {
   "cell_type": "code",
   "execution_count": null,
   "metadata": {
    "gather": {
     "logged": 1674494935186
    },
    "jupyter": {
     "outputs_hidden": false,
     "source_hidden": false
    },
    "nteract": {
     "transient": {
      "deleting": false
     }
    }
   },
   "outputs": [],
   "source": [
    "# Create your first prompt\n",
    "text_prompt = \"Should oxford commas always be used?\"\n",
    "\n",
    "response = client.chat.completions.create(\n",
    "  model=model,\n",
    "  messages = [{\"role\":\"system\", \"content\":\"You are a helpful assistant.\"},\n",
    "               {\"role\":\"user\",\"content\":text_prompt},])\n",
    "\n",
    "response.choices[0].message.content"
   ]
  },
  {
   "attachments": {},
   "cell_type": "markdown",
   "metadata": {
    "nteract": {
     "transient": {
      "deleting": false
     }
    }
   },
   "source": [
    "### একই কলটি পুনরাবৃত্তি করুন, ফলাফলগুলি কীভাবে তুলনা করা যায়?\n"
   ]
  },
  {
   "cell_type": "code",
   "execution_count": null,
   "metadata": {
    "gather": {
     "logged": 1674494940872
    },
    "jupyter": {
     "outputs_hidden": false,
     "source_hidden": false
    },
    "nteract": {
     "transient": {
      "deleting": false
     }
    }
   },
   "outputs": [],
   "source": [
    "\n",
    "response = client.chat.completions.create(\n",
    "  model=model,\n",
    "  messages = [{\"role\":\"system\", \"content\":\"You are a helpful assistant.\"},\n",
    "               {\"role\":\"user\",\"content\":text_prompt},])\n",
    "\n",
    "response.choices[0].message.content"
   ]
  },
  {
   "attachments": {},
   "cell_type": "markdown",
   "metadata": {
    "nteract": {
     "transient": {
      "deleting": false
     }
    }
   },
   "source": [
    "## টেক্সট সংক্ষেপণ  \n",
    "#### চ্যালেঞ্জ  \n",
    "একটি টেক্সট প্যাসেজের শেষে 'tl;dr:' যোগ করে টেক্সট সংক্ষেপণ করুন। লক্ষ্য করুন, মডেলটি কোনো অতিরিক্ত নির্দেশনা ছাড়াই কীভাবে বিভিন্ন কাজ করতে পারে তা বুঝতে পারে। আপনি tl;dr-এর চেয়ে আরও বর্ণনামূলক প্রম্পট ব্যবহার করে মডেলের আচরণ পরিবর্তন ও সংক্ষেপণের ধরন কাস্টমাইজ করতে পারেন(3)।\n",
    "\n",
    "সাম্প্রতিক গবেষণায় দেখা গেছে, বড় টেক্সট কর্পাসে প্রি-ট্রেইনিং এবং তারপর নির্দিষ্ট টাস্কে ফাইন-টিউনিংয়ের মাধ্যমে অনেক NLP টাস্ক ও বেঞ্চমার্কে উল্লেখযোগ্য অগ্রগতি হয়েছে। যদিও এই পদ্ধতির আর্কিটেকচার সাধারণত টাস্ক-অ্যাগনস্টিক, তবুও এতে হাজার হাজার বা দশ হাজার উদাহরণের টাস্ক-স্পেসিফিক ফাইন-টিউনিং ডেটাসেট প্রয়োজন হয়। এর বিপরীতে, মানুষ সাধারণত মাত্র কয়েকটি উদাহরণ বা সহজ নির্দেশনা থেকেই নতুন ভাষাগত কাজ করতে পারে—যা বর্তমান NLP সিস্টেমগুলো এখনো বেশিরভাগ ক্ষেত্রেই করতে পারে না। এখানে আমরা দেখিয়েছি, ভাষা মডেল বড় করলে টাস্ক-অ্যাগনস্টিক, ফিউ-শট পারফরম্যান্স অনেক উন্নত হয়, কখনো কখনো আগের সেরা ফাইন-টিউনিং পদ্ধতির সঙ্গে প্রতিযোগিতামূলক পর্যায়েও পৌঁছে যায়।\n",
    "\n",
    "\n",
    "\n",
    "Tl;dr\n"
   ]
  },
  {
   "attachments": {},
   "cell_type": "markdown",
   "metadata": {
    "nteract": {
     "transient": {
      "deleting": false
     }
    }
   },
   "source": [
    "# বিভিন্ন ব্যবহারের জন্য অনুশীলনসমূহ  \n",
    "1. টেক্সট সংক্ষেপণ করুন  \n",
    "2. টেক্সট শ্রেণিবদ্ধ করুন  \n",
    "3. নতুন পণ্যের নাম তৈরি করুন  \n",
    "4. এম্বেডিংস  \n",
    "5. একটি শ্রেণিবিভাজক ফাইন টিউন করুন\n"
   ]
  },
  {
   "cell_type": "code",
   "execution_count": null,
   "metadata": {
    "gather": {
     "logged": 1674495198534
    },
    "jupyter": {
     "outputs_hidden": false,
     "source_hidden": false
    },
    "nteract": {
     "transient": {
      "deleting": false
     }
    }
   },
   "outputs": [],
   "source": [
    "prompt = \"Recent work has demonstrated substantial gains on many NLP tasks and benchmarks by pre-training on a large corpus of text followed by fine-tuning on a specific task. While typically task-agnostic in architecture, this method still requires task-specific fine-tuning datasets of thousands or tens of thousands of examples. By contrast, humans can generally perform a new language task from only a few examples or from simple instructions - something that current NLP systems still largely struggle to do. Here we show that scaling up language models greatly improves task-agnostic, few-shot performance, sometimes even reaching competitiveness with prior state-of-the-art fine-tuning approaches.\\n\\ntl;dr\"\n"
   ]
  },
  {
   "cell_type": "code",
   "execution_count": null,
   "metadata": {
    "gather": {
     "logged": 1674495201868
    },
    "jupyter": {
     "outputs_hidden": false,
     "source_hidden": false
    },
    "nteract": {
     "transient": {
      "deleting": false
     }
    }
   },
   "outputs": [],
   "source": [
    "#Setting a few additional, typical parameters during API Call\n",
    "\n",
    "response = client.chat.completions.create(\n",
    "  model=model,\n",
    "  messages = [{\"role\":\"system\", \"content\":\"You are a helpful assistant.\"},\n",
    "               {\"role\":\"user\",\"content\":prompt},])\n",
    "\n",
    "response.choices[0].message.content"
   ]
  },
  {
   "attachments": {},
   "cell_type": "markdown",
   "metadata": {
    "nteract": {
     "transient": {
      "deleting": false
     }
    }
   },
   "source": [
    "## টেক্সট শ্রেণীবিন্যাস করুন  \n",
    "#### চ্যালেঞ্জ  \n",
    "ইনফারেন্সের সময় দেওয়া ক্যাটেগরিগুলোর মধ্যে আইটেমগুলোকে শ্রেণীবিন্যাস করুন। নিচের উদাহরণে, আমরা প্রম্পটে (playground_reference) ক্যাটেগরি এবং শ্রেণীবিন্যাস করার টেক্সট দুটোই দিয়েছি।\n",
    "\n",
    "গ্রাহকের জিজ্ঞাসা: হ্যালো, আমার ল্যাপটপের কিবোর্ডের একটি কি সম্প্রতি ভেঙে গেছে এবং আমাকে একটি বিকল্প লাগবে:\n",
    "\n",
    "শ্রেণীবদ্ধ ক্যাটেগরি:\n"
   ]
  },
  {
   "cell_type": "code",
   "execution_count": null,
   "metadata": {
    "gather": {
     "logged": 1674499424645
    },
    "jupyter": {
     "outputs_hidden": false,
     "source_hidden": false
    },
    "nteract": {
     "transient": {
      "deleting": false
     }
    }
   },
   "outputs": [],
   "source": [
    "prompt = \"Classify the following inquiry into one of the following: categories: [Pricing, Hardware Support, Software Support]\\n\\ninquiry: Hello, one of the keys on my laptop keyboard broke recently and I'll need a replacement:\\n\\nClassified category:\"\n",
    "print(prompt)"
   ]
  },
  {
   "cell_type": "code",
   "execution_count": null,
   "metadata": {
    "gather": {
     "logged": 1674499378518
    },
    "jupyter": {
     "outputs_hidden": false,
     "source_hidden": false
    },
    "nteract": {
     "transient": {
      "deleting": false
     }
    }
   },
   "outputs": [],
   "source": [
    "#Setting a few additional, typical parameters during API Call\n",
    "\n",
    "response = client.chat.completions.create(\n",
    "  model=model,\n",
    "  messages = [{\"role\":\"system\", \"content\":\"You are a helpful assistant.\"},\n",
    "               {\"role\":\"user\",\"content\":prompt},])\n",
    "\n",
    "response.choices[0].message.content"
   ]
  },
  {
   "attachments": {},
   "cell_type": "markdown",
   "metadata": {
    "nteract": {
     "transient": {
      "deleting": false
     }
    }
   },
   "source": [
    "## নতুন পণ্যের নাম তৈরি করুন\n",
    "#### চ্যালেঞ্জ\n",
    "উদাহরণ শব্দ থেকে পণ্যের নাম তৈরি করুন। এখানে আমরা যে পণ্যের জন্য নাম তৈরি করতে যাচ্ছি, তার সম্পর্কে তথ্য প্রম্পটে অন্তর্ভুক্ত করেছি। আমরা একটি অনুরূপ উদাহরণও দিয়েছি যাতে কাঙ্ক্ষিত প্যাটার্নটি বোঝানো যায়। আরও সৃজনশীল ও বৈচিত্র্যময় উত্তর পেতে আমরা temperature মানটি বেশি রেখেছি।\n",
    "\n",
    "পণ্যের বিবরণ: একটি হোম মিল্কশেক মেকার  \n",
    "সিড শব্দ: দ্রুত, স্বাস্থ্যকর, কমপ্যাক্ট।  \n",
    "পণ্যের নাম: হোমশেকার, ফিট শেকার, কুইকশেক, শেক মেকার\n",
    "\n",
    "পণ্যের বিবরণ: এমন একজোড়া জুতা যা যেকোনো পায়ের মাপে মানিয়ে যায়।  \n",
    "সিড শব্দ: অভিযোজ্য, ফিট, অম্নি-ফিট।\n"
   ]
  },
  {
   "cell_type": "code",
   "execution_count": null,
   "metadata": {
    "gather": {
     "logged": 1674257087279
    },
    "jupyter": {
     "outputs_hidden": false,
     "source_hidden": false
    },
    "nteract": {
     "transient": {
      "deleting": false
     }
    }
   },
   "outputs": [],
   "source": [
    "prompt = \"Product description: A home milkshake maker\\nSeed words: fast, healthy, compact.\\nProduct names: HomeShaker, Fit Shaker, QuickShake, Shake Maker\\n\\nProduct description: A pair of shoes that can fit any foot size.\\nSeed words: adaptable, fit, omni-fit.\"\n",
    "\n",
    "print(prompt)"
   ]
  },
  {
   "cell_type": "code",
   "execution_count": null,
   "metadata": {
    "jupyter": {
     "outputs_hidden": false,
     "source_hidden": false
    },
    "nteract": {
     "transient": {
      "deleting": false
     }
    }
   },
   "outputs": [],
   "source": [
    "#Setting a few additional, typical parameters during API Call\n",
    "\n",
    "response = client.chat.completions.create(\n",
    "  model=model,\n",
    "  messages = [{\"role\":\"system\", \"content\":\"You are a helpful assistant.\"},\n",
    "               {\"role\":\"user\",\"content\":prompt}])\n",
    "\n",
    "response.choices[0].message.content"
   ]
  },
  {
   "attachments": {},
   "cell_type": "markdown",
   "metadata": {
    "nteract": {
     "transient": {
      "deleting": false
     }
    }
   },
   "source": [
    "## এম্বেডিংস\n",
    "এই অংশে দেখানো হবে কীভাবে এম্বেডিংস বের করতে হয় এবং শব্দ, বাক্য, ও ডকুমেন্টের মধ্যে সাদৃশ্য খুঁজে বের করতে হয়। নিচের নোটবুকগুলো চালাতে হলে আপনাকে এমন একটি মডেল ডিপ্লয় করতে হবে, যার বেস মডেল হিসেবে `text-embedding-ada-002` ব্যবহার করা হয়েছে এবং তার ডিপ্লয়মেন্ট নামটি .env ফাইলে `AZURE_OPENAI_EMBEDDINGS_DEPLOYMENT` ভ্যারিয়েবলের মাধ্যমে সেট করতে হবে।\n"
   ]
  },
  {
   "attachments": {},
   "cell_type": "markdown",
   "metadata": {
    "nteract": {
     "transient": {
      "deleting": false
     }
    }
   },
   "source": [
    "### মডেল শ্রেণীবিন্যাস - এম্বেডিং মডেল নির্বাচন\n",
    "\n",
    "**মডেল শ্রেণীবিন্যাস**: {family} - {capability} - {input-type} - {identifier}  \n",
    "\n",
    "{family}     --> text-embedding  (এম্বেডিং পরিবারের মডেল)  \n",
    "{capability} --> ada             (২০২৪ সালে অন্যান্য এম্বেডিং মডেলগুলো বন্ধ হয়ে যাবে)  \n",
    "{input-type} --> n/a             (শুধুমাত্র সার্চ মডেলের জন্য নির্ধারিত)  \n",
    "{identifier} --> 002             (সংস্করণ 002)  \n",
    "\n",
    "model = 'text-embedding-ada-002'\n"
   ]
  },
  {
   "cell_type": "markdown",
   "metadata": {},
   "source": [
    "> [!NOTE] যদি আপনি এই নোটবুকটি কোডস্পেসেস বা ডেভকন্টেইনারে চালান, তাহলে পরবর্তী ধাপটি প্রয়োজনীয় নয়\n"
   ]
  },
  {
   "cell_type": "code",
   "execution_count": null,
   "metadata": {},
   "outputs": [],
   "source": [
    "# Dependencies for embeddings_utils\n",
    "%pip install matplotlib plotly scikit-learn pandas"
   ]
  },
  {
   "cell_type": "code",
   "execution_count": null,
   "metadata": {
    "gather": {
     "logged": 1674829364153
    },
    "jupyter": {
     "outputs_hidden": false,
     "source_hidden": false
    },
    "nteract": {
     "transient": {
      "deleting": false
     }
    }
   },
   "outputs": [],
   "source": [
    "def cosine_similarity(a, b):\n",
    "    return np.dot(a, b) / (np.linalg.norm(a) * np.linalg.norm(b))"
   ]
  },
  {
   "cell_type": "code",
   "execution_count": null,
   "metadata": {
    "gather": {
     "logged": 1674829424097
    },
    "jupyter": {
     "outputs_hidden": false,
     "source_hidden": false
    },
    "nteract": {
     "transient": {
      "deleting": false
     }
    }
   },
   "outputs": [],
   "source": [
    "text = 'the quick brown fox jumped over the lazy dog'\n",
    "model= os.environ['AZURE_OPENAI_EMBEDDINGS_DEPLOYMENT']\n",
    "client.embeddings.create(input='[text]', model=model).data[0].embedding"
   ]
  },
  {
   "cell_type": "code",
   "execution_count": null,
   "metadata": {
    "gather": {
     "logged": 1674829555255
    },
    "jupyter": {
     "outputs_hidden": false,
     "source_hidden": false
    },
    "nteract": {
     "transient": {
      "deleting": false
     }
    }
   },
   "outputs": [],
   "source": [
    "\n",
    "# compare several words\n",
    "automobile_embedding  = client.embeddings.create(input='automobile', model=model).data[0].embedding\n",
    "vehicle_embedding     = client.embeddings.create(input='vehicle', model=model).data[0].embedding\n",
    "dinosaur_embedding    = client.embeddings.create(input='dinosaur', model=model).data[0].embedding\n",
    "stick_embedding       = client.embeddings.create(input='stick', model=model).data[0].embedding\n",
    "\n",
    "print(cosine_similarity(automobile_embedding, vehicle_embedding))\n",
    "print(cosine_similarity(automobile_embedding, dinosaur_embedding))\n",
    "print(cosine_similarity(automobile_embedding, stick_embedding))"
   ]
  },
  {
   "attachments": {},
   "cell_type": "markdown",
   "metadata": {
    "nteract": {
     "transient": {
      "deleting": false
     }
    }
   },
   "source": [
    "## সিএনএন ডেইলি নিউজ ডেটাসেট থেকে আর্টিকেল তুলনা করা হচ্ছে\n",
    "source: https://huggingface.co/datasets/cnn_dailymail\n"
   ]
  },
  {
   "cell_type": "code",
   "execution_count": null,
   "metadata": {
    "gather": {
     "logged": 1674831122093
    },
    "jupyter": {
     "outputs_hidden": false,
     "source_hidden": false
    },
    "nteract": {
     "transient": {
      "deleting": false
     }
    }
   },
   "outputs": [],
   "source": [
    "import pandas as pd\n",
    "cnn_daily_articles = ['BREMEN, Germany -- Carlos Alberto, who scored in FC Porto\\'s Champions League final victory against Monaco in 2004, has joined Bundesliga club Werder Bremen for a club record fee of 7.8 million euros ($10.7 million). Carlos Alberto enjoyed success at FC Porto under Jose Mourinho. \"I\\'m here to win titles with Werder,\" the 22-year-old said after his first training session with his new club. \"I like Bremen and would only have wanted to come here.\" Carlos Alberto started his career with Fluminense, and helped them to lift the Campeonato Carioca in 2002. In January 2004 he moved on to FC Porto, who were coached by José Mourinho, and the club won the Portuguese title as well as the Champions League. Early in 2005, he moved to Corinthians, where he impressed as they won the Brasileirão,but in 2006 Corinthians had a poor season and Carlos Alberto found himself at odds with manager, Emerson Leão. Their poor relationship came to a climax at a Copa Sul-Americana game against Club Atlético Lanús, and Carlos Alberto declared that he would not play for Corinthians again while Leão remained as manager. Since January this year he has been on loan with his first club Fluminense. Bundesliga champions VfB Stuttgart said on Sunday that they would sign a loan agreement with Real Zaragoza on Monday for Ewerthon, the third top Brazilian player to join the German league in three days. A VfB spokesman said Ewerthon, who played in the Bundesliga for Borussia Dortmund from 2001 to 2005, was expected to join the club for their pre-season training in Austria on Monday. On Friday, Ailton returned to Germany where he was the league\\'s top scorer in 2004, signing a one-year deal with Duisburg on a transfer from Red Star Belgrade. E-mail to a friend .',\n",
    "                        '(CNN) -- Football superstar, celebrity, fashion icon, multimillion-dollar heartthrob. Now, David Beckham is headed for the Hollywood Hills as he takes his game to U.S. Major League Soccer. CNN looks at how Bekham fulfilled his dream of playing for Manchester United, and his time playing for England. The world\\'s famous footballer has begun a five-year contract with the Los Angeles Galaxy team, and on Friday Beckham will meet the press and reveal his new shirt number. This week, we take an in depth look at the life and times of Beckham, as CNN\\'s very own \"Becks,\" Becky Anderson, sets out to examine what makes the man tick -- as footballer, fashion icon and global phenomenon. It\\'s a long way from the streets of east London to the Hollywood Hills and Becky charts Beckham\\'s incredible rise to football stardom, a journey that has seen his skills grace the greatest stages in world soccer. She goes in pursuit of the current hottest property on the sports/celebrity circuit in the U.S. and along the way explores exactly what\\'s behind the man with the golden boot. CNN will look back at the life of Beckham, the wonderfully talented youngster who fulfilled his dream of playing for Manchester United, his marriage to pop star Victoria, and the trials and tribulations of playing for England. We\\'ll look at the highs (scoring against Greece), the lows (being sent off during the World Cup), the Man. U departure for the Galacticos of Madrid -- and now the Home Depot stadium in L.A. We\\'ll ask how Beckham and his family will adapt to life in Los Angeles -- the people, the places to see and be seen and the celebrity endorsement. Beckham is no stranger to exposure. He has teamed with Reggie Bush in an Adidas commercial, is the face of Motorola, is the face on a PlayStation game and doesn\\'t need fashion tips as he has his own international clothing line. But what does the star couple need to do to become an accepted part of Tinseltown\\'s glitterati? The road to major league football in the U.S.A. is a well-worn route for some of the world\\'s greatest players. We talk to some of the former greats who came before him and examine what impact these overseas stars had on U.S. soccer and look at what is different now. We also get a rare glimpse inside the David Beckham academy in L.A, find out what drives the kids and who are their heroes. The perception that in the U.S.A. soccer is a \"game for girls\" after the teenage years is changing. More and more young kids are choosing the European game over the traditional U.S. sports. E-mail to a friend .',\n",
    "                        'LOS ANGELES, California (CNN) -- Youssif, the 5-year-old burned Iraqi boy, rounded the corner at Universal Studios when suddenly the little boy hero met his favorite superhero. Youssif has always been a huge Spider-Man fan. Meeting him was \"my favorite thing,\" he said. Spider-Man was right smack dab in front of him, riding a four-wheeler amid a convoy of other superheroes. The legendary climber of buildings and fighter of evil dismounted, walked over to Youssif and introduced himself. Spidey then gave the boy from a far-away land a gentle hug, embracing him in his iconic blue and red tights. He showed Youssif a few tricks, like how to shoot a web from his wrist. Only this time, no web was spun. \"All right Youssif!\" Spider-Man said after the boy mimicked his wrist movement. Other superheroes crowded around to get a closer look. Even the Green Goblin stopped his villainous ways to tell the boy hi. Youssif remained unfazed. He didn\\'t take a liking to Spider-Man\\'s nemesis. Spidey was just too cool. \"It was my favorite thing,\" the boy said later. \"I want to see him again.\" He then felt compelled to add: \"I know it\\'s not the real Spider-Man.\" This was the day of dreams when the boy\\'s nightmares were, at least temporarily, forgotten. He met SpongeBob, Lassie and a 3-year-old orangutan named Archie. The hairy, brownish-red primate took to the boy, grabbing his hand and holding it. Even when Youssif pulled away, Archie would inch his hand back toward the boy\\'s and then snatch it. See Youssif enjoy being a boy again » . The boy giggled inside a play area where sponge-like balls shot out of toy guns. It was a far different artillery than what he was used to seeing in central Baghdad, as recently as a week ago. He squealed with delight and raced around the room collecting as many balls as he could. He rode a tram through the back stages at Universal Studios. At one point, the car shook. Fire and smoke filled the air, debris cascaded down and a big rig skidded toward the vehicle. The boy and his family survived the pretend earthquake unscathed. \"Even I was scared,\" the dad said. \"Well, I wasn\\'t,\" Youssif replied. The father and mother grinned from ear to ear throughout the day. Youssif pushed his 14-month-old sister, Ayaa, in a stroller. \"Did you even need to ask us if we were interested in coming here?\" Youssif\\'s father said in amazement. \"Other than my wedding day, this is the happiest day of my life,\" he said. Just a day earlier, the mother and father talked about their journey out of Iraq and to the United States. They also discussed that day nine months ago when masked men grabbed their son outside the family home, doused him in gas and set him on fire. His mother heard her boy screaming from inside. The father sought help for his boy across Baghdad, but no one listened. He remembers his son\\'s two months of hospitalization. The doctors didn\\'t use anesthetics. He could hear his boy\\'s piercing screams from the other side of the hospital. Watch Youssif meet his doctor and play with his little sister » . The father knew that speaking to CNN would put his family\\'s lives in jeopardy. The possibility of being killed was better than seeing his son suffer, he said. \"Anything for Youssif,\" he said. \"We had to do it.\" They described a life of utter chaos in Baghdad. Neighbors had recently given birth to a baby girl. Shortly afterward, the father was kidnapped and killed. Then, there was the time when some girls wore tanktops and jeans. They were snatched off the street by gunmen. The stories can be even more gruesome. The couple said they had heard reports that a young girl was kidnapped and beheaded --and her killers sewed a dog\\'s head on the corpse and delivered it to her family\\'s doorstep. \"These are just some of the stories,\" said Youssif\\'s mother, Zainab. Under Saddam Hussein, there was more security and stability, they said. There was running water and electricity most of the time. But still life was tough under the dictator, like the time when Zainab\\'s uncle disappeared and was never heard from again after he read a \"religious book,\" she said. Sitting in the parking lot of a Target in suburban Los Angeles, Youssif\\'s father watched as husbands and wives, boyfriends and girlfriends, parents and their children, came and went. Some held hands. Others smiled and laughed. \"Iraq finished,\" he said in what few English words he knows. He elaborated in Arabic: His homeland won\\'t be enjoying such freedoms anytime soon. It\\'s just not possible. Too much violence. Too many killings. His two children have only seen war. But this week, the family has seen a much different side of America -- an outpouring of generosity and a peaceful nation at home. \"It\\'s been a dream,\" the father said. He used to do a lot of volunteer work back in Baghdad. \"Maybe that\\'s why I\\'m being helped now,\" the father said. At Universal Studios, he looked out across the valley below. The sun glistened off treetops and buildings. It was a picturesque sight fit for a Hollywood movie. \"Good America, good America,\" he said in English. E-mail to a friend . CNN\\'s Arwa Damon contributed to this report.'\n",
    "]\n",
    "\n",
    "cnn_daily_article_highlights = ['Werder Bremen pay a club record $10.7 million for Carlos Alberto .\\nThe Brazilian midfielder won the Champions League with FC Porto in 2004 .\\nSince January he has been on loan with his first club, Fluminense .',\n",
    "                                'Beckham has agreed to a five-year contract with Los Angeles Galaxy .\\nNew contract took effect July 1, 2007 .\\nFormer English captain to meet press, unveil new shirt number Friday .\\nCNN to look at Beckham as footballer, fashion icon and global phenomenon .',\n",
    "                                'Boy on meeting Spider-Man: \"It was my favorite thing\"\\nYoussif also met SpongeBob, Lassie and an orangutan at Universal Studios .\\nDad: \"Other than my wedding day, this is the happiest day of my life\"'\n",
    "]\n",
    "\n",
    "cnn_df = pd.DataFrame({\"articles\":cnn_daily_articles, \"highligths\":cnn_daily_article_highlights})\n",
    "\n",
    "cnn_df.head()"
   ]
  },
  {
   "cell_type": "code",
   "execution_count": null,
   "metadata": {
    "gather": {
     "logged": 1674831294043
    },
    "jupyter": {
     "outputs_hidden": false,
     "source_hidden": false
    },
    "nteract": {
     "transient": {
      "deleting": false
     }
    }
   },
   "outputs": [],
   "source": [
    "article1_embedding    = client.embeddings.create(input=cnn_df.articles.iloc[0], model=model).data[0].embedding\n",
    "article2_embedding    = client.embeddings.create(input=cnn_df.articles.iloc[1], model=model).data[0].embedding\n",
    "article3_embedding    = client.embeddings.create(input=cnn_df.articles.iloc[2], model=model).data[0].embedding\n",
    "\n",
    "print(cosine_similarity(article1_embedding, article2_embedding))\n",
    "print(cosine_similarity(article1_embedding, article3_embedding))"
   ]
  },
  {
   "attachments": {},
   "cell_type": "markdown",
   "metadata": {
    "nteract": {
     "transient": {
      "deleting": false
     }
    }
   },
   "source": [
    "# রেফারেন্স  \n",
    "- [Azure ডকুমেন্টেশন - Azure OpenAI মডেলসমূহ](https://learn.microsoft.com/azure/cognitive-services/openai/concepts/models?WT.mc_id=academic-105485-koreyst)  \n",
    "- [OpenAI Studio উদাহরণসমূহ](https://oai.azure.com/portal?WT.mc_id=academic-105485-koreyst)\n"
   ]
  },
  {
   "attachments": {},
   "cell_type": "markdown",
   "metadata": {
    "nteract": {
     "transient": {
      "deleting": false
     }
    }
   },
   "source": [
    "# আরও সাহায্যের জন্য  \n",
    "[OpenAI Commercialization Team](AzureOpenAITeam@microsoft.com)\n"
   ]
  },
  {
   "attachments": {},
   "cell_type": "markdown",
   "metadata": {
    "nteract": {
     "transient": {
      "deleting": false
     }
    }
   },
   "source": [
    "# অবদানকারীরা\n",
    "* Louis Li\n"
   ]
  },
  {
   "cell_type": "markdown",
   "metadata": {},
   "source": [
    "\n---\n\n**দায়িত্ব অস্বীকার**:\nএই নথিটি AI অনুবাদ পরিষেবা [Co-op Translator](https://github.com/Azure/co-op-translator) ব্যবহার করে অনুবাদ করা হয়েছে। আমরা যথাসাধ্য নির্ভুলতার চেষ্টা করি, তবে অনুগ্রহ করে মনে রাখবেন যে স্বয়ংক্রিয় অনুবাদে ভুল বা অসঙ্গতি থাকতে পারে। মূল ভাষায় রচিত নথিটিকেই চূড়ান্ত ও নির্ভরযোগ্য উৎস হিসেবে বিবেচনা করা উচিত। গুরুত্বপূর্ণ তথ্যের জন্য পেশাদার মানব অনুবাদ সুপারিশ করা হয়। এই অনুবাদের ব্যবহারে কোনো ভুল বোঝাবুঝি বা ভুল ব্যাখ্যার জন্য আমরা দায়ী নই।\n"
   ]
  }
 ],
 "metadata": {
  "kernel_info": {
   "name": "python310-sdkv2"
  },
  "kernelspec": {
   "display_name": "base",
   "language": "python",
   "name": "python3"
  },
  "language_info": {
   "codemirror_mode": {
    "name": "ipython",
    "version": 3
   },
   "file_extension": ".py",
   "mimetype": "text/x-python",
   "name": "python",
   "nbconvert_exporter": "python",
   "pygments_lexer": "ipython3",
   "version": "3.10.13"
  },
  "microsoft": {
   "host": {
    "AzureML": {
     "notebookHasBeenCompleted": true
    }
   }
  },
  "nteract": {
   "version": "nteract-front-end@1.0.0"
  },
  "coopTranslator": {
   "original_hash": "0d1caa6c42ad19d6268f0ea38a1f6421",
   "translation_date": "2025-08-25T16:43:39+00:00",
   "source_file": "07-building-chat-applications/python/aoai-assignment.ipynb",
   "language_code": "bn"
  }
 },
 "nbformat": 4,
 "nbformat_minor": 2
}