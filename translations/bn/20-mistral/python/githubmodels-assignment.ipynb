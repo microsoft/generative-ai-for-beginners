{
 "cells": [
  {
   "cell_type": "markdown",
   "metadata": {},
   "source": [
    "# মিস্ট্রাল মডেল দিয়ে তৈরি করা\n",
    "\n",
    "## পরিচিতি\n",
    "\n",
    "এই পাঠে আলোচনা করা হবে:\n",
    "- বিভিন্ন মিস্ট্রাল মডেল নিয়ে অনুসন্ধান\n",
    "- প্রতিটি মডেলের ব্যবহার ক্ষেত্র ও পরিস্থিতি বোঝা\n",
    "- কোড নমুনার মাধ্যমে প্রতিটি মডেলের বিশেষ বৈশিষ্ট্য দেখানো\n"
   ]
  },
  {
   "cell_type": "markdown",
   "metadata": {},
   "source": [
    "## মিস্ট্রাল মডেলসমূহ\n",
    "\n",
    "এই পাঠে, আমরা ৩টি ভিন্ন মিস্ট্রাল মডেল নিয়ে আলোচনা করব:\n",
    "**Mistral Large**, **Mistral Small** এবং **Mistral Nemo**।\n",
    "\n",
    "এই প্রতিটি মডেল Github Model মার্কেটপ্লেসে বিনামূল্যে পাওয়া যায়। এই নোটবুকে ব্যবহৃত কোডে এই মডেলগুলো ব্যবহার করা হবে। আরও বিস্তারিত জানতে, Github Models ব্যবহার করে [এআই মডেল দিয়ে প্রোটোটাইপ তৈরি](https://docs.github.com/en/github-models/prototyping-with-ai-models?WT.mc_id=academic-105485-koreyst) করার নির্দেশিকা দেখুন।\n"
   ]
  },
  {
   "cell_type": "markdown",
   "metadata": {},
   "source": [
    "## Mistral Large 2 (2407)\n",
    "Mistral Large 2 বর্তমানে Mistral-এর প্রধান মডেল এবং এটি ব্যবসায়িক ব্যবহারের জন্য তৈরি।\n",
    "\n",
    "এই মডেলটি মূল Mistral Large-এর তুলনায় উন্নত, কারণ এতে রয়েছে\n",
    "-  বড় কনটেক্সট উইন্ডো - ১২৮k বনাম ৩২k\n",
    "-  গণিত ও কোডিং টাস্কে আরও ভালো পারফরম্যান্স - গড় নির্ভুলতা ৭৬.৯% বনাম ৬০.৪%\n",
    "-  বহুভাষিক পারফরম্যান্স বৃদ্ধি - অন্তর্ভুক্ত ভাষাসমূহ: ইংরেজি, ফরাসি, জার্মান, স্প্যানিশ, ইতালিয়ান, পর্তুগিজ, ডাচ, রুশ, চীনা, জাপানি, কোরিয়ান, আরবি এবং হিন্দি।\n",
    "\n",
    "এই বৈশিষ্ট্যগুলোর কারণে, Mistral Large দক্ষ\n",
    "- *Retrieval Augmented Generation (RAG)*-এ - বড় কনটেক্সট উইন্ডোর জন্য\n",
    "- *Function Calling*-এ - এই মডেলে নেটিভ ফাংশন কলিং রয়েছে, যা বাইরের টুল ও API-এর সাথে সংযোগ করতে দেয়। এই কলগুলো একসাথে বা ধারাবাহিকভাবে একটির পর একটি করা যায়।\n",
    "- *Code Generation*-এ - এই মডেলটি Python, Java, TypeScript এবং C++ কোড জেনারেশনে খুবই দক্ষ।\n"
   ]
  },
  {
   "cell_type": "markdown",
   "metadata": {},
   "source": [
    "### মিস্ট্রাল লার্জ ২ ব্যবহার করে আরএজি উদাহরণ\n"
   ]
  },
  {
   "cell_type": "markdown",
   "metadata": {},
   "source": [
    "এই উদাহরণে, আমরা Mistral Large 2 ব্যবহার করছি একটি টেক্সট ডকুমেন্টের উপর RAG প্যাটার্ন চালানোর জন্য। প্রশ্নটি কোরিয়ান ভাষায় লেখা এবং লেখকের কলেজে যাওয়ার আগের কার্যকলাপ সম্পর্কে জানতে চায়।\n",
    "\n",
    "এখানে Cohere Embeddings Model ব্যবহার করা হয়েছে টেক্সট ডকুমেন্ট এবং প্রশ্নের এমবেডিং তৈরি করতে। এই নমুনার জন্য, faiss পাইথন প্যাকেজকে ভেক্টর স্টোর হিসেবে ব্যবহার করা হয়েছে।\n",
    "\n",
    "Mistral মডেলে পাঠানো প্রম্পটে প্রশ্ন এবং প্রশ্নের সাথে মিল আছে এমন রিট্রিভ করা অংশগুলো অন্তর্ভুক্ত থাকে। এরপর মডেলটি স্বাভাবিক ভাষায় উত্তর প্রদান করে।\n"
   ]
  },
  {
   "cell_type": "code",
   "execution_count": 50,
   "metadata": {},
   "outputs": [
    {
     "name": "stdout",
     "output_type": "stream",
     "text": [
      "Requirement already satisfied: faiss-cpu in /home/codespace/.python/current/lib/python3.12/site-packages (1.8.0.post1)\n",
      "Requirement already satisfied: numpy<2.0,>=1.0 in /home/codespace/.python/current/lib/python3.12/site-packages (from faiss-cpu) (1.26.4)\n",
      "Requirement already satisfied: packaging in /home/codespace/.local/lib/python3.12/site-packages (from faiss-cpu) (24.1)\n",
      "Note: you may need to restart the kernel to use updated packages.\n"
     ]
    }
   ],
   "source": [
    "pip install faiss-cpu"
   ]
  },
  {
   "cell_type": "code",
   "execution_count": 51,
   "metadata": {},
   "outputs": [
    {
     "name": "stdout",
     "output_type": "stream",
     "text": [
      "The author primarily engaged in two activities before college: writing and programming. In terms of writing, they wrote short stories, albeit not very good ones, with minimal plot and characters expressing strong feelings. For programming, they started writing programs on the IBM 1401 used for data processing during their 9th grade, at the age of 13 or 14. They used an early version of Fortran and typed programs on punch cards, later loading them into the card reader to run the program.\n"
     ]
    }
   ],
   "source": [
    "import requests\n",
    "import numpy as np\n",
    "import faiss\n",
    "import os\n",
    "\n",
    "from azure.ai.inference import ChatCompletionsClient\n",
    "from azure.ai.inference.models import SystemMessage, UserMessage\n",
    "from azure.core.credentials import AzureKeyCredential\n",
    "from azure.ai.inference import EmbeddingsClient\n",
    "\n",
    "endpoint = \"https://models.inference.ai.azure.com\"\n",
    "model_name = \"Mistral-large\"\n",
    "token = os.environ[\"GITHUB_TOKEN\"]\n",
    "\n",
    "client = ChatCompletionsClient(\n",
    "    endpoint=endpoint,\n",
    "    credential=AzureKeyCredential(token),\n",
    ")\n",
    "\n",
    "response = requests.get('https://raw.githubusercontent.com/run-llama/llama_index/main/docs/docs/examples/data/paul_graham/paul_graham_essay.txt')\n",
    "text = response.text\n",
    "\n",
    "chunk_size = 2048\n",
    "chunks = [text[i:i + chunk_size] for i in range(0, len(text), chunk_size)]\n",
    "len(chunks)\n",
    "\n",
    "embed_model_name = \"cohere-embed-v3-multilingual\" \n",
    "\n",
    "embed_client = EmbeddingsClient(\n",
    "        endpoint=endpoint,\n",
    "        credential=AzureKeyCredential(token)\n",
    ")\n",
    "\n",
    "embed_response = embed_client.embed(\n",
    "    input=chunks,\n",
    "    model=embed_model_name\n",
    ")\n",
    "\n",
    "\n",
    "\n",
    "text_embeddings = []\n",
    "for item in embed_response.data:\n",
    "    length = len(item.embedding)\n",
    "    text_embeddings.append(item.embedding)\n",
    "text_embeddings = np.array(text_embeddings)\n",
    "\n",
    "\n",
    "d = text_embeddings.shape[1]\n",
    "index = faiss.IndexFlatL2(d)\n",
    "index.add(text_embeddings)\n",
    "\n",
    "question = \"저자가 대학에 오기 전에 주로 했던 두 가지 일은 무엇이었나요?？\"\n",
    "\n",
    "question_embedding = embed_client.embed(\n",
    "    input=[question],\n",
    "    model=embed_model_name\n",
    ")\n",
    "\n",
    "question_embeddings = np.array(question_embedding.data[0].embedding)\n",
    "\n",
    "\n",
    "D, I = index.search(question_embeddings.reshape(1, -1), k=2) # distance, index\n",
    "retrieved_chunks = [chunks[i] for i in I.tolist()[0]]\n",
    "\n",
    "prompt = f\"\"\"\n",
    "Context information is below.\n",
    "---------------------\n",
    "{retrieved_chunks}\n",
    "---------------------\n",
    "Given the context information and not prior knowledge, answer the query.\n",
    "Query: {question}\n",
    "Answer:\n",
    "\"\"\"\n",
    "\n",
    "\n",
    "chat_response = client.complete(\n",
    "    messages=[\n",
    "        SystemMessage(content=\"You are a helpful assistant.\"),\n",
    "        UserMessage(content=prompt),\n",
    "    ],\n",
    "    temperature=1.0,\n",
    "    top_p=1.0,\n",
    "    max_tokens=1000,\n",
    "    model=model_name\n",
    ")\n",
    "\n",
    "print(chat_response.choices[0].message.content)"
   ]
  },
  {
   "cell_type": "markdown",
   "metadata": {},
   "source": [
    "## মিস্ট্রাল স্মল\n",
    "মিস্ট্রাল স্মল হলো মিস্ট্রাল পরিবারের আরেকটি মডেল, যা প্রিমিয়ার/এন্টারপ্রাইজ ক্যাটাগরির অধীনে পড়ে। নাম থেকেই বোঝা যায়, এটি একটি স্মল ল্যাঙ্গুয়েজ মডেল (SLM)। মিস্ট্রাল স্মল ব্যবহারের সুবিধাগুলো হলো:\n",
    "- খরচ সাশ্রয়ী, যেমন মিস্ট্রাল লার্জ ও NeMo-এর মতো মিস্ট্রাল LLM-এর তুলনায় ৮০% পর্যন্ত দাম কম\n",
    "- কম লেটেন্সি - মিস্ট্রাল-এর LLM গুলোর তুলনায় দ্রুত রেসপন্স\n",
    "- নমনীয় - বিভিন্ন পরিবেশে সহজেই ডিপ্লয় করা যায়, কম রিসোর্সের প্রয়োজনীয়তা ও কম সীমাবদ্ধতা নিয়ে\n",
    "\n",
    "মিস্ট্রাল স্মল উপযুক্ত:\n",
    "- টেক্সট ভিত্তিক কাজের জন্য, যেমন সারাংশ তৈরি, অনুভূতি বিশ্লেষণ ও অনুবাদ\n",
    "- এমন অ্যাপ্লিকেশনের জন্য যেখানে খরচ সাশ্রয়ী হওয়ায় ঘন ঘন অনুরোধ করা হয়\n",
    "- কম লেটেন্সি কোড সম্পর্কিত কাজের জন্য, যেমন কোড রিভিউ ও কোড সাজেশন\n"
   ]
  },
  {
   "cell_type": "markdown",
   "metadata": {},
   "source": [
    "## মিস্ট্রাল স্মল এবং মিস্ট্রাল লার্জ তুলনা\n",
    "\n",
    "মিস্ট্রাল স্মল এবং লার্জ-এর মধ্যে লেটেন্সির পার্থক্য দেখানোর জন্য নিচের সেলগুলো চালান।\n",
    "\n",
    "আপনি ৩-৫ সেকেন্ডের মধ্যে রেসপন্স টাইমে পার্থক্য দেখতে পাবেন। একই প্রম্পটে রেসপন্সের দৈর্ঘ্য ও স্টাইলেও পার্থক্য লক্ষ্য করুন।\n"
   ]
  },
  {
   "cell_type": "code",
   "execution_count": null,
   "metadata": {},
   "outputs": [],
   "source": [
    "import os \n",
    "endpoint = \"https://models.inference.ai.azure.com\"\n",
    "model_name = \"Mistral-small\"\n",
    "token = os.environ[\"GITHUB_TOKEN\"]\n",
    "\n",
    "client = ChatCompletionsClient(\n",
    "    endpoint=endpoint,\n",
    "    credential=AzureKeyCredential(token),\n",
    ")\n",
    "\n",
    "response = client.complete(\n",
    "    messages=[\n",
    "        SystemMessage(content=\"You are a helpful coding assistant.\"),\n",
    "        UserMessage(content=\"Can you write a Python function to the fizz buzz test?\"),\n",
    "    ],\n",
    "    temperature=1.0,\n",
    "    top_p=1.0,\n",
    "    max_tokens=1000,\n",
    "    model=model_name\n",
    ")\n",
    "\n",
    "print(response.choices[0].message.content)"
   ]
  },
  {
   "cell_type": "code",
   "execution_count": null,
   "metadata": {},
   "outputs": [],
   "source": [
    "import os\n",
    "from azure.ai.inference import ChatCompletionsClient\n",
    "from azure.ai.inference.models import SystemMessage, UserMessage\n",
    "from azure.core.credentials import AzureKeyCredential\n",
    "\n",
    "endpoint = \"https://models.inference.ai.azure.com\"\n",
    "model_name = \"Mistral-large\"\n",
    "token = os.environ[\"GITHUB_TOKEN\"]\n",
    "\n",
    "client = ChatCompletionsClient(\n",
    "    endpoint=endpoint,\n",
    "    credential=AzureKeyCredential(token),\n",
    ")\n",
    "\n",
    "response = client.complete(\n",
    "    messages=[\n",
    "        SystemMessage(content=\"You are a helpful coding assistant.\"),\n",
    "        UserMessage(content=\"Can you write a Python function to the fizz buzz test?\"),\n",
    "    ],\n",
    "    temperature=1.0,\n",
    "    top_p=1.0,\n",
    "    max_tokens=1000,\n",
    "    model=model_name\n",
    ")\n",
    "\n",
    "print(response.choices[0].message.content)"
   ]
  },
  {
   "cell_type": "markdown",
   "metadata": {},
   "source": [
    "## মিস্ট্রাল নেমো\n",
    "\n",
    "এই পাঠে আলোচিত অন্য দুটি মডেলের তুলনায়, মিস্ট্রাল নেমো একমাত্র ফ্রি মডেল যেটির অ্যাপাচি২ লাইসেন্স রয়েছে।\n",
    "\n",
    "এটি মিস্ট্রালের আগের ওপেন সোর্স LLM, মিস্ট্রাল 7B-এর একটি আপগ্রেড হিসেবে দেখা হয়।\n",
    "\n",
    "নেমো মডেলের আরও কিছু বৈশিষ্ট্য হলো:\n",
    "\n",
    "- *আরও দক্ষ টোকেনাইজেশন:* এই মডেলটি সাধারণত ব্যবহৃত tiktoken-এর পরিবর্তে Tekken টোকেনাইজার ব্যবহার করে। এর ফলে আরও বেশি ভাষা ও কোডে ভালো পারফরম্যান্স পাওয়া যায়।\n",
    "\n",
    "- *ফাইনটিউনিং:* বেস মডেলটি ফাইনটিউনিংয়ের জন্য উপলব্ধ। এর ফলে এমন ব্যবহারিক ক্ষেত্রে আরও বেশি নমনীয়তা পাওয়া যায়, যেখানে ফাইনটিউনিং দরকার হতে পারে।\n",
    "\n",
    "- *নেটিভ ফাংশন কলিং* - মিস্ট্রাল লার্জ-এর মতো, এই মডেলটিও ফাংশন কলিং-এ প্রশিক্ষিত। এটি এটিকে বিশেষ করে তোলে, কারণ এটি প্রথম ওপেন সোর্স মডেলগুলোর একটি, যেটি এই কাজটি করতে পারে।\n"
   ]
  },
  {
   "cell_type": "markdown",
   "metadata": {},
   "source": [
    "## মিস্ট্রাল নেমো\n",
    "\n",
    "এই পাঠে আলোচিত অন্য দুটি মডেলের তুলনায়, মিস্ট্রাল নেমো একমাত্র ফ্রি মডেল যেটির অ্যাপাচি২ লাইসেন্স রয়েছে।\n",
    "\n",
    "এটি মিস্ট্রালের আগের ওপেন সোর্স LLM, মিস্ট্রাল 7B-এর একটি আপগ্রেড হিসেবে দেখা হয়।\n",
    "\n",
    "নেমো মডেলের আরও কিছু বৈশিষ্ট্য হলো:\n",
    "\n",
    "- *আরও দক্ষ টোকেনাইজেশন:* এই মডেলটি সাধারণত ব্যবহৃত tiktoken-এর পরিবর্তে Tekken টোকেনাইজার ব্যবহার করে। এর ফলে আরও বেশি ভাষা ও কোডে ভালো পারফরম্যান্স পাওয়া যায়।\n",
    "\n",
    "- *ফাইনটিউনিং:* বেস মডেলটি ফাইনটিউনিংয়ের জন্য উপলব্ধ। এর ফলে এমন ব্যবহারিক ক্ষেত্রগুলোতে আরও বেশি নমনীয়তা পাওয়া যায়, যেখানে ফাইনটিউনিং দরকার হতে পারে।\n",
    "\n",
    "- *নেটিভ ফাংশন কলিং* - মিস্ট্রাল লার্জ-এর মতো, এই মডেলটিও ফাংশন কলিং-এ প্রশিক্ষিত। এটি এটিকে অনন্য করে তোলে, কারণ এটি প্রথম ওপেন সোর্স মডেলগুলোর একটি, যেটি এই কাজটি করতে পারে।\n"
   ]
  },
  {
   "cell_type": "markdown",
   "metadata": {},
   "source": [
    "### টোকেনাইজার তুলনা\n",
    "\n",
    "এই উদাহরণে, আমরা দেখব কীভাবে Mistral NeMo টোকেনাইজেশন পরিচালনা করে Mistral Large-এর তুলনায়।\n",
    "\n",
    "উভয় উদাহরণেই একই প্রম্পট নেওয়া হয়েছে, কিন্তু আপনি লক্ষ্য করবেন যে NeMo তুলনামূলকভাবে কম টোকেন ফেরত দেয় Mistral Large-এর চেয়ে।\n"
   ]
  },
  {
   "cell_type": "code",
   "execution_count": 11,
   "metadata": {},
   "outputs": [
    {
     "name": "stdout",
     "output_type": "stream",
     "text": [
      "Collecting mistral-common\n",
      "  Downloading mistral_common-1.4.4-py3-none-any.whl.metadata (4.6 kB)\n",
      "Requirement already satisfied: jsonschema<5.0.0,>=4.21.1 in /home/codespace/.local/lib/python3.12/site-packages (from mistral-common) (4.23.0)\n",
      "Requirement already satisfied: numpy>=1.25 in /home/codespace/.local/lib/python3.12/site-packages (from mistral-common) (2.1.1)\n",
      "Requirement already satisfied: pillow<11.0.0,>=10.3.0 in /home/codespace/.local/lib/python3.12/site-packages (from mistral-common) (10.4.0)\n",
      "Requirement already satisfied: pydantic<3.0.0,>=2.6.1 in /home/codespace/.python/current/lib/python3.12/site-packages (from mistral-common) (2.9.2)\n",
      "Requirement already satisfied: requests<3.0.0,>=2.0.0 in /home/codespace/.local/lib/python3.12/site-packages (from mistral-common) (2.32.3)\n",
      "Collecting sentencepiece==0.2.0 (from mistral-common)\n",
      "  Downloading sentencepiece-0.2.0-cp312-cp312-manylinux_2_17_x86_64.manylinux2014_x86_64.whl.metadata (7.7 kB)\n",
      "Collecting tiktoken<0.8.0,>=0.7.0 (from mistral-common)\n",
      "  Downloading tiktoken-0.7.0-cp312-cp312-manylinux_2_17_x86_64.manylinux2014_x86_64.whl.metadata (6.6 kB)\n",
      "Requirement already satisfied: typing-extensions<5.0.0,>=4.11.0 in /home/codespace/.python/current/lib/python3.12/site-packages (from mistral-common) (4.12.2)\n",
      "Requirement already satisfied: attrs>=22.2.0 in /home/codespace/.local/lib/python3.12/site-packages (from jsonschema<5.0.0,>=4.21.1->mistral-common) (24.2.0)\n",
      "Requirement already satisfied: jsonschema-specifications>=2023.03.6 in /home/codespace/.local/lib/python3.12/site-packages (from jsonschema<5.0.0,>=4.21.1->mistral-common) (2023.12.1)\n",
      "Requirement already satisfied: referencing>=0.28.4 in /home/codespace/.local/lib/python3.12/site-packages (from jsonschema<5.0.0,>=4.21.1->mistral-common) (0.35.1)\n",
      "Requirement already satisfied: rpds-py>=0.7.1 in /home/codespace/.local/lib/python3.12/site-packages (from jsonschema<5.0.0,>=4.21.1->mistral-common) (0.20.0)\n",
      "Requirement already satisfied: annotated-types>=0.6.0 in /home/codespace/.python/current/lib/python3.12/site-packages (from pydantic<3.0.0,>=2.6.1->mistral-common) (0.7.0)\n",
      "Requirement already satisfied: pydantic-core==2.23.4 in /home/codespace/.python/current/lib/python3.12/site-packages (from pydantic<3.0.0,>=2.6.1->mistral-common) (2.23.4)\n",
      "Requirement already satisfied: charset-normalizer<4,>=2 in /home/codespace/.local/lib/python3.12/site-packages (from requests<3.0.0,>=2.0.0->mistral-common) (3.3.2)\n",
      "Requirement already satisfied: idna<4,>=2.5 in /home/codespace/.local/lib/python3.12/site-packages (from requests<3.0.0,>=2.0.0->mistral-common) (3.10)\n",
      "Requirement already satisfied: urllib3<3,>=1.21.1 in /home/codespace/.local/lib/python3.12/site-packages (from requests<3.0.0,>=2.0.0->mistral-common) (2.2.3)\n",
      "Requirement already satisfied: certifi>=2017.4.17 in /home/codespace/.local/lib/python3.12/site-packages (from requests<3.0.0,>=2.0.0->mistral-common) (2024.8.30)\n",
      "Collecting regex>=2022.1.18 (from tiktoken<0.8.0,>=0.7.0->mistral-common)\n",
      "  Downloading regex-2024.9.11-cp312-cp312-manylinux_2_17_x86_64.manylinux2014_x86_64.whl.metadata (40 kB)\n",
      "Downloading mistral_common-1.4.4-py3-none-any.whl (6.0 MB)\n",
      "\u001b[2K   \u001b[90m━━━━━━━━━━━━━━━━━━━━━━━━━━━━━━━━━━━━━━━━\u001b[0m \u001b[32m6.0/6.0 MB\u001b[0m \u001b[31m63.6 MB/s\u001b[0m eta \u001b[36m0:00:00\u001b[0m\n",
      "\u001b[?25hDownloading sentencepiece-0.2.0-cp312-cp312-manylinux_2_17_x86_64.manylinux2014_x86_64.whl (1.3 MB)\n",
      "\u001b[2K   \u001b[90m━━━━━━━━━━━━━━━━━━━━━━━━━━━━━━━━━━━━━━━━\u001b[0m \u001b[32m1.3/1.3 MB\u001b[0m \u001b[31m19.7 MB/s\u001b[0m eta \u001b[36m0:00:00\u001b[0m\n",
      "\u001b[?25hDownloading tiktoken-0.7.0-cp312-cp312-manylinux_2_17_x86_64.manylinux2014_x86_64.whl (1.1 MB)\n",
      "\u001b[2K   \u001b[90m━━━━━━━━━━━━━━━━━━━━━━━━━━━━━━━━━━━━━━━━\u001b[0m \u001b[32m1.1/1.1 MB\u001b[0m \u001b[31m16.8 MB/s\u001b[0m eta \u001b[36m0:00:00\u001b[0m\n",
      "\u001b[?25hDownloading regex-2024.9.11-cp312-cp312-manylinux_2_17_x86_64.manylinux2014_x86_64.whl (797 kB)\n",
      "\u001b[2K   \u001b[90m━━━━━━━━━━━━━━━━━━━━━━━━━━━━━━━━━━━━━━━━\u001b[0m \u001b[32m797.0/797.0 kB\u001b[0m \u001b[31m15.1 MB/s\u001b[0m eta \u001b[36m0:00:00\u001b[0m\n",
      "\u001b[?25hInstalling collected packages: sentencepiece, regex, tiktoken, mistral-common\n",
      "Successfully installed mistral-common-1.4.4 regex-2024.9.11 sentencepiece-0.2.0 tiktoken-0.7.0\n",
      "Note: you may need to restart the kernel to use updated packages.\n"
     ]
    }
   ],
   "source": [
    "pip install mistral-common"
   ]
  },
  {
   "cell_type": "code",
   "execution_count": 12,
   "metadata": {},
   "outputs": [
    {
     "name": "stdout",
     "output_type": "stream",
     "text": [
      "128\n"
     ]
    }
   ],
   "source": [
    "# Import needed packages:\n",
    "from mistral_common.protocol.instruct.messages import (\n",
    "    UserMessage,\n",
    ")\n",
    "from mistral_common.protocol.instruct.request import ChatCompletionRequest\n",
    "from mistral_common.protocol.instruct.tool_calls import (\n",
    "    Function,\n",
    "    Tool,\n",
    ")\n",
    "from mistral_common.tokens.tokenizers.mistral import MistralTokenizer\n",
    "\n",
    "# Load Mistral tokenizer\n",
    "\n",
    "model_name = \"open-mistral-nemo\t\"\n",
    "\n",
    "tokenizer = MistralTokenizer.from_model(model_name)\n",
    "\n",
    "# Tokenize a list of messages\n",
    "tokenized = tokenizer.encode_chat_completion(\n",
    "    ChatCompletionRequest(\n",
    "        tools=[\n",
    "            Tool(\n",
    "                function=Function(\n",
    "                    name=\"get_current_weather\",\n",
    "                    description=\"Get the current weather\",\n",
    "                    parameters={\n",
    "                        \"type\": \"object\",\n",
    "                        \"properties\": {\n",
    "                            \"location\": {\n",
    "                                \"type\": \"string\",\n",
    "                                \"description\": \"The city and state, e.g. San Francisco, CA\",\n",
    "                            },\n",
    "                            \"format\": {\n",
    "                                \"type\": \"string\",\n",
    "                                \"enum\": [\"celsius\", \"fahrenheit\"],\n",
    "                                \"description\": \"The temperature unit to use. Infer this from the users location.\",\n",
    "                            },\n",
    "                        },\n",
    "                        \"required\": [\"location\", \"format\"],\n",
    "                    },\n",
    "                )\n",
    "            )\n",
    "        ],\n",
    "        messages=[\n",
    "            UserMessage(content=\"What's the weather like today in Paris\"),\n",
    "        ],\n",
    "        model=model_name,\n",
    "    )\n",
    ")\n",
    "tokens, text = tokenized.tokens, tokenized.text\n",
    "\n",
    "# Count the number of tokens\n",
    "print(len(tokens))"
   ]
  },
  {
   "cell_type": "code",
   "execution_count": 13,
   "metadata": {},
   "outputs": [
    {
     "name": "stdout",
     "output_type": "stream",
     "text": [
      "135\n"
     ]
    }
   ],
   "source": [
    "# Import needed packages:\n",
    "from mistral_common.protocol.instruct.messages import (\n",
    "    UserMessage,\n",
    ")\n",
    "from mistral_common.protocol.instruct.request import ChatCompletionRequest\n",
    "from mistral_common.protocol.instruct.tool_calls import (\n",
    "    Function,\n",
    "    Tool,\n",
    ")\n",
    "from mistral_common.tokens.tokenizers.mistral import MistralTokenizer\n",
    "\n",
    "# Load Mistral tokenizer\n",
    "\n",
    "model_name = \"mistral-large-latest\"\n",
    "\n",
    "tokenizer = MistralTokenizer.from_model(model_name)\n",
    "\n",
    "# Tokenize a list of messages\n",
    "tokenized = tokenizer.encode_chat_completion(\n",
    "    ChatCompletionRequest(\n",
    "        tools=[\n",
    "            Tool(\n",
    "                function=Function(\n",
    "                    name=\"get_current_weather\",\n",
    "                    description=\"Get the current weather\",\n",
    "                    parameters={\n",
    "                        \"type\": \"object\",\n",
    "                        \"properties\": {\n",
    "                            \"location\": {\n",
    "                                \"type\": \"string\",\n",
    "                                \"description\": \"The city and state, e.g. San Francisco, CA\",\n",
    "                            },\n",
    "                            \"format\": {\n",
    "                                \"type\": \"string\",\n",
    "                                \"enum\": [\"celsius\", \"fahrenheit\"],\n",
    "                                \"description\": \"The temperature unit to use. Infer this from the users location.\",\n",
    "                            },\n",
    "                        },\n",
    "                        \"required\": [\"location\", \"format\"],\n",
    "                    },\n",
    "                )\n",
    "            )\n",
    "        ],\n",
    "        messages=[\n",
    "            UserMessage(content=\"What's the weather like today in Paris\"),\n",
    "        ],\n",
    "        model=model_name,\n",
    "    )\n",
    ")\n",
    "tokens, text = tokenized.tokens, tokenized.text\n",
    "\n",
    "# Count the number of tokens\n",
    "print(len(tokens))"
   ]
  },
  {
   "cell_type": "markdown",
   "metadata": {},
   "source": [
    "## শেখা এখানেই শেষ নয়, যাত্রা চালিয়ে যান\n",
    "\n",
    "এই পাঠ শেষ করার পর, আমাদের [Generative AI Learning collection](https://aka.ms/genai-collection?WT.mc_id=academic-105485-koreyst) দেখুন, যাতে আপনি আপনার Generative AI জ্ঞানে আরও দক্ষ হতে পারেন!\n"
   ]
  },
  {
   "cell_type": "markdown",
   "metadata": {},
   "source": [
    "\n---\n\n**দায়িত্ব অস্বীকার**:\nএই নথিটি AI অনুবাদ পরিষেবা [Co-op Translator](https://github.com/Azure/co-op-translator) ব্যবহার করে অনুবাদ করা হয়েছে। আমরা যথাসম্ভব নির্ভুল অনুবাদের চেষ্টা করি, তবে অনুগ্রহ করে মনে রাখবেন, স্বয়ংক্রিয় অনুবাদে ভুল বা অসঙ্গতি থাকতে পারে। মূল ভাষায় রচিত নথিটিকেই চূড়ান্ত ও নির্ভরযোগ্য উৎস হিসেবে বিবেচনা করা উচিত। গুরুত্বপূর্ণ তথ্যের জন্য পেশাদার মানব অনুবাদ গ্রহণ করার পরামর্শ দেওয়া হচ্ছে। এই অনুবাদের ব্যবহারে কোনো ভুল বোঝাবুঝি বা ভুল ব্যাখ্যা হলে আমরা দায়ী থাকব না।\n"
   ]
  }
 ],
 "metadata": {
  "kernelspec": {
   "display_name": "Python 3",
   "language": "python",
   "name": "python3"
  },
  "language_info": {
   "codemirror_mode": {
    "name": "ipython",
    "version": 3
   },
   "file_extension": ".py",
   "mimetype": "text/x-python",
   "name": "python",
   "nbconvert_exporter": "python",
   "pygments_lexer": "ipython3",
   "version": "3.12.1"
  },
  "coopTranslator": {
   "original_hash": "03bc2561665a8b411acfc24a8aa0d442",
   "translation_date": "2025-08-25T22:17:57+00:00",
   "source_file": "20-mistral/python/githubmodels-assignment.ipynb",
   "language_code": "bn"
  }
 },
 "nbformat": 4,
 "nbformat_minor": 2
}