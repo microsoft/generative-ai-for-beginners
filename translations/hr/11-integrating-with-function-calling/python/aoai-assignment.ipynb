{
 "cells": [
  {
   "cell_type": "markdown",
   "metadata": {},
   "source": [
    "## Uvod\n",
    "\n",
    "Ova lekcija obuhvaća:\n",
    "- Što je pozivanje funkcija i kada se koristi\n",
    "- Kako napraviti poziv funkcije pomoću Azure OpenAI\n",
    "- Kako integrirati poziv funkcije u aplikaciju\n",
    "\n",
    "## Ciljevi učenja\n",
    "\n",
    "Nakon završetka ove lekcije znat ćete i razumjeti:\n",
    "\n",
    "- Svrhu korištenja pozivanja funkcija\n",
    "- Postavljanje poziva funkcije pomoću Azure Open AI servisa\n",
    "- Dizajniranje učinkovitih poziva funkcija za potrebe vaše aplikacije\n"
   ]
  },
  {
   "cell_type": "markdown",
   "metadata": {},
   "source": [
    "## Razumijevanje poziva funkcija\n",
    "\n",
    "Za ovu lekciju želimo izgraditi funkcionalnost za naš startup u obrazovanju koja korisnicima omogućuje korištenje chatbota za pronalaženje tehničkih tečajeva. Preporučit ćemo tečajeve koji odgovaraju njihovoj razini znanja, trenutnoj ulozi i tehnologiji koja ih zanima.\n",
    "\n",
    "Za ostvarenje ovoga koristit ćemo kombinaciju:\n",
    " - `Azure Open AI` za kreiranje chat iskustva za korisnika\n",
    " - `Microsoft Learn Catalog API` kako bismo korisnicima pomogli pronaći tečajeve prema njihovom zahtjevu\n",
    " - `Function Calling` kako bismo korisnički upit poslali funkciji koja će napraviti API zahtjev.\n",
    "\n",
    "Za početak, pogledajmo zašto bismo uopće željeli koristiti pozivanje funkcija:\n",
    "\n",
    "print(\"Poruke u sljedećem zahtjevu:\")\n",
    "print(messages)\n",
    "print()\n",
    "\n",
    "second_response = client.chat.completions.create(\n",
    "    messages=messages,\n",
    "    model=deployment,\n",
    "    function_call=\"auto\",\n",
    "    functions=functions,\n",
    "    temperature=0\n",
    "        )  # dobij novu GPT-ovu reakciju gdje može vidjeti odgovor funkcije\n",
    "\n",
    "\n",
    "print(second_response.choices[0].message)\n"
   ]
  },
  {
   "cell_type": "markdown",
   "metadata": {},
   "source": [
    "### Zašto koristiti Function Calling\n",
    "\n",
    "Ako ste završili bilo koju drugu lekciju u ovom tečaju, vjerojatno ste već upoznati s moći korištenja velikih jezičnih modela (LLM-ova). Nadamo se da ste primijetili i neka njihova ograničenja.\n",
    "\n",
    "Function Calling je značajka Azure Open AI servisa koja rješava sljedeća ograničenja:\n",
    "1) Dosljedan format odgovora\n",
    "2) Mogućnost korištenja podataka iz drugih izvora aplikacije u kontekstu razgovora\n",
    "\n",
    "Prije function callinga, odgovori iz LLM-a bili su nestrukturirani i nedosljedni. Programeri su morali pisati složen kod za provjeru valjanosti kako bi mogli obraditi svaku varijaciju odgovora.\n",
    "\n",
    "Korisnici nisu mogli dobiti odgovore poput \"Kakvo je trenutno vrijeme u Stockholmu?\". To je zato što su modeli bili ograničeni na razdoblje u kojem su podaci trenirani.\n",
    "\n",
    "Pogledajmo primjer ispod koji ilustrira ovaj problem:\n",
    "\n",
    "Recimo da želimo napraviti bazu podataka o studentima kako bismo im mogli predložiti odgovarajući tečaj. Ispod imamo dva opisa studenata koji su vrlo slični po podacima koje sadrže.\n"
   ]
  },
  {
   "cell_type": "code",
   "execution_count": null,
   "metadata": {},
   "outputs": [],
   "source": [
    "student_1_description=\"Emily Johnson is a sophomore majoring in computer science at Duke University. She has a 3.7 GPA. Emily is an active member of the university's Chess Club and Debate Team. She hopes to pursue a career in software engineering after graduating.\"\n",
    " \n",
    "student_2_description = \"Michael Lee is a sophomore majoring in computer science at Stanford University. He has a 3.8 GPA. Michael is known for his programming skills and is an active member of the university's Robotics Club. He hopes to pursue a career in artificial intelligence after finishing his studies.\""
   ]
  },
  {
   "cell_type": "markdown",
   "metadata": {},
   "source": [
    "Želimo ovo poslati LLM-u kako bi obradio podatke. Kasnije to možemo koristiti u našoj aplikaciji za slanje API-ju ili pohranu u bazu podataka.\n",
    "\n",
    "Napravimo dva identična upita kojima ćemo uputiti LLM na informacije koje nas zanimaju:\n"
   ]
  },
  {
   "cell_type": "markdown",
   "metadata": {},
   "source": [
    "Želimo ovo poslati LLM-u kako bi analizirao dijelove koji su važni za naš proizvod. Tako možemo stvoriti dva identična upita za davanje uputa LLM-u:\n"
   ]
  },
  {
   "cell_type": "code",
   "execution_count": null,
   "metadata": {},
   "outputs": [],
   "source": [
    "prompt1 = f'''\n",
    "Please extract the following information from the given text and return it as a JSON object:\n",
    "\n",
    "name\n",
    "major\n",
    "school\n",
    "grades\n",
    "club\n",
    "\n",
    "This is the body of text to extract the information from:\n",
    "{student_1_description}\n",
    "'''\n",
    "\n",
    "\n",
    "prompt2 = f'''\n",
    "Please extract the following information from the given text and return it as a JSON object:\n",
    "\n",
    "name\n",
    "major\n",
    "school\n",
    "grades\n",
    "club\n",
    "\n",
    "This is the body of text to extract the information from:\n",
    "{student_2_description}\n",
    "'''\n"
   ]
  },
  {
   "cell_type": "markdown",
   "metadata": {},
   "source": [
    "Nakon što izradimo ova dva upita, poslat ćemo ih LLM-u koristeći `openai.ChatCompletion`. Upit pohranjujemo u varijablu `messages` i dodjeljujemo ulogu `user`. Ovo je kako bismo oponašali poruku korisnika upućenu chatbotu.\n"
   ]
  },
  {
   "cell_type": "code",
   "execution_count": null,
   "metadata": {},
   "outputs": [
    {
     "ename": "",
     "evalue": "",
     "output_type": "error",
     "traceback": [
      "\u001b[1;31mRunning cells with '/opt/homebrew/bin/python3' requires the ipykernel package.\n",
      "\u001b[1;31mRun the following command to install 'ipykernel' into the Python environment. \n",
      "\u001b[1;31mCommand: '/opt/homebrew/bin/python3 -m pip install ipykernel -U --user --force-reinstall'"
     ]
    }
   ],
   "source": [
    "import os\n",
    "import json\n",
    "from openai import AzureOpenAI\n",
    "from dotenv import load_dotenv\n",
    "load_dotenv()\n",
    "\n",
    "client = AzureOpenAI(\n",
    "  api_key=os.environ['AZURE_OPENAI_API_KEY'],  # this is also the default, it can be omitted\n",
    "  api_version = \"2023-07-01-preview\"\n",
    "  )\n",
    "\n",
    "deployment=os.environ['AZURE_OPENAI_DEPLOYMENT']"
   ]
  },
  {
   "cell_type": "markdown",
   "metadata": {},
   "source": [
    "Sada možemo poslati oba zahtjeva LLM-u i ispitati odgovor koji primimo.\n"
   ]
  },
  {
   "cell_type": "code",
   "execution_count": null,
   "metadata": {},
   "outputs": [],
   "source": [
    "openai_response1 = client.chat.completions.create(\n",
    " model=deployment,    \n",
    " messages = [{'role': 'user', 'content': prompt1}]\n",
    ")\n",
    "openai_response1.choices[0].message.content "
   ]
  },
  {
   "cell_type": "code",
   "execution_count": null,
   "metadata": {},
   "outputs": [],
   "source": [
    "openai_response2 = client.chat.completions.create(\n",
    " model=deployment,    \n",
    " messages = [{'role': 'user', 'content': prompt2}]\n",
    ")\n",
    "openai_response2.choices[0].message.content"
   ]
  },
  {
   "cell_type": "code",
   "execution_count": null,
   "metadata": {},
   "outputs": [],
   "source": [
    "# Loading the response as a JSON object\n",
    "json_response1 = json.loads(openai_response1.choices[0].message.content)\n",
    "json_response1"
   ]
  },
  {
   "cell_type": "code",
   "execution_count": null,
   "metadata": {},
   "outputs": [],
   "source": [
    "# Loading the response as a JSON object\n",
    "json_response2 = json.loads(openai_response2.choices[0].message.content )\n",
    "json_response2"
   ]
  },
  {
   "cell_type": "markdown",
   "metadata": {},
   "source": [
    "Iako su upiti isti i opisi slični, možemo dobiti različite formate svojstva `Grades`.\n",
    "\n",
    "Ako pokrenete gornju ćeliju više puta, format može biti `3.7` ili `3.7 GPA`.\n",
    "\n",
    "To je zato što LLM prima nestrukturirane podatke u obliku pisanog upita i također vraća nestrukturirane podatke. Potreban nam je strukturirani format kako bismo znali što očekivati prilikom pohrane ili korištenja tih podataka.\n",
    "\n",
    "Korištenjem funkcijskog pozivanja možemo osigurati da dobijemo strukturirane podatke natrag. Kod funkcijskog pozivanja, LLM zapravo ne poziva niti pokreće nikakve funkcije. Umjesto toga, stvaramo strukturu koju LLM treba slijediti u svojim odgovorima. Zatim koristimo te strukturirane odgovore kako bismo znali koju funkciju pokrenuti u našim aplikacijama.\n"
   ]
  },
  {
   "cell_type": "markdown",
   "metadata": {},
   "source": [
    "![Dijagram toka poziva funkcije](../../../../translated_images/Function-Flow.083875364af4f4bb69bd6f6ed94096a836453183a71cf22388f50310ad6404de.hr.png)\n"
   ]
  },
  {
   "cell_type": "markdown",
   "metadata": {},
   "source": []
  },
  {
   "cell_type": "markdown",
   "metadata": {},
   "source": [
    "### Primjeri korištenja poziva funkcija\n",
    "\n",
    "**Pozivanje vanjskih alata**  \n",
    "Chatbotovi su izvrsni u davanju odgovora na korisnička pitanja. Korištenjem poziva funkcija, chatbotovi mogu koristiti poruke korisnika za izvršavanje određenih zadataka. Na primjer, student može zamoliti chatbot da \"Pošalji e-mail mom profesoru i reci da mi treba dodatna pomoć s ovim predmetom\". Ovo može napraviti poziv funkciji `send_email(to: string, body: string)`\n",
    "\n",
    "**Izrada API ili baza podataka upita**  \n",
    "Korisnici mogu pronaći informacije koristeći prirodni jezik koji se pretvara u formatirani upit ili API zahtjev. Primjer za to može biti učitelj koji pita \"Tko su učenici koji su završili posljednji zadatak\", što može pozvati funkciju pod nazivom `get_completed(student_name: string, assignment: int, current_status: string)`\n",
    "\n",
    "**Stvaranje strukturiranih podataka**  \n",
    "Korisnici mogu uzeti blok teksta ili CSV i koristiti LLM za izdvajanje važnih informacija iz njega. Na primjer, student može pretvoriti članak s Wikipedije o mirovnim sporazumima kako bi napravio AI kartice za učenje. Ovo se može napraviti korištenjem funkcije `get_important_facts(agreement_name: string, date_signed: string, parties_involved: list)`\n"
   ]
  },
  {
   "cell_type": "markdown",
   "metadata": {},
   "source": [
    "## 2. Kreiranje vašeg prvog poziva funkcije\n",
    "\n",
    "Proces kreiranja poziva funkcije uključuje 3 glavna koraka:\n",
    "1. Pozivanje Chat Completions API-ja s popisom vaših funkcija i korisničkom porukom\n",
    "2. Čitanje odgovora modela kako biste poduzeli neku radnju, npr. izvršili funkciju ili API poziv\n",
    "3. Ponovno pozivanje Chat Completions API-ja s odgovorom vaše funkcije kako biste iskoristili te informacije za kreiranje odgovora korisniku.\n"
   ]
  },
  {
   "cell_type": "markdown",
   "metadata": {},
   "source": [
    "![Tijek poziva funkcije](../../../../translated_images/LLM-Flow.3285ed8caf4796d7343c02927f52c9d32df59e790f6e440568e2e951f6ffa5fd.hr.png)\n"
   ]
  },
  {
   "cell_type": "markdown",
   "metadata": {},
   "source": [
    "### Elementi poziva funkcije\n",
    "\n",
    "#### Korisnički unos\n",
    "\n",
    "Prvi korak je kreirati korisničku poruku. To se može dinamički dodijeliti uzimanjem vrijednosti iz tekstualnog unosa ili možete ovdje ručno postaviti vrijednost. Ako prvi put radite s Chat Completions API-jem, potrebno je definirati `role` i `content` poruke.\n",
    "\n",
    "`role` može biti `system` (postavljanje pravila), `assistant` (model) ili `user` (krajnji korisnik). Za pozivanje funkcije, ovo ćemo postaviti kao `user` i dodati primjer pitanja.\n"
   ]
  },
  {
   "cell_type": "code",
   "execution_count": null,
   "metadata": {},
   "outputs": [],
   "source": [
    "messages= [ {\"role\": \"user\", \"content\": \"Find me a good course for a beginner student to learn Azure.\"} ]"
   ]
  },
  {
   "cell_type": "markdown",
   "metadata": {},
   "source": [
    "### Kreiranje funkcija.\n",
    "\n",
    "Sljedeće ćemo definirati funkciju i njezine parametre. Ovdje ćemo koristiti samo jednu funkciju pod nazivom `search_courses`, ali možete napraviti više funkcija.\n",
    "\n",
    "**Važno**: Funkcije su uključene u sistemsku poruku prema LLM-u i ulaze u ukupan broj dostupnih tokena koje imate na raspolaganju.\n"
   ]
  },
  {
   "cell_type": "code",
   "execution_count": null,
   "metadata": {},
   "outputs": [],
   "source": [
    "functions = [\n",
    "   {\n",
    "      \"name\":\"search_courses\",\n",
    "      \"description\":\"Retrieves courses from the search index based on the parameters provided\",\n",
    "      \"parameters\":{\n",
    "         \"type\":\"object\",\n",
    "         \"properties\":{\n",
    "            \"role\":{\n",
    "               \"type\":\"string\",\n",
    "               \"description\":\"The role of the learner (i.e. developer, data scientist, student, etc.)\"\n",
    "            },\n",
    "            \"product\":{\n",
    "               \"type\":\"string\",\n",
    "               \"description\":\"The product that the lesson is covering (i.e. Azure, Power BI, etc.)\"\n",
    "            },\n",
    "            \"level\":{\n",
    "               \"type\":\"string\",\n",
    "               \"description\":\"The level of experience the learner has prior to taking the course (i.e. beginner, intermediate, advanced)\"\n",
    "            }\n",
    "         },\n",
    "         \"required\":[\n",
    "            \"role\"\n",
    "         ]\n",
    "      }\n",
    "   }\n",
    "]"
   ]
  },
  {
   "cell_type": "markdown",
   "metadata": {},
   "source": [
    "**Definicije**\n",
    "\n",
    "`name` - Naziv funkcije koju želimo pozvati.\n",
    "\n",
    "`description` - Opis načina na koji funkcija radi. Ovdje je važno biti precizan i jasan.\n",
    "\n",
    "`parameters` - Popis vrijednosti i formata koje želite da model generira u svom odgovoru.\n",
    "\n",
    "`type` - Tip podataka u kojem će svojstva biti pohranjena.\n",
    "\n",
    "`properties` - Popis konkretnih vrijednosti koje će model koristiti za svoj odgovor.\n",
    "\n",
    "`name` - Naziv svojstva koje će model koristiti u svom formatiranom odgovoru.\n",
    "\n",
    "`type` - Tip podataka ovog svojstva.\n",
    "\n",
    "`description` - Opis konkretnog svojstva.\n",
    "\n",
    "**Opcionalno**\n",
    "\n",
    "`required` - Obavezno svojstvo da bi se poziv funkcije mogao izvršiti.\n"
   ]
  },
  {
   "cell_type": "markdown",
   "metadata": {},
   "source": [
    "### Pozivanje funkcije\n",
    "Nakon što smo definirali funkciju, sada je trebamo uključiti u poziv prema Chat Completion API-ju. To radimo tako da dodamo `functions` u zahtjev. U ovom slučaju `functions=functions`.\n",
    "\n",
    "Postoji i opcija da postavimo `function_call` na `auto`. To znači da ćemo prepustiti LLM-u da odluči koju funkciju treba pozvati na temelju korisničke poruke, umjesto da to sami određujemo.\n"
   ]
  },
  {
   "cell_type": "code",
   "execution_count": null,
   "metadata": {},
   "outputs": [],
   "source": [
    "response = client.chat.completions.create(model=deployment, \n",
    "                                        messages=messages,\n",
    "                                        functions=functions, \n",
    "                                        function_call=\"auto\") \n",
    "\n",
    "print(response.choices[0].message)"
   ]
  },
  {
   "cell_type": "markdown",
   "metadata": {},
   "source": [
    "Sada pogledajmo odgovor i provjerimo kako je formatiran:\n",
    "\n",
    "{\n",
    "  \"role\": \"assistant\",\n",
    "  \"function_call\": {\n",
    "    \"name\": \"search_courses\",\n",
    "    \"arguments\": \"{\\n  \\\"role\\\": \\\"student\\\",\\n  \\\"product\\\": \\\"Azure\\\",\\n  \\\"level\\\": \\\"beginner\\\"\\n}\"\n",
    "  }\n",
    "}\n",
    "\n",
    "Možeš vidjeti da je pozvana funkcija po imenu, a iz korisničke poruke LLM je uspio pronaći podatke koji odgovaraju argumentima funkcije.\n"
   ]
  },
  {
   "cell_type": "markdown",
   "metadata": {},
   "source": [
    "## 3. Integracija poziva funkcija u aplikaciju.\n",
    "\n",
    "Nakon što smo testirali formatirani odgovor iz LLM-a, sada to možemo integrirati u aplikaciju.\n",
    "\n",
    "### Upravljanje tokom\n",
    "\n",
    "Da bismo ovo integrirali u našu aplikaciju, slijedimo sljedeće korake:\n",
    "\n",
    "Prvo, pozovimo Open AI servise i spremimo poruku u varijablu pod nazivom `response_message`.\n"
   ]
  },
  {
   "cell_type": "code",
   "execution_count": null,
   "metadata": {},
   "outputs": [],
   "source": [
    "response_message = response.choices[0].message"
   ]
  },
  {
   "cell_type": "markdown",
   "metadata": {},
   "source": [
    "Sada ćemo definirati funkciju koja će pozvati Microsoft Learn API kako bi dohvatila popis tečajeva:\n"
   ]
  },
  {
   "cell_type": "code",
   "execution_count": null,
   "metadata": {},
   "outputs": [],
   "source": [
    "import requests\n",
    "\n",
    "def search_courses(role, product, level):\n",
    "    url = \"https://learn.microsoft.com/api/catalog/\"\n",
    "    params = {\n",
    "        \"role\": role,\n",
    "        \"product\": product,\n",
    "        \"level\": level\n",
    "    }\n",
    "    response = requests.get(url, params=params)\n",
    "    modules = response.json()[\"modules\"]\n",
    "    results = []\n",
    "    for module in modules[:5]:\n",
    "        title = module[\"title\"]\n",
    "        url = module[\"url\"]\n",
    "        results.append({\"title\": title, \"url\": url})\n",
    "    return str(results)\n",
    "\n"
   ]
  },
  {
   "cell_type": "markdown",
   "metadata": {},
   "source": [
    "Kao najbolju praksu, prvo ćemo provjeriti želi li model pozvati neku funkciju. Nakon toga, izradit ćemo jednu od dostupnih funkcija i povezati je s funkcijom koju model želi pozvati.\n",
    "Zatim ćemo uzeti argumente funkcije i mapirati ih na argumente iz LLM-a.\n",
    "\n",
    "Na kraju, dodat ćemo poruku o pozivu funkcije i vrijednosti koje su vraćene porukom `search_courses`. Ovo daje LLM-u sve potrebne informacije kako bi mogao odgovoriti korisniku na prirodan način.\n"
   ]
  },
  {
   "cell_type": "code",
   "execution_count": null,
   "metadata": {},
   "outputs": [],
   "source": [
    "# Check if the model wants to call a function\n",
    "if response_message.function_call.name:\n",
    "    print(\"Recommended Function call:\")\n",
    "    print(response_message.function_call.name)\n",
    "    print()\n",
    "\n",
    "    # Call the function. \n",
    "    function_name = response_message.function_call.name\n",
    "\n",
    "    available_functions = {\n",
    "            \"search_courses\": search_courses,\n",
    "    }\n",
    "    function_to_call = available_functions[function_name] \n",
    "\n",
    "    function_args = json.loads(response_message.function_call.arguments)\n",
    "    function_response = function_to_call(**function_args)\n",
    "\n",
    "    print(\"Output of function call:\")\n",
    "    print(function_response)\n",
    "    print(type(function_response))\n",
    "\n",
    "\n",
    "    # Add the assistant response and function response to the messages\n",
    "    messages.append( # adding assistant response to messages\n",
    "        {\n",
    "            \"role\": response_message.role,\n",
    "            \"function_call\": {\n",
    "                \"name\": function_name,\n",
    "                \"arguments\": response_message.function_call.arguments,\n",
    "            },\n",
    "            \"content\": None\n",
    "        }\n",
    "    )\n",
    "    messages.append( # adding function response to messages\n",
    "        {\n",
    "            \"role\": \"function\",\n",
    "            \"name\": function_name,\n",
    "            \"content\":function_response,\n",
    "        }\n",
    "    )\n",
    "\n"
   ]
  },
  {
   "cell_type": "markdown",
   "metadata": {},
   "source": []
  },
  {
   "cell_type": "code",
   "execution_count": null,
   "metadata": {},
   "outputs": [],
   "source": [
    "print(\"Messages in next request:\")\n",
    "print(messages)\n",
    "print()\n",
    "\n",
    "second_response = client.chat.completions.create(\n",
    "    messages=messages,\n",
    "    model=deployment,\n",
    "    function_call=\"auto\",\n",
    "    functions=functions,\n",
    "    temperature=0\n",
    "        )  # get a new response from GPT where it can see the function response\n",
    "\n",
    "\n",
    "print(second_response.choices[0].message)"
   ]
  },
  {
   "cell_type": "markdown",
   "metadata": {},
   "source": [
    "## Izazov s kodom\n",
    "\n",
    "Odlično odrađeno! Za nastavak učenja o Azure Open AI Function Calling možete izraditi: https://learn.microsoft.com/training/support/catalog-api-developer-reference?WT.mc_id=academic-105485-koreyst\n",
    " - Više parametara funkcije koji mogu pomoći polaznicima da pronađu više tečajeva. Dostupne API parametre možete pronaći ovdje:\n",
    " - Izradite još jedan poziv funkcije koji uzima više informacija od polaznika, poput njihovog materinjeg jezika\n",
    " - Dodajte obradu grešaka kada poziv funkcije i/ili API-ja ne vrati nijedan odgovarajući tečaj\n"
   ]
  },
  {
   "cell_type": "markdown",
   "metadata": {},
   "source": [
    "\n---\n\n**Odricanje od odgovornosti**:  \nOvaj dokument je preveden pomoću AI usluge prevođenja [Co-op Translator](https://github.com/Azure/co-op-translator). Iako nastojimo osigurati točnost, imajte na umu da automatski prijevodi mogu sadržavati pogreške ili netočnosti. Izvorni dokument na izvornom jeziku treba smatrati mjerodavnim izvorom. Za ključne informacije preporučuje se profesionalni ljudski prijevod. Ne snosimo odgovornost za bilo kakva nesporazume ili pogrešna tumačenja koja proizlaze iz korištenja ovog prijevoda.\n"
   ]
  }
 ],
 "metadata": {
  "kernelspec": {
   "display_name": "Python 3",
   "language": "python",
   "name": "python3"
  },
  "language_info": {
   "codemirror_mode": {
    "name": "ipython",
    "version": 3
   },
   "file_extension": ".py",
   "mimetype": "text/x-python",
   "name": "python",
   "nbconvert_exporter": "python",
   "pygments_lexer": "ipython3",
   "version": "3.12.2"
  },
  "orig_nbformat": 4,
  "coopTranslator": {
   "original_hash": "2277587ff6cb5c40437e18d61fc2e239",
   "translation_date": "2025-08-25T20:33:59+00:00",
   "source_file": "11-integrating-with-function-calling/python/aoai-assignment.ipynb",
   "language_code": "hr"
  }
 },
 "nbformat": 4,
 "nbformat_minor": 2
}