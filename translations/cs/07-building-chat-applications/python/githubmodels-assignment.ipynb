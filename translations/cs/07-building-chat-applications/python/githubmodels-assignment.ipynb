{
 "cells": [
  {
   "attachments": {},
   "cell_type": "markdown",
   "metadata": {
    "nteract": {
     "transient": {
      "deleting": false
     }
    }
   },
   "source": [
    "# Kapitola 7: Vytváření chatovacích aplikací\n",
    "## Rychlý start s Github Models API\n",
    "\n",
    "Tento zápisník je upravený z [Azure OpenAI Samples Repository](https://github.com/Azure/azure-openai-samples?WT.mc_id=academic-105485-koreyst), kde najdete zápisníky využívající služby [Azure OpenAI](notebook-azure-openai.ipynb).\n"
   ]
  },
  {
   "attachments": {},
   "cell_type": "markdown",
   "metadata": {
    "nteract": {
     "transient": {
      "deleting": false
     }
    }
   },
   "source": [
    "# Přehled  \n",
    "„Velké jazykové modely jsou funkce, které převádějí text na text. Na základě zadaného textového řetězce se velký jazykový model snaží předpovědět, jaký text bude následovat“(1). Tento „rychlý start“ notebook uživatele seznámí se základními pojmy LLM, klíčovými požadavky na balíčky pro začátek práce s AML, stručným úvodem do návrhu promptů a několika krátkými příklady různých způsobů využití.\n"
   ]
  },
  {
   "attachments": {},
   "cell_type": "markdown",
   "metadata": {
    "nteract": {
     "transient": {
      "deleting": false
     }
    }
   },
   "source": [
    "## Obsah  \n",
    "\n",
    "[Přehled](../../../../07-building-chat-applications/python)  \n",
    "[Jak používat OpenAI Service](../../../../07-building-chat-applications/python)  \n",
    "[1. Vytvoření vaší OpenAI služby](../../../../07-building-chat-applications/python)  \n",
    "[2. Instalace](../../../../07-building-chat-applications/python)    \n",
    "[3. Přihlašovací údaje](../../../../07-building-chat-applications/python)  \n",
    "\n",
    "[Příklady použití](../../../../07-building-chat-applications/python)    \n",
    "[1. Shrnutí textu](../../../../07-building-chat-applications/python)  \n",
    "[2. Klasifikace textu](../../../../07-building-chat-applications/python)  \n",
    "[3. Generování nových názvů produktů](../../../../07-building-chat-applications/python)  \n",
    "[4. Doladění klasifikátoru](../../../../07-building-chat-applications/python)  \n",
    "\n",
    "[Odkazy](../../../../07-building-chat-applications/python)\n"
   ]
  },
  {
   "attachments": {},
   "cell_type": "markdown",
   "metadata": {
    "nteract": {
     "transient": {
      "deleting": false
     }
    }
   },
   "source": [
    "### Vytvořte svůj první prompt  \n",
    "Toto krátké cvičení vám poskytne základní úvod do zadávání promptů modelu v Github Models pro jednoduchý úkol „shrnutí“.\n",
    "\n",
    "\n",
    "**Kroky**:  \n",
    "1. Nainstalujte knihovnu `azure-ai-inference` do svého pythonového prostředí, pokud ji ještě nemáte.  \n",
    "2. Načtěte standardní pomocné knihovny a nastavte přihlašovací údaje pro Github Models.  \n",
    "3. Vyberte model pro svůj úkol  \n",
    "4. Vytvořte jednoduchý prompt pro model  \n",
    "5. Odešlete svůj požadavek na API modelu!\n"
   ]
  },
  {
   "attachments": {},
   "cell_type": "markdown",
   "metadata": {
    "nteract": {
     "transient": {
      "deleting": false
     }
    }
   },
   "source": [
    "### 1. Nainstalujte `azure-ai-inference`\n"
   ]
  },
  {
   "cell_type": "code",
   "execution_count": null,
   "metadata": {
    "gather": {
     "logged": 1674254990318
    },
    "jupyter": {
     "outputs_hidden": true,
     "source_hidden": false
    },
    "nteract": {
     "transient": {
      "deleting": false
     }
    }
   },
   "outputs": [],
   "source": [
    "%pip install azure-ai-inference"
   ]
  },
  {
   "attachments": {},
   "cell_type": "markdown",
   "metadata": {
    "nteract": {
     "transient": {
      "deleting": false
     }
    }
   },
   "source": []
  },
  {
   "cell_type": "code",
   "execution_count": null,
   "metadata": {
    "gather": {
     "logged": 1674829434433
    },
    "jupyter": {
     "outputs_hidden": false,
     "source_hidden": false
    },
    "nteract": {
     "transient": {
      "deleting": false
     }
    }
   },
   "outputs": [],
   "source": [
    "import os\n",
    "from azure.ai.inference import ChatCompletionsClient\n",
    "from azure.ai.inference.models import SystemMessage, UserMessage\n",
    "from azure.core.credentials import AzureKeyCredential\n",
    "\n",
    "token = os.environ[\"GITHUB_TOKEN\"]\n",
    "endpoint = \"https://models.inference.ai.azure.com\"\n",
    "\n",
    "client = ChatCompletionsClient(\n",
    "    endpoint=endpoint,\n",
    "    credential=AzureKeyCredential(token),\n",
    ")"
   ]
  },
  {
   "attachments": {},
   "cell_type": "markdown",
   "metadata": {
    "nteract": {
     "transient": {
      "deleting": false
     }
    }
   },
   "source": [
    "### 3. Výběr správného modelu  \n",
    "Modely GPT-3.5-turbo nebo GPT-4 dokážou rozumět a generovat přirozený jazyk.\n"
   ]
  },
  {
   "cell_type": "code",
   "execution_count": null,
   "metadata": {
    "gather": {
     "logged": 1674742720788
    },
    "jupyter": {
     "outputs_hidden": true,
     "source_hidden": false
    },
    "nteract": {
     "transient": {
      "deleting": false
     }
    }
   },
   "outputs": [],
   "source": [
    "# Select the General Purpose curie model for text\n",
    "model_name = \"gpt-4o\""
   ]
  },
  {
   "attachments": {},
   "cell_type": "markdown",
   "metadata": {
    "nteract": {
     "transient": {
      "deleting": false
     }
    }
   },
   "source": [
    "## 4. Návrh promptů  \n",
    "\n",
    "„Kouzlo velkých jazykových modelů spočívá v tom, že tím, jak jsou trénovány na minimalizaci chyby předpovědi na obrovském množství textu, nakonec se naučí pojmy užitečné pro tyto předpovědi. Například se naučí pojmy jako“(1):\n",
    "\n",
    "* jak se správně píše\n",
    "* jak funguje gramatika\n",
    "* jak parafrázovat\n",
    "* jak odpovídat na otázky\n",
    "* jak vést konverzaci\n",
    "* jak psát v různých jazycích\n",
    "* jak programovat\n",
    "* atd.\n",
    "\n",
    "#### Jak ovládat velký jazykový model  \n",
    "„Ze všech vstupů do velkého jazykového modelu je zdaleka nejvlivnější textový prompt.“(1)\n",
    "\n",
    "Velké jazykové modely lze přimět k produkci výstupu několika způsoby:\n",
    "\n",
    "Instrukce: Řekněte modelu, co chcete\n",
    "Doplnění: Přimějte model, aby dokončil začátek toho, co chcete\n",
    "Ukázka: Ukažte modelu, co chcete, a to buď:\n",
    "Několika příklady v promptu\n",
    "Stovkami nebo tisíci příkladů v trénovací datové sadě pro doladění\n",
    "\n",
    "\n",
    "\n",
    "#### Existují tři základní zásady pro vytváření promptů:\n",
    "\n",
    "**Ukažte a řekněte.** Jasně sdělte, co chcete, ať už pomocí instrukcí, příkladů, nebo jejich kombinací. Pokud chcete, aby model seřadil seznam položek podle abecedy nebo zařadil odstavec podle sentimentu, ukažte mu, že právě to chcete.\n",
    "\n",
    "**Dávejte kvalitní data.** Pokud se snažíte vytvořit klasifikátor nebo chcete, aby model následoval určitý vzor, ujistěte se, že máte dostatek příkladů. Nezapomeňte si příklady zkontrolovat — model je obvykle dost chytrý na to, aby si všiml základních pravopisných chyb a odpověděl vám, ale také si může myslet, že to bylo záměrné, což může ovlivnit odpověď.\n",
    "\n",
    "**Zkontrolujte svá nastavení.** Nastavení temperature a top_p ovlivňují, jak moc je model při generování odpovědi deterministický. Pokud po něm chcete odpověď, kde je jen jedna správná možnost, nastavte je níže. Pokud hledáte rozmanitější odpovědi, můžete je nastavit výše. Nejčastější chybou u těchto nastavení je předpokládat, že určují „chytrost“ nebo „kreativitu“ modelu.\n",
    "\n",
    "\n",
    "Zdroj: https://learn.microsoft.com/azure/ai-services/openai/overview\n"
   ]
  },
  {
   "attachments": {},
   "cell_type": "markdown",
   "metadata": {
    "nteract": {
     "transient": {
      "deleting": false
     }
    }
   },
   "source": []
  },
  {
   "cell_type": "code",
   "execution_count": null,
   "metadata": {
    "gather": {
     "logged": 1674494935186
    },
    "jupyter": {
     "outputs_hidden": false,
     "source_hidden": false
    },
    "nteract": {
     "transient": {
      "deleting": false
     }
    }
   },
   "outputs": [],
   "source": [
    "# Create your first prompt\n",
    "text_prompt = \"Should oxford commas always be used?\"\n",
    "\n",
    "response = client.complete(\n",
    "  model=model_name,\n",
    "  messages = [{\"role\":\"system\", \"content\":\"You are a helpful assistant.\"},\n",
    "               {\"role\":\"user\",\"content\":text_prompt},])\n",
    "\n",
    "response.choices[0].message.content"
   ]
  },
  {
   "attachments": {},
   "cell_type": "markdown",
   "metadata": {
    "nteract": {
     "transient": {
      "deleting": false
     }
    }
   },
   "source": []
  },
  {
   "cell_type": "code",
   "execution_count": null,
   "metadata": {
    "gather": {
     "logged": 1674494940872
    },
    "jupyter": {
     "outputs_hidden": false,
     "source_hidden": false
    },
    "nteract": {
     "transient": {
      "deleting": false
     }
    }
   },
   "outputs": [],
   "source": [
    "\n",
    "response = client.complete(\n",
    "  model=model_name,\n",
    "  messages = [{\"role\":\"system\", \"content\":\"You are a helpful assistant.\"},\n",
    "               {\"role\":\"user\",\"content\":text_prompt},])\n",
    "\n",
    "response.choices[0].message.content"
   ]
  },
  {
   "attachments": {},
   "cell_type": "markdown",
   "metadata": {
    "nteract": {
     "transient": {
      "deleting": false
     }
    }
   },
   "source": [
    "## Shrnutí textu  \n",
    "#### Výzva  \n",
    "Shrňte text tak, že na konec textu přidáte 'tl;dr:'. Všimněte si, jak model dokáže vykonávat řadu úkolů bez dalších instrukcí. Můžete zkusit použít podrobnější výzvy než tl;dr, abyste upravili chování modelu a přizpůsobili si výsledné shrnutí(3).  \n",
    "\n",
    "Nedávné studie ukázaly výrazné zlepšení v mnoha NLP úlohách a benchmarcích díky předtrénování na velkém korpusu textů, následovaném doladěním na konkrétní úlohu. I když je tato metoda obvykle nezávislá na konkrétní úloze, stále vyžaduje speciální doladěné datasety s tisíci nebo desítkami tisíc příkladů. Oproti tomu lidé zvládnou nový jazykový úkol často už po několika příkladech nebo jednoduchých instrukcích – což současné NLP systémy stále většinou nedokážou. Zde ukazujeme, že zvětšení jazykových modelů výrazně zlepšuje výkon bez ohledu na úlohu i při malém počtu příkladů, někdy dokonce dosahuje konkurenceschopnosti s předchozími špičkovými metodami doladění.  \n",
    "\n",
    "Tl;dr\n"
   ]
  },
  {
   "attachments": {},
   "cell_type": "markdown",
   "metadata": {
    "nteract": {
     "transient": {
      "deleting": false
     }
    }
   },
   "source": [
    "# Cvičení pro různé případy použití  \n",
    "1. Shrnutí textu  \n",
    "2. Klasifikace textu  \n",
    "3. Generování nových názvů produktů\n"
   ]
  },
  {
   "cell_type": "code",
   "execution_count": null,
   "metadata": {
    "gather": {
     "logged": 1674495198534
    },
    "jupyter": {
     "outputs_hidden": false,
     "source_hidden": false
    },
    "nteract": {
     "transient": {
      "deleting": false
     }
    }
   },
   "outputs": [],
   "source": [
    "prompt = \"Recent work has demonstrated substantial gains on many NLP tasks and benchmarks by pre-training on a large corpus of text followed by fine-tuning on a specific task. While typically task-agnostic in architecture, this method still requires task-specific fine-tuning datasets of thousands or tens of thousands of examples. By contrast, humans can generally perform a new language task from only a few examples or from simple instructions - something that current NLP systems still largely struggle to do. Here we show that scaling up language models greatly improves task-agnostic, few-shot performance, sometimes even reaching competitiveness with prior state-of-the-art fine-tuning approaches.\\n\\nTl;dr\"\n"
   ]
  },
  {
   "cell_type": "code",
   "execution_count": null,
   "metadata": {
    "gather": {
     "logged": 1674495201868
    },
    "jupyter": {
     "outputs_hidden": false,
     "source_hidden": false
    },
    "nteract": {
     "transient": {
      "deleting": false
     }
    }
   },
   "outputs": [],
   "source": [
    "#Setting a few additional, typical parameters during API Call\n",
    "\n",
    "response = client.complete(\n",
    "  model=model_name,\n",
    "  messages = [{\"role\":\"system\", \"content\":\"You are a helpful assistant.\"},\n",
    "               {\"role\":\"user\",\"content\":prompt},])\n",
    "\n",
    "response.choices[0].message.content"
   ]
  },
  {
   "attachments": {},
   "cell_type": "markdown",
   "metadata": {
    "nteract": {
     "transient": {
      "deleting": false
     }
    }
   },
   "source": [
    "## Klasifikace textu  \n",
    "#### Výzva  \n",
    "Zařaďte položky do kategorií, které jsou zadány při vyhodnocení. V následujícím příkladu zadáváme v promptu jak kategorie, tak text, který má být klasifikován (*playground_reference).\n",
    "\n",
    "Dotaz zákazníka: Dobrý den, na klávesnici mého notebooku se mi nedávno zlomila jedna klávesa a budu potřebovat náhradní:\n",
    "\n",
    "Klasifikovaná kategorie:\n"
   ]
  },
  {
   "cell_type": "code",
   "execution_count": null,
   "metadata": {
    "gather": {
     "logged": 1674499424645
    },
    "jupyter": {
     "outputs_hidden": false,
     "source_hidden": false
    },
    "nteract": {
     "transient": {
      "deleting": false
     }
    }
   },
   "outputs": [],
   "source": [
    "prompt = \"Classify the following inquiry into one of the following: categories: [Pricing, Hardware Support, Software Support]\\n\\ninquiry: Hello, one of the keys on my laptop keyboard broke recently and I'll need a replacement:\\n\\nClassified category:\"\n",
    "print(prompt)"
   ]
  },
  {
   "cell_type": "code",
   "execution_count": null,
   "metadata": {
    "gather": {
     "logged": 1674499378518
    },
    "jupyter": {
     "outputs_hidden": false,
     "source_hidden": false
    },
    "nteract": {
     "transient": {
      "deleting": false
     }
    }
   },
   "outputs": [],
   "source": [
    "#Setting a few additional, typical parameters during API Call\n",
    "\n",
    "response = client.complete(\n",
    "  model=model_name,\n",
    "  messages = [{\"role\":\"system\", \"content\":\"You are a helpful assistant.\"},\n",
    "               {\"role\":\"user\",\"content\":prompt},])\n",
    "\n",
    "response.choices[0].message.content"
   ]
  },
  {
   "attachments": {},
   "cell_type": "markdown",
   "metadata": {
    "nteract": {
     "transient": {
      "deleting": false
     }
    }
   },
   "source": [
    "## Generujte nová jména produktů\n",
    "#### Výzva\n",
    "Vytvářejte názvy produktů na základě ukázkových slov. Do zadání zahrnujeme informace o produktu, pro který chceme názvy generovat. Také přidáváme podobný příklad, abychom ukázali vzor, který si přejeme obdržet. Nastavili jsme také vyšší hodnotu parametru temperature, abychom zvýšili náhodnost a získali inovativnější odpovědi.\n",
    "\n",
    "Popis produktu: Domácí výrobník milkshaků  \n",
    "Klíčová slova: rychlý, zdravý, kompaktní.  \n",
    "Názvy produktů: HomeShaker, Fit Shaker, QuickShake, Shake Maker\n",
    "\n",
    "Popis produktu: Pár bot, které padnou na jakoukoliv velikost nohy.  \n",
    "Klíčová slova: přizpůsobivý, padnoucí, omni-fit.\n"
   ]
  },
  {
   "cell_type": "code",
   "execution_count": null,
   "metadata": {
    "gather": {
     "logged": 1674257087279
    },
    "jupyter": {
     "outputs_hidden": false,
     "source_hidden": false
    },
    "nteract": {
     "transient": {
      "deleting": false
     }
    }
   },
   "outputs": [],
   "source": [
    "prompt = \"Product description: A home milkshake maker\\nSeed words: fast, healthy, compact.\\nProduct names: HomeShaker, Fit Shaker, QuickShake, Shake Maker\\n\\nProduct description: A pair of shoes that can fit any foot size.\\nSeed words: adaptable, fit, omni-fit.\"\n",
    "\n",
    "print(prompt)"
   ]
  },
  {
   "cell_type": "code",
   "execution_count": null,
   "metadata": {
    "jupyter": {
     "outputs_hidden": false,
     "source_hidden": false
    },
    "nteract": {
     "transient": {
      "deleting": false
     }
    }
   },
   "outputs": [],
   "source": [
    "#Setting a few additional, typical parameters during API Call\n",
    "\n",
    "response = client.complete(\n",
    "  model=model_name,\n",
    "  messages = [{\"role\":\"system\", \"content\":\"You are a helpful assistant.\"},\n",
    "               {\"role\":\"user\",\"content\":prompt}])\n",
    "\n",
    "response.choices[0].message.content"
   ]
  },
  {
   "attachments": {},
   "cell_type": "markdown",
   "metadata": {
    "nteract": {
     "transient": {
      "deleting": false
     }
    }
   },
   "source": [
    "# Reference  \n",
    "- [Openai Cookbook](https://github.com/openai/openai-cookbook?WT.mc_id=academic-105485-koreyst)  \n",
    "- [OpenAI Studio Examples](https://oai.azure.com/portal?WT.mc_id=academic-105485-koreyst)  \n",
    "- [Nejlepší postupy pro doladění GPT-3 pro klasifikaci textu](https://docs.google.com/document/d/1rqj7dkuvl7Byd5KQPUJRxc19BJt8wo0yHNwK84KfU3Q/edit#?WT.mc_id=academic-105485-koreyst)\n"
   ]
  },
  {
   "attachments": {},
   "cell_type": "markdown",
   "metadata": {
    "nteract": {
     "transient": {
      "deleting": false
     }
    }
   },
   "source": [
    "# Pro další pomoc  \n",
    "[OpenAI Commercialization Team](AzureOpenAITeam@microsoft.com)\n"
   ]
  },
  {
   "attachments": {},
   "cell_type": "markdown",
   "metadata": {
    "nteract": {
     "transient": {
      "deleting": false
     }
    }
   },
   "source": [
    "# Přispěvatelé\n",
    "* [Chew-Yean Yam](https://www.linkedin.com/in/cyyam/)\n"
   ]
  },
  {
   "cell_type": "markdown",
   "metadata": {},
   "source": []
  },
  {
   "cell_type": "markdown",
   "metadata": {},
   "source": [
    "\n---\n\n**Prohlášení**:  \nTento dokument byl přeložen pomocí AI překladatelské služby [Co-op Translator](https://github.com/Azure/co-op-translator). Přestože se snažíme o přesnost, mějte prosím na paměti, že automatizované překlady mohou obsahovat chyby nebo nepřesnosti. Za autoritativní zdroj by měl být považován původní dokument v jeho rodném jazyce. Pro důležité informace doporučujeme profesionální lidský překlad. Neodpovídáme za žádné nedorozumění nebo nesprávné výklady vzniklé v důsledku použití tohoto překladu.\n"
   ]
  }
 ],
 "metadata": {
  "kernel_info": {
   "name": "python310-sdkv2"
  },
  "kernelspec": {
   "display_name": "base",
   "language": "python",
   "name": "python3"
  },
  "language_info": {
   "codemirror_mode": {
    "name": "ipython",
    "version": 3
   },
   "file_extension": ".py",
   "mimetype": "text/x-python",
   "name": "python",
   "nbconvert_exporter": "python",
   "pygments_lexer": "ipython3",
   "version": "3.12.4"
  },
  "microsoft": {
   "host": {
    "AzureML": {
     "notebookHasBeenCompleted": true
    }
   }
  },
  "nteract": {
   "version": "nteract-front-end@1.0.0"
  },
  "coopTranslator": {
   "original_hash": "3eeb8e5cad61b52a8366f6259a53ed49",
   "translation_date": "2025-08-25T17:48:03+00:00",
   "source_file": "07-building-chat-applications/python/githubmodels-assignment.ipynb",
   "language_code": "cs"
  }
 },
 "nbformat": 4,
 "nbformat_minor": 2
}