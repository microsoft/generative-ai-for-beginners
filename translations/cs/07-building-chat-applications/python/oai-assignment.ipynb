{
 "cells": [
  {
   "attachments": {},
   "cell_type": "markdown",
   "metadata": {
    "nteract": {
     "transient": {
      "deleting": false
     }
    }
   },
   "source": [
    "# Kapitola 7: Vytváření chatovacích aplikací\n",
    "## Rychlý start s OpenAI API\n",
    "\n",
    "Tento notebook je upraven z [repozitáře Azure OpenAI Samples](https://github.com/Azure/azure-openai-samples?WT.mc_id=academic-105485-koreyst), který obsahuje notebooky pro přístup ke službám [Azure OpenAI](notebook-azure-openai.ipynb).\n",
    "\n",
    "Python OpenAI API funguje i s modely Azure OpenAI, s několika drobnými úpravami. Více o rozdílech se dozvíte zde: [Jak přepínat mezi OpenAI a Azure OpenAI endpointy v Pythonu](https://learn.microsoft.com/azure/ai-services/openai/how-to/switching-endpoints?WT.mc_id=academic-109527-jasmineg)\n"
   ]
  },
  {
   "attachments": {},
   "cell_type": "markdown",
   "metadata": {
    "nteract": {
     "transient": {
      "deleting": false
     }
    }
   },
   "source": [
    "# Přehled  \n",
    "„Velké jazykové modely jsou funkce, které převádějí text na text. Na základě zadaného textového řetězce se velký jazykový model snaží předpovědět, jaký text bude následovat“(1). Tento „rychlý start“ notebook uživatele seznámí se základními pojmy LLM, klíčovými požadavky na balíčky pro začátek práce s AML, stručným úvodem do návrhu promptů a několika krátkými příklady různých způsobů využití.\n"
   ]
  },
  {
   "attachments": {},
   "cell_type": "markdown",
   "metadata": {
    "nteract": {
     "transient": {
      "deleting": false
     }
    }
   },
   "source": [
    "## Obsah  \n",
    "\n",
    "[Přehled](../../../../07-building-chat-applications/python)  \n",
    "[Jak používat OpenAI Service](../../../../07-building-chat-applications/python)  \n",
    "[1. Vytvoření vaší OpenAI služby](../../../../07-building-chat-applications/python)  \n",
    "[2. Instalace](../../../../07-building-chat-applications/python)    \n",
    "[3. Přihlašovací údaje](../../../../07-building-chat-applications/python)  \n",
    "\n",
    "[Příklady použití](../../../../07-building-chat-applications/python)    \n",
    "[1. Shrnutí textu](../../../../07-building-chat-applications/python)  \n",
    "[2. Klasifikace textu](../../../../07-building-chat-applications/python)  \n",
    "[3. Generování nových názvů produktů](../../../../07-building-chat-applications/python)  \n",
    "[4. Doladění klasifikátoru](../../../../07-building-chat-applications/python)  \n",
    "\n",
    "[Reference](../../../../07-building-chat-applications/python)\n"
   ]
  },
  {
   "attachments": {},
   "cell_type": "markdown",
   "metadata": {
    "nteract": {
     "transient": {
      "deleting": false
     }
    }
   },
   "source": [
    "### Vytvořte svůj první prompt  \n",
    "Toto krátké cvičení vám poskytne základní úvod do zadávání promptů modelu OpenAI pro jednoduchý úkol „shrnutí“.\n",
    "\n",
    "\n",
    "**Kroky**:  \n",
    "1. Nainstalujte knihovnu OpenAI do svého pythonového prostředí  \n",
    "2. Načtěte standardní pomocné knihovny a nastavte své běžné bezpečnostní údaje pro službu OpenAI, kterou jste vytvořili  \n",
    "3. Vyberte model pro svůj úkol  \n",
    "4. Vytvořte jednoduchý prompt pro model  \n",
    "5. Odešlete svůj požadavek na API modelu!\n"
   ]
  },
  {
   "attachments": {},
   "cell_type": "markdown",
   "metadata": {
    "nteract": {
     "transient": {
      "deleting": false
     }
    }
   },
   "source": []
  },
  {
   "cell_type": "code",
   "execution_count": null,
   "metadata": {
    "gather": {
     "logged": 1674254990318
    },
    "jupyter": {
     "outputs_hidden": true,
     "source_hidden": false
    },
    "nteract": {
     "transient": {
      "deleting": false
     }
    }
   },
   "outputs": [],
   "source": [
    "%pip install openai python-dotenv"
   ]
  },
  {
   "attachments": {},
   "cell_type": "markdown",
   "metadata": {
    "nteract": {
     "transient": {
      "deleting": false
     }
    }
   },
   "source": []
  },
  {
   "cell_type": "code",
   "execution_count": null,
   "metadata": {
    "gather": {
     "logged": 1674829434433
    },
    "jupyter": {
     "outputs_hidden": false,
     "source_hidden": false
    },
    "nteract": {
     "transient": {
      "deleting": false
     }
    }
   },
   "outputs": [],
   "source": [
    "import os\n",
    "from openai import OpenAI\n",
    "from dotenv import load_dotenv\n",
    "\n",
    "load_dotenv()\n",
    "\n",
    "API_KEY = os.getenv(\"OPENAI_API_KEY\",\"\")\n",
    "assert API_KEY, \"ERROR: OpenAI Key is missing\"\n",
    "\n",
    "client = OpenAI(\n",
    "    api_key=API_KEY\n",
    "    )\n"
   ]
  },
  {
   "attachments": {},
   "cell_type": "markdown",
   "metadata": {
    "nteract": {
     "transient": {
      "deleting": false
     }
    }
   },
   "source": [
    "### 3. Výběr správného modelu  \n",
    "Modely GPT-3.5-turbo nebo GPT-4 dokážou rozumět a generovat přirozený jazyk.\n"
   ]
  },
  {
   "cell_type": "code",
   "execution_count": null,
   "metadata": {
    "gather": {
     "logged": 1674742720788
    },
    "jupyter": {
     "outputs_hidden": true,
     "source_hidden": false
    },
    "nteract": {
     "transient": {
      "deleting": false
     }
    }
   },
   "outputs": [],
   "source": [
    "# Select the General Purpose curie model for text\n",
    "model = \"gpt-3.5-turbo\""
   ]
  },
  {
   "attachments": {},
   "cell_type": "markdown",
   "metadata": {
    "nteract": {
     "transient": {
      "deleting": false
     }
    }
   },
   "source": [
    "## 4. Návrh promptů  \n",
    "\n",
    "„Kouzlo velkých jazykových modelů spočívá v tom, že tím, jak jsou trénovány na minimalizaci chyby předpovědi na obrovském množství textu, nakonec se naučí pojmy, které jsou pro tyto předpovědi užitečné. Například se naučí pojmy jako“(1):\n",
    "\n",
    "* jak správně psát\n",
    "* jak funguje gramatika\n",
    "* jak přeformulovat větu\n",
    "* jak odpovídat na otázky\n",
    "* jak vést konverzaci\n",
    "* jak psát v různých jazycích\n",
    "* jak programovat\n",
    "* atd.\n",
    "\n",
    "#### Jak ovládat velký jazykový model  \n",
    "„Ze všech vstupů do velkého jazykového modelu je zdaleka nejdůležitější textový prompt(1).\n",
    "\n",
    "Velké jazykové modely lze přimět k vytváření výstupů několika způsoby:\n",
    "\n",
    "Instrukce: Řekněte modelu, co chcete\n",
    "Doplnění: Přimějte model, aby dokončil začátek toho, co chcete\n",
    "Ukázka: Ukažte modelu, co chcete, buď:\n",
    "Několik příkladů v promptu\n",
    "Stovky nebo tisíce příkladů v trénovací datové sadě pro doladění“\n",
    "\n",
    "\n",
    "\n",
    "#### Existují tři základní pravidla pro tvorbu promptů:\n",
    "\n",
    "**Ukažte a vysvětlete**. Jasně dejte najevo, co chcete, ať už pomocí instrukcí, příkladů, nebo kombinací obojího. Pokud chcete, aby model seřadil seznam položek podle abecedy nebo zařadil odstavec podle sentimentu, ukažte mu, že právě to chcete.\n",
    "\n",
    "**Dávejte kvalitní data**. Pokud se snažíte vytvořit klasifikátor nebo chcete, aby model dodržoval určitý vzor, ujistěte se, že máte dostatek příkladů. Nezapomeňte si příklady zkontrolovat — model je obvykle dost chytrý na to, aby si všiml základních pravopisných chyb a odpověděl vám, ale může si také myslet, že je to záměr, což může ovlivnit odpověď.\n",
    "\n",
    "**Zkontrolujte nastavení.** Nastavení temperature a top_p ovlivňují, jak předvídatelně model generuje odpovědi. Pokud chcete odpověď, kde je jen jedna správná možnost, nastavte je níže. Pokud chcete rozmanitější odpovědi, nastavte je výše. Nejčastější chybou je domnívat se, že tato nastavení ovlivňují „chytrost“ nebo „kreativitu“ modelu.\n",
    "\n",
    "\n",
    "Zdroj: https://learn.microsoft.com/azure/ai-services/openai/overview\n"
   ]
  },
  {
   "attachments": {},
   "cell_type": "markdown",
   "metadata": {
    "nteract": {
     "transient": {
      "deleting": false
     }
    }
   },
   "source": []
  },
  {
   "cell_type": "code",
   "execution_count": null,
   "metadata": {
    "gather": {
     "logged": 1674494935186
    },
    "jupyter": {
     "outputs_hidden": false,
     "source_hidden": false
    },
    "nteract": {
     "transient": {
      "deleting": false
     }
    }
   },
   "outputs": [],
   "source": [
    "# Create your first prompt\n",
    "text_prompt = \"Should oxford commas always be used?\"\n",
    "\n",
    "response = client.chat.completions.create(\n",
    "  model=model,\n",
    "  messages = [{\"role\":\"system\", \"content\":\"You are a helpful assistant.\"},\n",
    "               {\"role\":\"user\",\"content\":text_prompt},])\n",
    "\n",
    "response.choices[0].message.content"
   ]
  },
  {
   "attachments": {},
   "cell_type": "markdown",
   "metadata": {
    "nteract": {
     "transient": {
      "deleting": false
     }
    }
   },
   "source": []
  },
  {
   "cell_type": "code",
   "execution_count": null,
   "metadata": {
    "gather": {
     "logged": 1674494940872
    },
    "jupyter": {
     "outputs_hidden": false,
     "source_hidden": false
    },
    "nteract": {
     "transient": {
      "deleting": false
     }
    }
   },
   "outputs": [],
   "source": [
    "\n",
    "response = client.chat.completions.create(\n",
    "  model=model,\n",
    "  messages = [{\"role\":\"system\", \"content\":\"You are a helpful assistant.\"},\n",
    "               {\"role\":\"user\",\"content\":text_prompt},])\n",
    "\n",
    "response.choices[0].message.content"
   ]
  },
  {
   "attachments": {},
   "cell_type": "markdown",
   "metadata": {
    "nteract": {
     "transient": {
      "deleting": false
     }
    }
   },
   "source": [
    "## Shrnutí textu  \n",
    "#### Výzva  \n",
    "Shrňte text tak, že na konec pasáže přidáte 'tl;dr:'. Všimněte si, jak model chápe, jak provádět různé úkoly bez dalších instrukcí. Můžete zkusit i popisnější výzvy než tl;dr, abyste upravili chování modelu a přizpůsobili si výsledné shrnutí(3).  \n",
    "\n",
    "Nedávné studie ukázaly výrazné zlepšení v mnoha NLP úlohách a benchmarcích díky předtrénování na velkém korpusu textu a následnému doladění na konkrétní úlohu. I když je tato metoda obvykle nezávislá na konkrétním úkolu, stále vyžaduje speciální datasety s tisíci nebo desítkami tisíc příkladů pro doladění. Oproti tomu lidé zvládnou nový jazykový úkol často už po několika příkladech nebo jednoduchých instrukcích – což je něco, s čím mají současné NLP systémy stále potíže. Zde ukazujeme, že zvětšení jazykových modelů výrazně zlepšuje výkonnost v úlohách s málo příklady a bez úpravy na konkrétní úkol, někdy dokonce dosahuje konkurenceschopnosti s předchozími špičkovými metodami doladění. \n",
    "\n",
    "\n",
    "\n",
    "Tl;dr\n"
   ]
  },
  {
   "attachments": {},
   "cell_type": "markdown",
   "metadata": {
    "nteract": {
     "transient": {
      "deleting": false
     }
    }
   },
   "source": [
    "# Cvičení pro různé případy použití  \n",
    "1. Shrnutí textu  \n",
    "2. Klasifikace textu  \n",
    "3. Generování nových názvů produktů\n"
   ]
  },
  {
   "cell_type": "code",
   "execution_count": null,
   "metadata": {
    "gather": {
     "logged": 1674495198534
    },
    "jupyter": {
     "outputs_hidden": false,
     "source_hidden": false
    },
    "nteract": {
     "transient": {
      "deleting": false
     }
    }
   },
   "outputs": [],
   "source": [
    "prompt = \"Recent work has demonstrated substantial gains on many NLP tasks and benchmarks by pre-training on a large corpus of text followed by fine-tuning on a specific task. While typically task-agnostic in architecture, this method still requires task-specific fine-tuning datasets of thousands or tens of thousands of examples. By contrast, humans can generally perform a new language task from only a few examples or from simple instructions - something that current NLP systems still largely struggle to do. Here we show that scaling up language models greatly improves task-agnostic, few-shot performance, sometimes even reaching competitiveness with prior state-of-the-art fine-tuning approaches.\\n\\nTl;dr\"\n"
   ]
  },
  {
   "cell_type": "code",
   "execution_count": null,
   "metadata": {
    "gather": {
     "logged": 1674495201868
    },
    "jupyter": {
     "outputs_hidden": false,
     "source_hidden": false
    },
    "nteract": {
     "transient": {
      "deleting": false
     }
    }
   },
   "outputs": [],
   "source": [
    "#Setting a few additional, typical parameters during API Call\n",
    "\n",
    "response = client.chat.completions.create(\n",
    "  model=model,\n",
    "  messages = [{\"role\":\"system\", \"content\":\"You are a helpful assistant.\"},\n",
    "               {\"role\":\"user\",\"content\":prompt},])\n",
    "\n",
    "response.choices[0].message.content"
   ]
  },
  {
   "attachments": {},
   "cell_type": "markdown",
   "metadata": {
    "nteract": {
     "transient": {
      "deleting": false
     }
    }
   },
   "source": [
    "Reklamace / Servis\n"
   ]
  },
  {
   "cell_type": "code",
   "execution_count": null,
   "metadata": {
    "gather": {
     "logged": 1674499424645
    },
    "jupyter": {
     "outputs_hidden": false,
     "source_hidden": false
    },
    "nteract": {
     "transient": {
      "deleting": false
     }
    }
   },
   "outputs": [],
   "source": [
    "prompt = \"Classify the following inquiry into one of the following: categories: [Pricing, Hardware Support, Software Support]\\n\\ninquiry: Hello, one of the keys on my laptop keyboard broke recently and I'll need a replacement:\\n\\nClassified category:\"\n",
    "print(prompt)"
   ]
  },
  {
   "cell_type": "code",
   "execution_count": null,
   "metadata": {
    "gather": {
     "logged": 1674499378518
    },
    "jupyter": {
     "outputs_hidden": false,
     "source_hidden": false
    },
    "nteract": {
     "transient": {
      "deleting": false
     }
    }
   },
   "outputs": [],
   "source": [
    "#Setting a few additional, typical parameters during API Call\n",
    "\n",
    "response = client.chat.completions.create(\n",
    "  model=model,\n",
    "  messages = [{\"role\":\"system\", \"content\":\"You are a helpful assistant.\"},\n",
    "               {\"role\":\"user\",\"content\":prompt},])\n",
    "\n",
    "response.choices[0].message.content"
   ]
  },
  {
   "attachments": {},
   "cell_type": "markdown",
   "metadata": {
    "nteract": {
     "transient": {
      "deleting": false
     }
    }
   },
   "source": [
    "## Generujte nová jména produktů\n",
    "#### Výzva\n",
    "Vytvářejte názvy produktů na základě ukázkových slov. V zadání uvádíme informace o produktu, pro který chceme názvy generovat. Také přidáváme podobný příklad, abychom ukázali vzor, který si přejeme dostat. Nastavili jsme také vysokou hodnotu parametru temperature, abychom zvýšili náhodnost a získali inovativnější odpovědi.\n",
    "\n",
    "Popis produktu: Domácí výrobník milkshake\n",
    "Klíčová slova: rychlý, zdravý, kompaktní.\n",
    "Názvy produktů: HomeShaker, Fit Shaker, QuickShake, Shake Maker\n",
    "\n",
    "Popis produktu: Pár bot, které padnou na jakoukoliv velikost nohy.\n",
    "Klíčová slova: přizpůsobivý, padnoucí, omni-fit.\n"
   ]
  },
  {
   "cell_type": "code",
   "execution_count": null,
   "metadata": {
    "gather": {
     "logged": 1674257087279
    },
    "jupyter": {
     "outputs_hidden": false,
     "source_hidden": false
    },
    "nteract": {
     "transient": {
      "deleting": false
     }
    }
   },
   "outputs": [],
   "source": [
    "prompt = \"Product description: A home milkshake maker\\nSeed words: fast, healthy, compact.\\nProduct names: HomeShaker, Fit Shaker, QuickShake, Shake Maker\\n\\nProduct description: A pair of shoes that can fit any foot size.\\nSeed words: adaptable, fit, omni-fit.\"\n",
    "\n",
    "print(prompt)"
   ]
  },
  {
   "cell_type": "code",
   "execution_count": null,
   "metadata": {
    "jupyter": {
     "outputs_hidden": false,
     "source_hidden": false
    },
    "nteract": {
     "transient": {
      "deleting": false
     }
    }
   },
   "outputs": [],
   "source": [
    "#Setting a few additional, typical parameters during API Call\n",
    "\n",
    "response = client.chat.completions.create(\n",
    "  model=model,\n",
    "  messages = [{\"role\":\"system\", \"content\":\"You are a helpful assistant.\"},\n",
    "               {\"role\":\"user\",\"content\":prompt}])\n",
    "\n",
    "response.choices[0].message.content"
   ]
  },
  {
   "attachments": {},
   "cell_type": "markdown",
   "metadata": {
    "nteract": {
     "transient": {
      "deleting": false
     }
    }
   },
   "source": [
    "# Odkazy  \n",
    "- [Openai Cookbook](https://github.com/openai/openai-cookbook?WT.mc_id=academic-105485-koreyst)  \n",
    "- [Příklady z OpenAI Studio](https://oai.azure.com/portal?WT.mc_id=academic-105485-koreyst)  \n",
    "- [Nejlepší postupy pro doladění GPT-3 na klasifikaci textu](https://docs.google.com/document/d/1rqj7dkuvl7Byd5KQPUJRxc19BJt8wo0yHNwK84KfU3Q/edit#?WT.mc_id=academic-105485-koreyst)\n"
   ]
  },
  {
   "attachments": {},
   "cell_type": "markdown",
   "metadata": {
    "nteract": {
     "transient": {
      "deleting": false
     }
    }
   },
   "source": [
    "# Pro další pomoc  \n",
    "[OpenAI Commercialization Team](AzureOpenAITeam@microsoft.com)\n"
   ]
  },
  {
   "attachments": {},
   "cell_type": "markdown",
   "metadata": {
    "nteract": {
     "transient": {
      "deleting": false
     }
    }
   },
   "source": [
    "# Přispěvatelé\n",
    "* Louis Li\n"
   ]
  },
  {
   "cell_type": "markdown",
   "metadata": {},
   "source": [
    "\n---\n\n**Prohlášení**:  \nTento dokument byl přeložen pomocí AI překladatelské služby [Co-op Translator](https://github.com/Azure/co-op-translator). Přestože se snažíme o přesnost, mějte prosím na paměti, že automatizované překlady mohou obsahovat chyby nebo nepřesnosti. Za autoritativní zdroj by měl být považován původní dokument v jeho rodném jazyce. Pro důležité informace doporučujeme profesionální lidský překlad. Neodpovídáme za žádná nedorozumění nebo nesprávné výklady vzniklé v důsledku použití tohoto překladu.\n"
   ]
  }
 ],
 "metadata": {
  "kernel_info": {
   "name": "python310-sdkv2"
  },
  "kernelspec": {
   "display_name": "base",
   "language": "python",
   "name": "python3"
  },
  "language_info": {
   "codemirror_mode": {
    "name": "ipython",
    "version": 3
   },
   "file_extension": ".py",
   "mimetype": "text/x-python",
   "name": "python",
   "nbconvert_exporter": "python",
   "pygments_lexer": "ipython3",
   "version": "3.10.13"
  },
  "microsoft": {
   "host": {
    "AzureML": {
     "notebookHasBeenCompleted": true
    }
   }
  },
  "nteract": {
   "version": "nteract-front-end@1.0.0"
  },
  "coopTranslator": {
   "original_hash": "1854bdde1dd56b366f1f6c9122f7d304",
   "translation_date": "2025-08-25T18:27:26+00:00",
   "source_file": "07-building-chat-applications/python/oai-assignment.ipynb",
   "language_code": "cs"
  }
 },
 "nbformat": 4,
 "nbformat_minor": 2
}