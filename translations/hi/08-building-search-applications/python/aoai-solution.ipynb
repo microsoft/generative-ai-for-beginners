{
 "cells": [
  {
   "cell_type": "markdown",
   "metadata": {},
   "source": [
    "निम्नलिखित नोटबुक्स चलाने के लिए, यदि आपने अभी तक नहीं किया है, तो आपको एक मॉडल डिप्लॉय करना होगा जो `text-embedding-ada-002` को बेस मॉडल के रूप में उपयोग करता है और .env फाइल में डिप्लॉयमेंट नाम को `AZURE_OPENAI_EMBEDDINGS_ENDPOINT` के रूप में सेट करना होगा।\n"
   ]
  },
  {
   "cell_type": "code",
   "execution_count": null,
   "metadata": {},
   "outputs": [],
   "source": [
    "import os\n",
    "import pandas as pd\n",
    "import numpy as np\n",
    "from openai import AzureOpenAI\n",
    "from dotenv import load_dotenv\n",
    "\n",
    "load_dotenv()\n",
    "\n",
    "client = AzureOpenAI(\n",
    "  api_key=os.environ['AZURE_OPENAI_API_KEY'],  # this is also the default, it can be omitted\n",
    "  api_version = \"2023-05-15\"\n",
    "  )\n",
    "\n",
    "model = os.environ['AZURE_OPENAI_EMBEDDINGS_DEPLOYMENT']\n",
    "\n",
    "SIMILARITIES_RESULTS_THRESHOLD = 0.75\n",
    "DATASET_NAME = \"../embedding_index_3m.json\""
   ]
  },
  {
   "cell_type": "markdown",
   "metadata": {},
   "source": [
    "अगला, हम एम्बेडिंग इंडेक्स को एक पांडा डेटाफ़्रेम में लोड करने जा रहे हैं। एम्बेडिंग इंडेक्स एक JSON फ़ाइल में संग्रहित है जिसका नाम `embedding_index_3m.json` है। एम्बेडिंग इंडेक्स में प्रत्येक YouTube ट्रांसक्रिप्ट के लिए एम्बेडिंग्स शामिल हैं, जो अक्टूबर 2023 के अंत तक के हैं।\n"
   ]
  },
  {
   "cell_type": "code",
   "execution_count": null,
   "metadata": {},
   "outputs": [],
   "source": [
    "def load_dataset(source: str) -> pd.core.frame.DataFrame:\n",
    "    # Load the video session index\n",
    "    pd_vectors = pd.read_json(source)\n",
    "    return pd_vectors.drop(columns=[\"text\"], errors=\"ignore\").fillna(\"\")"
   ]
  },
  {
   "cell_type": "markdown",
   "metadata": {},
   "source": [
    "अब हम एक फ़ंक्शन बनाएंगे जिसका नाम `get_videos` होगा, जो क्वेरी के लिए Embedding Index में खोज करेगा। यह फ़ंक्शन क्वेरी से सबसे ज़्यादा मिलते-जुलते टॉप 5 वीडियो लौटाएगा। यह फ़ंक्शन इस तरह काम करता है:\n",
    "\n",
    "1. सबसे पहले, Embedding Index की एक कॉपी बनाई जाती है।\n",
    "2. इसके बाद, क्वेरी के लिए Embedding को OpenAI Embedding API की मदद से निकाला जाता है।\n",
    "3. फिर Embedding Index में एक नया कॉलम बनाया जाता है जिसका नाम `similarity` है। इस कॉलम में क्वेरी Embedding और हर वीडियो सेगमेंट के Embedding के बीच की कोसाइन सिमिलैरिटी होती है।\n",
    "4. इसके बाद, Embedding Index को `similarity` कॉलम के आधार पर फ़िल्टर किया जाता है। इसमें सिर्फ़ वही वीडियो शामिल किए जाते हैं जिनकी कोसाइन सिमिलैरिटी 0.75 या उससे ज़्यादा है।\n",
    "5. अंत में, Embedding Index को `similarity` कॉलम के अनुसार सॉर्ट किया जाता है और टॉप 5 वीडियो लौटाए जाते हैं।\n"
   ]
  },
  {
   "cell_type": "code",
   "execution_count": null,
   "metadata": {},
   "outputs": [],
   "source": [
    "def cosine_similarity(a, b):\n",
    "    if len(a) > len(b):\n",
    "        b = np.pad(b, (0, len(a) - len(b)), 'constant')\n",
    "    elif len(b) > len(a):\n",
    "        a = np.pad(a, (0, len(b) - len(a)), 'constant')\n",
    "    return np.dot(a, b) / (np.linalg.norm(a) * np.linalg.norm(b))\n",
    "\n",
    "def get_videos(\n",
    "    query: str, dataset: pd.core.frame.DataFrame, rows: int\n",
    ") -> pd.core.frame.DataFrame:\n",
    "    # create a copy of the dataset\n",
    "    video_vectors = dataset.copy()\n",
    "\n",
    "    # get the embeddings for the query    \n",
    "    query_embeddings = client.embeddings.create(input=query, model=model).data[0].embedding\n",
    "\n",
    "    # create a new column with the calculated similarity for each row\n",
    "    video_vectors[\"similarity\"] = video_vectors[\"ada_v2\"].apply(\n",
    "        lambda x: cosine_similarity(np.array(query_embeddings), np.array(x))\n",
    "    )\n",
    "\n",
    "    # filter the videos by similarity\n",
    "    mask = video_vectors[\"similarity\"] >= SIMILARITIES_RESULTS_THRESHOLD\n",
    "    video_vectors = video_vectors[mask].copy()\n",
    "\n",
    "    # sort the videos by similarity\n",
    "    video_vectors = video_vectors.sort_values(by=\"similarity\", ascending=False).head(\n",
    "        rows\n",
    "    )\n",
    "\n",
    "    # return the top rows\n",
    "    return video_vectors.head(rows)"
   ]
  },
  {
   "cell_type": "markdown",
   "metadata": {},
   "source": [
    "यह फ़ंक्शन बहुत सरल है, यह बस खोज क्वेरी के परिणामों को प्रिंट करता है।\n"
   ]
  },
  {
   "cell_type": "code",
   "execution_count": null,
   "metadata": {},
   "outputs": [],
   "source": [
    "def display_results(videos: pd.core.frame.DataFrame, query: str):\n",
    "    def _gen_yt_url(video_id: str, seconds: int) -> str:\n",
    "        \"\"\"convert time in format 00:00:00 to seconds\"\"\"\n",
    "        return f\"https://youtu.be/{video_id}?t={seconds}\"\n",
    "\n",
    "    print(f\"\\nVideos similar to '{query}':\")\n",
    "    for _, row in videos.iterrows():\n",
    "        youtube_url = _gen_yt_url(row[\"videoId\"], row[\"seconds\"])\n",
    "        print(f\" - {row['title']}\")\n",
    "        print(f\"   Summary: {' '.join(row['summary'].split()[:15])}...\")\n",
    "        print(f\"   YouTube: {youtube_url}\")\n",
    "        print(f\"   Similarity: {row['similarity']}\")\n",
    "        print(f\"   Speakers: {row['speaker']}\")"
   ]
  },
  {
   "cell_type": "markdown",
   "metadata": {},
   "source": [
    "1. सबसे पहले, Embedding Index को एक Pandas Dataframe में लोड किया जाता है।\n",
    "2. इसके बाद, उपयोगकर्ता से एक क्वेरी दर्ज करने के लिए कहा जाता है।\n",
    "3. फिर `get_videos` फंक्शन को क्वेरी के लिए Embedding Index में खोज करने के लिए कॉल किया जाता है।\n",
    "4. अंत में, `display_results` फंक्शन को परिणाम उपयोगकर्ता को दिखाने के लिए कॉल किया जाता है।\n",
    "5. इसके बाद उपयोगकर्ता से एक और क्वेरी दर्ज करने के लिए कहा जाता है। यह प्रक्रिया तब तक चलती रहती है जब तक उपयोगकर्ता `exit` नहीं लिखता।\n",
    "\n",
    "![](../../../../translated_images/notebook-search.1e320b9c7fcbb0bc1436d98ea6ee73b4b54ca47990a1c952b340a2cadf8ac1ca.hi.png)\n",
    "\n",
    "आपसे एक क्वेरी दर्ज करने के लिए कहा जाएगा। कोई क्वेरी लिखें और एंटर दबाएँ। एप्लिकेशन उस क्वेरी से संबंधित वीडियो की एक सूची लौटाएगा। एप्लिकेशन उस वीडियो के उस हिस्से का लिंक भी देगा जहाँ आपके सवाल का जवाब मौजूद है।\n",
    "\n",
    "यहाँ कुछ क्वेरीज़ दी गई हैं जिन्हें आप आज़मा सकते हैं:\n",
    "\n",
    "- Azure Machine Learning क्या है?\n",
    "- Convolutional neural networks कैसे काम करते हैं?\n",
    "- Neural network क्या है?\n",
    "- क्या मैं Jupyter Notebooks को Azure Machine Learning के साथ इस्तेमाल कर सकता हूँ?\n",
    "- ONNX क्या है?\n"
   ]
  },
  {
   "cell_type": "code",
   "execution_count": null,
   "metadata": {},
   "outputs": [],
   "source": [
    "pd_vectors = load_dataset(DATASET_NAME)\n",
    "\n",
    "# get user query from imput\n",
    "while True:\n",
    "    query = input(\"Enter a query: \")\n",
    "    if query == \"exit\":\n",
    "        break\n",
    "    videos = get_videos(query, pd_vectors, 5)\n",
    "    display_results(videos, query)"
   ]
  },
  {
   "cell_type": "markdown",
   "metadata": {},
   "source": []
  },
  {
   "cell_type": "markdown",
   "metadata": {},
   "source": [
    "\n---\n\n**अस्वीकरण**:  \nयह दस्तावेज़ AI अनुवाद सेवा [Co-op Translator](https://github.com/Azure/co-op-translator) का उपयोग करके अनुवादित किया गया है। यद्यपि हम सटीकता के लिए प्रयासरत हैं, कृपया ध्यान दें कि स्वचालित अनुवादों में त्रुटियाँ या गलतियाँ हो सकती हैं। मूल भाषा में उपलब्ध मूल दस्तावेज़ को ही प्रामाणिक स्रोत माना जाना चाहिए। महत्वपूर्ण जानकारी के लिए, पेशेवर मानव अनुवाद की सिफारिश की जाती है। इस अनुवाद के उपयोग से उत्पन्न किसी भी गलतफहमी या गलत व्याख्या के लिए हम उत्तरदायी नहीं हैं।\n"
   ]
  }
 ],
 "metadata": {
  "kernelspec": {
   "display_name": "venv",
   "language": "python",
   "name": "python3"
  },
  "language_info": {
   "codemirror_mode": {
    "name": "ipython",
    "version": 3
   },
   "file_extension": ".py",
   "mimetype": "text/x-python",
   "name": "python",
   "nbconvert_exporter": "python",
   "pygments_lexer": "ipython3",
   "version": "3.10.13"
  },
  "coopTranslator": {
   "original_hash": "32c6b8e9e87156b9c63ee62a6fd7f526",
   "translation_date": "2025-08-25T18:41:03+00:00",
   "source_file": "08-building-search-applications/python/aoai-solution.ipynb",
   "language_code": "hi"
  }
 },
 "nbformat": 4,
 "nbformat_minor": 2
}