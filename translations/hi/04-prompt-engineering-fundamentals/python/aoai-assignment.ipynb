{
 "cells": [
  {
   "cell_type": "markdown",
   "metadata": {},
   "source": [
    "निम्नलिखित नोटबुक GitHub Copilot Chat द्वारा स्वचालित रूप से जनरेट की गई थी और केवल प्रारंभिक सेटअप के लिए है\n"
   ]
  },
  {
   "cell_type": "markdown",
   "metadata": {},
   "source": [
    "# प्रॉम्प्ट इंजीनियरिंग का परिचय\n",
    "प्रॉम्प्ट इंजीनियरिंग प्राकृतिक भाषा प्रसंस्करण कार्यों के लिए प्रॉम्प्ट्स को डिज़ाइन और अनुकूलित करने की प्रक्रिया है। इसमें सही प्रॉम्प्ट्स का चयन करना, उनके पैरामीटर्स को ट्यून करना, और उनके प्रदर्शन का मूल्यांकन करना शामिल है। प्रॉम्प्ट इंजीनियरिंग एनएलपी मॉडल्स में उच्च सटीकता और दक्षता प्राप्त करने के लिए बहुत महत्वपूर्ण है। इस अनुभाग में, हम OpenAI मॉडल्स का उपयोग करके प्रॉम्प्ट इंजीनियरिंग की मूल बातें जानेंगे।\n"
   ]
  },
  {
   "cell_type": "markdown",
   "metadata": {},
   "source": [
    "### अभ्यास 1: टोकनाइज़ेशन\n",
    "tiktoken का उपयोग करके टोकनाइज़ेशन को एक्सप्लोर करें, जो OpenAI का एक ओपन-सोर्स और तेज़ टोकनाइज़र है  \n",
    "अधिक उदाहरणों के लिए [OpenAI Cookbook](https://github.com/openai/openai-cookbook/blob/main/examples/How_to_count_tokens_with_tiktoken.ipynb?WT.mc_id=academic-105485-koreyst) देखें।\n"
   ]
  },
  {
   "cell_type": "code",
   "execution_count": null,
   "metadata": {},
   "outputs": [],
   "source": [
    "# EXERCISE:\n",
    "# 1. Run the exercise as is first\n",
    "# 2. Change the text to any prompt input you want to use & re-run to see tokens\n",
    "\n",
    "import tiktoken\n",
    "\n",
    "# Define the prompt you want tokenized\n",
    "text = f\"\"\"\n",
    "Jupiter is the fifth planet from the Sun and the \\\n",
    "largest in the Solar System. It is a gas giant with \\\n",
    "a mass one-thousandth that of the Sun, but two-and-a-half \\\n",
    "times that of all the other planets in the Solar System combined. \\\n",
    "Jupiter is one of the brightest objects visible to the naked eye \\\n",
    "in the night sky, and has been known to ancient civilizations since \\\n",
    "before recorded history. It is named after the Roman god Jupiter.[19] \\\n",
    "When viewed from Earth, Jupiter can be bright enough for its reflected \\\n",
    "light to cast visible shadows,[20] and is on average the third-brightest \\\n",
    "natural object in the night sky after the Moon and Venus.\n",
    "\"\"\"\n",
    "\n",
    "# Set the model you want encoding for\n",
    "encoding = tiktoken.encoding_for_model(\"gpt-3.5-turbo\")\n",
    "\n",
    "# Encode the text - gives you the tokens in integer form\n",
    "tokens = encoding.encode(text)\n",
    "print(tokens);\n",
    "\n",
    "# Decode the integers to see what the text versions look like\n",
    "[encoding.decode_single_token_bytes(token) for token in tokens]"
   ]
  },
  {
   "cell_type": "markdown",
   "metadata": {},
   "source": [
    "### अभ्यास 2: OpenAI API कुंजी सेटअप की पुष्टि करें\n",
    "\n",
    "नीचे दिया गया कोड चलाएँ ताकि आप यह सुनिश्चित कर सकें कि आपका OpenAI एंडपॉइंट सही तरीके से सेटअप हुआ है। यह कोड एक साधारण बेसिक प्रॉम्प्ट आज़माता है और उसके पूरा होने की पुष्टि करता है। इनपुट `oh say can you see` का पूरा होना कुछ इस तरह होना चाहिए: `by the dawn's early light..`\n"
   ]
  },
  {
   "cell_type": "code",
   "execution_count": null,
   "metadata": {},
   "outputs": [],
   "source": [
    "# The OpenAI SDK was updated on Nov 8, 2023 with new guidance for migration\n",
    "# See: https://github.com/openai/openai-python/discussions/742\n",
    "\n",
    "## Updated\n",
    "import os\n",
    "from openai import AzureOpenAI\n",
    "from dotenv import load_dotenv\n",
    "load_dotenv()\n",
    "\n",
    "client = AzureOpenAI(\n",
    "  api_key=os.environ['AZURE_OPENAI_API_KEY'],  # this is also the default, it can be omitted\n",
    "  api_version = \"2023-05-15\"\n",
    "  )\n",
    "\n",
    "deployment=os.environ['AZURE_OPENAI_DEPLOYMENT']\n",
    "\n",
    "## Updated\n",
    "def get_completion(prompt):\n",
    "    messages = [{\"role\": \"user\", \"content\": prompt}]       \n",
    "    response = client.chat.completions.create(   \n",
    "        model=deployment,                                         \n",
    "        messages=messages,\n",
    "        temperature=0, # this is the degree of randomness of the model's output\n",
    "        max_tokens=1024\n",
    "    )\n",
    "    return response.choices[0].message.content\n",
    "\n",
    "## ---------- Call the helper method\n",
    "\n",
    "### 1. Set primary content or prompt text\n",
    "text = f\"\"\"\n",
    "oh say can you see\n",
    "\"\"\"\n",
    "\n",
    "### 2. Use that in the prompt template below\n",
    "prompt = f\"\"\"\n",
    "```{text}```\n",
    "\"\"\"\n",
    "\n",
    "## 3. Run the prompt\n",
    "response = get_completion(prompt)\n",
    "print(response)"
   ]
  },
  {
   "cell_type": "markdown",
   "metadata": {},
   "source": [
    "### अभ्यास 3: मनगढ़ंत बातें  \n",
    "यह जानें कि जब आप LLM से ऐसे विषय पर उत्तर देने के लिए कहें जो शायद अस्तित्व में ही न हो, या ऐसे विषय पर पूछें जिसके बारे में उसे जानकारी न हो क्योंकि वह उसके प्री-ट्रेंड डेटा सेट के बाहर है (जैसे हाल की जानकारी), तो क्या होता है। देखें कि अगर आप कोई दूसरा प्रॉम्प्ट या कोई दूसरा मॉडल आज़माते हैं तो उत्तर कैसे बदलता है।\n"
   ]
  },
  {
   "cell_type": "code",
   "execution_count": null,
   "metadata": {},
   "outputs": [],
   "source": [
    "\n",
    "## Set the text for simple prompt or primary content\n",
    "## Prompt shows a template format with text in it - add cues, commands etc if needed\n",
    "## Run the completion \n",
    "text = f\"\"\"\n",
    "generate a lesson plan on the Martian War of 2076.\n",
    "\"\"\"\n",
    "\n",
    "prompt = f\"\"\"\n",
    "```{text}```\n",
    "\"\"\"\n",
    "\n",
    "response = get_completion(prompt)\n",
    "print(response)"
   ]
  },
  {
   "cell_type": "markdown",
   "metadata": {},
   "source": [
    "### अभ्यास 4: निर्देश आधारित  \n",
    "\"text\" वेरिएबल का उपयोग मुख्य सामग्री सेट करने के लिए करें  \n",
    "और \"prompt\" वेरिएबल का उपयोग उस मुख्य सामग्री से संबंधित एक निर्देश देने के लिए करें।\n",
    "\n",
    "यहाँ हम मॉडल से कहते हैं कि वह दिए गए पाठ का सारांश दूसरी कक्षा के छात्र के लिए बनाए।\n"
   ]
  },
  {
   "cell_type": "code",
   "execution_count": null,
   "metadata": {},
   "outputs": [],
   "source": [
    "# Test Example\n",
    "# https://platform.openai.com/playground/p/default-summarize\n",
    "\n",
    "## Example text\n",
    "text = f\"\"\"\n",
    "Jupiter is the fifth planet from the Sun and the \\\n",
    "largest in the Solar System. It is a gas giant with \\\n",
    "a mass one-thousandth that of the Sun, but two-and-a-half \\\n",
    "times that of all the other planets in the Solar System combined. \\\n",
    "Jupiter is one of the brightest objects visible to the naked eye \\\n",
    "in the night sky, and has been known to ancient civilizations since \\\n",
    "before recorded history. It is named after the Roman god Jupiter.[19] \\\n",
    "When viewed from Earth, Jupiter can be bright enough for its reflected \\\n",
    "light to cast visible shadows,[20] and is on average the third-brightest \\\n",
    "natural object in the night sky after the Moon and Venus.\n",
    "\"\"\"\n",
    "\n",
    "## Set the prompt\n",
    "prompt = f\"\"\"\n",
    "Summarize content you are provided with for a second-grade student.\n",
    "```{text}```\n",
    "\"\"\"\n",
    "\n",
    "## Run the prompt\n",
    "response = get_completion(prompt)\n",
    "print(response)"
   ]
  },
  {
   "cell_type": "markdown",
   "metadata": {},
   "source": [
    "### अभ्यास 5: जटिल प्रॉम्प्ट  \n",
    "एक ऐसा अनुरोध आज़माएँ जिसमें सिस्टम, यूज़र और असिस्टेंट संदेश हों  \n",
    "सिस्टम असिस्टेंट का संदर्भ सेट करता है  \n",
    "यूज़र और असिस्टेंट संदेश बहु-चरणीय बातचीत का संदर्भ प्रदान करते हैं\n",
    "\n",
    "ध्यान दें कि सिस्टम संदर्भ में असिस्टेंट की पर्सनैलिटी \"व्यंग्यात्मक\" रखी गई है।  \n",
    "कोई अलग पर्सनैलिटी संदर्भ आज़माएँ। या इनपुट/आउटपुट संदेशों की कोई अलग श्रृंखला आज़माएँ\n"
   ]
  },
  {
   "cell_type": "code",
   "execution_count": null,
   "metadata": {},
   "outputs": [],
   "source": [
    "response = client.chat.completions.create(\n",
    "    model=deployment,\n",
    "    messages=[\n",
    "        {\"role\": \"system\", \"content\": \"You are a sarcastic assistant.\"},\n",
    "        {\"role\": \"user\", \"content\": \"Who won the world series in 2020?\"},\n",
    "        {\"role\": \"assistant\", \"content\": \"Who do you think won? The Los Angeles Dodgers of course.\"},\n",
    "        {\"role\": \"user\", \"content\": \"Where was it played?\"}\n",
    "    ]\n",
    ")\n",
    "print(response.choices[0].message.content)"
   ]
  },
  {
   "cell_type": "markdown",
   "metadata": {},
   "source": [
    "### अभ्यास: अपनी सहज बुद्धि को जानें\n",
    "ऊपर दिए गए उदाहरण आपको ऐसे पैटर्न देते हैं जिनका उपयोग आप नए प्रॉम्प्ट (सरल, जटिल, निर्देश आदि) बनाने के लिए कर सकते हैं - कुछ और अभ्यास बनाने की कोशिश करें ताकि आप उन अन्य विचारों को भी खोज सकें जिनके बारे में हमने बात की है, जैसे उदाहरण, संकेत और बहुत कुछ।\n"
   ]
  },
  {
   "cell_type": "markdown",
   "metadata": {},
   "source": [
    "\n---\n\n**अस्वीकरण**:  \nयह दस्तावेज़ AI अनुवाद सेवा [Co-op Translator](https://github.com/Azure/co-op-translator) का उपयोग करके अनुवादित किया गया है। यद्यपि हम सटीकता के लिए प्रयासरत हैं, कृपया ध्यान दें कि स्वचालित अनुवादों में त्रुटियाँ या गलतियाँ हो सकती हैं। मूल भाषा में उपलब्ध मूल दस्तावेज़ को ही प्रामाणिक स्रोत माना जाना चाहिए। महत्वपूर्ण जानकारी के लिए, पेशेवर मानव अनुवाद की सिफारिश की जाती है। इस अनुवाद के उपयोग से उत्पन्न किसी भी गलतफहमी या गलत व्याख्या के लिए हम उत्तरदायी नहीं हैं।\n"
   ]
  }
 ],
 "metadata": {
  "kernelspec": {
   "display_name": "Python 3 (ipykernel)",
   "language": "python",
   "name": "python3"
  },
  "language_info": {
   "codemirror_mode": {
    "name": "ipython",
    "version": 3
   },
   "file_extension": ".py",
   "mimetype": "text/x-python",
   "name": "python",
   "nbconvert_exporter": "python",
   "pygments_lexer": "ipython3",
   "version": "3.10.13"
  },
  "orig_nbformat": 4,
  "coopTranslator": {
   "original_hash": "9b900544221c8d986e06ee6d25debef7",
   "translation_date": "2025-08-25T13:04:39+00:00",
   "source_file": "04-prompt-engineering-fundamentals/python/aoai-assignment.ipynb",
   "language_code": "hi"
  }
 },
 "nbformat": 4,
 "nbformat_minor": 2
}