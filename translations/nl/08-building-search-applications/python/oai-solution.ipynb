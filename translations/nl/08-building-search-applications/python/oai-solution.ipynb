{
 "cells": [
  {
   "cell_type": "markdown",
   "metadata": {},
   "source": [
    "Om de volgende notebooks uit te voeren, moet je, als je dat nog niet hebt gedaan, de openai-sleutel instellen in het .env-bestand als `OPENAI_API_KEY`\n"
   ]
  },
  {
   "cell_type": "code",
   "execution_count": null,
   "metadata": {},
   "outputs": [],
   "source": [
    "import os\n",
    "import pandas as pd\n",
    "import numpy as np\n",
    "from openai import OpenAI\n",
    "from dotenv import load_dotenv\n",
    "\n",
    "load_dotenv()\n",
    "\n",
    "API_KEY = os.getenv(\"OPENAI_API_KEY\",\"\")\n",
    "assert API_KEY, \"ERROR: OpenAI Key is missing\"\n",
    "\n",
    "client = OpenAI(\n",
    "    api_key=API_KEY\n",
    "    )\n",
    "\n",
    "model = 'text-embedding-ada-002'\n",
    "\n",
    "SIMILARITIES_RESULTS_THRESHOLD = 0.75\n",
    "DATASET_NAME = \"../embedding_index_3m.json\""
   ]
  },
  {
   "cell_type": "markdown",
   "metadata": {},
   "source": [
    "Vervolgens gaan we de Embedding Index laden in een Pandas Dataframe. De Embedding Index is opgeslagen in een JSON-bestand genaamd `embedding_index_3m.json`. De Embedding Index bevat de Embeddings voor elk van de YouTube-transcripten tot eind oktober 2023.\n"
   ]
  },
  {
   "cell_type": "code",
   "execution_count": null,
   "metadata": {},
   "outputs": [],
   "source": [
    "def load_dataset(source: str) -> pd.core.frame.DataFrame:\n",
    "    # Load the video session index\n",
    "    pd_vectors = pd.read_json(source)\n",
    "    return pd_vectors.drop(columns=[\"text\"], errors=\"ignore\").fillna(\"\")"
   ]
  },
  {
   "cell_type": "markdown",
   "metadata": {},
   "source": [
    "Vervolgens gaan we een functie maken genaamd `get_videos` die de Embedding Index doorzoekt op basis van de zoekopdracht. De functie geeft de top 5 video's terug die het meest lijken op de zoekopdracht. De functie werkt als volgt:\n",
    "\n",
    "1. Eerst wordt er een kopie van de Embedding Index gemaakt.\n",
    "2. Daarna wordt de Embedding voor de zoekopdracht berekend met behulp van de OpenAI Embedding API.\n",
    "3. Vervolgens wordt er een nieuwe kolom aangemaakt in de Embedding Index met de naam `similarity`. De kolom `similarity` bevat de cosinus-overeenkomst tussen de Embedding van de zoekopdracht en de Embedding van elk videofragment.\n",
    "4. Daarna wordt de Embedding Index gefilterd op basis van de kolom `similarity`. De Embedding Index wordt zo gefilterd dat alleen video's overblijven met een cosinus-overeenkomst van 0,75 of hoger.\n",
    "5. Tot slot wordt de Embedding Index gesorteerd op de kolom `similarity` en worden de top 5 video's teruggegeven.\n"
   ]
  },
  {
   "cell_type": "code",
   "execution_count": null,
   "metadata": {},
   "outputs": [],
   "source": [
    "def cosine_similarity(a, b):\n",
    "    return np.dot(a, b) / (np.linalg.norm(a) * np.linalg.norm(b))\n",
    "\n",
    "def get_videos(\n",
    "    query: str, dataset: pd.core.frame.DataFrame, rows: int\n",
    ") -> pd.core.frame.DataFrame:\n",
    "    # create a copy of the dataset\n",
    "    video_vectors = dataset.copy()\n",
    "\n",
    "    # get the embeddings for the query    \n",
    "    query_embeddings = client.embeddings.create(input=query, model=model).data[0].embedding\n",
    "\n",
    "    # create a new column with the calculated similarity for each row\n",
    "    video_vectors[\"similarity\"] = video_vectors[\"ada_v2\"].apply(\n",
    "        lambda x: cosine_similarity(np.array(query_embeddings), np.array(x))\n",
    "    )\n",
    "\n",
    "    # filter the videos by similarity\n",
    "    mask = video_vectors[\"similarity\"] >= SIMILARITIES_RESULTS_THRESHOLD\n",
    "    video_vectors = video_vectors[mask].copy()\n",
    "\n",
    "    # sort the videos by similarity\n",
    "    video_vectors = video_vectors.sort_values(by=\"similarity\", ascending=False).head(\n",
    "        rows\n",
    "    )\n",
    "\n",
    "    # return the top rows\n",
    "    return video_vectors.head(rows)"
   ]
  },
  {
   "cell_type": "markdown",
   "metadata": {},
   "source": [
    "Deze functie is heel eenvoudig, ze print gewoon de resultaten van de zoekopdracht.\n"
   ]
  },
  {
   "cell_type": "code",
   "execution_count": null,
   "metadata": {},
   "outputs": [],
   "source": [
    "def display_results(videos: pd.core.frame.DataFrame, query: str):\n",
    "    def _gen_yt_url(video_id: str, seconds: int) -> str:\n",
    "        \"\"\"convert time in format 00:00:00 to seconds\"\"\"\n",
    "        return f\"https://youtu.be/{video_id}?t={seconds}\"\n",
    "\n",
    "    print(f\"\\nVideos similar to '{query}':\")\n",
    "    for _, row in videos.iterrows():\n",
    "        youtube_url = _gen_yt_url(row[\"videoId\"], row[\"seconds\"])\n",
    "        print(f\" - {row['title']}\")\n",
    "        print(f\"   Summary: {' '.join(row['summary'].split()[:15])}...\")\n",
    "        print(f\"   YouTube: {youtube_url}\")\n",
    "        print(f\"   Similarity: {row['similarity']}\")\n",
    "        print(f\"   Speakers: {row['speaker']}\")"
   ]
  },
  {
   "cell_type": "markdown",
   "metadata": {},
   "source": [
    "1. Eerst wordt de Embedding Index geladen in een Pandas Dataframe.\n",
    "2. Vervolgens wordt de gebruiker gevraagd om een zoekopdracht in te voeren.\n",
    "3. Daarna wordt de functie `get_videos` aangeroepen om in de Embedding Index te zoeken naar de zoekopdracht.\n",
    "4. Tot slot wordt de functie `display_results` aangeroepen om de resultaten aan de gebruiker te tonen.\n",
    "5. Daarna wordt de gebruiker opnieuw gevraagd om een zoekopdracht in te voeren. Dit proces herhaalt zich totdat de gebruiker `exit` invoert.\n",
    "\n",
    "![](../../../../translated_images/notebook-search.1e320b9c7fcbb0bc1436d98ea6ee73b4b54ca47990a1c952b340a2cadf8ac1ca.nl.png)\n",
    "\n",
    "Je wordt gevraagd om een zoekopdracht in te voeren. Voer een zoekopdracht in en druk op enter. De applicatie geeft een lijst met video's terug die relevant zijn voor de zoekopdracht. De applicatie geeft ook een link naar het moment in de video waar het antwoord op de vraag te vinden is.\n",
    "\n",
    "Hier zijn enkele zoekopdrachten om uit te proberen:\n",
    "\n",
    "- Wat is Azure Machine Learning?\n",
    "- Hoe werken convolutionele neurale netwerken?\n",
    "- Wat is een neuraal netwerk?\n",
    "- Kan ik Jupyter Notebooks gebruiken met Azure Machine Learning?\n",
    "- Wat is ONNX?\n"
   ]
  },
  {
   "cell_type": "code",
   "execution_count": null,
   "metadata": {},
   "outputs": [],
   "source": [
    "pd_vectors = load_dataset(DATASET_NAME)\n",
    "\n",
    "# get user query from imput\n",
    "while True:\n",
    "    query = input(\"Enter a query: \")\n",
    "    if query == \"exit\":\n",
    "        break\n",
    "    videos = get_videos(query, pd_vectors, 5)\n",
    "    display_results(videos, query)"
   ]
  },
  {
   "cell_type": "markdown",
   "metadata": {},
   "source": []
  },
  {
   "cell_type": "markdown",
   "metadata": {},
   "source": [
    "\n---\n\n**Disclaimer**:\nDit document is vertaald met behulp van de AI-vertalingsdienst [Co-op Translator](https://github.com/Azure/co-op-translator). Hoewel we streven naar nauwkeurigheid, dient u er rekening mee te houden dat geautomatiseerde vertalingen fouten of onnauwkeurigheden kunnen bevatten. Het originele document in de oorspronkelijke taal moet als de gezaghebbende bron worden beschouwd. Voor kritische informatie wordt professionele menselijke vertaling aanbevolen. Wij zijn niet aansprakelijk voor misverstanden of verkeerde interpretaties die voortvloeien uit het gebruik van deze vertaling.\n"
   ]
  }
 ],
 "metadata": {
  "kernelspec": {
   "display_name": "venv",
   "language": "python",
   "name": "python3"
  },
  "language_info": {
   "codemirror_mode": {
    "name": "ipython",
    "version": 3
   },
   "file_extension": ".py",
   "mimetype": "text/x-python",
   "name": "python",
   "nbconvert_exporter": "python",
   "pygments_lexer": "ipython3",
   "version": "3.10.13"
  },
  "coopTranslator": {
   "original_hash": "2c0494ceb4f5fc618a6abda0b5c09c73",
   "translation_date": "2025-08-25T19:00:23+00:00",
   "source_file": "08-building-search-applications/python/oai-solution.ipynb",
   "language_code": "nl"
  }
 },
 "nbformat": 4,
 "nbformat_minor": 2
}